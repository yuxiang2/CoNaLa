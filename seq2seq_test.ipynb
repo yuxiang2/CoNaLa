{
 "cells": [
  {
   "cell_type": "code",
   "execution_count": 1,
   "metadata": {
    "collapsed": true
   },
   "outputs": [],
   "source": [
    "%load_ext autoreload\n",
    "%autoreload 2"
   ]
  },
  {
   "cell_type": "code",
   "execution_count": 2,
   "metadata": {
    "collapsed": true
   },
   "outputs": [],
   "source": [
    "import sys\n",
    "sys.path.append('./preprocessing')\n",
    "sys.path.append('./seq2seq2')"
   ]
  },
  {
   "cell_type": "code",
   "execution_count": 3,
   "metadata": {},
   "outputs": [],
   "source": [
    "from processor import Code_Intent_Pairs, sub_slotmap\n",
    "from model import Seq2Seq\n",
    "from data import get_train_loader, get_test_loader, write_answer_json"
   ]
  },
  {
   "cell_type": "markdown",
   "metadata": {},
   "source": [
    "### Define Hyperparameters"
   ]
  },
  {
   "cell_type": "code",
   "execution_count": 25,
   "metadata": {
    "collapsed": true
   },
   "outputs": [],
   "source": [
    "hyperP = {\n",
    "    ## training parameters\n",
    "    'batch_size' : 32,\n",
    "    'lr' : 1e-3,\n",
    "    'teacher_force_rate' : 0.90,\n",
    "    'max_epochs' : 50,\n",
    "    'lr_keep_rate' : 0.95,  # set to 1.0 to not decrease lr overtime\n",
    "    \n",
    "    ## encoder architecture\n",
    "    'encoder_layers' : 2,\n",
    "    'encoder_embed_size' : 128,\n",
    "    'encoder_hidden_size' : 384,\n",
    "    'encoder_dropout_rate' : 0.3,\n",
    "    \n",
    "    ## decoder architecture\n",
    "    'decoder_layers' : 2,\n",
    "    'decoder_embed_size' : 128,\n",
    "    'decoder_hidden_size' : 384,\n",
    "    'decoder_dropout_rate' : 0.3,\n",
    "    \n",
    "    ## attn architecture\n",
    "    'attn_hidden_size' : 384,\n",
    "    \n",
    "    ## visualization\n",
    "    'print_every': 10,\n",
    "}"
   ]
  },
  {
   "cell_type": "markdown",
   "metadata": {},
   "source": [
    "### Load Data"
   ]
  },
  {
   "cell_type": "code",
   "execution_count": 5,
   "metadata": {
    "collapsed": true
   },
   "outputs": [],
   "source": [
    "code_intent_pair = Code_Intent_Pairs()"
   ]
  },
  {
   "cell_type": "code",
   "execution_count": 6,
   "metadata": {
    "collapsed": true
   },
   "outputs": [],
   "source": [
    "path = 'vocab/'\n",
    "code_intent_pair.load_dict(path)\n",
    "special_symbols = code_intent_pair.get_special_symbols()\n",
    "word_size = code_intent_pair.get_word_size()\n",
    "code_size = code_intent_pair.get_code_size()"
   ]
  },
  {
   "cell_type": "code",
   "execution_count": 7,
   "metadata": {
    "collapsed": true
   },
   "outputs": [],
   "source": [
    "train_path = 'processed_corpus/train.json'\n",
    "train_entries = code_intent_pair.load_entries(train_path)\n",
    "code_intent_pair.pad()"
   ]
  },
  {
   "cell_type": "code",
   "execution_count": 8,
   "metadata": {
    "collapsed": true
   },
   "outputs": [],
   "source": [
    "trainloader = get_train_loader(train_entries, special_symbols, hyperP)"
   ]
  },
  {
   "cell_type": "code",
   "execution_count": 9,
   "metadata": {
    "collapsed": true
   },
   "outputs": [],
   "source": [
    "valid_path = 'processed_corpus/valid.json'\n",
    "valid_entries = code_intent_pair.load_entries(valid_path)\n",
    "code_intent_pair.pad()"
   ]
  },
  {
   "cell_type": "code",
   "execution_count": 10,
   "metadata": {
    "collapsed": true
   },
   "outputs": [],
   "source": [
    "validloader = get_train_loader(valid_entries, special_symbols, hyperP)"
   ]
  },
  {
   "cell_type": "code",
   "execution_count": 11,
   "metadata": {
    "collapsed": true
   },
   "outputs": [],
   "source": [
    "test_path = 'processed_corpus/test.json'\n",
    "test_entries = code_intent_pair.load_entries(test_path)"
   ]
  },
  {
   "cell_type": "code",
   "execution_count": 12,
   "metadata": {
    "collapsed": true
   },
   "outputs": [],
   "source": [
    "testloader = get_test_loader(test_entries)"
   ]
  },
  {
   "cell_type": "markdown",
   "metadata": {},
   "source": [
    "### Define Model"
   ]
  },
  {
   "cell_type": "code",
   "execution_count": 13,
   "metadata": {
    "collapsed": true
   },
   "outputs": [],
   "source": [
    "model = Seq2Seq(word_size, code_size, hyperP)"
   ]
  },
  {
   "cell_type": "markdown",
   "metadata": {},
   "source": [
    "### Training"
   ]
  },
  {
   "cell_type": "code",
   "execution_count": 14,
   "metadata": {
    "collapsed": true
   },
   "outputs": [],
   "source": [
    "import torch\n",
    "import torch.optim as optim\n",
    "from torch.optim.lr_scheduler import LambdaLR\n",
    "optimizer = optim.Adam(model.parameters(), lr=hyperP['lr'])\n",
    "loss_f = torch.nn.CrossEntropyLoss()"
   ]
  },
  {
   "cell_type": "code",
   "execution_count": 15,
   "metadata": {
    "collapsed": true
   },
   "outputs": [],
   "source": [
    "lr_keep_rate = hyperP['lr_keep_rate']\n",
    "if lr_keep_rate != 1.0:\n",
    "    lr_reduce_f = lambda epoch: lr_keep_rate ** epoch\n",
    "    scheduler = LambdaLR(optimizer, lr_lambda=lr_reduce_f)"
   ]
  },
  {
   "cell_type": "code",
   "execution_count": 26,
   "metadata": {
    "collapsed": true
   },
   "outputs": [],
   "source": [
    "def train(model, trainloader, optimizer, loss_f, hyperP):\n",
    "    model.train()\n",
    "    loss_sum = 0\n",
    "    total_correct = 0\n",
    "    size = 0\n",
    "    print_every = hyperP['print_every']\n",
    "    \n",
    "    for i, (inp_seq, original_out_seq, padded_out_seq, out_lens) in enumerate(trainloader):\n",
    "        logits = model(inp_seq, padded_out_seq, out_lens)\n",
    "        loss = loss_f(logits, original_out_seq)\n",
    "        optimizer.zero_grad()\n",
    "        loss.backward()\n",
    "        optimizer.step()\n",
    "\n",
    "        # show stats\n",
    "        loss_sum += loss.item()\n",
    "        _, predictions = torch.max(logits, dim=1)\n",
    "        total_correct += (predictions == original_out_seq).sum()\n",
    "        size += len(original_out_seq)\n",
    "\n",
    "        if (i+1) % print_every == 0:\n",
    "            print('Train: loss:{}\\tacc:{}'.format(loss_sum/print_every, float(total_correct)/size))\n",
    "            loss_sum = 0\n",
    "            total_correct = 0\n",
    "            size = 0\n",
    "    print()"
   ]
  },
  {
   "cell_type": "code",
   "execution_count": 27,
   "metadata": {
    "collapsed": true
   },
   "outputs": [],
   "source": [
    "def valid(model, validloader, loss_f, hyperP):\n",
    "    model.eval()\n",
    "    old_rate = model.change_teacher_force_rate(0.0)\n",
    "    loss_sum = 0\n",
    "    total_correct = 0\n",
    "    size = 0\n",
    "    print_every = hyperP['print_every']\n",
    "    \n",
    "    with torch.no_grad():\n",
    "        for i, (inp_seq, original_out_seq, padded_out_seq, out_lens) in enumerate(validloader):\n",
    "            logits = model(inp_seq, padded_out_seq, out_lens)\n",
    "            loss = loss_f(logits, original_out_seq)\n",
    "\n",
    "            # show stats\n",
    "            loss_sum += loss.item()\n",
    "            _, predictions = torch.max(logits, dim=1)\n",
    "            total_correct += (predictions == original_out_seq).sum()\n",
    "            size += len(original_out_seq)\n",
    "\n",
    "    print('Valid: loss:{}\\tacc:{}'.format(loss_sum/len(validloader), float(total_correct)/size))\n",
    "    model.change_teacher_force_rate(old_rate)\n",
    "    return float(total_correct)/size"
   ]
  },
  {
   "cell_type": "code",
   "execution_count": 28,
   "metadata": {},
   "outputs": [],
   "source": [
    "best_acc = 0.0"
   ]
  },
  {
   "cell_type": "code",
   "execution_count": 62,
   "metadata": {
    "scrolled": false,
    "collapsed": true
   },
   "outputs": [
    {
     "name": "stdout",
     "output_type": "stream",
     "text": [
      "Train: loss:0.18472503498196602\tacc:0.9559518693596906\n"
     ]
    },
    {
     "name": "stdout",
     "output_type": "stream",
     "text": [
      "Train: loss:0.2579076781868935\tacc:0.9315557421792987\n"
     ]
    },
    {
     "name": "stdout",
     "output_type": "stream",
     "text": [
      "Train: loss:0.18371288627386093\tacc:0.9554521276595744\n"
     ]
    },
    {
     "name": "stdout",
     "output_type": "stream",
     "text": [
      "Train: loss:0.19043032974004745\tacc:0.9559371121224659\n"
     ]
    },
    {
     "name": "stdout",
     "output_type": "stream",
     "text": [
      "Train: loss:0.19171097204089166\tacc:0.9508786788058438\n"
     ]
    },
    {
     "name": "stdout",
     "output_type": "stream",
     "text": [
      "Train: loss:0.17079838663339614\tacc:0.9563519411899839\n"
     ]
    },
    {
     "name": "stdout",
     "output_type": "stream",
     "text": [
      "Train: loss:0.17505916729569435\tacc:0.9588051072030835\n"
     ]
    },
    {
     "name": "stdout",
     "output_type": "stream",
     "text": [
      "\n"
     ]
    },
    {
     "name": "stdout",
     "output_type": "stream",
     "text": [
      "Valid: loss:8.07654783129692\tacc:0.2205121401087966\n"
     ]
    },
    {
     "name": "stdout",
     "output_type": "stream",
     "text": [
      "Train: loss:0.1698269799351692\tacc:0.9604641168886979\n"
     ]
    },
    {
     "ename": "KeyboardInterrupt",
     "evalue": "",
     "traceback": [
      "\u001b[0;31m---------------------------------------------------------------------------\u001b[0m",
      "\u001b[0;31mKeyboardInterrupt\u001b[0m                         Traceback (most recent call last)",
      "\u001b[0;32m<ipython-input-62-a5aef33cfbc9>\u001b[0m in \u001b[0;36m<module>\u001b[0;34m()\u001b[0m\n\u001b[1;32m      1\u001b[0m \u001b[0;32mfor\u001b[0m \u001b[0me\u001b[0m \u001b[0;32min\u001b[0m \u001b[0mrange\u001b[0m\u001b[0;34m(\u001b[0m\u001b[0mhyperP\u001b[0m\u001b[0;34m[\u001b[0m\u001b[0;34m'max_epochs'\u001b[0m\u001b[0;34m]\u001b[0m\u001b[0;34m)\u001b[0m\u001b[0;34m:\u001b[0m\u001b[0;34m\u001b[0m\u001b[0m\n\u001b[0;32m----> 2\u001b[0;31m     \u001b[0mtrain\u001b[0m\u001b[0;34m(\u001b[0m\u001b[0mmodel\u001b[0m\u001b[0;34m,\u001b[0m \u001b[0mtrainloader\u001b[0m\u001b[0;34m,\u001b[0m \u001b[0moptimizer\u001b[0m\u001b[0;34m,\u001b[0m \u001b[0mloss_f\u001b[0m\u001b[0;34m,\u001b[0m \u001b[0mhyperP\u001b[0m\u001b[0;34m)\u001b[0m\u001b[0;34m\u001b[0m\u001b[0m\n\u001b[0m\u001b[1;32m      3\u001b[0m     \u001b[0macc\u001b[0m \u001b[0;34m=\u001b[0m \u001b[0mvalid\u001b[0m\u001b[0;34m(\u001b[0m\u001b[0mmodel\u001b[0m\u001b[0;34m,\u001b[0m \u001b[0mvalidloader\u001b[0m\u001b[0;34m,\u001b[0m \u001b[0mloss_f\u001b[0m\u001b[0;34m,\u001b[0m \u001b[0mhyperP\u001b[0m\u001b[0;34m)\u001b[0m\u001b[0;34m\u001b[0m\u001b[0m\n\u001b[1;32m      4\u001b[0m     \u001b[0;32mif\u001b[0m \u001b[0macc\u001b[0m \u001b[0;34m>\u001b[0m \u001b[0mbest_acc\u001b[0m\u001b[0;34m:\u001b[0m\u001b[0;34m\u001b[0m\u001b[0m\n\u001b[1;32m      5\u001b[0m         \u001b[0mbest_acc\u001b[0m \u001b[0;34m=\u001b[0m \u001b[0macc\u001b[0m\u001b[0;34m\u001b[0m\u001b[0m\n",
      "\u001b[0;32m<ipython-input-26-741e2ea9ed47>\u001b[0m in \u001b[0;36mtrain\u001b[0;34m(model, trainloader, optimizer, loss_f, hyperP)\u001b[0m\n\u001b[1;32m     10\u001b[0m         \u001b[0mloss\u001b[0m \u001b[0;34m=\u001b[0m \u001b[0mloss_f\u001b[0m\u001b[0;34m(\u001b[0m\u001b[0mlogits\u001b[0m\u001b[0;34m,\u001b[0m \u001b[0moriginal_out_seq\u001b[0m\u001b[0;34m)\u001b[0m\u001b[0;34m\u001b[0m\u001b[0m\n\u001b[1;32m     11\u001b[0m         \u001b[0moptimizer\u001b[0m\u001b[0;34m.\u001b[0m\u001b[0mzero_grad\u001b[0m\u001b[0;34m(\u001b[0m\u001b[0;34m)\u001b[0m\u001b[0;34m\u001b[0m\u001b[0m\n\u001b[0;32m---> 12\u001b[0;31m         \u001b[0mloss\u001b[0m\u001b[0;34m.\u001b[0m\u001b[0mbackward\u001b[0m\u001b[0;34m(\u001b[0m\u001b[0;34m)\u001b[0m\u001b[0;34m\u001b[0m\u001b[0m\n\u001b[0m\u001b[1;32m     13\u001b[0m         \u001b[0moptimizer\u001b[0m\u001b[0;34m.\u001b[0m\u001b[0mstep\u001b[0m\u001b[0;34m(\u001b[0m\u001b[0;34m)\u001b[0m\u001b[0;34m\u001b[0m\u001b[0m\n\u001b[1;32m     14\u001b[0m \u001b[0;34m\u001b[0m\u001b[0m\n",
      "\u001b[0;32m/anaconda3/lib/python3.6/site-packages/torch/tensor.py\u001b[0m in \u001b[0;36mbackward\u001b[0;34m(self, gradient, retain_graph, create_graph)\u001b[0m\n\u001b[1;32m    100\u001b[0m                 \u001b[0mproducts\u001b[0m\u001b[0;34m.\u001b[0m \u001b[0mDefaults\u001b[0m \u001b[0mto\u001b[0m\u001b[0;31m \u001b[0m\u001b[0;31m`\u001b[0m\u001b[0;31m`\u001b[0m\u001b[0;32mFalse\u001b[0m\u001b[0;31m`\u001b[0m\u001b[0;31m`\u001b[0m\u001b[0;34m.\u001b[0m\u001b[0;34m\u001b[0m\u001b[0m\n\u001b[1;32m    101\u001b[0m         \"\"\"\n\u001b[0;32m--> 102\u001b[0;31m         \u001b[0mtorch\u001b[0m\u001b[0;34m.\u001b[0m\u001b[0mautograd\u001b[0m\u001b[0;34m.\u001b[0m\u001b[0mbackward\u001b[0m\u001b[0;34m(\u001b[0m\u001b[0mself\u001b[0m\u001b[0;34m,\u001b[0m \u001b[0mgradient\u001b[0m\u001b[0;34m,\u001b[0m \u001b[0mretain_graph\u001b[0m\u001b[0;34m,\u001b[0m \u001b[0mcreate_graph\u001b[0m\u001b[0;34m)\u001b[0m\u001b[0;34m\u001b[0m\u001b[0m\n\u001b[0m\u001b[1;32m    103\u001b[0m \u001b[0;34m\u001b[0m\u001b[0m\n\u001b[1;32m    104\u001b[0m     \u001b[0;32mdef\u001b[0m \u001b[0mregister_hook\u001b[0m\u001b[0;34m(\u001b[0m\u001b[0mself\u001b[0m\u001b[0;34m,\u001b[0m \u001b[0mhook\u001b[0m\u001b[0;34m)\u001b[0m\u001b[0;34m:\u001b[0m\u001b[0;34m\u001b[0m\u001b[0m\n",
      "\u001b[0;32m/anaconda3/lib/python3.6/site-packages/torch/autograd/__init__.py\u001b[0m in \u001b[0;36mbackward\u001b[0;34m(tensors, grad_tensors, retain_graph, create_graph, grad_variables)\u001b[0m\n\u001b[1;32m     88\u001b[0m     Variable._execution_engine.run_backward(\n\u001b[1;32m     89\u001b[0m         \u001b[0mtensors\u001b[0m\u001b[0;34m,\u001b[0m \u001b[0mgrad_tensors\u001b[0m\u001b[0;34m,\u001b[0m \u001b[0mretain_graph\u001b[0m\u001b[0;34m,\u001b[0m \u001b[0mcreate_graph\u001b[0m\u001b[0;34m,\u001b[0m\u001b[0;34m\u001b[0m\u001b[0m\n\u001b[0;32m---> 90\u001b[0;31m         allow_unreachable=True)  # allow_unreachable flag\n\u001b[0m\u001b[1;32m     91\u001b[0m \u001b[0;34m\u001b[0m\u001b[0m\n\u001b[1;32m     92\u001b[0m \u001b[0;34m\u001b[0m\u001b[0m\n",
      "\u001b[0;31mKeyboardInterrupt\u001b[0m: "
     ],
     "output_type": "error"
    }
   ],
   "source": [
    "for e in range(hyperP['max_epochs']):\n",
    "    train(model, trainloader, optimizer, loss_f, hyperP)\n",
    "    acc = valid(model, validloader, loss_f, hyperP)\n",
    "    if acc > best_acc:\n",
    "        best_acc = acc\n",
    "        model.save()\n",
    "        print('model saved')\n",
    "    if lr_keep_rate != 1.0:\n",
    "        scheduler.step()"
   ]
  },
  {
   "cell_type": "code",
   "execution_count": 61,
   "metadata": {
    "collapsed": true
   },
   "outputs": [],
   "source": [
    "model.load()"
   ]
  },
  {
   "cell_type": "markdown",
   "metadata": {},
   "source": [
    "### Decoding"
   ]
  },
  {
   "cell_type": "code",
   "execution_count": 63,
   "metadata": {
    "scrolled": false,
    "collapsed": true
   },
   "outputs": [
    {
     "name": "stdout",
     "output_type": "stream",
     "text": [
      "intent:\tsend a signal `signal.SIGUSR1` to the current process\npredicted_greed:\tsys.encode('signal.SIGUSR1' , 1000.encode('signal.SIGUSR1'))\nground_truth:   \tos.kill(os.getpid(), signal.SIGUSR1)\n\n"
     ]
    },
    {
     "name": "stdout",
     "output_type": "stream",
     "text": [
      "intent:\tdecode a hex string '4a4b4c' to UTF-8.\npredicted_greed:\t\"\"\"4a4b4c\"\"\".encode('hex')\nground_truth:   \tbytes.fromhex('4a4b4c').decode('utf-8')\n\n"
     ]
    },
    {
     "name": "stdout",
     "output_type": "stream",
     "text": [
      "intent:\tcheck if all elements in list `myList` are identical\npredicted_greed:\tall(isinstance(x , int) for x in myList)\nground_truth:   \tall(x == myList[0] for x in myList)\n\n"
     ]
    },
    {
     "name": "stdout",
     "output_type": "stream",
     "text": [
      "intent:\tformat number of spaces between strings `Python`, `:` and `Very Good` to be `20`\npredicted_greed:\tprint(Python.format(Python).split('Very Good'))\nground_truth:   \tprint('%*s : %*s' % (20, 'Python', 20, 'Very Good'))\n\nintent:\tHow to convert a string from CP-1251 to UTF-8?\npredicted_greed:\ts.encode('utf-8')\nground_truth:   \td.decode('cp1251').encode('utf8')\n\n"
     ]
    },
    {
     "name": "stdout",
     "output_type": "stream",
     "text": [
      "intent:\tget rid of None values in dictionary `kwargs`\npredicted_greed:\tnext(iter(list(kwargs.values()) , key = lambda x : x [ 1 ])\nground_truth:   \tres = {k: v for k, v in list(kwargs.items()) if v is not None}\n\n"
     ]
    },
    {
     "name": "stdout",
     "output_type": "stream",
     "text": [
      "intent:\tget rid of None values in dictionary `kwargs`\npredicted_greed:\tnext(iter(list(kwargs.values()) , key = lambda x : x [ 1 ])\nground_truth:   \tres = dict((k, v) for k, v in kwargs.items() if v is not None)\n\nintent:\tcapture final output of a chain of system commands `ps -ef | grep something | wc -l`\npredicted_greed:\tos.system('ps -ef | grep something | wc -l')\nground_truth:   \tsubprocess.check_output('ps -ef | grep something | wc -l', shell=True)\n\n"
     ]
    },
    {
     "name": "stdout",
     "output_type": "stream",
     "text": [
      "intent:\tconcatenate a list of strings `['a', 'b', 'c']`\npredicted_greed:\t['a', 'b', 'c'].sort()\nground_truth:   \t\"\"\"\"\"\".join(['a', 'b', 'c'])\n\n"
     ]
    },
    {
     "name": "stdout",
     "output_type": "stream",
     "text": [
      "intent:\tfind intersection data between series `s1` and series `s2`\npredicted_greed:\ts1.groupby(s2).size().reset_index(drop = True)\nground_truth:   \tpd.Series(list(set(s1).intersection(set(s2))))\n\nintent:\tsending http headers to `client`\npredicted_greed:\tclient = client.update()\nground_truth:   \tclient.send('HTTP/1.0 200 OK\\r\\n')\n\n"
     ]
    },
    {
     "name": "stdout",
     "output_type": "stream",
     "text": [
      "intent:\tFormat a datetime string `when` to extract date only\npredicted_greed:\twhen.format(when)\nground_truth:   \tthen = datetime.datetime.strptime(when, '%Y-%m-%d').date()\n\n"
     ]
    },
    {
     "name": "stdout",
     "output_type": "stream",
     "text": [
      "intent:\tsplit a multi-line string `inputString` into separate strings\npredicted_greed:\tprint(re.findall('inputString' , inputString))\nground_truth:   \tinputString.split('\\n')\n\n"
     ]
    },
    {
     "name": "stdout",
     "output_type": "stream",
     "text": [
      "intent:\tSplit a multi-line string ` a \\n b \\r\\n c ` by new line character `\\n`\npredicted_greed:\tre.split('\\n' , 'a \\n b \\r\\n c')\nground_truth:   \t' a \\n b \\r\\n c '.split('\\n')\n\n"
     ]
    },
    {
     "name": "stdout",
     "output_type": "stream",
     "text": [
      "intent:\tconcatenate elements of list `b` by a colon \":\"\npredicted_greed:\tb.sort(key = operator.itemgetter(':'))\nground_truth:   \t\"\"\":\"\"\".join(str(x) for x in b)\n\nintent:\tget the first object from a queryset in django model `Entry`\npredicted_greed:\tEntry.objects.order_by() = True)\nground_truth:   \tEntry.objects.filter()[:1].get()\n\n"
     ]
    },
    {
     "name": "stdout",
     "output_type": "stream",
     "text": [
      "intent:\tCalculate sum over all rows of 2D numpy array\npredicted_greed:\tnp.array(np.arange(a , b) , np.arange((3 , 3)) , axis = 0)\nground_truth:   \ta.sum(axis=1)\n\nintent:\tenable warnings using action 'always'\npredicted_greed:\twebbrowser.parser('always' , 1)\nground_truth:   \twarnings.simplefilter('always')\n\n"
     ]
    },
    {
     "name": "stdout",
     "output_type": "stream",
     "text": [
      "intent:\tconcatenate items of list `l` with a space ' '\npredicted_greed:\tl = map(int , l.decode(''))\nground_truth:   \tprint(' '.join(map(str, l)))\n\nintent:\trun script 'hello.py' with argument 'htmlfilename.htm' on terminal using python executable\npredicted_greed:\tsubprocess.call('hello.py' , 'htmlfilename.htm')\nground_truth:   \tsubprocess.call(['python.exe', 'hello.py', 'htmlfilename.htm'])\n\n"
     ]
    },
    {
     "name": "stdout",
     "output_type": "stream",
     "text": [
      "intent:\tHow can I parse a time string containing milliseconds in it with python?\npredicted_greed:\tstr.format(s)\nground_truth:   \ttime.strptime('30/03/09 16:31:32.123', '%d/%m/%y %H:%M:%S.%f')\n\nintent:\tconvert a string `my_string` with dot and comma into a float number `my_float`\npredicted_greed:\tfloat(my_string.split(','))\nground_truth:   \tmy_float = float(my_string.replace(',', ''))\n\n"
     ]
    },
    {
     "name": "stdout",
     "output_type": "stream",
     "text": [
      "intent:\tconvert a string `123,456.908` with dot and comma into a floating number\npredicted_greed:\t\"\"\"123,456.908\"\"\".join((123,456.908))\nground_truth:   \tfloat('123,456.908'.replace(',', ''))\n\nintent:\tset pythonpath in python script.\npredicted_greed:\tos.system([)\nground_truth:   \tsys.path.append('/path/to/whatever')\n\n"
     ]
    },
    {
     "name": "stdout",
     "output_type": "stream",
     "text": [
      "intent:\tsplit string 'Words, words, words.' using a regex '(\\\\W+)'\npredicted_greed:\tre.split('(\\\\W+)' , 'Words, words, words.')\nground_truth:   \tre.split('(\\\\W+)', 'Words, words, words.')\n\nintent:\topen a file `Output.txt` in append mode\npredicted_greed:\topen = open('Output.txt' , 'r' , os = ',')\nground_truth:   \tfile = open('Output.txt', 'a')\n\n"
     ]
    },
    {
     "name": "stdout",
     "output_type": "stream",
     "text": [
      "intent:\tdownload a file \"http://www.example.com/songs/mp3.mp3\" over HTTP and save to \"mp3.mp3\"\npredicted_greed:\tf = urllib.open('http://www.example.com/songs/mp3.mp3' , 'mp3.mp3').read()\nground_truth:   \turllib.request.urlretrieve('http://www.example.com/songs/mp3.mp3', 'mp3.mp3')\n\nintent:\tdownload a file `url` over HTTP and save to `file_name`\npredicted_greed:\tfile_name = file_name.read(url , file_name)\nground_truth:   \tu = urllib.request.urlopen(url)\nf = open(file_name, 'wb')\nmeta = u.info()\nfile_size = int(meta.getheaders('Content-Length')[0])\nprint(('Downloading: %s Bytes: %s' % (file_name, file_size)))\nfile_size_dl = 0\nblock_sz = 8192\nwhile True:\n    buffer = u.read(block_sz)\n    if (not buffer):\n        break\n    file_size_dl += len(buffer)\n    f.write(buffer)\n    status = ('%10d  [%3.2f%%]' % (file_size_dl, ((file_size_dl * 100.0) / file_size)))\n    status = (status + (chr(8) * (len(status) + 1)))\n    print(status, end=' ')\nf.close()\n\n"
     ]
    },
    {
     "name": "stdout",
     "output_type": "stream",
     "text": [
      "intent:\tdownload a file 'http://www.example.com/' over HTTP\npredicted_greed:\tf = open.open('str_1' , os.path | os.path | os.load | os.load | os.load | os.load)\nground_truth:   \tresponse = urllib.request.urlopen('http://www.example.com/')\nhtml = response.read()\n\nintent:\tdownload a file `url` over HTTP\npredicted_greed:\tImage(os.path.read(url , os.path.read(url))\nground_truth:   \tr = requests.get(url)\n\n"
     ]
    },
    {
     "name": "stdout",
     "output_type": "stream",
     "text": [
      "intent:\tdownload a file `url` over HTTP and save to \"10MB\"\npredicted_greed:\turl.write(open('10MB' , 'rb').read())\nground_truth:   \tresponse = requests.get(url, stream=True)\nwith open('10MB', 'wb') as handle:\n    for data in tqdm(response.iter_content()):\n        handle.write(data)\n\nintent:\targparse add argument with flag '--version' and version action of '%(prog)s 2.0' to parser `parser`\npredicted_greed:\tparser.execute([ = '--version' , '%(prog)s 2.0' = '%(prog)s 2.0')\nground_truth:   \tparser.add_argument('--version', action='version', version='%(prog)s 2.0')\n\n"
     ]
    },
    {
     "name": "stdout",
     "output_type": "stream",
     "text": [
      "intent:\tremove key 'c' from dictionary `d`\npredicted_greed:\td.pop('c' , None)\nground_truth:   \t{i: d[i] for i in d if i != 'c'}\n\n"
     ]
    },
    {
     "name": "stdout",
     "output_type": "stream",
     "text": [
      "intent:\tCreate new DataFrame object by merging columns \"key\" of  dataframes `split_df` and `csv_df` and rename the columns from dataframes `split_df` and `csv_df` with suffix `_left` and `_right` respectively\npredicted_greed:\tpd.merge(split_df , csv_df , how = [ , on = [ 'key' , 'str_1' , 'split_df' ])\nground_truth:   \tpd.merge(split_df, csv_df, on=['key'], suffixes=('_left', '_right'))\n\nintent:\tSplit a string `s` by space with `4` splits\npredicted_greed:\ts.split('4')\nground_truth:   \ts.split(' ', 4)\n\n"
     ]
    },
    {
     "name": "stdout",
     "output_type": "stream",
     "text": [
      "intent:\tread keyboard-input\npredicted_greed:\tos.system())\nground_truth:   \tinput('Enter your input:')\n\nintent:\tenable debug mode on Flask application `app`\npredicted_greed:\tapp.app(app.))\nground_truth:   \tapp.run(debug=True)\n\n"
     ]
    },
    {
     "name": "stdout",
     "output_type": "stream",
     "text": [
      "intent:\tpython save list `mylist` to file object 'save.txt'\npredicted_greed:\tmylist.write('save.txt')\nground_truth:   \tpickle.dump(mylist, open('save.txt', 'wb'))\n\n"
     ]
    },
    {
     "name": "stdout",
     "output_type": "stream",
     "text": [
      "intent:\tMultiply a matrix `P` with a 3d tensor `T` in scipy\npredicted_greed:\tP = [.P(P , T)\nground_truth:   \tscipy.tensordot(P, T, axes=[1, 1]).swapaxes(0, 1)\n\n"
     ]
    },
    {
     "name": "stdout",
     "output_type": "stream",
     "text": [
      "intent:\tCreate 3d array of zeroes of size `(3,3,3)`\npredicted_greed:\tprint(list(itertools.combinations([ (3,3,3) ] , 2 , 7)))\nground_truth:   \tnumpy.zeros((3, 3, 3))\n\nintent:\tcut off the last word of a sentence `content`\npredicted_greed:\tnp.einsum(content)\nground_truth:   \t\"\"\" \"\"\".join(content.split(' ')[:-1])\n\n"
     ]
    },
    {
     "name": "stdout",
     "output_type": "stream",
     "text": [
      "intent:\tconvert scalar `x` to array\npredicted_greed:\tx = np.array(x - 0 , 1)\nground_truth:   \tx = np.asarray(x).reshape(1, -1)[(0), :]\n\n"
     ]
    },
    {
     "name": "stdout",
     "output_type": "stream",
     "text": [
      "intent:\tsum all elements of nested list `L`\npredicted_greed:\tsum(len(x) for x in L)\nground_truth:   \tsum(sum(i) if isinstance(i, list) else i for i in L)\n\nintent:\tconvert hex string '470FC614' to a float number\npredicted_greed:\tint('470FC614' , 0)\nground_truth:   \tstruct.unpack('!f', '470FC614'.decode('hex'))[0]\n\n"
     ]
    },
    {
     "name": "stdout",
     "output_type": "stream",
     "text": [
      "intent:\tMultiple each value by `2` for all keys in a dictionary `my_dict`\npredicted_greed:\tdict((k , v) for k , v in my_dict.items() if v != '2')\nground_truth:   \tmy_dict.update((x, y * 2) for x, y in list(my_dict.items()))\n\nintent:\trunning bash script 'sleep.sh'\npredicted_greed:\tos.system('sleep.sh' , shell = os.os)\nground_truth:   \tsubprocess.call('sleep.sh', shell=True)\n\n"
     ]
    },
    {
     "name": "stdout",
     "output_type": "stream",
     "text": [
      "intent:\tJoin elements of list `l` with a comma `,`\npredicted_greed:\tl.xpath(',' , l)\nground_truth:   \t\"\"\",\"\"\".join(l)\n\nintent:\tmake a comma-separated string from a list `myList`\npredicted_greed:\tmyList = [.join(myList)\nground_truth:   \tmyList = ','.join(map(str, myList))\n\n"
     ]
    },
    {
     "name": "stdout",
     "output_type": "stream",
     "text": [
      "intent:\treverse the list that contains 1 to 10\npredicted_greed:\t[(x + y) for x , y in zip(var_0 , 2) ]\nground_truth:   \tlist(reversed(list(range(10))))\n\nintent:\tremove substring 'bag,' from a string 'lamp, bag, mirror'\npredicted_greed:\tre.sub('lamp, bag, mirror' , 'lamp, bag, mirror' , 'bag,')\nground_truth:   \tprint('lamp, bag, mirror'.replace('bag,', ''))\n\n"
     ]
    },
    {
     "name": "stdout",
     "output_type": "stream",
     "text": [
      "intent:\tReverse the order of words, delimited by `.`, in string `s`\npredicted_greed:\ts.find('.' , 11)\nground_truth:   \t\"\"\".\"\"\".join(s.split('.')[::-1])\n\nintent:\tconvert epoch time represented as milliseconds `s` to string using format '%Y-%m-%d %H:%M:%S.%f'\npredicted_greed:\tprint(s.encode('%Y-%m-%d %H:%M:%S.%f'))\nground_truth:   \tdatetime.datetime.fromtimestamp(s).strftime('%Y-%m-%d %H:%M:%S.%f')\n\n"
     ]
    },
    {
     "name": "stdout",
     "output_type": "stream",
     "text": [
      "intent:\tparse milliseconds epoch time '1236472051807' to format '%Y-%m-%d %H:%M:%S'\npredicted_greed:\t{ = datetime.'1236472051807'('1236472051807' , '%Y-%m-%d %H:%M:%S')\nground_truth:   \ttime.strftime('%Y-%m-%d %H:%M:%S', time.gmtime(1236472051807 / 1000.0))\n\n"
     ]
    },
    {
     "name": "stdout",
     "output_type": "stream",
     "text": [
      "intent:\tget the date 7 days before the current date\npredicted_greed:\tprint(datetime.datetime.utcnow() + datetime.date()) + relativedelta(months = 1)\nground_truth:   \t(datetime.datetime.now() - datetime.timedelta(days=7)).date()\n\n"
     ]
    },
    {
     "name": "stdout",
     "output_type": "stream",
     "text": [
      "intent:\tsum elements at index `column` of each list in list `data`\npredicted_greed:\tcolumn = [(data / j) for i , j in zip(column , data) ]\nground_truth:   \tprint(sum(row[column] for row in data))\n\n"
     ]
    },
    {
     "name": "stdout",
     "output_type": "stream",
     "text": [
      "intent:\tsum columns of a list `array`\npredicted_greed:\tsum(sum(i * j) for i , j in list(array.items()) ])\nground_truth:   \t[sum(row[i] for row in array) for i in range(len(array[0]))]\n\nintent:\tencode binary string 'your string' to base64 code\npredicted_greed:\tint('your string' , 16)\nground_truth:   \tbase64.b64encode(bytes('your string', 'utf-8'))\n\n"
     ]
    },
    {
     "name": "stdout",
     "output_type": "stream",
     "text": [
      "intent:\tcombine list of dictionaries `dicts` with the same keys in each list to a single dictionary\npredicted_greed:\t{ k : dicts [ k ] : v for k , v in list(dicts.items()) }\nground_truth:   \tdict((k, [d[k] for d in dicts]) for k in dicts[0])\n\n"
     ]
    },
    {
     "name": "stdout",
     "output_type": "stream",
     "text": [
      "intent:\tMerge a nested dictionary `dicts` into a flat dictionary by concatenating nested values with the same key `k`\npredicted_greed:\tdicts = { k : k for k , v in list(k.items()) if k in k }\nground_truth:   \t{k: [d[k] for d in dicts] for k in dicts[0]}\n\nintent:\tHow do I get the url parameter in a Flask view\npredicted_greed:\trequest.params.id())\nground_truth:   \trequest.args['myParam']\n\n"
     ]
    },
    {
     "name": "stdout",
     "output_type": "stream",
     "text": [
      "intent:\tidentify duplicate values in list `mylist`\npredicted_greed:\t[(t [ 1 ] , t [ 0 ]) for t in mylist ]\nground_truth:   \t[k for k, v in list(Counter(mylist).items()) if v > 1]\n\n"
     ]
    },
    {
     "name": "stdout",
     "output_type": "stream",
     "text": [
      "intent:\tInsert directory 'apps' into directory `__file__`\npredicted_greed:\tos.os.os(__file__ , os.path.os(__file__ , 'apps'))\nground_truth:   \tsys.path.insert(1, os.path.join(os.path.dirname(__file__), 'apps'))\n\nintent:\tmodify sys.path for python module `subdir`\npredicted_greed:\tsubdir.subdir(subdir)\nground_truth:   \tsys.path.append(os.path.join(os.path.dirname(__file__), 'subdir'))\n\n"
     ]
    },
    {
     "name": "stdout",
     "output_type": "stream",
     "text": [
      "intent:\tInsert a 'None' value into a SQLite3 table.\npredicted_greed:\timportlib.import_module('None' ,.)\nground_truth:   \tdb.execute(\"INSERT INTO present VALUES('test2', ?, 10)\", (None,))\n\nintent:\tflatten list `list_of_menuitems`\npredicted_greed:\tlist_of_menuitems = list(list_of_menuitems)\nground_truth:   \t[image for menuitem in list_of_menuitems for image in menuitem]\n\n"
     ]
    },
    {
     "name": "stdout",
     "output_type": "stream",
     "text": [
      "intent:\tappend elements of a set `b` to a list `a`\npredicted_greed:\ta = a [ : ] for b in a ]\nground_truth:   \ta.extend(b)\n\n"
     ]
    },
    {
     "name": "stdout",
     "output_type": "stream",
     "text": [
      "intent:\tAppend elements of a set to a list in Python\npredicted_greed:\t[(i , j) for i , j in zip(var_0 , 2) ]\nground_truth:   \ta.extend(list(b))\n\nintent:\twrite the data of dataframe `df` into text file `np.txt`\npredicted_greed:\tdf.write('np.txt')\nground_truth:   \tnp.savetxt('c:\\\\data\\\\np.txt', df.values, fmt='%d')\n"
     ]
    },
    {
     "name": "stdout",
     "output_type": "stream",
     "text": [
      "\nintent:\twrite content of DataFrame `df` into text file 'c:\\\\data\\\\pandas.txt'\npredicted_greed:\tdf.rstrip('c:\\\\data\\\\pandas.txt')\nground_truth:   \tdf.to_csv('c:\\\\data\\\\pandas.txt', header=None, index=None, sep=' ', mode='a')\n\n"
     ]
    },
    {
     "name": "stdout",
     "output_type": "stream",
     "text": [
      "intent:\tSplit a string `x` by last occurrence of character `-`\npredicted_greed:\tre.split('-' , x)\nground_truth:   \tprint(x.rpartition('-')[0])\n\nintent:\tget the last part of a string before the character '-'"
     ]
    },
    {
     "name": "stdout",
     "output_type": "stream",
     "text": [
      "\npredicted_greed:\t\"\"\"-\"\"\".split('-' , 1) [ - 1 ]\nground_truth:   \tprint(x.rsplit('-', 1)[0])\n\nintent:\tupload file using FTP\npredicted_greed:\tfor.open(open , file , file.read)\nground_truth:   \tftp.storlines('STOR ' + filename, open(filename, 'r'))\n\nintent:\tadd one to the hidden web element with id 'XYZ' with selenium python script\npredicted_greed:\tdriver.XYZ('XYZ' , headers)\nground_truth:   \tbrowser.execute_script(\"document.getElementById('XYZ').value+='1'\")\n\n"
     ]
    },
    {
     "name": "stdout",
     "output_type": "stream",
     "text": [
      "intent:\tcreate array containing the maximum value of respective elements of array `[2, 3, 4]` and array `[1, 5, 2]`\npredicted_greed:\tnp.array(((x , [2, 3, 4]) ,(([1, 5, 2] , 9)) ,((1 , 9)))\nground_truth:   \tnp.maximum([2, 3, 4], [1, 5, 2])\n\n"
     ]
    },
    {
     "name": "stdout",
     "output_type": "stream",
     "text": [
      "intent:\tprint a list `l` and move first 3 elements to the end of the list\npredicted_greed:\tprint(l , key = lambda x : x [ 1 ])\nground_truth:   \tprint(l[3:] + l[:3])\n\n"
     ]
    },
    {
     "name": "stdout",
     "output_type": "stream",
     "text": [
      "intent:\tloop over files in directory '.'\npredicted_greed:\tos.path.open(os.path.path(os.path.path.path , os.path.path , os.path.path , os.path\nground_truth:   \tfor fn in os.listdir('.'):\n    if os.path.isfile(fn):\n        pass\n\n"
     ]
    },
    {
     "name": "stdout",
     "output_type": "stream",
     "text": [
      "intent:\tloop over files in directory `source`\npredicted_greed:\tos.os(source , os.path(source , 'rb') , os = os)\nground_truth:   \tfor (root, dirs, filenames) in os.walk(source):\n    for f in filenames:\n        pass\n\n"
     ]
    },
    {
     "name": "stdout",
     "output_type": "stream",
     "text": [
      "intent:\tcreate a random list of integers\npredicted_greed:\tlist(itertools.product(* [ 1 , 2 , 3 ]))\nground_truth:   \t[int(1000 * random.random()) for i in range(10000)]\n\n"
     ]
    },
    {
     "name": "stdout",
     "output_type": "stream",
     "text": [
      "intent:\tUsing %f with strftime() in Python to get microseconds\npredicted_greed:\t.format(x ,(x , 100))\nground_truth:   \tdatetime.datetime.now().strftime('%H:%M:%S.%f')\n\n"
     ]
    },
    {
     "name": "stdout",
     "output_type": "stream",
     "text": [
      "intent:\tGoogle App Engine execute GQL query 'SELECT * FROM Schedule WHERE station = $1' with parameter `foo.key()`\npredicted_greed:\tlogging.parser('SELECT * FROM Schedule WHERE station = $1' , 'foo.key()')\nground_truth:   \tdb.GqlQuery('SELECT * FROM Schedule WHERE station = $1', foo.key())\n\n"
     ]
    },
    {
     "name": "stdout",
     "output_type": "stream",
     "text": [
      "intent:\tfilter rows in pandas starting with alphabet 'f' using regular expression.\npredicted_greed:\tre.sub('f' , 'f' , str_2)\nground_truth:   \tdf.b.str.contains('^f')\n\n"
     ]
    },
    {
     "name": "stdout",
     "output_type": "stream",
     "text": [
      "intent:\tprint a 2 dimensional list `tab` as a table with delimiters\npredicted_greed:\tprint('\\n' % ', '.join(tab % tab))\nground_truth:   \tprint('\\n'.join('\\t'.join(str(col) for col in row) for row in tab))\n\n"
     ]
    },
    {
     "name": "stdout",
     "output_type": "stream",
     "text": [
      "intent:\tpandas: delete rows in dataframe `df` based on multiple columns values\npredicted_greed:\tdf [ pd.DataFrame(df.values [ 1 ] , axis = 1)\nground_truth:   \tdf.set_index(list('BC')).drop(tuples, errors='ignore').reset_index()\n\nintent:\tformat the variables `self.goals` and `self.penalties` using string formatting\npredicted_greed:\tformat.format('self.goals' , 'self.penalties')\nground_truth:   \t\"\"\"({:d} goals, ${:d})\"\"\".format(self.goals, self.penalties)\n\n"
     ]
    },
    {
     "name": "stdout",
     "output_type": "stream",
     "text": [
      "intent:\tformat string \"({} goals, ${})\" with variables `goals` and `penalties`\npredicted_greed:\t({} goals, ${}).format(goals ,(({} goals, ${}) , penalties))\nground_truth:   \t\"\"\"({} goals, ${})\"\"\".format(self.goals, self.penalties)\n\nintent:\tformat string \"({0.goals} goals, ${0.penalties})\"\npredicted_greed:\t({0.goals} goals, ${0.penalties}).replace('({0.goals} goals, ${0.penalties})' , '({0.goals} goals, ${0.penalties})')\nground_truth:   \t\"\"\"({0.goals} goals, ${0.penalties})\"\"\".format(self)\n\n"
     ]
    },
    {
     "name": "stdout",
     "output_type": "stream",
     "text": [
      "intent:\tconvert list of lists `L` to list of integers\npredicted_greed:\t[ int(i) for i in L ]\nground_truth:   \t[int(''.join(str(d) for d in x)) for x in L]\n\n"
     ]
    },
    {
     "name": "stdout",
     "output_type": "stream",
     "text": [
      "intent:\tcombine elements of each list in list `L` into digits of a single integer\npredicted_greed:\tlist(itertools.join(map(int , L)))\nground_truth:   \t[''.join(str(d) for d in x) for x in L]\n\n"
     ]
    },
    {
     "name": "stdout",
     "output_type": "stream",
     "text": [
      "intent:\tconvert a list of lists `L` to list of integers\npredicted_greed:\t[ int(i) for i in L ]\nground_truth:   \tL = [int(''.join([str(y) for y in x])) for x in L]\n\n"
     ]
    },
    {
     "name": "stdout",
     "output_type": "stream",
     "text": [
      "intent:\twrite the elements of list `lines` concatenated by special character '\\n' to file `myfile`\npredicted_greed:\tlines.xpath(myfile)\nground_truth:   \tmyfile.write('\\n'.join(lines))\n\n"
     ]
    },
    {
     "name": "stdout",
     "output_type": "stream",
     "text": [
      "intent:\tremoving an element from a list based on a predicate 'X' or 'N'\npredicted_greed:\tlist(itertools.product('X' , N))\nground_truth:   \t[x for x in ['AAT', 'XAC', 'ANT', 'TTA'] if 'X' not in x and 'N' not in x]\n\nintent:\tRemove duplicate words from a string `text` using regex\n"
     ]
    },
    {
     "name": "stdout",
     "output_type": "stream",
     "text": [
      "predicted_greed:\tre.sub(' ' , '\\\\1' , text)\nground_truth:   \ttext = re.sub('\\\\b(\\\\w+)( \\\\1\\\\b)+', '\\\\1', text)\n\nintent:\tcount non zero values in each column in pandas data frame\npredicted_greed:\tdf.groupby(df.index).sum()\nground_truth:   \tdf.astype(bool).sum(axis=1)\n\nintent:\tsearch for string that matches regular expression pattern '(?<!Distillr)\\\\\\\\AcroTray\\\\.exe' in string 'C:\\\\SomeDir\\\\AcroTray.exe'\npredicted_greed:\tre.findall('(?<!Distillr)\\\\\\\\AcroTray\\\\.exe' , 'C:\\\\SomeDir\\\\AcroTray.exe')\nground_truth:   \tre.search('(?<!Distillr)\\\\\\\\AcroTray\\\\.exe', 'C:\\\\SomeDir\\\\AcroTray.exe')\n\n"
     ]
    },
    {
     "name": "stdout",
     "output_type": "stream",
     "text": [
      "intent:\tsplit string 'QH QD JC KD JS' into a list on white spaces\npredicted_greed:\tre.findall('QH QD JC KD JS' , 'QH QD JC KD JS')\nground_truth:   \t\"\"\"QH QD JC KD JS\"\"\".split()\n\n"
     ]
    },
    {
     "name": "stdout",
     "output_type": "stream",
     "text": [
      "intent:\tsearch for occurrences of regex pattern '>.*<' in xml string `line`\npredicted_greed:\tre.findall('>.*<' , line)\nground_truth:   \tprint(re.search('>.*<', line).group(0))\n\n"
     ]
    },
    {
     "name": "stdout",
     "output_type": "stream",
     "text": [
      "intent:\terase all the contents of a file `filename`\npredicted_greed:\topen('filename' , 'w').close()\nground_truth:   \topen(filename, 'w').close()\n\n"
     ]
    },
    {
     "name": "stdout",
     "output_type": "stream",
     "text": [
      "intent:\tconvert a string into datetime using the format '%Y-%m-%d %H:%M:%S.%f'\npredicted_greed:\tdatetime.datetime.strptime('%Y-%m-%d %H:%M:%S.%f' , '%Y-%m-%d %H:%M:%S.%f')\nground_truth:   \tdatetime.datetime.strptime(string_date, '%Y-%m-%d %H:%M:%S.%f')\n\n"
     ]
    },
    {
     "name": "stdout",
     "output_type": "stream",
     "text": [
      "intent:\tfind the index of a list with the first element equal to '332' within the list of lists `thelist`\npredicted_greed:\t[ x for x in thelist if x [ 2 ] == 0 ]\nground_truth:   \t[index for index, item in enumerate(thelist) if item[0] == '332']\n\n"
     ]
    },
    {
     "name": "stdout",
     "output_type": "stream",
     "text": [
      "intent:\tlower a string `text` and remove non-alphanumeric characters aside from space\npredicted_greed:\tre.findall('' , text)\nground_truth:   \tre.sub('[^\\\\sa-zA-Z0-9]', '', text).lower().strip()\n\n"
     ]
    },
    {
     "name": "stdout",
     "output_type": "stream",
     "text": [
      "intent:\tremove all non-alphanumeric characters except space from a string `text` and lower it\npredicted_greed:\tre.sub('' , '' , text)\nground_truth:   \tre.sub('(?!\\\\s)[\\\\W_]', '', text).lower().strip()\n\n"
     ]
    },
    {
     "name": "stdout",
     "output_type": "stream",
     "text": [
      "intent:\tsubscript text 'H20' with '2' as subscripted in matplotlib labels for arrays 'x' and 'y'.\npredicted_greed:\t2.replace((H20 , 2 , 'x'))\nground_truth:   \tplt.plot(x, y, label='H\\u2082O')\n\n"
     ]
    },
    {
     "name": "stdout",
     "output_type": "stream",
     "text": [
      "intent:\tsubscript text 'H20' with '2' as subscripted in matplotlib labels for arrays 'x' and 'y'.\npredicted_greed:\t2.replace((H20 , 2 , 'x'))\nground_truth:   \tplt.plot(x, y, label='$H_2O$')\n\n"
     ]
    },
    {
     "name": "stdout",
     "output_type": "stream",
     "text": [
      "intent:\tloop over a list `mylist` if sublists length equals 3\npredicted_greed:\tmylist = [ mylist [ i : i + 2 ] for i in range(0 , len(mylist) , var_1) ]\nground_truth:   \t[x for x in mylist if len(x) == 3]\n\n"
     ]
    },
    {
     "name": "stdout",
     "output_type": "stream",
     "text": [
      "intent:\tinitialize a list `lst` of 100 objects Object()\npredicted_greed:\tlst = [(i + 0) for i in range(0) ]\nground_truth:   \tlst = [Object() for _ in range(100)]\n\nintent:\tcreate list `lst` containing 100 instances of object `Object`\npredicted_greed:\tlst = Object [ : ] = Object\nground_truth:   \tlst = [Object() for i in range(100)]\n\n"
     ]
    },
    {
     "name": "stdout",
     "output_type": "stream",
     "text": [
      "intent:\tget the content of child tag with`href` attribute whose parent has css `someclass`\npredicted_greed:\ttext.href(** = someclass)\nground_truth:   \tself.driver.find_element_by_css_selector('.someclass a').get_attribute('href')\n\n"
     ]
    },
    {
     "name": "stdout",
     "output_type": "stream",
     "text": [
      "intent:\tjoining data from dataframe `df1` with data from dataframe `df2` based on matching values of column 'Date_Time' in both dataframes\npredicted_greed:\tdf1 = pd.merge(df1 , df2 , how = [ , on = [ 'Date_Time' ])\nground_truth:   \tdf1.merge(df2, on='Date_Time')\n\nintent:\tuse `%s` operator to print variable values `str1` inside a string\npredicted_greed:\tprint(str(str1) + str1)\nground_truth:   \t'first string is: %s, second one is: %s' % (str1, 'geo.tif')\n\n"
     ]
    },
    {
     "name": "stdout",
     "output_type": "stream",
     "text": [
      "intent:\tSplit a string by a delimiter in python\npredicted_greed:\t[.split()\nground_truth:   \t[x.strip() for x in '2.MATCHES $$TEXT$$ STRING'.split('$$TEXT$$')]\n\n"
     ]
    },
    {
     "name": "stdout",
     "output_type": "stream",
     "text": [
      "intent:\tcheck if directory `directory ` exists and create it if necessary\npredicted_greed:\t'directory'.'directory'('directory' , 0)\nground_truth:   \tif (not os.path.exists(directory)):\n    os.makedirs(directory)\n\n"
     ]
    },
    {
     "name": "stdout",
     "output_type": "stream",
     "text": [
      "intent:\tcheck if a directory `path` exists and create it if necessary\npredicted_greed:\t'path'(path , list).exists()\nground_truth:   \ttry:\n    os.makedirs(path)\nexcept OSError:\n    if (not os.path.isdir(path)):\n        raise\n\n"
     ]
    },
    {
     "name": "stdout",
     "output_type": "stream",
     "text": [
      "intent:\tcheck if a directory `path` exists and create it if necessary\npredicted_greed:\t'path'(path , list).exists()\nground_truth:   \tdistutils.dir_util.mkpath(path)\n\n"
     ]
    },
    {
     "name": "stdout",
     "output_type": "stream",
     "text": [
      "intent:\tcheck if a directory `path` exists and create it if necessary\npredicted_greed:\t'path'(path , list).exists()\nground_truth:   \ttry:\n    os.makedirs(path)\nexcept OSError as exception:\n    if (exception.errno != errno.EEXIST):\n        raise\n\n"
     ]
    },
    {
     "name": "stdout",
     "output_type": "stream",
     "text": [
      "intent:\tReplace a separate word 'H3' by 'H1' in a string 'text'\npredicted_greed:\tre.sub('H1' , 'H1' , 'H3')\nground_truth:   \tre.sub('\\\\bH3\\\\b', 'H1', text)\n\n"
     ]
    },
    {
     "name": "stdout",
     "output_type": "stream",
     "text": [
      "intent:\tsubstitute ASCII letters in string 'aas30dsa20' with empty string ''\npredicted_greed:\t\"\"\"aas30dsa20\"\"\".format('')\nground_truth:   \tre.sub('\\\\D', '', 'aas30dsa20')\n\n"
     ]
    },
    {
     "name": "stdout",
     "output_type": "stream",
     "text": [
      "intent:\tget digits only from a string `aas30dsa20` using lambda function\npredicted_greed:\t[ = re.findall('aas30dsa20' , aas30dsa20)\nground_truth:   \t\"\"\"\"\"\".join([x for x in 'aas30dsa20' if x.isdigit()])\n\n"
     ]
    },
    {
     "name": "stdout",
     "output_type": "stream",
     "text": [
      "intent:\taccess a tag called \"name\" in beautifulsoup `soup`\npredicted_greed:\tsoup = soup.findAll('name')\nground_truth:   \tprint(soup.find('name').string)\n\n"
     ]
    },
    {
     "name": "stdout",
     "output_type": "stream",
     "text": [
      "intent:\tget a dictionary `records` of key-value pairs in PyMongo cursor `cursor`\npredicted_greed:\trecords.update({ cursor : cursor [ 'cursor' ])\nground_truth:   \trecords = dict((record['_id'], record) for record in cursor)\n\n"
     ]
    },
    {
     "name": "stdout",
     "output_type": "stream",
     "text": [
      "intent:\tCreate new matrix object  by concatenating data from matrix A and matrix B\npredicted_greed:\tnumpy.random.random.random.random.choice().\n((1 , 0 , 1))\nground_truth:   \tnp.concatenate((A, B))\n\n"
     ]
    },
    {
     "name": "stdout",
     "output_type": "stream",
     "text": [
      "intent:\tconcat two matrices `A` and `B` in numpy\npredicted_greed:\tA.groupby([ 'B' , 'B' ]).agg().T()\nground_truth:   \tnp.vstack((A, B))\n\n"
     ]
    },
    {
     "name": "stdout",
     "output_type": "stream",
     "text": [
      "intent:\tGet the characters count in a file `filepath`\npredicted_greed:\topen(filepath , 'w').read()\nground_truth:   \tos.stat(filepath).st_size\n\n"
     ]
    },
    {
     "name": "stdout",
     "output_type": "stream",
     "text": [
      "intent:\tcount the occurrences of item \"a\" in list `l`\npredicted_greed:\tsum(1 for item in l)\nground_truth:   \tl.count('a')\n\n"
     ]
    },
    {
     "name": "stdout",
     "output_type": "stream",
     "text": [
      "intent:\tcount the occurrences of items in list `l`\npredicted_greed:\tsum(1 for i in l)\nground_truth:   \tCounter(l)\n\n"
     ]
    },
    {
     "name": "stdout",
     "output_type": "stream",
     "text": [
      "intent:\tcount the occurrences of items in list `l`\npredicted_greed:\tsum(1 for i in l)\nground_truth:   \t[[x, l.count(x)] for x in set(l)]\n\nintent:\tcount the occurrences of items in list `l`\npredicted_greed:\tsum(1 for i in l)\nground_truth:   \tdict(((x, l.count(x)) for x in set(l)))\n\n"
     ]
    },
    {
     "name": "stdout",
     "output_type": "stream",
     "text": [
      "intent:\tcount the occurrences of item \"b\" in list `l`\npredicted_greed:\tsum(1 for item in l)\nground_truth:   \tl.count('b')\n\nintent:\tcopy file `srcfile` to directory `dstdir`\npredicted_greed:\tdstdir.write(srcfile , dstdir)\nground_truth:   \tshutil.copy(srcfile, dstdir)\n\n"
     ]
    },
    {
     "name": "stdout",
     "output_type": "stream",
     "text": [
      "intent:\tfind the key associated with the largest value in dictionary `x` whilst key is non-zero value\npredicted_greed:\tsum(x.values())\nground_truth:   \tmax(k for k, v in x.items() if v != 0)\n\n"
     ]
    },
    {
     "name": "stdout",
     "output_type": "stream",
     "text": [
      "intent:\tget the largest key whose not associated with value of 0 in dictionary `x`\npredicted_greed:\tsum(len(v) for v in x.values())\nground_truth:   \t(k for k, v in x.items() if v != 0)\n\n"
     ]
    },
    {
     "name": "stdout",
     "output_type": "stream",
     "text": [
      "intent:\tget the largest key in a dictionary `x` with non-zero value\npredicted_greed:\tmax(iter(x.values()) , key = lambda x : sum(x [ 1 ]))\nground_truth:   \tmax(k for k, v in x.items() if v != 0)\n\n"
     ]
    },
    {
     "name": "stdout",
     "output_type": "stream",
     "text": [
      "intent:\tPut the curser at beginning of the file\npredicted_greed:\topen() , 'w').close()\nground_truth:   \tfile.seek(0)\n\n"
     ]
    },
    {
     "name": "stdout",
     "output_type": "stream",
     "text": [
      "intent:\tcombine values from column 'b' and column 'a' of dataframe `df`  into column 'c' of datafram `df`\npredicted_greed:\tdf [ [ 'b' , 'a' ] ].df(df [ 'c' ] , axis = 'index')\nground_truth:   \tdf['c'] = np.where(df['a'].isnull, df['b'], df['a'])\n\n"
     ]
    },
    {
     "name": "stdout",
     "output_type": "stream",
     "text": [
      "intent:\tremove key 'ele' from dictionary `d`\npredicted_greed:\td.pop('ele' , None)\nground_truth:   \tdel d['ele']\n\n"
     ]
    },
    {
     "name": "stdout",
     "output_type": "stream",
     "text": [
      "intent:\tUpdate datetime field in `MyModel` to be the existing `timestamp` plus 100 years\npredicted_greed:\tMyModel.objects.filter() = 'timestamp')\nground_truth:   \tMyModel.objects.update(timestamp=F('timestamp') + timedelta(days=36524.25))\n\n"
     ]
    },
    {
     "name": "stdout",
     "output_type": "stream",
     "text": [
      "intent:\tmerge list `['it']` and list `['was']` and list `['annoying']` into one list\npredicted_greed:\t[ list(a) for a in zip([ ['it'] ] , [ ['was'] ]) ]\nground_truth:   \t['it'] + ['was'] + ['annoying']\n\n"
     ]
    },
    {
     "name": "stdout",
     "output_type": "stream",
     "text": [
      "intent:\tincrement a value with leading zeroes in a number `x`\npredicted_greed:\tmin(x , values = lambda x :(abs(x [ 1 ]) , x)\nground_truth:   \tstr(int(x) + 1).zfill(len(x))\n\nintent:\tcheck if a pandas dataframe `df`'s index is sorted\npredicted_greed:\tdf.df.values()\nground_truth:   \tall(df.index[:-1] <= df.index[1:])\n\n"
     ]
    },
    {
     "name": "stdout",
     "output_type": "stream",
     "text": [
      "intent:\tConvert tuple `t` to list\npredicted_greed:\t[ int(i) for i in t ]\nground_truth:   \tlist(t)\n\nintent:\tConvert list `t` to tuple"
     ]
    },
    {
     "name": "stdout",
     "output_type": "stream",
     "text": [
      "\npredicted_greed:\ty = map(float(t))\nground_truth:   \ttuple(l)\n\nintent:\tConvert tuple `level1` to list\npredicted_greed:\t[ int(i) for i in level1 ]\nground_truth:   \tlevel1 = map(list, level1)\n\n"
     ]
    },
    {
     "name": "stdout",
     "output_type": "stream",
     "text": [
      "intent:\tsend the output of pprint object `dataobject` to file `logFile`\npredicted_greed:\ttext.format(dataobject , logFile , dataobject = True)\nground_truth:   \tpprint.pprint(dataobject, logFile)\n\n"
     ]
    },
    {
     "name": "stdout",
     "output_type": "stream",
     "text": [
      "intent:\tget index of rows in column 'BoolCol'\npredicted_greed:\tvar_0.index.get('BoolCol')\nground_truth:   \tdf.loc[df['BoolCol']]\n\n"
     ]
    },
    {
     "name": "stdout",
     "output_type": "stream",
     "text": [
      "intent:\tCreate a list containing the indexes of rows where the value of column 'BoolCol' in dataframe `df` are equal to True\npredicted_greed:\tdf [ 'BoolCol' ].apply(lambda x : x [ 'BoolCol' ])\nground_truth:   \tdf.iloc[np.flatnonzero(df['BoolCol'])]\n\n"
     ]
    },
    {
     "name": "stdout",
     "output_type": "stream",
     "text": [
      "intent:\tget list of indexes of rows where column 'BoolCol' values match True\npredicted_greed:\t[ x for x , x in enumerate(BoolCol) if x == 'BoolCol' ]\nground_truth:   \tdf[df['BoolCol'] == True].index.tolist()\n\n"
     ]
    },
    {
     "name": "stdout",
     "output_type": "stream",
     "text": [
      "intent:\tget index of rows in dataframe `df` which column 'BoolCol' matches value True\npredicted_greed:\tdf [ df.index.map([ 'BoolCol' , 'str_1' ])\nground_truth:   \tdf[df['BoolCol']].index.tolist()\n\n"
     ]
    },
    {
     "name": "stdout",
     "output_type": "stream",
     "text": [
      "intent:\tchange working directory to the directory `owd`\npredicted_greed:\tos.chdir(owd)\nground_truth:   \tos.chdir(owd)\n\n"
     ]
    },
    {
     "name": "stdout",
     "output_type": "stream",
     "text": [
      "intent:\tinsert data from a string `testfield` to sqlite db `c`\npredicted_greed:\tc = testfield.decode('c')\nground_truth:   \tc.execute(\"INSERT INTO test VALUES (?, 'bar')\", (testfield,))\n\n"
     ]
    },
    {
     "name": "stdout",
     "output_type": "stream",
     "text": [
      "intent:\tdecode string \"\\\\x89\\\\n\" into a normal string\npredicted_greed:\tunicodedata.decode('\\\\x89\\\\n' , '\\\\x89\\\\n').decode('\\\\x89\\\\n')\nground_truth:   \t\"\"\"\\\\x89\\\\n\"\"\".decode('string_escape')\n\n"
     ]
    },
    {
     "name": "stdout",
     "output_type": "stream",
     "text": [
      "intent:\tconvert a raw string `raw_string` into a normal string\npredicted_greed:\tunicodedata.format(raw_string.encode(0 , raw_string))\nground_truth:   \traw_string.decode('string_escape')\n\n"
     ]
    },
    {
     "name": "stdout",
     "output_type": "stream",
     "text": [
      "intent:\tconvert a raw string `raw_byte_string` into a normal string\npredicted_greed:\tunicodedata.format(raw_byte_string.encode(0 , raw_byte_string))\nground_truth:   \traw_byte_string.decode('unicode_escape')\n\nintent:\tsplit a string `s` with into all strings of repeated characters\npredicted_greed:\tre.findall('s' , s)\nground_truth:   \t[m.group(0) for m in re.finditer('(\\\\d)\\\\1*', s)]\n\n"
     ]
    },
    {
     "name": "stdout",
     "output_type": "stream",
     "text": [
      "intent:\tscatter a plot with x, y position of `np.random.randn(100)` and face color equal to none\npredicted_greed:\tplt.legend(x ,(= [ 'np.random.randn(100)' , 'np.random.randn(100)' , size , size , size ])\nground_truth:   \tplt.scatter(np.random.randn(100), np.random.randn(100), facecolors='none')\n\nintent:\tdo a scatter plot with empty circles\npredicted_greed:\tplt.format(self , self =() , -))\nground_truth:   \tplt.plot(np.random.randn(100), np.random.randn(100), 'o', mfc='none')\n\n"
     ]
    },
    {
     "name": "stdout",
     "output_type": "stream",
     "text": [
      "intent:\tremove a div with a id `main-content` using beautifulsoup\npredicted_greed:\tparser.parser('main-content' , str_1 =()\nground_truth:   \tsoup.find('div', id='main-content').decompose()\n\nintent:\tfilter rows containing key word `ball` in column `ids`\npredicted_greed:\tids [ 'ball' ].str.ids(ball).ids()\nground_truth:   \tdf[df['ids'].str.contains('ball')]\n\n"
     ]
    },
    {
     "name": "stdout",
     "output_type": "stream",
     "text": [
      "intent:\tconvert index at level 0 into a column in dataframe `df`\npredicted_greed:\tdf.apply(df.apply(df.columns [ 0 ] , axis = 1) , axis = 1)\nground_truth:   \tdf.reset_index(level=0, inplace=True)\n\nintent:\tAdd indexes in a data frame `df` to a column `index1`\npredicted_greed:\tindex1 = index1.reset_index()\nground_truth:   \tdf['index1'] = df.index\n\n"
     ]
    },
    {
     "name": "stdout",
     "output_type": "stream",
     "text": [
      "intent:\tconvert pandas index in a dataframe to columns\npredicted_greed:\tpd.concat([ var_0 , pd.DataFrame(df [ 'str_0' ] , axis = 1) , axis = 1)\nground_truth:   \tdf.reset_index(level=['tick', 'obs'])\n\n"
     ]
    },
    {
     "name": "stdout",
     "output_type": "stream",
     "text": [
      "intent:\tGet reverse of list items from list 'b' using extended slicing\npredicted_greed:\tlist(itertools(list(range(- 1 , 16)) , key = lambda x : x [ 1 ]) [ - 2 ])\nground_truth:   \t[x[::-1] for x in b]\n\n"
     ]
    },
    {
     "name": "stdout",
     "output_type": "stream",
     "text": [
      "intent:\tjoin each element in array `a` with element at the same index in array `b` as a tuple\npredicted_greed:\tnp.einsum(a , a , b)\nground_truth:   \tnp.array([zip(x, y) for x, y in zip(a, b)])\n\n"
     ]
    },
    {
     "name": "stdout",
     "output_type": "stream",
     "text": [
      "intent:\tzip two 2-d arrays `a` and `b`\npredicted_greed:\tnp.einsum(a , a , b)\nground_truth:   \tnp.array(zip(a.ravel(), b.ravel()), dtype='i4,i4').reshape(a.shape)\n\nintent:\tconvert list `list_of_ints` into a comma separated string"
     ]
    },
    {
     "name": "stdout",
     "output_type": "stream",
     "text": [
      "\npredicted_greed:\t\"\"\"\"\"\".join(chr(i) for i in list_of_ints)\nground_truth:   \t\"\"\",\"\"\".join([str(i) for i in list_of_ints])\n\nintent:\tSend a post request with raw data `DATA` and basic authentication with `username` and `password`\npredicted_greed:\tDATA = plt.execute(DATA , username = password , { = 'username')\nground_truth:   \trequests.post(url, data=DATA, headers=HEADERS_DICT, auth=(username, password))\n\nintent:\tFind last occurrence of character '}' in string \"abcd}def}\"\npredicted_greed:\t\"\"\"abcd}def}\"\"\".sub('abcd}def}' , 'abcd}def}' , 1)\nground_truth:   \t'abcd}def}'.rfind('}')\n\n"
     ]
    },
    {
     "name": "stdout",
     "output_type": "stream",
     "text": [
      "intent:\tIterate ove list `[1, 2, 3]` using list comprehension\npredicted_greed:\t[ list(a) for a in zip([ [1, 2, 3] ] , [ str_1 ]) ]\nground_truth:   \tprint([item for item in [1, 2, 3]])\n\n"
     ]
    },
    {
     "name": "stdout",
     "output_type": "stream",
     "text": [
      "intent:\textract all the values with keys 'x' and 'y' from a list of dictionaries `d` to list of tuples\npredicted_greed:\t[(d [ 'x' ] , d [ 'y' ]) for d in d ]\nground_truth:   \t[(x['x'], x['y']) for x in d]\n\n"
     ]
    },
    {
     "name": "stdout",
     "output_type": "stream",
     "text": [
      "intent:\tget the filename without the extension from file 'hemanth.txt'\npredicted_greed:\tos.stat('hemanth.txt').read()\nground_truth:   \tprint(os.path.splitext(os.path.basename('hemanth.txt'))[0])\n\n"
     ]
    },
    {
     "name": "stdout",
     "output_type": "stream",
     "text": [
      "intent:\tcreate a dictionary by adding each two adjacent elements in tuple `x` as key/value pair to it\npredicted_greed:\tdict((k , v) for k , v in x.items() if v > 1)\nground_truth:   \tdict(x[i:i + 2] for i in range(0, len(x), 2))\n\nintent:\tcreate a list containing flattened list `[['A', 'B', 'C'], ['D', 'E', 'F'], ['G', 'H', 'I']]`\npredicted_greed:\t[ [['A', 'B', 'C'], ['D', 'E', 'F'], ['G', 'H', 'I']] ]\nground_truth:   \tvalues = sum([['A', 'B', 'C'], ['D', 'E', 'F'], ['G', 'H', 'I']], [])\n\n"
     ]
    },
    {
     "name": "stdout",
     "output_type": "stream",
     "text": [
      "intent:\tselect rows in a dataframe `df` column 'closing_price' between two values 99 and 101\npredicted_greed:\tdf [ df [ 'closing_price' ].isin([ closing_price ])\nground_truth:   \tdf = df[(df['closing_price'] >= 99) & (df['closing_price'] <= 101)]\n\n"
     ]
    },
    {
     "name": "stdout",
     "output_type": "stream",
     "text": [
      "intent:\treplace all occurences of newlines `\\n` with `<br>` in dataframe `df`\npredicted_greed:\tdf.sub((=('\\n' , '<br>'))\nground_truth:   \tdf.replace({'\\n': '<br>'}, regex=True)\n\n"
     ]
    },
    {
     "name": "stdout",
     "output_type": "stream",
     "text": [
      "intent:\treplace all occurrences of a string `\\n` by string `<br>` in a pandas data frame `df`\npredicted_greed:\tdf = re.sub('\\n' , '\\n' , df)\nground_truth:   \tdf.replace({'\\n': '<br>'}, regex=True)\n\n"
     ]
    },
    {
     "name": "stdout",
     "output_type": "stream",
     "text": [
      "intent:\tcreate a list containing each two adjacent letters in string `word` as its elements\npredicted_greed:\t[ int(d [ i : i + 2 ] for i in range(0 , len(word) , 2) ]\nground_truth:   \t[(x + y) for x, y in zip(word, word[1:])]\n\n"
     ]
    },
    {
     "name": "stdout",
     "output_type": "stream",
     "text": [
      "intent:\tGet a list of pairs from a string `word` using lambda function\npredicted_greed:\t[ = [ s.split() for s in word ]\nground_truth:   \tlist(map(lambda x, y: x + y, word[:-1], word[1:]))\n\n"
     ]
    },
    {
     "name": "stdout",
     "output_type": "stream",
     "text": [
      "intent:\textract a url from a string `myString`\npredicted_greed:\t\"\"\" \"\"\".join(myString [ i : i.split()) [ 0 ] for i in myString ])\nground_truth:   \tprint(re.findall('(https?://[^\\\\s]+)', myString))\n\n"
     ]
    },
    {
     "name": "stdout",
     "output_type": "stream",
     "text": [
      "intent:\textract a url from a string `myString`\npredicted_greed:\t\"\"\" \"\"\".join(myString [ i : i.split()) [ 0 ] for i in myString ])\nground_truth:   \tprint(re.search('(?P<url>https?://[^\\\\s]+)', myString).group('url'))\n\n"
     ]
    },
    {
     "name": "stdout",
     "output_type": "stream",
     "text": [
      "intent:\tremove all special characters, punctuation and spaces from a string `mystring` using regex\npredicted_greed:\tre.sub('' , '\\\\1' , mystring)\nground_truth:   \tre.sub('[^A-Za-z0-9]+', '', mystring)\n\n"
     ]
    },
    {
     "name": "stdout",
     "output_type": "stream",
     "text": [
      "intent:\tcreate a DatetimeIndex containing 13 periods of the second friday of each month starting from date '2016-01-01'\npredicted_greed:\turl(x , '2016-01-01'()))\nground_truth:   \tpd.date_range('2016-01-01', freq='WOM-2FRI', periods=13)\n\n"
     ]
    },
    {
     "name": "stdout",
     "output_type": "stream",
     "text": [
      "intent:\tCreate multidimensional array `matrix` with 3 rows and 2 columns in python\npredicted_greed:\tmatrix = np.random(matrix ,(3 , 3))\nground_truth:   \tmatrix = [[a, b], [c, d], [e, f]]\n\nintent:\treplace spaces with underscore\npredicted_greed:\tre.sub('str_1' , '*' , text)\nground_truth:   \tmystring.replace(' ', '_')\n\n"
     ]
    },
    {
     "name": "stdout",
     "output_type": "stream",
     "text": [
      "intent:\tget an absolute file path of file 'mydir/myfile.txt'\npredicted_greed:\tos.path.open('mydir/myfile.txt' , os.path.abspath(os.path.abspath(os.path.abspath('mydir/myfile.txt')))\nground_truth:   \tos.path.abspath('mydir/myfile.txt')\n\nintent:\tsplit string `my_string` on white spaces\npredicted_greed:\tre.findall('my_string' , my_string)\nground_truth:   \t\"\"\" \"\"\".join(my_string.split())\n\n"
     ]
    },
    {
     "name": "stdout",
     "output_type": "stream",
     "text": [
      "intent:\tget filename without extension from file `filename`\npredicted_greed:\tt = hashlib.ctime(os.path.getctime(filename).read())\nground_truth:   \tos.path.splitext(filename)[0]\n\n"
     ]
    },
    {
     "name": "stdout",
     "output_type": "stream",
     "text": [
      "intent:\tget a list containing the sum of each element `i` in list `l` plus the previous elements\npredicted_greed:\t[ [ i [ i ] for i in range(len(i)) ]\nground_truth:   \t[sum(l[:i]) for i, _ in enumerate(l)]\n\n"
     ]
    },
    {
     "name": "stdout",
     "output_type": "stream",
     "text": [
      "intent:\tsplit a string `Docs/src/Scripts/temp` by `/` keeping `/` in the result\npredicted_greed:\tre.split('/' , 'Docs/src/Scripts/temp' , 1)\nground_truth:   \t\"\"\"Docs/src/Scripts/temp\"\"\".replace('/', '/\\x00/').split('\\x00')\n\n"
     ]
    },
    {
     "name": "stdout",
     "output_type": "stream",
     "text": [
      "intent:\tshuffle columns of an numpy array 'r'\npredicted_greed:\tnp.concatenate(r , list(range(0 , r)) , axis = 0)\nground_truth:   \tnp.random.shuffle(np.transpose(r))\n\n"
     ]
    },
    {
     "name": "stdout",
     "output_type": "stream",
     "text": [
      "intent:\tcopy all values in a column 'B' to a new column 'D' in a pandas data frame 'df'\npredicted_greed:\tdf [ D ].apply(df [ D ] != 1).apply(lambda x : x [ 1 ] != 1)\nground_truth:   \tdf['D'] = df['B']\n\n"
     ]
    },
    {
     "name": "stdout",
     "output_type": "stream",
     "text": [
      "intent:\tfind a value within nested json 'data' where the key inside another key 'B' is unknown.\npredicted_greed:\tprint(urllib.request.get('data' , 'B'))\nground_truth:   \tlist(data['A']['B'].values())[0]['maindata'][0]['Info']\n\n"
     ]
    },
    {
     "name": "stdout",
     "output_type": "stream",
     "text": [
      "intent:\tcheck characters of string `string` are true predication of function `predicate`\npredicted_greed:\tpredicate.split(string.predicate(predicate) [ : - 1 ]\nground_truth:   \tall(predicate(x) for x in string)\n\n"
     ]
    },
    {
     "name": "stdout",
     "output_type": "stream",
     "text": [
      "intent:\tdetermine number of files on a drive with python\npredicted_greed:\tsys.exit(0)\nground_truth:   \tos.statvfs('/').f_files - os.statvfs('/').f_ffree\n\n"
     ]
    },
    {
     "name": "stdout",
     "output_type": "stream",
     "text": [
      "intent:\thow to get a single result from a SQLite query in python?\npredicted_greed:\tos.system([)\nground_truth:   \tcursor.fetchone()[0]\n\n"
     ]
    },
    {
     "name": "stdout",
     "output_type": "stream",
     "text": [
      "intent:\tconvert string `user_input` into a list of integers `user_list`\npredicted_greed:\tuser_list = [ float(x) for x in user_input.split() ]\nground_truth:   \tuser_list = [int(number) for number in user_input.split(',')]\n\n"
     ]
    },
    {
     "name": "stdout",
     "output_type": "stream",
     "text": [
      "intent:\tGet a list of integers by splitting  a string `user` with comma\npredicted_greed:\tsorted(user , key = user.split())\nground_truth:   \t[int(s) for s in user.split(',')]\n\n"
     ]
    },
    {
     "name": "stdout",
     "output_type": "stream",
     "text": [
      "intent:\tSorting a Python list by two criteria\npredicted_greed:\tsorted(list(zip.items()) , key = lambda x : x [ 1 ])\nground_truth:   \tsorted(list, key=lambda x: (x[0], -x[1]))\n\n"
     ]
    },
    {
     "name": "stdout",
     "output_type": "stream",
     "text": [
      "intent:\tsort a list of objects `ut`, based on a function `cmpfun` in descending order\npredicted_greed:\tut.sort(key = lambda x : x.cmpfun , reverse = True)\nground_truth:   \tut.sort(key=cmpfun, reverse=True)\n\n"
     ]
    },
    {
     "name": "stdout",
     "output_type": "stream",
     "text": [
      "intent:\treverse list `ut` based on the `count` attribute of each object\npredicted_greed:\tut = count.sort(key = lambda x : x.count)\nground_truth:   \tut.sort(key=lambda x: x.count, reverse=True)\n\n"
     ]
    },
    {
     "name": "stdout",
     "output_type": "stream",
     "text": [
      "intent:\tsort a list of objects `ut` in reverse order by their `count` property\npredicted_greed:\tut.sort(key = lambda x : count.index(x.count))\nground_truth:   \tut.sort(key=lambda x: x.count, reverse=True)\n\nintent:\tclick a href button 'Send' with selenium\npredicted_greed:\tdriver.find_element_by_id('Send').click()\nground_truth:   \tdriver.find_element_by_partial_link_text('Send').click()\n\n"
     ]
    },
    {
     "name": "stdout",
     "output_type": "stream",
     "text": [
      "intent:\tclick a href button having text `Send InMail` with selenium\npredicted_greed:\tdriver.find_element_by_id('Send InMail').click()\nground_truth:   \tdriver.findElement(By.linkText('Send InMail')).click()\n\nintent:\tclick a href button with text 'Send InMail' with selenium\npredicted_greed:\tdriver.find_element_by_id('Send InMail').click()\nground_truth:   \tdriver.find_element_by_link_text('Send InMail').click()\n\n"
     ]
    },
    {
     "name": "stdout",
     "output_type": "stream",
     "text": [
      "intent:\tcast an int `i` to a string and concat to string 'ME'\npredicted_greed:\ti.encode('ME')\nground_truth:   \t'ME' + str(i)\n\n"
     ]
    },
    {
     "name": "stdout",
     "output_type": "stream",
     "text": [
      "intent:\tSorting data in DataFrame Pandas\npredicted_greed:\tdf.groupby(df [ pd ] , ascending = [) , False ])\nground_truth:   \tdf.sort_values(['System_num', 'Dis'])\n\n"
     ]
    },
    {
     "name": "stdout",
     "output_type": "stream",
     "text": [
      "intent:\tprepend the line '#test firstline\\n' to the contents of file 'infile' and save as the file 'outfile'\npredicted_greed:\topen('#test firstline\\n' , open).close()\nground_truth:   \topen('outfile', 'w').write('#test firstline\\n' + open('infile').read())\n\n"
     ]
    },
    {
     "name": "stdout",
     "output_type": "stream",
     "text": [
      "intent:\tsort a list `l` by length of value in tuple\npredicted_greed:\tl.sort(key = lambda x : x [ 1 ])\nground_truth:   \tl.sort(key=lambda t: len(t[1]), reverse=True)\n\nintent:\tsplit string `s` by words that ends with 'd'\npredicted_greed:\ts.split('d')\nground_truth:   \tre.findall('\\\\b(\\\\w+)d\\\\b', s)\n\n"
     ]
    },
    {
     "name": "stdout",
     "output_type": "stream",
     "text": [
      "intent:\treturn `True` if string `foobarrrr` contains regex `ba[rzd]`\npredicted_greed:\tfoobarrrr.replace('True' , 'True')\nground_truth:   \tbool(re.search('ba[rzd]', 'foobarrrr'))\n\nintent:\tRemoving duplicates in list `t`\npredicted_greed:\tt = list(t)\nground_truth:   \tlist(set(t))\n\n"
     ]
    },
    {
     "name": "stdout",
     "output_type": "stream",
     "text": [
      "intent:\tRemoving duplicates in list `source_list`\npredicted_greed:\tsource_list = list(source_list)\nground_truth:   \tlist(set(source_list))\n\nintent:\tRemoving duplicates in list `abracadabra`\npredicted_greed:\tabracadabra = list(abracadabra)\nground_truth:   \tlist(OrderedDict.fromkeys('abracadabra'))\n\n"
     ]
    },
    {
     "name": "stdout",
     "output_type": "stream",
     "text": [
      "intent:\tConvert array `a` into a list\npredicted_greed:\ta = np.array(a)\nground_truth:   \tnumpy.array(a).reshape(-1).tolist()\n\nintent:\tConvert the first row of numpy matrix `a` to a list\npredicted_greed:\ta [ 0 ].apply()\nground_truth:   \tnumpy.array(a)[0].tolist()\n\n"
     ]
    },
    {
     "name": "stdout",
     "output_type": "stream",
     "text": [
      "intent:\tIn `soup`, get the content of the sibling of the `td`  tag with text content `Address:`\npredicted_greed:\tsoup.xpath('Address:').xpath('Address:')\nground_truth:   \tprint(soup.find(text='Address:').findNext('td').contents[0])\n\n"
     ]
    },
    {
     "name": "stdout",
     "output_type": "stream",
     "text": [
      "intent:\tconvert elements of each tuple in list `l` into a string  separated by character `@`\npredicted_greed:\tmap(int , l.join(map(lambda item , l)))\nground_truth:   \t\"\"\" \"\"\".join([('%d@%d' % t) for t in l])\n\n"
     ]
    },
    {
     "name": "stdout",
     "output_type": "stream",
     "text": [
      "intent:\tconvert each tuple in list `l` to a string with '@' separating the tuples' elements\npredicted_greed:\tl = '\\n'.join([ item [ 0 ] for item in l ])\nground_truth:   \t\"\"\" \"\"\".join([('%d@%d' % (t[0], t[1])) for t in l])\n\n"
     ]
    },
    {
     "name": "stdout",
     "output_type": "stream",
     "text": [
      "intent:\tget the html from the current web page of a Selenium driver\npredicted_greed:\tself.request.**(self)\nground_truth:   \tdriver.execute_script('return document.documentElement.outerHTML;')\n\n"
     ]
    },
    {
     "name": "stdout",
     "output_type": "stream",
     "text": [
      "intent:\tGet all matches with regex pattern `\\\\d+[xX]` in list of string `teststr`\npredicted_greed:\t[ teststr [ '\\\\d+[xX]' ] for i in teststr if '\\\\d+[xX]' in re.findall('\\\\d+[xX]' , teststr) ]\nground_truth:   \t[i for i in teststr if re.search('\\\\d+[xX]', i)]\n\n"
     ]
    },
    {
     "name": "stdout",
     "output_type": "stream",
     "text": [
      "intent:\tselect values from column 'A' for which corresponding values in column 'B' will be greater than 50, and in column 'C' - equal 900 in dataframe `df`\npredicted_greed:\tdf [ 'C' ].replace([ 'A' , 'B' , 'C' ] , how = 'B')\nground_truth:   \tdf['A'][(df['B'] > 50) & (df['C'] == 900)]\n\n"
     ]
    },
    {
     "name": "stdout",
     "output_type": "stream",
     "text": [
      "intent:\tSort dictionary `o` in ascending order based on its keys and items\npredicted_greed:\tsorted(o , key = o.get , reverse = True)\nground_truth:   \tsorted(o.items())\n\n"
     ]
    },
    {
     "name": "stdout",
     "output_type": "stream",
     "text": [
      "intent:\tget sorted list of keys of dict `d`\npredicted_greed:\tlist(d.keys())\nground_truth:   \tsorted(d)\n\n"
     ]
    },
    {
     "name": "stdout",
     "output_type": "stream",
     "text": [
      "intent:\tHow to sort dictionaries by keys in Python\npredicted_greed:\tsorted(list(var_0.items()) , key = lambda x : x [ 1 ] [ 0 ])\nground_truth:   \tsorted(d.items())\n\nintent:\tconvert string \"1\" into integer"
     ]
    },
    {
     "name": "stdout",
     "output_type": "stream",
     "text": [
      "\npredicted_greed:\tint('1' , 2)\nground_truth:   \tint('1')\n\nintent:\tfunction to convert strings into integers\npredicted_greed:\tint(s)\nground_truth:   \tint()\n\nintent:\tconvert items in `T1` to integers\npredicted_greed:\t[ int(i) for i in T1 ]\nground_truth:   \tT2 = [map(int, x) for x in T1]\n\n"
     ]
    },
    {
     "name": "stdout",
     "output_type": "stream",
     "text": [
      "intent:\tcall a shell script `./test.sh` using subprocess\npredicted_greed:\tsubprocess.call('./test.sh' , shell = True)\nground_truth:   \tsubprocess.call(['./test.sh'])\n\nintent:\tcall a shell script `notepad` using subprocess\npredicted_greed:\tsubprocess.call(notepad).T()\nground_truth:   \tsubprocess.call(['notepad'])\n\n"
     ]
    },
    {
     "name": "stdout",
     "output_type": "stream",
     "text": [
      "intent:\tcombine lists `l1` and `l2`  by alternating their elements\npredicted_greed:\tl1 = [ l2 [ : : - l2 ] for i in range(0 , len(l1) , l2) ]\nground_truth:   \t[val for pair in zip(l1, l2) for val in pair]\n\nintent:\tencode string 'data to be encoded'\npredicted_greed:\t\"\"\"data to be encoded\"\"\".encode('data to be encoded')\nground_truth:   \tencoded = base64.b64encode('data to be encoded')\n\n"
     ]
    },
    {
     "name": "stdout",
     "output_type": "stream",
     "text": [
      "intent:\tencode a string `data to be encoded` to `ascii` encoding\npredicted_greed:\tascii.encode('data to be encoded')\nground_truth:   \tencoded = 'data to be encoded'.encode('ascii')\n\n"
     ]
    },
    {
     "name": "stdout",
     "output_type": "stream",
     "text": [
      "intent:\tparse tab-delimited CSV file 'text.txt' into a list\npredicted_greed:\ta.load(open('text.txt' , 'rb'))\nground_truth:   \tlol = list(csv.reader(open('text.txt', 'rb'), delimiter='\\t'))\n\nintent:\tGet attribute `my_str` of object `my_object`\npredicted_greed:\tmy_object = my_object.my_str\nground_truth:   \tgetattr(my_object, my_str)\n\n"
     ]
    },
    {
     "name": "stdout",
     "output_type": "stream",
     "text": [
      "intent:\tgroup a list of dicts `LD` into one dict by key\npredicted_greed:\tlist = zip(list(LD.items()) , key = lambda x : x [ 1 ])\nground_truth:   \tprint(dict(zip(LD[0], zip(*[list(d.values()) for d in LD]))))\n\n"
     ]
    },
    {
     "name": "stdout",
     "output_type": "stream",
     "text": [
      "intent:\tHow do I sum the first value in each tuple in a list of tuples in Python?\npredicted_greed:\tmap(list , zip(1 , lambda x : x [ 1 ]))\nground_truth:   \tsum([pair[0] for pair in list_of_pairs])\n\n"
     ]
    },
    {
     "name": "stdout",
     "output_type": "stream",
     "text": [
      "intent:\tconvert unicode string u\"{'code1':1,'code2':1}\" into dictionary\npredicted_greed:\tdict((k , int(k)) for k in({'code1':1,'code2':1}))\nground_truth:   \td = ast.literal_eval(\"{'code1':1,'code2':1}\")\n\nintent:\tfind all words in a string `mystring` that start with the `$` sign\npredicted_greed:\tre.findall('$' , mystring)\nground_truth:   \t[word for word in mystring.split() if word.startswith('$')]\n\n"
     ]
    },
    {
     "name": "stdout",
     "output_type": "stream",
     "text": [
      "intent:\tremove any url within string `text`\npredicted_greed:\ttext = re.sub(' ' , '' , text)\nground_truth:   \ttext = re.sub('^https?:\\\\/\\\\/.*[\\\\r\\\\n]*', '', text, flags=re.MULTILINE)\n\n"
     ]
    },
    {
     "name": "stdout",
     "output_type": "stream",
     "text": [
      "intent:\treplace all elements in array `A` that are not present in array `[1, 3, 4]` with zeros\npredicted_greed:\tA = np.all((A , var_1))\nground_truth:   \tnp.where(np.in1d(A, [1, 3, 4]).reshape(A.shape), A, 0)\n\n"
     ]
    },
    {
     "name": "stdout",
     "output_type": "stream",
     "text": [
      "intent:\tcalculate mean across dimension in a 2d array `a`\npredicted_greed:\tnp.isnan(a).sum() / np.isnan(a.shape [ 0 ]))\nground_truth:   \tnp.mean(a, axis=1)\n\nintent:\trunning r script '/pathto/MyrScript.r' from python\npredicted_greed:\tos.system('/pathto/MyrScript.r')\nground_truth:   \tsubprocess.call(['/usr/bin/Rscript', '--vanilla', '/pathto/MyrScript.r'])\n\n"
     ]
    },
    {
     "name": "stdout",
     "output_type": "stream",
     "text": [
      "intent:\trun r script '/usr/bin/Rscript --vanilla /pathto/MyrScript.r'\npredicted_greed:\tos.system('/usr/bin/Rscript --vanilla /pathto/MyrScript.r')\nground_truth:   \tsubprocess.call('/usr/bin/Rscript --vanilla /pathto/MyrScript.r', shell=True)\n\nintent:\tadd a header to a csv file\npredicted_greed:\tsys.writerow()\nground_truth:   \twriter.writeheader()\n\n"
     ]
    },
    {
     "name": "stdout",
     "output_type": "stream",
     "text": [
      "intent:\treplacing nan in the dataframe `df` with row average\npredicted_greed:\tdf.fillna(df = np , inplace = True)\nground_truth:   \tdf.fillna(df.mean(axis=1), axis=1)\n\nintent:\tConvert unix timestamp '1347517370' to formatted string '%Y-%m-%d %H:%M:%S'\npredicted_greed:\tprint('%Y-%m-%d %H:%M:%S'.decode('1347517370').decode('%Y-%m-%d %H:%M:%S'))\nground_truth:   \ttime.strftime('%Y-%m-%d %H:%M:%S', time.localtime(1347517370))\n\n"
     ]
    },
    {
     "name": "stdout",
     "output_type": "stream",
     "text": [
      "intent:\tCall a base class's class method `do` from derived class `Derived`\npredicted_greed:\tdo = Derived.do(do , Derived , Derived = True)\nground_truth:   \tsuper(Derived, cls).do(a)\n\n"
     ]
    },
    {
     "name": "stdout",
     "output_type": "stream",
     "text": [
      "intent:\tselecting rows in Numpy ndarray 'a', where the value in the first column is 0 and value in the second column is 1\npredicted_greed:\tnp.sub((a , str_1).sum())\nground_truth:   \ta[np.where((a[:, (0)] == 0) * (a[:, (1)] == 1))]\n\n"
     ]
    },
    {
     "name": "stdout",
     "output_type": "stream",
     "text": [
      "intent:\tseparate words delimited by one or more spaces into a list\npredicted_greed:\t[ re.split(1 , 1) for _ in re.split(1 , 1) ]\nground_truth:   \tre.split(' +', 'hello world sample text')\n\n"
     ]
    },
    {
     "name": "stdout",
     "output_type": "stream",
     "text": [
      "intent:\tlength of longest element in list `words`\npredicted_greed:\tsum(len(x) for x in words)\nground_truth:   \tlen(max(words, key=len))\n\n"
     ]
    },
    {
     "name": "stdout",
     "output_type": "stream",
     "text": [
      "intent:\tget the value associated with unicode key 'from_user' of first dictionary in list `result`\npredicted_greed:\tmax(result , key = lambda x : result [ 'from_user' ])\nground_truth:   \tresult[0]['from_user']\n\n"
     ]
    },
    {
     "name": "stdout",
     "output_type": "stream",
     "text": [
      "intent:\tRetrieve each line from a file 'File.txt' as a list\npredicted_greed:\t[ line for line in open(File.txt) ]\nground_truth:   \t[line.split() for line in open('File.txt')]\n\n"
     ]
    },
    {
     "name": "stdout",
     "output_type": "stream",
     "text": [
      "intent:\tswap keys with values in a dictionary `a`\npredicted_greed:\tdict((k , v) for k , v in a.items() if k == 1)\nground_truth:   \tres = dict((v, k) for k, v in a.items())\n\nintent:\tOpen a file `path/to/FILE_NAME.ext` in write mode\npredicted_greed:\toutput = open('path/to/FILE_NAME.ext' , open)\nground_truth:   \tnew_file = open('path/to/FILE_NAME.ext', 'w')\n\n"
     ]
    },
    {
     "name": "stdout",
     "output_type": "stream",
     "text": [
      "intent:\tHow to count distinct values in a column of a pandas group by object?\npredicted_greed:\tdf.apply(df.apply(lambda x : x.values(x [ 1 ]))\nground_truth:   \tdf.groupby(['col1', 'col2'])['col3'].nunique().reset_index()\n\n"
     ]
    },
    {
     "name": "stdout",
     "output_type": "stream",
     "text": [
      "intent:\tCheck if any key in the dictionary `dict1` starts with the string `EMP$$`\npredicted_greed:\tif 'EMP$$' in dict1.lower() : \n      pass \nground_truth:   \tany(key.startswith('EMP$$') for key in dict1)\n\n"
     ]
    },
    {
     "name": "stdout",
     "output_type": "stream",
     "text": [
      "intent:\tcreate list of values from dictionary `dict1` that have a key that starts with 'EMP$$'\npredicted_greed:\tdict1 = { k : v for k , v in list(dict1.items()) if 'EMP$$' in 'EMP$$' }\nground_truth:   \t[value for key, value in list(dict1.items()) if key.startswith('EMP$$')]\n\n"
     ]
    },
    {
     "name": "stdout",
     "output_type": "stream",
     "text": [
      "intent:\tconvert a pandas series `sf` into a pandas dataframe `df` with columns `email` and `list`\npredicted_greed:\tpd.concat([ sf , df.df ] , axis = 1)\nground_truth:   \tpd.DataFrame({'email': sf.index, 'list': sf.values})\n\n"
     ]
    },
    {
     "name": "stdout",
     "output_type": "stream",
     "text": [
      "intent:\tprint elements of list `list` seperated by tabs `\\t`\npredicted_greed:\tprint(list.format(list))\nground_truth:   \tprint('\\t'.join(map(str, list)))\n\n"
     ]
    },
    {
     "name": "stdout",
     "output_type": "stream",
     "text": [
      "intent:\tprint unicode string '\\xd0\\xbf\\xd1\\x80\\xd0\\xb8' with utf-8\npredicted_greed:\tprint('Ð¿ÑÐ¸'.decode('Ð¿ÑÐ¸'))\nground_truth:   \tprint('\\xd0\\xbf\\xd1\\x80\\xd0\\xb8'.encode('raw_unicode_escape'))\n\n"
     ]
    },
    {
     "name": "stdout",
     "output_type": "stream",
     "text": [
      "intent:\tEncode a latin character in string `Sopet\\xc3\\xb3n` properly\npredicted_greed:\tunicodedata.decode('SopetÃ³n' , 'SopetÃ³n').decode('unicode-escape' , 'ignore')\nground_truth:   \t'Sopet\\xc3\\xb3n'.encode('latin-1').decode('utf-8')\n\n"
     ]
    },
    {
     "name": "stdout",
     "output_type": "stream",
     "text": [
      "intent:\tresized image `image` to width, height of `(x, y)` with filter of `ANTIALIAS`\npredicted_greed:\tANTIALIAS.format(image ,(image , ANTIALIAS))\nground_truth:   \timage = image.resize((x, y), Image.ANTIALIAS)\n\n"
     ]
    },
    {
     "name": "stdout",
     "output_type": "stream",
     "text": [
      "intent:\tregex, find \"n\"s only in the middle of string `s`\npredicted_greed:\tre.findall('s' , s)\nground_truth:   \tre.findall('n(?<=[^n]n)n+(?=[^n])(?i)', s)\n\n"
     ]
    },
    {
     "name": "stdout",
     "output_type": "stream",
     "text": [
      "intent:\tdisplay the float `1/3*100` as a percentage\npredicted_greed:\tprint.open('1/3*100' , 1.encode)\nground_truth:   \tprint('{0:.0f}%'.format(1.0 / 3 * 100))\n\n"
     ]
    },
    {
     "name": "stdout",
     "output_type": "stream",
     "text": [
      "intent:\tsort a list of dictionary `mylist` by the key `title`\npredicted_greed:\tmylist.sort(key = lambda x : title.index(x [ 0 ]))\nground_truth:   \tmylist.sort(key=lambda x: x['title'])\n\n"
     ]
    },
    {
     "name": "stdout",
     "output_type": "stream",
     "text": [
      "intent:\tsort a list `l` of dicts by dict value 'title'\npredicted_greed:\tl.sort(key = operator.itemgetter('title'))\nground_truth:   \tl.sort(key=lambda x: x['title'])\n\n"
     ]
    },
    {
     "name": "stdout",
     "output_type": "stream",
     "text": [
      "intent:\tsort a list of dictionaries by the value of keys 'title', 'title_url', 'id' in ascending order.\npredicted_greed:\tsorted(title , key = lambda element :(element [ 'title' ] , element [ 'title_url' ]))\nground_truth:   \tl.sort(key=lambda x: (x['title'], x['title_url'], x['id']))\n\n"
     ]
    },
    {
     "name": "stdout",
     "output_type": "stream",
     "text": [
      "intent:\tfind 10 largest differences between each respective elements of list `l1` and list `l2`\npredicted_greed:\t[(i + j) for i , j in zip(l1 , l2) ]\nground_truth:   \theapq.nlargest(10, range(len(l1)), key=lambda i: abs(l1[i] - l2[i]))\n\n"
     ]
    },
    {
     "name": "stdout",
     "output_type": "stream",
     "text": [
      "intent:\tBeautifulSoup find all 'span' elements in HTML string `soup` with class of 'starGryB sp'\npredicted_greed:\tsoup = re.sub('span' , 'starGryB sp' , soup)\nground_truth:   \tsoup.find_all('span', {'class': 'starGryB sp'})\n\n"
     ]
    },
    {
     "name": "stdout",
     "output_type": "stream",
     "text": [
      "intent:\twrite records in dataframe `df` to table 'test' in schema 'a_schema'\npredicted_greed:\tdf.groupby('test').fillna()\nground_truth:   \tdf.to_sql('test', engine, schema='a_schema')\n\n"
     ]
    },
    {
     "name": "stdout",
     "output_type": "stream",
     "text": [
      "intent:\tExtract brackets from string `s`\npredicted_greed:\tprint(re.findall(s , s))\nground_truth:   \tbrackets = re.sub('[^(){}[\\\\]]', '', s)\n\n"
     ]
    },
    {
     "name": "stdout",
     "output_type": "stream",
     "text": [
      "intent:\tremove duplicate elements from list 'L'\npredicted_greed:\t[ set(item) for item in set([ L ]) ]\nground_truth:   \tlist(dict((x[0], x) for x in L).values())\n\n"
     ]
    },
    {
     "name": "stdout",
     "output_type": "stream",
     "text": [
      "intent:\tread a file `file` without newlines\npredicted_greed:\topen(file , 'rb').read().read()\nground_truth:   \t[line.rstrip('\\n') for line in file]\n\nintent:\tget the position of item 1 in `testlist`\npredicted_greed:\ttestlist.isnull()\nground_truth:   \t[i for (i, x) in enumerate(testlist) if (x == 1)]\n\n"
     ]
    },
    {
     "name": "stdout",
     "output_type": "stream",
     "text": [
      "intent:\tget the position of item 1 in `testlist`\npredicted_greed:\ttestlist.isnull()\nground_truth:   \t[i for (i, x) in enumerate(testlist) if (x == 1)]\n\nintent:\tget the position of item 1 in `testlist`\npredicted_greed:\ttestlist.isnull()\nground_truth:   \tfor i in [i for (i, x) in enumerate(testlist) if (x == 1)]:\n    pass\n\n"
     ]
    },
    {
     "name": "stdout",
     "output_type": "stream",
     "text": [
      "intent:\tget the position of item 1 in `testlist`\npredicted_greed:\ttestlist.isnull()\nground_truth:   \tfor i in (i for (i, x) in enumerate(testlist) if (x == 1)):\n    pass\n\nintent:\tget the position of item 1 in `testlist`\npredicted_greed:\ttestlist.isnull()\nground_truth:   \tgen = (i for (i, x) in enumerate(testlist) if (x == 1))\nfor i in gen:\n    pass\n\n"
     ]
    },
    {
     "name": "stdout",
     "output_type": "stream",
     "text": [
      "intent:\tget the position of item `element` in list `testlist`\npredicted_greed:\ttestlist = [ element [ i ] for i in testlist ]\nground_truth:   \tprint(testlist.index(element))\n\nintent:\tget the position of item `element` in list `testlist`\npredicted_greed:\ttestlist = [ element [ i ] for i in testlist ]\nground_truth:   \ttry:\n    print(testlist.index(element))\nexcept ValueError:\n    pass\n\n"
     ]
    },
    {
     "name": "stdout",
     "output_type": "stream",
     "text": [
      "intent:\tfind the first element of the tuple with the maximum second element in a list of tuples `lis`\npredicted_greed:\tmax(lis , key = lambda x : x [ 1 ])\nground_truth:   \tmax(lis, key=lambda item: item[1])[0]\n\n"
     ]
    },
    {
     "name": "stdout",
     "output_type": "stream",
     "text": [
      "intent:\tget the item at index 0 from the tuple that has maximum value at index 1 in list `lis`\npredicted_greed:\t[ x for x in lis if x [ 1 ]\nground_truth:   \tmax(lis, key=itemgetter(1))[0]\n\n"
     ]
    },
    {
     "name": "stdout",
     "output_type": "stream",
     "text": [
      "intent:\tMake a delay of 1 second\npredicted_greed:\trandom.sample(list(range(1 , 3)) , repeat = 1)\nground_truth:   \ttime.sleep(1)\n\n"
     ]
    },
    {
     "name": "stdout",
     "output_type": "stream",
     "text": [
      "intent:\tconvert list of tuples `L` to a string\npredicted_greed:\t\"\"\"\"\"\" = '\\n'.join(chr(item) for item in L)\nground_truth:   \t\"\"\", \"\"\".join('(' + ', '.join(i) + ')' for i in L)\n\nintent:\tDjango set default value of field `b` equal to '0000000'\npredicted_greed:\tb.update() = '0000000')\nground_truth:   \tb = models.CharField(max_length=7, default='0000000', editable=False)\n\n"
     ]
    },
    {
     "name": "stdout",
     "output_type": "stream",
     "text": [
      "intent:\tSort lis `list5` in ascending order based on the degrees value of its elements\npredicted_greed:\tsorted(list5 , key = lambda x :(sum(x [ 1 ]) , x [ 0 ]))\nground_truth:   \tsorted(list5, lambda x: (degree(x), x))\n\nintent:\tHow do I perform secondary sorting in python?\npredicted_greed:\tdriver.find_element_by_xpath()).click()\nground_truth:   \tsorted(list5, key=lambda vertex: (degree(vertex), vertex))\n\n"
     ]
    },
    {
     "name": "stdout",
     "output_type": "stream",
     "text": [
      "intent:\tconvert a list  into a generator object\npredicted_greed:\tmap(list , zip.split())\nground_truth:   \t(n for n in [1, 2, 3, 5])\n\n"
     ]
    },
    {
     "name": "stdout",
     "output_type": "stream",
     "text": [
      "intent:\tremove elements from list `oldlist` that have an index number mentioned in list `removelist`\npredicted_greed:\toldlist = [ x for x in removelist if x not in removelist ]\nground_truth:   \tnewlist = [v for i, v in enumerate(oldlist) if i not in removelist]\n\nintent:\tOpen a file `yourfile.txt` in write mode"
     ]
    },
    {
     "name": "stdout",
     "output_type": "stream",
     "text": [
      "\npredicted_greed:\toutput = open('yourfile.txt' , open)\nground_truth:   \tf = open('yourfile.txt', 'w')\n\nintent:\tget attribute 'attr' from object `obj`\npredicted_greed:\tobj.obj('attr')\nground_truth:   \tgetattr(obj, 'attr')\n\n"
     ]
    },
    {
     "name": "stdout",
     "output_type": "stream",
     "text": [
      "intent:\tconvert tuple of tuples `(('aa',), ('bb',), ('cc',))` to tuple\npredicted_greed:\ttuple(x * datetime(tuple(x)) for x in bin(8))\nground_truth:   \tfrom functools import reduce\nreduce(lambda a, b: a + b, (('aa',), ('bb',), ('cc',)))\n\n"
     ]
    },
    {
     "name": "stdout",
     "output_type": "stream",
     "text": [
      "intent:\tconvert tuple of tuples `(('aa',), ('bb',), ('cc',))` to list in one line\npredicted_greed:\tmap(list , zip(* [(1 , 2) ,(3 , 4) ,(5 , 6) ]))\nground_truth:   \tmap(lambda a: a[0], (('aa',), ('bb',), ('cc',)))\n\n"
     ]
    },
    {
     "name": "stdout",
     "output_type": "stream",
     "text": [
      "intent:\tPython Pandas: How to replace a characters in a column of a dataframe?\npredicted_greed:\tdf.apply(pd.apply , id = [ 'str_0' , str , 4 , 4 ])\nground_truth:   \tdf['range'].replace(',', '-', inplace=True)\n\nintent:\tunzip the list `[('a', 1), ('b', 2), ('c', 3), ('d', 4)]`\npredicted_greed:\t[ [('a', 1), ('b', 2), ('c', 3), ('d', 4)] ]\nground_truth:   \tzip(*[('a', 1), ('b', 2), ('c', 3), ('d', 4)])\n\n"
     ]
    },
    {
     "name": "stdout",
     "output_type": "stream",
     "text": [
      "intent:\tunzip the list `[('a', 1), ('b', 2), ('c', 3), ('d', 4)]`\npredicted_greed:\t[ [('a', 1), ('b', 2), ('c', 3), ('d', 4)] ]\nground_truth:   \tzip(*[('a', 1), ('b', 2), ('c', 3), ('d', 4)])\n\n"
     ]
    },
    {
     "name": "stdout",
     "output_type": "stream",
     "text": [
      "intent:\tunzip list `original`\npredicted_greed:\toriginal = list(original)\nground_truth:   \tresult = ([a for (a, b) in original], [b for (a, b) in original])\n\n"
     ]
    },
    {
     "name": "stdout",
     "output_type": "stream",
     "text": [
      "intent:\tunzip list `original` and return a generator\npredicted_greed:\toriginal = list().split()\nground_truth:   \tresult = ((a for (a, b) in original), (b for (a, b) in original))\n\nintent:\tunzip list `[('a', 1), ('b', 2), ('c', 3), ('d', 4), ('e', )]`\npredicted_greed:\t[ [('a', 1), ('b', 2), ('c', 3), ('d', 4), ('e', )] ]\nground_truth:   \tzip(*[('a', 1), ('b', 2), ('c', 3), ('d', 4), ('e',)])\n\n"
     ]
    },
    {
     "name": "stdout",
     "output_type": "stream",
     "text": [
      "intent:\tunzip list `[('a', 1), ('b', 2), ('c', 3), ('d', 4), ('e', )]` and fill empty results with None\npredicted_greed:\t[.[([ [('a', 1), ('b', 2), ('c', 3), ('d', 4), ('e', )] , '[('a', 1), ('b', 2), ('c', 3), ('d', 4), ('e', )]' ,) ])\nground_truth:   \tmap(None, *[('a', 1), ('b', 2), ('c', 3), ('d', 4), ('e',)])\n\nintent:\tencode `Decimal('3.9')` to a JSON string\npredicted_greed:\t\"\"\"\"\"\".encode('Decimal('3.9')' , 'ignore')\nground_truth:   \tjson.dumps(Decimal('3.9'))\n\n"
     ]
    },
    {
     "name": "stdout",
     "output_type": "stream",
     "text": [
      "intent:\tAdd key \"mynewkey\" to dictionary `d` with value \"mynewvalue\"\npredicted_greed:\td [ 'mynewvalue' ] = 'mynewvalue'\nground_truth:   \td['mynewkey'] = 'mynewvalue'\n\nintent:\tAdd key 'a' to dictionary `data` with value 1\npredicted_greed:\tdata.pop('a')\nground_truth:   \tdata.update({'a': 1, })\n\n"
     ]
    },
    {
     "name": "stdout",
     "output_type": "stream",
     "text": [
      "intent:\tAdd key 'a' to dictionary `data` with value 1\npredicted_greed:\tdata.pop('a')\nground_truth:   \tdata.update(dict(a=1))\n\nintent:\tAdd key 'a' to dictionary `data` with value 1\npredicted_greed:\tdata.pop('a')\nground_truth:   \tdata.update(a=1)\n\n"
     ]
    },
    {
     "name": "stdout",
     "output_type": "stream",
     "text": [
      "intent:\tfind maximal value in matrix `matrix`\npredicted_greed:\tmatrix [ np.isnan(matrix.isnan(matrix)) ]\nground_truth:   \tmax([max(i) for i in matrix])\n\nintent:\tRound number `answer` to 2 precision after the decimal point\npredicted_greed:\tround(answer , 2)\nground_truth:   \tanswer = str(round(answer, 2))\n\n"
     ]
    },
    {
     "name": "stdout",
     "output_type": "stream",
     "text": [
      "intent:\textract ip address from an html string\npredicted_greed:\tre.findall('\\\\d+' , 'str_0')\nground_truth:   \tip = re.findall('[0-9]+(?:\\\\.[0-9]+){3}', s)\n\n"
     ]
    },
    {
     "name": "stdout",
     "output_type": "stream",
     "text": [
      "intent:\tfilter dataframe `df` by values in column `A` that appear more than once\npredicted_greed:\tdf.loc [ df [ 'A' ].isin() ]\nground_truth:   \tdf.groupby('A').filter(lambda x: len(x) > 1)\n\nintent:\tappend each line in file `myfile` into a list\npredicted_greed:\tvar_1 = open('\\n'.join(myfile).read())\nground_truth:   \t[x for x in myfile.splitlines() if x != '']\n\n"
     ]
    },
    {
     "name": "stdout",
     "output_type": "stream",
     "text": [
      "intent:\tGet a list of integers `lst` from a file `filename.txt`\npredicted_greed:\tlst = open('filename.txt').read().split()\nground_truth:   \tlst = map(int, open('filename.txt').readlines())\n\nintent:\tadd color bar with image `mappable` to plot `plt`\npredicted_greed:\tplt =(.mappable(mappable , plt = plt)\nground_truth:   \tplt.colorbar(mappable=mappable, cax=ax3)\n\n"
     ]
    },
    {
     "name": "stdout",
     "output_type": "stream",
     "text": [
      "intent:\tcount most frequent 100 words in column 'text' of dataframe `df`\npredicted_greed:\tdf.groupby('text' = 'text' , how = False)\nground_truth:   \tCounter(' '.join(df['text']).split()).most_common(100)\n\nintent:\tPython split a string using regex\npredicted_greed:\tre.split(s , 'str_0')\nground_truth:   \tre.findall('(.+?):(.+?)\\\\b ?', text)\n\n"
     ]
    },
    {
     "name": "stdout",
     "output_type": "stream",
     "text": [
      "intent:\tgenerate all 2-element subsets of tuple `(1, 2, 3)`\npredicted_greed:\tprint(permutations(list(range(9)) , 2))\nground_truth:   \tlist(itertools.combinations((1, 2, 3), 2))\n\n"
     ]
    },
    {
     "name": "stdout",
     "output_type": "stream",
     "text": [
      "intent:\tget a value of datetime.today() in the UTC time zone\npredicted_greed:\tself.monthrange([ 0 , 0 , 0 ] , n = True)\nground_truth:   \tdatetime.now(pytz.utc)\n\n"
     ]
    },
    {
     "name": "stdout",
     "output_type": "stream",
     "text": [
      "intent:\tGet a new list `list2`by removing empty list from a list of lists `list1`\npredicted_greed:\t[ y for item in set()) for item in set()) for item in value ]\nground_truth:   \tlist2 = [x for x in list1 if x != []]\n\n"
     ]
    },
    {
     "name": "stdout",
     "output_type": "stream",
     "text": [
      "intent:\tCreate `list2` to contain the lists from list `list1` excluding the empty lists from `list1`\npredicted_greed:\tlist1 = [ list1 [ : ] for list2 in list1 ]\nground_truth:   \tlist2 = [x for x in list1 if x]\n\nintent:\tDjango response with JSON `data`\npredicted_greed:\tdata = requests.loads(data.dumps())\nground_truth:   \treturn HttpResponse(data, mimetype='application/json')\n\n"
     ]
    },
    {
     "name": "stdout",
     "output_type": "stream",
     "text": [
      "intent:\tget all text that is not enclosed within square brackets in string `example_str`\npredicted_greed:\tre.findall(pattern , example_str)\nground_truth:   \tre.findall('(.*?)\\\\[.*?\\\\]', example_str)\n\nintent:\tUse a regex to get all text in a string `example_str` that is not surrounded by square brackets\npredicted_greed:\tre.findall('example_str' , example_str)\nground_truth:   \tre.findall('(.*?)(?:\\\\[.*?\\\\]|$)', example_str)\n\n"
     ]
    },
    {
     "name": "stdout",
     "output_type": "stream",
     "text": [
      "intent:\tget whatever is between parentheses as a single match, and any char outside as an individual match in string '(zyx)bc'\npredicted_greed:\tre.findall('(zyx)bc' , '(zyx)bc')\nground_truth:   \tre.findall('\\\\(.+?\\\\)|\\\\w', '(zyx)bc')\n\n"
     ]
    },
    {
     "name": "stdout",
     "output_type": "stream",
     "text": [
      "intent:\tmatch regex '\\\\((.*?)\\\\)|(\\\\w)' with string '(zyx)bc'\npredicted_greed:\tprint(re.match('\\\\((.*?)\\\\)|(\\\\w)' , '(zyx)bc').group(1))\nground_truth:   \tre.findall('\\\\((.*?)\\\\)|(\\\\w)', '(zyx)bc')\n\nintent:\tmatch multiple regex patterns with the alternation operator `|` in a string `(zyx)bc`\npredicted_greed:\tre.findall('|' , '(zyx)bc')\nground_truth:   \tre.findall('\\\\(.*?\\\\)|\\\\w', '(zyx)bc')\n\n"
     ]
    },
    {
     "name": "stdout",
     "output_type": "stream",
     "text": [
      "intent:\tformate each string cin list `elements` into pattern '%{0}%'\npredicted_greed:\tprint(map(int , elements.split('%{0}%')))\nground_truth:   \telements = ['%{0}%'.format(element) for element in elements]\n\nintent:\tOpen a background process 'background-process' with arguments 'arguments'\npredicted_greed:\tjson.load('background-process' , 'arguments')\nground_truth:   \tsubprocess.Popen(['background-process', 'arguments'])\n\n"
     ]
    },
    {
     "name": "stdout",
     "output_type": "stream",
     "text": [
      "intent:\tget list of values from dictionary 'mydict' w.r.t. list of keys 'mykeys'\npredicted_greed:\tlist(d.keys()).index(key = lambda x :(d [ 'mydict' ] , d [ 'mykeys' ]))\nground_truth:   \t[mydict[x] for x in mykeys]\n\nintent:\tconvert list `[('Name', 'Joe'), ('Age', 22)]` into a dictionary\npredicted_greed:\tdict([ [('Name', 'Joe'), ('Age', 22)] ])\nground_truth:   \tdict([('Name', 'Joe'), ('Age', 22)])\n\n"
     ]
    },
    {
     "name": "stdout",
     "output_type": "stream",
     "text": [
      "intent:\taverage each two columns of array `data`\npredicted_greed:\tnp.einsum(data , var_1 , axis = 0)\nground_truth:   \tdata.reshape(-1, j).mean(axis=1).reshape(data.shape[0], -1)\n\n"
     ]
    },
    {
     "name": "stdout",
     "output_type": "stream",
     "text": [
      "intent:\tdouble backslash escape all double quotes in string `s`\npredicted_greed:\tprint(re.sub((, '\\\\1' , s))\nground_truth:   \tprint(s.encode('unicode-escape').replace('\"', '\\\\\"'))\n\n"
     ]
    },
    {
     "name": "stdout",
     "output_type": "stream",
     "text": [
      "intent:\tsplit a string into a list of words and whitespace\npredicted_greed:\t[ = [ s.split() for s in var_0 ]\nground_truth:   \tre.split('(\\\\W+)', s)\n\n"
     ]
    },
    {
     "name": "stdout",
     "output_type": "stream",
     "text": [
      "intent:\tplotting stacked barplots on a panda data frame\npredicted_greed:\tdf.reset_index().reset_index()\nground_truth:   \tdf.plot(kind='barh', stacked=True)\n\n"
     ]
    },
    {
     "name": "stdout",
     "output_type": "stream",
     "text": [
      "intent:\treverse the keys and values in a dictionary `myDictionary`\npredicted_greed:\tdict((v , k) for k , v in myDictionary.items())\nground_truth:   \t{i[1]: i[0] for i in list(myDictionary.items())}\n\n"
     ]
    },
    {
     "name": "stdout",
     "output_type": "stream",
     "text": [
      "intent:\tfinding the index of elements containing substring 'how' and 'what' in a list of strings 'myList'.\npredicted_greed:\t[(x , y) for x , y in zip(how , [ how ]) ]\nground_truth:   \t[i for i, j in enumerate(myList) if 'how' in j.lower() or 'what' in j.lower()]\n\nintent:\tcheck if object `obj` is a string\npredicted_greed:\tobj.isdigit()\nground_truth:   \tisinstance(obj, str)\n\n"
     ]
    },
    {
     "name": "stdout",
     "output_type": "stream",
     "text": [
      "intent:\tcheck if object `o` is a string\npredicted_greed:\to.isdigit()\nground_truth:   \tisinstance(o, str)\n\nintent:\tcheck if object `o` is a string\npredicted_greed:\to.isdigit()\nground_truth:   \t(type(o) is str)\n\n"
     ]
    },
    {
     "name": "stdout",
     "output_type": "stream",
     "text": [
      "intent:\tcheck if object `o` is a string\npredicted_greed:\to.isdigit()\nground_truth:   \tisinstance(o, str)\n\nintent:\tcheck if `obj_to_test` is a string\npredicted_greed:\tobj_to_test.isdigit()\nground_truth:   \tisinstance(obj_to_test, str)\n\n"
     ]
    },
    {
     "name": "stdout",
     "output_type": "stream",
     "text": [
      "intent:\tappend list `list1` to `list2`\npredicted_greed:\tlist2 = list2.append(list1)\nground_truth:   \tlist2.extend(list1)\n\nintent:\tappend list `mylog` to `list1`\npredicted_greed:\tlist1 = list1.append(mylog)\nground_truth:   \tlist1.extend(mylog)\n\n"
     ]
    },
    {
     "name": "stdout",
     "output_type": "stream",
     "text": [
      "intent:\tappend list `a` to `c`\npredicted_greed:\tc = c.append(a)\nground_truth:   \tc.extend(a)\n\n"
     ]
    },
    {
     "name": "stdout",
     "output_type": "stream",
     "text": [
      "intent:\tappend items in list `mylog` to `list1`\npredicted_greed:\tfor item in mylog : \n      list1.write(mylog , list1) : \n      pass \nground_truth:   \tfor line in mylog:\n    list1.append(line)\n\nintent:\tappend a tuple of elements from list `a` with indexes '[0][0] [0][2]' to list `b`"
     ]
    },
    {
     "name": "stdout",
     "output_type": "stream",
     "text": [
      "\npredicted_greed:\ta = [ x for x in b if x [ 0 ] for item in a ]\nground_truth:   \tb.append((a[0][0], a[0][2]))\n\nintent:\tInitialize `SECRET_KEY` in flask config with `Your_secret_string `\npredicted_greed:\tSECRET_KEY.run('Your_secret_string' , 1)\nground_truth:   \tapp.config['SECRET_KEY'] = 'Your_secret_string'\n\n"
     ]
    },
    {
     "name": "stdout",
     "output_type": "stream",
     "text": [
      "intent:\tunpack a series of tuples in pandas into a DataFrame with column names 'out-1' and 'out-2'\npredicted_greed:\tpd.concat([ out-1 ] , axis = 1).sum()\nground_truth:   \tpd.DataFrame(out.tolist(), columns=['out-1', 'out-2'], index=out.index)\n\n"
     ]
    },
    {
     "name": "stdout",
     "output_type": "stream",
     "text": [
      "intent:\tfind the index of an element 'MSFT' in a list `stocks_list`\npredicted_greed:\tmax(stocks_list , key = lambda i : stocks_list [ i ])\nground_truth:   \t[x for x in range(len(stocks_list)) if stocks_list[x] == 'MSFT']\n\n"
     ]
    },
    {
     "name": "stdout",
     "output_type": "stream",
     "text": [
      "intent:\trotate the xtick labels of matplotlib plot `ax` by `45` degrees to make long labels readable\npredicted_greed:\tax.exit() , 1 = '45')\nground_truth:   \tax.set_xticklabels(labels, rotation=45)\n\n"
     ]
    },
    {
     "name": "stdout",
     "output_type": "stream",
     "text": [
      "intent:\tremove symbols from a string `s`\npredicted_greed:\ts = re.sub(pattern , '' , s)\nground_truth:   \tre.sub('[^\\\\w]', ' ', s)\n\n"
     ]
    },
    {
     "name": "stdout",
     "output_type": "stream",
     "text": [
      "intent:\tGet the current directory of a script\npredicted_greed:\tos.path.dirname(os.path.abspath(__file__))\nground_truth:   \tos.path.basename(os.path.dirname(os.path.realpath(__file__)))\n\n"
     ]
    },
    {
     "name": "stdout",
     "output_type": "stream",
     "text": [
      "intent:\tFind octal characters matches from a string `str` using regex\npredicted_greed:\tre.findall('str' , 'str')\nground_truth:   \tprint(re.findall(\"'\\\\\\\\[0-7]{1,3}'\", str))\n\n"
     ]
    },
    {
     "name": "stdout",
     "output_type": "stream",
     "text": [
      "intent:\tsplit string `input` based on occurrences of regex pattern '[ ](?=[A-Z]+\\\\b)'\npredicted_greed:\tre.split('[ ](?=[A-Z]+\\\\b)' , input)\nground_truth:   \tre.split('[ ](?=[A-Z]+\\\\b)', input)\n\n"
     ]
    },
    {
     "name": "stdout",
     "output_type": "stream",
     "text": [
      "intent:\tSplit string `input` at every space followed by an upper-case letter\npredicted_greed:\tre.findall('input' , input)\nground_truth:   \tre.split('[ ](?=[A-Z])', input)\n\n"
     ]
    },
    {
     "name": "stdout",
     "output_type": "stream",
     "text": [
      "intent:\tsend multipart encoded file `files` to url `url` with headers `headers` and metadata `data`\npredicted_greed:\turl = url.files(files , url , headers = 'url' , <eos> = 'url')\nground_truth:   \tr = requests.post(url, files=files, headers=headers, data=data)\n\n"
     ]
    },
    {
     "name": "stdout",
     "output_type": "stream",
     "text": [
      "intent:\twrite bytes `bytes_` to a file `filename` in python 3\npredicted_greed:\tfilename.bytes_(bytes_ , filename)\nground_truth:   \topen('filename', 'wb').write(bytes_)\n\nintent:\tget a list from a list `lst` with values mapped into a dictionary `dct`\npredicted_greed:\t[ = [ item [ i ] for x in dct ]\nground_truth:   \t[dct[k] for k in lst]\n\n"
     ]
    },
    {
     "name": "stdout",
     "output_type": "stream",
     "text": [
      "intent:\tfind duplicate names in column 'name' of the dataframe `x`\npredicted_greed:\tx [ 'name' ].fillna(lambda x : x.fillna('str_1').endswith())\nground_truth:   \tx.set_index('name').index.get_duplicates()\n\n"
     ]
    },
    {
     "name": "stdout",
     "output_type": "stream",
     "text": [
      "intent:\ttruncate float 1.923328437452 to 3 decimal places\npredicted_greed:\tround(0.1 , 3)\nground_truth:   \tround(1.923328437452, 3)\n\n"
     ]
    },
    {
     "name": "stdout",
     "output_type": "stream",
     "text": [
      "intent:\tsort list `li` in descending order based on the date value in second element of each list in list `li`\npredicted_greed:\tli.sort(key = operator.itemgetter(1))\nground_truth:   \tsorted(li, key=lambda x: datetime.strptime(x[1], '%d/%m/%Y'), reverse=True)\n\n"
     ]
    },
    {
     "name": "stdout",
     "output_type": "stream",
     "text": [
      "intent:\tplace the radial ticks in plot `ax` at 135 degrees\npredicted_greed:\tax.ax(ax , <eos> = False)\nground_truth:   \tax.set_rlabel_position(135)\n\n"
     ]
    },
    {
     "name": "stdout",
     "output_type": "stream",
     "text": [
      "intent:\tcheck if path `my_path` is an absolute path\npredicted_greed:\tos.path.path(my_path) == os.path.exists(my_path)\nground_truth:   \tos.path.isabs(my_path)\n\n"
     ]
    },
    {
     "name": "stdout",
     "output_type": "stream",
     "text": [
      "intent:\tget number of keys in dictionary `yourdict`\npredicted_greed:\tsum(len(v) for v in list(yourdict.values())\nground_truth:   \tlen(list(yourdict.keys()))\n\n"
     ]
    },
    {
     "name": "stdout",
     "output_type": "stream",
     "text": [
      "intent:\tcount the number of keys in dictionary `yourdictfile`\npredicted_greed:\tsum(len(v) for v in yourdictfile.values())\nground_truth:   \tlen(set(open(yourdictfile).read().split()))\n\n"
     ]
    },
    {
     "name": "stdout",
     "output_type": "stream",
     "text": [
      "intent:\tpandas dataframe get first row of each group by 'id'\npredicted_greed:\tdf.groupby('id') [ 'id' ].map(lambda x : x [ 'id' ])\nground_truth:   \tdf.groupby('id').first()\n\n"
     ]
    },
    {
     "name": "stdout",
     "output_type": "stream",
     "text": [
      "intent:\tsplit a list in first column  into multiple columns keeping other columns as well in pandas data frame\npredicted_greed:\tpd.concat([ df [ 'value' ] , pd.DataFrame(df [ 1 ] , axis = 1) , axis = 1)\nground_truth:   \tpd.concat([df[0].apply(pd.Series), df[1]], axis=1)\n\n"
     ]
    },
    {
     "name": "stdout",
     "output_type": "stream",
     "text": [
      "intent:\textract attributes 'src=\"js/([^\"]*\\\\bjquery\\\\b[^\"]*)\"' from string `data`\npredicted_greed:\tdata.strip('src=\"js/([^\"]*\\\\bjquery\\\\b[^\"]*)\"' , 1)\nground_truth:   \tre.findall('src=\"js/([^\"]*\\\\bjquery\\\\b[^\"]*)\"', data)\n\nintent:\tSum integers contained in strings in list `['', '3.4', '', '', '1.0']`\npredicted_greed:\tsum(map(lambda x , ['', '3.4', '', '', '1.0']))\nground_truth:   \tsum(int(float(item)) for item in [_f for _f in ['', '3.4', '', '', '1.0'] if _f])\n\n"
     ]
    },
    {
     "name": "stdout",
     "output_type": "stream",
     "text": [
      "intent:\tCall a subprocess with arguments `c:\\\\Program Files\\\\VMware\\\\VMware Server\\\\vmware-cmd.bat` that may contain spaces\npredicted_greed:\tsubprocess.call('c:\\\\Program Files\\\\VMware\\\\VMware Server\\\\vmware-cmd.bat' , nargs = True)\nground_truth:   \tsubprocess.Popen(['c:\\\\Program Files\\\\VMware\\\\VMware Server\\\\vmware-cmd.bat'])\n\n"
     ]
    },
    {
     "name": "stdout",
     "output_type": "stream",
     "text": [
      "intent:\treverse a priority queue `q` in python without using classes\npredicted_greed:\tmax(q.values())\nground_truth:   \tq.put((-n, n))\n\n"
     ]
    },
    {
     "name": "stdout",
     "output_type": "stream",
     "text": [
      "intent:\tmake a barplot of data in column `group` of dataframe `df` colour-coded according to list `color`\npredicted_greed:\tdf = pd.group(group , color = color)\nground_truth:   \tdf['group'].plot(kind='bar', color=['r', 'g', 'b', 'r', 'g', 'b', 'r'])\n\n"
     ]
    },
    {
     "name": "stdout",
     "output_type": "stream",
     "text": [
      "intent:\tfind all matches of regex pattern '([a-fA-F\\\\d]{32})' in string `data`\npredicted_greed:\tre.findall('([a-fA-F\\\\d]{32})' , data)\nground_truth:   \tre.findall('([a-fA-F\\\\d]{32})', data)\n\n"
     ]
    },
    {
     "name": "stdout",
     "output_type": "stream",
     "text": [
      "intent:\tGet the length of list `my_list`\npredicted_greed:\tlen(my_list)\nground_truth:   \tlen(my_list)\n\n"
     ]
    },
    {
     "name": "stdout",
     "output_type": "stream",
     "text": [
      "intent:\tGetting the length of array `l`\npredicted_greed:\tl.shape\nground_truth:   \tlen(l)\n\nintent:\tGetting the length of array `s`\npredicted_greed:\ts.shape\nground_truth:   \tlen(s)\n\n"
     ]
    },
    {
     "name": "stdout",
     "output_type": "stream",
     "text": [
      "intent:\tGetting the length of `my_tuple`\npredicted_greed:\treturn my_tuple [ my_tuple.my_tuple(my_tuple) ]\nground_truth:   \tlen(my_tuple)\n\nintent:\tGetting the length of `my_string`\npredicted_greed:\treturn my_string [ my_string.my_string(my_string) ]\nground_truth:   \tlen(my_string)\n\n"
     ]
    },
    {
     "name": "stdout",
     "output_type": "stream",
     "text": [
      "intent:\tremove escape character from string \"\\\\a\"\npredicted_greed:\tre.sub('\\\\a' , '' , '\\\\a')\nground_truth:   \t\"\"\"\\\\a\"\"\".decode('string_escape')\n\n"
     ]
    },
    {
     "name": "stdout",
     "output_type": "stream",
     "text": [
      "intent:\treplace each 'a' with 'b' and each 'b' with 'a' in the string 'obama' in a single pass.\npredicted_greed:\tre.sub('b' , 'b' , 'a')\nground_truth:   \t\"\"\"obama\"\"\".replace('a', '%temp%').replace('b', 'a').replace('%temp%', 'b')\n\n"
     ]
    },
    {
     "name": "stdout",
     "output_type": "stream",
     "text": [
      "intent:\tremove directory tree '/folder_name'\npredicted_greed:\tos = os.path('/folder_name' , os.path)\nground_truth:   \tshutil.rmtree('/folder_name')\n\n"
     ]
    },
    {
     "name": "stdout",
     "output_type": "stream",
     "text": [
      "intent:\tcreate a new column `weekday` in pandas data frame `data` based on the values in column `my_dt`\npredicted_greed:\tdata = pd.merge(weekday , data , columns = [ 'weekday' , 'data' ])\nground_truth:   \tdata['weekday'] = data['my_dt'].apply(lambda x: x.weekday())\n\n"
     ]
    },
    {
     "name": "stdout",
     "output_type": "stream",
     "text": [
      "intent:\treverse sort Counter `x` by values\npredicted_greed:\tsorted(x , key = x.get)\nground_truth:   \tsorted(x, key=x.get, reverse=True)\n\n"
     ]
    },
    {
     "name": "stdout",
     "output_type": "stream",
     "text": [
      "intent:\treverse sort counter `x` by value\npredicted_greed:\tsorted(x , key = x.get)\nground_truth:   \tsorted(list(x.items()), key=lambda pair: pair[1], reverse=True)\n\n"
     ]
    },
    {
     "name": "stdout",
     "output_type": "stream",
     "text": [
      "intent:\tappend a numpy array 'b' to a numpy array 'a'\npredicted_greed:\tnp.array((b , a , a)).reshape((1 , 9 , a))\nground_truth:   \tnp.vstack((a, b))\n\n"
     ]
    },
    {
     "name": "stdout",
     "output_type": "stream",
     "text": [
      "intent:\tnumpy concatenate two arrays `a` and `b` along the first axis\npredicted_greed:\ta = np.array(np.array(a , b) , axis = 0)\nground_truth:   \tprint(concatenate((a, b), axis=0))\n\n"
     ]
    },
    {
     "name": "stdout",
     "output_type": "stream",
     "text": [
      "intent:\tnumpy concatenate two arrays `a` and `b` along the second axis\npredicted_greed:\tnp.einsum((a , b) , axis = 0)\nground_truth:   \tprint(concatenate((a, b), axis=1))\n\n"
     ]
    },
    {
     "name": "stdout",
     "output_type": "stream",
     "text": [
      "intent:\tnumpy concatenate two arrays `a` and `b` along the first axis\npredicted_greed:\ta = np.array(np.array(a , b) , axis = 0)\nground_truth:   \tc = np.r_[(a[None, :], b[None, :])]\n\n"
     ]
    },
    {
     "name": "stdout",
     "output_type": "stream",
     "text": [
      "intent:\tnumpy concatenate two arrays `a` and `b` along the first axis\npredicted_greed:\ta = np.array(np.array(a , b) , axis = 0)\nground_truth:   \tnp.array((a, b))\n\nintent:\tfetch address information for host 'google.com' ion port 80\npredicted_greed:\tos())\nground_truth:   \tprint(socket.getaddrinfo('google.com', 80))\n\n"
     ]
    },
    {
     "name": "stdout",
     "output_type": "stream",
     "text": [
      "intent:\tadd a column 'day' with value 'sat' to dataframe `df`\npredicted_greed:\tdf [ 'day' ] = df.set_index([ 'day' , 'sat' ])\nground_truth:   \tdf.xs('sat', level='day', drop_level=False)\n\n"
     ]
    },
    {
     "name": "stdout",
     "output_type": "stream",
     "text": [
      "intent:\treturn a 401 unauthorized in django\npredicted_greed:\tvar_0.objects(self = 0 , self = 0)\nground_truth:   \treturn HttpResponse('Unauthorized', status=401)\n\nintent:\tFlask set folder 'wherever' as the default template folder\npredicted_greed:\tos.system('wherever' , shell = True)\nground_truth:   \tFlask(__name__, template_folder='wherever')\n\n"
     ]
    },
    {
     "name": "stdout",
     "output_type": "stream",
     "text": [
      "intent:\tHow do I INSERT INTO t1 (SELECT * FROM t2) in SQLAlchemy?\npredicted_greed:\tre.compile([)\nground_truth:   \tsession.execute('INSERT INTO t1 (SELECT * FROM t2)')\n\n"
     ]
    },
    {
     "name": "stdout",
     "output_type": "stream",
     "text": [
      "intent:\tsort a list of lists 'c2' such that third row comes first\npredicted_greed:\tsorted(c2 , key = lambda x : x.startswith('str_1') [ 'b' ])\nground_truth:   \tc2.sort(key=lambda row: row[2])\n\n"
     ]
    },
    {
     "name": "stdout",
     "output_type": "stream",
     "text": [
      "intent:\tSorting a list of lists in Python\npredicted_greed:\t[(y , y) for y , d in zip(var_0 , key = lambda x : x [ 1 ])\nground_truth:   \tc2.sort(key=lambda row: (row[2], row[1], row[0]))\n\n"
     ]
    },
    {
     "name": "stdout",
     "output_type": "stream",
     "text": [
      "intent:\tSorting a list of lists in Python\npredicted_greed:\t[(y , y) for y , d in zip(var_0 , key = lambda x : x [ 1 ])\nground_truth:   \tc2.sort(key=lambda row: (row[2], row[1]))\n\nintent:\tset font `Arial` to display non-ascii characters in matplotlib\npredicted_greed:\tArial.split(2 = 0 , 1 = False)\nground_truth:   \tmatplotlib.rc('font', **{'sans-serif': 'Arial', 'family': 'sans-serif'})\n\n"
     ]
    },
    {
     "name": "stdout",
     "output_type": "stream",
     "text": [
      "intent:\tConvert  DateTime column 'date' of pandas dataframe 'df' to ordinal\npredicted_greed:\tdf [ 'date' ] = pd.to_datetime(df [ 'date' ] , 'df' = 'df')\nground_truth:   \tdf['date'].apply(lambda x: x.toordinal())\n\nintent:\tget html source of Selenium WebElement `element`\npredicted_greed:\telement.element().sum)\nground_truth:   \telement.get_attribute('innerHTML')\n\n"
     ]
    },
    {
     "name": "stdout",
     "output_type": "stream",
     "text": [
      "intent:\tGet the integer location of a key `bob` in a pandas data frame\npredicted_greed:\tpd.concat([ 'bob' , 'var_1' ] , axis = 1).sum()\nground_truth:   \tdf.index.get_loc('bob')\n\n"
     ]
    },
    {
     "name": "stdout",
     "output_type": "stream",
     "text": [
      "intent:\topen a 'gnome' terminal from python script and run  'sudo apt-get update' command.\npredicted_greed:\tprint(os.path.split(gnome))\nground_truth:   \tos.system('gnome-terminal -e \\'bash -c \"sudo apt-get update; exec bash\"\\'')\n\n"
     ]
    },
    {
     "name": "stdout",
     "output_type": "stream",
     "text": [
      "intent:\tadd an item with key 'third_key' and value 1 to an dictionary `my_dict`\npredicted_greed:\tmy_dict [ 'third_key' ] = 3\nground_truth:   \tmy_dict.update({'third_key': 1})\n\n"
     ]
    },
    {
     "name": "stdout",
     "output_type": "stream",
     "text": [
      "intent:\tdeclare an array\npredicted_greed:\tnp.array(np.array(var_0 , 2))\nground_truth:   \tmy_list = []\n\n"
     ]
    },
    {
     "name": "stdout",
     "output_type": "stream",
     "text": [
      "intent:\tInsert item `12` to a list `my_list`\npredicted_greed:\tmy_list.insert(2 , 2)\nground_truth:   \tmy_list.append(12)\n\n"
     ]
    },
    {
     "name": "stdout",
     "output_type": "stream",
     "text": [
      "intent:\tadd an entry 'wuggah' at the beginning of list `myList`\npredicted_greed:\tmyList = [ sum(x) for x in myList ]\nground_truth:   \tmyList.insert(0, 'wuggah')\n\n"
     ]
    },
    {
     "name": "stdout",
     "output_type": "stream",
     "text": [
      "intent:\tconvert a hex-string representation to actual bytes\npredicted_greed:\tchr(int)\nground_truth:   \t\"\"\"\\\\xF3\\\\xBE\\\\x80\\\\x80\"\"\".replace('\\\\x', '').decode('hex')\n\n"
     ]
    },
    {
     "name": "stdout",
     "output_type": "stream",
     "text": [
      "intent:\tselect the last column of dataframe `df`\npredicted_greed:\tdf.ix [ df.columns.columns(df) ]\nground_truth:   \tdf[df.columns[-1]]\n\n"
     ]
    },
    {
     "name": "stdout",
     "output_type": "stream",
     "text": [
      "intent:\tget the first value from dataframe `df` where column 'Letters' is equal to 'C'\npredicted_greed:\tdf.groupby('C') [ 'Letters' ].transform(lambda x : x.date == 'C') == 0\nground_truth:   \tdf.loc[df['Letters'] == 'C', 'Letters'].values[0]\n\n"
     ]
    },
    {
     "name": "stdout",
     "output_type": "stream",
     "text": [
      "intent:\tconverting two lists `[1, 2, 3]` and `[4, 5, 6]` into a matrix\npredicted_greed:\t[(a , b) for a , b in zip([1, 2, 3] , [4, 5, 6]) ,([4, 5, 6] , [4, 5, 6]) ]\nground_truth:   \tnp.column_stack(([1, 2, 3], [4, 5, 6]))\n\nintent:\tget the type of `i`\npredicted_greed:\ti.i\nground_truth:   \ttype(i)\n\n"
     ]
    },
    {
     "name": "stdout",
     "output_type": "stream",
     "text": [
      "intent:\tdetermine the type of variable `v`\npredicted_greed:\tv = os.tag()\nground_truth:   \ttype(v)\n\nintent:\tdetermine the type of variable `v`\npredicted_greed:\tv = os.tag()\nground_truth:   \ttype(v)\n\n"
     ]
    },
    {
     "name": "stdout",
     "output_type": "stream",
     "text": [
      "intent:\tdetermine the type of variable `v`\npredicted_greed:\tv = os.tag()\nground_truth:   \ttype(v)\n\nintent:\tdetermine the type of variable `v`\npredicted_greed:\tv = os.tag()\nground_truth:   \ttype(v)"
     ]
    },
    {
     "name": "stdout",
     "output_type": "stream",
     "text": [
      "\n\nintent:\tget the type of variable `variable_name`\npredicted_greed:\tvariable_name = os.variable_name.dirname(variable_name)\nground_truth:   \tprint(type(variable_name))\n\nintent:\tget the 5th item of a generator\npredicted_greed:\treturn = os.array()\nground_truth:   \tnext(itertools.islice(range(10), 5, 5 + 1))\n\n"
     ]
    },
    {
     "name": "stdout",
     "output_type": "stream",
     "text": [
      "intent:\tPrint a string `word` with string format\npredicted_greed:\tprint(word.format(word))\nground_truth:   \tprint('\"{}\"'.format(word))\n\n"
     ]
    },
    {
     "name": "stdout",
     "output_type": "stream",
     "text": [
      "intent:\tjoin a list of strings `list` using a space ' '\npredicted_greed:\tlist = list.decode('' , 'ignore')\nground_truth:   \t\"\"\" \"\"\".join(list)\n\n"
     ]
    },
    {
     "name": "stdout",
     "output_type": "stream",
     "text": [
      "intent:\tcreate list `y` containing two empty lists\npredicted_greed:\ty = [ [ ] for i in range(3) ]\nground_truth:   \ty = [[] for n in range(2)]\n\n"
     ]
    },
    {
     "name": "stdout",
     "output_type": "stream",
     "text": [
      "intent:\tread a file 'C:/name/MyDocuments/numbers' into a list `data`\npredicted_greed:\tdata = open('C:/name/MyDocuments/numbers' , 'r').read()\nground_truth:   \tdata = [line.strip() for line in open('C:/name/MyDocuments/numbers', 'r')]\n\n"
     ]
    },
    {
     "name": "stdout",
     "output_type": "stream",
     "text": [
      "intent:\tdelete all occurrences of character 'i' in string 'it is icy'\npredicted_greed:\tprint(re.sub('it is icy' , 'it is icy' , 'i'))\nground_truth:   \t\"\"\"\"\"\".join([char for char in 'it is icy' if char != 'i'])\n\n"
     ]
    },
    {
     "name": "stdout",
     "output_type": "stream",
     "text": [
      "intent:\tdelete all instances of a character 'i' in a string 'it is icy'\npredicted_greed:\tre.sub('it is icy' , 'it is icy' , 'i')\nground_truth:   \tre.sub('i', '', 'it is icy')\n\n"
     ]
    },
    {
     "name": "stdout",
     "output_type": "stream",
     "text": [
      "intent:\tdelete all characters \"i\" in string \"it is icy\"\npredicted_greed:\tprint(re.sub('i' , 'it is icy' , 'it is icy'))\nground_truth:   \t\"\"\"it is icy\"\"\".replace('i', '')\n\n"
     ]
    },
    {
     "name": "stdout",
     "output_type": "stream",
     "text": [
      "intent:\tHow to delete all instances of a character in a string in python?\npredicted_greed:\t[ m.replace() , '') for s in re.finditer() , '') ]\nground_truth:   \t\"\"\"\"\"\".join([char for char in 'it is icy' if char != 'i'])\n\n"
     ]
    },
    {
     "name": "stdout",
     "output_type": "stream",
     "text": [
      "intent:\tDrop rows of pandas dataframe `df` having NaN in column at index \"1\"\npredicted_greed:\tdf [ df.df.isin([ '1' , 'str_1' ]) ]\nground_truth:   \tdf.dropna(subset=[1])\n\n"
     ]
    },
    {
     "name": "stdout",
     "output_type": "stream",
     "text": [
      "intent:\tget elements from list `myList`, that have a field `n` value 30\npredicted_greed:\tmyList = [ n [ i ] for i in n ]\nground_truth:   \t[x for x in myList if x.n == 30]\n\n"
     ]
    },
    {
     "name": "stdout",
     "output_type": "stream",
     "text": [
      "intent:\tconverting list of strings `intstringlist` to list of integer `nums`\npredicted_greed:\tnums = [ item [ 0 ] for item in intstringlist ]\nground_truth:   \tnums = [int(x) for x in intstringlist]\n\n"
     ]
    },
    {
     "name": "stdout",
     "output_type": "stream",
     "text": [
      "intent:\tconvert list of string numbers into list of integers\npredicted_greed:\tmap(int , [(1 , 2) , 3)\nground_truth:   \tmap(int, eval(input('Enter the unfriendly numbers: ')))\n\n"
     ]
    },
    {
     "name": "stdout",
     "output_type": "stream",
     "text": [
      "intent:\tprint \".\" without newline\npredicted_greed:\tprint('str_1' + str(.) + print)\nground_truth:   \tsys.stdout.write('.')\n\n"
     ]
    },
    {
     "name": "stdout",
     "output_type": "stream",
     "text": [
      "intent:\tround off the float that is the product of `2.52 * 100` and convert it to an int\npredicted_greed:\tsum(x * y for x in 2.52 * 100)\nground_truth:   \tint(round(2.51 * 100))\n\n"
     ]
    },
    {
     "name": "stdout",
     "output_type": "stream",
     "text": [
      "intent:\tFind all files in directory \"/mydir\" with extension \".txt\"\npredicted_greed:\tos = os.open('/mydir' , 'r' , '.txt').read()\nground_truth:   \tos.chdir('/mydir')\nfor file in glob.glob('*.txt'):\n    pass\n\n"
     ]
    },
    {
     "name": "stdout",
     "output_type": "stream",
     "text": [
      "intent:\tFind all files in directory \"/mydir\" with extension \".txt\"\npredicted_greed:\tos = os.open('/mydir' , 'r' , '.txt').read()\nground_truth:   \tfor file in os.listdir('/mydir'):\n    if file.endswith('.txt'):\n        pass\n\n"
     ]
    },
    {
     "name": "stdout",
     "output_type": "stream",
     "text": [
      "intent:\tFind all files in directory \"/mydir\" with extension \".txt\"\npredicted_greed:\tos = os.open('/mydir' , 'r' , '.txt').read()\nground_truth:   \tfor (root, dirs, files) in os.walk('/mydir'):\n    for file in files:\n        if file.endswith('.txt'):\n            pass\n\n"
     ]
    },
    {
     "name": "stdout",
     "output_type": "stream",
     "text": [
      "intent:\tplot dataframe `df` without a legend\npredicted_greed:\tdf.columns(df.sum(axis = 1))\nground_truth:   \tdf.plot(legend=False)\n\nintent:\tloop through the IP address range \"192.168.x.x\"\npredicted_greed:\tos.system('192.168.x.x')\nground_truth:   \tfor i in range(256):\n    for j in range(256):\n        ip = ('192.168.%d.%d' % (i, j))\n        print(ip)\n\n"
     ]
    },
    {
     "name": "stdout",
     "output_type": "stream",
     "text": [
      "intent:\tloop through the IP address range \"192.168.x.x\"\npredicted_greed:\tos.system('192.168.x.x')\nground_truth:   \tfor (i, j) in product(list(range(256)), list(range(256))):\n    pass\n\nintent:\tloop through the IP address range \"192.168.x.x\"\npredicted_greed:\tos.system('192.168.x.x')\nground_truth:   \tgenerator = iter_iprange('192.168.1.1', '192.168.255.255', step=1)\n\n"
     ]
    },
    {
     "name": "stdout",
     "output_type": "stream",
     "text": [
      "intent:\tSum the corresponding decimal values for binary values of each boolean element in list `x`\npredicted_greed:\tsum(x [ 1 ] for x in x)\nground_truth:   \tsum(1 << i for i, b in enumerate(x) if b)\n\nintent:\twrite multiple strings `line1`, `line2` and `line3` in one line in a file `target`\npredicted_greed:\tre.search(line1 , line1).split()\nground_truth:   \ttarget.write('%r\\n%r\\n%r\\n' % (line1, line2, line3))\n\n"
     ]
    },
    {
     "name": "stdout",
     "output_type": "stream",
     "text": [
      "intent:\tConvert list of lists `data` into a flat list\npredicted_greed:\tlist(map(operator.itemgetter(data)))\nground_truth:   \t[y for x in data for y in (x if isinstance(x, list) else [x])]\n\nintent:\tPrint new line character as `\\n` in a string `foo\\nbar`\npredicted_greed:\tprint(foo\\nbar.decode(foo\\nbar , foo\\nbar))\nground_truth:   \tprint('foo\\nbar'.encode('string_escape'))\n\n"
     ]
    },
    {
     "name": "stdout",
     "output_type": "stream",
     "text": [
      "intent:\tremove last comma character ',' in string `s`\npredicted_greed:\ts = re.sub(',' , '' , s)\nground_truth:   \t\"\"\"\"\"\".join(s.rsplit(',', 1))\n\nintent:\tcalculate the mean of each element in array `x` with the element previous to it\npredicted_greed:\tx = np.array(x) - 1\nground_truth:   \t(x[1:] + x[:-1]) / 2\n\n"
     ]
    },
    {
     "name": "stdout",
     "output_type": "stream",
     "text": [
      "intent:\tget an array of the mean of each two consecutive values in numpy array `x`\npredicted_greed:\tnp.where(np.arange(x , 2))\nground_truth:   \tx[:-1] + (x[1:] - x[:-1]) / 2\n\n"
     ]
    },
    {
     "name": "stdout",
     "output_type": "stream",
     "text": [
      "intent:\tload data containing `utf-8` from file `new.txt` into numpy array `arr`\npredicted_greed:\tnp.genfromtxt('utf-8' , arr)\nground_truth:   \tarr = numpy.fromiter(codecs.open('new.txt', encoding='utf-8'), dtype='<U2')\n\n"
     ]
    },
    {
     "name": "stdout",
     "output_type": "stream",
     "text": [
      "intent:\treverse sort list of dicts `l` by value for key `time`\npredicted_greed:\tl.sort(key = lambda x : time.index(x [ 'time' ]))\nground_truth:   \tl = sorted(l, key=itemgetter('time'), reverse=True)\n\n"
     ]
    },
    {
     "name": "stdout",
     "output_type": "stream",
     "text": [
      "intent:\tSort a list of dictionary `l` based on key `time` in descending order\npredicted_greed:\tl.sort(key = lambda d : time.index , reverse = True)\nground_truth:   \tl = sorted(l, key=lambda a: a['time'], reverse=True)\n\nintent:\tget rows of dataframe `df` that match regex '(Hel|Just)'\npredicted_greed:\tdf.df.max('(Hel|Just)').max()\nground_truth:   \tdf.loc[df[0].str.contains('(Hel|Just)')]\n\n"
     ]
    },
    {
     "name": "stdout",
     "output_type": "stream",
     "text": [
      "intent:\tfind the string in `your_string` between two special characters \"[\" and \"]\"\npredicted_greed:\tre.findall('[' , your_string)\nground_truth:   \tre.search('\\\\[(.*)\\\\]', your_string).group(1)\n\nintent:\tHow to create a list of date string in 'yyyymmdd' format with Python Pandas?\npredicted_greed:\tlist(yyyymmdd('yyyymmdd').split())\nground_truth:   \t[d.strftime('%Y%m%d') for d in pandas.date_range('20130226', '20130302')]\n\n"
     ]
    },
    {
     "name": "stdout",
     "output_type": "stream",
     "text": [
      "intent:\tcount number of times string 'brown' occurred in string 'The big brown fox is brown'\npredicted_greed:\t\"\"\"The big brown fox is brown\"\"\".count('brown')\nground_truth:   \t\"\"\"The big brown fox is brown\"\"\".count('brown')\n\nintent:\tdecode json string `request.body` to python dict\npredicted_greed:\tast.literal_eval('request.body')\nground_truth:   \tjson.loads(request.body)\n\n"
     ]
    },
    {
     "name": "stdout",
     "output_type": "stream",
     "text": [
      "intent:\tdownload the file from url `url` and save it under file `file_name`\npredicted_greed:\twith open(file_name , 'r').read().read().read()\nground_truth:   \turllib.request.urlretrieve(url, file_name)\n\nintent:\tsplit string `text` by space\npredicted_greed:\ttext.split(' ')\nground_truth:   \ttext.split()\n\n"
     ]
    },
    {
     "name": "stdout",
     "output_type": "stream",
     "text": [
      "intent:\tsplit string `text` by \",\"\npredicted_greed:\tre.split(',' , text.rstrip(','))\nground_truth:   \ttext.split(',')\n\n"
     ]
    },
    {
     "name": "stdout",
     "output_type": "stream",
     "text": [
      "intent:\tSplit string `line` into a list by whitespace\npredicted_greed:\tline = re.split(line , line)\nground_truth:   \tline.split()\n\n"
     ]
    },
    {
     "name": "stdout",
     "output_type": "stream",
     "text": [
      "intent:\treplace dot characters  '.' associated with ascii letters in list `s` with space ' '\npredicted_greed:\ts.replace('.' , '')\nground_truth:   \t[re.sub('(?<!\\\\d)\\\\.(?!\\\\d)', ' ', i) for i in s]\n\n"
     ]
    },
    {
     "name": "stdout",
     "output_type": "stream",
     "text": [
      "intent:\tsort list `list_of_strings` based on second index of each string `s`\npredicted_greed:\tlist_of_strings.sort(key = lambda x : s.index(x [ 1 ]))\nground_truth:   \tsorted(list_of_strings, key=lambda s: s.split(',')[1])\n\n"
     ]
    },
    {
     "name": "stdout",
     "output_type": "stream",
     "text": [
      "intent:\tcall multiple bash function ‘vasp’ and ‘tee tee_output’ using ‘|’\npredicted_greed:\tpd.parser(x , y , y =(, <eos> = 'str_1' , <eos> = 'str_1')\nground_truth:   \tsubprocess.check_call('vasp | tee tee_output', shell=True)\n\n"
     ]
    },
    {
     "name": "stdout",
     "output_type": "stream",
     "text": [
      "intent:\teliminate all strings from list `lst`\npredicted_greed:\t\"\"\"\"\"\" = [ i for i in lst if i != in ]\nground_truth:   \t[element for element in lst if isinstance(element, int)]\n\n"
     ]
    },
    {
     "name": "stdout",
     "output_type": "stream",
     "text": [
      "intent:\tget all the elements except strings from the list 'lst'.\npredicted_greed:\t[ x for x in lst if x [ 2 ] ]\nground_truth:   \t[element for element in lst if not isinstance(element, str)]\n\n"
     ]
    },
    {
     "name": "stdout",
     "output_type": "stream",
     "text": [
      "intent:\tSort a list of dictionaries `list_to_be_sorted` by the value of the dictionary key `name`\npredicted_greed:\tsorted(list_to_be_sorted , key = lambda x : name.index(list(x.values()) [ 0 ]))\nground_truth:   \tnewlist = sorted(list_to_be_sorted, key=lambda k: k['name'])\n\n"
     ]
    },
    {
     "name": "stdout",
     "output_type": "stream",
     "text": [
      "intent:\tsort a list of dictionaries `l` by values in key `name` in descending order\npredicted_greed:\tl.sort(key = lambda x : name.index(list(x.values()) [ 0 ]))\nground_truth:   \tnewlist = sorted(l, key=itemgetter('name'), reverse=True)\n\n"
     ]
    },
    {
     "name": "stdout",
     "output_type": "stream",
     "text": [
      "intent:\tHow do I sort a list of dictionaries by values of the dictionary in Python?\npredicted_greed:\tsorted(list(data.items()) , key = lambda x : x [ 1 ])\nground_truth:   \tlist_of_dicts.sort(key=operator.itemgetter('name'))\n\n"
     ]
    },
    {
     "name": "stdout",
     "output_type": "stream",
     "text": [
      "intent:\tHow do I sort a list of dictionaries by values of the dictionary in Python?\npredicted_greed:\tsorted(list(data.items()) , key = lambda x : x [ 1 ])\nground_truth:   \tlist_of_dicts.sort(key=operator.itemgetter('age'))\n\n"
     ]
    },
    {
     "name": "stdout",
     "output_type": "stream",
     "text": [
      "intent:\tHow to sort a Dataframe by the ocurrences in a column in Python (pandas)\npredicted_greed:\tdf.sort(df [ 1 ] , ascending = lambda x : x [ 1 ].index(x [ 1 ]))\nground_truth:   \tdf.groupby('prots').sum().sort('scores', ascending=False)\n\n"
     ]
    },
    {
     "name": "stdout",
     "output_type": "stream",
     "text": [
      "intent:\tjoin together with \",\" elements inside a list indexed with 'category' within a dictionary `trans`\npredicted_greed:\t[ { k : v for k , v in trans.items() if v != ',' }\nground_truth:   \t\"\"\",\"\"\".join(trans['category'])\n\n"
     ]
    },
    {
     "name": "stdout",
     "output_type": "stream",
     "text": [
      "intent:\tconcatenate array of strings `['A', 'B', 'C', 'D']` into a string\npredicted_greed:\t\"\"\"\"\"\".join([ ['A', 'B', 'C', 'D'] ])\nground_truth:   \t\"\"\"\"\"\".join(['A', 'B', 'C', 'D'])\n\n"
     ]
    },
    {
     "name": "stdout",
     "output_type": "stream",
     "text": [
      "intent:\tget json data from restful service 'url'\npredicted_greed:\trequest.request.url('url').text()\nground_truth:   \tjson.load(urllib.request.urlopen('url'))\n\n"
     ]
    },
    {
     "name": "stdout",
     "output_type": "stream",
     "text": [
      "intent:\tRemove all strings from a list a strings `sents` where the values starts with `@$\\t` or `#`\npredicted_greed:\tsents = re.sub('#' , '' , sents)\nground_truth:   \t[x for x in sents if not x.startswith('@$\\t') and not x.startswith('#')]\n\nintent:\tdjango filter by hour\npredicted_greed:\troot.objects.values()\nground_truth:   \tEntry.objects.filter(pub_date__contains='08:00')\n\n"
     ]
    },
    {
     "name": "stdout",
     "output_type": "stream",
     "text": [
      "intent:\tsort a list of dictionary `list` first by key `points` and then by `time`\npredicted_greed:\tlist.sort(key = lambda d :(d.points , d.time) , reverse = True)\nground_truth:   \tlist.sort(key=lambda item: (item['points'], item['time']))\n\nintent:\tconvert datetime object `(1970, 1, 1)` to seconds\npredicted_greed:\tdatetime.strptime('(1970, 1, 1)' , 'str_1')\nground_truth:   \t(t - datetime.datetime(1970, 1, 1)).total_seconds()\n\n"
     ]
    },
    {
     "name": "stdout",
     "output_type": "stream",
     "text": [
      "intent:\tinsert `_suff` before the file extension in `long.file.name.jpg` or replace `_a` with `suff` if it precedes the extension.\npredicted_greed:\t_suff.find_all((, '_a').replace('long.file.name.jpg' , ' ')\nground_truth:   \tre.sub('(\\\\_a)?\\\\.([^\\\\.]*)$', '_suff.\\\\2', 'long.file.name.jpg')\n\nintent:\treload a module `module`\npredicted_greed:\tmodule(module)\nground_truth:   \timport imp\nimp.reload(module)\n\n"
     ]
    },
    {
     "name": "stdout",
     "output_type": "stream",
     "text": [
      "intent:\tConvert integer `number` into an unassigned integer\npredicted_greed:\tint(int(int(number [ 0 : : 2 ]) , int(number [ 0 ])))\nground_truth:   \tstruct.unpack('H', struct.pack('h', number))\n\nintent:\tconvert int values in list `numlist` to float\npredicted_greed:\t[ float(i) for i in numlist ]\nground_truth:   \tnumlist = [float(x) for x in numlist]\n\n"
     ]
    },
    {
     "name": "stdout",
     "output_type": "stream",
     "text": [
      "intent:\twrite dataframe `df`, excluding index, to a csv file\npredicted_greed:\tdf.columns(0)\nground_truth:   \tdf.to_csv(filename, index=False)\n\n"
     ]
    },
    {
     "name": "stdout",
     "output_type": "stream",
     "text": [
      "intent:\tconvert a urllib unquoted string `unescaped` to a json data `json_data`\npredicted_greed:\tjson_data = json_data.format(unescaped.encode('json_data'))\nground_truth:   \tjson_data = json.loads(unescaped)\n\n"
     ]
    },
    {
     "name": "stdout",
     "output_type": "stream",
     "text": [
      "intent:\tCreate a list containing all ascii characters as its elements\npredicted_greed:\tlist(str(123))\nground_truth:   \t[chr(i) for i in range(127)]\n\nintent:\twrite `newFileBytes` to a binary file `newFile`\npredicted_greed:\tnewFile.write(newFileBytes , newFile)\nground_truth:   \tnewFile.write(struct.pack('5B', *newFileBytes))\n\n"
     ]
    },
    {
     "name": "stdout",
     "output_type": "stream",
     "text": [
      "intent:\tpython regex - check for a capital letter with a following lowercase in string `string`\npredicted_greed:\tre.findall('str_0' , string)\nground_truth:   \tre.sub('^[A-Z0-9]*(?![a-z])', '', string)\n\nintent:\tget the last key of dictionary `dict`\npredicted_greed:\treturn dict [ 0 ].<eos>\nground_truth:   \tlist(dict.keys())[-1]\n\n"
     ]
    },
    {
     "name": "stdout",
     "output_type": "stream",
     "text": [
      "intent:\twrite line \"hi there\" to file `f`\npredicted_greed:\tf = open(os.path.join('hi there' , 'rb').read())\nground_truth:   \tprint('hi there', file=f)\n\n"
     ]
    },
    {
     "name": "stdout",
     "output_type": "stream",
     "text": [
      "intent:\twrite line \"hi there\" to file `myfile`\npredicted_greed:\tmyfile = open(os.path.join('hi there' , 'rb').read())\nground_truth:   \tf = open('myfile', 'w')\nf.write('hi there\\n')\nf.close()\n\n"
     ]
    },
    {
     "name": "stdout",
     "output_type": "stream",
     "text": [
      "intent:\twrite line \"Hello\" to file `somefile.txt`\npredicted_greed:\twith open('somefile.txt' , 'a') as f : \n      f.write('Hello' , 'somefile.txt') as f : \n      pass \nground_truth:   \twith open('somefile.txt', 'a') as the_file:\n    the_file.write('Hello\\n')\n\nintent:\tconvert unicode string `s` to ascii\npredicted_greed:\ts.decode('hex')\nground_truth:   \ts.encode('iso-8859-15')\n\n"
     ]
    },
    {
     "name": "stdout",
     "output_type": "stream",
     "text": [
      "intent:\tDjango get maximum value associated with field 'added' in model `AuthorizedEmail`\npredicted_greed:\tAuthorizedEmail.objects.get('added' , inplace = True)\nground_truth:   \tAuthorizedEmail.objects.filter(group=group).order_by('-added')[0]\n\n"
     ]
    },
    {
     "name": "stdout",
     "output_type": "stream",
     "text": [
      "intent:\tFind all numbers and dots from a string `text` using regex\npredicted_greed:\tre.findall('text' , text)\nground_truth:   \tre.findall('Test([0-9.]*[0-9]+)', text)\n\n"
     ]
    },
    {
     "name": "stdout",
     "output_type": "stream",
     "text": [
      "intent:\tpython regex  to find all numbers and dots from 'text'\npredicted_greed:\tre.findall('text' , 'text')\nground_truth:   \tre.findall('Test([\\\\d.]*\\\\d+)', text)\n\n"
     ]
    },
    {
     "name": "stdout",
     "output_type": "stream",
     "text": [
      "intent:\texecute script 'script.ps1' using 'powershell.exe' shell\npredicted_greed:\tsubprocess.call('script.ps1' , 'powershell.exe')\nground_truth:   \tos.system('powershell.exe', 'script.ps1')\n\n"
     ]
    },
    {
     "name": "stdout",
     "output_type": "stream",
     "text": [
      "intent:\tSort a list of tuples `b` by third item in the tuple\npredicted_greed:\tb.sort(key = lambda x : x [ 1 ])\nground_truth:   \tb.sort(key=lambda x: x[1][2])\n\n"
     ]
    },
    {
     "name": "stdout",
     "output_type": "stream",
     "text": [
      "intent:\tget a list of all keys in Cassandra database `cf` with pycassa\npredicted_greed:\t[ cf [ i ] for i in range(0 , len(cf) , 2) ]\nground_truth:   \tlist(cf.get_range().get_keys())\n\n"
     ]
    },
    {
     "name": "stdout",
     "output_type": "stream",
     "text": [
      "intent:\tcreate a datetime with the current date & time\npredicted_greed:\tdatetime.datetime.today().date()\nground_truth:   \tdatetime.datetime.now()\n\n"
     ]
    },
    {
     "name": "stdout",
     "output_type": "stream",
     "text": [
      "intent:\tget the index of an integer `1` from a list `lst` if the list also contains boolean items\npredicted_greed:\t[ i for i , v in enumerate(lst , key = lambda x : x [ x ]) [ - 2 : ]\nground_truth:   \tnext(i for i, x in enumerate(lst) if not isinstance(x, bool) and x == 1)\n\n"
     ]
    },
    {
     "name": "stdout",
     "output_type": "stream",
     "text": [
      "intent:\tsubtract 13 from every number in a list `a`\npredicted_greed:\tmap(list , zip(* a))\nground_truth:   \ta[:] = [(x - 13) for x in a]\n\n"
     ]
    },
    {
     "name": "stdout",
     "output_type": "stream",
     "text": [
      "intent:\tchoose a random file from the directory contents of the C drive, `C:\\\\`\npredicted_greed:\tos.system('C:\\\\')\nground_truth:   \trandom.choice(os.listdir('C:\\\\'))\n\n"
     ]
    },
    {
     "name": "stdout",
     "output_type": "stream",
     "text": [
      "intent:\tget the highest element in absolute value in a numpy matrix `x`\npredicted_greed:\tnp.x(np.x(x))\nground_truth:   \tmax(x.min(), x.max(), key=abs)\n\nintent:\tGet all urls within text `s`\npredicted_greed:\tprint(s.<eos>)\nground_truth:   \tre.findall('\"(http.*?)\"', s, re.MULTILINE | re.DOTALL)\n\n"
     ]
    },
    {
     "name": "stdout",
     "output_type": "stream",
     "text": [
      "intent:\tmatch urls whose domain doesn't start with `t` from string `document` using regex\npredicted_greed:\tre.findall(document , t)\nground_truth:   \tre.findall('http://[^t][^s\"]+\\\\.html', document)\n\nintent:\tsplit a string `mystring` considering the spaces ' '\npredicted_greed:\tre.split('' , mystring)\nground_truth:   \tmystring.replace(' ', '! !').split('!')\n\n"
     ]
    },
    {
     "name": "stdout",
     "output_type": "stream",
     "text": [
      "intent:\topen file `path` with mode 'r'\npredicted_greed:\tpath = open('r' , os.path | 'r')\nground_truth:   \topen(path, 'r')\n\n"
     ]
    },
    {
     "name": "stdout",
     "output_type": "stream",
     "text": [
      "intent:\tsum elements at the same index in list `data`\npredicted_greed:\tmap(sum , zip(* data))\nground_truth:   \t[[sum(item) for item in zip(*items)] for items in zip(*data)]\n\nintent:\tadd a new axis to array `a`\npredicted_greed:\ta.append()\nground_truth:   \ta[:, (np.newaxis)]\n\n"
     ]
    }
   ],
   "source": [
    "sos = special_symbols['code_sos']\n",
    "eos = special_symbols['code_eos']\n",
    "unk = special_symbols['code_unk']\n",
    "code_list = []\n",
    "for i, (src_seq, slot_map, code, intent) in enumerate(testloader):\n",
    "    model.eval()\n",
    "    seq = model.beam_decode(src_seq, sos, eos, unk, beam_width=13)\n",
    "    gen_code_tokens = code_intent_pair.idx2code(seq)\n",
    "    gen_code = sub_slotmap(gen_code_tokens, slot_map)\n",
    "    code_list.append(gen_code)\n",
    "    \n",
    "    # seq = model.greedy_decode(src_seq, sos, eos, unk)\n",
    "    # gen_code_tokens = code_intent_pair.idx2code(seq)\n",
    "    # gen_code = sub_slotmap(gen_code_tokens, slot_map)\n",
    "    # code_list.append(gen_code)\n",
    "    print('intent:\\t'+intent)\n",
    "#     print('predicted_beams:\\t'+gen_code)\n",
    "    print('predicted_greed:\\t'+gen_code)\n",
    "    print('ground_truth:   \\t'+code)\n",
    "    print()\n",
    "    \n",
    "#     if i == 5:\n",
    "#         break"
   ]
  },
  {
   "cell_type": "code",
   "execution_count": 64,
   "metadata": {
    "collapsed": true
   },
   "outputs": [],
   "source": [
    "write_answer_json(code_list)"
   ]
  },
  {
   "cell_type": "code",
   "execution_count": 65,
   "metadata": {
    "collapsed": true
   },
   "outputs": [
    {
     "data": {
      "text/plain": [
       "'all.(isinstance(word, myList)) == 0'"
      ]
     },
     "execution_count": 65,
     "metadata": {},
     "output_type": "execute_result"
    }
   ],
   "source": [
    "token_list = ['all','.', '(', 'isinstance', '(', 'word' ',', 'myList',')', ')' ,'==','0']\n",
    "sub_slotmap(token_list, {0:\"0\"})"
   ]
  },
  {
   "cell_type": "code",
   "execution_count": 66,
   "metadata": {},
   "outputs": [],
   "source": [
    "model.save()"
   ]
  },
  {
   "cell_type": "code",
   "execution_count": null,
   "metadata": {},
   "outputs": [],
   "source": []
  }
 ],
 "metadata": {
  "kernelspec": {
   "display_name": "Python [conda env:Anaconda3]",
   "language": "python",
   "name": "conda-env-Anaconda3-py"
  },
  "language_info": {
   "codemirror_mode": {
    "name": "ipython",
    "version": 3
   },
   "file_extension": ".py",
   "mimetype": "text/x-python",
   "name": "python",
   "nbconvert_exporter": "python",
   "pygments_lexer": "ipython3",
   "version": "3.6.3"
  }
 },
 "nbformat": 4,
 "nbformat_minor": 2
}
