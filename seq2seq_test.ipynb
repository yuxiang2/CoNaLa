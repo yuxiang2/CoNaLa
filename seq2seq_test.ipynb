{
 "cells": [
  {
   "cell_type": "code",
   "execution_count": 1,
   "metadata": {
    "collapsed": true
   },
   "outputs": [],
   "source": [
    "%load_ext autoreload\n",
    "%autoreload 2"
   ]
  },
  {
   "cell_type": "code",
   "execution_count": 2,
   "metadata": {
    "collapsed": true
   },
   "outputs": [],
   "source": [
    "import sys\n",
    "sys.path.append('./preprocessing')\n",
    "sys.path.append('./seq2seq')"
   ]
  },
  {
   "cell_type": "code",
   "execution_count": 3,
   "metadata": {
    "collapsed": true
   },
   "outputs": [],
   "source": [
    "from processor import Code_Intent_Pairs, sub_slotmap\n",
    "from model import Seq2Seq\n",
    "from data import get_train_loader, get_test_loader, write_answer_json"
   ]
  },
  {
   "cell_type": "markdown",
   "metadata": {},
   "source": [
    "### Define Hyperparameters"
   ]
  },
  {
   "cell_type": "code",
   "execution_count": 4,
   "metadata": {
    "collapsed": true
   },
   "outputs": [],
   "source": [
    "hyperP = {\n",
    "    ## training parameters\n",
    "    'batch_size' : 32,\n",
    "    'lr' : 1e-3,\n",
    "    'teacher_force_rate' : 0.90,\n",
    "    'max_epochs' : 50,\n",
    "    'lr_keep_rate' : 0.95,  # set to 1.0 to not decrease lr overtime\n",
    "    'load_pretrain_code_embed': False,\n",
    "    'freeze_embed': False,\n",
    "    \n",
    "    ## encoder architecture\n",
    "    'encoder_layers' : 2,\n",
    "    'encoder_embed_size' : 128,\n",
    "    'encoder_hidden_size' : 384,\n",
    "    'encoder_dropout_rate' : 0.3,\n",
    "    \n",
    "    ## decoder architecture\n",
    "    'decoder_layers' : 2,\n",
    "    'decoder_embed_size' : 128,\n",
    "    'decoder_hidden_size' : 384,\n",
    "    'decoder_dropout_rate' : 0.3,\n",
    "    \n",
    "    ## attn architecture\n",
    "    'attn_hidden_size' : 384,\n",
    "    \n",
    "    ## visualization\n",
    "    'print_every': 10,\n",
    "}"
   ]
  },
  {
   "cell_type": "markdown",
   "metadata": {},
   "source": [
    "### Load Data"
   ]
  },
  {
   "cell_type": "code",
   "execution_count": 5,
   "metadata": {
    "collapsed": true
   },
   "outputs": [],
   "source": [
    "code_intent_pair = Code_Intent_Pairs()"
   ]
  },
  {
   "cell_type": "code",
   "execution_count": 6,
   "metadata": {
    "collapsed": true
   },
   "outputs": [],
   "source": [
    "path = 'vocab/'\n",
    "code_intent_pair.load_dict(path)\n",
    "special_symbols = code_intent_pair.get_special_symbols()\n",
    "word_size = code_intent_pair.get_word_size()\n",
    "code_size = code_intent_pair.get_code_size()"
   ]
  },
  {
   "cell_type": "code",
   "execution_count": 7,
   "metadata": {
    "collapsed": true
   },
   "outputs": [],
   "source": [
    "train_path = 'processed_corpus/train.json'\n",
    "train_entries = code_intent_pair.load_entries(train_path)\n",
    "code_intent_pair.pad()"
   ]
  },
  {
   "cell_type": "code",
   "execution_count": 8,
   "metadata": {
    "collapsed": true
   },
   "outputs": [],
   "source": [
    "trainloader = get_train_loader(train_entries, special_symbols, hyperP)"
   ]
  },
  {
   "cell_type": "code",
   "execution_count": 9,
   "metadata": {
    "collapsed": true
   },
   "outputs": [],
   "source": [
    "valid_path = 'processed_corpus/valid.json'\n",
    "valid_entries = code_intent_pair.load_entries(valid_path)\n",
    "code_intent_pair.pad()"
   ]
  },
  {
   "cell_type": "code",
   "execution_count": 10,
   "metadata": {
    "collapsed": true
   },
   "outputs": [],
   "source": [
    "validloader = get_train_loader(valid_entries, special_symbols, hyperP)"
   ]
  },
  {
   "cell_type": "code",
   "execution_count": 11,
   "metadata": {
    "collapsed": true
   },
   "outputs": [],
   "source": [
    "test_path = 'processed_corpus/test.json'\n",
    "test_entries = code_intent_pair.load_entries(test_path)"
   ]
  },
  {
   "cell_type": "code",
   "execution_count": 12,
   "metadata": {
    "collapsed": true
   },
   "outputs": [],
   "source": [
    "testloader = get_test_loader(test_entries)"
   ]
  },
  {
   "cell_type": "markdown",
   "metadata": {},
   "source": [
    "### Define Model"
   ]
  },
  {
   "cell_type": "code",
   "execution_count": 13,
   "metadata": {
    "collapsed": true
   },
   "outputs": [],
   "source": [
    "model = Seq2Seq(word_size, code_size, hyperP)"
   ]
  },
  {
   "cell_type": "code",
   "execution_count": 14,
   "metadata": {
    "collapsed": true
   },
   "outputs": [],
   "source": [
    "import torch\n",
    "if hyperP['load_pretrain_code_embed']:\n",
    "    model.decoder.embed[0].load_state_dict(torch.load('./pretrain_code_lm/embedding-1556211835.t7'))\n",
    "    if hyperP['freeze_embed']:\n",
    "        for param in model.decoder.embed[0].parameters():\n",
    "            param.requires_grad = False"
   ]
  },
  {
   "cell_type": "code",
   "execution_count": 15,
   "metadata": {
    "collapsed": true
   },
   "outputs": [],
   "source": [
    "# model = model.cuda()"
   ]
  },
  {
   "cell_type": "code",
   "execution_count": 16,
   "metadata": {
    "collapsed": true
   },
   "outputs": [],
   "source": [
    "# inp_seq, original_out_seq, padded_out_seq, out_lens = next(iter(trainloader))"
   ]
  },
  {
   "cell_type": "code",
   "execution_count": 17,
   "metadata": {
    "collapsed": true
   },
   "outputs": [],
   "source": [
    "# logits = model(inp_seq, padded_out_seq, out_lens)"
   ]
  },
  {
   "cell_type": "markdown",
   "metadata": {},
   "source": [
    "### Training"
   ]
  },
  {
   "cell_type": "code",
   "execution_count": 18,
   "metadata": {
    "collapsed": true
   },
   "outputs": [],
   "source": [
    "import torch\n",
    "import torch.optim as optim\n",
    "from torch.optim.lr_scheduler import LambdaLR\n",
    "optimizer = optim.Adam(model.parameters(), lr=hyperP['lr'], weight_decay = 1e-4)\n",
    "loss_f = torch.nn.CrossEntropyLoss()"
   ]
  },
  {
   "cell_type": "code",
   "execution_count": 19,
   "metadata": {
    "collapsed": true
   },
   "outputs": [],
   "source": [
    "lr_keep_rate = hyperP['lr_keep_rate']\n",
    "if lr_keep_rate != 1.0:\n",
    "    lr_reduce_f = lambda epoch: lr_keep_rate ** epoch\n",
    "    scheduler = LambdaLR(optimizer, lr_lambda=lr_reduce_f)"
   ]
  },
  {
   "cell_type": "code",
   "execution_count": 20,
   "metadata": {
    "collapsed": true
   },
   "outputs": [],
   "source": [
    "def train(model, trainloader, optimizer, loss_f, hyperP):\n",
    "    model.train()\n",
    "    total_loss = 0\n",
    "    loss_sum = 0\n",
    "    total_correct = 0\n",
    "    size = 0\n",
    "    print_every = hyperP['print_every']\n",
    "    \n",
    "    for i, (inp_seq, original_out_seq, padded_out_seq, out_lens) in enumerate(trainloader):\n",
    "        logits = model(inp_seq, padded_out_seq, out_lens)\n",
    "        loss = loss_f(logits, original_out_seq)\n",
    "        optimizer.zero_grad()\n",
    "        loss.backward()\n",
    "        optimizer.step()\n",
    "\n",
    "        # show stats\n",
    "        loss_sum += loss.item()\n",
    "        total_loss += loss.item()\n",
    "        _, predictions = torch.max(logits, dim=1)\n",
    "        total_correct += (predictions == original_out_seq).sum()\n",
    "        size += len(original_out_seq)\n",
    "\n",
    "        if (i+1) % print_every == 0:\n",
    "            print('Train: loss:{}\\tacc:{}'.format(loss_sum/print_every, float(total_correct)/size), end='\\r')\n",
    "            loss_sum = 0\n",
    "            total_correct = 0\n",
    "            size = 0\n",
    "    print()\n",
    "    return total_loss / len(trainloader)"
   ]
  },
  {
   "cell_type": "code",
   "execution_count": 21,
   "metadata": {
    "collapsed": true
   },
   "outputs": [],
   "source": [
    "def valid(model, validloader, loss_f, hyperP):\n",
    "    model.eval()\n",
    "    old_rate = model.change_teacher_force_rate(0.0)\n",
    "    loss_sum = 0\n",
    "    total_correct = 0\n",
    "    size = 0\n",
    "    print_every = hyperP['print_every']\n",
    "    \n",
    "    with torch.no_grad():\n",
    "        for i, (inp_seq, original_out_seq, padded_out_seq, out_lens) in enumerate(validloader):\n",
    "            logits = model(inp_seq, padded_out_seq, out_lens)\n",
    "            loss = loss_f(logits, original_out_seq)\n",
    "\n",
    "            # show stats\n",
    "            loss_sum += loss.item()\n",
    "            _, predictions = torch.max(logits, dim=1)\n",
    "            total_correct += (predictions == original_out_seq).sum()\n",
    "            size += len(original_out_seq)\n",
    "\n",
    "    print('Valid: loss:{}\\tacc:{}'.format(loss_sum/len(validloader), float(total_correct)/size))\n",
    "    model.change_teacher_force_rate(old_rate)\n",
    "    return float(total_correct)/size"
   ]
  },
  {
   "cell_type": "code",
   "execution_count": 22,
   "metadata": {
    "collapsed": true
   },
   "outputs": [],
   "source": [
    "best_acc = 0.0"
   ]
  },
  {
   "cell_type": "code",
   "execution_count": 23,
   "metadata": {
    "scrolled": false
   },
   "outputs": [
    {
     "name": "stdout",
     "output_type": "stream",
     "text": [
      "Train: loss:2.724354648590088\tacc:0.384744543055888755\n",
      "Valid: loss:4.012266546487808\tacc:0.17816396922260547\n",
      "model saved\n",
      "Train: loss:2.256230866909027\tacc:0.44950827536579513\n",
      "Valid: loss:4.213101878762245\tacc:0.17471477845582384\n",
      "Train: loss:2.0012880206108092\tacc:0.4857279923242984\n",
      "Valid: loss:4.322030588984489\tacc:0.17166357123905546\n",
      "Train: loss:1.726535177230835\tacc:0.545214679779323666\n",
      "Valid: loss:4.347757741808891\tacc:0.1840010612894667\n",
      "model saved\n",
      "Train: loss:1.686847949028015\tacc:0.56440393379707372\n",
      "Valid: loss:4.506983742117882\tacc:0.18386840010612895\n",
      "Train: loss:1.5568177223205566\tacc:0.5799952026864955\n",
      "Valid: loss:4.583953887224197\tacc:0.19474661713982488\n",
      "model saved\n",
      "Train: loss:1.44965341091156\tacc:0.598224994003358215\n",
      "Valid: loss:4.521488204598427\tacc:0.1952772618731759\n",
      "model saved\n",
      "Train: loss:1.3718526721000672\tacc:0.6253298153034301\n",
      "Valid: loss:4.490613698959351\tacc:0.20230830459007695\n",
      "model saved\n",
      "Train: loss:1.258021068572998\tacc:0.64955624850083952\n",
      "Valid: loss:4.646244898438454\tacc:0.19726717962324225\n",
      "Train: loss:1.0990579962730407\tacc:0.6800191892540177\n",
      "Valid: loss:4.662024617195129\tacc:0.2050941894401698\n",
      "model saved\n",
      "Train: loss:1.1933558762073517\tacc:0.6629887263132646\n",
      "Valid: loss:4.7080307602882385\tacc:0.20854338020695146\n",
      "model saved\n",
      "Train: loss:1.0610370218753815\tacc:0.6951307267929959\n",
      "Valid: loss:4.705491751432419\tacc:0.2092066861236402\n",
      "model saved\n",
      "Train: loss:1.0173037767410278\tacc:0.7076037419045335\n",
      "Valid: loss:4.883669376373291\tacc:0.1976651631732555\n",
      "Train: loss:0.8993601322174072\tacc:0.7373470856320461\n",
      "Valid: loss:4.928140699863434\tacc:0.20681878482356061\n",
      "Train: loss:0.9016929864883423\tacc:0.7275125929479491\n",
      "Valid: loss:5.027313828468323\tacc:0.19713451843990448\n",
      "Train: loss:0.995194947719574\tacc:0.72690592482480351\r"
     ]
    },
    {
     "ename": "KeyboardInterrupt",
     "evalue": "",
     "output_type": "error",
     "traceback": [
      "\u001b[1;31m---------------------------------------------------------------------------\u001b[0m",
      "\u001b[1;31mKeyboardInterrupt\u001b[0m                         Traceback (most recent call last)",
      "\u001b[1;32m<ipython-input-23-2cc8529fbf20>\u001b[0m in \u001b[0;36m<module>\u001b[1;34m()\u001b[0m\n\u001b[0;32m      1\u001b[0m \u001b[0mlosses\u001b[0m \u001b[1;33m=\u001b[0m \u001b[1;33m[\u001b[0m\u001b[1;33m]\u001b[0m\u001b[1;33m\u001b[0m\u001b[0m\n\u001b[0;32m      2\u001b[0m \u001b[1;32mfor\u001b[0m \u001b[0me\u001b[0m \u001b[1;32min\u001b[0m \u001b[0mrange\u001b[0m\u001b[1;33m(\u001b[0m\u001b[0mhyperP\u001b[0m\u001b[1;33m[\u001b[0m\u001b[1;34m'max_epochs'\u001b[0m\u001b[1;33m]\u001b[0m\u001b[1;33m)\u001b[0m\u001b[1;33m:\u001b[0m\u001b[1;33m\u001b[0m\u001b[0m\n\u001b[1;32m----> 3\u001b[1;33m     \u001b[0mloss\u001b[0m \u001b[1;33m=\u001b[0m \u001b[0mtrain\u001b[0m\u001b[1;33m(\u001b[0m\u001b[0mmodel\u001b[0m\u001b[1;33m,\u001b[0m \u001b[0mtrainloader\u001b[0m\u001b[1;33m,\u001b[0m \u001b[0moptimizer\u001b[0m\u001b[1;33m,\u001b[0m \u001b[0mloss_f\u001b[0m\u001b[1;33m,\u001b[0m \u001b[0mhyperP\u001b[0m\u001b[1;33m)\u001b[0m\u001b[1;33m\u001b[0m\u001b[0m\n\u001b[0m\u001b[0;32m      4\u001b[0m     \u001b[0mlosses\u001b[0m\u001b[1;33m.\u001b[0m\u001b[0mappend\u001b[0m\u001b[1;33m(\u001b[0m\u001b[0mloss\u001b[0m\u001b[1;33m)\u001b[0m\u001b[1;33m\u001b[0m\u001b[0m\n\u001b[0;32m      5\u001b[0m     \u001b[0macc\u001b[0m \u001b[1;33m=\u001b[0m \u001b[0mvalid\u001b[0m\u001b[1;33m(\u001b[0m\u001b[0mmodel\u001b[0m\u001b[1;33m,\u001b[0m \u001b[0mvalidloader\u001b[0m\u001b[1;33m,\u001b[0m \u001b[0mloss_f\u001b[0m\u001b[1;33m,\u001b[0m \u001b[0mhyperP\u001b[0m\u001b[1;33m)\u001b[0m\u001b[1;33m\u001b[0m\u001b[0m\n",
      "\u001b[1;32m<ipython-input-20-2b7729389586>\u001b[0m in \u001b[0;36mtrain\u001b[1;34m(model, trainloader, optimizer, loss_f, hyperP)\u001b[0m\n\u001b[0;32m     11\u001b[0m         \u001b[0mloss\u001b[0m \u001b[1;33m=\u001b[0m \u001b[0mloss_f\u001b[0m\u001b[1;33m(\u001b[0m\u001b[0mlogits\u001b[0m\u001b[1;33m,\u001b[0m \u001b[0moriginal_out_seq\u001b[0m\u001b[1;33m)\u001b[0m\u001b[1;33m\u001b[0m\u001b[0m\n\u001b[0;32m     12\u001b[0m         \u001b[0moptimizer\u001b[0m\u001b[1;33m.\u001b[0m\u001b[0mzero_grad\u001b[0m\u001b[1;33m(\u001b[0m\u001b[1;33m)\u001b[0m\u001b[1;33m\u001b[0m\u001b[0m\n\u001b[1;32m---> 13\u001b[1;33m         \u001b[0mloss\u001b[0m\u001b[1;33m.\u001b[0m\u001b[0mbackward\u001b[0m\u001b[1;33m(\u001b[0m\u001b[1;33m)\u001b[0m\u001b[1;33m\u001b[0m\u001b[0m\n\u001b[0m\u001b[0;32m     14\u001b[0m         \u001b[0moptimizer\u001b[0m\u001b[1;33m.\u001b[0m\u001b[0mstep\u001b[0m\u001b[1;33m(\u001b[0m\u001b[1;33m)\u001b[0m\u001b[1;33m\u001b[0m\u001b[0m\n\u001b[0;32m     15\u001b[0m \u001b[1;33m\u001b[0m\u001b[0m\n",
      "\u001b[1;32m~\\Anaconda3\\lib\\site-packages\\torch\\tensor.py\u001b[0m in \u001b[0;36mbackward\u001b[1;34m(self, gradient, retain_graph, create_graph)\u001b[0m\n\u001b[0;32m     91\u001b[0m                 \u001b[0mproducts\u001b[0m\u001b[1;33m.\u001b[0m \u001b[0mDefaults\u001b[0m \u001b[0mto\u001b[0m\u001b[0;31m \u001b[0m\u001b[0;31m`\u001b[0m\u001b[0;31m`\u001b[0m\u001b[1;32mFalse\u001b[0m\u001b[0;31m`\u001b[0m\u001b[0;31m`\u001b[0m\u001b[1;33m.\u001b[0m\u001b[1;33m\u001b[0m\u001b[0m\n\u001b[0;32m     92\u001b[0m         \"\"\"\n\u001b[1;32m---> 93\u001b[1;33m         \u001b[0mtorch\u001b[0m\u001b[1;33m.\u001b[0m\u001b[0mautograd\u001b[0m\u001b[1;33m.\u001b[0m\u001b[0mbackward\u001b[0m\u001b[1;33m(\u001b[0m\u001b[0mself\u001b[0m\u001b[1;33m,\u001b[0m \u001b[0mgradient\u001b[0m\u001b[1;33m,\u001b[0m \u001b[0mretain_graph\u001b[0m\u001b[1;33m,\u001b[0m \u001b[0mcreate_graph\u001b[0m\u001b[1;33m)\u001b[0m\u001b[1;33m\u001b[0m\u001b[0m\n\u001b[0m\u001b[0;32m     94\u001b[0m \u001b[1;33m\u001b[0m\u001b[0m\n\u001b[0;32m     95\u001b[0m     \u001b[1;32mdef\u001b[0m \u001b[0mregister_hook\u001b[0m\u001b[1;33m(\u001b[0m\u001b[0mself\u001b[0m\u001b[1;33m,\u001b[0m \u001b[0mhook\u001b[0m\u001b[1;33m)\u001b[0m\u001b[1;33m:\u001b[0m\u001b[1;33m\u001b[0m\u001b[0m\n",
      "\u001b[1;32m~\\Anaconda3\\lib\\site-packages\\torch\\autograd\\__init__.py\u001b[0m in \u001b[0;36mbackward\u001b[1;34m(tensors, grad_tensors, retain_graph, create_graph, grad_variables)\u001b[0m\n\u001b[0;32m     88\u001b[0m     Variable._execution_engine.run_backward(\n\u001b[0;32m     89\u001b[0m         \u001b[0mtensors\u001b[0m\u001b[1;33m,\u001b[0m \u001b[0mgrad_tensors\u001b[0m\u001b[1;33m,\u001b[0m \u001b[0mretain_graph\u001b[0m\u001b[1;33m,\u001b[0m \u001b[0mcreate_graph\u001b[0m\u001b[1;33m,\u001b[0m\u001b[1;33m\u001b[0m\u001b[0m\n\u001b[1;32m---> 90\u001b[1;33m         allow_unreachable=True)  # allow_unreachable flag\n\u001b[0m\u001b[0;32m     91\u001b[0m \u001b[1;33m\u001b[0m\u001b[0m\n\u001b[0;32m     92\u001b[0m \u001b[1;33m\u001b[0m\u001b[0m\n",
      "\u001b[1;31mKeyboardInterrupt\u001b[0m: "
     ]
    }
   ],
   "source": [
    "losses = []\n",
    "for e in range(hyperP['max_epochs']):\n",
    "    loss = train(model, trainloader, optimizer, loss_f, hyperP)\n",
    "    losses.append(loss)\n",
    "    acc = valid(model, validloader, loss_f, hyperP)\n",
    "    if acc > best_acc:\n",
    "        best_acc = acc\n",
    "        model.save()\n",
    "        print('model saved')\n",
    "    if lr_keep_rate != 1.0:\n",
    "        scheduler.step()"
   ]
  },
  {
   "cell_type": "code",
   "execution_count": 24,
   "metadata": {
    "collapsed": true
   },
   "outputs": [],
   "source": [
    "model.load()"
   ]
  },
  {
   "cell_type": "markdown",
   "metadata": {},
   "source": [
    "### Decoding"
   ]
  },
  {
   "cell_type": "code",
   "execution_count": 25,
   "metadata": {
    "scrolled": false
   },
   "outputs": [
    {
     "name": "stdout",
     "output_type": "stream",
     "text": [
      "intent:\tsend a signal `signal.SIGUSR1` to the current process\n",
      "predicted_beam: \tsys . exit ( 'signal.SIGUSR1' )\n",
      "ground_truth:   \tos.kill(os.getpid(), signal.SIGUSR1)\n",
      "\n",
      "intent:\tdecode a hex string '4a4b4c' to UTF-8.\n",
      "predicted_beam: \t\"\"\"4a4b4c\"\"\" . decode ( 'utf8' )\n",
      "ground_truth:   \tbytes.fromhex('4a4b4c').decode('utf-8')\n",
      "\n",
      "intent:\tcheck if all elements in list `myList` are identical\n",
      "predicted_beam: \tall ( isinstance ( word ) for word in myList )\n",
      "ground_truth:   \tall(x == myList[0] for x in myList)\n",
      "\n",
      "intent:\tformat number of spaces between strings `Python`, `:` and `Very Good` to be `20`\n",
      "predicted_beam: \tre . sub ( ':' , ':' , Python )\n",
      "ground_truth:   \tprint('%*s : %*s' % (20, 'Python', 20, 'Very Good'))\n",
      "\n",
      "intent:\tHow to convert a string from CP-1251 to UTF-8?\n",
      "predicted_beam: \tdatetime . encode ( 'utf-8' )\n",
      "ground_truth:   \td.decode('cp1251').encode('utf8')\n",
      "\n",
      "intent:\tget rid of None values in dictionary `kwargs`\n",
      "predicted_beam: \tlist ( iter ( kwargs . values ( ) ) , key = lambda x : sum ( x [ 1 ] ) )\n",
      "ground_truth:   \tres = {k: v for k, v in list(kwargs.items()) if v is not None}\n",
      "\n"
     ]
    }
   ],
   "source": [
    "sos = special_symbols['code_sos']\n",
    "eos = special_symbols['code_eos']\n",
    "unk = special_symbols['code_unk']\n",
    "code_list = []\n",
    "for i, (src_seq, slot_map, code, intent) in enumerate(testloader):\n",
    "    model.eval()\n",
    "    seq = model.beam_decode(src_seq, sos, eos, unk, beam_width=10)\n",
    "    gen_code_tokens = code_intent_pair.idx2code(seq)\n",
    "    gen_code = sub_slotmap(gen_code_tokens, slot_map)\n",
    "    code_list.append(gen_code)\n",
    "    \n",
    "    print('intent:\\t'+intent)\n",
    "    print('predicted_beam: \\t'+gen_code)\n",
    "    print('ground_truth:   \\t'+code)\n",
    "    print()\n",
    "    \n",
    "    if i == 5:\n",
    "        break"
   ]
  },
  {
   "cell_type": "code",
   "execution_count": 28,
   "metadata": {
    "collapsed": true
   },
   "outputs": [],
   "source": [
    "from decoder import Decoder\n",
    "beam_decoder = Decoder(model)"
   ]
  },
  {
   "cell_type": "code",
   "execution_count": 34,
   "metadata": {},
   "outputs": [
    {
     "name": "stdout",
     "output_type": "stream",
     "text": [
      "intent:\tsend a signal `signal.SIGUSR1` to the current process\n",
      "predicted_beam: \tsys . exit ( 'signal.SIGUSR1' )\n",
      "ground_truth:   \tos.kill(os.getpid(), signal.SIGUSR1)\n",
      "\n",
      "intent:\tdecode a hex string '4a4b4c' to UTF-8.\n",
      "predicted_beam: \t\"\"\"4a4b4c\"\"\" . decode ( 'utf8' )\n",
      "ground_truth:   \tbytes.fromhex('4a4b4c').decode('utf-8')\n",
      "\n",
      "intent:\tcheck if all elements in list `myList` are identical\n",
      "predicted_beam: \tall ( isinstance ( word ) for word in myList )\n",
      "ground_truth:   \tall(x == myList[0] for x in myList)\n",
      "\n",
      "intent:\tformat number of spaces between strings `Python`, `:` and `Very Good` to be `20`\n",
      "predicted_beam: \tre . sub ( ':' , ':' , Python )\n",
      "ground_truth:   \tprint('%*s : %*s' % (20, 'Python', 20, 'Very Good'))\n",
      "\n",
      "intent:\tHow to convert a string from CP-1251 to UTF-8?\n",
      "predicted_beam: \tdatetime . encode ( 'utf-8' )\n",
      "ground_truth:   \td.decode('cp1251').encode('utf8')\n",
      "\n",
      "intent:\tget rid of None values in dictionary `kwargs`\n",
      "predicted_beam: \tlist ( iter ( kwargs . values ( ) ) , key = lambda x : sum ( x [ 1 ] ) )\n",
      "ground_truth:   \tres = {k: v for k, v in list(kwargs.items()) if v is not None}\n",
      "\n"
     ]
    }
   ],
   "source": [
    "code_list = []\n",
    "for i, (src_seq, slot_map, code, intent) in enumerate(testloader):\n",
    "    model.eval()\n",
    "    seq = beam_decoder.decode(src_seq, sos, eos, unk, beam_width=10)\n",
    "    gen_code_tokens = code_intent_pair.idx2code(seq)\n",
    "    gen_code = sub_slotmap(gen_code_tokens, slot_map)\n",
    "    code_list.append(gen_code)\n",
    "    \n",
    "    print('intent:\\t'+intent)\n",
    "    print('predicted_beam: \\t'+gen_code)\n",
    "    print('ground_truth:   \\t'+code)\n",
    "    print()\n",
    "    \n",
    "    if i == 5:\n",
    "        break"
   ]
  },
  {
   "cell_type": "code",
   "execution_count": 37,
   "metadata": {
    "collapsed": true
   },
   "outputs": [],
   "source": [
    "write_answer_json(code_list)"
   ]
  },
  {
   "cell_type": "code",
   "execution_count": 38,
   "metadata": {},
   "outputs": [
    {
     "name": "stdout",
     "output_type": "stream",
     "text": [
      "updating: answer.txt (deflated 73%)\r\n"
     ]
    }
   ],
   "source": [
    "!zip answer.zip answer.txt"
   ]
  }
 ],
 "metadata": {
  "kernelspec": {
   "display_name": "Python [conda env:Anaconda3]",
   "language": "python",
   "name": "conda-env-Anaconda3-py"
  },
  "language_info": {
   "codemirror_mode": {
    "name": "ipython",
    "version": 3
   },
   "file_extension": ".py",
   "mimetype": "text/x-python",
   "name": "python",
   "nbconvert_exporter": "python",
   "pygments_lexer": "ipython3",
   "version": "3.6.3"
  }
 },
 "nbformat": 4,
 "nbformat_minor": 2
}
