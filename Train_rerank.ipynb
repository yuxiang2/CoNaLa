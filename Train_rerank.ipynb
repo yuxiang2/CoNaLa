{
 "cells": [
  {
   "cell_type": "code",
   "execution_count": 1,
   "metadata": {},
   "outputs": [],
   "source": [
    "%load_ext autoreload\n",
    "%autoreload 2"
   ]
  },
  {
   "cell_type": "code",
   "execution_count": 2,
   "metadata": {},
   "outputs": [],
   "source": [
    "import torch\n",
    "import torch.nn as nn\n",
    "import torch.nn.utils as U\n",
    "from torch.utils.data import Dataset, DataLoader\n",
    "import json\n",
    "import torch.optim as optim\n",
    "from torch.optim.lr_scheduler import LambdaLR"
   ]
  },
  {
   "cell_type": "code",
   "execution_count": 3,
   "metadata": {},
   "outputs": [],
   "source": [
    "import sys\n",
    "sys.path.append('./preprocessing')\n",
    "sys.path.append('./seq2seq')\n",
    "from processor import Code_Intent_Pairs\n",
    "from rerank_model import ScoreNet, get_train_loader"
   ]
  },
  {
   "cell_type": "markdown",
   "metadata": {},
   "source": [
    "### Load Data"
   ]
  },
  {
   "cell_type": "code",
   "execution_count": 4,
   "metadata": {},
   "outputs": [],
   "source": [
    "with open('./corpus/rerank_data.json', 'r') as f:\n",
    "    dataset = json.load(f)"
   ]
  },
  {
   "cell_type": "code",
   "execution_count": 5,
   "metadata": {},
   "outputs": [],
   "source": [
    "hyperP = {\n",
    "    ## training parameters\n",
    "    'batch_size': 32,\n",
    "    'lr': 1e-3,\n",
    "    'max_epochs': 20,\n",
    "    'lr_keep_rate': 0.8,  # set to 1.0 to not decrease lr overtime\n",
    "\n",
    "    ## encoder architecture\n",
    "    'encoder_layers': 2,\n",
    "    'encoder_embed_size': 128,\n",
    "    'encoder_hidden_size': 256,\n",
    "    'encoder_dropout_rate': 0.3,\n",
    "\n",
    "    ## visualization\n",
    "    'print_every': 30\n",
    "}"
   ]
  },
  {
   "cell_type": "code",
   "execution_count": 6,
   "metadata": {},
   "outputs": [],
   "source": [
    "trainloader = get_train_loader(dataset, hyperP)"
   ]
  },
  {
   "cell_type": "code",
   "execution_count": 7,
   "metadata": {},
   "outputs": [],
   "source": [
    "path = 'vocab/'\n",
    "code_intent_pair = Code_Intent_Pairs()\n",
    "code_intent_pair.load_dict(path)\n",
    "word_size = code_intent_pair.get_word_size()\n",
    "code_size = code_intent_pair.get_code_size()"
   ]
  },
  {
   "cell_type": "markdown",
   "metadata": {},
   "source": [
    "### Train"
   ]
  },
  {
   "cell_type": "code",
   "execution_count": 9,
   "metadata": {},
   "outputs": [],
   "source": [
    "model = ScoreNet(word_size, code_size, hyperP).cuda()\n",
    "\n",
    "optimizer = optim.Adam(model.parameters(), lr=hyperP['lr'], weight_decay=1e-4)\n",
    "lr_keep_rate = hyperP['lr_keep_rate']\n",
    "if lr_keep_rate != 1.0:\n",
    "    lr_reduce_f = lambda epoch: lr_keep_rate ** epoch\n",
    "    scheduler = LambdaLR(optimizer, lr_lambda=lr_reduce_f)\n",
    "\n",
    "loss_f = torch.nn.MSELoss()"
   ]
  },
  {
   "cell_type": "code",
   "execution_count": 10,
   "metadata": {},
   "outputs": [],
   "source": [
    "def train(model, trainloader, optimizer, loss_f, hyperP, e):\n",
    "    total_len = len(trainloader) * hyperP['batch_size']\n",
    "    model.train()\n",
    "    total_loss = 0\n",
    "    loss_sum = 0\n",
    "    cnt = 0\n",
    "    print_every = hyperP['print_every']\n",
    "\n",
    "    for i, (intents, codes, slot_nums, scores, intents_seq_order, codes_seq_order) in enumerate(trainloader):\n",
    "        predict_scores = model(intents, codes, slot_nums, intents_seq_order, codes_seq_order)\n",
    "        loss = loss_f(predict_scores, scores.cuda())\n",
    "        optimizer.zero_grad()\n",
    "        loss.backward()\n",
    "        optimizer.step()\n",
    "\n",
    "        # show stats\n",
    "        loss_sum += loss.item()\n",
    "        total_loss += loss.item()\n",
    "        cnt += hyperP['batch_size']\n",
    "        if (i + 1) % print_every == 0:\n",
    "            print('Epoch {}, prograss {}%, \\tTrain loss:{}\\t'.format(e, \n",
    "                100 * cnt / total_len, loss_sum / print_every), end='\\r')\n",
    "            loss_sum = 0\n",
    "            \n",
    "    print()\n",
    "\n",
    "    return total_loss / len(trainloader)"
   ]
  },
  {
   "cell_type": "code",
   "execution_count": 11,
   "metadata": {},
   "outputs": [],
   "source": [
    "model.load()"
   ]
  },
  {
   "cell_type": "code",
   "execution_count": 12,
   "metadata": {},
   "outputs": [
    {
     "name": "stdout",
     "output_type": "stream",
     "text": [
      "Epoch 0, prograss 99.57389549226284%, \tTrain loss:0.03394944096604983\t\t\t\n",
      "model saved\n",
      "Epoch 1, prograss 99.57389549226284%, \tTrain loss:0.02907513485600551\t\t\t\n",
      "model saved\n",
      "Epoch 2, prograss 99.57389549226284%, \tTrain loss:0.03227131379147371\t\t\t\n",
      "model saved\n",
      "Epoch 3, prograss 99.57389549226284%, \tTrain loss:0.03264158957948287\t\t\t\n",
      "model saved\n",
      "Epoch 4, prograss 99.57389549226284%, \tTrain loss:0.030484154323736825\t\t\n",
      "model saved\n",
      "Epoch 5, prograss 99.57389549226284%, \tTrain loss:0.02767517122750481\t\t\t\n",
      "model saved\n",
      "Epoch 6, prograss 99.57389549226284%, \tTrain loss:0.027316372406979404\t\t\n",
      "model saved\n",
      "Epoch 7, prograss 99.57389549226284%, \tTrain loss:0.02615900772313277\t\t\t\n",
      "model saved\n",
      "Epoch 8, prograss 99.57389549226284%, \tTrain loss:0.02730207865436872\t\t\t\n",
      "model saved\n",
      "Epoch 9, prograss 99.57389549226284%, \tTrain loss:0.02611682554706931\t\t\t\n",
      "model saved\n",
      "Epoch 10, prograss 99.57389549226284%, \tTrain loss:0.021806607178101938\t\t\n",
      "model saved\n",
      "Epoch 11, prograss 99.57389549226284%, \tTrain loss:0.022874151729047297\t\t\n",
      "model saved\n",
      "Epoch 12, prograss 99.57389549226284%, \tTrain loss:0.025135187432169914\t\t\n",
      "model saved\n",
      "Epoch 13, prograss 99.57389549226284%, \tTrain loss:0.02230453542433679\t\t\t\n",
      "model saved\n",
      "Epoch 14, prograss 99.57389549226284%, \tTrain loss:0.023252348663906255\t\t\n",
      "model saved\n",
      "Epoch 15, prograss 99.57389549226284%, \tTrain loss:0.02541632583985726\t\t\t\n",
      "model saved\n",
      "Epoch 16, prograss 99.57389549226284%, \tTrain loss:0.02314367815852165\t\t\t\n",
      "model saved\n",
      "Epoch 17, prograss 99.57389549226284%, \tTrain loss:0.024017123381296794\t\t\n",
      "model saved\n",
      "Epoch 18, prograss 99.57389549226284%, \tTrain loss:0.024389416569223006\t\t\n",
      "model saved\n",
      "Epoch 19, prograss 99.57389549226284%, \tTrain loss:0.021208650649835667\t\t\n",
      "model saved\n"
     ]
    }
   ],
   "source": [
    "losses = []\n",
    "for e in range(hyperP['max_epochs']):\n",
    "    loss = train(model, trainloader, optimizer, loss_f, hyperP, e)\n",
    "    losses.append(loss)\n",
    "    model.save()\n",
    "    print('model saved')\n",
    "    if lr_keep_rate != 1.0:\n",
    "        scheduler.step()"
   ]
  },
  {
   "cell_type": "code",
   "execution_count": null,
   "metadata": {},
   "outputs": [],
   "source": []
  }
 ],
 "metadata": {
  "kernelspec": {
   "display_name": "Environment (conda_pytorch_p36)",
   "language": "python",
   "name": "conda_pytorch_p36"
  },
  "language_info": {
   "codemirror_mode": {
    "name": "ipython",
    "version": 3
   },
   "file_extension": ".py",
   "mimetype": "text/x-python",
   "name": "python",
   "nbconvert_exporter": "python",
   "pygments_lexer": "ipython3",
   "version": "3.6.7"
  }
 },
 "nbformat": 4,
 "nbformat_minor": 2
}
