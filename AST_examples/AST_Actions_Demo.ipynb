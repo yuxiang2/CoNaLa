{
 "cells": [
  {
   "cell_type": "code",
   "execution_count": 3,
   "metadata": {},
   "outputs": [],
   "source": [
    "import ast\n",
    "from asdl.asdl import ASDLGrammar\n",
    "from asdl.lang.py.py_asdl_helper import *\n",
    "from asdl.lang.py.py_transition_system import *\n",
    "from asdl.hypothesis import *\n",
    "import astor"
   ]
  },
  {
   "cell_type": "code",
   "execution_count": 4,
   "metadata": {
    "collapsed": true
   },
   "outputs": [],
   "source": [
    "# read in the grammar specification of Python 3, defined in ASDL\n",
    "asdl_text = open('./asdl/lang/py3/py3_asdl.txt').read()\n",
    "grammar = ASDLGrammar.from_text(asdl_text)"
   ]
  },
  {
   "cell_type": "code",
   "execution_count": 5,
   "metadata": {
    "collapsed": true
   },
   "outputs": [],
   "source": [
    "py_code = \"\"\"pandas.read('file.csv', nrows=100)\"\"\"\n",
    "py_ast = ast.parse(py_code)"
   ]
  },
  {
   "cell_type": "markdown",
   "metadata": {},
   "source": [
    "### AST2Actions"
   ]
  },
  {
   "cell_type": "code",
   "execution_count": 6,
   "metadata": {
    "collapsed": true
   },
   "outputs": [],
   "source": [
    "# convert to adsl ast, different from normal ast\n",
    "asdl_ast = python_ast_to_asdl_ast(py_ast.body[0], grammar)"
   ]
  },
  {
   "cell_type": "code",
   "execution_count": 7,
   "metadata": {
    "collapsed": true
   },
   "outputs": [],
   "source": [
    "# get python transition parser\n",
    "parser = PythonTransitionSystem(grammar)\n",
    "\n",
    "# get all actions from ast\n",
    "actions = parser.get_actions(asdl_ast)"
   ]
  },
  {
   "cell_type": "code",
   "execution_count": 8,
   "metadata": {},
   "outputs": [
    {
     "data": {
      "text/plain": [
       "[ApplyRule[stmt -> Expr(expr value)],\n",
       " ApplyRule[expr -> Call(expr func, expr* args, keyword* keywords)],\n",
       " ApplyRule[expr -> Attribute(expr value, identifier attr)],\n",
       " ApplyRule[expr -> Name(identifier id, expr_context ctx)],\n",
       " GenToken[pandas],\n",
       " ApplyRule[expr_context -> Load()],\n",
       " GenToken[read],\n",
       " ApplyRule[expr -> Str(string s)],\n",
       " GenToken[file.csv],\n",
       " GenToken[</primitive>],\n",
       " Reduce,\n",
       " ApplyRule[keyword -> keyword(identifier? arg, expr value)],\n",
       " GenToken[nrows],\n",
       " ApplyRule[expr -> Num(object n)],\n",
       " GenToken[100],\n",
       " Reduce]"
      ]
     },
     "execution_count": 8,
     "metadata": {},
     "output_type": "execute_result"
    }
   ],
   "source": [
    "actions"
   ]
  },
  {
   "cell_type": "code",
   "execution_count": 11,
   "metadata": {},
   "outputs": [
    {
     "data": {
      "text/plain": [
       "asdl.transition_system.ApplyRuleAction"
      ]
     },
     "execution_count": 11,
     "metadata": {},
     "output_type": "execute_result"
    }
   ],
   "source": [
    "actions[0].__class__"
   ]
  },
  {
   "cell_type": "code",
   "execution_count": 18,
   "metadata": {},
   "outputs": [
    {
     "data": {
      "text/plain": [
       "(asdl.transition_system.ApplyRuleAction,)"
      ]
     },
     "execution_count": 18,
     "metadata": {},
     "output_type": "execute_result"
    }
   ],
   "source": [
    "hypothesis = Hypothesis()\n",
    "parser.get_valid_continuation_types(hypothesis)"
   ]
  },
  {
   "cell_type": "markdown",
   "metadata": {},
   "source": [
    "### Actions2AST"
   ]
  },
  {
   "cell_type": "code",
   "execution_count": 23,
   "metadata": {},
   "outputs": [],
   "source": [
    "# a hypothesis is an (partial) ASDL AST generated using a sequence of tree-construction actions\n",
    "hypothesis = Hypothesis()\n",
    "for t, action in enumerate(actions, 1):\n",
    "\n",
    "    # this assert the next action is a valid type\n",
    "    assert action.__class__ in parser.get_valid_continuation_types(hypothesis)\n",
    "\n",
    "    # this assert that next action has a valid field\n",
    "    if isinstance(action, ApplyRuleAction) and hypothesis.frontier_node:\n",
    "        assert action.production in grammar[hypothesis.frontier_field.type]\n",
    "        # grammar[hypothesis.frontier_field.type] is a list of possible actions\n",
    "\n",
    "    # print('t=%d, Action=%s' % (t, action))\n",
    "    hypothesis.apply_action(action)"
   ]
  },
  {
   "cell_type": "code",
   "execution_count": 24,
   "metadata": {
    "collapsed": true
   },
   "outputs": [],
   "source": [
    "ast_from_actions = asdl_ast_to_python_ast(hypothesis.tree, grammar)"
   ]
  },
  {
   "cell_type": "code",
   "execution_count": 25,
   "metadata": {},
   "outputs": [
    {
     "data": {
      "text/plain": [
       "\"pandas.read('file.csv', nrows=100)\""
      ]
     },
     "execution_count": 25,
     "metadata": {},
     "output_type": "execute_result"
    }
   ],
   "source": [
    "astor.to_source(ast_from_actions).strip()"
   ]
  },
  {
   "cell_type": "code",
   "execution_count": null,
   "metadata": {
    "collapsed": true
   },
   "outputs": [],
   "source": []
  }
 ],
 "metadata": {
  "kernelspec": {
   "display_name": "Python [conda env:Anaconda3]",
   "language": "python",
   "name": "conda-env-Anaconda3-py"
  },
  "language_info": {
   "codemirror_mode": {
    "name": "ipython",
    "version": 3
   },
   "file_extension": ".py",
   "mimetype": "text/x-python",
   "name": "python",
   "nbconvert_exporter": "python",
   "pygments_lexer": "ipython3",
   "version": "3.6.3"
  }
 },
 "nbformat": 4,
 "nbformat_minor": 2
}
