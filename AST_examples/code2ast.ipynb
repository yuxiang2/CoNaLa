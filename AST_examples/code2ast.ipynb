{
 "cells": [
  {
   "cell_type": "code",
   "execution_count": 51,
   "metadata": {},
   "outputs": [],
   "source": [
    "import ast"
   ]
  },
  {
   "cell_type": "code",
   "execution_count": 21,
   "metadata": {},
   "outputs": [],
   "source": [
    "expr = '''\n",
    "def add(arg1, arg2):\n",
    "    return arg1 + arg2\n",
    "'''"
   ]
  },
  {
   "cell_type": "code",
   "execution_count": 22,
   "metadata": {},
   "outputs": [
    {
     "data": {
      "text/plain": [
       "'\\ndef add(arg1, arg2):\\n    return arg1 + arg2\\n'"
      ]
     },
     "execution_count": 22,
     "metadata": {},
     "output_type": "execute_result"
    }
   ],
   "source": [
    "expr"
   ]
  },
  {
   "cell_type": "code",
   "execution_count": 23,
   "metadata": {},
   "outputs": [
    {
     "data": {
      "text/plain": [
       "<_ast.Module at 0x262a3b0d198>"
      ]
     },
     "execution_count": 23,
     "metadata": {},
     "output_type": "execute_result"
    }
   ],
   "source": [
    "expr_ast = ast.parse(expr)\n",
    "expr_ast"
   ]
  },
  {
   "cell_type": "code",
   "execution_count": 24,
   "metadata": {},
   "outputs": [
    {
     "data": {
      "text/plain": [
       "\"Module(body=[FunctionDef(name='add', args=arguments(args=[arg(arg='arg1', annotation=None), arg(arg='arg2', annotation=None)], vararg=None, kwonlyargs=[], kw_defaults=[], kwarg=None, defaults=[]), body=[Return(value=BinOp(left=Name(id='arg1', ctx=Load()), op=Add(), right=Name(id='arg2', ctx=Load())))], decorator_list=[], returns=None)])\""
      ]
     },
     "execution_count": 24,
     "metadata": {},
     "output_type": "execute_result"
    }
   ],
   "source": [
    "ast.dump(expr_ast)"
   ]
  },
  {
   "cell_type": "markdown",
   "metadata": {},
   "source": [
    "* Module is the parent node of the function definition\n",
    "* Body includes what defines this function, including function name, arguments\n",
    "* the Second Body includes what is inside of the function"
   ]
  },
  {
   "cell_type": "markdown",
   "metadata": {},
   "source": [
    "### More Example"
   ]
  },
  {
   "cell_type": "code",
   "execution_count": 261,
   "metadata": {
    "collapsed": true
   },
   "outputs": [],
   "source": [
    "def tree_traverse(node, dep=0):\n",
    "    if node == None:\n",
    "        return\n",
    "    \n",
    "    fields = ast.iter_fields(node)\n",
    "    for (field,val) in fields:\n",
    "        print('field:' + str(field))\n",
    "        if '_ast' in str(type(val)):\n",
    "            print('type:' + str(type(val)))\n",
    "            tree_traverse(val,dep+1)\n",
    "        elif isinstance(val, list):\n",
    "            for e in val:\n",
    "                if '_ast' in str(type(e)):\n",
    "                    print('type:' + str(type(e)))\n",
    "                    tree_traverse(e,dep+1)\n",
    "                else:\n",
    "                    print('val:' + str(e))\n",
    "        else:\n",
    "            print('val:' + str(val))"
   ]
  },
  {
   "cell_type": "code",
   "execution_count": 262,
   "metadata": {},
   "outputs": [
    {
     "data": {
      "text/plain": [
       "\"Module(body=[Expr(value=Call(func=Name(id='sort', ctx=Load()), args=[Name(id='mylist', ctx=Load())], keywords=[keyword(arg='reverse', value=NameConstant(value=True))]))])\""
      ]
     },
     "execution_count": 262,
     "metadata": {},
     "output_type": "execute_result"
    }
   ],
   "source": [
    "root_node = ast.parse('sort(mylist, reverse=True)')\n",
    "ast.dump(root_node)"
   ]
  },
  {
   "cell_type": "code",
   "execution_count": 263,
   "metadata": {},
   "outputs": [
    {
     "name": "stdout",
     "output_type": "stream",
     "text": [
      "field:body\n",
      "type:<class '_ast.Expr'>\n",
      "field:value\n",
      "type:<class '_ast.Call'>\n",
      "field:func\n",
      "type:<class '_ast.Name'>\n",
      "field:id\n",
      "val:sort\n",
      "field:ctx\n",
      "type:<class '_ast.Load'>\n",
      "field:args\n",
      "type:<class '_ast.Name'>\n",
      "field:id\n",
      "val:mylist\n",
      "field:ctx\n",
      "type:<class '_ast.Load'>\n",
      "field:keywords\n",
      "type:<class '_ast.keyword'>\n",
      "field:arg\n",
      "val:reverse\n",
      "field:value\n",
      "type:<class '_ast.NameConstant'>\n",
      "field:value\n",
      "val:True\n"
     ]
    }
   ],
   "source": [
    "tree_traverse(root_node)"
   ]
  },
  {
   "cell_type": "code",
   "execution_count": null,
   "metadata": {
    "collapsed": true
   },
   "outputs": [],
   "source": []
  }
 ],
 "metadata": {
  "kernelspec": {
   "display_name": "Python [conda env:Anaconda3]",
   "language": "python",
   "name": "conda-env-Anaconda3-py"
  },
  "language_info": {
   "codemirror_mode": {
    "name": "ipython",
    "version": 3
   },
   "file_extension": ".py",
   "mimetype": "text/x-python",
   "name": "python",
   "nbconvert_exporter": "python",
   "pygments_lexer": "ipython3",
   "version": "3.6.3"
  }
 },
 "nbformat": 4,
 "nbformat_minor": 2
}
