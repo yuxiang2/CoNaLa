{
 "cells": [
  {
   "cell_type": "code",
   "execution_count": 2,
   "metadata": {
    "collapsed": true
   },
   "outputs": [],
   "source": [
    "import ast\n",
    "import astor"
   ]
  },
  {
   "cell_type": "code",
   "execution_count": 2,
   "metadata": {
    "collapsed": true
   },
   "outputs": [],
   "source": [
    "py_code = \"\"\"pandas.read('file.csv', nrows=100)\"\"\""
   ]
  },
  {
   "cell_type": "code",
   "execution_count": 3,
   "metadata": {
    "collapsed": true
   },
   "outputs": [],
   "source": [
    "root_node = ast.parse(py_code)"
   ]
  },
  {
   "cell_type": "markdown",
   "metadata": {},
   "source": [
    "### Convert AST to source code"
   ]
  },
  {
   "cell_type": "code",
   "execution_count": 4,
   "metadata": {},
   "outputs": [
    {
     "data": {
      "text/plain": [
       "\"pandas.read('file.csv', nrows=100)\\n\""
      ]
     },
     "execution_count": 4,
     "metadata": {},
     "output_type": "execute_result"
    }
   ],
   "source": [
    "astor.to_source(root_node)"
   ]
  },
  {
   "cell_type": "markdown",
   "metadata": {},
   "source": [
    "### Show the Tree"
   ]
  },
  {
   "cell_type": "code",
   "execution_count": 8,
   "metadata": {},
   "outputs": [
    {
     "name": "stdout",
     "output_type": "stream",
     "text": [
      "Module(\n",
      "    body=[\n",
      "        Expr(\n",
      "            value=Call(func=Attribute(value=Name(id='pandas'), attr='read'),\n",
      "                args=[Str(s='file.csv')],\n",
      "                keywords=[keyword(arg='nrows', value=Num(n=100))]))])\n"
     ]
    }
   ],
   "source": [
    "print(astor.dump_tree(root_node))"
   ]
  },
  {
   "cell_type": "code",
   "execution_count": 5,
   "metadata": {},
   "outputs": [
    {
     "name": "stdout",
     "output_type": "stream",
     "text": [
      "print('hello world!')\n",
      "\n"
     ]
    }
   ],
   "source": [
    "hello_word = ast.Str(s='hello world!')\n",
    "print_name = ast.Name(id='print')\n",
    "print_call = ast.Call(func=print_name, args=[hello_word], keywords=[])\n",
    "module = ast.Module(body=[ast.Expr(print_call)])\n",
    "\n",
    "print(astor.to_source(module))"
   ]
  },
  {
   "cell_type": "code",
   "execution_count": 74,
   "metadata": {
    "collapsed": true
   },
   "outputs": [],
   "source": [
    "code = '''\n",
    "x = False\n",
    "True and (False or x)\n",
    "'''"
   ]
  },
  {
   "cell_type": "code",
   "execution_count": 75,
   "metadata": {},
   "outputs": [
    {
     "name": "stdout",
     "output_type": "stream",
     "text": [
      "Module(\n",
      "    body=[Assign(targets=[Name(id='x')], value=NameConstant(value=False)),\n",
      "        Expr(\n",
      "            value=BoolOp(op=And,\n",
      "                values=[NameConstant(value=True), BoolOp(op=Or, values=[NameConstant(value=False), Name(id='x')])]))])\n"
     ]
    }
   ],
   "source": [
    "print(astor.dump_tree(ast.parse(code)))"
   ]
  },
  {
   "cell_type": "code",
   "execution_count": null,
   "metadata": {
    "collapsed": true
   },
   "outputs": [],
   "source": [
    "line2 = ast.BoolOp(\n",
    "    op=ast.And(),\n",
    "    values=[ast.NameConstant(value=True), ast.NameConstant(value=False)])\n",
    "\n",
    "module = ast.Module(body=[ast.Expr(node)])"
   ]
  },
  {
   "cell_type": "code",
   "execution_count": null,
   "metadata": {
    "collapsed": true
   },
   "outputs": [],
   "source": [
    "print(astor.to_source(module))"
   ]
  }
 ],
 "metadata": {
  "kernelspec": {
   "display_name": "Python [conda env:Anaconda3]",
   "language": "python",
   "name": "conda-env-Anaconda3-py"
  },
  "language_info": {
   "codemirror_mode": {
    "name": "ipython",
    "version": 3
   },
   "file_extension": ".py",
   "mimetype": "text/x-python",
   "name": "python",
   "nbconvert_exporter": "python",
   "pygments_lexer": "ipython3",
   "version": "3.6.3"
  }
 },
 "nbformat": 4,
 "nbformat_minor": 2
}
