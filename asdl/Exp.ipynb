{
 "cells": [
  {
   "cell_type": "code",
   "execution_count": 1,
   "metadata": {
    "collapsed": true
   },
   "outputs": [],
   "source": [
    "%load_ext autoreload\n",
    "%autoreload 2"
   ]
  },
  {
   "cell_type": "code",
   "execution_count": 2,
   "metadata": {
    "collapsed": true
   },
   "outputs": [],
   "source": [
    "import preprocess as P\n",
    "import json"
   ]
  },
  {
   "cell_type": "code",
   "execution_count": 5,
   "metadata": {
    "collapsed": true
   },
   "outputs": [],
   "source": [
    "datatrain = json.load(open('../corpus/train.json'))\n",
    "datatest = json.load(open('../corpus/test.json'))\n",
    "grammar_file = 'py_grammar.txt'"
   ]
  },
  {
   "cell_type": "code",
   "execution_count": 6,
   "metadata": {
    "collapsed": true
   },
   "outputs": [],
   "source": [
    "preprocessor = P.preprocessor(grammar_file)"
   ]
  },
  {
   "cell_type": "code",
   "execution_count": 7,
   "metadata": {
    "scrolled": true
   },
   "outputs": [
    {
     "name": "stdout",
     "output_type": "stream",
     "text": [
      "one code failed to generate ast\n",
      "sum([sum(x) for x in [[1, 2, 3, 4], [2, 4, 5, 6]]])\n",
      "invalid syntax (<unknown>, line 1)\n"
     ]
    }
   ],
   "source": [
    "processed_train = preprocessor.preprocess(datatrain)"
   ]
  },
  {
   "cell_type": "code",
   "execution_count": 8,
   "metadata": {
    "collapsed": true
   },
   "outputs": [],
   "source": [
    "processed_test = preprocessor.preprocess(datatest)"
   ]
  },
  {
   "cell_type": "code",
   "execution_count": 11,
   "metadata": {
    "scrolled": true
   },
   "outputs": [],
   "source": [
    "src_vocab, primitive_vocab, code_vocab = preprocessor.get_vocab(processed_train)"
   ]
  },
  {
   "cell_type": "code",
   "execution_count": 12,
   "metadata": {
    "collapsed": true
   },
   "outputs": [],
   "source": [
    "import pickle"
   ]
  },
  {
   "cell_type": "code",
   "execution_count": 18,
   "metadata": {},
   "outputs": [],
   "source": [
    "pickle.dump(processed_train, open('../processed_data/processed_train.bin','wb'))\n",
    "pickle.dump(processed_test, open('../processed_data/processed_test.bin','wb'))\n",
    "pickle.dump(src_vocab, open('../processed_data/src_vocab.bin','wb'))\n",
    "pickle.dump(primitive_vocab, open('../processed_data/primitive_vocab.bin','wb'))\n",
    "pickle.dump(code_vocab, open('../processed_data/code_vocab.bin','wb'))"
   ]
  }
 ],
 "metadata": {
  "kernelspec": {
   "display_name": "Python [conda env:Anaconda3]",
   "language": "python",
   "name": "conda-env-Anaconda3-py"
  },
  "language_info": {
   "codemirror_mode": {
    "name": "ipython",
    "version": 3
   },
   "file_extension": ".py",
   "mimetype": "text/x-python",
   "name": "python",
   "nbconvert_exporter": "python",
   "pygments_lexer": "ipython3",
   "version": "3.6.3"
  }
 },
 "nbformat": 4,
 "nbformat_minor": 2
}
