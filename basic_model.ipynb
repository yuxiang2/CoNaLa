{
 "cells": [
  {
   "cell_type": "code",
   "execution_count": 1,
   "metadata": {
    "collapsed": true
   },
   "outputs": [],
   "source": [
    "%load_ext autoreload\n",
    "%autoreload 2"
   ]
  },
  {
   "cell_type": "code",
   "execution_count": 2,
   "metadata": {},
   "outputs": [],
   "source": [
    "import json\n",
    "import json_lines\n",
    "import preprocess_temp as P\n",
    "import model.parsers as M"
   ]
  },
  {
   "cell_type": "markdown",
   "metadata": {},
   "source": [
    "### Load Data"
   ]
  },
  {
   "cell_type": "code",
   "execution_count": 3,
   "metadata": {
    "collapsed": true
   },
   "outputs": [],
   "source": [
    "directory = './conala-corpus/'\n",
    "train_file = directory + 'train.json'\n",
    "test_file = directory + 'test.json'\n",
    "\n",
    "with open(train_file) as f:\n",
    "    train_data = json.load(f)\n",
    "    \n",
    "with open(test_file) as f:\n",
    "    test_data = json.load(f)"
   ]
  },
  {
   "cell_type": "code",
   "execution_count": 4,
   "metadata": {
    "collapsed": true
   },
   "outputs": [],
   "source": [
    "mine_file = directory + 'mined.jsonl'\n",
    "mine_data = []\n",
    "with open(mine_file) as f:\n",
    "    mine_data = [line for line in json_lines.reader(f)]"
   ]
  },
  {
   "cell_type": "markdown",
   "metadata": {},
   "source": [
    "### Let's preprocess the data. Everything is in Preprocess.py\n",
    "### Adding mined data"
   ]
  },
  {
   "cell_type": "code",
   "execution_count": 5,
   "metadata": {},
   "outputs": [
    {
     "data": {
      "text/plain": [
       "{'id': '34705205_34705233_0',\n 'intent': 'Sort a nested list by two elements',\n 'parent_answer_post_id': 34705233,\n 'prob': 0.8690001442846342,\n 'question_id': 34705205,\n 'snippet': 'sorted(l, key=lambda x: (-int(x[1]), x[0]))'}"
      ]
     },
     "execution_count": 5,
     "metadata": {},
     "output_type": "execute_result"
    }
   ],
   "source": [
    "mine_data[0]"
   ]
  },
  {
   "cell_type": "code",
   "execution_count": 6,
   "metadata": {
    "collapsed": true
   },
   "outputs": [],
   "source": [
    "# intent processing includes lowercase, remove punctuation'?'\n",
    "train_intent, train_codes = P.process_data(train_data)\n",
    "test_intent, test_codes = P.process_data(test_data)"
   ]
  },
  {
   "cell_type": "code",
   "execution_count": 7,
   "metadata": {
    "collapsed": true
   },
   "outputs": [],
   "source": [
    "mine_intent, mine_codes = P.process_data(mine_data, mine=True)"
   ]
  },
  {
   "cell_type": "code",
   "execution_count": 8,
   "metadata": {
    "collapsed": true
   },
   "outputs": [],
   "source": [
    "# this class is used for code2actions and actions2code\n",
    "ast_action = P.Ast_Action()"
   ]
  },
  {
   "cell_type": "code",
   "execution_count": 9,
   "metadata": {
    "collapsed": true
   },
   "outputs": [],
   "source": [
    "train_actions = []\n",
    "\n",
    "for code in train_codes:\n",
    "    train_actions.append(ast_action.code2actions(code))"
   ]
  },
  {
   "cell_type": "code",
   "execution_count": 10,
   "metadata": {
    "collapsed": true,
    "scrolled": true
   },
   "outputs": [],
   "source": [
    "word_lst = P.vocab_list(train_intent, cut_freq=2)\n",
    "act_lst, token_lst = P.action_list(train_actions, cut_freq=0)"
   ]
  },
  {
   "cell_type": "code",
   "execution_count": 11,
   "metadata": {
    "collapsed": true
   },
   "outputs": [],
   "source": [
    "word2num = dict(zip(word_lst, range(0,len(word_lst))))\n",
    "act2num = dict(zip(act_lst, range(0,len(act_lst))))\n",
    "token2num = dict(zip(token_lst, range(0,len(token_lst))))"
   ]
  },
  {
   "cell_type": "code",
   "execution_count": 12,
   "metadata": {
    "collapsed": true
   },
   "outputs": [],
   "source": [
    "train_loader = P.get_train_loader(train_intent, train_actions, word2num, act2num, token2num, batch_size=48)"
   ]
  },
  {
   "cell_type": "code",
   "execution_count": 13,
   "metadata": {
    "collapsed": true
   },
   "outputs": [],
   "source": [
    "test_loader = P.get_test_loader(test_intent, word2num, batch_size=1)"
   ]
  },
  {
   "cell_type": "code",
   "execution_count": 14,
   "metadata": {
    "collapsed": true
   },
   "outputs": [],
   "source": [
    "action_index_copy = act2num[P.GenTokenAction('copy')]\n",
    "action_index_gen = act2num[P.GenTokenAction('token')]"
   ]
  },
  {
   "cell_type": "markdown",
   "metadata": {},
   "source": [
    "### Model"
   ]
  },
  {
   "cell_type": "code",
   "execution_count": 15,
   "metadata": {
    "collapsed": true
   },
   "outputs": [],
   "source": [
    "import torch\n",
    "import time"
   ]
  },
  {
   "cell_type": "code",
   "execution_count": 53,
   "metadata": {
    "scrolled": true
   },
   "outputs": [],
   "source": [
    "from collections import namedtuple\n",
    "hyperParamMap = {\n",
    "    #### General configuration ####\n",
    "    'cuda': True,      # Use gpu\n",
    "    'mode': 'train',   # train or test\n",
    "\n",
    "    #### Embedding sizes ####\n",
    "    'embed_size': 128,         # Size of word embeddings\n",
    "    'action_embed_size': 128,  # Size of ApplyRule/GenToken action embeddings\n",
    "    'field_embed_size': 64,    # Embedding size of ASDL fields\n",
    "    'type_embed_size': 64,     # Embeddings ASDL types\n",
    "\n",
    "    #### Decoding sizes ####\n",
    "    'hidden_size': 256,        # Size of LSTM hidden states\n",
    "    'beam_size': 5,\n",
    "    \n",
    "    #### training schedule details ####\n",
    "    'valid_metric': 'acc',                # Metric used for validation\n",
    "    'valid_every_epoch': 1,               # Perform validation every x epoch\n",
    "    'log_every': 10,                      # Log training statistics every n iterations\n",
    "    'save_to': 'model',                   # Save trained model to\n",
    "    'clip_grad': 5.,                      # Clip gradients\n",
    "    'max_epoch': 10,                      # Maximum number of training epoches\n",
    "    'optimizer': 'Adam',                  # optimizer\n",
    "    'lr': 0.001,                          # Learning rate\n",
    "    'lr_decay': 0.5,                      # decay learning rate if the validation performance drops\n",
    "    'verbose': False,                     # Verbose mode\n",
    "\n",
    "    #### decoding/validation/testing ####\n",
    "    'load_model': None,                   # Load a pre-trained model\n",
    "    'beam_size': 1,                       # Beam size for beam search\n",
    "    'decode_max_time_step': 100,          # Maximum number of time steps used in decoding and sampling\n",
    "    'sample_size': 5,                     # Sample size\n",
    "    'test_file': '',                      # Path to the test file\n",
    "    'save_decode_to': None,               # Save decoding results to file\n",
    "}\n",
    "\n",
    "HyperParams = namedtuple('HyperParams', list(hyperParamMap.keys()), verbose=False)\n",
    "hyperParams = HyperParams(**hyperParamMap)"
   ]
  },
  {
   "cell_type": "code",
   "execution_count": 17,
   "metadata": {
    "collapsed": true
   },
   "outputs": [],
   "source": [
    "model = M.Model(hyperParams, action_size=len(act_lst), token_size=len(token_lst), word_size=len(word_lst), \n",
    "                      action_index_copy=action_index_copy, action_index_gen=action_index_gen)"
   ]
  },
  {
   "cell_type": "code",
   "execution_count": 55,
   "metadata": {
    "collapsed": true
   },
   "outputs": [],
   "source": [
    "optimizer = torch.optim.Adam(model.parameters(), lr = 0.0005)\n",
    "lossFunc = torch.nn.CrossEntropyLoss()"
   ]
  },
  {
   "cell_type": "code",
   "execution_count": 56,
   "metadata": {
    "scrolled": true,
    "collapsed": false
   },
   "outputs": [
    {
     "name": "stdout",
     "output_type": "stream",
     "text": [
      "--------------------------epoch 0 batch 9-----------------------------\nAction loss: 0.31797289430155523\nCopy loss: 1.6053892374038696\nToken loss: 0.5260612964630127\n"
     ]
    },
    {
     "name": "stdout",
     "output_type": "stream",
     "text": [
      "--------------------------epoch 0 batch 19-----------------------------\nAction loss: 0.32988686316754373\nCopy loss: 1.663701057434082\nToken loss: 0.8086149096488953\n"
     ]
    },
    {
     "name": "stdout",
     "output_type": "stream",
     "text": [
      "--------------------------epoch 0 batch 29-----------------------------\nAction loss: 0.31746549149973635\nCopy loss: 1.4932278394699097\nToken loss: 0.703612208366394\n"
     ]
    },
    {
     "name": "stdout",
     "output_type": "stream",
     "text": [
      "--------------------------epoch 0 batch 39-----------------------------\nAction loss: 0.42413590459650874\nCopy loss: 1.7143309116363525\nToken loss: 0.7998818159103394\n"
     ]
    },
    {
     "name": "stdout",
     "output_type": "stream",
     "text": [
      "--------------------------epoch 0 batch 49-----------------------------\nAction loss: 0.522713569952576\nCopy loss: 1.6760286092758179\nToken loss: 0.866177499294281\nepoch elapsed 115s\n"
     ]
    },
    {
     "name": "stdout",
     "output_type": "stream",
     "text": [
      "--------------------------epoch 1 batch 9-----------------------------\nAction loss: 0.41401701281599795\nCopy loss: 1.8249558210372925\nToken loss: 0.633781373500824\n"
     ]
    }
   ],
   "source": [
    "model.train()\n",
    "epoch_begin = time.time()\n",
    "for e in range(20):\n",
    "    for batch_ind, x in enumerate(train_loader):\n",
    "        optimizer.zero_grad()\n",
    "\n",
    "        (action_logits, action_labels), (copy_logits, copy_labels), (token_logits, token_labels) = model(x)\n",
    "\n",
    "        loss1 = lossFunc(action_logits, action_labels)\n",
    "        loss2 = torch.DoubleTensor([0.0])\n",
    "        if len(copy_logits) > 0:\n",
    "            loss2 = lossFunc(copy_logits, copy_labels)\n",
    "        loss3 = torch.DoubleTensor([0.0])\n",
    "        if len(token_logits) > 0:\n",
    "            loss3 = lossFunc(token_logits, token_labels)\n",
    "\n",
    "        total_loss = loss1 + loss2.double() + loss3.double()\n",
    "        total_loss.backward()\n",
    "\n",
    "        # clip gradient\n",
    "        if hyperParams.clip_grad > 0.:\n",
    "            grad_norm = torch.nn.utils.clip_grad_norm_(model.parameters(), hyperParams.clip_grad)\n",
    "\n",
    "        optimizer.step()\n",
    "\n",
    "        if batch_ind % hyperParams.log_every == hyperParams.log_every - 1:\n",
    "            print('--------------------------epoch {} batch {}-----------------------------'.format(e, batch_ind))\n",
    "            print(\"Action loss: {}\".format(loss1.data))\n",
    "            print(\"Copy loss: {}\".format(loss2.data))\n",
    "            print(\"Token loss: {}\".format(loss3.data))\n",
    "            report_loss = report_examples = 0.\n",
    "\n",
    "    print('epoch elapsed %ds' % (time.time() - epoch_begin))"
   ]
  },
  {
   "cell_type": "code",
   "execution_count": 44,
   "metadata": {},
   "outputs": [],
   "source": [
    "torch.save((model).state_dict(), 'Parameters/cut_2_0_v4.t7')"
   ]
  },
  {
   "cell_type": "code",
   "execution_count": 29,
   "metadata": {
    "collapsed": true
   },
   "outputs": [],
   "source": [
    "model.load_state_dict(torch.load('Parameters/cut_2_0_v2.t7'))"
   ]
  },
  {
   "cell_type": "code",
   "execution_count": 45,
   "metadata": {
    "collapsed": true
   },
   "outputs": [
    {
     "name": "stdout",
     "output_type": "stream",
     "text": [
      "[tensor([1291,    3, 1411, 1411,    8,   19,  252, 1070])]\n[['send', 'a', 'signal', '`signal.SIGUSR1`', 'to', 'the', 'current', 'process']]\n"
     ]
    },
    {
     "data": {
      "text/plain": [
       "\"os.system('taskkill /im')\""
      ]
     },
     "execution_count": 45,
     "metadata": {},
     "output_type": "execute_result"
    }
   ],
   "source": [
    "sample_sent, sample_sent_txt = next(iter(test_loader))\n",
    "print(sample_sent)\n",
    "print(sample_sent_txt)\n",
    "sample_hypothesis = model.parse(sample_sent, sample_sent_txt, act_lst, token_lst, ast_action, decode_method='greedy')\n",
    "ast_action.actions2code(sample_hypothesis.actions)"
   ]
  },
  {
   "cell_type": "code",
   "execution_count": 161,
   "metadata": {
    "collapsed": true
   },
   "outputs": [
    {
     "name": "stdout",
     "output_type": "stream",
     "text": [
      "[ApplyRule[stmt -> Expr(expr value)], ApplyRule[expr -> Call(expr func, expr* args, keyword* keywords)], ApplyRule[expr -> Name(identifier id)], GenToken[any], ApplyRule[expr -> GeneratorExp(expr elt, comprehension* generators)], ApplyRule[expr -> Compare(expr left, cmpop* ops, expr* comparators)], ApplyRule[expr -> Call(expr func, expr* args, keyword* keywords)], ApplyRule[expr -> Name(identifier id)], GenToken[isinstance], ApplyRule[expr -> Name(identifier id)], GenToken[x], Reduce, Reduce, Reduce, Reduce, ApplyRule[comprehension -> comprehension(expr target, expr iter, expr* ifs)], ApplyRule[expr -> Name(identifier id)], GenToken[i], ApplyRule[expr -> Call(expr func, expr* args, keyword* keywords)], ApplyRule[expr -> Name(identifier id)], GenToken[range], ApplyRule[expr -> Num(object n)], GenToken[100], ApplyRule[expr -> Num(object n)], GenToken[9], Reduce, Reduce, Reduce, Reduce, Reduce, Reduce]\nExpr(value=Call(func=Name(id='any'), args=[GeneratorExp(elt=Compare(left=Call(func=Name(id='isinstance'), args=[Name(id='x')], keywords=[]), ops=[], comparators=[]), generators=[comprehension(target=Name(id='i'), iter=Call(func=Name(id='range'), args=[Num(n=100), Num(n=9)], keywords=[]), ifs=[])])], keywords=[]))\n"
     ]
    },
    {
     "ename": "IndexError",
     "evalue": "list index out of range",
     "traceback": [
      "\u001b[0;31m---------------------------------------------------------------------------\u001b[0m",
      "\u001b[0;31mIndexError\u001b[0m                                Traceback (most recent call last)",
      "\u001b[0;32m<ipython-input-161-d202aa85a4c3>\u001b[0m in \u001b[0;36m<module>\u001b[0;34m()\u001b[0m\n\u001b[1;32m      1\u001b[0m \u001b[0mprint\u001b[0m\u001b[0;34m(\u001b[0m\u001b[0msample_hypothesis\u001b[0m\u001b[0;34m.\u001b[0m\u001b[0mactions\u001b[0m\u001b[0;34m)\u001b[0m\u001b[0;34m\u001b[0m\u001b[0m\n\u001b[0;32m----> 2\u001b[0;31m \u001b[0mast_action\u001b[0m\u001b[0;34m.\u001b[0m\u001b[0mactions2code\u001b[0m\u001b[0;34m(\u001b[0m\u001b[0msample_hypothesis\u001b[0m\u001b[0;34m.\u001b[0m\u001b[0mactions\u001b[0m\u001b[0;34m)\u001b[0m\u001b[0;34m\u001b[0m\u001b[0m\n\u001b[0m",
      "\u001b[0;32m~/Desktop/MSIN/11747-nnNLP/codeGenerator/CoNaLa/preprocess_temp.py\u001b[0m in \u001b[0;36mactions2code\u001b[0;34m(self, actions)\u001b[0m\n\u001b[1;32m    121\u001b[0m         \u001b[0mast_from_actions\u001b[0m \u001b[0;34m=\u001b[0m \u001b[0masdl_ast_to_python_ast\u001b[0m\u001b[0;34m(\u001b[0m\u001b[0mhypothesis\u001b[0m\u001b[0;34m.\u001b[0m\u001b[0mtree\u001b[0m\u001b[0;34m,\u001b[0m \u001b[0mgrammar\u001b[0m\u001b[0;34m)\u001b[0m\u001b[0;34m\u001b[0m\u001b[0m\n\u001b[1;32m    122\u001b[0m         \u001b[0mprint\u001b[0m\u001b[0;34m(\u001b[0m\u001b[0mast\u001b[0m\u001b[0;34m.\u001b[0m\u001b[0mdump\u001b[0m\u001b[0;34m(\u001b[0m\u001b[0mast_from_actions\u001b[0m\u001b[0;34m)\u001b[0m\u001b[0;34m)\u001b[0m\u001b[0;34m\u001b[0m\u001b[0m\n\u001b[0;32m--> 123\u001b[0;31m         \u001b[0;32mreturn\u001b[0m \u001b[0mastor\u001b[0m\u001b[0;34m.\u001b[0m\u001b[0mto_source\u001b[0m\u001b[0;34m(\u001b[0m\u001b[0mast_from_actions\u001b[0m\u001b[0;34m)\u001b[0m\u001b[0;34m.\u001b[0m\u001b[0mstrip\u001b[0m\u001b[0;34m(\u001b[0m\u001b[0;34m)\u001b[0m\u001b[0;34m\u001b[0m\u001b[0m\n\u001b[0m\u001b[1;32m    124\u001b[0m \u001b[0;34m\u001b[0m\u001b[0m\n\u001b[1;32m    125\u001b[0m     \u001b[0;32mdef\u001b[0m \u001b[0mis_valid_action\u001b[0m\u001b[0;34m(\u001b[0m\u001b[0mself\u001b[0m\u001b[0;34m,\u001b[0m \u001b[0mhypothesis\u001b[0m\u001b[0;34m,\u001b[0m \u001b[0maction\u001b[0m\u001b[0;34m)\u001b[0m\u001b[0;34m:\u001b[0m\u001b[0;34m\u001b[0m\u001b[0m\n",
      "\u001b[0;32m/anaconda3/lib/python3.6/site-packages/astor/code_gen.py\u001b[0m in \u001b[0;36mto_source\u001b[0;34m(node, indent_with, add_line_information, pretty_string, pretty_source)\u001b[0m\n\u001b[1;32m     50\u001b[0m     generator = SourceGenerator(indent_with, add_line_information,\n\u001b[1;32m     51\u001b[0m                                 pretty_string)\n\u001b[0;32m---> 52\u001b[0;31m     \u001b[0mgenerator\u001b[0m\u001b[0;34m.\u001b[0m\u001b[0mvisit\u001b[0m\u001b[0;34m(\u001b[0m\u001b[0mnode\u001b[0m\u001b[0;34m)\u001b[0m\u001b[0;34m\u001b[0m\u001b[0m\n\u001b[0m\u001b[1;32m     53\u001b[0m     \u001b[0mgenerator\u001b[0m\u001b[0;34m.\u001b[0m\u001b[0mresult\u001b[0m\u001b[0;34m.\u001b[0m\u001b[0mappend\u001b[0m\u001b[0;34m(\u001b[0m\u001b[0;34m'\\n'\u001b[0m\u001b[0;34m)\u001b[0m\u001b[0;34m\u001b[0m\u001b[0m\n\u001b[1;32m     54\u001b[0m     \u001b[0;32mif\u001b[0m \u001b[0mset\u001b[0m\u001b[0;34m(\u001b[0m\u001b[0mgenerator\u001b[0m\u001b[0;34m.\u001b[0m\u001b[0mresult\u001b[0m\u001b[0;34m[\u001b[0m\u001b[0;36m0\u001b[0m\u001b[0;34m]\u001b[0m\u001b[0;34m)\u001b[0m \u001b[0;34m==\u001b[0m \u001b[0mset\u001b[0m\u001b[0;34m(\u001b[0m\u001b[0;34m'\\n'\u001b[0m\u001b[0;34m)\u001b[0m\u001b[0;34m:\u001b[0m\u001b[0;34m\u001b[0m\u001b[0m\n",
      "\u001b[0;32m/anaconda3/lib/python3.6/site-packages/astor/node_util.py\u001b[0m in \u001b[0;36mvisit\u001b[0;34m(self, node, abort)\u001b[0m\n\u001b[1;32m    141\u001b[0m         \u001b[0mmethod\u001b[0m \u001b[0;34m=\u001b[0m \u001b[0;34m'visit_'\u001b[0m \u001b[0;34m+\u001b[0m \u001b[0mnode\u001b[0m\u001b[0;34m.\u001b[0m\u001b[0m__class__\u001b[0m\u001b[0;34m.\u001b[0m\u001b[0m__name__\u001b[0m\u001b[0;34m\u001b[0m\u001b[0m\n\u001b[1;32m    142\u001b[0m         \u001b[0mvisitor\u001b[0m \u001b[0;34m=\u001b[0m \u001b[0mgetattr\u001b[0m\u001b[0;34m(\u001b[0m\u001b[0mself\u001b[0m\u001b[0;34m,\u001b[0m \u001b[0mmethod\u001b[0m\u001b[0;34m,\u001b[0m \u001b[0mabort\u001b[0m\u001b[0;34m)\u001b[0m\u001b[0;34m\u001b[0m\u001b[0m\n\u001b[0;32m--> 143\u001b[0;31m         \u001b[0;32mreturn\u001b[0m \u001b[0mvisitor\u001b[0m\u001b[0;34m(\u001b[0m\u001b[0mnode\u001b[0m\u001b[0;34m)\u001b[0m\u001b[0;34m\u001b[0m\u001b[0m\n\u001b[0m\u001b[1;32m    144\u001b[0m \u001b[0;34m\u001b[0m\u001b[0m\n\u001b[1;32m    145\u001b[0m \u001b[0;34m\u001b[0m\u001b[0m\n",
      "\u001b[0;32m/anaconda3/lib/python3.6/site-packages/astor/code_gen.py\u001b[0m in \u001b[0;36mvisit_Expr\u001b[0;34m(self, node)\u001b[0m\n\u001b[1;32m    308\u001b[0m         \u001b[0mset_precedence\u001b[0m\u001b[0;34m(\u001b[0m\u001b[0mnode\u001b[0m\u001b[0;34m,\u001b[0m \u001b[0mnode\u001b[0m\u001b[0;34m.\u001b[0m\u001b[0mvalue\u001b[0m\u001b[0;34m)\u001b[0m\u001b[0;34m\u001b[0m\u001b[0m\n\u001b[1;32m    309\u001b[0m         \u001b[0mself\u001b[0m\u001b[0;34m.\u001b[0m\u001b[0mstatement\u001b[0m\u001b[0;34m(\u001b[0m\u001b[0mnode\u001b[0m\u001b[0;34m)\u001b[0m\u001b[0;34m\u001b[0m\u001b[0m\n\u001b[0;32m--> 310\u001b[0;31m         \u001b[0mself\u001b[0m\u001b[0;34m.\u001b[0m\u001b[0mgeneric_visit\u001b[0m\u001b[0;34m(\u001b[0m\u001b[0mnode\u001b[0m\u001b[0;34m)\u001b[0m\u001b[0;34m\u001b[0m\u001b[0m\n\u001b[0m\u001b[1;32m    311\u001b[0m \u001b[0;34m\u001b[0m\u001b[0m\n\u001b[1;32m    312\u001b[0m     \u001b[0;32mdef\u001b[0m \u001b[0mvisit_FunctionDef\u001b[0m\u001b[0;34m(\u001b[0m\u001b[0mself\u001b[0m\u001b[0;34m,\u001b[0m \u001b[0mnode\u001b[0m\u001b[0;34m,\u001b[0m \u001b[0mis_async\u001b[0m\u001b[0;34m=\u001b[0m\u001b[0;32mFalse\u001b[0m\u001b[0;34m)\u001b[0m\u001b[0;34m:\u001b[0m\u001b[0;34m\u001b[0m\u001b[0m\n",
      "\u001b[0;32m/anaconda3/lib/python3.6/ast.py\u001b[0m in \u001b[0;36mgeneric_visit\u001b[0;34m(self, node)\u001b[0m\n\u001b[1;32m    261\u001b[0m                         \u001b[0mself\u001b[0m\u001b[0;34m.\u001b[0m\u001b[0mvisit\u001b[0m\u001b[0;34m(\u001b[0m\u001b[0mitem\u001b[0m\u001b[0;34m)\u001b[0m\u001b[0;34m\u001b[0m\u001b[0m\n\u001b[1;32m    262\u001b[0m             \u001b[0;32melif\u001b[0m \u001b[0misinstance\u001b[0m\u001b[0;34m(\u001b[0m\u001b[0mvalue\u001b[0m\u001b[0;34m,\u001b[0m \u001b[0mAST\u001b[0m\u001b[0;34m)\u001b[0m\u001b[0;34m:\u001b[0m\u001b[0;34m\u001b[0m\u001b[0m\n\u001b[0;32m--> 263\u001b[0;31m                 \u001b[0mself\u001b[0m\u001b[0;34m.\u001b[0m\u001b[0mvisit\u001b[0m\u001b[0;34m(\u001b[0m\u001b[0mvalue\u001b[0m\u001b[0;34m)\u001b[0m\u001b[0;34m\u001b[0m\u001b[0m\n\u001b[0m\u001b[1;32m    264\u001b[0m \u001b[0;34m\u001b[0m\u001b[0m\n\u001b[1;32m    265\u001b[0m \u001b[0;34m\u001b[0m\u001b[0m\n",
      "\u001b[0;32m/anaconda3/lib/python3.6/site-packages/astor/node_util.py\u001b[0m in \u001b[0;36mvisit\u001b[0;34m(self, node, abort)\u001b[0m\n\u001b[1;32m    141\u001b[0m         \u001b[0mmethod\u001b[0m \u001b[0;34m=\u001b[0m \u001b[0;34m'visit_'\u001b[0m \u001b[0;34m+\u001b[0m \u001b[0mnode\u001b[0m\u001b[0;34m.\u001b[0m\u001b[0m__class__\u001b[0m\u001b[0;34m.\u001b[0m\u001b[0m__name__\u001b[0m\u001b[0;34m\u001b[0m\u001b[0m\n\u001b[1;32m    142\u001b[0m         \u001b[0mvisitor\u001b[0m \u001b[0;34m=\u001b[0m \u001b[0mgetattr\u001b[0m\u001b[0;34m(\u001b[0m\u001b[0mself\u001b[0m\u001b[0;34m,\u001b[0m \u001b[0mmethod\u001b[0m\u001b[0;34m,\u001b[0m \u001b[0mabort\u001b[0m\u001b[0;34m)\u001b[0m\u001b[0;34m\u001b[0m\u001b[0m\n\u001b[0;32m--> 143\u001b[0;31m         \u001b[0;32mreturn\u001b[0m \u001b[0mvisitor\u001b[0m\u001b[0;34m(\u001b[0m\u001b[0mnode\u001b[0m\u001b[0;34m)\u001b[0m\u001b[0;34m\u001b[0m\u001b[0m\n\u001b[0m\u001b[1;32m    144\u001b[0m \u001b[0;34m\u001b[0m\u001b[0m\n\u001b[1;32m    145\u001b[0m \u001b[0;34m\u001b[0m\u001b[0m\n",
      "\u001b[0;32m/anaconda3/lib/python3.6/site-packages/astor/code_gen.py\u001b[0m in \u001b[0;36mvisit_Call\u001b[0;34m(self, node, len)\u001b[0m\n\u001b[1;32m    515\u001b[0m         \u001b[0mwrite\u001b[0m\u001b[0;34m(\u001b[0m\u001b[0;34m'('\u001b[0m\u001b[0;34m)\u001b[0m\u001b[0;34m\u001b[0m\u001b[0m\n\u001b[1;32m    516\u001b[0m         \u001b[0;32mfor\u001b[0m \u001b[0marg\u001b[0m \u001b[0;32min\u001b[0m \u001b[0margs\u001b[0m\u001b[0;34m:\u001b[0m\u001b[0;34m\u001b[0m\u001b[0m\n\u001b[0;32m--> 517\u001b[0;31m             \u001b[0mwrite\u001b[0m\u001b[0;34m(\u001b[0m\u001b[0mwrite_comma\u001b[0m\u001b[0;34m,\u001b[0m \u001b[0marg\u001b[0m\u001b[0;34m)\u001b[0m\u001b[0;34m\u001b[0m\u001b[0m\n\u001b[0m\u001b[1;32m    518\u001b[0m \u001b[0;34m\u001b[0m\u001b[0m\n\u001b[1;32m    519\u001b[0m         \u001b[0mset_precedence\u001b[0m\u001b[0;34m(\u001b[0m\u001b[0mPrecedence\u001b[0m\u001b[0;34m.\u001b[0m\u001b[0mComma\u001b[0m\u001b[0;34m,\u001b[0m \u001b[0;34m*\u001b[0m\u001b[0;34m(\u001b[0m\u001b[0mx\u001b[0m\u001b[0;34m.\u001b[0m\u001b[0mvalue\u001b[0m \u001b[0;32mfor\u001b[0m \u001b[0mx\u001b[0m \u001b[0;32min\u001b[0m \u001b[0mkeywords\u001b[0m\u001b[0;34m)\u001b[0m\u001b[0;34m)\u001b[0m\u001b[0;34m\u001b[0m\u001b[0m\n",
      "\u001b[0;32m/anaconda3/lib/python3.6/site-packages/astor/code_gen.py\u001b[0m in \u001b[0;36mwrite\u001b[0;34m(*params)\u001b[0m\n\u001b[1;32m    166\u001b[0m             \u001b[0;32mfor\u001b[0m \u001b[0mitem\u001b[0m \u001b[0;32min\u001b[0m \u001b[0mparams\u001b[0m\u001b[0;34m:\u001b[0m\u001b[0;34m\u001b[0m\u001b[0m\n\u001b[1;32m    167\u001b[0m                 \u001b[0;32mif\u001b[0m \u001b[0misinstance\u001b[0m\u001b[0;34m(\u001b[0m\u001b[0mitem\u001b[0m\u001b[0;34m,\u001b[0m \u001b[0mAST\u001b[0m\u001b[0;34m)\u001b[0m\u001b[0;34m:\u001b[0m\u001b[0;34m\u001b[0m\u001b[0m\n\u001b[0;32m--> 168\u001b[0;31m                     \u001b[0mvisit\u001b[0m\u001b[0;34m(\u001b[0m\u001b[0mitem\u001b[0m\u001b[0;34m)\u001b[0m\u001b[0;34m\u001b[0m\u001b[0m\n\u001b[0m\u001b[1;32m    169\u001b[0m                 \u001b[0;32melif\u001b[0m \u001b[0mcallable\u001b[0m\u001b[0;34m(\u001b[0m\u001b[0mitem\u001b[0m\u001b[0;34m)\u001b[0m\u001b[0;34m:\u001b[0m\u001b[0;34m\u001b[0m\u001b[0m\n\u001b[1;32m    170\u001b[0m                     \u001b[0mitem\u001b[0m\u001b[0;34m(\u001b[0m\u001b[0;34m)\u001b[0m\u001b[0;34m\u001b[0m\u001b[0m\n",
      "\u001b[0;32m/anaconda3/lib/python3.6/site-packages/astor/node_util.py\u001b[0m in \u001b[0;36mvisit\u001b[0;34m(self, node, abort)\u001b[0m\n\u001b[1;32m    141\u001b[0m         \u001b[0mmethod\u001b[0m \u001b[0;34m=\u001b[0m \u001b[0;34m'visit_'\u001b[0m \u001b[0;34m+\u001b[0m \u001b[0mnode\u001b[0m\u001b[0;34m.\u001b[0m\u001b[0m__class__\u001b[0m\u001b[0;34m.\u001b[0m\u001b[0m__name__\u001b[0m\u001b[0;34m\u001b[0m\u001b[0m\n\u001b[1;32m    142\u001b[0m         \u001b[0mvisitor\u001b[0m \u001b[0;34m=\u001b[0m \u001b[0mgetattr\u001b[0m\u001b[0;34m(\u001b[0m\u001b[0mself\u001b[0m\u001b[0;34m,\u001b[0m \u001b[0mmethod\u001b[0m\u001b[0;34m,\u001b[0m \u001b[0mabort\u001b[0m\u001b[0;34m)\u001b[0m\u001b[0;34m\u001b[0m\u001b[0m\n\u001b[0;32m--> 143\u001b[0;31m         \u001b[0;32mreturn\u001b[0m \u001b[0mvisitor\u001b[0m\u001b[0;34m(\u001b[0m\u001b[0mnode\u001b[0m\u001b[0;34m)\u001b[0m\u001b[0;34m\u001b[0m\u001b[0m\n\u001b[0m\u001b[1;32m    144\u001b[0m \u001b[0;34m\u001b[0m\u001b[0m\n\u001b[1;32m    145\u001b[0m \u001b[0;34m\u001b[0m\u001b[0m\n",
      "\u001b[0;32m/anaconda3/lib/python3.6/site-packages/astor/code_gen.py\u001b[0m in \u001b[0;36mvisit_GeneratorExp\u001b[0;34m(self, node)\u001b[0m\n\u001b[1;32m    775\u001b[0m                 \u001b[0mdelimiters\u001b[0m\u001b[0;34m.\u001b[0m\u001b[0mdiscard\u001b[0m \u001b[0;34m=\u001b[0m \u001b[0;32mTrue\u001b[0m\u001b[0;34m\u001b[0m\u001b[0m\n\u001b[1;32m    776\u001b[0m             \u001b[0mset_precedence\u001b[0m\u001b[0;34m(\u001b[0m\u001b[0mPrecedence\u001b[0m\u001b[0;34m.\u001b[0m\u001b[0mComma\u001b[0m\u001b[0;34m,\u001b[0m \u001b[0mnode\u001b[0m\u001b[0;34m.\u001b[0m\u001b[0melt\u001b[0m\u001b[0;34m)\u001b[0m\u001b[0;34m\u001b[0m\u001b[0m\n\u001b[0;32m--> 777\u001b[0;31m             \u001b[0mself\u001b[0m\u001b[0;34m.\u001b[0m\u001b[0mwrite\u001b[0m\u001b[0;34m(\u001b[0m\u001b[0mnode\u001b[0m\u001b[0;34m.\u001b[0m\u001b[0melt\u001b[0m\u001b[0;34m,\u001b[0m \u001b[0;34m*\u001b[0m\u001b[0mnode\u001b[0m\u001b[0;34m.\u001b[0m\u001b[0mgenerators\u001b[0m\u001b[0;34m)\u001b[0m\u001b[0;34m\u001b[0m\u001b[0m\n\u001b[0m\u001b[1;32m    778\u001b[0m \u001b[0;34m\u001b[0m\u001b[0m\n\u001b[1;32m    779\u001b[0m     \u001b[0;32mdef\u001b[0m \u001b[0mvisit_SetComp\u001b[0m\u001b[0;34m(\u001b[0m\u001b[0mself\u001b[0m\u001b[0;34m,\u001b[0m \u001b[0mnode\u001b[0m\u001b[0;34m)\u001b[0m\u001b[0;34m:\u001b[0m\u001b[0;34m\u001b[0m\u001b[0m\n",
      "\u001b[0;32m/anaconda3/lib/python3.6/site-packages/astor/code_gen.py\u001b[0m in \u001b[0;36mwrite\u001b[0;34m(*params)\u001b[0m\n\u001b[1;32m    166\u001b[0m             \u001b[0;32mfor\u001b[0m \u001b[0mitem\u001b[0m \u001b[0;32min\u001b[0m \u001b[0mparams\u001b[0m\u001b[0;34m:\u001b[0m\u001b[0;34m\u001b[0m\u001b[0m\n\u001b[1;32m    167\u001b[0m                 \u001b[0;32mif\u001b[0m \u001b[0misinstance\u001b[0m\u001b[0;34m(\u001b[0m\u001b[0mitem\u001b[0m\u001b[0;34m,\u001b[0m \u001b[0mAST\u001b[0m\u001b[0;34m)\u001b[0m\u001b[0;34m:\u001b[0m\u001b[0;34m\u001b[0m\u001b[0m\n\u001b[0;32m--> 168\u001b[0;31m                     \u001b[0mvisit\u001b[0m\u001b[0;34m(\u001b[0m\u001b[0mitem\u001b[0m\u001b[0;34m)\u001b[0m\u001b[0;34m\u001b[0m\u001b[0m\n\u001b[0m\u001b[1;32m    169\u001b[0m                 \u001b[0;32melif\u001b[0m \u001b[0mcallable\u001b[0m\u001b[0;34m(\u001b[0m\u001b[0mitem\u001b[0m\u001b[0;34m)\u001b[0m\u001b[0;34m:\u001b[0m\u001b[0;34m\u001b[0m\u001b[0m\n\u001b[1;32m    170\u001b[0m                     \u001b[0mitem\u001b[0m\u001b[0;34m(\u001b[0m\u001b[0;34m)\u001b[0m\u001b[0;34m\u001b[0m\u001b[0m\n",
      "\u001b[0;32m/anaconda3/lib/python3.6/site-packages/astor/node_util.py\u001b[0m in \u001b[0;36mvisit\u001b[0;34m(self, node, abort)\u001b[0m\n\u001b[1;32m    141\u001b[0m         \u001b[0mmethod\u001b[0m \u001b[0;34m=\u001b[0m \u001b[0;34m'visit_'\u001b[0m \u001b[0;34m+\u001b[0m \u001b[0mnode\u001b[0m\u001b[0;34m.\u001b[0m\u001b[0m__class__\u001b[0m\u001b[0;34m.\u001b[0m\u001b[0m__name__\u001b[0m\u001b[0;34m\u001b[0m\u001b[0m\n\u001b[1;32m    142\u001b[0m         \u001b[0mvisitor\u001b[0m \u001b[0;34m=\u001b[0m \u001b[0mgetattr\u001b[0m\u001b[0;34m(\u001b[0m\u001b[0mself\u001b[0m\u001b[0;34m,\u001b[0m \u001b[0mmethod\u001b[0m\u001b[0;34m,\u001b[0m \u001b[0mabort\u001b[0m\u001b[0;34m)\u001b[0m\u001b[0;34m\u001b[0m\u001b[0m\n\u001b[0;32m--> 143\u001b[0;31m         \u001b[0;32mreturn\u001b[0m \u001b[0mvisitor\u001b[0m\u001b[0;34m(\u001b[0m\u001b[0mnode\u001b[0m\u001b[0;34m)\u001b[0m\u001b[0;34m\u001b[0m\u001b[0m\n\u001b[0m\u001b[1;32m    144\u001b[0m \u001b[0;34m\u001b[0m\u001b[0m\n\u001b[1;32m    145\u001b[0m \u001b[0;34m\u001b[0m\u001b[0m\n",
      "\u001b[0;32m/anaconda3/lib/python3.6/site-packages/astor/code_gen.py\u001b[0m in \u001b[0;36mvisit_Compare\u001b[0;34m(self, node)\u001b[0m\n\u001b[1;32m    698\u001b[0m \u001b[0;34m\u001b[0m\u001b[0m\n\u001b[1;32m    699\u001b[0m     \u001b[0;32mdef\u001b[0m \u001b[0mvisit_Compare\u001b[0m\u001b[0;34m(\u001b[0m\u001b[0mself\u001b[0m\u001b[0;34m,\u001b[0m \u001b[0mnode\u001b[0m\u001b[0;34m)\u001b[0m\u001b[0;34m:\u001b[0m\u001b[0;34m\u001b[0m\u001b[0m\n\u001b[0;32m--> 700\u001b[0;31m         \u001b[0;32mwith\u001b[0m \u001b[0mself\u001b[0m\u001b[0;34m.\u001b[0m\u001b[0mdelimit\u001b[0m\u001b[0;34m(\u001b[0m\u001b[0mnode\u001b[0m\u001b[0;34m,\u001b[0m \u001b[0mnode\u001b[0m\u001b[0;34m.\u001b[0m\u001b[0mops\u001b[0m\u001b[0;34m[\u001b[0m\u001b[0;36m0\u001b[0m\u001b[0;34m]\u001b[0m\u001b[0;34m)\u001b[0m \u001b[0;32mas\u001b[0m \u001b[0mdelimiters\u001b[0m\u001b[0;34m:\u001b[0m\u001b[0;34m\u001b[0m\u001b[0m\n\u001b[0m\u001b[1;32m    701\u001b[0m             \u001b[0mset_precedence\u001b[0m\u001b[0;34m(\u001b[0m\u001b[0mdelimiters\u001b[0m\u001b[0;34m.\u001b[0m\u001b[0mp\u001b[0m \u001b[0;34m+\u001b[0m \u001b[0;36m1\u001b[0m\u001b[0;34m,\u001b[0m \u001b[0mnode\u001b[0m\u001b[0;34m.\u001b[0m\u001b[0mleft\u001b[0m\u001b[0;34m,\u001b[0m \u001b[0;34m*\u001b[0m\u001b[0mnode\u001b[0m\u001b[0;34m.\u001b[0m\u001b[0mcomparators\u001b[0m\u001b[0;34m)\u001b[0m\u001b[0;34m\u001b[0m\u001b[0m\n\u001b[1;32m    702\u001b[0m             \u001b[0mself\u001b[0m\u001b[0;34m.\u001b[0m\u001b[0mvisit\u001b[0m\u001b[0;34m(\u001b[0m\u001b[0mnode\u001b[0m\u001b[0;34m.\u001b[0m\u001b[0mleft\u001b[0m\u001b[0;34m)\u001b[0m\u001b[0;34m\u001b[0m\u001b[0m\n",
      "\u001b[0;31mIndexError\u001b[0m: list index out of range"
     ],
     "output_type": "error"
    }
   ],
   "source": [
    "print(sample_hypothesis.actions)\n",
    "ast_action.actions2code(sample_hypothesis.actions)"
   ]
  },
  {
   "cell_type": "code",
   "execution_count": 51,
   "metadata": {
    "collapsed": true
   },
   "outputs": [
    {
     "name": "stdout",
     "output_type": "stream",
     "text": [
      "----------------------answer 1, this one cost 0.03453993797302246s, total cost 0.037541866302490234s\nmy code:    os.system('taskkill /im')\nground truth:    os.kill(os.getpid(), signal.SIGUSR1)\nbleu socre 0.3077772945160715\n----------------------answer 2, this one cost 0.028843164443969727s, total cost 0.0672609806060791s\nmy code:    webbrowser.write('log', 'libs')\nground truth:    bytes.fromhex('4a4b4c').decode('utf-8')\nbleu socre 0.37621186824601177\n----------------------answer 3, this one cost 0.023617982864379883s, total cost 0.09195184707641602s\nmy code:    map(i)\nground truth:    all(x == myList[0] for x in myList)\nbleu socre 0.04186576731652839\n----------------------answer 4, this one cost 0.04301714897155762s, total cost 0.1358928680419922s\nmy code:    re.findall('filename.png', '\"\\\\1\"', 'title')\nground truth:    print('%*s : %*s' % (20, 'Python', 20, 'Very Good'))\nbleu socre 0.4569605577587919\n----------------------answer 5, this one cost 0.03316617012023926s, total cost 0.17050695419311523s\nmy code:    \"\"\"\"\"\".join('true')\nground truth:    d.decode('cp1251').encode('utf8')\nbleu socre 0.46928462266459714\n"
     ]
    },
    {
     "name": "stderr",
     "output_type": "stream",
     "text": [
      "/anaconda3/lib/python3.6/site-packages/nltk/translate/bleu_score.py:490: UserWarning: \nCorpus/Sentence contains 0 counts of 3-gram overlaps.\nBLEU scores might be undesirable; use SmoothingFunction().\n  warnings.warn(_msg)\n/anaconda3/lib/python3.6/site-packages/nltk/translate/bleu_score.py:490: UserWarning: \nCorpus/Sentence contains 0 counts of 2-gram overlaps.\nBLEU scores might be undesirable; use SmoothingFunction().\n  warnings.warn(_msg)\n"
     ]
    },
    {
     "name": "stdout",
     "output_type": "stream",
     "text": [
      "----------------------answer 6, this one cost 0.09862995147705078s, total cost 0.27000880241394043s\nmy code:    pd.DataFrame(key=lambda k=d2.keys(): 'y3')\nground truth:    res = {k: v for k, v in list(kwargs.items()) if v is not None}\nbleu socre 0.2966558910876616\n----------------------answer 7, this one cost 0.08110284805297852s, total cost 0.3523988723754883s\nmy code:    pd.DataFrame(key=lambda k=d2.keys(): 'y3')\nground truth:    res = dict((k, v) for k, v in kwargs.items() if v is not None)\nbleu socre 0.2869161472089115\n"
     ]
    },
    {
     "name": "stdout",
     "output_type": "stream",
     "text": [
      "----------------------answer 8, this one cost 0.38297605514526367s, total cost 0.7368137836456299s\nmy code:    os.system(None)\nground truth:    subprocess.check_output('ps -ef | grep something | wc -l', shell=True)\nbleu socre 0.06902498108894259\n----------------------answer 9, this one cost 0.03671884536743164s, total cost 0.7741677761077881s\nmy code:    concatenate(concatenate(x, x))\nground truth:    \"\"\"\"\"\".join(['a', 'b', 'c'])\nbleu socre 0.1603801045486562\n----------------------answer 10, this one cost 0.033818721771240234s, total cost 0.8087806701660156s\nmy code:    df.loc('type').diff('state')\nground truth:    pd.Series(list(set(s1).intersection(set(s2))))\nbleu socre 0.2945901093386716\n----------------------answer 11, this one cost 0.018815994262695312s, total cost 0.8284358978271484s\nmy code:    ax.set_xlabel('Temperature')\nground truth:    client.send('HTTP/1.0 200 OK\\r\\n')\nbleu socre 0.186245115152549\n----------------------answer 12, this one cost 0.022728919982910156s, total cost 0.8517796993255615s\nmy code:    datetime.info('test.sh')\nground truth:    then = datetime.datetime.strptime(when, '%Y-%m-%d').date()\nbleu socre 0.14012952784975244\n----------------------answer 13, this one cost 0.027718305587768555s, total cost 0.8804490566253662s\nmy code:    re.split('[', '', par)\nground truth:    inputString.split('\\n')\nbleu socre 0.21401603033752975\n----------------------answer 14, this one cost 0.04133296012878418s, total cost 0.9224247932434082s\nmy code:    re.findall('dir', '.', 'this')\nground truth:    ' a \\n b \\r\\n c '.split('\\n')\nbleu socre 0.45089124006773446\n"
     ]
    },
    {
     "name": "stdout",
     "output_type": "stream",
     "text": [
      "----------------------answer 15, this one cost 0.040129899978637695s, total cost 0.9632327556610107s\nmy code:    concatenate(concatenate(zip(zip(b))))\nground truth:    \"\"\":\"\"\".join(str(x) for x in b)\nbleu socre 0.26669676296222256\n----------------------answer 16, this one cost 0.03284311294555664s, total cost 0.9970808029174805s\nmy code:    re.__class__('_(?:for|or|and)_', 'Current', 'â')\nground truth:    Entry.objects.filter()[:1].get()\nbleu socre 0.6930977286178778\n----------------------answer 17, this one cost 0.025252103805541992s, total cost 1.0235378742218018s\nmy code:    np.sqrt(a)\nground truth:    a.sum(axis=1)\nbleu socre 0.6474591278836639\n----------------------answer 18, this one cost 0.020557165145874023s, total cost 1.044785976409912s\nmy code:    plt.find_element_by_xpath('test.csv')\nground truth:    warnings.simplefilter('always')\nbleu socre 0.5773502691896257\n----------------------answer 19, this one cost 0.03206610679626465s, total cost 1.0776457786560059s\nmy code:    [int(x) for x in x]\nground truth:    print(' '.join(map(str, l)))\nbleu socre 0.4056114983537769\n----------------------answer 20, this one cost 0.029203176498413086s, total cost 1.1074659824371338s\nmy code:    os.system('/bin/bash -c \"echo')\nground truth:    subprocess.call(['python.exe', 'hello.py', 'htmlfilename.htm'])\nbleu socre 0.43645382979233377\n----------------------answer 21, this one cost 0.029527902603149414s, total cost 1.137725830078125s\nmy code:    \"\"\"This\"\"\".join('cc')\nground truth:    time.strptime('30/03/09 16:31:32.123', '%d/%m/%y %H:%M:%S.%f')\nbleu socre 0.07655018287370036\n"
     ]
    },
    {
     "name": "stdout",
     "output_type": "stream",
     "text": [
      "----------------------answer 22, this one cost 0.040801048278808594s, total cost 1.1797888278961182s\nmy code:    [int(x, x) for x in s]\nground truth:    my_float = float(my_string.replace(',', ''))\nbleu socre 0.5066641486392106\n----------------------answer 23, this one cost 0.04052305221557617s, total cost 1.2212250232696533s\nmy code:    [s.split(',', '', '')]\nground truth:    float('123,456.908'.replace(',', ''))\nbleu socre 0.38168567191990366\n----------------------answer 24, this one cost 0.026118755340576172s, total cost 1.2481317520141602s\nmy code:    plt.set_yscale('log')\nground truth:    sys.path.append('/path/to/whatever')\nbleu socre 0.2709850435615371\n----------------------answer 25, this one cost 0.031015872955322266s, total cost 1.2797787189483643s\nmy code:    soup.findAll('{http://www.w3.org/2002/07/owl#}Class', '\\\\\\\\\\\\g<0>', 'app_name')\nground truth:    re.split('(\\\\W+)', 'Words, words, words.')\nbleu socre 0.16576590422650678\n----------------------answer 26, this one cost 0.023009061813354492s, total cost 1.3039979934692383s\nmy code:    os.strftime('%Y-%m-%d')\nground truth:    file = open('Output.txt', 'a')\nbleu socre 0.46713797772820004\n----------------------answer 27, this one cost 0.030086755752563477s, total cost 1.3352577686309814s\nmy code:    soup.findAll('Total', 'name')\nground truth:    urllib.request.urlretrieve('http://www.example.com/songs/mp3.mp3', 'mp3.mp3')\nbleu socre 0.09993891276482282\n----------------------answer 28, this one cost 0.03061819076538086s, total cost 1.366729974746704s\nmy code:    ax.findAll('name', name='name')\nground truth:    u = urllib.request.urlopen(url)\nf = open(file_name, 'wb')\nmeta = u.info()\nfile_size = int(meta.getheaders('Content-Length')[0])\nprint(('Downloading: %s Bytes: %s' % (file_name, file_size)))\nfile_size_dl = 0\nblock_sz = 8192\nwhile True:\n    buffer = u.read(block_sz)\n    if (not buffer):\n        break\n    file_size_dl += len(buffer)\n    f.write(buffer)\n    status = ('%10d  [%3.2f%%]' % (file_size_dl, ((file_size_dl * 100.0) / file_size)))\n    status = (status + (chr(8) * (len(status) + 1)))\n    print(status, end=' ')\nf.close()\nbleu socre 1.9479440157486337e-05\n"
     ]
    },
    {
     "name": "stderr",
     "output_type": "stream",
     "text": [
      "/anaconda3/lib/python3.6/site-packages/nltk/translate/bleu_score.py:490: UserWarning: \nCorpus/Sentence contains 0 counts of 4-gram overlaps.\nBLEU scores might be undesirable; use SmoothingFunction().\n  warnings.warn(_msg)\n"
     ]
    },
    {
     "name": "stdout",
     "output_type": "stream",
     "text": [
      "----------------------answer 29, this one cost 0.02904486656188965s, total cost 1.397336721420288s\nmy code:    download('{0:+d}'.</primitive>('\\n\\x1b[4m'))\nground truth:    response = urllib.request.urlopen('http://www.example.com/')\nhtml = response.read()\nbleu socre 0.37773090509087703\n----------------------answer 30, this one cost 0.022732019424438477s, total cost 1.4210548400878906s\nmy code:    requests.download('test.sh')\nground truth:    r = requests.get(url)\nbleu socre 0.4591497693322865\n----------------------answer 31, this one cost 0.030478715896606445s, total cost 1.4524517059326172s\nmy code:    soup.findAll('Total', 'name')\nground truth:    response = requests.get(url, stream=True)\nwith open('10MB', 'wb') as handle:\n    for data in tqdm(response.iter_content()):\n        handle.write(data)\nbleu socre 0.03404339553508143\n----------------------answer 32, this one cost 0.041085004806518555s, total cost 1.4945957660675049s\nmy code:    os.execute_script('window.scrollTo(0, document.body.scrollHeight);', '$1')\nground truth:    parser.add_argument('--version', action='version', version='%(prog)s 2.0')\nbleu socre 0.450829069994649\n----------------------answer 33, this one cost 0.029185771942138672s, total cost 1.5247917175292969s\nmy code:    for k, v in d.key():\nground truth:    {i: d[i] for i in d if i != 'c'}\nbleu socre 0.21101644114127413\n----------------------answer 34, this one cost 0.0505979061126709s, total cost 1.5762178897857666s\nmy code:    cursor.execute('SELECT OR REPLACE master.table1', '2011-01-01')\nground truth:    pd.merge(split_df, csv_df, on=['key'], suffixes=('_left', '_right'))\nbleu socre 0.18031088477423415\n"
     ]
    },
    {
     "name": "stdout",
     "output_type": "stream",
     "text": [
      "----------------------answer 35, this one cost 0.03521609306335449s, total cost 1.6122329235076904s\nmy code:    \"\"\"\"\"\".join(join for item in s)\nground truth:    s.split(' ', 4)\nbleu socre 0.4111336169005197\n----------------------answer 36, this one cost 0.014621734619140625s, total cost 1.6275336742401123s\nmy code:    read(outfile)\nground truth:    input('Enter your input:')\nbleu socre 0.24092085663272753\n----------------------answer 37, this one cost 0.021953105926513672s, total cost 1.6503679752349854s\nmy code:    re.write('a')\nground truth:    app.run(debug=True)\nbleu socre 0.7825422900366437\n----------------------answer 38, this one cost 0.02785205841064453s, total cost 1.6787819862365723s\nmy code:    \"\"\"\"\"\".join('cat')\nground truth:    pickle.dump(mylist, open('save.txt', 'wb'))\nbleu socre 0.344990592324562\n----------------------answer 39, this one cost 0.03844404220581055s, total cost 1.7179667949676514s\nmy code:    plt.einsum(np.filter('-pet__age'))\nground truth:    scipy.tensordot(P, T, axes=[1, 1]).swapaxes(0, 1)\nbleu socre 0.4254186194261458\n"
     ]
    },
    {
     "name": "stdout",
     "output_type": "stream",
     "text": [
      "----------------------answer 40, this one cost 0.30501770973205566s, total cost 2.023747682571411s\nmy code:    .\nground truth:    numpy.zeros((3, 3, 3))\nbleu socre 1.670170079024566e-05\n----------------------answer 41, this one cost 0.029168128967285156s, total cost 2.053684949874878s\nmy code:    re.sub('', '', item)\nground truth:    \"\"\" \"\"\".join(content.split(' ')[:-1])\nbleu socre 0.15434738382615817\n----------------------answer 42, this one cost 0.022505998611450195s, total cost 2.077061891555786s\nmy code:    a = np.in1d(a)\nground truth:    x = np.asarray(x).reshape(1, -1)[(0), :]\nbleu socre 0.06369612713618909\n----------------------answer 43, this one cost 0.018205881118774414s, total cost 2.096219778060913s\nmy code:    zip(l)\nground truth:    sum(sum(i) if isinstance(i, list) else i for i in L)\nbleu socre 0.015401555084618098\n----------------------answer 44, this one cost 0.024627208709716797s, total cost 2.1217598915100098s\nmy code:    struct.find_module('test')\nground truth:    struct.unpack('!f', '470FC614'.decode('hex'))[0]\nbleu socre 0.11546994686171433\n----------------------answer 45, this one cost 0.027868032455444336s, total cost 2.1504058837890625s\nmy code:    dict((k, v))\nground truth:    my_dict.update((x, y * 2) for x, y in list(my_dict.items()))\nbleu socre 0.07763851485774795\n----------------------answer 46, this one cost 0.018124103546142578s, total cost 2.169461965560913s\nmy code:    os.chdir('ls')\nground truth:    subprocess.call('sleep.sh', shell=True)\nbleu socre 0.2582109365493493\n----------------------answer 47, this one cost 0.029841899871826172s, total cost 2.2002367973327637s\nmy code:    [int(int) for x in s]\nground truth:    \"\"\",\"\"\".join(l)\nbleu socre 0.5475182535069453\n"
     ]
    },
    {
     "name": "stdout",
     "output_type": "stream",
     "text": [
      "----------------------answer 48, this one cost 0.04069805145263672s, total cost 2.2418417930603027s\nmy code:    map(s.replace('M', ',', ''))\nground truth:    myList = ','.join(map(str, myList))\nbleu socre 0.30064545690526145\n----------------------answer 49, this one cost 0.030716896057128906s, total cost 2.2735958099365234s\nmy code:    .\nground truth:    list(reversed(list(range(10))))\nbleu socre 0\n----------------------answer 50, this one cost 0.032525062561035156s, total cost 2.307192802429199s\nmy code:    re.__class__('test', 'something', 'myarg')\nground truth:    print('lamp, bag, mirror'.replace('bag,', ''))\nbleu socre 0.26169102450205356\n----------------------answer 51, this one cost 0.0371859073638916s, total cost 2.3453047275543213s\nmy code:    \"\"\"\"\"\".join(x, b)\nground truth:    \"\"\".\"\"\".join(s.split('.')[::-1])\nbleu socre 0.19759720163209996\n----------------------answer 52, this one cost 0.03802800178527832s, total cost 2.3839879035949707s\nmy code:    time.savefig('filename.png', '*', '.')\nground truth:    datetime.datetime.fromtimestamp(s).strftime('%Y-%m-%d %H:%M:%S.%f')\nbleu socre 0.20099700401792328\n----------------------answer 53, this one cost 0.02775096893310547s, total cost 2.4127118587493896s\nmy code:    datetime.strftime('%Y-%m-%d \"foo\"')\nground truth:    time.strftime('%Y-%m-%d %H:%M:%S', time.gmtime(1236472051807 / 1000.0))\nbleu socre 0.27096805940401525\n----------------------answer 54, this one cost 0.029111623764038086s, total cost 2.4427316188812256s"
     ]
    },
    {
     "name": "stdout",
     "output_type": "stream",
     "text": [
      "\nmy code:    7.7('randint').date()\nground truth:    (datetime.datetime.now() - datetime.timedelta(days=7)).date()\nbleu socre 0.15495626106607152\n----------------------answer 55, this one cost 0.05568981170654297s, total cost 2.499220848083496s\nmy code:    sum(zip(arr, key=lambda x: x[0]))\nground truth:    print(sum(row[column] for row in data))\nbleu socre 0.4763100914774508\n----------------------answer 56, this one cost 0.027721166610717773s, total cost 2.5278899669647217s\nmy code:    np.diag(axis=1)\nground truth:    [sum(row[i] for row in array) for i in range(len(array[0]))]\nbleu socre 0.07452850641949799\n----------------------answer 57, this one cost 0.03149700164794922s, total cost 2.560300827026367s\nmy code:    \"\"\"{:.5}\"\"\".</primitive>('aaabbbccc')\nground truth:    base64.b64encode(bytes('your string', 'utf-8'))\nbleu socre 0.4272870063962341\n----------------------answer 58, this one cost 0.026520967483520508s, total cost 2.5877487659454346s\nmy code:    dict(d)\nground truth:    dict((k, [d[k] for d in dicts]) for k in dicts[0])\nbleu socre 0.005119732577934196\n----------------------answer 59, this one cost 0.06100773811340332s, total cost 2.649622678756714s\nmy code:    dict((k, v) for k, v in list(d.items()))\nground truth:    {k: [d[k] for d in dicts] for k in dicts[0]}\nbleu socre 0.3303164318013807\n----------------------answer 60, this one cost 0.03449082374572754s, total cost 2.685243844985962s\nmy code:    url(set(set(0)))\nground truth:    request.args['myParam']\nbleu socre 0\n"
     ]
    },
    {
     "name": "stdout",
     "output_type": "stream",
     "text": [
      "----------------------answer 61, this one cost 0.021274805068969727s, total cost 2.7073397636413574s\nmy code:    [t for t in mylist]\nground truth:    [k for k, v in list(Counter(mylist).items()) if v > 1]\nbleu socre 0.09349640011527645\n----------------------answer 62, this one cost 0.022602081298828125s, total cost 2.7309048175811768s\nmy code:    os.path.path(path)\nground truth:    sys.path.insert(1, os.path.join(os.path.dirname(__file__), 'apps'))\nbleu socre 0.03626448115699674\n----------------------answer 63, this one cost 0.037789106369018555s, total cost 2.769619941711426s\nmy code:    re.storbinary('STOR', 'BDE')\nground truth:    sys.path.append(os.path.join(os.path.dirname(__file__), 'subdir'))\nbleu socre 0.17099166183515635\n----------------------answer 64, this one cost 0.09448504447937012s, total cost 2.865077018737793s\nmy code:    np.einsum(11, 2, 2, 3, 3, 3, 3, 3, 1, 1, 1, 1, 1, 1, 1, 1, 0.2, 0.2, 0.2, \n    0.2, 0.2, 0.2, 0.2, 0.2, 0.2)\nground truth:    db.execute(\"INSERT INTO present VALUES('test2', ?, 10)\", (None,))\nbleu socre 0.558394826472418\n----------------------answer 65, this one cost 0.025532960891723633s, total cost 2.8915159702301025s\nmy code:    reversed(reversed(reversed(10000)))\nground truth:    [image for menuitem in list_of_menuitems for image in menuitem]\nbleu socre 0\n"
     ]
    },
    {
     "name": "stdout",
     "output_type": "stream",
     "text": [
      "----------------------answer 66, this one cost 0.023667097091674805s, total cost 2.9157447814941406s\nmy code:    a.append(list)\nground truth:    a.extend(b)\nbleu socre 0.6042750794713536\n----------------------answer 67, this one cost 0.027498960494995117s, total cost 2.944126844406128s\nmy code:    [i for x in x]\nground truth:    a.extend(list(b))\nbleu socre 0\n----------------------answer 68, this one cost 0.030735254287719727s, total cost 2.9755730628967285s\nmy code:    df.ix.reset_index('a')\nground truth:    np.savetxt('c:\\\\data\\\\np.txt', df.values, fmt='%d')\nbleu socre 0.1148852117103604\n----------------------answer 69, this one cost 0.03465914726257324s, total cost 3.0113658905029297s\nmy code:    df.to_csv('to_csv', sep=',')\nground truth:    df.to_csv('c:\\\\data\\\\pandas.txt', header=None, index=None, sep=' ', mode='a')\nbleu socre 0.11088800389396195\n----------------------answer 70, this one cost 0.036039113998413086s, total cost 3.048200845718384s\nmy code:    dict(iter(e) for e in e)\nground truth:    print(x.rpartition('-')[0])\nbleu socre 0.5911842794331965\n----------------------answer 71, this one cost 0.029465198516845703s, total cost 3.0784740447998047s\nmy code:    os.part.part('HOME')\nground truth:    print(x.rsplit('-', 1)[0])\nbleu socre 0.2664435335408837\n----------------------answer 72, this one cost 0.023157119750976562s, total cost 3.102518081665039s\nmy code:    file_name = datetime.datetime('%(asctime)s;%(levelname)s;%(message)s')\nground truth:    ftp.storlines('STOR ' + filename, open(filename, 'r'))\nbleu socre 0.3830925177304675\n"
     ]
    },
    {
     "name": "stdout",
     "output_type": "stream",
     "text": [
      "----------------------answer 73, this one cost 0.034130096435546875s, total cost 3.1376428604125977s\nmy code:    os.chmod('dir', 'w')\nground truth:    browser.execute_script(\"document.getElementById('XYZ').value+='1'\")\nbleu socre 0.19315361354073643\n"
     ]
    },
    {
     "name": "stdout",
     "output_type": "stream",
     "text": [
      "----------------------answer 74, this one cost 0.24857592582702637s, total cost 3.387307643890381s\nmy code:    min(_value([1, 2, 2, 2, 2, 2, 3, 4, 4, 4, 4, 4, 4, 4, 4, 4, 4, 4, 4, 4, 6, \n    6, 6, 6, 6, 6, 6, 6, 6, 6, 6, 6, 6, 6, 6, 6, 6, 6, 6, 6, 6, 6, 6, 6, 6,\n    6, 6, 6, 6, 6, 6, 6, 6, 6, 6, 6, 6, 6, 6, 6, 6, 6, 6, 6, 6, 6, 6, 6, 6]))\nground truth:    np.maximum([2, 3, 4], [1, 5, 2])\nbleu socre 0.03926688169647571\n----------------------answer 75, this one cost 0.03329014778137207s, total cost 3.4218788146972656s\nmy code:    print(print(x.meshgrid()))\nground truth:    print(l[3:] + l[:3])\nbleu socre 0.30937712035549253\n----------------------answer 76, this one cost 0.02333378791809082s, total cost 3.4459688663482666s\nmy code:    if some_string('name'):\nground truth:    for fn in os.listdir('.'):\n    if os.path.isfile(fn):\n        pass\nbleu socre 0.07377872629497588\n----------------------answer 77, this one cost 0.025465965270996094s, total cost 3.4723007678985596s\nmy code:    os.path.join('HOME')\nground truth:    for (root, dirs, filenames) in os.walk(source):\n    for f in filenames:\n        pass\nbleu socre 0.1382932529237074\n----------------------answer 78, this one cost 0.03848600387573242s, total cost 3.511692762374878s\nmy code:    mylist.list(key=lambda x_y: x[1])\nground truth:    [int(1000 * random.random()) for i in range(10000)]\nbleu socre 0.5408854763087599\n----------------------answer 79, this one cost 0.02413320541381836s, total cost 3.5365099906921387s\nmy code:    webbrowser.find_element_by_xpath('start')\nground truth:    datetime.datetime.now().strftime('%H:%M:%S.%f')\nbleu socre 0.0879759630094629\n"
     ]
    },
    {
     "name": "stdout",
     "output_type": "stream",
     "text": [
      "----------------------answer 80, this one cost 0.2901449203491211s, total cost 3.827404737472534s\nmy code:    os.system(None)\nground truth:    db.GqlQuery('SELECT * FROM Schedule WHERE station = $1', foo.key())\nbleu socre 0.049458560161991044\n----------------------answer 81, this one cost 0.026871919631958008s, total cost 3.854907751083374s\nmy code:    df.filter('-', \"'\")\nground truth:    df.b.str.contains('^f')\nbleu socre 0.5590922042119968\n----------------------answer 82, this one cost 0.025835037231445312s, total cost 3.8814196586608887s\nmy code:    plt.print(print=2)\nground truth:    print('\\n'.join('\\t'.join(str(col) for col in row) for row in tab))\nbleu socre 0.0291656295733555\n----------------------answer 83, this one cost 0.029150962829589844s, total cost 3.911517858505249s\nmy code:    df.apply(df.tolist())\nground truth:    df.set_index(list('BC')).drop(tuples, errors='ignore').reset_index()\nbleu socre 0.14032111445484918\n----------------------answer 84, this one cost 0.029855728149414062s, total cost 3.9420487880706787s\nmy code:    soup.{1}('div', 'utf-16', 'utf-16')\nground truth:    \"\"\"({:d} goals, ${:d})\"\"\".format(self.goals, self.penalties)\nbleu socre 0.6094736046199927\n----------------------answer 85, this one cost 0.028945207595825195s, total cost 3.9718799591064453s\nmy code:    webbrowser.call('start', auth='utf-16-le')\nground truth:    \"\"\"({} goals, ${})\"\"\".format(self.goals, self.penalties)\nbleu socre 0.5235215949109693\n----------------------answer 86, this one cost 0.020822763442993164s, total cost 3.993623733520508s\nmy code:    os.rename('start')\nground truth:    \"\"\"({0.goals} goals, ${0.penalties})\"\"\".format(self)\nbleu socre 0.09371463543621603\n----------------------answer 87, this one cost 0.02581501007080078s, total cost 4.020537853240967s\nmy code:    zip(zip(int))\nground truth:    [int(''.join(str(d) for d in x)) for x in L]\nbleu socre 0.05973888012550628\n"
     ]
    },
    {
     "name": "stdout",
     "output_type": "stream",
     "text": [
      "----------------------answer 88, this one cost 0.03597593307495117s, total cost 4.057624816894531s\nmy code:    [map(l) for x in L]\nground truth:    [''.join(str(d) for d in x) for x in L]\nbleu socre 0.20436578760388385\n----------------------answer 89, this one cost 0.03251504898071289s, total cost 4.090801954269409s\nmy code:    [map(lst) for x in L]\nground truth:    L = [int(''.join([str(y) for y in x])) for x in L]\nbleu socre 0.1014850467218453\n----------------------answer 90, this one cost 0.029804229736328125s, total cost 4.1214869022369385s\nmy code:    re.split('is')\nground truth:    myfile.write('\\n'.join(lines))\nbleu socre 0.2582109365493493\n----------------------answer 91, this one cost 0.04050421714782715s, total cost 4.16261887550354s\nmy code:    any(i for item in lst)\nground truth:    [x for x in ['AAT', 'XAC', 'ANT', 'TTA'] if 'X' not in x and 'N' not in x]\nbleu socre 0.018843757439037327\n----------------------answer 92, this one cost 0.031106948852539062s, total cost 4.194457769393921s\nmy code:    re.sub('\\\\[.*?\\\\]', '', s)\nground truth:    text = re.sub('\\\\b(\\\\w+)( \\\\1\\\\b)+', '\\\\1', text)\nbleu socre 0.2042805984518168\n----------------------answer 93, this one cost 0.03802180290222168s, total cost 4.233579635620117s\nmy code:    df.set_option('col', '', '', '')\nground truth:    df.astype(bool).sum(axis=1)\nbleu socre 0.34823528327578546\n"
     ]
    },
    {
     "name": "stdout",
     "output_type": "stream",
     "text": [
      "----------------------answer 94, this one cost 0.03312063217163086s, total cost 4.267360687255859s\nmy code:    re.sub('Test(.*)print', '', line)\nground truth:    re.search('(?<!Distillr)\\\\\\\\AcroTray\\\\.exe', 'C:\\\\SomeDir\\\\AcroTray.exe')\nbleu socre 0.10358587352066853\n----------------------answer 95, this one cost 0.035798072814941406s, total cost 4.304130792617798s\nmy code:    re.split('[', 'a', '')\nground truth:    \"\"\"QH QD JC KD JS\"\"\".split()\nbleu socre 0.32377227131456426\n----------------------answer 96, this one cost 0.03302407264709473s, total cost 4.337824821472168s\nmy code:    re.findall('\\\\*+', '', line)\nground truth:    print(re.search('>.*<', line).group(0))\nbleu socre 0.1558737358526109\n----------------------answer 97, this one cost 0.023366212844848633s, total cost 4.362112998962402s\nmy code:    os.search('filename')\nground truth:    open(filename, 'w').close()\nbleu socre 0.34701125813212746\n----------------------answer 98, this one cost 0.02803206443786621s, total cost 4.390794992446899s\nmy code:    os.exit(\"//div[@id='a']//a[@class='click']\")\nground truth:    datetime.datetime.strptime(string_date, '%Y-%m-%d %H:%M:%S.%f')\nbleu socre 0.2706311742912581\n----------------------answer 99, this one cost 0.03090810775756836s, total cost 4.422551870346069s\nmy code:    [i for x in y]\nground truth:    [index for index, item in enumerate(thelist) if item[0] == '332']\nbleu socre 0.10200218036070394\n----------------------answer 100, this one cost 0.0321660041809082s, total cost 4.455634832382202s\nmy code:    re.compile('^(.+)(?:\\\\n|\\\\r\\\\n?)((?:(?:\\\\n|\\\\r\\\\n?).+)+)', '', text)\nground truth:    re.sub('[^\\\\sa-zA-Z0-9]', '', text).lower().strip()\nbleu socre 0.14595195321616666\n"
     ]
    },
    {
     "name": "stdout",
     "output_type": "stream",
     "text": [
      "----------------------answer 101, this one cost 0.034349918365478516s, total cost 4.491170883178711s\nmy code:    re.sub('(?:\\\\w+(?:\\\\s+\\\\w+)*,\\\\s)+(?:\\\\w+(?:\\\\s\\\\w+)*)', '', line)\nground truth:    re.sub('(?!\\\\s)[\\\\W_]', '', text).lower().strip()\nbleu socre 0.2169077585347632\n----------------------answer 102, this one cost 0.030166149139404297s, total cost 4.522974967956543s\nmy code:    plt.find_all('div')\nground truth:    plt.plot(x, y, label='H\\u2082O')\nbleu socre 0.2502959502557595\n----------------------answer 103, this one cost 0.02805924415588379s, total cost 4.552000045776367s\nmy code:    plt.find_all('div')\nground truth:    plt.plot(x, y, label='$H_2O$')\nbleu socre 0.2502959502557595\n----------------------answer 104, this one cost 0.038015127182006836s, total cost 4.590739965438843s\nmy code:    dict(word in item)\nground truth:    [x for x in mylist if len(x) == 3]\nbleu socre 0.18762935180380186\n----------------------answer 105, this one cost 0.029932022094726562s, total cost 4.621685981750488s\nmy code:    randint(range(range(input_list)))\nground truth:    lst = [Object() for _ in range(100)]\nbleu socre 0.3254348667607771\n----------------------answer 106, this one cost 0.02821803092956543s, total cost 4.650540828704834s\nmy code:    emaillist = [item for item in container]\nground truth:    lst = [Object() for i in range(100)]\nbleu socre 0.2945334773316695\n----------------------answer 107, this one cost 0.025702953338623047s, total cost 4.6770179271698s\nmy code:    driver.find_element_by_xpath('Please')\nground truth:    self.driver.find_element_by_css_selector('.someclass a').get_attribute('href')\nbleu socre 0.1903777575175219\n"
     ]
    },
    {
     "name": "stdout",
     "output_type": "stream",
     "text": [
      "----------------------answer 108, this one cost 0.042732954025268555s, total cost 4.720394849777222s\nmy code:    pd.pivot_table('A_perc', order='name')\nground truth:    df1.merge(df2, on='Date_Time')\nbleu socre 0.5266403878479267\n----------------------answer 109, this one cost 0.047569990158081055s, total cost 4.7687718868255615s\nmy code:    logging.read_csv('# print print print print print', crBlock)\nground truth:    'first string is: %s, second one is: %s' % (str1, 'geo.tif')\nbleu socre 0.44587915648848403\n----------------------answer 110, this one cost 0.0448150634765625s, total cost 4.814661741256714s\nmy code:    [s.split('') for s in s.split('split')]\nground truth:    [x.strip() for x in '2.MATCHES $$TEXT$$ STRING'.split('$$TEXT$$')]\nbleu socre 0.12047252035330458\n----------------------answer 111, this one cost 0.030628204345703125s, total cost 4.846407890319824s\nmy code:    re.findall('filename.png', '')\nground truth:    if (not os.path.exists(directory)):\n    os.makedirs(directory)\nbleu socre 0.46944590249571533\n----------------------answer 112, this one cost 0.02547907829284668s, total cost 4.87270188331604s\nmy code:    \"\"\"test\"\"\".decode('.txt')\nground truth:    try:\n    os.makedirs(path)\nexcept OSError:\n    if (not os.path.isdir(path)):\n        raise\nbleu socre 0.36894576404130114\n----------------------answer 113, this one cost 0.027384042739868164s, total cost 4.900800943374634s\nmy code:    \"\"\"test\"\"\".decode('.txt')\nground truth:    distutils.dir_util.mkpath(path)\nbleu socre 0.7186082239261684\n"
     ]
    },
    {
     "name": "stdout",
     "output_type": "stream",
     "text": [
      "----------------------answer 114, this one cost 0.02714085578918457s, total cost 4.928536891937256s\nmy code:    \"\"\"test\"\"\".decode('.txt')\nground truth:    try:\n    os.makedirs(path)\nexcept OSError as exception:\n    if (exception.errno != errno.EEXIST):\n        raise\nbleu socre 0.34515133935846426\n----------------------answer 115, this one cost 0.03394889831542969s, total cost 4.963397741317749s\nmy code:    re.compile('^(.+)(?:\\\\n|\\\\r\\\\n?)((?:(?:\\\\n|\\\\r\\\\n?).+)+)', '', line)\nground truth:    re.sub('\\\\bH3\\\\b', 'H1', text)\nbleu socre 0.15580105704117447\n"
     ]
    },
    {
     "name": "stdout",
     "output_type": "stream",
     "text": [
      "----------------------answer 116, this one cost 0.40990614891052246s, total cost 5.374429941177368s\nmy code:    None.()\nground truth:    re.sub('\\\\D', '', 'aas30dsa20')\nbleu socre 0.036083466216035184\n"
     ]
    },
    {
     "name": "stdout",
     "output_type": "stream",
     "text": [
      "----------------------answer 117, this one cost 0.5334010124206543s, total cost 5.908827781677246s\nmy code:    map('1,000,000'.join('', '', ',', ':', ':', ':', ':', ':', ':', ':', ':',\n    ':', ':', ':', ':', ':', ':', ':', ':', ':', ':', ':', ':', ':', ':',\n    ':', ':', ':', ':', ':', ':', ':', ':', ':', ':', ':', ':', ':', ':',\n    ':', ':', ':', ':', ':', ':', ':', ':', ':', ':', ':', ':', ':', ':',\n    ':', ':', ':', ':', ':', ':', ':', ':', ':', ':'))\nground truth:    \"\"\"\"\"\".join([x for x in 'aas30dsa20' if x.isdigit()])\nbleu socre 0.013154195288180721\n----------------------answer 118, this one cost 0.0300900936126709s, total cost 5.941148996353149s\nmy code:    ax.headers('Jun')\nground truth:    print(soup.find('name').string)\nbleu socre 0.34795168347524846\n----------------------answer 119, this one cost 0.05797076225280762s, total cost 6.000067710876465s\nmy code:    dict(((k, v)), (k, v), list(v))\nground truth:    records = dict((record['_id'], record) for record in cursor)\nbleu socre 0.19692215902857166\n----------------------answer 120, this one cost 0.03987479209899902s, total cost 6.0411646366119385s\nmy code:    calendar.monthrange('(?=(a.*?a))', 'true')\nground truth:    np.concatenate((A, B))\nbleu socre 0.3375804740497263\n----------------------answer 121, this one cost 0.024122953414916992s, total cost 6.0663628578186035s\nmy code:    df['BrandName']\nground truth:    np.vstack((A, B))\nbleu socre 0\n"
     ]
    },
    {
     "name": "stdout",
     "output_type": "stream",
     "text": [
      "----------------------answer 122, this one cost 0.06988716125488281s, total cost 6.137473821640015s\nmy code:    os.decode.join('HOME')\nground truth:    os.stat(filepath).st_size\nbleu socre 0.4854917717073234\n----------------------answer 123, this one cost 0.03827619552612305s, total cost 6.176817893981934s\nmy code:    [map(i, i) for i in l]\nground truth:    l.count('a')\nbleu socre 0.7071067811865476\n----------------------answer 124, this one cost 0.05479097366333008s, total cost 6.2326788902282715s\nmy code:    [map(i) for i in l]\nground truth:    Counter(l)\nbleu socre 0.7400828044922853\n----------------------answer 125, this one cost 0.04467892646789551s, total cost 6.278358697891235s\nmy code:    [map(i) for i in l]\nground truth:    [[x, l.count(x)] for x in set(l)]\nbleu socre 0.3718856977695241\n"
     ]
    },
    {
     "name": "stdout",
     "output_type": "stream",
     "text": [
      "----------------------answer 126, this one cost 0.06782913208007812s, total cost 6.348346948623657s\nmy code:    [map(i) for i in l]\nground truth:    dict(((x, l.count(x)) for x in set(l)))\nbleu socre 0.14622731156924595\n----------------------answer 127, this one cost 0.037770986557006836s, total cost 6.387194871902466s\nmy code:    [map(i, i) for i in l]\nground truth:    l.count('b')\nbleu socre 0.7071067811865476\n----------------------answer 128, this one cost 0.05801987648010254s, total cost 6.446241855621338s\nmy code:    os.system('path -c', 'r')\nground truth:    shutil.copy(srcfile, dstdir)\nbleu socre 0.7311104457090247\n"
     ]
    },
    {
     "name": "stdout",
     "output_type": "stream",
     "text": [
      "----------------------answer 129, this one cost 0.592120885848999s, total cost 7.0393288135528564s\nmy code:    data.pivot_table('Name', 'b', 'b', 'one', 'one', 'C', 'C', 'C', 'C', 'C',\n    'C', 'C', 'C', 'C', 'C', 'C', 'C', 'C', 'C', 'C', 'C', 'C', 'C', 'C',\n    'C', 'C', 'C', 'C', 'C', 'C', 'C', 'C', 'C', 'C', 'C', 'C', 'C', 'C',\n    'C', 'C', 'C', 'C', 'C', 'C', 'C', 'C', 'C', 'C', 'C', 'C', 'C', 'C',\n    'C', 'C', 'C', 'C', 'C', 'C', 'C', 'C', 'C', 'C', 'C', 'C', None)\nground truth:    max(k for k, v in x.items() if v != 0)\nbleu socre 0.35151161096476324\n----------------------answer 130, this one cost 0.034874916076660156s, total cost 7.076016902923584s\nmy code:    dict(d['name'])\nground truth:    (k for k, v in x.items() if v != 0)\nbleu socre 0.2525819952812828\n----------------------answer 131, this one cost 0.041089773178100586s, total cost 7.118038654327393s\nmy code:    [k for k, v in (k, v) if v if v]\nground truth:    max(k for k, v in x.items() if v != 0)\nbleu socre 0.3384580074476167\n----------------------answer 132, this one cost 0.021750926971435547s, total cost 7.140793800354004s\nmy code:    os.listdir('somedirectory')\nground truth:    file.seek(0)\nbleu socre 0.7825422900366437\n----------------------answer 133, this one cost 0.047454833984375s, total cost 7.1891257762908936s\nmy code:    df.concat('a', 'b', 'b', 'b', 'b')\nground truth:    df['c'] = np.where(df['a'].isnull, df['b'], df['a'])\nbleu socre 0.2112302040878568\n----------------------answer 134, this one cost 0.02353191375732422s, total cost 7.213693857192993s\nmy code:    for letter, v in d.key():\nground truth:    del d['ele']\nbleu socre 0.5491004867761125\n"
     ]
    },
    {
     "name": "stdout",
     "output_type": "stream",
     "text": [
      "----------------------answer 135, this one cost 0.03352189064025879s, total cost 7.248132705688477s\nmy code:    df.pivot_table('Cat1', rows=True)\nground truth:    MyModel.objects.update(timestamp=F('timestamp') + timedelta(days=36524.25))\nbleu socre 0.1562818850798506\n----------------------answer 136, this one cost 0.031042098999023438s, total cost 7.28012490272522s\nmy code:    [x for x in li]\nground truth:    ['it'] + ['was'] + ['annoying']\nbleu socre 0.17521137606757647\n----------------------answer 137, this one cost 0.03112196922302246s, total cost 7.312017917633057s\nmy code:    np.fromfile('a')\nground truth:    str(int(x) + 1).zfill(len(x))\nbleu socre 0.2540542852726497\n----------------------answer 138, this one cost 0.03505587577819824s, total cost 7.347862720489502s\nmy code:    df.apply(df.isnull())\nground truth:    all(df.index[:-1] <= df.index[1:])\nbleu socre 0.14628187563941414\n----------------------answer 139, this one cost 0.020722150802612305s, total cost 7.3696839809417725s\nmy code:    map(l)\nground truth:    list(t)\nbleu socre 0.8408964152537145\n----------------------answer 140, this one cost 0.017068862915039062s, total cost 7.387484788894653s\nmy code:    map(lst)\nground truth:    tuple(l)\nbleu socre 0.8408964152537145\n----------------------answer 141, this one cost 0.025597095489501953s, total cost 7.4141528606414795s\nmy code:    len(map(x))\nground truth:    level1 = map(list, level1)\nbleu socre 0.44815260192961937\n----------------------answer 142, this one cost 0.035207271575927734s, total cost 7.450123071670532s"
     ]
    },
    {
     "name": "stdout",
     "output_type": "stream",
     "text": [
      "\nmy code:    os.system('GREPDB=\"echo 123\";', '$1')\nground truth:    pprint.pprint(dataobject, logFile)\nbleu socre 0.6773709971213142\n----------------------answer 143, this one cost 0.040212392807006836s, total cost 7.491286039352417s\nmy code:    MyModel.objects.filter(0).order_by()\nground truth:    df.loc[df['BoolCol']]\nbleu socre 0.5266403878479267\n----------------------answer 144, this one cost 0.04315495491027832s, total cost 7.535593032836914s\nmy code:    np.sample('Date')\nground truth:    df.iloc[np.flatnonzero(df['BoolCol'])]\nbleu socre 0.18574174173997463\n----------------------answer 145, this one cost 0.1170501708984375s, total cost 7.653563976287842s\nmy code:    any(range(11, 2, 2, 2, 3, 3, 3, 3, 1, 1, 1, 1, 1, 1, 1, 1, 1, 1, 1, 1, 1, 1,\n    1, 1, 1, 1, 1, 1))\nground truth:    df[df['BoolCol'] == True].index.tolist()\nbleu socre 0.4255249605899013\n----------------------answer 146, this one cost 0.03515911102294922s, total cost 7.6902899742126465s\nmy code:    df.DataFrame('div', 'Weeks')\nground truth:    "
     ]
    },
    {
     "name": "stdout",
     "output_type": "stream",
     "text": [
      "df[df['BoolCol']].index.tolist()\nbleu socre 0.6543802314413064\n----------------------answer 147, this one cost 0.03296804428100586s, total cost 7.7239367961883545s\nmy code:    os.chdir('ls')\nground truth:    os.chdir(owd)\nbleu socre 0.3655552228545123\n----------------------answer 148, this one cost 0.07345986366271973s, total cost 7.7984278202056885s\nmy code:    .\nground truth:    c.execute(\"INSERT INTO test VALUES (?, 'bar')\", (testfield,))\nbleu socre 2.7894680928689246e-10\n----------------------answer 149, this one cost 0.033933162689208984s, total cost 7.834234952926636s\nmy code:    re.findall('(?=(\\\\w\\\\w))', '\\\\\\\\\\\\g<0>')\nground truth:    \"\"\"\\\\x89\\\\n\"\"\".decode('string_escape')\nbleu socre 0.2073396879864047\n----------------------answer 150, this one cost 0.031471967697143555s, total cost 7.866696834564209s\nmy code:    re.findall('test', 'unicode-escape')\nground truth:    raw_string.decode('string_escape')\nbleu socre 0.4841524713034601\n----------------------answer 151, this one cost 0.034425973892211914s, total cost 7.902138948440552s\nmy code:    re.findall('test', 'unicode-escape')\nground truth:    raw_byte_string.decode('unicode_escape')\nbleu socre 0.4841524713034601\n"
     ]
    },
    {
     "name": "stdout",
     "output_type": "stream",
     "text": [
      "----------------------answer 152, this one cost 0.05176115036010742s, total cost 7.954879999160767s\nmy code:    \"\"\"\"\"\".join('', s)\nground truth:    [m.group(0) for m in re.finditer('(\\\\d)\\\\1*', s)]\nbleu socre 0.07526103051636611\n----------------------answer 153, this one cost 0.03473806381225586s, total cost 7.9905009269714355s\nmy code:    driver.set_yticklabels('//*[contains(text(),')\nground truth:    plt.scatter(np.random.randn(100), np.random.randn(100), facecolors='none')\nbleu socre 0.2655594886651926\n----------------------answer 154, this one cost 0.028120994567871094s, total cost 8.019945859909058s\nmy code:    time.exit('ulimit')\nground truth:    plt.plot(np.random.randn(100), np.random.randn(100), 'o', mfc='none')\nbleu socre 0.027215232485694168\n----------------------answer 155, this one cost 0.026703834533691406s, total cost 8.047371625900269s\nmy code:    parser.SequenceMatcher(\"//div[@id='a']//a[@class='click']\")\nground truth:    soup.find('div', id='main-content').decompose()\nbleu socre 0.20130088157694537\n----------------------answer 156, this one cost 0.026872873306274414s, total cost 8.07545781135559s\nmy code:    df.filter(loc='%Y%m%d')\nground truth:    df[df['ids'].str.contains('ball')]\nbleu socre 0.336607735780637\n----------------------answer 157, this one cost 0.035006046295166016s, total cost 8.111178874969482s\nmy code:    df.apply(np.arange(axis=1))\nground truth:    df.reset_index(level=0, inplace=True)\nbleu socre 0.42311785416105785\n----------------------answer 158, this one cost 0.026608943939208984s, total cost 8.138563871383667s\nmy code:    df.merge('my.csv')\nground truth:    df['index1'] = df.index\nbleu socre 0.4591497693322865\n"
     ]
    },
    {
     "name": "stdout",
     "output_type": "stream",
     "text": [
      "----------------------answer 159, this one cost 0.02985405921936035s, total cost 8.169338941574097s\nmy code:    df.apply(df.columns())\nground truth:    df.reset_index(level=['tick', 'obs'])\nbleu socre 0.251986736119447\n----------------------answer 160, this one cost 0.03374314308166504s, total cost 8.20389199256897s\nmy code:    [i for i in l for i in L]\nground truth:    [x[::-1] for x in b]\nbleu socre 0.6474469561695607\n----------------------answer 161, this one cost 0.04609107971191406s, total cost 8.250661849975586s\nmy code:    join(join(a.in1d(a)))\nground truth:    np.array([zip(x, y) for x, y in zip(a, b)])\nbleu socre 0.1825301169435058\n----------------------answer 162, this one cost 0.02349114418029785s, total cost 8.27514386177063s\nmy code:    a.zip(a, a)\nground truth:    np.array(zip(a.ravel(), b.ravel()), dtype='i4,i4').reshape(a.shape)\nbleu socre 0.019387103915861004\n----------------------answer 163, this one cost 0.03292489051818848s, total cost 8.309018850326538s\nmy code:    \"\"\"\"\"\".join(map(s))\nground truth:    \"\"\",\"\"\".join([str(i) for i in list_of_ints])\nbleu socre 0.2902579111544767\n----------------------answer 164, this one cost 0.03823518753051758s, total cost 8.347969055175781s\nmy code:    ax.set_title('window.scrollTo(0, document.body.scrollHeight);', '$%s')\nground truth:    requests.post(url, data=DATA, headers=HEADERS_DICT, auth=(username, password))\nbleu socre 0.7071067811865476\n"
     ]
    },
    {
     "name": "stdout",
     "output_type": "stream",
     "text": [
      "----------------------answer 165, this one cost 0.031325340270996094s, total cost 8.380640029907227s\nmy code:    re.findall('\\\\s{2,}', '|')\nground truth:    'abcd}def}'.rfind('}')\nbleu socre 0.5292031904718658\n----------------------answer 166, this one cost 0.042465925216674805s, total cost 8.423987865447998s\nmy code:    [map(l) for x in L]\nground truth:    print([item for item in [1, 2, 3]])\nbleu socre 0.48301556221513736\n----------------------answer 167, this one cost 0.05860614776611328s, total cost 8.483659029006958s\nmy code:    [i for i, v in (k, v) if d if v]\nground truth:    [(x['x'], x['y']) for x in d]\nbleu socre 0.6545959733543215\n----------------------answer 168, this one cost 0.03056788444519043s, total cost 8.515557765960693s\nmy code:    re.compile('\\\\bis\\\\b', String)\nground truth:    print(os.path.splitext(os.path.basename('hemanth.txt'))[0])\nbleu socre 0.20167776637913476\n----------------------answer 169, this one cost 0.04232025146484375s, total cost 8.559041023254395s\nmy code:    dict((k, v))\nground truth:    dict(x[i:i + 2] for i in range(0, len(x), 2))\nbleu socre 0.0812591978203351\n"
     ]
    },
    {
     "name": "stdout",
     "output_type": "stream",
     "text": [
      "----------------------answer 170, this one cost 0.045758962631225586s, total cost 8.6060049533844s\nmy code:    any(Task.</primitive>('eng_name'))\nground truth:    values = sum([['A', 'B', 'C'], ['D', 'E', 'F'], ['G', 'H', 'I']], [])\nbleu socre 0.05202411671255703\n----------------------answer 171, this one cost 0.04419112205505371s, total cost 8.651290893554688s\nmy code:    df.pivot_table('BrandName', 'c2', 'a')\nground truth:    df = df[(df['closing_price'] >= 99) & (df['closing_price'] <= 101)]\nbleu socre 0.4194190991704928\n----------------------answer 172, this one cost 0.03176999092102051s, total cost 8.684374809265137s\nmy code:    df.date_range('col')\nground truth:    df.replace({'\\n': '<br>'}, regex=True)\nbleu socre 0.1126580611537204\n----------------------answer 173, this one cost 0.04930996894836426s, total cost 8.734827756881714s\nmy code:    df.groupby('col', '<', 'str', 'str', 'str')\nground truth:    df.replace({'\\n': '<br>'}, regex=True)\nbleu socre 0.43628745902984684\n----------------------answer 174, this one cost 0.03787803649902344s, total cost 8.773445844650269s\nmy code:    list('two')\nground truth:    [(x + y) for x, y in zip(word, word[1:])]\nbleu socre 0.052796005801316395\n----------------------answer 175, this one cost 0.0274200439453125s, total cost 8.801474809646606s\nmy code:    [i for item in my_list]\nground truth:    list(map(lambda x, y: x + y, word[:-1], word[1:]))\nbleu socre 0.04198958787098444\n"
     ]
    },
    {
     "name": "stdout",
     "output_type": "stream",
     "text": [
      "----------------------answer 176, this one cost 0.025871753692626953s, total cost 8.82805871963501s\nmy code:    \"\"\"\"\"\".join('\\n')\nground truth:    print(re.findall('(https?://[^\\\\s]+)', myString))\nbleu socre 0.16836294667027668\n----------------------answer 177, this one cost 0.02704310417175293s, total cost 8.85629391670227s\nmy code:    \"\"\"\"\"\".join('\\n')\nground truth:    print(re.search('(?P<url>https?://[^\\\\s]+)', myString).group('url'))\nbleu socre 0.09130326078821405\n----------------------answer 178, this one cost 0.03679299354553223s, total cost 8.89415979385376s\nmy code:    re.sub('', ' ', s)\nground truth:    re.sub('[^A-Za-z0-9]+', '', mystring)\nbleu socre 0.25963670755916085\n----------------------answer 179, this one cost 0.036603689193725586s, total cost 8.931438684463501s\nmy code:    re.setsockopt('.//a[starts-with(text(),\"TEXT', '.')\nground truth:    pd.date_range('2016-01-01', freq='WOM-2FRI', periods=13)\nbleu socre 0.4188216850419828\n----------------------answer 180, this one cost 0.031003952026367188s, total cost 8.963697910308838s\nmy code:    any(np.values())\nground truth:    matrix = [[a, b], [c, d], [e, f]]\nbleu socre 0\n----------------------answer 181, this one cost 0.0187680721282959s, total cost 8.983466863632202s\nmy code:    numpy.remove('a')\nground truth:    mystring.replace(' ', '_')\nbleu socre 0.44677880536150705\n----------------------answer 182, this one cost 0.023509979248046875s, total cost 9.00781798362732s\nmy code:    os.chdir('ls')\nground truth:    os.path.abspath('mydir/myfile.txt')\nbleu socre 0.3556724758671222\n"
     ]
    },
    {
     "name": "stdout",
     "output_type": "stream",
     "text": [
      "----------------------answer 183, this one cost 0.022243022918701172s, total cost 9.0307776927948s\nmy code:    re.sub('\\\\b\\\\d+\\\\b', s)\nground truth:    \"\"\" \"\"\".join(my_string.split())\nbleu socre 0.7162326270441588\n----------------------answer 184, this one cost 0.0286557674407959s, total cost 9.060719728469849s\nmy code:    re.sub('\\\\([^)]*\\\\)', text)\nground truth:    os.path.splitext(filename)[0]\nbleu socre 0.7071067811865476\n----------------------answer 185, this one cost 0.03269195556640625s, total cost 9.09435486793518s\nmy code:    [i for i in v]\nground truth:    [sum(l[:i]) for i, _ in enumerate(l)]\nbleu socre 0.11071861994616217\n----------------------answer 186, this one cost 0.03332686424255371s, total cost 9.128716707229614s\nmy code:    plt.set_yticklabels('myfunction', vmax='state')\nground truth:    \"\"\"Docs/src/Scripts/temp\"\"\".replace('/', '/\\x00/').split('\\x00')\nbleu socre 0.13446004138128606\n----------------------answer 187, this one cost 0.029716014862060547s, total cost 9.159205913543701s\nmy code:    np.apply(np.arange())\nground truth:    np.random.shuffle(np.transpose(r))\nbleu socre 0.34014651514316574\n----------------------answer 188, this one cost 0.03675723075866699s, total cost 9.196609020233154s\nmy code:    df['BrandName']['A']\nground truth:    df['D'] = df['B']\nbleu socre 0.39533788890683697\n"
     ]
    },
    {
     "name": "stdout",
     "output_type": "stream",
     "text": [
      "----------------------answer 189, this one cost 0.03806018829345703s, total cost 9.23531985282898s\nmy code:    df.merge('filename.csv', id_vars='A')\nground truth:    list(data['A']['B'].values())[0]['maindata'][0]['Info']\nbleu socre 0.0852832778752865\n----------------------answer 190, this one cost 0.04038691520690918s, total cost 9.277369737625122s\nmy code:    \"\"\" string\n __name__\"\"\".string()\nground truth:    all(predicate(x) for x in string)\nbleu socre 0.7071067811865476\n----------------------answer 191, this one cost 0.03212308883666992s, total cost 9.310620784759521s\nmy code:    os.exit('%Y-%m-%d')\nground truth:    os.statvfs('/').f_files - os.statvfs('/').f_ffree\nbleu socre 0.3769486629893372\n----------------------answer 192, this one cost 0.045649051666259766s, total cost 9.357345819473267s\nmy code:    np.writerow(filter)\nground truth:    cursor.fetchone()[0]\nbleu socre 0.6025286104785453\n----------------------answer 193, this one cost 0.030581951141357422s, total cost 9.388917922973633s\nmy code:    [int(x) for x in words]\nground truth:    user_list = [int(number) for number in user_input.split(',')]\nbleu socre 0.1680183308091936\n"
     ]
    },
    {
     "name": "stdout",
     "output_type": "stream",
     "text": [
      "----------------------answer 194, this one cost 0.048932790756225586s, total cost 9.438841819763184s\nmy code:    [int(int) for x in s]\nground truth:    [int(s) for s in user.split(',')]\nbleu socre 0.21218444787739588\n----------------------answer 195, this one cost 0.043467044830322266s, total cost 9.484014749526978s\nmy code:    [l[1] for i in L]\nground truth:    sorted(list, key=lambda x: (x[0], -x[1]))\nbleu socre 0.10339832360529193\n----------------------answer 196, this one cost 0.06804203987121582s, total cost 9.553457975387573s\nmy code:    somelist.sort(key=lambda x: x[0])\nground truth:    ut.sort(key=cmpfun, reverse=True)\nbleu socre 0.27824623288353134\n----------------------answer 197, this one cost 0.02524423599243164s, total cost 9.579818964004517s\nmy code:    [x for x in L]\nground truth:    ut.sort(key=lambda x: x.count, reverse=True)\nbleu socre 0.17521137606757647\n----------------------answer 198, this one cost 0.04969191551208496s, total cost 9.630300998687744s\nmy code:    sorted(list(itertools.meshgrid()))\nground truth:    ut.sort(key=lambda x: x.count, reverse=True)\nbleu socre 0.4188362313263686\n"
     ]
    },
    {
     "name": "stdout",
     "output_type": "stream",
     "text": [
      "----------------------answer 199, this one cost 0.03924298286437988s, total cost 9.670564889907837s\nmy code:    logging.click('test.sh', name='name')\nground truth:    driver.find_element_by_partial_link_text('Send').click()\nbleu socre 0.30213753973567675\n----------------------answer 200, this one cost 0.032943010330200195s, total cost 9.704671859741211s\nmy code:    requests.get('%m/%d/%Y')\nground truth:    driver.findElement(By.linkText('Send InMail')).click()\nbleu socre 0.3131319507357625\n----------------------answer 201, this one cost 0.031219005584716797s, total cost 9.736753940582275s\nmy code:    requests.find_element_by_xpath('%m/%d/%Y')\nground truth:    driver.find_element_by_link_text('Send InMail').click()\nbleu socre 0.46713797772820004\n----------------------answer 202, this one cost 0.06011319160461426s, total cost 9.798017024993896s\nmy code:    re.findall('{http://www.w3.org/2002/07/owl#}Class', 'unicode-escape', text)\nground truth:    'ME' + str(i)\nbleu socre 0.5856596027429395\n----------------------answer 203, this one cost 0.0346832275390625s, total cost 9.834110975265503s\nmy code:    df.apply(df.isnull())\nground truth:    df.sort_values(['System_num', 'Dis'])\nbleu socre 0.3077772945160715\n"
     ]
    },
    {
     "name": "stdout",
     "output_type": "stream",
     "text": [
      "----------------------answer 204, this one cost 0.05495095252990723s, total cost 9.890222787857056s\nmy code:    os.Popen('grep line line line line', PIPE)\nground truth:    open('outfile', 'w').write('#test firstline\\n' + open('infile').read())\nbleu socre 0.14008732581075883\n----------------------answer 205, this one cost 0.10741806030273438s, total cost 9.99898386001587s\nmy code:    your_list.sort(key=lambda x: x[0])\nground truth:    l.sort(key=lambda t: len(t[1]), reverse=True)\nbleu socre 0.2523623444520119\n"
     ]
    },
    {
     "name": "stdout",
     "output_type": "stream",
     "text": [
      "----------------------answer 206, this one cost 0.4271237850189209s, total cost 10.427376747131348s\nmy code:    [s.split('=', '', '', '', ',', ',', ',', ',', ',', ',', ',', ',', ',', 'e',\n    'e', 'e', 'e', 'e', 'e', 'e', 'e', 'e', 'e', 'e', 'e', 'e', 'e', 'e',\n    'e', 'e', 'e', 'e', 'e', 'e', 'e', 'e', 'e', 'e', 'e', 'e', 'e', ',',\n    ',', ',', ',', ',', ',', ',', ',', ',', ',', ',', ',', ',', ',', ',',\n    ',', ',', ',', ',', ',', ',', ',', ',')]\nground truth:    re.findall('\\\\b(\\\\w+)d\\\\b', s)\nbleu socre 0.12031011485823481\n----------------------answer 207, this one cost 0.03444027900695801s, total cost 10.46454405784607s\nmy code:    os.match.join('background-color: )?(http://url.com/(\\\\d+))\\\\s?')\nground truth:    bool(re.search('ba[rzd]', 'foobarrrr'))\nbleu socre 0.364475284252601\n----------------------answer 208, this one cost 0.030743122100830078s, total cost 10.4966299533844s\nmy code:    l = sorted(list(x))\nground truth:    list(set(t))\nbleu socre 0.6104735835807844\n----------------------answer 209, this one cost 0.025730133056640625s, total cost 10.523252964019775s\nmy code:    np.choice(key=1)\nground truth:    list(set(source_list))\nbleu socre 0.7071067811865476\n----------------------answer 210, this one cost 0.02451014518737793s, total cost 10.548604965209961s\nmy code:    np.choice(key=1)\nground truth:    list(OrderedDict.fromkeys('abracadabra'))\nbleu socre 0.4746358914289604\n----------------------answer 211, this one cost 0.022342205047607422s, total cost 10.572136878967285s\nmy code:    np.shape(a)\nground truth:    numpy.array(a).reshape(-1).tolist()\nbleu socre 0.09597387912920985\n----------------------answer 212, this one cost 0.029105186462402344s, total cost 10.60211992263794s\nmy code:    np.apply(a)\nground truth:    numpy.array(a)[0].tolist()\nbleu socre 0.1582341759519314\n"
     ]
    },
    {
     "name": "stdout",
     "output_type": "stream",
     "text": [
      "----------------------answer 213, this one cost 0.044248104095458984s, total cost 10.647402048110962s\nmy code:    ax.find_all('SELECT', class_='name')\nground truth:    print(soup.find(text='Address:').findNext('td').contents[0])\nbleu socre 0.23810116258220343\n----------------------answer 214, this one cost 0.04700803756713867s, total cost 10.695415735244751s\nmy code:    [s.split('=') for s in s]\nground truth:    \"\"\" \"\"\".join([('%d@%d' % t) for t in l])\nbleu socre 0.22157809885685756\n----------------------answer 215, this one cost 0.04771685600280762s, total cost 10.744363784790039s\nmy code:    [item.split('_(?:f?or|and)_') for item in lst]\nground truth:    \"\"\" \"\"\".join([('%d@%d' % (t[0], t[1])) for t in l])\nbleu socre 0.25994295785649923\n----------------------answer 216, this one cost 0.04901695251464844s, total cost 10.794850826263428s\nmy code:    re.findall('\\\\*\\\\*+', '*', '£100')\nground truth:    driver.execute_script('return document.documentElement.outerHTML;')\nbleu socre 0.37494051432044967\n----------------------answer 217, this one cost 0.03753805160522461s, total cost 10.833312034606934s\nmy code:    re.compile('^([^A]*)AA([^A]|AA)*$', '')\nground truth:    [i for i in teststr if re.search('\\\\d+[xX]', i)]\nbleu socre 0.44899290431423966\n"
     ]
    },
    {
     "name": "stdout",
     "output_type": "stream",
     "text": [
      "----------------------answer 218, this one cost 0.057038068771362305s, total cost 10.891727924346924s\nmy code:    df.pivot_table(['A', 'B'])\nground truth:    df['A'][(df['B'] > 50) & (df['C'] == 900)]\nbleu socre 0.12278932164401815\n----------------------answer 219, this one cost 0.04030179977416992s, total cost 10.933067798614502s\nmy code:    sorted(list(dict1.items()))\nground truth:    sorted(o.items())\nbleu socre 0.40352786374639904\n----------------------answer 220, this one cost 0.027950763702392578s, total cost 10.961911678314209s\nmy code:    sorted(d)\nground truth:    sorted(d)\nbleu socre 1.0\n----------------------answer 221, this one cost 0.03878498077392578s, total cost 11.001572847366333s\nmy code:    sorted(zip(d.items()))\nground truth:    sorted(d.items())\nbleu socre 0.6132297420585351\n----------------------answer 222, this one cost 0.027950763702392578s, total cost 11.030211687088013s\nmy code:    \"\"\"\"\"\".join('')\nground truth:    int('1')\nbleu socre 0.4961683000340363\n----------------------answer 223, this one cost 0.023951053619384766s, total cost 11.055100917816162s\nmy code:    [i for i in int]\nground truth:    int()\nbleu socre 0.6147881529512643\n----------------------answer 224, this one cost 0.03376173973083496s, total cost 11.089590787887573s\nmy code:    items(set(map(int)))\nground truth:    T2 = [map(int, x) for x in T1]\n"
     ]
    },
    {
     "name": "stdout",
     "output_type": "stream",
     "text": [
      "bleu socre 0.21763141204756337\n----------------------answer 225, this one cost 0.030771970748901367s, total cost 11.121214866638184s\nmy code:    subprocess.call('%Y-%m-%d')\nground truth:    subprocess.call(['./test.sh'])\nbleu socre 0.1892240568795935\n----------------------answer 226, this one cost 0.026862144470214844s, total cost 11.148936986923218s\nmy code:    subprocess.call('%Y-%m-%d')\nground truth:    subprocess.call(['notepad'])\nbleu socre 0.1892240568795935\n----------------------answer 227, this one cost 0.05042290687561035s, total cost 11.20051383972168s\nmy code:    mylist.`l1`(key=lambda x: x[1])\nground truth:    [val for pair in zip(l1, l2) for val in pair]\nbleu socre 0.7476743906106103\n----------------------answer 228, this one cost 0.026797771453857422s, total cost 11.228142738342285s\nmy code:    \"\"\"{:.5}\"\"\".format('aaabbbccc')\nground truth:    encoded = base64.b64encode('data to be encoded')\nbleu socre 0.4251768826212766\n----------------------answer 229, this one cost 0.02835702896118164s, total cost 11.257527828216553s\nmy code:    soup.set_size_inches('xpath')\nground truth:    encoded = 'data to be encoded'.encode('ascii')\nbleu socre 0.2709850435615371\n----------------------answer 230, this one cost 0.03857827186584473s, total cost 11.297013998031616s\nmy code:    pd.merge('Z', delimiter=',')\nground truth:    lol = list(csv.reader(open('text.txt', 'rb'), delimiter='\\t'))\nbleu socre 0.1072571243135838\n"
     ]
    },
    {
     "name": "stdout",
     "output_type": "stream",
     "text": [
      "----------------------answer 231, this one cost 0.030169248580932617s, total cost 11.328316926956177s\nmy code:    socket.inet_ntoa('(1,2,3,4)', '1633837924')\nground truth:    getattr(my_object, my_str)\nbleu socre 0.6223329772884784\n----------------------answer 232, this one cost 0.046376943588256836s, total cost 11.376048803329468s\nmy code:    list([x for x in b])\nground truth:    print(dict(zip(LD[0], zip(*[list(d.values()) for d in LD]))))\nbleu socre 0.06958626415741609\n----------------------answer 233, this one cost 0.04476308822631836s, total cost 11.421886920928955s\nmy code:    [x for x in lst]\nground truth:    sum([pair[0] for pair in list_of_pairs])\nbleu socre 0.3689674670049219\n"
     ]
    },
    {
     "name": "stdout",
     "output_type": "stream",
     "text": [
      "----------------------answer 234, this one cost 0.33857202529907227s, total cost 11.761651992797852s\nmy code:    u = s.split('', '', '', '', '', '', '', '', '', '', '', '', '', '', '', '',\n    '', '', '', '', '', '', '', '', '', '', '', '', '', '', '', '', '', '',\n    '', '', '', '', '', '', '', '', '', '', '', '', '', '', '', '', '', '',\n    '', '', '', '', '', '', '', '', '', '', '', None)\nground truth:    d = ast.literal_eval(\"{'code1':1,'code2':1}\")\nbleu socre 0.15449879474893255\n----------------------answer 235, this one cost 0.02802586555480957s, total cost 11.791193723678589s\nmy code:    re.findall(',', s)\nground truth:    [word for word in mystring.split() if word.startswith('$')]\nbleu socre 0.1786024416690236\n----------------------answer 236, this one cost 0.018746137619018555s, total cost 11.810770988464355s\nmy code:    some_string('\"')\nground truth:    text = re.sub('^https?:\\\\/\\\\/.*[\\\\r\\\\n]*', '', text, flags=re.MULTILINE)\nbleu socre 0.0022250266064055275\n----------------------answer 237, this one cost 0.04123187065124512s, total cost 11.852941751480103s\nmy code:    np.xticks([1, 2, 2, 2, 3, 3])\nground truth:    np.where(np.in1d(A, [1, 3, 4]).reshape(A.shape), A, 0)\nbleu socre 0.21691577793340958\n----------------------answer 238, this one cost 0.02182912826538086s, total cost 11.875712871551514s\nmy code:    a.sort(a)\nground truth:    np.mean(a, axis=1)\nbleu socre 0.31024517040537297\n----------------------answer 239, this one cost 0.023974895477294922s, total cost 11.900259733200073s\nmy code:    os.chdir('..', '/usr/var')\nground truth:    subprocess.call(['/usr/bin/Rscript', '--vanilla', '/pathto/MyrScript.r'])\nbleu socre 0.12679104320871054\n----------------------answer 240, this one cost 0.022027015686035156s, total cost 11.923290729522705s\nmy code:    os.system('input')\nground truth:    subprocess.call('/usr/bin/Rscript --vanilla /pathto/MyrScript.r', shell=True)\nbleu socre 0.050844748071976226\n----------------------answer 241, this one cost 0.023594141006469727s, total cost 11.947701930999756s\nmy code:    os.exit('echo csv getmtime')\nground truth:    writer.writeheader()\nbleu socre 0.7400828044922853\n"
     ]
    },
    {
     "name": "stdout",
     "output_type": "stream",
     "text": [
      "----------------------answer 242, this one cost 0.033416032791137695s, total cost 11.981745958328247s\nmy code:    df.apply(df.isnull())\nground truth:    df.fillna(df.mean(axis=1), axis=1)\nbleu socre 0.21218444787739588\n----------------------answer 243, this one cost 0.03254199028015137s, total cost 12.01534390449524s\nmy code:    datetime.datetime('%m/%d/%Y').strftime()\nground truth:    time.strftime('%Y-%m-%d %H:%M:%S', time.localtime(1347517370))\nbleu socre 0.2443444164817078\n----------------------answer 244, this one cost 0.03281426429748535s, total cost 12.049468994140625s\nmy code:    webbrowser.write('start', class_='utf-16-le')\nground truth:    super(Derived, cls).do(a)\nbleu socre 0.6865890479690392\n----------------------answer 245, this one cost 0.04319000244140625s, total cost 12.093698740005493s\nmy code:    df.groupby(df.groupby())\nground truth:    a[np.where((a[:, (0)] == 0) * (a[:, (1)] == 1))]\nbleu socre 0.03985159141250983\n----------------------answer 246, this one cost 0.02908802032470703s, total cost 12.123758792877197s\nmy code:    .split('', 'a.b')\nground truth:    re.split(' +', 'hello world sample text')\nbleu socre 0.2661344053822834\n----------------------answer 247, this one cost 0.031889915466308594s, total cost 12.15635371208191s\nmy code:    [map(x) for i in x]\nground truth:    len(max(words, key=len))\nbleu socre 0.6051012508914458\n"
     ]
    },
    {
     "name": "stdout",
     "output_type": "stream",
     "text": [
      "----------------------answer 248, this one cost 0.03624391555786133s, total cost 12.193228721618652s\nmy code:    [max(a_list) for i in v]\nground truth:    result[0]['from_user']\nbleu socre 0.668740304976422\n----------------------answer 249, this one cost 0.03563404083251953s, total cost 12.229560852050781s\nmy code:    print(os.path.now('rb'))\nground truth:    [line.split() for line in open('File.txt')]\nbleu socre 0.38522326415941144\n----------------------answer 250, this one cost 0.04172706604003906s, total cost 12.272197961807251s\nmy code:    [k for k, v in list(d.values())]\nground truth:    res = dict((v, k) for k, v in a.items())\nbleu socre 0.25823446396765853\n----------------------answer 251, this one cost 0.0279238224029541s, total cost 12.301174640655518s\nmy code:    lines = os.open('filename')\nground truth:    new_file = open('path/to/FILE_NAME.ext', 'w')\nbleu socre 0.18568897291393432\n----------------------answer 252, this one cost 0.025873184204101562s, total cost 12.327890872955322s\nmy code:    df['BrandName']\nground truth:    df.groupby(['col1', 'col2'])['col3'].nunique().reset_index()\nbleu socre 0.04011864907896399\n----------------------answer 253, this one cost 0.03253984451293945s, total cost 12.361218690872192s\nmy code:    \"\"\"\"\"\".join('ab', 'ab')\nground truth:    any(key.startswith('EMP$$') for key in dict1)\nbleu socre 0.4378826865860794\n----------------------answer 254, this one cost 0.028155803680419922s, total cost 12.390598773956299s\nmy code:    [k for k in v]\nground truth:    [value for key, value in list(dict1.items()) if key.startswith('EMP$$')]\nbleu socre 0.04993431665220665\n"
     ]
    },
    {
     "name": "stdout",
     "output_type": "stream",
     "text": [
      "----------------------answer 255, this one cost 0.028818130493164062s, total cost 12.420158863067627s\nmy code:    df['new_col']\nground truth:    pd.DataFrame({'email': sf.index, 'list': sf.values})\nbleu socre 0.04469085405803316\n"
     ]
    },
    {
     "name": "stdout",
     "output_type": "stream",
     "text": [
      "----------------------answer 256, this one cost 0.3025970458984375s, total cost 12.723803758621216s\nmy code:    print(''.</primitive>('name', '3', '3', 'dog', 'dog', 'dog', 'dog', 'dog',\n    'dog', 'dog', 'dog', 'dog', 'dog', 'dog', 'dog', 'dog', 'dog', 'dog',\n    'dog', 'dog', 'dog', 'dog', 'dog', 'dog', 'dog', 'dog', 'dog', 'dog',\n    'dog', 'dog', 'dog', 'dog', 'dog', 'dog', 'dog', 'dog', 'dog', 'dog',\n    'dog', 'dog', 'dog', 'dog', 'dog', 'dog', 'dog', 'dog', 'dog', 'dog',\n    'dog', 'dog', 'dog', 'dog', 'dog', 'dog', 'dog', 'D:4', 'D:4', 'D:4',\n    'D:4', 'D:4', 'D:4', 'D:4', 'D:4'))\nground truth:    print('\\t'.join(map(str, list)))\nbleu socre 0.03597853149363795\n----------------------answer 257, this one cost 0.037342071533203125s, total cost 12.76458191871643s\nmy code:    plt.parse('test')\nground truth:    print('\\xd0\\xbf\\xd1\\x80\\xd0\\xb8'.encode('raw_unicode_escape'))\nbleu socre 0.0879759630094629\n----------------------answer 258, this one cost 0.0266571044921875s, total cost 12.792069911956787s\nmy code:    re.compile('dir', 'unicode-escape')\nground truth:    'Sopet\\xc3\\xb3n'.encode('latin-1').decode('utf-8')\nbleu socre 0.24818799467965943\n----------------------answer 259, this one cost 0.03521299362182617s, total cost 12.828271865844727s\nmy code:    ax.merge('INSERT OR table')\nground truth:    image = image.resize((x, y), Image.ANTIALIAS)\nbleu socre 0.4061660547784665\n----------------------answer 260, this one cost 0.029736042022705078s, total cost 12.859318733215332s\nmy code:    \"\"\"\"\"\".</primitive>('', '')\nground truth:    re.findall('n(?<=[^n]n)n+(?=[^n])(?i)', s)\nbleu socre 0.19013501917264572\n----------------------answer 261, this one cost 0.0241851806640625s, total cost 12.884445905685425s\nmy code:    datetime.set_xlabel('Temperature ($^\\\\circ$C)')\nground truth:    print('{0:.0f}%'.format(1.0 / 3 * 100))\nbleu socre 0.28141800413176715\n----------------------answer 262, this one cost 0.04272913932800293s, total cost 12.928576946258545s\nmy code:    sorted(d, key=lambda d: d['weight'])\nground truth:    "
     ]
    },
    {
     "name": "stdout",
     "output_type": "stream",
     "text": [
      "mylist.sort(key=lambda x: x['title'])\nbleu socre 0.41535092372063953\n----------------------answer 263, this one cost 0.03601408004760742s, total cost 12.96579885482788s\nmy code:    sorted(zip(d.keys()))\nground truth:    l.sort(key=lambda x: x['title'])\nbleu socre 0.45869664086091444\n----------------------answer 264, this one cost 0.05053377151489258s, total cost 13.01743483543396s\nmy code:    users.sort(key=lambda x: x[1])\nground truth:    l.sort(key=lambda x: (x['title'], x['title_url'], x['id']))\nbleu socre 0.16753143294771666\n----------------------answer 265, this one cost 0.03403592109680176s, total cost 13.05235481262207s\nmy code:    sorted(zip(np.`l2`()))\nground truth:    heapq.nlargest(10, range(len(l1)), key=lambda i: abs(l1[i] - l2[i]))\nbleu socre 0.13122324016026385\n----------------------answer 266, this one cost 0.031514883041381836s, total cost 13.084879875183105s\nmy code:    soup.findAll('meta', forward='name')\nground truth:    soup.find_all('span', {'class': 'starGryB sp'})\nbleu socre 0.40139164151069107\n----------------------answer 267, this one cost 0.028732776641845703s, total cost 13.114327669143677s\nmy code:    df.to_csv('a', 'a')\nground truth:    df.to_sql('test', engine, schema='a_schema')\nbleu socre 0.5178062821424276\n"
     ]
    },
    {
     "name": "stdout",
     "output_type": "stream",
     "text": [
      "----------------------answer 268, this one cost 0.2591111660003662s, total cost 13.37422800064087s\nmy code:    None.()\nground truth:    brackets = re.sub('[^(){}[\\\\]]', '', s)\nbleu socre 0.0037105558444623333\n----------------------answer 269, this one cost 0.025562047958374023s, total cost 13.400454759597778s\nmy code:    [i for i, j in i if L]\nground truth:    list(dict((x[0], x) for x in L).values())\nbleu socre 0.3161514364576409\n----------------------answer 270, this one cost 0.0243380069732666s, total cost 13.425485849380493s\nmy code:    r = re.open('very_Important.txt', 'r')\nground truth:    [line.rstrip('\\n') for line in file]\nbleu socre 0.45180100180492244\n----------------------answer 271, this one cost 0.021770000457763672s, total cost 13.44822096824646s\nmy code:    importlib.sample(0, 2)\nground truth:    [i for (i, x) in enumerate(testlist) if (x == 1)]\nbleu socre 0.1540917132492418\n----------------------answer 272, this one cost 0.02129673957824707s, total cost 13.470416784286499s\nmy code:    importlib.sample(0, 2)\nground truth:    [i for (i, x) in enumerate(testlist) if (x == 1)]\nbleu socre 0.1540917132492418\n----------------------answer 273, this one cost 0.02184009552001953s, total cost 13.492949962615967s\nmy code:    importlib.sample(0, 2)\nground truth:    for i in [i for (i, x) in enumerate(testlist) if (x == 1)]:\n    pass\nbleu socre 0.08247935055672778\n----------------------answer 274, this one cost 0.021059751510620117s, total cost 13.514702796936035s\nmy code:    importlib.sample(0, 2)\nground truth:    for i in (i for (i, x) in enumerate(testlist) if (x == 1)):\n    pass\nbleu socre 0.08247935055672778\n----------------------answer 275, this one cost 0.02078723907470703s, total cost 13.5361909866333s\nmy code:    importlib.sample(0, 2)\nground truth:    gen = (i for (i, x) in enumerate(testlist) if (x == 1))\nfor i in gen:\n    pass\nbleu socre 0.0566871733592812\n----------------------answer 276, this one cost 0.022655963897705078s, total cost 13.559804916381836s\nmy code:    len(set(x))\nground truth:    print(testlist.index(element))\nbleu socre 0.41746352657471425\n"
     ]
    },
    {
     "name": "stdout",
     "output_type": "stream",
     "text": [
      "----------------------answer 277, this one cost 0.026632070541381836s, total cost 13.58720088005066s\nmy code:    len(set(x))\nground truth:    try:\n    print(testlist.index(element))\nexcept ValueError:\n    pass\nbleu socre 0.15357624886576549\n----------------------answer 278, this one cost 0.044404029846191406s, total cost 13.63240671157837s\nmy code:    [i for i, g in zip(L)]\nground truth:    max(lis, key=lambda item: item[1])[0]\nbleu socre 0.5296526572260183\n----------------------answer 279, this one cost 0.030724048614501953s, total cost 13.664191961288452s\nmy code:    [x for x in y]\nground truth:    max(lis, key=itemgetter(1))[0]\nbleu socre 0.26896050220204015\n----------------------answer 280, this one cost 0.015040159225463867s, total cost 13.679816961288452s\nmy code:    mylist.array()\nground truth:    time.sleep(1)\nbleu socre 0.7205745450576256\n----------------------answer 281, this one cost 0.0225830078125s, total cost 13.703108787536621s\nmy code:    map(int)\nground truth:    \"\"\", \"\"\".join('(' + ', '.join(i) + ')' for i in L)\nbleu socre 0.000984588475816927\n----------------------answer 282, this one cost 0.025454998016357422s, total cost 13.729586839675903s\nmy code:    soup.find_all('[', '_id')\nground truth:    b = models.CharField(max_length=7, default='0000000', editable=False)\nbleu socre 0.21810894063331587\n----------------------answer 283, this one cost 0.052719831466674805s, total cost 13.783094644546509s\nmy code:    users.lis(key=lambda x: x[1])\nground truth:    sorted(list5, lambda x: (degree(x), x))\nbleu socre 0.23601526009527218\n"
     ]
    },
    {
     "name": "stdout",
     "output_type": "stream",
     "text": [
      "----------------------answer 284, this one cost 0.022381067276000977s, total cost 13.80626893043518s\nmy code:    np.sample(row)\nground truth:    sorted(list5, key=lambda vertex: (degree(vertex), vertex))\nbleu socre 0.10283257773094409\n----------------------answer 285, this one cost 0.02280712127685547s, total cost 13.829978942871094s\nmy code:    sorted(set(it))\nground truth:    (n for n in [1, 2, 3, 5])\nbleu socre 0.23315591526465868\n----------------------answer 286, this one cost 0.0294492244720459s, total cost 13.860054016113281s\nmy code:    any(range(x))\nground truth:    newlist = [v for i, v in enumerate(oldlist) if i not in removelist]\nbleu socre 0.13166737060325825\n----------------------answer 287, this one cost 0.02427196502685547s, total cost 13.884941816329956s\nmy code:    lines = os.open('filename')\nground truth:    f = open('yourfile.txt', 'w')\nbleu socre 0.2770153958726481\n----------------------answer 288, this one cost 0.02659320831298828s, total cost 13.912216901779175s\nmy code:    socket.inet_ntoa('a.b.c', '1633837924')\nground truth:    getattr(obj, 'attr')\nbleu socre 0.45180100180492244\n----------------------answer 289, this one cost 0.023342132568359375s, total cost 13.936261892318726s\nmy code:    tuple(set(filter))\nground truth:    from functools import reduce\nreduce(lambda a, b: a + b, (('aa',), ('bb',), ('cc',)))\nbleu socre 0.006628244820011379\n----------------------answer 290, this one cost 0.03354692459106445s, total cost 13.97052788734436s\nmy code:    min([i for i in container])\nground truth:    map(lambda a: a[0], (('aa',), ('bb',), ('cc',)))\nbleu socre 0.07973292371277597\n----------------------answer 291, this one cost 0.03125619888305664s, total cost 14.002620935440063s\nmy code:    pd.date_range('1/1/2014', periods='title')\nground truth:    df['range'].replace(',', '-', inplace=True)\nbleu socre 0.41687452460916435\n"
     ]
    },
    {
     "name": "stdout",
     "output_type": "stream",
     "text": [
      "----------------------answer 292, this one cost 0.038867950439453125s, total cost 14.04227089881897s\nmy code:    ax.headers('INSERT', headers='Python realm=\"test\"')\nground truth:    zip(*[('a', 1), ('b', 2), ('c', 3), ('d', 4)])\nbleu socre 0.18572686247821574\n----------------------answer 293, this one cost 0.042658090591430664s, total cost 14.0862557888031s\nmy code:    ax.headers('INSERT', headers='Python realm=\"test\"')\nground truth:    zip(*[('a', 1), ('b', 2), ('c', 3), ('d', 4)])\nbleu socre 0.18572686247821574\n----------------------answer 294, this one cost 0.021930932998657227s, total cost 14.109246969223022s\nmy code:    mylist.list(key=10000)\nground truth:    result = ([a for (a, b) in original], [b for (a, b) in original])\nbleu socre 0.07278777139350129\n----------------------answer 295, this one cost 0.0364840030670166s, total cost 14.146742820739746s\nmy code:    list(zip(itertools.product(1)))\nground truth:    result = ((a for (a, b) in original), (b for (a, b) in original))\nbleu socre 0.13228975965154868\n----------------------answer 296, this one cost 0.0379178524017334s, total cost 14.185505628585815s\nmy code:    ax.headers('INSERT', headers='2011 realm=\"test\"')\nground truth:    zip(*[('a', 1), ('b', 2), ('c', 3), ('d', 4), ('e',)])\nbleu socre 0.12849063990889542\n----------------------answer 297, this one cost 0.040717124938964844s, total cost 14.227324962615967s\nmy code:    cursor.execute('SELECT OR REPLACE SELECT SELECT')\nground truth:    map(None, *[('a', 1), ('b', 2), ('c', 3), ('d', 4), ('e',)])\nbleu socre 0.024539769717706203\n"
     ]
    },
    {
     "name": "stdout",
     "output_type": "stream",
     "text": [
      "----------------------answer 298, this one cost 0.035205841064453125s, total cost 14.26364278793335s\nmy code:    encode(list(d.items()))\nground truth:    json.dumps(Decimal('3.9'))\nbleu socre 0.38497426343184826\n----------------------answer 299, this one cost 0.026182889938354492s, total cost 14.291180849075317s\nmy code:    dict((k, v))\nground truth:    d['mynewkey'] = 'mynewvalue'\nbleu socre 0\n----------------------answer 300, this one cost 0.04001212120056152s, total cost 14.331878900527954s\nmy code:    pd.key(key=lambda x: x['count'])\nground truth:    data.update({'a': 1, })\nbleu socre 0.7825422900366437\n----------------------answer 301, this one cost 0.04193997383117676s, total cost 14.374679803848267s\nmy code:    pd.key(key=lambda x: x['count'])\nground truth:    data.update(dict(a=1))\nbleu socre 0.7071067811865476\n----------------------answer 302, this one cost 0.04084300994873047s, total cost 14.416171789169312s\nmy code:    pd.key(key=lambda x: x['count'])\nground truth:    data.update(a=1)\nbleu socre 0.7071067811865476\n----------------------answer 303, this one cost 0.019198894500732422s, total cost 14.436304807662964s\nmy code:    pd.concat(a)\nground truth:    max([max(i) for i in matrix])\nbleu socre 0.23661528215726477\n"
     ]
    },
    {
     "name": "stdout",
     "output_type": "stream",
     "text": [
      "----------------------answer 304, this one cost 0.030755996704101562s, total cost 14.467707872390747s\nmy code:    re.2('(?<=.)(?=.)', '', '')\nground truth:    answer = str(round(answer, 2))\nbleu socre 0.7348889200874658\n----------------------answer 305, this one cost 0.029572248458862305s, total cost 14.498416900634766s\nmy code:    re.sub('unicode_escape', '', s)\nground truth:    ip = re.findall('[0-9]+(?:\\\\.[0-9]+){3}', s)\nbleu socre 0.056104515861482164\n----------------------answer 306, this one cost 0.03686022758483887s, total cost 14.536128997802734s\nmy code:    df.DataFrame(df.columns(columns='order'))\nground truth:    df.groupby('A').filter(lambda x: len(x) > 1)\nbleu socre 0.3828673128920057\n----------------------answer 307, this one cost 0.022448301315307617s, total cost 14.55944299697876s\nmy code:    plt.find_element_by_xpath('test.sh')\nground truth:    [x for x in myfile.splitlines() if x != '']\nbleu socre 0.4175768018258731\n----------------------answer 308, this one cost 0.028428077697753906s, total cost 14.588567733764648s\nmy code:    [item(join) for item in queryresult]\nground truth:    lst = map(int, open('filename.txt').readlines())\nbleu socre 0.2718895182490884\n----------------------answer 309, this one cost 0.027924060821533203s, total cost 14.617341995239258s\nmy code:    r = requests.headers(\"a[href^='javascript']\")\nground truth:    plt.colorbar(mappable=mappable, cax=ax3)\nbleu socre 0.7259795291154771\n----------------------answer 310, this one cost 0.02618694305419922s, total cost 14.644247770309448s\nmy code:    df.to_dict(np.groupby())\nground truth:    Counter(' '.join(df['text']).split()).most_common(100)\nbleu socre 0.09208451607948144\n"
     ]
    },
    {
     "name": "stdout",
     "output_type": "stream",
     "text": [
      "----------------------answer 311, this one cost 0.02670907974243164s, total cost 14.671627044677734s\nmy code:    \"\"\"\"\"\".join('string_escape ')\nground truth:    re.findall('(.+?):(.+?)\\\\b ?', text)\nbleu socre 0.18154379314109792\n----------------------answer 312, this one cost 0.03410792350769043s, total cost 14.706891775131226s\nmy code:    map('{0:0b}'.join(1, 1))\nground truth:    list(itertools.combinations((1, 2, 3), 2))\nbleu socre 0.26784884804296605\n----------------------answer 313, this one cost 0.02362990379333496s, total cost 14.731558799743652s\nmy code:    ax.TextCtrl('https://kennethreitz.com')\nground truth:    datetime.now(pytz.utc)\nbleu socre 0.7186082239261684\n----------------------answer 314, this one cost 0.03761005401611328s, total cost 14.770254850387573s\nmy code:    [i for i in j]\nground truth:    list2 = [x for x in list1 if x != []]\nbleu socre 0.2772706733377036\n----------------------answer 315, this one cost 0.02939319610595703s, total cost 14.800423860549927s\nmy code:    [i for i in dict_test]\nground truth:    list2 = [x for x in list1 if x]\nbleu socre 0.49098950880470227\n----------------------answer 316, this one cost 0.027872085571289062s, total cost 14.829128980636597s\nmy code:    dict(list(d.items()))\nground truth:    return HttpResponse(data, mimetype='application/json')\nbleu socre 0.4971247413297251\n----------------------answer 317, this one cost 0.03044295310974121s, total cost 14.86022400856018s\nmy code:    re.sub('\\\\s*,\\\\s*|\\\\s*;\\\\s*', 'hello', line)\nground truth:    re.findall('(.*?)\\\\[.*?\\\\]', example_str)\nbleu socre 0.5059416364419382\n"
     ]
    },
    {
     "name": "stdout",
     "output_type": "stream",
     "text": [
      "----------------------answer 318, this one cost 0.0461428165435791s, total cost 14.907463788986206s\nmy code:    re.sub(']', '', '', '')\nground truth:    re.findall('(.*?)(?:\\\\[.*?\\\\]|$)', example_str)\nbleu socre 0.26906039390320036\n----------------------answer 319, this one cost 0.05114603042602539s, total cost 14.959590911865234s\nmy code:    soup.findAll('meta', 'div', '.', '.')\nground truth:    re.findall('\\\\(.+?\\\\)|\\\\w', '(zyx)bc')\nbleu socre 0.19475596343758253\n----------------------answer 320, this one cost 0.02820110321044922s, total cost 14.988709926605225s\nmy code:    re.findall('((?:A|B|C)D)', 'A\\n', url)\nground truth:    re.findall('\\\\((.*?)\\\\)|(\\\\w)', '(zyx)bc')\nbleu socre 0.23427916020740994\n----------------------answer 321, this one cost 0.03524494171142578s, total cost 15.02494478225708s\nmy code:    re.findall(\"api\\\\('(.*?)'\", \"api('randomkey123xyz987',\", line)\nground truth:    re.findall('\\\\(.*?\\\\)|\\\\w', '(zyx)bc')\nbleu socre 0.29867232047430825\n----------------------answer 322, this one cost 0.021673202514648438s, total cost 15.04743504524231s\nmy code:    \"\"\"\"\"\".</primitive>('')\nground truth:    elements = ['%{0}%'.format(element) for element in elements]\nbleu socre 0.28146399662233007\n----------------------answer 323, this one cost 0.02060699462890625s, total cost 15.068731784820557s\nmy code:    os.system('zsh')\nground truth:    subprocess.Popen(['background-process', 'arguments'])\nbleu socre 0.32709621780590054\n----------------------answer 324, this one cost 0.025333881378173828s, total cost 15.094737768173218s\nmy code:    [k for item in dicts]\nground truth:    [mydict[x] for x in mykeys]\nbleu socre 0.5663883102178477\n"
     ]
    },
    {
     "name": "stdout",
     "output_type": "stream",
     "text": [
      "----------------------answer 325, this one cost 0.0250089168548584s, total cost 15.120513677597046s\nmy code:    print(map(u))\nground truth:    dict([('Name', 'Joe'), ('Age', 22)])\nbleu socre 0.10200218036070394\n----------------------answer 326, this one cost 0.03850102424621582s, total cost 15.159917831420898s\nmy code:    average(zip(zip(zip(X))))\nground truth:    data.reshape(-1, j).mean(axis=1).reshape(data.shape[0], -1)\nbleu socre 0.24073303385626693\n----------------------answer 327, this one cost 0.03169679641723633s, total cost 15.192645788192749s\nmy code:    re.sub('\\\\([^)]*\\\\)', '', s)\nground truth:    print(s.encode('unicode-escape').replace('\"', '\\\\\"'))\nbleu socre 0.3444376170588681\n----------------------answer 328, this one cost 0.023860931396484375s, total cost 15.217797756195068s\nmy code:    \"\"\"\"\"\".join('')\nground truth:    re.split('(\\\\W+)', s)\nbleu socre 0.3435780399661324\n----------------------answer 329, this one cost 0.027988910675048828s, total cost 15.246694803237915s\nmy code:    soup.headers('D:/Temp/tt.csv', class_=';')\nground truth:    df.plot(kind='barh', stacked=True)\nbleu socre 0.4272870063962341\n----------------------answer 330, this one cost 0.03002190589904785s, total cost 15.277570724487305s\nmy code:    dict(zip(things.items()))\nground truth:    {i[1]: i[0] for i in list(myDictionary.items())}\nbleu socre 0.12334840247853751\n----------------------answer 331, this one cost 0.037203311920166016s, total cost 15.315443992614746s\nmy code:    min('{0:.8e}'.format('?'))\nground truth:    [i for i, j in enumerate(myList) if 'how' in j.lower() or 'what' in j.lower()]\nbleu socre 0.3752060266200605\n"
     ]
    },
    {
     "name": "stdout",
     "output_type": "stream",
     "text": [
      "----------------------answer 332, this one cost 0.018470287322998047s, total cost 15.3350510597229s\nmy code:    .\nground truth:    isinstance(obj, str)\nbleu socre 0\n----------------------answer 333, this one cost 0.018119096755981445s, total cost 15.353736877441406s\nmy code:    .\nground truth:    isinstance(o, str)\nbleu socre 0\n----------------------answer 334, this one cost 0.016293764114379883s, total cost 15.370532751083374s\nmy code:    .\nground truth:    (type(o) is str)\nbleu socre 0\n----------------------answer 335, this one cost 0.020183801651000977s, total cost 15.391320705413818s\nmy code:    .\nground truth:    isinstance(o, str)\nbleu socre 0\n----------------------answer 336, this one cost 0.018146991729736328s, total cost 15.41008186340332s\nmy code:    .\nground truth:    isinstance(obj_to_test, str)\nbleu socre 0\n----------------------answer 337, this one cost 0.03882789611816406s, total cost 15.44937777519226s\nmy code:    sorted(the_list, key=lambda x: x[1])\nground truth:    list2.extend(list1)\nbleu socre 0.6147881529512643\n----------------------answer 338, this one cost 0.017061710357666016s, total cost 15.467493772506714s\nmy code:    dict(the_list)\nground truth:    list1.extend(mylog)\nbleu socre 0.510029457493824\n----------------------answer 339, this one cost 0.021039962768554688s, total cost 15.489062786102295s\nmy code:    a.append(a)\nground truth:    c.extend(a)\nbleu socre 0.5081327481546147\n----------------------answer 340, this one cost 0.029565811157226562s, total cost 15.519320726394653s\nmy code:    append(list(u.choice()))\nground truth:    for line in mylog:\n    list1.append(line)\nbleu socre 0.43668354428478123\n"
     ]
    },
    {
     "name": "stdout",
     "output_type": "stream",
     "text": [
      "----------------------answer 341, this one cost 0.05011391639709473s, total cost 15.57007884979248s\nmy code:    [max(a, a) for x in a]\nground truth:    b.append((a[0][0], a[0][2]))\nbleu socre 0.24801414911138714\n----------------------answer 342, this one cost 0.025316953659057617s, total cost 15.596248865127563s\nmy code:    soup.find_all('[')\nground truth:    app.config['SECRET_KEY'] = 'Your_secret_string'\nbleu socre 0.31356006812336346\n----------------------answer 343, this one cost 0.03678178787231445s, total cost 15.633910655975342s\nmy code:    df.pivot_table(np.arange())\nground truth:    pd.DataFrame(out.tolist(), columns=['out-1', 'out-2'], index=out.index)\nbleu socre 0.050944801787672314\n----------------------answer 344, this one cost 0.030750751495361328s, total cost 15.665526628494263s\nmy code:    index(np.linspace(x))\nground truth:    [x for x in range(len(stocks_list)) if stocks_list[x] == 'MSFT']\nbleu socre 0.1083528110470563\n----------------------answer 345, this one cost 0.03884387016296387s, total cost 15.705155849456787s\nmy code:    plt.findAll('test.sh', href='width=300px;')\nground truth:    ax.set_xticklabels(labels, rotation=45)\nbleu socre 0.7071067811865476\n"
     ]
    },
    {
     "name": "stdout",
     "output_type": "stream",
     "text": [
      "----------------------answer 346, this one cost 0.3391261100769043s, total cost 16.045377731323242s\nmy code:    None.()\nground truth:    re.sub('[^\\\\w]', ' ', s)\nbleu socre 0.028101831744978784\n----------------------answer 347, this one cost 0.025408029556274414s, total cost 16.07155680656433s\nmy code:    full_path = os.path.isfile('HOME')\nground truth:    os.path.basename(os.path.dirname(os.path.realpath(__file__)))\nbleu socre 0.10196695416666943\n----------------------answer 348, this one cost 0.0307309627532959s, total cost 16.103230953216553s\nmy code:    re.sub('\\\\[(.*?)\\\\]', '', s)\nground truth:    print(re.findall(\"'\\\\\\\\[0-7]{1,3}'\", str))\nbleu socre 0.3612989004895466\n----------------------answer 349, this one cost 0.02542591094970703s, total cost 16.12963891029358s\nmy code:    re.findall('[bcdfghjklmnpqrstvwxyz]+', formula)\nground truth:    re.split('[ ](?=[A-Z]+\\\\b)', input)\nbleu socre 0.1772691792679752\n----------------------answer 350, this one cost 0.03262686729431152s, total cost 16.163243770599365s\nmy code:    re.findall('(?<=[\\\\.\\\\?!])', '-\\\\1')\nground truth:    re.split('[ ](?=[A-Z])', input)\nbleu socre 0.14132052098159442\n----------------------answer 351, this one cost 0.030536174774169922s, total cost 16.19476294517517s\nmy code:    plt.find_element_by_xpath('window.scrollTo(0,', dpi='content')\nground truth:    r = requests.post(url, files=files, headers=headers, data=data)\nbleu socre 0.7400828044922853\n----------------------answer 352, this one cost 0.02162313461303711s, total cost 16.21738600730896s\nmy code:    os.chdir('w')\nground truth:    open('filename', 'wb').write(bytes_)\nbleu socre 0.2709850435615371\n----------------------answer 353, this one cost 0.023763179779052734s, total cost 16.241899013519287s\nmy code:    [i for i in j]\nground truth:    [dct[k] for k in lst]\nbleu socre 0.5663883102178477\n"
     ]
    },
    {
     "name": "stdout",
     "output_type": "stream",
     "text": [
      "----------------------answer 354, this one cost 0.026741981506347656s, total cost 16.269352912902832s\nmy code:    pd.dot('a')\nground truth:    x.set_index('name').index.get_duplicates()\nbleu socre 0.3070662829160023\n----------------------answer 355, this one cost 0.02524709701538086s, total cost 16.295516967773438s\nmy code:    r = float.float(3=3)\nground truth:    round(1.923328437452, 3)\nbleu socre 0.4591497693322865\n----------------------answer 356, this one cost 0.050173044204711914s, total cost 16.34663486480713s\nmy code:    sorted(list_of_dct, key=lambda x: x[1])\nground truth:    sorted(li, key=lambda x: datetime.strptime(x[1], '%d/%m/%Y'), reverse=True)\nbleu socre 0.14012552657518812\n----------------------answer 357, this one cost 0.0281369686126709s, total cost 16.375877857208252s\nmy code:    soup.headers('a', headers=True)\nground truth:    ax.set_rlabel_position(135)\nbleu socre 0.7071067811865476\n----------------------answer 358, this one cost 0.033944129943847656s, total cost 16.41044306755066s\nmy code:    os.path.now('sample.json').read()\nground truth:    os.path.isabs(my_path)\nbleu socre 0.16943571815930883\n----------------------answer 359, this one cost 0.016721248626708984s, total cost 16.42832899093628s\nmy code:    dict(v)\nground truth:    len(list(yourdict.keys()))\nbleu socre 0.14612588611198102\n----------------------answer 360, this one cost 0.031140804290771484s, total cost 16.4600248336792s\nmy code:    dict(i for i in l)\nground truth:    len(set(open(yourdictfile).read().split()))\nbleu socre 0.2025894847023147\n"
     ]
    },
    {
     "name": "stdout",
     "output_type": "stream",
     "text": [
      "----------------------answer 361, this one cost 0.04365897178649902s, total cost 16.504445791244507s\nmy code:    df.dataframe(key=lambda x: x[1])\nground truth:    df.groupby('id').first()\nbleu socre 0.38503228868787126\n----------------------answer 362, this one cost 0.07555985450744629s, total cost 16.580957889556885s\nmy code:    df.apply('display.max_columns', 'A', 'B', 'B', 'B', 'two', 'two', 'two',\n    'two', 'two', 'two', 'two')\nground truth:    pd.concat([df[0].apply(pd.Series), df[1]], axis=1)\nbleu socre 0.10182671946539071\n"
     ]
    },
    {
     "name": "stdout",
     "output_type": "stream",
     "text": [
      "----------------------answer 363, this one cost 0.29732513427734375s, total cost 16.879462957382202s\nmy code:    None.()\nground truth:    re.findall('src=\"js/([^\"]*\\\\bjquery\\\\b[^\"]*)\"', data)\nbleu socre 0.00066089173706674\n----------------------answer 364, this one cost 0.03206491470336914s, total cost 16.91261076927185s\nmy code:    plt.set_size_inches('...j,...j->...')\nground truth:    sum(int(float(item)) for item in [_f for _f in ['', '3.4', '', '', '1.0'] if _f])\nbleu socre 0.26652902758552804\n----------------------answer 365, this one cost 0.042754173278808594s, total cost 16.956528902053833s\nmy code:    k = subprocess.subprocess('app/smth1/smth2/Expenses01.xlsx', 'aaa', 'crBlock')\nground truth:    subprocess.Popen(['c:\\\\Program Files\\\\VMware\\\\VMware Server\\\\vmware-cmd.bat'])\nbleu socre 0.2934406461841544\n----------------------answer 366, this one cost 0.0437159538269043s, total cost 17.001707792282104s\nmy code:    re.findall('[', '_id', '_id')\nground truth:    q.put((-n, n))\nbleu socre 0.7071067811865476\n----------------------answer 367, this one cost 0.04576277732849121s, total cost 17.04850482940674s\nmy code:    df['col']['A']\nground truth:    df['group'].plot(kind='bar', color=['r', 'g', 'b', 'r', 'g', 'b', 'r'])\nbleu socre 0.017501163998461296\n"
     ]
    },
    {
     "name": "stdout",
     "output_type": "stream",
     "text": [
      "----------------------answer 368, this one cost 0.05215263366699219s, total cost 17.10215663909912s\nmy code:    re.findall('\\\\*+', '', line)\nground truth:    re.findall('([a-fA-F\\\\d]{32})', data)\nbleu socre 0.1716778721009785\n----------------------answer 369, this one cost 0.02276897430419922s, total cost 17.126587867736816s\nmy code:    map(i)\nground truth:    len(my_list)\nbleu socre 0.8408964152537145\n----------------------answer 370, this one cost 0.023764848709106445s, total cost 17.15088987350464s\nmy code:    [i for i in l]\nground truth:    len(l)\nbleu socre 0.6147881529512643\n----------------------answer 371, this one cost 0.02260613441467285s, total cost 17.17407989501953s\nmy code:    [i for i in l]\nground truth:    len(s)\nbleu socre 0\n----------------------answer 372, this one cost 0.01663494110107422s, total cost 17.19139575958252s\nmy code:    plt.sleep()\nground truth:    len(my_tuple)\nbleu socre 0.7952707287670506\n----------------------answer 373, this one cost 0.0199129581451416s, total cost 17.2118878364563s\nmy code:    \"\"\"\"\"\".join(16)\nground truth:    len(my_string)\nbleu socre 0.6529942057256104\n----------------------answer 374, this one cost 0.027745962142944336s, total cost 17.24053192138672s\nmy code:    re.sub('[\\\\', '', text)\nground truth:    \"\"\"\\\\a\"\"\".decode('string_escape')\nbleu socre 0.5601871622180218\n----------------------answer 375, this one cost 0.04633498191833496s, total cost 17.287837982177734s\nmy code:    dict([(i, b)] for b in b)\nground truth:    \"\"\"obama\"\"\".replace('a', '%temp%').replace('b', 'a').replace('%temp%', 'b')\nbleu socre 0.09865326620921061\n"
     ]
    },
    {
     "name": "stdout",
     "output_type": "stream",
     "text": [
      "----------------------answer 376, this one cost 0.02362990379333496s, total cost 17.312522888183594s\nmy code:    os.PlaySound('..')\nground truth:    shutil.rmtree('/folder_name')\nbleu socre 0.5773502691896257\n----------------------answer 377, this one cost 0.04236197471618652s, total cost 17.355661869049072s\nmy code:    df.pivot_table('col', 'value', 'y')\nground truth:    data['weekday'] = data['my_dt'].apply(lambda x: x.weekday())\nbleu socre 0.46339769398263847\n----------------------answer 378, this one cost 0.03931736946105957s, total cost 17.395894050598145s\nmy code:    np.sort(key=lambda x: x[0])\nground truth:    sorted(x, key=x.get, reverse=True)\nbleu socre 0.4428500142691474\n----------------------answer 379, this one cost 0.03800392150878906s, total cost 17.43484878540039s\nmy code:    mylist.sort(key=lambda x: x[1])\nground truth:    sorted(list(x.items()), key=lambda pair: pair[1], reverse=True)\nbleu socre 0.2042095888324078\n----------------------answer 380, this one cost 0.04863405227661133s, total cost 17.484296798706055s\nmy code:    a.append(a, axis=lambda x: x[0])\nground truth:    np.vstack((a, b))\nbleu socre 0.23356898886410005\n"
     ]
    },
    {
     "name": "stdout",
     "output_type": "stream",
     "text": [
      "----------------------answer 381, this one cost 0.05001497268676758s, total cost 17.535278797149658s\nmy code:    a.concatenate(concatenate=lambda x: len(x))\nground truth:    print(concatenate((a, b), axis=0))\nbleu socre 0.5426451706118739\n----------------------answer 382, this one cost 0.04718208312988281s, total cost 17.583637952804565s\nmy code:    a.concatenate(key=lambda x: len(x))\nground truth:    print(concatenate((a, b), axis=1))\nbleu socre 0.4903352634140953\n----------------------answer 383, this one cost 0.04450488090515137s, total cost 17.62896180152893s\nmy code:    a.concatenate(concatenate=lambda x: len(x))\nground truth:    c = np.r_[(a[None, :], b[None, :])]\nbleu socre 0.45691722266180906\n----------------------answer 384, this one cost 0.04248404502868652s, total cost 17.672130823135376s\nmy code:    a.concatenate(concatenate=lambda x: len(x))\nground truth:    np.array((a, b))\nbleu socre 0.42610827239170174\n----------------------answer 385, this one cost 0.029052019119262695s, total cost 17.702345848083496s\nmy code:    json.get('INSERT otherfunc', '%Y-%m-%dT%H:%M:%S.%fZ')\nground truth:    print(socket.getaddrinfo('google.com', 80))\nbleu socre 0.33932513407933634\n----------------------answer 386, this one cost 0.022303104400634766s, total cost 17.725616931915283s\nmy code:    df.DataFrame('BrandName')\nground truth:    df.xs('sat', level='day', drop_level=False)\nbleu socre 0.27151829550071505\n"
     ]
    },
    {
     "name": "stdout",
     "output_type": "stream",
     "text": [
      "----------------------answer 387, this one cost 0.03586101531982422s, total cost 17.762149810791016s\nmy code:    time.write('log')\nground truth:    return HttpResponse('Unauthorized', status=401)\nbleu socre 0.31356006812336346\n----------------------answer 388, this one cost 0.03565573692321777s, total cost 17.798553705215454s\nmy code:    print(os.path.is('is'))\nground truth:    Flask(__name__, template_folder='wherever')\nbleu socre 0.40016016019225\n----------------------answer 389, this one cost 0.03931427001953125s, total cost 17.838515996932983s\nmy code:    ax.execute('Jun OR INTO INTO INTO INTO INTO INTO INTO', True)\nground truth:    session.execute('INSERT INTO t1 (SELECT * FROM t2)')\nbleu socre 0.15464260451973763\n----------------------answer 390, this one cost 0.041394948959350586s, total cost 17.88080072402954s\nmy code:    users.sort(key=lambda x: x[0])\nground truth:    c2.sort(key=lambda row: row[2])\nbleu socre 0.4160751652217845\n----------------------answer 391, this one cost 0.028275012969970703s, total cost 17.909867763519287s\nmy code:    list(zip(itertools.chain()))\nground truth:    c2.sort(key=lambda row: (row[2], row[1], row[0]))\nbleu socre 0.11807952073244074\n----------------------answer 392, this one cost 0.029441118240356445s, total cost 17.940292835235596s\nmy code:    list(zip(itertools.chain()))\nground truth:    c2.sort(key=lambda row: (row[2], row[1]))\nbleu socre 0.18602921970284814\n"
     ]
    },
    {
     "name": "stdout",
     "output_type": "stream",
     "text": [
      "----------------------answer 393, this one cost 0.02901601791381836s, total cost 17.969977855682373s\nmy code:    workbook = subprocess.Workbook('app/smth1/smth2/Expenses01.xlsx', '/r')\nground truth:    matplotlib.rc('font', **{'sans-serif': 'Arial', 'family': 'sans-serif'})\nbleu socre 0.14740731597300305\n----------------------answer 394, this one cost 0.03609418869018555s, total cost 18.007297039031982s\nmy code:    df.DataFrame('c:/~/trainSetRel3.txt', how='A')\nground truth:    df['date'].apply(lambda x: x.toordinal())\nbleu socre 0.7598356856515925\n----------------------answer 395, this one cost 0.02720808982849121s, total cost 18.03542685508728s\nmy code:    re.compile('test.png', '%Y%W%w')\nground truth:    element.get_attribute('innerHTML')\nbleu socre 0.4135171000263379\n----------------------answer 396, this one cost 0.02595210075378418s, total cost 18.06233501434326s\nmy code:    df.sample('c:/~/trainSetRel3.txt')\nground truth:    df.index.get_loc('bob')\nbleu socre 0.527123766408901\n----------------------answer 397, this one cost 0.03523516654968262s, total cost 18.09849500656128s\nmy code:    os.system(\"My open open open open open 'sudo 'sudo\")\nground truth:    os.system('gnome-terminal -e \\'bash -c \"sudo apt-get update; exec bash\"\\'')\nbleu socre 0.13909700044109613\n----------------------answer 398, this one cost 0.027950048446655273s, total cost 18.127590894699097s\nmy code:    pd.create_text('Apple')\nground truth:    my_dict.update({'third_key': 1})\nbleu socre 0.5392904918621502\n----------------------answer 399, this one cost 0.019552946090698242s, total cost 18.148014783859253s\nmy code:    myList = np.logical_not()\nground truth:    my_list = []\nbleu socre 0.5946035575013605\n----------------------answer 400, this one cost 0.02249598503112793s, total cost 18.17111563682556s"
     ]
    },
    {
     "name": "stdout",
     "output_type": "stream",
     "text": [
      "\nmy code:    map(your_list)\nground truth:    my_list.append(12)\nbleu socre 0.510029457493824\n----------------------answer 401, this one cost 0.026752948760986328s, total cost 18.198442935943604s\nmy code:    driver.strptime(\"//div[@id='a']//a[@class='click']\")\nground truth:    myList.insert(0, 'wuggah')\nbleu socre 0.2801260476496127\n----------------------answer 402, this one cost 0.030108928680419922s, total cost 18.2294979095459s\nmy code:    os.decode.decode('\\n')\nground truth:    \"\"\"\\\\xF3\\\\xBE\\\\x80\\\\x80\"\"\".replace('\\\\x', '').decode('hex')\nbleu socre 0.027519285451261467\n----------------------answer 403, this one cost 0.03398013114929199s, total cost 18.264680862426758s\nmy code:    df.apply('A', level='A')\nground truth:    df[df.columns[-1]]\nbleu socre 0.3237722713145643\n----------------------answer 404, this one cost 0.027848005294799805s, total cost 18.29320192337036s\nmy code:    df['col']\nground truth:    df.loc[df['Letters'] == 'C', 'Letters'].values[0]\nbleu socre 0.02505887927739636\n----------------------answer 405, this one cost 0.03512907028198242s, total cost 18.329226970672607s\nmy code:    [max(x) for x in L]\nground truth:    np.column_stack(([1, 2, 3], [4, 5, 6]))\nbleu socre 0.23953094040783438\n----------------------answer 406, this one cost 0.016417980194091797s, total cost 18.34648871421814s\nmy code:    len(mylist)\nground truth:    type(i)\nbleu socre 0.8408964152537145\n----------------------answer 407, this one cost 0.02684807777404785s, total cost 18.374099016189575s\nmy code:    my_string.split('P')\nground truth:    type(v)\nbleu socre 0.7071067811865476\n----------------------answer 408, this one cost 0.019909143447875977s, total cost 18.394783973693848s\nmy code:    my_string.split('P')\nground truth:    type(v)\nbleu socre 0.7071067811865476\n"
     ]
    },
    {
     "name": "stdout",
     "output_type": "stream",
     "text": [
      "----------------------answer 409, this one cost 0.032912254333496094s, total cost 18.428405046463013s\nmy code:    my_string.split('P')\nground truth:    type(v)\nbleu socre 0.7071067811865476\n----------------------answer 410, this one cost 0.026037931442260742s, total cost 18.45557188987732s\nmy code:    my_string.split('P')\nground truth:    type(v)\nbleu socre 0.7071067811865476\n----------------------answer 411, this one cost 0.02116870880126953s, total cost 18.477526664733887s\nmy code:    my_string.split('P')\nground truth:    print(type(variable_name))\nbleu socre 0.7071067811865476\n----------------------answer 412, this one cost 0.032706260681152344s, total cost 18.511055946350098s\nmy code:    map(set(set(int)))\nground truth:    next(itertools.islice(range(10), 5, 5 + 1))\nbleu socre 0.22831876136235008\n----------------------answer 413, this one cost 0.027365684509277344s, total cost 18.53923773765564s\nmy code:    os.rmtree('taskkill /im', './path/to/your/modules/')\nground truth:    print('\"{}\"'.format(word))\nbleu socre 0.40784428374394943\n----------------------answer 414, this one cost 0.026999711990356445s, total cost 18.56766176223755s\nmy code:    \"\"\", \"\"\".join(a, a)\nground truth:    \"\"\" \"\"\".join(list)\nbleu socre 0.45723134461864345\n----------------------answer 415, this one cost 0.019797086715698242s, total cost 18.588087797164917s\nmy code:    [x[y]]\nground truth:    y = [[] for n in range(2)]\nbleu socre 0.2975279657584049\n----------------------answer 416, this one cost 0.018911123275756836s, total cost 18.607951879501343s\nmy code:    r = [i]\nground truth:    data = [line.strip() for line in open('C:/name/MyDocuments/numbers', 'r')]\nbleu socre 0.0045059367310833825\n"
     ]
    },
    {
     "name": "stdout",
     "output_type": "stream",
     "text": [
      "----------------------answer 417, this one cost 0.03377795219421387s, total cost 18.642595767974854s\nmy code:    re.set_yticklabels('xpath', 'ã', 'â')\nground truth:    \"\"\"\"\"\".join([char for char in 'it is icy' if char != 'i'])\nbleu socre 0.40908143457180063\n----------------------answer 418, this one cost 0.04900670051574707s, total cost 18.692611694335938s\nmy code:    re.findall('xpath', '.avi', 'â', '.')\nground truth:    re.sub('i', '', 'it is icy')\nbleu socre 0.38091370416670794\n----------------------answer 419, this one cost 0.03284716606140137s, total cost 18.726675987243652s\nmy code:    re.findall('filename.png', 'Python', 'â')\nground truth:    \"\"\"it is icy\"\"\".replace('i', '')\nbleu socre 0.28439841674333294\n----------------------answer 420, this one cost 0.038745880126953125s, total cost 18.766425848007202s\nmy code:    re.findall('.{20}(.mkv)', s)\nground truth:    \"\"\"\"\"\".join([char for char in 'it is icy' if char != 'i'])\nbleu socre 0.1927907525333034\n----------------------answer 421, this one cost 0.031417131423950195s, total cost 18.798884868621826s\nmy code:    df.div(df.groupby())\nground truth:    df.dropna(subset=[1])\nbleu socre 0.4591497693322865\n----------------------answer 422, this one cost 0.023688793182373047s, total cost 18.823176860809326s\nmy code:    csvwriter.writerow(item)\nground truth:    [x for x in myList if x.n == 30]\nbleu socre 0.14256747717620566\n"
     ]
    },
    {
     "name": "stdout",
     "output_type": "stream",
     "text": [
      "----------------------answer 423, this one cost 0.026079893112182617s, total cost 18.849888801574707s\nmy code:    \"\"\",\"\"\".</primitive>('abcd')\nground truth:    nums = [int(x) for x in intstringlist]\nbleu socre 0.5856596027429395\n----------------------answer 424, this one cost 0.034681081771850586s, total cost 18.885427951812744s\nmy code:    [int(int) for x in s]\nground truth:    map(int, eval(input('Enter the unfriendly numbers: ')))\nbleu socre 0.19199242796476845\n----------------------answer 425, this one cost 0.027920961380004883s, total cost 18.914167881011963s\nmy code:    print('Value'.join('rb'))\nground truth:    sys.stdout.write('.')\nbleu socre 0.5568544122775908\n----------------------answer 426, this one cost 0.03835797309875488s, total cost 18.953324794769287s\nmy code:    browser.query(\"//*[@type='submit']\").float('name')\nground truth:    int(round(2.51 * 100))\nbleu socre 0.6999271023161167\n----------------------answer 427, this one cost 0.023360013961791992s, total cost 18.97773790359497s\nmy code:    os.system('path')\nground truth:    os.chdir('/mydir')\nfor file in glob.glob('*.txt'):\n    pass\nbleu socre 0.10190187044707072\n----------------------answer 428, this one cost 0.024060964584350586s, total cost 19.002574920654297s\nmy code:    os.system('path')\nground truth:    for file in os.listdir('/mydir'):\n    if file.endswith('.txt'):\n        pass\nbleu socre 0.08992808503711662\n----------------------answer 429, this one cost 0.023247718811035156s, total cost 19.026861667633057s\nmy code:    os.system('path')\nground truth:    for (root, dirs, files) in os.walk('/mydir'):\n    for file in files:\n        if file.endswith('.txt'):\n            pass\nbleu socre 0.02273738067227944\n"
     ]
    },
    {
     "name": "stdout",
     "output_type": "stream",
     "text": [
      "----------------------answer 430, this one cost 0.034055233001708984s, total cost 19.061640977859497s\nmy code:    df.drop('Y', axis='index')\nground truth:    df.plot(legend=False)\nbleu socre 0.4071220775553065\n----------------------answer 431, this one cost 0.027890920639038086s, total cost 19.090542793273926s\nmy code:    calendar.split(substring)\nground truth:    for i in range(256):\n    for j in range(256):\n        ip = ('192.168.%d.%d' % (i, j))\n        print(ip)\nbleu socre 0.002462396716161161\n----------------------answer 432, this one cost 0.025354385375976562s, total cost 19.116929054260254s\nmy code:    calendar.split(substring)\nground truth:    for (i, j) in product(list(range(256)), list(range(256))):\n    pass\nbleu socre 0.022945049537581412\n----------------------answer 433, this one cost 0.02502894401550293s, total cost 19.142809867858887s\nmy code:    calendar.split(substring)\nground truth:    generator = iter_iprange('192.168.1.1', '192.168.255.255', step=1)\nbleu socre 0.021494601641740853\n----------------------answer 434, this one cost 0.03454399108886719s, total cost 19.178196907043457s\nmy code:    c = [x for x in a]\nground truth:    sum(1 << i for i, b in enumerate(x) if b)\nbleu socre 0.27952792741962756\n----------------------answer 435, this one cost 0.039530038833618164s, total cost 19.218652963638306s\nmy code:    re.sub('script2.py', '$1', 'r')\nground truth:    target.write('%r\\n%r\\n%r\\n' % (line1, line2, line3))\nbleu socre 0.25668774560916985\n----------------------answer 436, this one cost 0.023350954055786133s, total cost 19.243039846420288s\nmy code:    [j for i in j]\nground truth:    [y for x in data for y in (x if isinstance(x, list) else [x])]\nbleu socre 0.07665232238523889\n"
     ]
    },
    {
     "name": "stdout",
     "output_type": "stream",
     "text": [
      "----------------------answer 437, this one cost 0.03607916831970215s, total cost 19.2799129486084s\nmy code:    f = re.open('app/smth1/smth2/Expenses01.xlsx', 'r')\nground truth:    print('foo\\nbar'.encode('string_escape'))\nbleu socre 0.4172261448611506\n"
     ]
    },
    {
     "name": "stdout",
     "output_type": "stream",
     "text": [
      "----------------------answer 438, this one cost 0.303009033203125s, total cost 19.58404302597046s\nmy code:    \"\"\"\"\"\".</primitive>('', '', '', 's', 's', '', '', '', '', '', '', 's', 's',\n    's', 's', 's', 's', 's', 's', 's', 's', 's', 's', 's', 's', 's', 's',\n    's', 's', 's', 's', 's', 's', 's', 's', 's', 's', 's', 's', 's', 's',\n    's', 's', 's', 's', 's', 's', 's', 's', 's', 's', 's', 's', 's', 's',\n    's', 's', 's', 's', 's', 's', 's', 's', 's')\nground truth:    \"\"\"\"\"\".join(s.rsplit(',', 1))\nbleu socre 0.029567300806769076\n----------------------answer 439, this one cost 0.03705883026123047s, total cost 19.623640775680542s\nmy code:    mean(zip(things.values()))\nground truth:    (x[1:] + x[:-1]) / 2\nbleu socre 0.41447920373102765\n----------------------answer 440, this one cost 0.03225088119506836s, total cost 19.656782865524292s\nmy code:    [x[x] for x in y]\nground truth:    x[:-1] + (x[1:] - x[:-1]) / 2\nbleu socre 0.14392328271175742\n----------------------answer 441, this one cost 0.025992870330810547s, total cost 19.68367075920105s\nmy code:    pd.set_index('date=%s')\nground truth:    arr = numpy.fromiter(codecs.open('new.txt', encoding='utf-8'), dtype='<U2')\nbleu socre 0.08518036426410978\n----------------------answer 442, this one cost 0.03929495811462402s, total cost 19.723723649978638s\nmy code:    sorted(l, key=lambda x: x[1])\nground truth:    l = sorted(l, key=itemgetter('time'), reverse=True)\nbleu socre 0.254416820409678\n----------------------answer 443, this one cost 0.053862810134887695s, total cost 19.778934717178345s\nmy code:    sorted(d, key=lambda d: d['weight'])\nground truth:    l = sorted(l, key=lambda a: a['time'], reverse=True)\nbleu socre 0.16468708211188804\n"
     ]
    },
    {
     "name": "stdout",
     "output_type": "stream",
     "text": [
      "----------------------answer 444, this one cost 0.03271913528442383s, total cost 19.812636852264404s\nmy code:    df.to_csv('div', sep='True')\nground truth:    df.loc[df[0].str.contains('(Hel|Just)')]\nbleu socre 0.316688289193289\n----------------------answer 445, this one cost 0.03278303146362305s, total cost 19.846300840377808s\nmy code:    re.findall('(.*)</div>', '')\nground truth:    re.search('\\\\[(.*)\\\\]', your_string).group(1)\nbleu socre 0.14753514520471375\n----------------------answer 446, this one cost 0.03332018852233887s, total cost 19.880577087402344s\nmy code:    ax.mktime('sample')\nground truth:    [d.strftime('%Y%m%d') for d in pandas.date_range('20130226', '20130302')]\nbleu socre 0.041556902370851016\n----------------------answer 447, this one cost 0.03408527374267578s, total cost 19.915744066238403s\nmy code:    cur.set_size_inches(\"{'muffin'\", name='name')\nground truth:    \"\"\"The big brown fox is brown\"\"\".count('brown')\nbleu socre 0.4990054013719849\n----------------------answer 448, this one cost 0.02731013298034668s, total cost 19.94440984725952s\nmy code:    json('foo', 'Value', '')\nground truth:    json.loads(request.body)\nbleu socre 0.6930977286178778\n----------------------answer 449, this one cost 0.033644914627075195s, total cost 19.978915691375732s\nmy code:    driver.execute_script('%m/%d/%Y url url url url url')\nground truth:    urllib.request.urlretrieve(url, file_name)\nbleu socre 0.668740304976422\n----------------------answer 450, this one cost 0.020978927612304688s, total cost 20.00102686882019s\nmy code:    stringnamehere.split('utf-8')\nground truth:    text.split()\nbleu socre 0.32466791547509893\n"
     ]
    },
    {
     "name": "stdout",
     "output_type": "stream",
     "text": [
      "----------------------answer 451, this one cost 0.023777008056640625s, total cost 20.02540683746338s\nmy code:    re.sub('utf-8')\nground truth:    text.split(',')\nbleu socre 0.5773502691896257\n----------------------answer 452, this one cost 0.03865504264831543s, total cost 20.064904928207397s\nmy code:    [int(x) for ch in s]\nground truth:    line.split()\nbleu socre 0.668740304976422\n----------------------answer 453, this one cost 0.03736305236816406s, total cost 20.10288381576538s\nmy code:    re.sub('\\\\b(?:b+a)+b+\\\\b', '', s)\nground truth:    [re.sub('(?<!\\\\d)\\\\.(?!\\\\d)', ' ', i) for i in s]\nbleu socre 0.23886166553800028\n----------------------answer 454, this one cost 0.05623602867126465s, total cost 20.16024875640869s\nmy code:    s.sort(key=lambda x: x[0])\nground truth:    sorted(list_of_strings, key=lambda s: s.split(',')[1])\nbleu socre 0.22312827009052852\n----------------------answer 455, this one cost 0.03400683403015137s, total cost 20.195270776748657s\nmy code:    ax.find_element_by_xpath('D:/Temp/tt.csv', headers='name')\nground truth:    subprocess.check_call('vasp | tee tee_output', shell=True)\nbleu socre 0.4272870063962341\n----------------------answer 456, this one cost 0.026695966720581055s, total cost 20.222680807113647s\nmy code:    [i[''] for i in x]\nground truth:    [element for element in lst if isinstance(element, int)]\nbleu socre 0.5911842794331965\n"
     ]
    },
    {
     "name": "stdout",
     "output_type": "stream",
     "text": [
      "----------------------answer 457, this one cost 0.03356504440307617s, total cost 20.257416009902954s\nmy code:    print(map(np.Session()))\nground truth:    [element for element in lst if not isinstance(element, str)]\nbleu socre 0.4539249573898065\n----------------------answer 458, this one cost 0.05477309226989746s, total cost 20.312877893447876s\nmy code:    sorted(list_of_tuples, key=lambda k: x[1])\nground truth:    newlist = sorted(list_to_be_sorted, key=lambda k: k['name'])\nbleu socre 0.3327917299613306\n----------------------answer 459, this one cost 0.04710102081298828s, total cost 20.360817909240723s\nmy code:    sorted(d, key=lambda d: d[1])\nground truth:    newlist = sorted(l, key=itemgetter('name'), reverse=True)\nbleu socre 0.21081416843475398\n----------------------answer 460, this one cost 0.03525185585021973s, total cost 20.396979808807373s\nmy code:    sort(zip(d.items()))\nground truth:    list_of_dicts.sort(key=operator.itemgetter('name'))\nbleu socre 0.39950468262220973\n----------------------answer 461, this one cost 0.03585004806518555s, total cost 20.43359684944153s\nmy code:    sort(zip(d.items()))\nground truth:    list_of_dicts.sort(key=operator.itemgetter('age'))\nbleu socre 0.39950468262220973\n"
     ]
    },
    {
     "name": "stdout",
     "output_type": "stream",
     "text": [
      "----------------------answer 462, this one cost 0.03417682647705078s, total cost 20.468851804733276s\nmy code:    df.pivot_table('User', columns='X')\nground truth:    df.groupby('prots').sum().sort('scores', ascending=False)\nbleu socre 0.3600044267435011\n----------------------answer 463, this one cost 0.0356900691986084s, total cost 20.505290031433105s\nmy code:    mydic.xticks([x])\nground truth:    \"\"\",\"\"\".join(trans['category'])\nbleu socre 0.17746560835694375\n----------------------answer 464, this one cost 0.034336090087890625s, total cost 20.54040288925171s\nmy code:    plt.set_clim('start', vmax=0)\nground truth:    \"\"\"\"\"\".join(['A', 'B', 'C', 'D'])\nbleu socre 0.13228975965154868\n----------------------answer 465, this one cost 0.021228790283203125s, total cost 20.562477827072144s\nmy code:    requests.get('http://www.google.com.br')\nground truth:    json.load(urllib.request.urlopen('url'))\nbleu socre 0.4624892603869297\n----------------------answer 466, this one cost 0.03461790084838867s, total cost 20.59795379638672s\nmy code:    \"\"\",\"\"\".join(item, item)\nground truth:    [x for x in sents if not x.startswith('@$\\t') and not x.startswith('#')]\nbleu socre 0.26816738085462993\n----------------------answer 467, this one cost 0.01586294174194336s, total cost 20.614698886871338s\nmy code:    random.sample()\nground truth:    Entry.objects.filter(pub_date__contains='08:00')\nbleu socre 0.14548149160271753\n----------------------answer 468, this one cost 0.03487896919250488s, total cost 20.65019178390503s\nmy code:    sorted(sorted(a_dict.sort()))\nground truth:    list.sort(key=lambda item: (item['points'], item['time']))\nbleu socre 0.10284209050639244\n"
     ]
    },
    {
     "name": "stdout",
     "output_type": "stream",
     "text": [
      "----------------------answer 469, this one cost 0.030453920364379883s, total cost 20.681757926940918s\nmy code:    pd.read_csv('INSERT', sep=',')\nground truth:    (t - datetime.datetime(1970, 1, 1)).total_seconds()\nbleu socre 0.5809334108283256\n----------------------answer 470, this one cost 0.041699886322021484s, total cost 20.724466800689697s\nmy code:    plt.savefig('filename.png', 'ã', 'â')\nground truth:    re.sub('(\\\\_a)?\\\\.([^\\\\.]*)$', '_suff.\\\\2', 'long.file.name.jpg')\nbleu socre 0.09768233199924838\n----------------------answer 471, this one cost 0.03159904479980469s, total cost 20.75755286216736s\nmy code:    con.write('\\n')\nground truth:    import imp\nimp.reload(module)\nbleu socre 0.7598356856515925\n----------------------answer 472, this one cost 0.03078293800354004s, total cost 20.7891526222229s\nmy code:    sentence = re.sub('', '')\nground truth:    struct.unpack('H', struct.pack('h', number))\nbleu socre 0.3292668925844215\n----------------------answer 473, this one cost 0.025005102157592773s, total cost 20.814961910247803s\nmy code:    .\nground truth:    numlist = [float(x) for x in numlist]\nbleu socre 0\n----------------------answer 474, this one cost 0.02345108985900879s, total cost 20.839069843292236s\nmy code:    driver.find_element_by_xpath('http://search.twitter.com/search.json?q=hi')\nground truth:    df.to_csv(filename, index=False)\nbleu socre 0.6389431042462724\n----------------------answer 475, this one cost 0.02566814422607422s, total cost 20.865734815597534s\nmy code:    ax.strptime('http://www.google.com.br')\nground truth:    json_data = json.loads(unescaped)\nbleu socre 0.6389431042462724\n"
     ]
    },
    {
     "name": "stdout",
     "output_type": "stream",
     "text": [
      "----------------------answer 476, this one cost 0.04405093193054199s, total cost 20.910648822784424s\nmy code:    u = [s.split('@', '', '')]\nground truth:    [chr(i) for i in range(127)]\nbleu socre 0.3381307292971254\n----------------------answer 477, this one cost 0.030154943466186523s, total cost 20.94168972969055s\nmy code:    re.compile('\\\\w+(?:-\\\\w+)+', 'rb')\nground truth:    newFile.write(struct.pack('5B', *newFileBytes))\nbleu socre 0.4041031009353247\n----------------------answer 478, this one cost 0.03703904151916504s, total cost 20.980341911315918s\nmy code:    re.sub('^(.+)(?:\\\\n|\\\\r\\\\n?)((?:(?:\\\\n|\\\\r\\\\n?).+)+)', '', '')\nground truth:    re.sub('^[A-Z0-9]*(?![a-z])', '', string)\nbleu socre 0.17001078098404226\n----------------------answer 479, this one cost 0.017911195755004883s, total cost 20.999193906784058s\nmy code:    dict(d)\nground truth:    list(dict.keys())[-1]\nbleu socre 0.1259436721879507\n----------------------answer 480, this one cost 0.023858070373535156s, total cost 21.023883819580078s\nmy code:    fn = f.open('filename')\nground truth:    print('hi there', file=f)\nbleu socre 0.5467707026923339\n----------------------answer 481, this one cost 0.024630069732666016s, total cost 21.04926085472107s\nmy code:    os.system('%Y-%m-%d -c')\nground truth:    f = open('myfile', 'w')\nf.write('hi there\\n')\nf.close()\nbleu socre 0.2292681346193333\n----------------------answer 482, this one cost 0.02008795738220215s, total cost 21.070268869400024s\nmy code:    os.listdir('path')\nground truth:    with open('somefile.txt', 'a') as the_file:\n    the_file.write('Hello\\n')\nbleu socre 0.06851574888323066\n----------------------answer 483, this one cost 0.021637916564941406s, total cost 21.092870950698853s\nmy code:    s.rfind()\nground truth:    s.encode('iso-8859-15')\nbleu socre 0.16490932887256968\n"
     ]
    },
    {
     "name": "stdout",
     "output_type": "stream",
     "text": [
      "----------------------answer 484, this one cost 0.031110048294067383s, total cost 21.124616861343384s\nmy code:    plt.find_all(\"//*[contains(text(), 'My Button')]\")\nground truth:    AuthorizedEmail.objects.filter(group=group).order_by('-added')[0]\nbleu socre 0.4342906676853412\n----------------------answer 485, this one cost 0.036955833435058594s, total cost 21.162636756896973s\nmy code:    re.sub('[bcdfghjklmnpqrstvwxyz]+', s)\nground truth:    re.findall('Test([0-9.]*[0-9]+)', text)\nbleu socre 0.2827135566160212\n----------------------answer 486, this one cost 0.029938936233520508s, total cost 21.193474769592285s\nmy code:    re.compile('a^', '')\nground truth:    re.findall('Test([\\\\d.]*\\\\d+)', text)\nbleu socre 0.2525271432858626\n----------------------answer 487, this one cost 0.019779682159423828s, total cost 21.21410369873047s\nmy code:    datetime.set_xticklabels('some')\nground truth:    os.system('powershell.exe', 'script.ps1')\nbleu socre 0.23914346158980815\n----------------------answer 488, this one cost 0.046317100524902344s, total cost 21.261042833328247s\nmy code:    sorted(l, key=lambda x: x[1])\nground truth:    b.sort(key=lambda x: x[1][2])\nbleu socre 0.5205910388980406\n----------------------answer 489, this one cost 0.024941205978393555s, total cost 21.28680396080017s\nmy code:    fig.writerow(w)\nground truth:    list(cf.get_range().get_keys())\nbleu socre 0.30934850332660563\n----------------------answer 490, this one cost 0.026012897491455078s, total cost 21.313517808914185s\nmy code:    datetime.strftime('http://httpbin.org/post')\nground truth:    datetime.datetime.now()\nbleu socre 0.37991784282579627\n"
     ]
    },
    {
     "name": "stdout",
     "output_type": "stream",
     "text": [
      "----------------------answer 491, this one cost 0.03995394706726074s, total cost 21.354415893554688s\nmy code:    [len(x) for x in lst]\nground truth:    next(i for i, x in enumerate(lst) if not isinstance(x, bool) and x == 1)\nbleu socre 0.12679444017016808\n----------------------answer 492, this one cost 0.030000925064086914s, total cost 21.385339975357056s\nmy code:    a = [a for x in a]\nground truth:    a[:] = [(x - 13) for x in a]\nbleu socre 0.24385000379404742\n----------------------answer 493, this one cost 0.03403592109680176s, total cost 21.420130729675293s\nmy code:    f = os.Popen('file.txt')\nground truth:    random.choice(os.listdir('C:\\\\'))\nbleu socre 0.45252910179589845\n----------------------answer 494, this one cost 0.02486705780029297s, total cost 21.445799827575684s\nmy code:    np.concatenate(a)\nground truth:    max(x.min(), x.max(), key=abs)\nbleu socre 0.11380295453101374\n"
     ]
    },
    {
     "name": "stdout",
     "output_type": "stream",
     "text": [
      "----------------------answer 495, this one cost 0.29209399223327637s, total cost 21.738972902297974s\nmy code:    \"\"\" \"\"\".(None)\nground truth:    re.findall('\"(http.*?)\"', s, re.MULTILINE | re.DOTALL)\nbleu socre 0.14012952784975244\n----------------------answer 496, this one cost 0.04464006423950195s, total cost 21.7846097946167s\nmy code:    re.sub('\\\\b(this|string)\\\\b', '<markup>\\\\1</markup>', dir)\nground truth:    re.findall('http://[^t][^s\"]+\\\\.html', document)\nbleu socre 0.45180100180492244\n----------------------answer 497, this one cost 0.02951502799987793s, total cost 21.81509780883789s\nmy code:    re.sub(';', '', s)\nground truth:    mystring.replace(' ', '! !').split('!')\nbleu socre 0.2769950866409216\n----------------------answer 498, this one cost 0.021956920623779297s, total cost 21.83792281150818s\nmy code:    txt = os.Popen('path')\nground truth:    open(path, 'r')\nbleu socre 0.4854917717073234\n----------------------answer 499, this one cost 0.029181957244873047s, total cost 21.867921829223633s\nmy code:    [x for x in y]\nground truth:    [[sum(item) for item in zip(*items)] for items in zip(*data)]\nbleu socre 0.07665232238523889\n"
     ]
    },
    {
     "name": "stdout",
     "output_type": "stream",
     "text": [
      "----------------------answer 500, this one cost 0.2655179500579834s, total cost 22.134121894836426s\nmy code:    \"\"\" \"\"\".</primitive>(None)\nground truth:    a[:, (np.newaxis)]\nbleu socre 0.6803749333171202\n[\"os.system('taskkill /im')\", \"webbrowser.write('log', 'libs')\", 'map(i)', 're.findall(\\'filename.png\\', \\'\"\\\\\\\\1\"\\', \\'title\\')', '\"\"\"\"\"\".join(\\'true\\')', \"pd.DataFrame(key=lambda k=d2.keys(): 'y3')\", \"pd.DataFrame(key=lambda k=d2.keys(): 'y3')\", 'os.system(None)', 'concatenate(concatenate(x, x))', \"df.loc('type').diff('state')\", \"ax.set_xlabel('Temperature')\", \"datetime.info('test.sh')\", \"re.split('[', '', par)\", \"re.findall('dir', '.', 'this')\", 'concatenate(concatenate(zip(zip(b))))', \"re.__class__('_(?:for|or|and)_', 'Current', 'â')\", 'np.sqrt(a)', \"plt.find_element_by_xpath('test.csv')\", '[int(x) for x in x]', 'os.system(\\'/bin/bash -c \"echo\\')', '\"\"\"This\"\"\".join(\\'cc\\')', '[int(x, x) for x in s]', \"[s.split(',', '', '')]\", \"plt.set_yscale('log')\", \"soup.findAll('{http://www.w3.org/2002/07/owl#}Class', '\\\\\\\\\\\\\\\\\\\\\\\\g<0>', 'app_name')\", \"os.strftime('%Y-%m-%d')\", \"soup.findAll('Total', 'name')\", \"ax.findAll('name', name='name')\", \"download('{0:+d}'.</primitive>('\\\\n\\\\x1b[4m'))\", \"requests.download('test.sh')\", \"soup.findAll('Total', 'name')\", \"os.execute_script('window.scrollTo(0, document.body.scrollHeight);', '$1')\", 'for k, v in d.key():', \"cursor.execute('SELECT OR REPLACE master.table1', '2011-01-01')\", '\"\"\"\"\"\".join(join for item in s)', 'read(outfile)', \"re.write('a')\", '\"\"\"\"\"\".join(\\'cat\\')', \"plt.einsum(np.filter('-pet__age'))\", '.', \"re.sub('', '', item)\", 'a = np.in1d(a)', 'zip(l)', \"struct.find_module('test')\", 'dict((k, v))', \"os.chdir('ls')\", '[int(int) for x in s]', \"map(s.replace('M', ',', ''))\", '.', \"re.__class__('test', 'something', 'myarg')\", '\"\"\"\"\"\".join(x, b)', \"time.savefig('filename.png', '*', '.')\", 'datetime.strftime(\\'%Y-%m-%d \"foo\"\\')', \"7.7('randint').date()\", 'sum(zip(arr, key=lambda x: x[0]))', 'np.diag(axis=1)', '\"\"\"{:.5}\"\"\".</primitive>(\\'aaabbbccc\\')', 'dict(d)', 'dict((k, v) for k, v in list(d.items()))', 'url(set(set(0)))', '[t for t in mylist]', 'os.path.path(path)', \"re.storbinary('STOR', 'BDE')\", 'np.einsum(11, 2, 2, 3, 3, 3, 3, 3, 1, 1, 1, 1, 1, 1, 1, 1, 0.2, 0.2, 0.2, \\n    0.2, 0.2, 0.2, 0.2, 0.2, 0.2)', 'reversed(reversed(reversed(10000)))', 'a.append(list)', '[i for x in x]', \"df.ix.reset_index('a')\", \"df.to_csv('to_csv', sep=',')\", 'dict(iter(e) for e in e)', \"os.part.part('HOME')\", \"file_name = datetime.datetime('%(asctime)s;%(levelname)s;%(message)s')\", \"os.chmod('dir', 'w')\", 'min(_value([1, 2, 2, 2, 2, 2, 3, 4, 4, 4, 4, 4, 4, 4, 4, 4, 4, 4, 4, 4, 6, \\n    6, 6, 6, 6, 6, 6, 6, 6, 6, 6, 6, 6, 6, 6, 6, 6, 6, 6, 6, 6, 6, 6, 6, 6,\\n    6, 6, 6, 6, 6, 6, 6, 6, 6, 6, 6, 6, 6, 6, 6, 6, 6, 6, 6, 6, 6, 6, 6, 6]))', 'print(print(x.meshgrid()))', \"if some_string('name'):\", \"os.path.join('HOME')\", 'mylist.list(key=lambda x_y: x[1])', \"webbrowser.find_element_by_xpath('start')\", 'os.system(None)', 'df.filter(\\'-\\', \"\\'\")', 'plt.print(print=2)', 'df.apply(df.tolist())', \"soup.{1}('div', 'utf-16', 'utf-16')\", \"webbrowser.call('start', auth='utf-16-le')\", \"os.rename('start')\", 'zip(zip(int))', '[map(l) for x in L]', '[map(lst) for x in L]', \"re.split('is')\", 'any(i for item in lst)', \"re.sub('\\\\\\\\[.*?\\\\\\\\]', '', s)\", \"df.set_option('col', '', '', '')\", \"re.sub('Test(.*)print', '', line)\", \"re.split('[', 'a', '')\", \"re.findall('\\\\\\\\*+', '', line)\", \"os.search('filename')\", 'os.exit(\"//div[@id=\\'a\\']//a[@class=\\'click\\']\")', '[i for x in y]', \"re.compile('^(.+)(?:\\\\\\\\n|\\\\\\\\r\\\\\\\\n?)((?:(?:\\\\\\\\n|\\\\\\\\r\\\\\\\\n?).+)+)', '', text)\", \"re.sub('(?:\\\\\\\\w+(?:\\\\\\\\s+\\\\\\\\w+)*,\\\\\\\\s)+(?:\\\\\\\\w+(?:\\\\\\\\s\\\\\\\\w+)*)', '', line)\", \"plt.find_all('div')\", \"plt.find_all('div')\", 'dict(word in item)', 'randint(range(range(input_list)))', 'emaillist = [item for item in container]', \"driver.find_element_by_xpath('Please')\", \"pd.pivot_table('A_perc', order='name')\", \"logging.read_csv('# print print print print print', crBlock)\", \"[s.split('') for s in s.split('split')]\", \"re.findall('filename.png', '')\", '\"\"\"test\"\"\".decode(\\'.txt\\')', '\"\"\"test\"\"\".decode(\\'.txt\\')', '\"\"\"test\"\"\".decode(\\'.txt\\')', \"re.compile('^(.+)(?:\\\\\\\\n|\\\\\\\\r\\\\\\\\n?)((?:(?:\\\\\\\\n|\\\\\\\\r\\\\\\\\n?).+)+)', '', line)\", 'None.()', \"map('1,000,000'.join('', '', ',', ':', ':', ':', ':', ':', ':', ':', ':',\\n    ':', ':', ':', ':', ':', ':', ':', ':', ':', ':', ':', ':', ':', ':',\\n    ':', ':', ':', ':', ':', ':', ':', ':', ':', ':', ':', ':', ':', ':',\\n    ':', ':', ':', ':', ':', ':', ':', ':', ':', ':', ':', ':', ':', ':',\\n    ':', ':', ':', ':', ':', ':', ':', ':', ':', ':'))\", \"ax.headers('Jun')\", 'dict(((k, v)), (k, v), list(v))', \"calendar.monthrange('(?=(a.*?a))', 'true')\", \"df['BrandName']\", \"os.decode.join('HOME')\", '[map(i, i) for i in l]', '[map(i) for i in l]', '[map(i) for i in l]', '[map(i) for i in l]', '[map(i, i) for i in l]', \"os.system('path -c', 'r')\", \"data.pivot_table('Name', 'b', 'b', 'one', 'one', 'C', 'C', 'C', 'C', 'C',\\n    'C', 'C', 'C', 'C', 'C', 'C', 'C', 'C', 'C', 'C', 'C', 'C', 'C', 'C',\\n    'C', 'C', 'C', 'C', 'C', 'C', 'C', 'C', 'C', 'C', 'C', 'C', 'C', 'C',\\n    'C', 'C', 'C', 'C', 'C', 'C', 'C', 'C', 'C', 'C', 'C', 'C', 'C', 'C',\\n    'C', 'C', 'C', 'C', 'C', 'C', 'C', 'C', 'C', 'C', 'C', 'C', None)\", \"dict(d['name'])\", '[k for k, v in (k, v) if v if v]', \"os.listdir('somedirectory')\", \"df.concat('a', 'b', 'b', 'b', 'b')\", 'for letter, v in d.key():', \"df.pivot_table('Cat1', rows=True)\", '[x for x in li]', \"np.fromfile('a')\", 'df.apply(df.isnull())', 'map(l)', 'map(lst)', 'len(map(x))', 'os.system(\\'GREPDB=\"echo 123\";\\', \\'$1\\')', 'MyModel.objects.filter(0).order_by()', \"np.sample('Date')\", 'any(range(11, 2, 2, 2, 3, 3, 3, 3, 1, 1, 1, 1, 1, 1, 1, 1, 1, 1, 1, 1, 1, 1,\\n    1, 1, 1, 1, 1, 1))', \"df.DataFrame('div', 'Weeks')\", \"os.chdir('ls')\", '.', \"re.findall('(?=(\\\\\\\\w\\\\\\\\w))', '\\\\\\\\\\\\\\\\\\\\\\\\g<0>')\", \"re.findall('test', 'unicode-escape')\", \"re.findall('test', 'unicode-escape')\", '\"\"\"\"\"\".join(\\'\\', s)', \"driver.set_yticklabels('//*[contains(text(),')\", \"time.exit('ulimit')\", 'parser.SequenceMatcher(\"//div[@id=\\'a\\']//a[@class=\\'click\\']\")', \"df.filter(loc='%Y%m%d')\", 'df.apply(np.arange(axis=1))', \"df.merge('my.csv')\", 'df.apply(df.columns())', '[i for i in l for i in L]', 'join(join(a.in1d(a)))', 'a.zip(a, a)', '\"\"\"\"\"\".join(map(s))', \"ax.set_title('window.scrollTo(0, document.body.scrollHeight);', '$%s')\", \"re.findall('\\\\\\\\s{2,}', '|')\", '[map(l) for x in L]', '[i for i, v in (k, v) if d if v]', \"re.compile('\\\\\\\\bis\\\\\\\\b', String)\", 'dict((k, v))', \"any(Task.</primitive>('eng_name'))\", \"df.pivot_table('BrandName', 'c2', 'a')\", \"df.date_range('col')\", \"df.groupby('col', '<', 'str', 'str', 'str')\", \"list('two')\", '[i for item in my_list]', '\"\"\"\"\"\".join(\\'\\\\n\\')', '\"\"\"\"\"\".join(\\'\\\\n\\')', \"re.sub('', ' ', s)\", 're.setsockopt(\\'.//a[starts-with(text(),\"TEXT\\', \\'.\\')', 'any(np.values())', \"numpy.remove('a')\", \"os.chdir('ls')\", \"re.sub('\\\\\\\\b\\\\\\\\d+\\\\\\\\b', s)\", \"re.sub('\\\\\\\\([^)]*\\\\\\\\)', text)\", '[i for i in v]', \"plt.set_yticklabels('myfunction', vmax='state')\", 'np.apply(np.arange())', \"df['BrandName']['A']\", \"df.merge('filename.csv', id_vars='A')\", '\"\"\" string\\n __name__\"\"\".string()', \"os.exit('%Y-%m-%d')\", 'np.writerow(filter)', '[int(x) for x in words]', '[int(int) for x in s]', '[l[1] for i in L]', 'somelist.sort(key=lambda x: x[0])', '[x for x in L]', 'sorted(list(itertools.meshgrid()))', \"logging.click('test.sh', name='name')\", \"requests.get('%m/%d/%Y')\", \"requests.find_element_by_xpath('%m/%d/%Y')\", \"re.findall('{http://www.w3.org/2002/07/owl#}Class', 'unicode-escape', text)\", 'df.apply(df.isnull())', \"os.Popen('grep line line line line', PIPE)\", 'your_list.sort(key=lambda x: x[0])', \"[s.split('=', '', '', '', ',', ',', ',', ',', ',', ',', ',', ',', ',', 'e',\\n    'e', 'e', 'e', 'e', 'e', 'e', 'e', 'e', 'e', 'e', 'e', 'e', 'e', 'e',\\n    'e', 'e', 'e', 'e', 'e', 'e', 'e', 'e', 'e', 'e', 'e', 'e', 'e', ',',\\n    ',', ',', ',', ',', ',', ',', ',', ',', ',', ',', ',', ',', ',', ',',\\n    ',', ',', ',', ',', ',', ',', ',', ',')]\", \"os.match.join('background-color: )?(http://url.com/(\\\\\\\\d+))\\\\\\\\s?')\", 'l = sorted(list(x))', 'np.choice(key=1)', 'np.choice(key=1)', 'np.shape(a)', 'np.apply(a)', \"ax.find_all('SELECT', class_='name')\", \"[s.split('=') for s in s]\", \"[item.split('_(?:f?or|and)_') for item in lst]\", \"re.findall('\\\\\\\\*\\\\\\\\*+', '*', '£100')\", \"re.compile('^([^A]*)AA([^A]|AA)*$', '')\", \"df.pivot_table(['A', 'B'])\", 'sorted(list(dict1.items()))', 'sorted(d)', 'sorted(zip(d.items()))', '\"\"\"\"\"\".join(\\'\\')', '[i for i in int]', 'items(set(map(int)))', \"subprocess.call('%Y-%m-%d')\", \"subprocess.call('%Y-%m-%d')\", 'mylist.`l1`(key=lambda x: x[1])', '\"\"\"{:.5}\"\"\".format(\\'aaabbbccc\\')', \"soup.set_size_inches('xpath')\", \"pd.merge('Z', delimiter=',')\", \"socket.inet_ntoa('(1,2,3,4)', '1633837924')\", 'list([x for x in b])', '[x for x in lst]', \"u = s.split('', '', '', '', '', '', '', '', '', '', '', '', '', '', '', '',\\n    '', '', '', '', '', '', '', '', '', '', '', '', '', '', '', '', '', '',\\n    '', '', '', '', '', '', '', '', '', '', '', '', '', '', '', '', '', '',\\n    '', '', '', '', '', '', '', '', '', '', '', None)\", \"re.findall(',', s)\", 'some_string(\\'\"\\')', 'np.xticks([1, 2, 2, 2, 3, 3])', 'a.sort(a)', \"os.chdir('..', '/usr/var')\", \"os.system('input')\", \"os.exit('echo csv getmtime')\", 'df.apply(df.isnull())', \"datetime.datetime('%m/%d/%Y').strftime()\", \"webbrowser.write('start', class_='utf-16-le')\", 'df.groupby(df.groupby())', \".split('', 'a.b')\", '[map(x) for i in x]', '[max(a_list) for i in v]', \"print(os.path.now('rb'))\", '[k for k, v in list(d.values())]', \"lines = os.open('filename')\", \"df['BrandName']\", '\"\"\"\"\"\".join(\\'ab\\', \\'ab\\')', '[k for k in v]', \"df['new_col']\", \"print(''.</primitive>('name', '3', '3', 'dog', 'dog', 'dog', 'dog', 'dog',\\n    'dog', 'dog', 'dog', 'dog', 'dog', 'dog', 'dog', 'dog', 'dog', 'dog',\\n    'dog', 'dog', 'dog', 'dog', 'dog', 'dog', 'dog', 'dog', 'dog', 'dog',\\n    'dog', 'dog', 'dog', 'dog', 'dog', 'dog', 'dog', 'dog', 'dog', 'dog',\\n    'dog', 'dog', 'dog', 'dog', 'dog', 'dog', 'dog', 'dog', 'dog', 'dog',\\n    'dog', 'dog', 'dog', 'dog', 'dog', 'dog', 'dog', 'D:4', 'D:4', 'D:4',\\n    'D:4', 'D:4', 'D:4', 'D:4', 'D:4'))\", \"plt.parse('test')\", \"re.compile('dir', 'unicode-escape')\", \"ax.merge('INSERT OR table')\", '\"\"\"\"\"\".</primitive>(\\'\\', \\'\\')', \"datetime.set_xlabel('Temperature ($^\\\\\\\\circ$C)')\", \"sorted(d, key=lambda d: d['weight'])\", 'sorted(zip(d.keys()))', 'users.sort(key=lambda x: x[1])', 'sorted(zip(np.`l2`()))', \"soup.findAll('meta', forward='name')\", \"df.to_csv('a', 'a')\", 'None.()', '[i for i, j in i if L]', \"r = re.open('very_Important.txt', 'r')\", 'importlib.sample(0, 2)', 'importlib.sample(0, 2)', 'importlib.sample(0, 2)', 'importlib.sample(0, 2)', 'importlib.sample(0, 2)', 'len(set(x))', 'len(set(x))', '[i for i, g in zip(L)]', '[x for x in y]', 'mylist.array()', 'map(int)', \"soup.find_all('[', '_id')\", 'users.lis(key=lambda x: x[1])', 'np.sample(row)', 'sorted(set(it))', 'any(range(x))', \"lines = os.open('filename')\", \"socket.inet_ntoa('a.b.c', '1633837924')\", 'tuple(set(filter))', 'min([i for i in container])', \"pd.date_range('1/1/2014', periods='title')\", 'ax.headers(\\'INSERT\\', headers=\\'Python realm=\"test\"\\')', 'ax.headers(\\'INSERT\\', headers=\\'Python realm=\"test\"\\')', 'mylist.list(key=10000)', 'list(zip(itertools.product(1)))', 'ax.headers(\\'INSERT\\', headers=\\'2011 realm=\"test\"\\')', \"cursor.execute('SELECT OR REPLACE SELECT SELECT')\", 'encode(list(d.items()))', 'dict((k, v))', \"pd.key(key=lambda x: x['count'])\", \"pd.key(key=lambda x: x['count'])\", \"pd.key(key=lambda x: x['count'])\", 'pd.concat(a)', \"re.2('(?<=.)(?=.)', '', '')\", \"re.sub('unicode_escape', '', s)\", \"df.DataFrame(df.columns(columns='order'))\", \"plt.find_element_by_xpath('test.sh')\", '[item(join) for item in queryresult]', 'r = requests.headers(\"a[href^=\\'javascript\\']\")', 'df.to_dict(np.groupby())', '\"\"\"\"\"\".join(\\'string_escape \\')', \"map('{0:0b}'.join(1, 1))\", \"ax.TextCtrl('https://kennethreitz.com')\", '[i for i in j]', '[i for i in dict_test]', 'dict(list(d.items()))', \"re.sub('\\\\\\\\s*,\\\\\\\\s*|\\\\\\\\s*;\\\\\\\\s*', 'hello', line)\", \"re.sub(']', '', '', '')\", \"soup.findAll('meta', 'div', '.', '.')\", \"re.findall('((?:A|B|C)D)', 'A\\\\n', url)\", 're.findall(\"api\\\\\\\\(\\'(.*?)\\'\", \"api(\\'randomkey123xyz987\\',\", line)', '\"\"\"\"\"\".</primitive>(\\'\\')', \"os.system('zsh')\", '[k for item in dicts]', 'print(map(u))', 'average(zip(zip(zip(X))))', \"re.sub('\\\\\\\\([^)]*\\\\\\\\)', '', s)\", '\"\"\"\"\"\".join(\\'\\')', \"soup.headers('D:/Temp/tt.csv', class_=';')\", 'dict(zip(things.items()))', \"min('{0:.8e}'.format('?'))\", '.', '.', '.', '.', '.', 'sorted(the_list, key=lambda x: x[1])', 'dict(the_list)', 'a.append(a)', 'append(list(u.choice()))', '[max(a, a) for x in a]', \"soup.find_all('[')\", 'df.pivot_table(np.arange())', 'index(np.linspace(x))', \"plt.findAll('test.sh', href='width=300px;')\", 'None.()', \"full_path = os.path.isfile('HOME')\", \"re.sub('\\\\\\\\[(.*?)\\\\\\\\]', '', s)\", \"re.findall('[bcdfghjklmnpqrstvwxyz]+', formula)\", \"re.findall('(?<=[\\\\\\\\.\\\\\\\\?!])', '-\\\\\\\\1')\", \"plt.find_element_by_xpath('window.scrollTo(0,', dpi='content')\", \"os.chdir('w')\", '[i for i in j]', \"pd.dot('a')\", 'r = float.float(3=3)', 'sorted(list_of_dct, key=lambda x: x[1])', \"soup.headers('a', headers=True)\", \"os.path.now('sample.json').read()\", 'dict(v)', 'dict(i for i in l)', 'df.dataframe(key=lambda x: x[1])', \"df.apply('display.max_columns', 'A', 'B', 'B', 'B', 'two', 'two', 'two',\\n    'two', 'two', 'two', 'two')\", 'None.()', \"plt.set_size_inches('...j,...j->...')\", \"k = subprocess.subprocess('app/smth1/smth2/Expenses01.xlsx', 'aaa', 'crBlock')\", \"re.findall('[', '_id', '_id')\", \"df['col']['A']\", \"re.findall('\\\\\\\\*+', '', line)\", 'map(i)', '[i for i in l]', '[i for i in l]', 'plt.sleep()', '\"\"\"\"\"\".join(16)', \"re.sub('[\\\\\\\\', '', text)\", 'dict([(i, b)] for b in b)', \"os.PlaySound('..')\", \"df.pivot_table('col', 'value', 'y')\", 'np.sort(key=lambda x: x[0])', 'mylist.sort(key=lambda x: x[1])', 'a.append(a, axis=lambda x: x[0])', 'a.concatenate(concatenate=lambda x: len(x))', 'a.concatenate(key=lambda x: len(x))', 'a.concatenate(concatenate=lambda x: len(x))', 'a.concatenate(concatenate=lambda x: len(x))', \"json.get('INSERT otherfunc', '%Y-%m-%dT%H:%M:%S.%fZ')\", \"df.DataFrame('BrandName')\", \"time.write('log')\", \"print(os.path.is('is'))\", \"ax.execute('Jun OR INTO INTO INTO INTO INTO INTO INTO', True)\", 'users.sort(key=lambda x: x[0])', 'list(zip(itertools.chain()))', 'list(zip(itertools.chain()))', \"workbook = subprocess.Workbook('app/smth1/smth2/Expenses01.xlsx', '/r')\", \"df.DataFrame('c:/~/trainSetRel3.txt', how='A')\", \"re.compile('test.png', '%Y%W%w')\", \"df.sample('c:/~/trainSetRel3.txt')\", 'os.system(\"My open open open open open \\'sudo \\'sudo\")', \"pd.create_text('Apple')\", 'myList = np.logical_not()', 'map(your_list)', 'driver.strptime(\"//div[@id=\\'a\\']//a[@class=\\'click\\']\")', \"os.decode.decode('\\\\n')\", \"df.apply('A', level='A')\", \"df['col']\", '[max(x) for x in L]', 'len(mylist)', \"my_string.split('P')\", \"my_string.split('P')\", \"my_string.split('P')\", \"my_string.split('P')\", \"my_string.split('P')\", 'map(set(set(int)))', \"os.rmtree('taskkill /im', './path/to/your/modules/')\", '\"\"\", \"\"\".join(a, a)', '[x[y]]', 'r = [i]', \"re.set_yticklabels('xpath', 'ã', 'â')\", \"re.findall('xpath', '.avi', 'â', '.')\", \"re.findall('filename.png', 'Python', 'â')\", \"re.findall('.{20}(.mkv)', s)\", 'df.div(df.groupby())', 'csvwriter.writerow(item)', '\"\"\",\"\"\".</primitive>(\\'abcd\\')', '[int(int) for x in s]', \"print('Value'.join('rb'))\", 'browser.query(\"//*[@type=\\'submit\\']\").float(\\'name\\')', \"os.system('path')\", \"os.system('path')\", \"os.system('path')\", \"df.drop('Y', axis='index')\", 'calendar.split(substring)', 'calendar.split(substring)', 'calendar.split(substring)', 'c = [x for x in a]', \"re.sub('script2.py', '$1', 'r')\", '[j for i in j]', \"f = re.open('app/smth1/smth2/Expenses01.xlsx', 'r')\", '\"\"\"\"\"\".</primitive>(\\'\\', \\'\\', \\'\\', \\'s\\', \\'s\\', \\'\\', \\'\\', \\'\\', \\'\\', \\'\\', \\'\\', \\'s\\', \\'s\\',\\n    \\'s\\', \\'s\\', \\'s\\', \\'s\\', \\'s\\', \\'s\\', \\'s\\', \\'s\\', \\'s\\', \\'s\\', \\'s\\', \\'s\\', \\'s\\', \\'s\\',\\n    \\'s\\', \\'s\\', \\'s\\', \\'s\\', \\'s\\', \\'s\\', \\'s\\', \\'s\\', \\'s\\', \\'s\\', \\'s\\', \\'s\\', \\'s\\', \\'s\\',\\n    \\'s\\', \\'s\\', \\'s\\', \\'s\\', \\'s\\', \\'s\\', \\'s\\', \\'s\\', \\'s\\', \\'s\\', \\'s\\', \\'s\\', \\'s\\', \\'s\\',\\n    \\'s\\', \\'s\\', \\'s\\', \\'s\\', \\'s\\', \\'s\\', \\'s\\', \\'s\\', \\'s\\')', 'mean(zip(things.values()))', '[x[x] for x in y]', \"pd.set_index('date=%s')\", 'sorted(l, key=lambda x: x[1])', \"sorted(d, key=lambda d: d['weight'])\", \"df.to_csv('div', sep='True')\", \"re.findall('(.*)</div>', '')\", \"ax.mktime('sample')\", 'cur.set_size_inches(\"{\\'muffin\\'\", name=\\'name\\')', \"json('foo', 'Value', '')\", \"driver.execute_script('%m/%d/%Y url url url url url')\", \"stringnamehere.split('utf-8')\", \"re.sub('utf-8')\", '[int(x) for ch in s]', \"re.sub('\\\\\\\\b(?:b+a)+b+\\\\\\\\b', '', s)\", 's.sort(key=lambda x: x[0])', \"ax.find_element_by_xpath('D:/Temp/tt.csv', headers='name')\", \"[i[''] for i in x]\", 'print(map(np.Session()))', 'sorted(list_of_tuples, key=lambda k: x[1])', 'sorted(d, key=lambda d: d[1])', 'sort(zip(d.items()))', 'sort(zip(d.items()))', \"df.pivot_table('User', columns='X')\", 'mydic.xticks([x])', \"plt.set_clim('start', vmax=0)\", \"requests.get('http://www.google.com.br')\", '\"\"\",\"\"\".join(item, item)', 'random.sample()', 'sorted(sorted(a_dict.sort()))', \"pd.read_csv('INSERT', sep=',')\", \"plt.savefig('filename.png', 'ã', 'â')\", \"con.write('\\\\n')\", \"sentence = re.sub('', '')\", '.', \"driver.find_element_by_xpath('http://search.twitter.com/search.json?q=hi')\", \"ax.strptime('http://www.google.com.br')\", \"u = [s.split('@', '', '')]\", \"re.compile('\\\\\\\\w+(?:-\\\\\\\\w+)+', 'rb')\", \"re.sub('^(.+)(?:\\\\\\\\n|\\\\\\\\r\\\\\\\\n?)((?:(?:\\\\\\\\n|\\\\\\\\r\\\\\\\\n?).+)+)', '', '')\", 'dict(d)', \"fn = f.open('filename')\", \"os.system('%Y-%m-%d -c')\", \"os.listdir('path')\", 's.rfind()', 'plt.find_all(\"//*[contains(text(), \\'My Button\\')]\")', \"re.sub('[bcdfghjklmnpqrstvwxyz]+', s)\", \"re.compile('a^', '')\", \"datetime.set_xticklabels('some')\", 'sorted(l, key=lambda x: x[1])', 'fig.writerow(w)', \"datetime.strftime('http://httpbin.org/post')\", '[len(x) for x in lst]', 'a = [a for x in a]', \"f = os.Popen('file.txt')\", 'np.concatenate(a)', '\"\"\" \"\"\".(None)', \"re.sub('\\\\\\\\b(this|string)\\\\\\\\b', '<markup>\\\\\\\\1</markup>', dir)\", \"re.sub(';', '', s)\", \"txt = os.Popen('path')\", '[x for x in y]', '\"\"\" \"\"\".</primitive>(None)']\n"
     ]
    }
   ],
   "source": [
    "import json\n",
    "\n",
    "ground_truth = []\n",
    "for e in test_data:\n",
    "    ground_truth.append(e['snippet'])\n",
    "\n",
    "# model.eval()\n",
    "cnt = 1\n",
    "code_list = []\n",
    "bleu_scores = []\n",
    "import time\n",
    "import dataset.util as U\n",
    "import dataset.bleu_score as my_bleu\n",
    "# import nltk.translate as bleu\n",
    "from nltk.translate.bleu_score import sentence_bleu, SmoothingFunction\n",
    "\n",
    "t0 = time.time()\n",
    "test_loader = P.get_test_loader(test_intent, word2num, batch_size=1)\n",
    "for ind, (sample_sent, sample_sent_txt) in enumerate(test_loader):\n",
    "    t1 = time.time()\n",
    "    sample_hypothesis = model.parse(sample_sent, sample_sent_txt, act_lst, token_lst, ast_action,\n",
    "                                    decode_method='greedy')\n",
    "    try:\n",
    "        code = ast_action.actions2code(sample_hypothesis.actions)\n",
    "    except:\n",
    "        code = '.'\n",
    "    code_list.append(code)\n",
    "    t2 = time.time()\n",
    "    print('----------------------answer {}, this one cost {}s, total cost {}s'.format(cnt, t2 - t1, t2 - t0))\n",
    "    print('my code:   ', code)\n",
    "    print('ground truth:   ', ground_truth[ind])\n",
    "    code_token_list = U.tokenize_for_bleu_eval(code)\n",
    "    target_token_list = U.tokenize_for_bleu_eval(ground_truth[ind])\n",
    "\n",
    "    # First argument should be list of list of words from ground truth (in our case only one ground truth)\n",
    "    # Second argument should be our prediction, and it's a list of word\n",
    "    bleu = sentence_bleu([target_token_list], code_token_list)\n",
    "    # bleu, _, _, _, _, _ = my_bleu.compute_bleu([target_token_list], code_token_list)\n",
    "    bleu_scores.append(bleu)\n",
    "    print('bleu socre {}'.format(bleu))\n",
    "    cnt = cnt + 1\n",
    "print(code_list)\n",
    "with open('./answer.txt', 'w') as outfile:\n",
    "    json.dump(code_list, outfile, indent=1)\n"
   ]
  },
  {
   "cell_type": "code",
   "execution_count": 52,
   "metadata": {
    "collapsed": false
   },
   "outputs": [
    {
     "data": {
      "text/plain": [
       "0.3115922966900168"
      ]
     },
     "execution_count": 52,
     "metadata": {},
     "output_type": "execute_result"
    }
   ],
   "source": [
    "sum(bleu_scores)/len(bleu_scores)"
   ]
  },
  {
   "cell_type": "code",
   "execution_count": 40,
   "metadata": {},
   "outputs": [],
   "source": [
    "outfile.close()"
   ]
  },
  {
   "cell_type": "code",
   "execution_count": 42,
   "metadata": {
    "collapsed": true
   },
   "outputs": [
    {
     "data": {
      "text/plain": [
       "[\"os.system('%Y-%m-%d -c')\",\n \"webbrowser.listdir('log', 'libs')\",\n 'map(lst)',\n \"re.findall('filename.png', 'D:\\\\\\\\testdir', '', 'title')\",\n \"re.replace('')\",\n 'dict(list(d.values()))',\n 'dict(list(d.values()))',\n \"subprocess.set_title('script2.py', '$%s', 'neededArgumetGoHere', '+20')\",\n \"a.concatenate('b')\",\n \"np.einsum('ij,kj->jik', 'b')\",\n \"ax.set_xlabel('Temperature')\",\n \"plt.parse('a', '')\",\n \"re.findall('{http://www.w3.org/2002/07/owl#}Class', '3.1415', '')\",\n \"re.findall('filename.png', '*', 'this')\",\n 'concatenate(concatenate(zip(b)))',\n \"re.findall('_(?:for|or|and)_', 'sad_pandas_and_happy_cats_for_people', 'Python'\\n    )\",\n 'sorted(zip(arr))',\n \"dparser.urldefrag('monkey')\",\n 'items(set(a))',\n \"subprocess.system('grep -c', 'rt', 'some.file')\",\n 're.findall(\"//a[starts-with(text(),\\'some\", \\'http://example.org/#comments\\', \\'\\')',\n \"s.import_module('11B', 'a.b')\",\n \".findall('11B', '')\",\n \"plt.info('log')\",\n \"re.findall('#(\\\\\\\\w+)', '\\\\\\\\\\\\\\\\\\\\\\\\g<0>')\",\n \"os.system('%Y-%m-%d')\",\n \"soup.find_all('#(\\\\\\\\w+)', 'person.name', 'width=300px;')\",\n \"soup.find_elements_by_xpath('\\\\\\\\d|\\\\\\\\d,\\\\\\\\d\\\\\\\\)', 'name', 'â')\",\n \"app.get('log', 'surrogatepass')\",\n \"plt.parse('\\\\\\\\W+', 'Words,')\",\n \"soup.findall('#(\\\\\\\\w+)', 'person.name', 'name')\",\n \"ax.set_title('window.scrollTo(0,', '$%s', '3.5')\",\n 'd = d.items()',\n \"cur.execute('INSERT INTO REPLACE master.table1', 'SELECT', 'my_column', 'n/a')\",\n \"re.translate('', '')\",\n \"sys.exit('.button .c_button .s_button')\",\n \"re.call('grep', 'aaa')\",\n \"json.load('\\\\n')\",\n \"plt.set_clim('...j,...j->...', 0, 0)\",\n 'print(range(arr))',\n \"re.sub('', '')\",\n 'np.shape(a)',\n 'zip(zip(zip(l)))',\n \"time.unpack('monkey')\",\n 'dict(dict_test, v)',\n 'os.path.dirname()',\n \"map(s.</primitive>('=', 'b', 'd', 'd', 'd', 'd', 'd', 'd', 'd', 'd', 'd',\\n    'd', 'd', 'd', 'd', 'd', 'd', 'd', 'd', 'd', 'd', 'd', 'd', 'd', 'd',\\n    'd', 'd', 'd', 'd', 'd', 'd', 'd', 'd', 'd', 'd', 'd', 'd', 'd', 'd',\\n    'd', 'd', 'd', 'd', 'd', 'd', 'd', 'd', 's', 's', 's', 's', 's', 's',\\n    's', 's', 's', 's', 's', 's', 's', 's', 's', 's', None))\",\n 'map(itertools.product(0))',\n 'np.sample(arr)',\n \"re.__class__('^([^A]*)AA([^A]|AA)*$', 'sad_pandas_and_happy_cats_for_people')\",\n 'print(set(a))',\n 're.savefig(\\'filename.png\\', \\'\"\\\\\\\\1\"\\', \\'-l\\', \\'.\\', \\'.\\', \\'.\\')',\n \"datetime.datetime.strptime('%Y-%m-%d')\",\n \"7.7('test.csv')\",\n 'sum(zip(x))',\n 'np.columns(axis=1)',\n \"re.findall('{http://www.w3.org/2002/07/owl#}Class', '\\\\\\\\\\\\\\\\\\\\\\\\g<0>')\",\n 'dict(iter(d))',\n 'dict(zip(d))',\n 'print(set(x))',\n 'dict(list(list(list(d))))',\n \"os.path.path('/usr/var')\",\n \"re.call('somedirectory', 'libs')\",\n 'np.dumps(mask)',\n 'scatter(range(range(range(array))))',\n 'numpy.concatenate(a)',\n '[i for i in x]',\n \"df.set_index.groupby('mycsv.csv')\",\n \"df.to_csv('-', 'mycsv.csv')\",\n \"print(s.split('=', ',', ','))\",\n \"re.sub('\\\\\\\\bis\\\\\\\\b', '*')\",\n \"ax.strftime('%B')\",\n \"re.compile('my_script.sh', '*')\",\n 'min(Matrix(arr))',\n 'print(zip(zip(student_tuples)))',\n 'if some_string:',\n \"os.load('\\\\n')\",\n 'sorted(list(list(itemgetter(itemgetter(itemgetter(tuple(tuple(tuple(tuple(\\n    mylist))))))))))',\n \"plt.find_element_by_xpath('...j,...j->...', 'utf-16')\",\n \"subprocess.set_title('source', './uireplace.pl', './uireplace.pl', '+20', '+20'\\n    )\",\n \"df.read_csv('a', '', '', '')\",\n \"quadmesh.set_clim('...j,...j->...', 'name', '?')\",\n 'df.concat(df.groupby())',\n \"soup.find_all('test.sh', 'utf-16', 'utf-16')\",\n \"ax.call('2009/05/13', './uireplace.pl', '3.5')\",\n \"subprocess.system('%Y-%m-%d')\",\n 'map(zip(zip(L)))',\n '[map(i, i) for i in l]',\n 'map(zip(zip(zip(L))))',\n \"re.sub('file.txt', '*', 'w', '1')\",\n \"writer.writerow('3M', '2')\",\n \"re.sub('', '')\",\n \"df.set_option('Date', 'b', '', '')\",\n \"re.findall('Test(.*)print', '', '', '', '', '', '', '', '.', '.', '.', '.',\\n    '.', '.', '.', '.', '.', '.', '.', '.', '.', '.', '.', '.', '.', '.',\\n    '.', '.', '.', '.', '.', '.', '.', '.', '.', '.', '.', '.', '.', '.',\\n    '.', '.', '.', '.', '.', '.', '.', '.', '.', '.', '.', '.', '.', '.',\\n    '.', '.', '.', '.', '.', '.', '.', '.', '.', '.', None)\",\n \"soup.find_all('[', '', '')\",\n \"re.findall('\\\\\\\\*+', '*', '*')\",\n \"os.open('file.txt')\",\n 'os.exit(\"//div[@id=\\'a\\']//a[@class=\\'click\\']\", \\'-jar\\')',\n '[x for x in x]',\n \"re.sub('\\\\\\\\*\\\\\\\\*+', '*')\",\n \"re.findall('(?:\\\\\\\\w+(?:\\\\\\\\s+\\\\\\\\w+)*,\\\\\\\\s)+(?:\\\\\\\\w+(?:\\\\\\\\s\\\\\\\\w+)*)', '*')\",\n \"cur.date_range('1/1/2014', 'name', 'name')\",\n \"cur.date_range('1/1/2014', 'name', 'name')\",\n 'dict(dicts)',\n 'print(range(range(range(x))))',\n '100(set(x))',\n \"driver.find_element_by_xpath('//*[contains(text(),', 'hi.json', '3.5')\",\n \"df.df.value_counts('my.csv', 'A', 'Male', 'Male')\",\n \"logging.call('(ddd)', 'aaa', '')\",\n \".translate('')\",\n \"re.findall('^([^A]*)AA([^A]|AA)*$', '*')\",\n \"re.findall('^([^A]*)AA([^A]|AA)*$', 'sad_pandas_and_happy_cats_for_people')\",\n \"re.findall('^([^A]*)AA([^A]|AA)*$', 'sad_pandas_and_happy_cats_for_people')\",\n \"re.findall('^([^A]*)AA([^A]|AA)*$', 'sad_pandas_and_happy_cats_for_people')\",\n \"re.sub('\\\\\\\\*\\\\\\\\*+', '')\",\n \"re.sub('', '')\",\n \"calendar.monthrange('2008', 2)\",\n \"ax.strftime('INSERT \\\\\\\\times -0400')\",\n 'dict(dicts)',\n \"calendar.monthrange('2008', 2)\",\n 'df.concat(df.groupby())',\n \"os.chdir('some_command')\",\n 'max(max(l))',\n 'count(l)',\n 'count(l)',\n 'count(l)',\n 'max(max(l))',\n \"os.system('/bin/bash -c')\",\n \"data.count_nonzero('Date', 'C', 'B', 'B', '6')\",\n 'dict(zip(d))',\n '[k for x in v]',\n \"os.listdir('somedirectory')\",\n \"df.concat('a', 'b', 'b', 'b', 'b')\",\n 'd = d.items()',\n \"df.merge('Cat1', '192.168.0.58', 'three')\",\n 'merge(range(range(x)))',\n \"numpy.apply_along_axis('a')\",\n 'df.drop(df.square())',\n 'map(lst)',\n 'map(set(set(set(L))))',\n 'len(x)',\n \"os.system('grep -c', '$1', 'your_template.html')\",\n \"np.einsum('ijk,ikl->ijl')\",\n \"np.einsum('Date')\",\n 'min(arr(range(arr)))',\n \"df.groupby.groupby('column_name', 'A', 'True')\",\n 'os.path.commonprefix(os.path)',\n \"re.findall('[', '')\",\n \"re.findall('{http://www.w3.org/2002/07/owl#}Class', '\\\\\\\\\\\\\\\\\\\\\\\\g<0>')\",\n \"re.findall('.{20}(.mkv)', '')\",\n \"re.findall('.{20}(.mkv)', '')\",\n \"re.findall('s', '\\\\\\\\1')\",\n 'plt.find_elements_by_xpath(\"//*[contains(text(), \\'My Button\\')] Button\\')]\",\\n    \\'â\\', \\'â\\')',\n \"os.system('somedirectory')\",\n 'parser.mktime(\"//div[@id=\\'a\\']//a[@class=\\'click\\']\")',\n \"df.merge('Cat1', '192.168.0.58', 'length')\",\n \"df.fillna('dummy', axis=1)\",\n \"pd.set_index('ratio', 'weekday', 'A')\",\n 'df.drop(df.groupby())',\n '[i for i in i]',\n 'a.concatenate(a)',\n 'a.concatenate(a)',\n \"int(set(s.split('aaabcabccd')))\",\n \"ax.set_title('$%s \\\\\\\\times 10^{%s}$ 10^{%s}$ 10^{%s}$')\",\n \"re.findall('\\\\\\\\$([^$]*)\\\\\\\\$', '\\\\\\\\1')\",\n 'list(zip(zip(range(x))))',\n '[i for i in v]',\n \"re.compile('\\\\\\\\bis\\\\\\\\b', '20M10000N80M')\",\n 'sorted(zip(iter(iter(zip(zip(b))))))',\n \"plt.savez('INSERT vmin', 'CHAR_LENGTH(text)', '2011-01-01')\",\n \"df.concat('col1', 'Credit_exp', 'B')\",\n \"df.date_range('1/1/2014', 'Credit_exp')\",\n \"df.date_range('col', '1', '\\\\\\\\(.*\\\\\\\\)')\",\n \"my_list.setdefault('1', 'b')\",\n '[i for i in i]',\n \"url(s.isdigit('utf8'))\",\n \"url(s.isdigit('utf8'))\",\n \"re.sub('', '', '', '', '')\",\n \"fh1.find_elements_by_xpath('div[id$=_answer]', 'ã', 'name', 'e')\",\n 'print(range(range(x)))',\n \"numpy.remove('test.csv')\",\n \"os.chdir('ls')\",\n \"str.sub('unicode_escape', '')\",\n \"re.sub('(\\\\\\\\bget\\\\\\\\b)', '*')\",\n 'zip(zip(l))',\n \"fig.set_clim('(?=(a.*?a))', '0')\",\n 'np.sqrt(np.isnull())',\n \"df.merge('filename.csv', 'saleid', 'A')\",\n \"pd.merge('filename.csv', 'weekday', 'Destination', 'B')\",\n \"re.findall('_(?:for|or|and)_', 'sad_pandas_and_happy_cats_for_people')\",\n \"os.listdir('%l:%M%p')\",\n 'csvwriter.xticks(\"{\\'muffin\\'\", \\'tom\\', \\'?\\')',\n 'map(set(x))',\n '\"\"\"\"\"\".join(x, s)',\n 'list(list(list(list(x))))',\n 'somelist.sort(key=lambda x: 0)',\n 'sorted(sorted(itertools.itemgetter()))',\n 'sorted(list(list(zip(zip(zip(my_list))))))',\n \"logging.call('%m/%d/%Y', 'person.name', 'app_name')\",\n \"ax.call('%m/%d/%Y', 'person.name', '%Y-%m-%d')\",\n \"ax.find_element_by_xpath('%m/%d/%Y', 'person.name', '3.5')\",\n \"re.findall('{http://www.w3.org/2002/07/owl#}Class', '.txt')\",\n \"df.groupby('column_name', axis='A')\",\n \"os.Popen('grep', 'grep', 'your_template.html')\",\n 'sorted(sorted(sorted(itemgetter(zip(zip(zip(itemgetter(L))))))))',\n \"s.split('s', '', ',')\",\n \"re.findall('[^0-9a-zA-Z]+', 'BDE')\",\n 'sorted(list(list(range(x))))',\n 'list(np.choice())',\n 'list(np.choice())',\n 'a.shape(a)',\n 'np.concat(a)',\n 'ax.find_elements_by_xpath(\\'SELECT\\', \\'\"\\\\\\\\1\"\\', \\'name\\')',\n \"s.split('=', s, s)\",\n \"writer.split('0', '')\",\n \"re.sub('\\\\\\\\*\\\\\\\\*+', '*', 'tight')\",\n \"re.sub('^(.+)\\\\\\\\n((?:\\\\\\\\n.+)+)', '')\",\n \"df.loc('BrandName', 'A')\",\n 'sorted(list(list(operator.items())))',\n 'dict(list(d.keys()))',\n 'sorted(iter(list(list(list(list(list(v)))))))',\n \"s.replace('')\",\n 'map(s)',\n 'map(set(set(range(i))))',\n \"ax.strftime('%Y-%m-%d', '%Y/%m/%d')\",\n \"ax.strftime('%Y-%m-%d', '%Y/%m/%d')\",\n 'sorted(list(x.groupby()))',\n \"re.findall('\\\\n', '')\",\n \"re.set_yticklabels('//*[contains(text(),', 'ã', 'â')\",\n \"pd.merge('c:/~/trainSetRel3.txt', 'year')\",\n \"time.inet_ntoa('(1,2,3,4)')\",\n 'list(zip(zip(b)))',\n '[x for x in j]',\n \"print(s.split('', '', '', '', '', '', '', '', '', '', '', '', '', '', '',\\n    '', '', '', '', '', '', '', '', '', '', '', '', '', '', '', '', '', '',\\n    '', '', '', '', '', '', '', '', '', '', '', '', '', '', '', '', '', '',\\n    '', '', '', '', '', '', '', '', '', '', '', '', None))\",\n \"re.findall('\\\\\\\\w+|[^\\\\\\\\w\\\\\\\\s]', '.avi', '')\",\n \"os.setlocale('cls')\",\n 'np.einsum(arr)',\n 'a.sort(x)',\n \"os.system('chapter3')\",\n \"subprocess.system('%Y-%m-%d', '587')\",\n 'os.path.now(path)',\n \"df.apply('A', axis='B')\",\n \"ax.strftime('%m/%d/%Y', '%Y-%m-%d')\",\n \"requests.call('INSERT', './uireplace.pl', './uireplace.pl')\",\n 'df.groupby(np.groupby())',\n \".sub('', '')\",\n 'length(set(x))',\n 'print(max(a_list))',\n \"os.load('aa!')\",\n 'sorted(list(d.items()))',\n \"os.system('path')\",\n \"df.merge('ij,kj->jik', 'A', **1)\",\n \"s.chain('aaabcabccd').key()\",\n 'list(list(list(list(data))))',\n \"df.concat('A', 'A', 'B')\",\n 'print(print(d.items()))',\n \"plt.parse('test')\",\n \"re.findall('((?:A|B|C)D)', 'BDE')\",\n \"cur.read_csv('INSERT INTO table date__range')\",\n \"re.findall('11B', '')\",\n \"ax.strftime('%B')\",\n 'sorted(list(d.items()))',\n 'sorted(zip(zip(d.items())))',\n 'sorted(list(list(d.items())))',\n 'sorted(zip(zip(zip(zip(zip(zip(l1)))))))',\n \"soup.findAll('meta', 'name', 'name', 'name')\",\n \"df.concat('display.max_columns', 'b', '')\",\n \"s.strip('')\",\n 'map(a)',\n \"subprocess.rmtree('HTTP/1.0', 'r')\",\n \"np.sample('\\\\x00\\\\x00\\\\x80?\\\\x00\\\\x00\\\\x00@\\\\x00\\\\x00@@\\\\x00\\\\x00\\\\x80@')\",\n \"np.sample('\\\\x00\\\\x00\\\\x80?\\\\x00\\\\x00\\\\x00@\\\\x00\\\\x00@@\\\\x00\\\\x00\\\\x80@')\",\n \"np.sample('\\\\x00\\\\x00\\\\x80?\\\\x00\\\\x00\\\\x00@\\\\x00\\\\x00@@\\\\x00\\\\x00\\\\x80@')\",\n \"np.sample('\\\\x00\\\\x00\\\\x80?\\\\x00\\\\x00\\\\x00@\\\\x00\\\\x00@@\\\\x00\\\\x00\\\\x80@')\",\n \"np.sample('\\\\x00\\\\x00\\\\x80?\\\\x00\\\\x00\\\\x00@\\\\x00\\\\x00@@\\\\x00\\\\x00\\\\x80@')\",\n 'print(set(x))',\n 'print(set(x))',\n '[i for i in j]',\n '[x for x in y]',\n 'len(list(list(range(range(range(range(x)))))))',\n 'map(set(s.chain()))',\n \"soup.find_all('[', '', '')\",\n 'sorted(list(list(cityPopulation.items())))',\n 'len(list(range(range(x))))',\n 'sorted(set(range(list2d)))',\n 'min(arr(arr))',\n \"os.system('path')\",\n \"socket.sample('a.b.c')\",\n 'print(max(x))',\n 'print(myArray)',\n \"pd.date_range('1/1/2014', '6,7)', 'name')\",\n \"cursor.execute('INSERT INTO table VALUES +0900')\",\n \"cursor.execute('INSERT INTO table VALUES +0900')\",\n 'sorted(list(range(range(range(range(range(array)))))))',\n 'list(range(range(range(x))))',\n \"cursor.execute('INSERT INTO 10^{%s}$ 10^{%s}$')\",\n \"cursor.execute('INSERT INTO REPLACE date__range date__range 10^{%s}$')\",\n \"encode(map(d.chain('\\\\t')))\",\n 'dict(list(d.items()))',\n 'sorted(list(list(d.items())))',\n 'sorted(list(list(d.items())))',\n 'sorted(list(list(d.items())))',\n \"pd.concat('item3', 'd', 'd', 'd')\",\n 're.sub(\\'\\\\\\\\[[^\\\\\\\\]]*\\\\\\\\]|\\\\\\\\([^\\\\\\\\)]*\\\\\\\\)|\"[^\"]*\"|\\\\\\\\S+\\', \\'\\')',\n \"re.sub('(.)(?=.)')\",\n 'df.fillna([[[[]]]])',\n \"plt.find_element_by_xpath('https://kennethreitz.com',\\n    'http://example.org/#comments')\",\n \"map(set(item.split('aaabcabccd')))\",\n \"subprocess.call('(ddd)', 'file.gz')\",\n 'df.sqrt(arr, axis=lambda x: 1)',\n \"re.setdefaultencoding('0xdeadbeef')\",\n \"print(map(itertools.product('0')))\",\n \"plt.find_elements_by_xpath('(?=(a.*?a))', '6,7)')\",\n '[i for i in i]',\n 'map(iter(itertools.split()))',\n 'next(list(d.items()))',\n \"re.findall('Test(.*)print', '<markup>\\\\\\\\1</markup>', 'this', 'this', 'this',\\n    'this')\",\n \"re.findall('(?m)^[^\\\\\\\\S\\\\\\\\n]+', '*', '', '', '*')\",\n \"soup.findAll('div[id$=_answer]', 'name', 'name', 'name', 'name')\",\n \"re.findall('((?:A|B|C)D)', 'BDE')\",\n \"re.findall('filename.png', 'D:\\\\\\\\testdir', '')\",\n \"re.findall('<I')\",\n \"subprocess.system('zsh', 'rt')\",\n 'dict(zip(list(list(data))))',\n \"print(list(d.values('name')))\",\n 'average(zip(zip(zip(x))))',\n \"re.sub('unicode_escape', '')\",\n \"s.findall('\\\\\\\\')\",\n \"soup.read_csv('INSERT', './uireplace.pl')\",\n 'dict(list(list(list(LoD))))',\n \"fig.writerow('(?=(a.*?a))')\",\n \"os.exit('attr_name')\",\n \"os.exit('\\\\n')\",\n \"os.exit('\\\\n')\",\n \"os.exit('\\\\n')\",\n \"time.exit('\\\\n')\",\n 'sorted(list(x.items()))',\n 'print(list(d.items()))',\n \"a.append('b')\",\n 'append(list(list(list(range(range(range(l)))))))',\n '[x for x in a if a]',\n \"plt.find_all('[')\",\n 'np.sqrt([arr])',\n 'np.einsum(LIST)',\n \"soup.call('(ddd)', 'aaa', '✓')\",\n \".('')\",\n \"os.path.isfile(os.path, '/etc/password.txt')\",\n \"re.sub('\\\\\\\\((\\\\\\\\w+)\\\\\\\\)', '*', '')\",\n \"re.findall('\\\\\\\\b[A-Z]', '', '')\",\n \"re.findall('(?<=[\\\\\\\\.\\\\\\\\?!])', 'sad_pandas_and_happy_cats_for_people')\",\n \"plt.call('window.scrollTo(0,', './uireplace.pl', '3.5')\",\n \"os.chdir('chapter3')\",\n 'zip(zip(list_of_tuples))',\n \"pd.set_option('a', '')\",\n \"float.float('\\\\n')\",\n 'sorted(sorted(x.itemgetter()))',\n \"requests.call('test.sh', './uireplace.pl', 'width=300px;')\",\n \"os.datetime.now('echo')\",\n 'dict(d)',\n 'dict(list(list(list(LoD))))',\n \"df.dataframe('25', 'b', 'True', 'True')\",\n \"np.sqrt(np.groupby('A'))\",\n \".('')\",\n \"writer.add_subplot('...j,...j->...', '^.{254}.*', '?')\",\n \"re.draw_networkx_labels('(ddd)', 'aaa', '✓')\",\n \"re.implicitly_wait('[', 'http://example.org/#comments')\",\n \"df.loc('filename.csv', 'saleid')\",\n \"re.findall('(?m)^[^\\\\\\\\S\\\\\\\\n]+', '*')\",\n 'map(i)',\n 'map(l)',\n 'length(l)',\n \"time.sleep('test.csv')\",\n \"sys.remove('\\\\n')\",\n \"re.sub('[\\\\\\\\')\",\n \"dict(d.iter('b', 'b', 'b', 'b', 'b', 'b', 'd', 'd', 'd', 'd', 'd', 'd', 'd',\\n    ',', ',', ',', ',', ',', ',', ',', ',', ',', ',', ',', ',', ',', ',',\\n    ',', ',', ',', ',', ',', ',', ',', ',', ',', ',', ',', ',', ',', ',',\\n    ',', ',', ',', ',', ',', ',', ',', ',', ',', ',', ',', ',', ',', ',',\\n    ',', ',', ','))\",\n \"os.system('chapter3')\",\n \"pd.pivot_table('col', 'Credit_exp', 'y')\",\n 'np.sort(key=lambda x: x[0])',\n 'np.sort(key=lambda x: x[0])',\n 'a.append(key=lambda x: x[x])',\n 'a.concatenate(x.isnan())',\n 'a.concatenate(x.isnan())',\n 'a.concatenate(x.isnan())',\n 'a.concatenate(x.isnan())',\n 'ax.get(\\'INSERT\\', \\'Current realm=\"test\"\\')',\n \"df.fillna('column_name', how='False')\",\n \"time.exit('log')\",\n \"os.listdir('/home/username/www/')\",\n \"ax.strftime('INSERT otherfunc -0400 1:33PM', '%Y/%m/%d')\",\n 'sorted(Matrix(arr(np.arange())))',\n 'list(zip(zip(itertools.itemgetter())))',\n 'list(zip(zip(itertools.itemgetter())))',\n \"subprocess.call('grep /im', 'file2.txt', 'app_name')\",\n \"df.to_csv('column_name', 'ffill')\",\n \"re.compile('^(.+)\\\\\\\\n((?:\\\\\\\\n.+)+)', '*')\",\n \"df.sample('ijk,ikl->ijl')\",\n \"os.system('window.scrollTo(0,', '$1', 'neededArgumetGoHere')\",\n \"pd.set_index('Apple', 'American', 'class', 'section', 'section')\",\n 'len(range(range(x)))',\n 'sorted(range(range(range(my_list))))',\n \"parser.info('monkey', 'http://example.org/#comments')\",\n \"os.strip('\\\\n')\",\n \"df.fillna('A', axis='A')\",\n \"df.groupby('column_name', level='A')\",\n 'max(zip(lst))',\n 'len(pop)',\n \"os.unpack('\\\\n')\",\n \"os.unpack('\\\\n')\",\n \"os.unpack('\\\\n')\",\n \"os.unpack('\\\\n')\",\n \"my_string.translate('\\\\n')\",\n 'map(set(range(range(i))))',\n \"os.Popen('file.txt', 'file2.txt')\",\n \"numpy.join('a', '')\",\n 'sorted(list(x.items()))',\n \"plt.parse('test.csv')\",\n \"re.set_yticklabels('//*[contains(text(),', 'MyStringHere', 'â')\",\n \"re.findall('_(?:for|or|and)_', 'MyStringHere', 'â')\",\n \"re.findall('//*[contains(text(),', 'ã')\",\n \"re.findall('.{20}(.mkv)', '\\\\\\\\1')\",\n \"df.groupby('column_name', 'ffill', axis='True')\",\n \"csvwriter.writerow('name', 'name', '2')\",\n \"re.findall('11B')\",\n \"list(s.chain('\\\\\\\\'))\",\n \"sys.setlocale('utf8')\",\n \"cur.find_elements_by_xpath('grade', 'name', 'name', 'name')\",\n \"os.chdir('chapter3')\",\n \"os.chdir('chapter3')\",\n \"os.chdir('chapter3')\",\n \"df.drop('-', axis='True')\",\n 'json.sample(\"//*[@type=\\'submit\\']/@value\")',\n 'json.sample(\"//*[@type=\\'submit\\']/@value\")',\n 'json.sample(\"//*[@type=\\'submit\\']/@value\")',\n '[x for i in x if x]',\n \"re.findall('script2.py', 'D:\\\\\\\\testdir', 'name')\",\n 'print(zip(i))',\n \"re.findall('filename.png', '/r', 'app_name')\",\n \"s.lstrip('s', '', 's', 's', 's', 's', 's', 's', 's', 's', 's', 's', 's',\\n    's', 's', 's')\",\n 'zip(zip(lst))',\n 'min(zip(x))',\n \"parser.info('date=%s', 'banana')\",\n 'sorted(sorted(x.itemgetter()))',\n 'sorted(list(d.items()))',\n \"df.to_csv('column_name', 'ffill')\",\n \"re.findall('property', '', '')\",\n \"plt.mktime('...j,...j->...', 'WWW-Authenticate', '12')\",\n 'cur.mogrify(\"{\\'muffin\\'\", \\'name\\', \\'name\\', \\'name\\')',\n \"pd.get('True', '*', 'True', 'True', 'True', 'True', 'True', 'True', 'True',\\n    'True', 'True', 'True', 'True', 'True', 'True', 'True', 'True', 'True',\\n    'True', 'True', 'True', 'True', 'True', 'True', 'True', 'True', 'True',\\n    'True', 'True', 'True', 'True', 'True', 'True', 'True', 'True', 'True',\\n    'True', 'True', 'True', 'True', 'True', 'True', 'True', 'True', 'True',\\n    'True', 'True', 'True', 'True', 'True', 'True', 'True', 'True', 'True',\\n    'True', 'True', 'True', 'True', 'True', 'True', 'True', 'True', 'True',\\n    'True', None)\",\n \"driver.find_element_by_xpath('window.scrollTo(0,', 'person.name', '3.5')\",\n \"re.sub('utf-8')\",\n \"re.findall('[^a-zA-Z0-9-_*.]')\",\n \"int(s.isdigit(''))\",\n \"re.sub('\\\\\\\\b(?:b+a)+b+\\\\\\\\b', '', '')\",\n 'sorted(sorted(operator.attrgetter()))',\n \"ax.execute('INSERT', '192.168.0.58', '3.5')\",\n 'map(int(map(x)))',\n 'print(range(range(x)))',\n 'sorted(iter(iter(list(zip(zip(zip(zip(zip(v)))))))))',\n 'sorted(list(d.items()))',\n 'dict(zip(zip(list(zip(zip(zip(zip(zip(v)))))))))',\n 'dict(zip(zip(list(zip(zip(zip(zip(zip(v)))))))))',\n \"df.fillna('A', how='A')\",\n 'mydic.create_text([x])',\n \"np.set_clim('...j,...j->...', 0)\",\n \"ax.headers('%B', 'Greys_r')\",\n \"calendar.writerows('property', 0)\",\n 'int(set(range(i)))',\n 'sorted(sorted(operator.items()))',\n \"logging.read_csv('INSERT', '')\",\n 'plt.findall(\\'//*[contains(text(),\\', \\'\"\\\\\\\\1\"\\', \\'title\\')',\n \"con.exit('log')\",\n \"re.sub('')\",\n 'np.sqrt(arr)',\n \"ax.execute('INSERT INTO table +0900')\",\n \"ax.find_element_by_xpath('INSERT', 'Basic')\",\n \"s.split('s', '', '', '', ',', ',', ',', ',')\",\n \"re.compile('chapter3', 'BDE')\",\n \"re.sub('\\\\\\\\*\\\\\\\\*+', '', '')\",\n 'dict(d)',\n \"subprocess.system('HTTP/1.0')\",\n \"os.system('%Y-%m-%d -c')\",\n \"os.system('words.txt')\",\n 's.rfind().&',\n 'plt.find_elements_by_xpath(\"//*[contains(text(), \\'My Button\\')]\")',\n \"re.findall('\\\\\\\\d+(?=[^[]+$)', '*')\",\n \"re.compile('_(?:for|or|and)_', 'sad_pandas_and_happy_cats_for_people')\",\n \"datetime.call('some_command')\",\n 'sorted(zip(operator.itemgetter()))',\n \"writer.writerow('...j,...j->...', 0)\",\n \"datetime.strftime('%B')\",\n '[i for i in i]',\n \"a.a('a')\",\n \"os.Popen('grep -c', 'neededArgumetGoHere', 'stdout')\",\n 'np.concatenate(a)',\n 'None.()',\n \"re.sub('#(\\\\\\\\w+)', '<markup>\\\\\\\\1</markup>', 'this')\",\n \"re.sub(',', '', '', '')\",\n \"os.Popen('file.txt', 'file2.txt')\",\n 'sum(zip(zip(x)))',\n \"a.('a')\"]"
      ]
     },
     "execution_count": 42,
     "metadata": {},
     "output_type": "execute_result"
    }
   ],
   "source": [
    "code_list"
   ]
  },
  {
   "cell_type": "code",
   "execution_count": null,
   "metadata": {},
   "outputs": [],
   "source": []
  }
 ],
 "metadata": {
  "kernelspec": {
   "display_name": "Python [conda env:Anaconda3]",
   "language": "python",
   "name": "conda-env-Anaconda3-py"
  },
  "language_info": {
   "codemirror_mode": {
    "name": "ipython",
    "version": 3
   },
   "file_extension": ".py",
   "mimetype": "text/x-python",
   "name": "python",
   "nbconvert_exporter": "python",
   "pygments_lexer": "ipython3",
   "version": "3.6.3"
  }
 },
 "nbformat": 4,
 "nbformat_minor": 2
}
