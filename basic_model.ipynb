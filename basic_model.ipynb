{
 "cells": [
  {
   "cell_type": "code",
   "execution_count": 63,
   "metadata": {
    "collapsed": true
   },
   "outputs": [
    {
     "name": "stdout",
     "output_type": "stream",
     "text": [
      "The autoreload extension is already loaded. To reload it, use:\n  %reload_ext autoreload\n"
     ]
    }
   ],
   "source": [
    "%load_ext autoreload\n",
    "%autoreload 2"
   ]
  },
  {
   "cell_type": "code",
   "execution_count": 64,
   "metadata": {},
   "outputs": [],
   "source": [
    "import json\n",
    "import json_lines\n",
    "import preprocess_temp as P\n",
    "import model.parsers as M"
   ]
  },
  {
   "cell_type": "markdown",
   "metadata": {},
   "source": [
    "### Load Data"
   ]
  },
  {
   "cell_type": "code",
   "execution_count": 65,
   "metadata": {
    "collapsed": true
   },
   "outputs": [],
   "source": [
    "directory = './conala-corpus/'\n",
    "train_file = directory + 'train.json'\n",
    "test_file = directory + 'test.json'\n",
    "\n",
    "with open(train_file) as f:\n",
    "    train_data = json.load(f)\n",
    "    \n",
    "with open(test_file) as f:\n",
    "    test_data = json.load(f)"
   ]
  },
  {
   "cell_type": "code",
   "execution_count": 67,
   "metadata": {
    "collapsed": true
   },
   "outputs": [],
   "source": [
    "mine_file = directory + 'mined.jsonl'\n",
    "mine_data = []\n",
    "with open(mine_file) as f:\n",
    "    mine_data = [line for line in json_lines.reader(f)]"
   ]
  },
  {
   "cell_type": "markdown",
   "metadata": {},
   "source": [
    "### Let's preprocess the data. Everything is in Preprocess.py\n",
    "### Adding mined data"
   ]
  },
  {
   "cell_type": "code",
   "execution_count": 68,
   "metadata": {},
   "outputs": [
    {
     "data": {
      "text/plain": [
       "{'id': '34705205_34705233_0',\n 'intent': 'Sort a nested list by two elements',\n 'parent_answer_post_id': 34705233,\n 'prob': 0.8690001442846342,\n 'question_id': 34705205,\n 'snippet': 'sorted(l, key=lambda x: (-int(x[1]), x[0]))'}"
      ]
     },
     "execution_count": 68,
     "metadata": {},
     "output_type": "execute_result"
    }
   ],
   "source": [
    "mine_data[0]"
   ]
  },
  {
   "cell_type": "code",
   "execution_count": 69,
   "metadata": {
    "collapsed": true
   },
   "outputs": [],
   "source": [
    "# intent processing includes lowercase, remove punctuation'?'\n",
    "train_intent, train_codes = P.process_data(train_data)\n",
    "test_intent, test_codes = P.process_data(test_data)"
   ]
  },
  {
   "cell_type": "code",
   "execution_count": 70,
   "metadata": {
    "collapsed": true
   },
   "outputs": [],
   "source": [
    "mine_intent, mine_codes = P.process_data(mine_data, mine=True)"
   ]
  },
  {
   "cell_type": "code",
   "execution_count": 71,
   "metadata": {
    "collapsed": true
   },
   "outputs": [],
   "source": [
    "# this class is used for code2actions and actions2code\n",
    "ast_action = P.Ast_Action()"
   ]
  },
  {
   "cell_type": "code",
   "execution_count": 75,
   "metadata": {
    "collapsed": true
   },
   "outputs": [],
   "source": [
    "train_actions = []\n",
    "\n",
    "for code in train_codes:\n",
    "    train_actions.append(ast_action.code2actions(code))"
   ]
  },
  {
   "cell_type": "code",
   "execution_count": 77,
   "metadata": {
    "collapsed": true,
    "scrolled": true
   },
   "outputs": [],
   "source": [
    "word_lst = P.vocab_list(train_intent, cut_freq=2)\n",
    "act_lst, token_lst = P.action_list(train_actions, cut_freq=0)"
   ]
  },
  {
   "cell_type": "code",
   "execution_count": 78,
   "metadata": {
    "collapsed": true
   },
   "outputs": [],
   "source": [
    "word2num = dict(zip(word_lst, range(0,len(word_lst))))\n",
    "act2num = dict(zip(act_lst, range(0,len(act_lst))))\n",
    "token2num = dict(zip(token_lst, range(0,len(token_lst))))"
   ]
  },
  {
   "cell_type": "code",
   "execution_count": 79,
   "metadata": {
    "collapsed": true
   },
   "outputs": [],
   "source": [
    "train_loader = P.get_train_loader(train_intent, train_actions, word2num, act2num, token2num, batch_size=48)"
   ]
  },
  {
   "cell_type": "code",
   "execution_count": 108,
   "metadata": {
    "collapsed": true
   },
   "outputs": [],
   "source": [
    "test_loader = P.get_test_loader(test_intent, word2num, batch_size=1)"
   ]
  },
  {
   "cell_type": "code",
   "execution_count": 81,
   "metadata": {
    "collapsed": true
   },
   "outputs": [],
   "source": [
    "action_index_copy = act2num[P.GenTokenAction('copy')]\n",
    "action_index_gen = act2num[P.GenTokenAction('token')]"
   ]
  },
  {
   "cell_type": "markdown",
   "metadata": {},
   "source": [
    "### Model"
   ]
  },
  {
   "cell_type": "code",
   "execution_count": 82,
   "metadata": {
    "collapsed": true
   },
   "outputs": [],
   "source": [
    "import torch\n",
    "import time"
   ]
  },
  {
   "cell_type": "code",
   "execution_count": 83,
   "metadata": {
    "scrolled": true
   },
   "outputs": [],
   "source": [
    "from collections import namedtuple\n",
    "hyperParamMap = {\n",
    "    #### General configuration ####\n",
    "    'cuda': True,      # Use gpu\n",
    "    'mode': 'train',   # train or test\n",
    "\n",
    "    #### Embedding sizes ####\n",
    "    'embed_size': 128,         # Size of word embeddings\n",
    "    'action_embed_size': 128,  # Size of ApplyRule/GenToken action embeddings\n",
    "    'field_embed_size': 64,    # Embedding size of ASDL fields\n",
    "    'type_embed_size': 64,     # Embeddings ASDL types\n",
    "\n",
    "    #### Decoding sizes ####\n",
    "    'hidden_size': 256,        # Size of LSTM hidden states\n",
    "\n",
    "    #### training schedule details ####\n",
    "    'valid_metric': 'acc',                # Metric used for validation\n",
    "    'valid_every_epoch': 1,               # Perform validation every x epoch\n",
    "    'log_every': 10,                      # Log training statistics every n iterations\n",
    "    'save_to': 'model',                   # Save trained model to\n",
    "    'clip_grad': 5.,                      # Clip gradients\n",
    "    'max_epoch': 10,                      # Maximum number of training epoches\n",
    "    'optimizer': 'Adam',                  # optimizer\n",
    "    'lr': 0.001,                          # Learning rate\n",
    "    'lr_decay': 0.5,                      # decay learning rate if the validation performance drops\n",
    "    'verbose': False,                     # Verbose mode\n",
    "\n",
    "    #### decoding/validation/testing ####\n",
    "    'load_model': None,                   # Load a pre-trained model\n",
    "    'beam_size': 1,                       # Beam size for beam search\n",
    "    'decode_max_time_step': 100,          # Maximum number of time steps used in decoding and sampling\n",
    "    'sample_size': 5,                     # Sample size\n",
    "    'test_file': '',                      # Path to the test file\n",
    "    'save_decode_to': None,               # Save decoding results to file\n",
    "}\n",
    "\n",
    "HyperParams = namedtuple('HyperParams', list(hyperParamMap.keys()), verbose=False)\n",
    "hyperParams = HyperParams(**hyperParamMap)"
   ]
  },
  {
   "cell_type": "code",
   "execution_count": 84,
   "metadata": {
    "collapsed": true
   },
   "outputs": [],
   "source": [
    "model = M.Model(hyperParams, action_size=len(act_lst), token_size=len(token_lst), word_size=len(word_lst), \n",
    "                      action_index_copy=action_index_copy, action_index_gen=action_index_gen)"
   ]
  },
  {
   "cell_type": "code",
   "execution_count": 85,
   "metadata": {
    "collapsed": true
   },
   "outputs": [],
   "source": [
    "optimizer = torch.optim.Adam(model.parameters(), lr = 1e-3)\n",
    "lossFunc = torch.nn.CrossEntropyLoss()"
   ]
  },
  {
   "cell_type": "code",
   "execution_count": 103,
   "metadata": {
    "scrolled": true,
    "collapsed": true
   },
   "outputs": [
    {
     "name": "stdout",
     "output_type": "stream",
     "text": [
      "--------------------------epoch 0 batch 9-----------------------------\nAction loss: 0.2744177109969296\nCopy loss: 1.516951560974121\nToken loss: 1.560115098953247\n"
     ]
    },
    {
     "name": "stdout",
     "output_type": "stream",
     "text": [
      "--------------------------epoch 0 batch 19-----------------------------\nAction loss: 0.36408076626704355\nCopy loss: 1.7325929403305054\nToken loss: 1.5815476179122925\n"
     ]
    },
    {
     "name": "stdout",
     "output_type": "stream",
     "text": [
      "--------------------------epoch 0 batch 29-----------------------------\nAction loss: 0.3117624012652552\nCopy loss: 1.6275923252105713\nToken loss: 1.5526243448257446\n"
     ]
    },
    {
     "name": "stdout",
     "output_type": "stream",
     "text": [
      "--------------------------epoch 0 batch 39-----------------------------\nAction loss: 0.2580236762237825\nCopy loss: 1.7134811878204346\nToken loss: 1.5814095735549927\n"
     ]
    },
    {
     "name": "stdout",
     "output_type": "stream",
     "text": [
      "--------------------------epoch 0 batch 49-----------------------------\nAction loss: 0.33341637713412564\nCopy loss: 1.6383650302886963\nToken loss: 1.7174134254455566\nepoch elapsed 100s\n"
     ]
    },
    {
     "name": "stdout",
     "output_type": "stream",
     "text": [
      "--------------------------epoch 1 batch 9-----------------------------\nAction loss: 0.3064362258994851\nCopy loss: 1.5143793821334839\nToken loss: 1.489553451538086\n"
     ]
    },
    {
     "name": "stdout",
     "output_type": "stream",
     "text": [
      "--------------------------epoch 1 batch 19-----------------------------\nAction loss: 0.3604049203423616\nCopy loss: 1.6632486581802368\nToken loss: 1.275572657585144\n"
     ]
    },
    {
     "name": "stdout",
     "output_type": "stream",
     "text": [
      "--------------------------epoch 1 batch 29-----------------------------\nAction loss: 0.330420365841447\nCopy loss: 1.64312744140625\nToken loss: 1.4254426956176758\n"
     ]
    },
    {
     "name": "stdout",
     "output_type": "stream",
     "text": [
      "--------------------------epoch 1 batch 39-----------------------------\nAction loss: 0.32744968354096593\nCopy loss: 1.7483370304107666\nToken loss: 1.4040729999542236\n"
     ]
    },
    {
     "name": "stdout",
     "output_type": "stream",
     "text": [
      "--------------------------epoch 1 batch 49-----------------------------\nAction loss: 0.5022539911481939\nCopy loss: 1.9018476009368896\nToken loss: 1.6445262432098389\nepoch elapsed 198s\n"
     ]
    },
    {
     "name": "stdout",
     "output_type": "stream",
     "text": [
      "--------------------------epoch 2 batch 9-----------------------------\nAction loss: 0.376102503096393\nCopy loss: 1.6357996463775635\nToken loss: 1.3049951791763306\n"
     ]
    },
    {
     "name": "stdout",
     "output_type": "stream",
     "text": [
      "--------------------------epoch 2 batch 19-----------------------------\nAction loss: 0.30106629144686625\nCopy loss: 1.5847290754318237\nToken loss: 1.2093276977539062\n"
     ]
    },
    {
     "name": "stdout",
     "output_type": "stream",
     "text": [
      "--------------------------epoch 2 batch 29-----------------------------\nAction loss: 0.31862047789606984\nCopy loss: 1.6323175430297852\nToken loss: 1.3033993244171143\n"
     ]
    },
    {
     "name": "stdout",
     "output_type": "stream",
     "text": [
      "--------------------------epoch 2 batch 39-----------------------------\nAction loss: 0.3308888709592992\nCopy loss: 1.7048916816711426\nToken loss: 1.4950791597366333\n"
     ]
    },
    {
     "name": "stdout",
     "output_type": "stream",
     "text": [
      "--------------------------epoch 2 batch 49-----------------------------\nAction loss: 0.2987712770152866\nCopy loss: 1.754300594329834\nToken loss: 1.3707823753356934\nepoch elapsed 301s\n"
     ]
    },
    {
     "name": "stdout",
     "output_type": "stream",
     "text": [
      "--------------------------epoch 3 batch 9-----------------------------\nAction loss: 0.30542941462636664\nCopy loss: 1.6205672025680542\nToken loss: 1.1055381298065186\n"
     ]
    },
    {
     "name": "stdout",
     "output_type": "stream",
     "text": [
      "--------------------------epoch 3 batch 19-----------------------------\nAction loss: 0.3575975656135332\nCopy loss: 1.7764919996261597\nToken loss: 1.21116304397583\n"
     ]
    },
    {
     "name": "stdout",
     "output_type": "stream",
     "text": [
      "--------------------------epoch 3 batch 29-----------------------------\nAction loss: 0.36991653682304354\nCopy loss: 1.8369017839431763\nToken loss: 1.2262699604034424\n"
     ]
    },
    {
     "name": "stdout",
     "output_type": "stream",
     "text": [
      "--------------------------epoch 3 batch 39-----------------------------\nAction loss: 0.2297124632111722\nCopy loss: 1.8514398336410522\nToken loss: 1.1938847303390503\n"
     ]
    },
    {
     "name": "stdout",
     "output_type": "stream",
     "text": [
      "--------------------------epoch 3 batch 49-----------------------------\nAction loss: 0.39081006169727517\nCopy loss: 1.507621169090271\nToken loss: 1.1139940023422241\nepoch elapsed 401s\n"
     ]
    },
    {
     "name": "stdout",
     "output_type": "stream",
     "text": [
      "--------------------------epoch 4 batch 9-----------------------------\nAction loss: 0.2892734617928179\nCopy loss: 1.6696181297302246\nToken loss: 0.9388017058372498\n"
     ]
    },
    {
     "name": "stdout",
     "output_type": "stream",
     "text": [
      "--------------------------epoch 4 batch 19-----------------------------\nAction loss: 0.27171250667010716\nCopy loss: 1.488938808441162\nToken loss: 1.2463133335113525\n"
     ]
    },
    {
     "name": "stdout",
     "output_type": "stream",
     "text": [
      "--------------------------epoch 4 batch 29-----------------------------\nAction loss: 0.3075152059306814\nCopy loss: 1.6366199254989624\nToken loss: 1.1180565357208252\n"
     ]
    },
    {
     "name": "stdout",
     "output_type": "stream",
     "text": [
      "--------------------------epoch 4 batch 39-----------------------------\nAction loss: 0.2592320322018264\nCopy loss: 1.8158730268478394\nToken loss: 1.2072416543960571\n"
     ]
    },
    {
     "name": "stdout",
     "output_type": "stream",
     "text": [
      "--------------------------epoch 4 batch 49-----------------------------\nAction loss: 0.34891948669243866\nCopy loss: 1.7336310148239136\nToken loss: 1.3034664392471313\nepoch elapsed 499s\n"
     ]
    },
    {
     "name": "stdout",
     "output_type": "stream",
     "text": [
      "--------------------------epoch 5 batch 9-----------------------------\nAction loss: 0.2789872299233222\nCopy loss: 1.6399880647659302\nToken loss: 0.8070312738418579\n"
     ]
    },
    {
     "name": "stdout",
     "output_type": "stream",
     "text": [
      "--------------------------epoch 5 batch 19-----------------------------\nAction loss: 0.2450116411231449\nCopy loss: 1.5568562746047974\nToken loss: 0.8976829648017883\n"
     ]
    },
    {
     "name": "stdout",
     "output_type": "stream",
     "text": [
      "--------------------------epoch 5 batch 29-----------------------------\nAction loss: 0.3538025219485056\nCopy loss: 1.8563343286514282\nToken loss: 0.982284665107727\n"
     ]
    },
    {
     "name": "stdout",
     "output_type": "stream",
     "text": [
      "--------------------------epoch 5 batch 39-----------------------------\nAction loss: 0.3983486740260433\nCopy loss: 1.7285747528076172\nToken loss: 1.194429636001587\n"
     ]
    },
    {
     "name": "stdout",
     "output_type": "stream",
     "text": [
      "--------------------------epoch 5 batch 49-----------------------------\nAction loss: 0.3018977015804935\nCopy loss: 1.5872987508773804\nToken loss: 0.9791032075881958\nepoch elapsed 599s\n"
     ]
    },
    {
     "name": "stdout",
     "output_type": "stream",
     "text": [
      "--------------------------epoch 6 batch 9-----------------------------\nAction loss: 0.3002635848073913\nCopy loss: 1.7234015464782715\nToken loss: 0.8794276714324951\n"
     ]
    },
    {
     "name": "stdout",
     "output_type": "stream",
     "text": [
      "--------------------------epoch 6 batch 19-----------------------------\nAction loss: 0.3392564007573188\nCopy loss: 1.5557430982589722\nToken loss: 0.8542779088020325\n"
     ]
    },
    {
     "name": "stdout",
     "output_type": "stream",
     "text": [
      "--------------------------epoch 6 batch 29-----------------------------\nAction loss: 0.32842646727811486\nCopy loss: 1.4033204317092896\nToken loss: 0.9017598628997803\n"
     ]
    },
    {
     "name": "stdout",
     "output_type": "stream",
     "text": [
      "--------------------------epoch 6 batch 39-----------------------------\nAction loss: 0.2659395187420852\nCopy loss: 1.7309370040893555\nToken loss: 0.9492238163948059\n"
     ]
    },
    {
     "name": "stdout",
     "output_type": "stream",
     "text": [
      "--------------------------epoch 6 batch 49-----------------------------\nAction loss: 0.4466937292884114\nCopy loss: 1.6411672830581665\nToken loss: 0.8678947687149048\nepoch elapsed 695s\n"
     ]
    },
    {
     "name": "stdout",
     "output_type": "stream",
     "text": [
      "--------------------------epoch 7 batch 9-----------------------------\nAction loss: 0.33691927419597684\nCopy loss: 1.5990588665008545\nToken loss: 0.7169723510742188\n"
     ]
    },
    {
     "name": "stdout",
     "output_type": "stream",
     "text": [
      "--------------------------epoch 7 batch 19-----------------------------\nAction loss: 0.27155659665437537\nCopy loss: 1.339073896408081\nToken loss: 0.7629060745239258\n"
     ]
    },
    {
     "name": "stdout",
     "output_type": "stream",
     "text": [
      "--------------------------epoch 7 batch 29-----------------------------\nAction loss: 0.31005029744395624\nCopy loss: 1.6809741258621216\nToken loss: 0.7759092450141907\n"
     ]
    },
    {
     "name": "stdout",
     "output_type": "stream",
     "text": [
      "--------------------------epoch 7 batch 39-----------------------------\nAction loss: 0.3321734084995204\nCopy loss: 1.6711399555206299\nToken loss: 0.8589382767677307\n"
     ]
    },
    {
     "name": "stdout",
     "output_type": "stream",
     "text": [
      "--------------------------epoch 7 batch 49-----------------------------\nAction loss: 0.36996231742292507\nCopy loss: 1.6980434656143188\nToken loss: 0.8561928272247314\nepoch elapsed 797s\n"
     ]
    },
    {
     "ename": "KeyboardInterrupt",
     "evalue": "",
     "traceback": [
      "\u001b[0;31m---------------------------------------------------------------------------\u001b[0m",
      "\u001b[0;31mKeyboardInterrupt\u001b[0m                         Traceback (most recent call last)",
      "\u001b[0;32m<ipython-input-103-2f0eae5152d2>\u001b[0m in \u001b[0;36m<module>\u001b[0;34m()\u001b[0m\n\u001b[1;32m      4\u001b[0m         \u001b[0moptimizer\u001b[0m\u001b[0;34m.\u001b[0m\u001b[0mzero_grad\u001b[0m\u001b[0;34m(\u001b[0m\u001b[0;34m)\u001b[0m\u001b[0;34m\u001b[0m\u001b[0m\n\u001b[1;32m      5\u001b[0m \u001b[0;34m\u001b[0m\u001b[0m\n\u001b[0;32m----> 6\u001b[0;31m         \u001b[0;34m(\u001b[0m\u001b[0maction_logits\u001b[0m\u001b[0;34m,\u001b[0m \u001b[0maction_labels\u001b[0m\u001b[0;34m)\u001b[0m\u001b[0;34m,\u001b[0m \u001b[0;34m(\u001b[0m\u001b[0mcopy_logits\u001b[0m\u001b[0;34m,\u001b[0m \u001b[0mcopy_labels\u001b[0m\u001b[0;34m)\u001b[0m\u001b[0;34m,\u001b[0m \u001b[0;34m(\u001b[0m\u001b[0mtoken_logits\u001b[0m\u001b[0;34m,\u001b[0m \u001b[0mtoken_labels\u001b[0m\u001b[0;34m)\u001b[0m \u001b[0;34m=\u001b[0m \u001b[0mmodel\u001b[0m\u001b[0;34m(\u001b[0m\u001b[0mx\u001b[0m\u001b[0;34m)\u001b[0m\u001b[0;34m\u001b[0m\u001b[0m\n\u001b[0m\u001b[1;32m      7\u001b[0m \u001b[0;34m\u001b[0m\u001b[0m\n\u001b[1;32m      8\u001b[0m         \u001b[0mloss1\u001b[0m \u001b[0;34m=\u001b[0m \u001b[0mlossFunc\u001b[0m\u001b[0;34m(\u001b[0m\u001b[0maction_logits\u001b[0m\u001b[0;34m,\u001b[0m \u001b[0maction_labels\u001b[0m\u001b[0;34m)\u001b[0m\u001b[0;34m\u001b[0m\u001b[0m\n",
      "\u001b[0;32m/anaconda3/lib/python3.6/site-packages/torch/nn/modules/module.py\u001b[0m in \u001b[0;36m__call__\u001b[0;34m(self, *input, **kwargs)\u001b[0m\n\u001b[1;32m    487\u001b[0m             \u001b[0mresult\u001b[0m \u001b[0;34m=\u001b[0m \u001b[0mself\u001b[0m\u001b[0;34m.\u001b[0m\u001b[0m_slow_forward\u001b[0m\u001b[0;34m(\u001b[0m\u001b[0;34m*\u001b[0m\u001b[0minput\u001b[0m\u001b[0;34m,\u001b[0m \u001b[0;34m**\u001b[0m\u001b[0mkwargs\u001b[0m\u001b[0;34m)\u001b[0m\u001b[0;34m\u001b[0m\u001b[0m\n\u001b[1;32m    488\u001b[0m         \u001b[0;32melse\u001b[0m\u001b[0;34m:\u001b[0m\u001b[0;34m\u001b[0m\u001b[0m\n\u001b[0;32m--> 489\u001b[0;31m             \u001b[0mresult\u001b[0m \u001b[0;34m=\u001b[0m \u001b[0mself\u001b[0m\u001b[0;34m.\u001b[0m\u001b[0mforward\u001b[0m\u001b[0;34m(\u001b[0m\u001b[0;34m*\u001b[0m\u001b[0minput\u001b[0m\u001b[0;34m,\u001b[0m \u001b[0;34m**\u001b[0m\u001b[0mkwargs\u001b[0m\u001b[0;34m)\u001b[0m\u001b[0;34m\u001b[0m\u001b[0m\n\u001b[0m\u001b[1;32m    490\u001b[0m         \u001b[0;32mfor\u001b[0m \u001b[0mhook\u001b[0m \u001b[0;32min\u001b[0m \u001b[0mself\u001b[0m\u001b[0;34m.\u001b[0m\u001b[0m_forward_hooks\u001b[0m\u001b[0;34m.\u001b[0m\u001b[0mvalues\u001b[0m\u001b[0;34m(\u001b[0m\u001b[0;34m)\u001b[0m\u001b[0;34m:\u001b[0m\u001b[0;34m\u001b[0m\u001b[0m\n\u001b[1;32m    491\u001b[0m             \u001b[0mhook_result\u001b[0m \u001b[0;34m=\u001b[0m \u001b[0mhook\u001b[0m\u001b[0;34m(\u001b[0m\u001b[0mself\u001b[0m\u001b[0;34m,\u001b[0m \u001b[0minput\u001b[0m\u001b[0;34m,\u001b[0m \u001b[0mresult\u001b[0m\u001b[0;34m)\u001b[0m\u001b[0;34m\u001b[0m\u001b[0m\n",
      "\u001b[0;32m~/Desktop/MSIN/11747-nnNLP/codeGenerator/CoNaLa/model/parsers.py\u001b[0m in \u001b[0;36mforward\u001b[0;34m(self, x)\u001b[0m\n\u001b[1;32m    302\u001b[0m         \u001b[0msentence_encoding\u001b[0m\u001b[0;34m,\u001b[0m \u001b[0mbatch_lens\u001b[0m\u001b[0;34m,\u001b[0m \u001b[0mhidden\u001b[0m \u001b[0;34m=\u001b[0m \u001b[0mself\u001b[0m\u001b[0;34m.\u001b[0m\u001b[0mencoder\u001b[0m\u001b[0;34m(\u001b[0m\u001b[0mintent\u001b[0m\u001b[0;34m)\u001b[0m\u001b[0;34m\u001b[0m\u001b[0m\n\u001b[1;32m    303\u001b[0m         return self.decoder.decode(batch_act_infos, hidden, sentence_encoding, self.action_index_copy,\n\u001b[0;32m--> 304\u001b[0;31m                                    self.action_index_gen, batch_lens)\n\u001b[0m\u001b[1;32m    305\u001b[0m \u001b[0;34m\u001b[0m\u001b[0m\n\u001b[1;32m    306\u001b[0m     \u001b[0;32mdef\u001b[0m \u001b[0mparse\u001b[0m\u001b[0;34m(\u001b[0m\u001b[0mself\u001b[0m\u001b[0;34m,\u001b[0m \u001b[0mintent\u001b[0m\u001b[0;34m,\u001b[0m \u001b[0mintent_texts\u001b[0m\u001b[0;34m,\u001b[0m \u001b[0mact_lst\u001b[0m\u001b[0;34m,\u001b[0m \u001b[0mtoken_lst\u001b[0m\u001b[0;34m,\u001b[0m \u001b[0mast_action\u001b[0m\u001b[0;34m)\u001b[0m\u001b[0;34m:\u001b[0m\u001b[0;34m\u001b[0m\u001b[0m\n",
      "\u001b[0;32m~/Desktop/MSIN/11747-nnNLP/codeGenerator/CoNaLa/model/parsers.py\u001b[0m in \u001b[0;36mdecode\u001b[0;34m(self, batch_act_infos, encoder_hidden, sentence_encoding, action_index_copy, action_index_gen, batch_lens)\u001b[0m\n\u001b[1;32m    201\u001b[0m         \u001b[0;32mreturn\u001b[0m \u001b[0;34m(\u001b[0m\u001b[0mlogits_action_type\u001b[0m\u001b[0;34m.\u001b[0m\u001b[0mview\u001b[0m\u001b[0;34m(\u001b[0m\u001b[0mbatch_size\u001b[0m \u001b[0;34m*\u001b[0m \u001b[0mlength\u001b[0m\u001b[0;34m,\u001b[0m \u001b[0;34m-\u001b[0m\u001b[0;36m1\u001b[0m\u001b[0;34m)\u001b[0m\u001b[0;34m,\u001b[0m \u001b[0mpadded_actions\u001b[0m\u001b[0;34m.\u001b[0m\u001b[0mview\u001b[0m\u001b[0;34m(\u001b[0m\u001b[0;34m-\u001b[0m\u001b[0;36m1\u001b[0m\u001b[0;34m)\u001b[0m\u001b[0;34m)\u001b[0m\u001b[0;34m,\u001b[0m\u001b[0;31m \u001b[0m\u001b[0;31m\\\u001b[0m\u001b[0;34m\u001b[0m\u001b[0m\n\u001b[1;32m    202\u001b[0m                \u001b[0;34m(\u001b[0m\u001b[0mtorch\u001b[0m\u001b[0;34m.\u001b[0m\u001b[0mstack\u001b[0m\u001b[0;34m(\u001b[0m\u001b[0mlogits_copy_list\u001b[0m\u001b[0;34m)\u001b[0m\u001b[0;34m,\u001b[0m \u001b[0mtorch\u001b[0m\u001b[0;34m.\u001b[0m\u001b[0mLongTensor\u001b[0m\u001b[0;34m(\u001b[0m\u001b[0mtgt_copy_list\u001b[0m\u001b[0;34m)\u001b[0m\u001b[0;34m)\u001b[0m\u001b[0;34m,\u001b[0m\u001b[0;31m \u001b[0m\u001b[0;31m\\\u001b[0m\u001b[0;34m\u001b[0m\u001b[0m\n\u001b[0;32m--> 203\u001b[0;31m                \u001b[0;34m(\u001b[0m\u001b[0mtorch\u001b[0m\u001b[0;34m.\u001b[0m\u001b[0mstack\u001b[0m\u001b[0;34m(\u001b[0m\u001b[0mlogits_gen_list\u001b[0m\u001b[0;34m)\u001b[0m\u001b[0;34m,\u001b[0m \u001b[0mtorch\u001b[0m\u001b[0;34m.\u001b[0m\u001b[0mLongTensor\u001b[0m\u001b[0;34m(\u001b[0m\u001b[0mtgt_gen_list\u001b[0m\u001b[0;34m)\u001b[0m\u001b[0;34m)\u001b[0m\u001b[0;34m\u001b[0m\u001b[0m\n\u001b[0m\u001b[1;32m    204\u001b[0m \u001b[0;34m\u001b[0m\u001b[0m\n\u001b[1;32m    205\u001b[0m     def decode_evaluate(self, intent, intent_text, encoder_hidden, sentence_encoding, action_index_copy, \n",
      "\u001b[0;31mKeyboardInterrupt\u001b[0m: "
     ],
     "output_type": "error"
    }
   ],
   "source": [
    "model.train()\n",
    "epoch_begin = time.time()\n",
    "for e in range(20):\n",
    "    for batch_ind, x in enumerate(train_loader):\n",
    "        optimizer.zero_grad()\n",
    "\n",
    "        (action_logits, action_labels), (copy_logits, copy_labels), (token_logits, token_labels) = model(x)\n",
    "\n",
    "        loss1 = lossFunc(action_logits, action_labels)\n",
    "        loss2 = torch.DoubleTensor([0.0])\n",
    "        if len(copy_logits) > 0:\n",
    "            loss2 = lossFunc(copy_logits, copy_labels)\n",
    "        loss3 = torch.DoubleTensor([0.0])\n",
    "        if len(token_logits) > 0:\n",
    "            loss3 = lossFunc(token_logits, token_labels)\n",
    "\n",
    "        total_loss = loss1 + loss2.double() + loss3.double()\n",
    "        total_loss.backward()\n",
    "\n",
    "        # clip gradient\n",
    "        if hyperParams.clip_grad > 0.:\n",
    "            grad_norm = torch.nn.utils.clip_grad_norm_(model.parameters(), hyperParams.clip_grad)\n",
    "\n",
    "        optimizer.step()\n",
    "\n",
    "        if batch_ind % hyperParams.log_every == hyperParams.log_every - 1:\n",
    "            print('--------------------------epoch {} batch {}-----------------------------'.format(e, batch_ind))\n",
    "            print(\"Action loss: {}\".format(loss1.data))\n",
    "            print(\"Copy loss: {}\".format(loss2.data))\n",
    "            print(\"Token loss: {}\".format(loss3.data))\n",
    "            report_loss = report_examples = 0.\n",
    "\n",
    "    print('epoch elapsed %ds' % (time.time() - epoch_begin))"
   ]
  },
  {
   "cell_type": "code",
   "execution_count": 117,
   "metadata": {},
   "outputs": [],
   "source": [
    "torch.save((model).state_dict(), 'Parameters/cut_2_0_v1.t7')"
   ]
  },
  {
   "cell_type": "code",
   "execution_count": 53,
   "metadata": {
    "collapsed": true
   },
   "outputs": [],
   "source": [
    "model.load_state_dict(torch.load('Parameters/frist.t7'))"
   ]
  },
  {
   "cell_type": "code",
   "execution_count": 118,
   "metadata": {
    "collapsed": true
   },
   "outputs": [
    {
     "name": "stdout",
     "output_type": "stream",
     "text": [
      "[tensor([ 11,   4,   2,  14, 119,  12,   4,   2,   7])]\n[['convert', 'list', 'of', 'string', 'numbers', 'into', 'list', 'of', 'integers']]\n[ApplyRule[stmt -> Expr(expr value)]]\n[ApplyRule[stmt -> Expr(expr value)], ApplyRule[expr -> Call(expr func, expr* args, keyword* keywords)]]\n[ApplyRule[stmt -> Expr(expr value)], ApplyRule[expr -> Call(expr func, expr* args, keyword* keywords)], ApplyRule[expr -> Name(identifier id)]]\n[ApplyRule[stmt -> Expr(expr value)], ApplyRule[expr -> Call(expr func, expr* args, keyword* keywords)], ApplyRule[expr -> Name(identifier id)], GenToken[map]]\n[ApplyRule[stmt -> Expr(expr value)], ApplyRule[expr -> Call(expr func, expr* args, keyword* keywords)], ApplyRule[expr -> Name(identifier id)], GenToken[map], ApplyRule[expr -> Call(expr func, expr* args, keyword* keywords)]]\n[ApplyRule[stmt -> Expr(expr value)], ApplyRule[expr -> Call(expr func, expr* args, keyword* keywords)], ApplyRule[expr -> Name(identifier id)], GenToken[map], ApplyRule[expr -> Call(expr func, expr* args, keyword* keywords)], ApplyRule[expr -> Name(identifier id)]]\n[ApplyRule[stmt -> Expr(expr value)], ApplyRule[expr -> Call(expr func, expr* args, keyword* keywords)], ApplyRule[expr -> Name(identifier id)], GenToken[map], ApplyRule[expr -> Call(expr func, expr* args, keyword* keywords)], ApplyRule[expr -> Name(identifier id)], GenToken[map]]\n[ApplyRule[stmt -> Expr(expr value)], ApplyRule[expr -> Call(expr func, expr* args, keyword* keywords)], ApplyRule[expr -> Name(identifier id)], GenToken[map], ApplyRule[expr -> Call(expr func, expr* args, keyword* keywords)], ApplyRule[expr -> Name(identifier id)], GenToken[map], ApplyRule[expr -> Str(string s)]]\n[ApplyRule[stmt -> Expr(expr value)], ApplyRule[expr -> Call(expr func, expr* args, keyword* keywords)], ApplyRule[expr -> Name(identifier id)], GenToken[map], ApplyRule[expr -> Call(expr func, expr* args, keyword* keywords)], ApplyRule[expr -> Name(identifier id)], GenToken[map], ApplyRule[expr -> Str(string s)], GenToken[,]]\n[ApplyRule[stmt -> Expr(expr value)], ApplyRule[expr -> Call(expr func, expr* args, keyword* keywords)], ApplyRule[expr -> Name(identifier id)], GenToken[map], ApplyRule[expr -> Call(expr func, expr* args, keyword* keywords)], ApplyRule[expr -> Name(identifier id)], GenToken[map], ApplyRule[expr -> Str(string s)], GenToken[,], GenToken[</primitive>]]\n[ApplyRule[stmt -> Expr(expr value)], ApplyRule[expr -> Call(expr func, expr* args, keyword* keywords)], ApplyRule[expr -> Name(identifier id)], GenToken[map], ApplyRule[expr -> Call(expr func, expr* args, keyword* keywords)], ApplyRule[expr -> Name(identifier id)], GenToken[map], ApplyRule[expr -> Str(string s)], GenToken[,], GenToken[</primitive>], ApplyRule[expr -> Str(string s)]]\n[ApplyRule[stmt -> Expr(expr value)], ApplyRule[expr -> Call(expr func, expr* args, keyword* keywords)], ApplyRule[expr -> Name(identifier id)], GenToken[map], ApplyRule[expr -> Call(expr func, expr* args, keyword* keywords)], ApplyRule[expr -> Name(identifier id)], GenToken[map], ApplyRule[expr -> Str(string s)], GenToken[,], GenToken[</primitive>], ApplyRule[expr -> Str(string s)], GenToken[]]\n[ApplyRule[stmt -> Expr(expr value)], ApplyRule[expr -> Call(expr func, expr* args, keyword* keywords)], ApplyRule[expr -> Name(identifier id)], GenToken[map], ApplyRule[expr -> Call(expr func, expr* args, keyword* keywords)], ApplyRule[expr -> Name(identifier id)], GenToken[map], ApplyRule[expr -> Str(string s)], GenToken[,], GenToken[</primitive>], ApplyRule[expr -> Str(string s)], GenToken[], GenToken[</primitive>]]\n[ApplyRule[stmt -> Expr(expr value)], ApplyRule[expr -> Call(expr func, expr* args, keyword* keywords)], ApplyRule[expr -> Name(identifier id)], GenToken[map], ApplyRule[expr -> Call(expr func, expr* args, keyword* keywords)], ApplyRule[expr -> Name(identifier id)], GenToken[map], ApplyRule[expr -> Str(string s)], GenToken[,], GenToken[</primitive>], ApplyRule[expr -> Str(string s)], GenToken[], GenToken[</primitive>], ApplyRule[expr -> Str(string s)]]\n[ApplyRule[stmt -> Expr(expr value)], ApplyRule[expr -> Call(expr func, expr* args, keyword* keywords)], ApplyRule[expr -> Name(identifier id)], GenToken[map], ApplyRule[expr -> Call(expr func, expr* args, keyword* keywords)], ApplyRule[expr -> Name(identifier id)], GenToken[map], ApplyRule[expr -> Str(string s)], GenToken[,], GenToken[</primitive>], ApplyRule[expr -> Str(string s)], GenToken[], GenToken[</primitive>], ApplyRule[expr -> Str(string s)], GenToken[]]\n[ApplyRule[stmt -> Expr(expr value)], ApplyRule[expr -> Call(expr func, expr* args, keyword* keywords)], ApplyRule[expr -> Name(identifier id)], GenToken[map], ApplyRule[expr -> Call(expr func, expr* args, keyword* keywords)], ApplyRule[expr -> Name(identifier id)], GenToken[map], ApplyRule[expr -> Str(string s)], GenToken[,], GenToken[</primitive>], ApplyRule[expr -> Str(string s)], GenToken[], GenToken[</primitive>], ApplyRule[expr -> Str(string s)], GenToken[], GenToken[</primitive>]]\n[ApplyRule[stmt -> Expr(expr value)], ApplyRule[expr -> Call(expr func, expr* args, keyword* keywords)], ApplyRule[expr -> Name(identifier id)], GenToken[map], ApplyRule[expr -> Call(expr func, expr* args, keyword* keywords)], ApplyRule[expr -> Name(identifier id)], GenToken[map], ApplyRule[expr -> Str(string s)], GenToken[,], GenToken[</primitive>], ApplyRule[expr -> Str(string s)], GenToken[], GenToken[</primitive>], ApplyRule[expr -> Str(string s)], GenToken[], GenToken[</primitive>], Reduce]\n[ApplyRule[stmt -> Expr(expr value)], ApplyRule[expr -> Call(expr func, expr* args, keyword* keywords)], ApplyRule[expr -> Name(identifier id)], GenToken[map], ApplyRule[expr -> Call(expr func, expr* args, keyword* keywords)], ApplyRule[expr -> Name(identifier id)], GenToken[map], ApplyRule[expr -> Str(string s)], GenToken[,], GenToken[</primitive>], ApplyRule[expr -> Str(string s)], GenToken[], GenToken[</primitive>], ApplyRule[expr -> Str(string s)], GenToken[], GenToken[</primitive>], Reduce, Reduce]\n[ApplyRule[stmt -> Expr(expr value)], ApplyRule[expr -> Call(expr func, expr* args, keyword* keywords)], ApplyRule[expr -> Name(identifier id)], GenToken[map], ApplyRule[expr -> Call(expr func, expr* args, keyword* keywords)], ApplyRule[expr -> Name(identifier id)], GenToken[map], ApplyRule[expr -> Str(string s)], GenToken[,], GenToken[</primitive>], ApplyRule[expr -> Str(string s)], GenToken[], GenToken[</primitive>], ApplyRule[expr -> Str(string s)], GenToken[], GenToken[</primitive>], Reduce, Reduce, Reduce]\n[ApplyRule[stmt -> Expr(expr value)], ApplyRule[expr -> Call(expr func, expr* args, keyword* keywords)], ApplyRule[expr -> Name(identifier id)], GenToken[map], ApplyRule[expr -> Call(expr func, expr* args, keyword* keywords)], ApplyRule[expr -> Name(identifier id)], GenToken[map], ApplyRule[expr -> Str(string s)], GenToken[,], GenToken[</primitive>], ApplyRule[expr -> Str(string s)], GenToken[], GenToken[</primitive>], ApplyRule[expr -> Str(string s)], GenToken[], GenToken[</primitive>], Reduce, Reduce, Reduce, Reduce]\n"
     ]
    },
    {
     "data": {
      "text/plain": [
       "\"map(map(',', '', ''))\""
      ]
     },
     "execution_count": 118,
     "metadata": {},
     "output_type": "execute_result"
    }
   ],
   "source": [
    "sample_sent, sample_sent_txt = next(iter(test_loader))\n",
    "print(sample_sent)\n",
    "print(sample_sent_txt)\n",
    "sample_hypothesis = model.parse(sample_sent, sample_sent_txt, act_lst, token_lst, ast_action)\n",
    "ast_action.actions2code(sample_hypothesis.actions)"
   ]
  },
  {
   "cell_type": "code",
   "execution_count": 149,
   "metadata": {},
   "outputs": [
    {
     "name": "stdout",
     "output_type": "stream",
     "text": [
      "[tensor([991, 557, 156, 418,  51, 111, 992, 189,  25,  60])]\n[['Can', 'I', 'sort', 'text', 'by', 'its', 'numeric', 'value', 'in', 'Python']]\ncopy_logits size torch.Size([10])\ncopy_ind 2\n"
     ]
    },
    {
     "data": {
      "text/plain": [
       "\"mylist.sort('test.csv', **'b')\""
      ]
     },
     "execution_count": 149,
     "metadata": {},
     "output_type": "execute_result"
    }
   ],
   "source": [
    "my_t_train_loader = P.get_test_loader(train_intent, word2num, batch_size=1)\n",
    "sample_sent, sample_sent_txt = next(iter(my_t_train_loader))\n",
    "print(sample_sent)\n",
    "print(sample_sent_txt)\n",
    "sample_hypothesis = model.parse(sample_sent, sample_sent_txt, act_lst, token_lst, ast_action)\n",
    "ast_action.actions2code(sample_hypothesis.actions)"
   ]
  },
  {
   "cell_type": "code",
   "execution_count": 161,
   "metadata": {
    "collapsed": true
   },
   "outputs": [
    {
     "name": "stdout",
     "output_type": "stream",
     "text": [
      "[ApplyRule[stmt -> Expr(expr value)], ApplyRule[expr -> Call(expr func, expr* args, keyword* keywords)], ApplyRule[expr -> Name(identifier id)], GenToken[any], ApplyRule[expr -> GeneratorExp(expr elt, comprehension* generators)], ApplyRule[expr -> Compare(expr left, cmpop* ops, expr* comparators)], ApplyRule[expr -> Call(expr func, expr* args, keyword* keywords)], ApplyRule[expr -> Name(identifier id)], GenToken[isinstance], ApplyRule[expr -> Name(identifier id)], GenToken[x], Reduce, Reduce, Reduce, Reduce, ApplyRule[comprehension -> comprehension(expr target, expr iter, expr* ifs)], ApplyRule[expr -> Name(identifier id)], GenToken[i], ApplyRule[expr -> Call(expr func, expr* args, keyword* keywords)], ApplyRule[expr -> Name(identifier id)], GenToken[range], ApplyRule[expr -> Num(object n)], GenToken[100], ApplyRule[expr -> Num(object n)], GenToken[9], Reduce, Reduce, Reduce, Reduce, Reduce, Reduce]\nExpr(value=Call(func=Name(id='any'), args=[GeneratorExp(elt=Compare(left=Call(func=Name(id='isinstance'), args=[Name(id='x')], keywords=[]), ops=[], comparators=[]), generators=[comprehension(target=Name(id='i'), iter=Call(func=Name(id='range'), args=[Num(n=100), Num(n=9)], keywords=[]), ifs=[])])], keywords=[]))\n"
     ]
    },
    {
     "ename": "IndexError",
     "evalue": "list index out of range",
     "traceback": [
      "\u001b[0;31m---------------------------------------------------------------------------\u001b[0m",
      "\u001b[0;31mIndexError\u001b[0m                                Traceback (most recent call last)",
      "\u001b[0;32m<ipython-input-161-d202aa85a4c3>\u001b[0m in \u001b[0;36m<module>\u001b[0;34m()\u001b[0m\n\u001b[1;32m      1\u001b[0m \u001b[0mprint\u001b[0m\u001b[0;34m(\u001b[0m\u001b[0msample_hypothesis\u001b[0m\u001b[0;34m.\u001b[0m\u001b[0mactions\u001b[0m\u001b[0;34m)\u001b[0m\u001b[0;34m\u001b[0m\u001b[0m\n\u001b[0;32m----> 2\u001b[0;31m \u001b[0mast_action\u001b[0m\u001b[0;34m.\u001b[0m\u001b[0mactions2code\u001b[0m\u001b[0;34m(\u001b[0m\u001b[0msample_hypothesis\u001b[0m\u001b[0;34m.\u001b[0m\u001b[0mactions\u001b[0m\u001b[0;34m)\u001b[0m\u001b[0;34m\u001b[0m\u001b[0m\n\u001b[0m",
      "\u001b[0;32m~/Desktop/MSIN/11747-nnNLP/codeGenerator/CoNaLa/preprocess_temp.py\u001b[0m in \u001b[0;36mactions2code\u001b[0;34m(self, actions)\u001b[0m\n\u001b[1;32m    121\u001b[0m         \u001b[0mast_from_actions\u001b[0m \u001b[0;34m=\u001b[0m \u001b[0masdl_ast_to_python_ast\u001b[0m\u001b[0;34m(\u001b[0m\u001b[0mhypothesis\u001b[0m\u001b[0;34m.\u001b[0m\u001b[0mtree\u001b[0m\u001b[0;34m,\u001b[0m \u001b[0mgrammar\u001b[0m\u001b[0;34m)\u001b[0m\u001b[0;34m\u001b[0m\u001b[0m\n\u001b[1;32m    122\u001b[0m         \u001b[0mprint\u001b[0m\u001b[0;34m(\u001b[0m\u001b[0mast\u001b[0m\u001b[0;34m.\u001b[0m\u001b[0mdump\u001b[0m\u001b[0;34m(\u001b[0m\u001b[0mast_from_actions\u001b[0m\u001b[0;34m)\u001b[0m\u001b[0;34m)\u001b[0m\u001b[0;34m\u001b[0m\u001b[0m\n\u001b[0;32m--> 123\u001b[0;31m         \u001b[0;32mreturn\u001b[0m \u001b[0mastor\u001b[0m\u001b[0;34m.\u001b[0m\u001b[0mto_source\u001b[0m\u001b[0;34m(\u001b[0m\u001b[0mast_from_actions\u001b[0m\u001b[0;34m)\u001b[0m\u001b[0;34m.\u001b[0m\u001b[0mstrip\u001b[0m\u001b[0;34m(\u001b[0m\u001b[0;34m)\u001b[0m\u001b[0;34m\u001b[0m\u001b[0m\n\u001b[0m\u001b[1;32m    124\u001b[0m \u001b[0;34m\u001b[0m\u001b[0m\n\u001b[1;32m    125\u001b[0m     \u001b[0;32mdef\u001b[0m \u001b[0mis_valid_action\u001b[0m\u001b[0;34m(\u001b[0m\u001b[0mself\u001b[0m\u001b[0;34m,\u001b[0m \u001b[0mhypothesis\u001b[0m\u001b[0;34m,\u001b[0m \u001b[0maction\u001b[0m\u001b[0;34m)\u001b[0m\u001b[0;34m:\u001b[0m\u001b[0;34m\u001b[0m\u001b[0m\n",
      "\u001b[0;32m/anaconda3/lib/python3.6/site-packages/astor/code_gen.py\u001b[0m in \u001b[0;36mto_source\u001b[0;34m(node, indent_with, add_line_information, pretty_string, pretty_source)\u001b[0m\n\u001b[1;32m     50\u001b[0m     generator = SourceGenerator(indent_with, add_line_information,\n\u001b[1;32m     51\u001b[0m                                 pretty_string)\n\u001b[0;32m---> 52\u001b[0;31m     \u001b[0mgenerator\u001b[0m\u001b[0;34m.\u001b[0m\u001b[0mvisit\u001b[0m\u001b[0;34m(\u001b[0m\u001b[0mnode\u001b[0m\u001b[0;34m)\u001b[0m\u001b[0;34m\u001b[0m\u001b[0m\n\u001b[0m\u001b[1;32m     53\u001b[0m     \u001b[0mgenerator\u001b[0m\u001b[0;34m.\u001b[0m\u001b[0mresult\u001b[0m\u001b[0;34m.\u001b[0m\u001b[0mappend\u001b[0m\u001b[0;34m(\u001b[0m\u001b[0;34m'\\n'\u001b[0m\u001b[0;34m)\u001b[0m\u001b[0;34m\u001b[0m\u001b[0m\n\u001b[1;32m     54\u001b[0m     \u001b[0;32mif\u001b[0m \u001b[0mset\u001b[0m\u001b[0;34m(\u001b[0m\u001b[0mgenerator\u001b[0m\u001b[0;34m.\u001b[0m\u001b[0mresult\u001b[0m\u001b[0;34m[\u001b[0m\u001b[0;36m0\u001b[0m\u001b[0;34m]\u001b[0m\u001b[0;34m)\u001b[0m \u001b[0;34m==\u001b[0m \u001b[0mset\u001b[0m\u001b[0;34m(\u001b[0m\u001b[0;34m'\\n'\u001b[0m\u001b[0;34m)\u001b[0m\u001b[0;34m:\u001b[0m\u001b[0;34m\u001b[0m\u001b[0m\n",
      "\u001b[0;32m/anaconda3/lib/python3.6/site-packages/astor/node_util.py\u001b[0m in \u001b[0;36mvisit\u001b[0;34m(self, node, abort)\u001b[0m\n\u001b[1;32m    141\u001b[0m         \u001b[0mmethod\u001b[0m \u001b[0;34m=\u001b[0m \u001b[0;34m'visit_'\u001b[0m \u001b[0;34m+\u001b[0m \u001b[0mnode\u001b[0m\u001b[0;34m.\u001b[0m\u001b[0m__class__\u001b[0m\u001b[0;34m.\u001b[0m\u001b[0m__name__\u001b[0m\u001b[0;34m\u001b[0m\u001b[0m\n\u001b[1;32m    142\u001b[0m         \u001b[0mvisitor\u001b[0m \u001b[0;34m=\u001b[0m \u001b[0mgetattr\u001b[0m\u001b[0;34m(\u001b[0m\u001b[0mself\u001b[0m\u001b[0;34m,\u001b[0m \u001b[0mmethod\u001b[0m\u001b[0;34m,\u001b[0m \u001b[0mabort\u001b[0m\u001b[0;34m)\u001b[0m\u001b[0;34m\u001b[0m\u001b[0m\n\u001b[0;32m--> 143\u001b[0;31m         \u001b[0;32mreturn\u001b[0m \u001b[0mvisitor\u001b[0m\u001b[0;34m(\u001b[0m\u001b[0mnode\u001b[0m\u001b[0;34m)\u001b[0m\u001b[0;34m\u001b[0m\u001b[0m\n\u001b[0m\u001b[1;32m    144\u001b[0m \u001b[0;34m\u001b[0m\u001b[0m\n\u001b[1;32m    145\u001b[0m \u001b[0;34m\u001b[0m\u001b[0m\n",
      "\u001b[0;32m/anaconda3/lib/python3.6/site-packages/astor/code_gen.py\u001b[0m in \u001b[0;36mvisit_Expr\u001b[0;34m(self, node)\u001b[0m\n\u001b[1;32m    308\u001b[0m         \u001b[0mset_precedence\u001b[0m\u001b[0;34m(\u001b[0m\u001b[0mnode\u001b[0m\u001b[0;34m,\u001b[0m \u001b[0mnode\u001b[0m\u001b[0;34m.\u001b[0m\u001b[0mvalue\u001b[0m\u001b[0;34m)\u001b[0m\u001b[0;34m\u001b[0m\u001b[0m\n\u001b[1;32m    309\u001b[0m         \u001b[0mself\u001b[0m\u001b[0;34m.\u001b[0m\u001b[0mstatement\u001b[0m\u001b[0;34m(\u001b[0m\u001b[0mnode\u001b[0m\u001b[0;34m)\u001b[0m\u001b[0;34m\u001b[0m\u001b[0m\n\u001b[0;32m--> 310\u001b[0;31m         \u001b[0mself\u001b[0m\u001b[0;34m.\u001b[0m\u001b[0mgeneric_visit\u001b[0m\u001b[0;34m(\u001b[0m\u001b[0mnode\u001b[0m\u001b[0;34m)\u001b[0m\u001b[0;34m\u001b[0m\u001b[0m\n\u001b[0m\u001b[1;32m    311\u001b[0m \u001b[0;34m\u001b[0m\u001b[0m\n\u001b[1;32m    312\u001b[0m     \u001b[0;32mdef\u001b[0m \u001b[0mvisit_FunctionDef\u001b[0m\u001b[0;34m(\u001b[0m\u001b[0mself\u001b[0m\u001b[0;34m,\u001b[0m \u001b[0mnode\u001b[0m\u001b[0;34m,\u001b[0m \u001b[0mis_async\u001b[0m\u001b[0;34m=\u001b[0m\u001b[0;32mFalse\u001b[0m\u001b[0;34m)\u001b[0m\u001b[0;34m:\u001b[0m\u001b[0;34m\u001b[0m\u001b[0m\n",
      "\u001b[0;32m/anaconda3/lib/python3.6/ast.py\u001b[0m in \u001b[0;36mgeneric_visit\u001b[0;34m(self, node)\u001b[0m\n\u001b[1;32m    261\u001b[0m                         \u001b[0mself\u001b[0m\u001b[0;34m.\u001b[0m\u001b[0mvisit\u001b[0m\u001b[0;34m(\u001b[0m\u001b[0mitem\u001b[0m\u001b[0;34m)\u001b[0m\u001b[0;34m\u001b[0m\u001b[0m\n\u001b[1;32m    262\u001b[0m             \u001b[0;32melif\u001b[0m \u001b[0misinstance\u001b[0m\u001b[0;34m(\u001b[0m\u001b[0mvalue\u001b[0m\u001b[0;34m,\u001b[0m \u001b[0mAST\u001b[0m\u001b[0;34m)\u001b[0m\u001b[0;34m:\u001b[0m\u001b[0;34m\u001b[0m\u001b[0m\n\u001b[0;32m--> 263\u001b[0;31m                 \u001b[0mself\u001b[0m\u001b[0;34m.\u001b[0m\u001b[0mvisit\u001b[0m\u001b[0;34m(\u001b[0m\u001b[0mvalue\u001b[0m\u001b[0;34m)\u001b[0m\u001b[0;34m\u001b[0m\u001b[0m\n\u001b[0m\u001b[1;32m    264\u001b[0m \u001b[0;34m\u001b[0m\u001b[0m\n\u001b[1;32m    265\u001b[0m \u001b[0;34m\u001b[0m\u001b[0m\n",
      "\u001b[0;32m/anaconda3/lib/python3.6/site-packages/astor/node_util.py\u001b[0m in \u001b[0;36mvisit\u001b[0;34m(self, node, abort)\u001b[0m\n\u001b[1;32m    141\u001b[0m         \u001b[0mmethod\u001b[0m \u001b[0;34m=\u001b[0m \u001b[0;34m'visit_'\u001b[0m \u001b[0;34m+\u001b[0m \u001b[0mnode\u001b[0m\u001b[0;34m.\u001b[0m\u001b[0m__class__\u001b[0m\u001b[0;34m.\u001b[0m\u001b[0m__name__\u001b[0m\u001b[0;34m\u001b[0m\u001b[0m\n\u001b[1;32m    142\u001b[0m         \u001b[0mvisitor\u001b[0m \u001b[0;34m=\u001b[0m \u001b[0mgetattr\u001b[0m\u001b[0;34m(\u001b[0m\u001b[0mself\u001b[0m\u001b[0;34m,\u001b[0m \u001b[0mmethod\u001b[0m\u001b[0;34m,\u001b[0m \u001b[0mabort\u001b[0m\u001b[0;34m)\u001b[0m\u001b[0;34m\u001b[0m\u001b[0m\n\u001b[0;32m--> 143\u001b[0;31m         \u001b[0;32mreturn\u001b[0m \u001b[0mvisitor\u001b[0m\u001b[0;34m(\u001b[0m\u001b[0mnode\u001b[0m\u001b[0;34m)\u001b[0m\u001b[0;34m\u001b[0m\u001b[0m\n\u001b[0m\u001b[1;32m    144\u001b[0m \u001b[0;34m\u001b[0m\u001b[0m\n\u001b[1;32m    145\u001b[0m \u001b[0;34m\u001b[0m\u001b[0m\n",
      "\u001b[0;32m/anaconda3/lib/python3.6/site-packages/astor/code_gen.py\u001b[0m in \u001b[0;36mvisit_Call\u001b[0;34m(self, node, len)\u001b[0m\n\u001b[1;32m    515\u001b[0m         \u001b[0mwrite\u001b[0m\u001b[0;34m(\u001b[0m\u001b[0;34m'('\u001b[0m\u001b[0;34m)\u001b[0m\u001b[0;34m\u001b[0m\u001b[0m\n\u001b[1;32m    516\u001b[0m         \u001b[0;32mfor\u001b[0m \u001b[0marg\u001b[0m \u001b[0;32min\u001b[0m \u001b[0margs\u001b[0m\u001b[0;34m:\u001b[0m\u001b[0;34m\u001b[0m\u001b[0m\n\u001b[0;32m--> 517\u001b[0;31m             \u001b[0mwrite\u001b[0m\u001b[0;34m(\u001b[0m\u001b[0mwrite_comma\u001b[0m\u001b[0;34m,\u001b[0m \u001b[0marg\u001b[0m\u001b[0;34m)\u001b[0m\u001b[0;34m\u001b[0m\u001b[0m\n\u001b[0m\u001b[1;32m    518\u001b[0m \u001b[0;34m\u001b[0m\u001b[0m\n\u001b[1;32m    519\u001b[0m         \u001b[0mset_precedence\u001b[0m\u001b[0;34m(\u001b[0m\u001b[0mPrecedence\u001b[0m\u001b[0;34m.\u001b[0m\u001b[0mComma\u001b[0m\u001b[0;34m,\u001b[0m \u001b[0;34m*\u001b[0m\u001b[0;34m(\u001b[0m\u001b[0mx\u001b[0m\u001b[0;34m.\u001b[0m\u001b[0mvalue\u001b[0m \u001b[0;32mfor\u001b[0m \u001b[0mx\u001b[0m \u001b[0;32min\u001b[0m \u001b[0mkeywords\u001b[0m\u001b[0;34m)\u001b[0m\u001b[0;34m)\u001b[0m\u001b[0;34m\u001b[0m\u001b[0m\n",
      "\u001b[0;32m/anaconda3/lib/python3.6/site-packages/astor/code_gen.py\u001b[0m in \u001b[0;36mwrite\u001b[0;34m(*params)\u001b[0m\n\u001b[1;32m    166\u001b[0m             \u001b[0;32mfor\u001b[0m \u001b[0mitem\u001b[0m \u001b[0;32min\u001b[0m \u001b[0mparams\u001b[0m\u001b[0;34m:\u001b[0m\u001b[0;34m\u001b[0m\u001b[0m\n\u001b[1;32m    167\u001b[0m                 \u001b[0;32mif\u001b[0m \u001b[0misinstance\u001b[0m\u001b[0;34m(\u001b[0m\u001b[0mitem\u001b[0m\u001b[0;34m,\u001b[0m \u001b[0mAST\u001b[0m\u001b[0;34m)\u001b[0m\u001b[0;34m:\u001b[0m\u001b[0;34m\u001b[0m\u001b[0m\n\u001b[0;32m--> 168\u001b[0;31m                     \u001b[0mvisit\u001b[0m\u001b[0;34m(\u001b[0m\u001b[0mitem\u001b[0m\u001b[0;34m)\u001b[0m\u001b[0;34m\u001b[0m\u001b[0m\n\u001b[0m\u001b[1;32m    169\u001b[0m                 \u001b[0;32melif\u001b[0m \u001b[0mcallable\u001b[0m\u001b[0;34m(\u001b[0m\u001b[0mitem\u001b[0m\u001b[0;34m)\u001b[0m\u001b[0;34m:\u001b[0m\u001b[0;34m\u001b[0m\u001b[0m\n\u001b[1;32m    170\u001b[0m                     \u001b[0mitem\u001b[0m\u001b[0;34m(\u001b[0m\u001b[0;34m)\u001b[0m\u001b[0;34m\u001b[0m\u001b[0m\n",
      "\u001b[0;32m/anaconda3/lib/python3.6/site-packages/astor/node_util.py\u001b[0m in \u001b[0;36mvisit\u001b[0;34m(self, node, abort)\u001b[0m\n\u001b[1;32m    141\u001b[0m         \u001b[0mmethod\u001b[0m \u001b[0;34m=\u001b[0m \u001b[0;34m'visit_'\u001b[0m \u001b[0;34m+\u001b[0m \u001b[0mnode\u001b[0m\u001b[0;34m.\u001b[0m\u001b[0m__class__\u001b[0m\u001b[0;34m.\u001b[0m\u001b[0m__name__\u001b[0m\u001b[0;34m\u001b[0m\u001b[0m\n\u001b[1;32m    142\u001b[0m         \u001b[0mvisitor\u001b[0m \u001b[0;34m=\u001b[0m \u001b[0mgetattr\u001b[0m\u001b[0;34m(\u001b[0m\u001b[0mself\u001b[0m\u001b[0;34m,\u001b[0m \u001b[0mmethod\u001b[0m\u001b[0;34m,\u001b[0m \u001b[0mabort\u001b[0m\u001b[0;34m)\u001b[0m\u001b[0;34m\u001b[0m\u001b[0m\n\u001b[0;32m--> 143\u001b[0;31m         \u001b[0;32mreturn\u001b[0m \u001b[0mvisitor\u001b[0m\u001b[0;34m(\u001b[0m\u001b[0mnode\u001b[0m\u001b[0;34m)\u001b[0m\u001b[0;34m\u001b[0m\u001b[0m\n\u001b[0m\u001b[1;32m    144\u001b[0m \u001b[0;34m\u001b[0m\u001b[0m\n\u001b[1;32m    145\u001b[0m \u001b[0;34m\u001b[0m\u001b[0m\n",
      "\u001b[0;32m/anaconda3/lib/python3.6/site-packages/astor/code_gen.py\u001b[0m in \u001b[0;36mvisit_GeneratorExp\u001b[0;34m(self, node)\u001b[0m\n\u001b[1;32m    775\u001b[0m                 \u001b[0mdelimiters\u001b[0m\u001b[0;34m.\u001b[0m\u001b[0mdiscard\u001b[0m \u001b[0;34m=\u001b[0m \u001b[0;32mTrue\u001b[0m\u001b[0;34m\u001b[0m\u001b[0m\n\u001b[1;32m    776\u001b[0m             \u001b[0mset_precedence\u001b[0m\u001b[0;34m(\u001b[0m\u001b[0mPrecedence\u001b[0m\u001b[0;34m.\u001b[0m\u001b[0mComma\u001b[0m\u001b[0;34m,\u001b[0m \u001b[0mnode\u001b[0m\u001b[0;34m.\u001b[0m\u001b[0melt\u001b[0m\u001b[0;34m)\u001b[0m\u001b[0;34m\u001b[0m\u001b[0m\n\u001b[0;32m--> 777\u001b[0;31m             \u001b[0mself\u001b[0m\u001b[0;34m.\u001b[0m\u001b[0mwrite\u001b[0m\u001b[0;34m(\u001b[0m\u001b[0mnode\u001b[0m\u001b[0;34m.\u001b[0m\u001b[0melt\u001b[0m\u001b[0;34m,\u001b[0m \u001b[0;34m*\u001b[0m\u001b[0mnode\u001b[0m\u001b[0;34m.\u001b[0m\u001b[0mgenerators\u001b[0m\u001b[0;34m)\u001b[0m\u001b[0;34m\u001b[0m\u001b[0m\n\u001b[0m\u001b[1;32m    778\u001b[0m \u001b[0;34m\u001b[0m\u001b[0m\n\u001b[1;32m    779\u001b[0m     \u001b[0;32mdef\u001b[0m \u001b[0mvisit_SetComp\u001b[0m\u001b[0;34m(\u001b[0m\u001b[0mself\u001b[0m\u001b[0;34m,\u001b[0m \u001b[0mnode\u001b[0m\u001b[0;34m)\u001b[0m\u001b[0;34m:\u001b[0m\u001b[0;34m\u001b[0m\u001b[0m\n",
      "\u001b[0;32m/anaconda3/lib/python3.6/site-packages/astor/code_gen.py\u001b[0m in \u001b[0;36mwrite\u001b[0;34m(*params)\u001b[0m\n\u001b[1;32m    166\u001b[0m             \u001b[0;32mfor\u001b[0m \u001b[0mitem\u001b[0m \u001b[0;32min\u001b[0m \u001b[0mparams\u001b[0m\u001b[0;34m:\u001b[0m\u001b[0;34m\u001b[0m\u001b[0m\n\u001b[1;32m    167\u001b[0m                 \u001b[0;32mif\u001b[0m \u001b[0misinstance\u001b[0m\u001b[0;34m(\u001b[0m\u001b[0mitem\u001b[0m\u001b[0;34m,\u001b[0m \u001b[0mAST\u001b[0m\u001b[0;34m)\u001b[0m\u001b[0;34m:\u001b[0m\u001b[0;34m\u001b[0m\u001b[0m\n\u001b[0;32m--> 168\u001b[0;31m                     \u001b[0mvisit\u001b[0m\u001b[0;34m(\u001b[0m\u001b[0mitem\u001b[0m\u001b[0;34m)\u001b[0m\u001b[0;34m\u001b[0m\u001b[0m\n\u001b[0m\u001b[1;32m    169\u001b[0m                 \u001b[0;32melif\u001b[0m \u001b[0mcallable\u001b[0m\u001b[0;34m(\u001b[0m\u001b[0mitem\u001b[0m\u001b[0;34m)\u001b[0m\u001b[0;34m:\u001b[0m\u001b[0;34m\u001b[0m\u001b[0m\n\u001b[1;32m    170\u001b[0m                     \u001b[0mitem\u001b[0m\u001b[0;34m(\u001b[0m\u001b[0;34m)\u001b[0m\u001b[0;34m\u001b[0m\u001b[0m\n",
      "\u001b[0;32m/anaconda3/lib/python3.6/site-packages/astor/node_util.py\u001b[0m in \u001b[0;36mvisit\u001b[0;34m(self, node, abort)\u001b[0m\n\u001b[1;32m    141\u001b[0m         \u001b[0mmethod\u001b[0m \u001b[0;34m=\u001b[0m \u001b[0;34m'visit_'\u001b[0m \u001b[0;34m+\u001b[0m \u001b[0mnode\u001b[0m\u001b[0;34m.\u001b[0m\u001b[0m__class__\u001b[0m\u001b[0;34m.\u001b[0m\u001b[0m__name__\u001b[0m\u001b[0;34m\u001b[0m\u001b[0m\n\u001b[1;32m    142\u001b[0m         \u001b[0mvisitor\u001b[0m \u001b[0;34m=\u001b[0m \u001b[0mgetattr\u001b[0m\u001b[0;34m(\u001b[0m\u001b[0mself\u001b[0m\u001b[0;34m,\u001b[0m \u001b[0mmethod\u001b[0m\u001b[0;34m,\u001b[0m \u001b[0mabort\u001b[0m\u001b[0;34m)\u001b[0m\u001b[0;34m\u001b[0m\u001b[0m\n\u001b[0;32m--> 143\u001b[0;31m         \u001b[0;32mreturn\u001b[0m \u001b[0mvisitor\u001b[0m\u001b[0;34m(\u001b[0m\u001b[0mnode\u001b[0m\u001b[0;34m)\u001b[0m\u001b[0;34m\u001b[0m\u001b[0m\n\u001b[0m\u001b[1;32m    144\u001b[0m \u001b[0;34m\u001b[0m\u001b[0m\n\u001b[1;32m    145\u001b[0m \u001b[0;34m\u001b[0m\u001b[0m\n",
      "\u001b[0;32m/anaconda3/lib/python3.6/site-packages/astor/code_gen.py\u001b[0m in \u001b[0;36mvisit_Compare\u001b[0;34m(self, node)\u001b[0m\n\u001b[1;32m    698\u001b[0m \u001b[0;34m\u001b[0m\u001b[0m\n\u001b[1;32m    699\u001b[0m     \u001b[0;32mdef\u001b[0m \u001b[0mvisit_Compare\u001b[0m\u001b[0;34m(\u001b[0m\u001b[0mself\u001b[0m\u001b[0;34m,\u001b[0m \u001b[0mnode\u001b[0m\u001b[0;34m)\u001b[0m\u001b[0;34m:\u001b[0m\u001b[0;34m\u001b[0m\u001b[0m\n\u001b[0;32m--> 700\u001b[0;31m         \u001b[0;32mwith\u001b[0m \u001b[0mself\u001b[0m\u001b[0;34m.\u001b[0m\u001b[0mdelimit\u001b[0m\u001b[0;34m(\u001b[0m\u001b[0mnode\u001b[0m\u001b[0;34m,\u001b[0m \u001b[0mnode\u001b[0m\u001b[0;34m.\u001b[0m\u001b[0mops\u001b[0m\u001b[0;34m[\u001b[0m\u001b[0;36m0\u001b[0m\u001b[0;34m]\u001b[0m\u001b[0;34m)\u001b[0m \u001b[0;32mas\u001b[0m \u001b[0mdelimiters\u001b[0m\u001b[0;34m:\u001b[0m\u001b[0;34m\u001b[0m\u001b[0m\n\u001b[0m\u001b[1;32m    701\u001b[0m             \u001b[0mset_precedence\u001b[0m\u001b[0;34m(\u001b[0m\u001b[0mdelimiters\u001b[0m\u001b[0;34m.\u001b[0m\u001b[0mp\u001b[0m \u001b[0;34m+\u001b[0m \u001b[0;36m1\u001b[0m\u001b[0;34m,\u001b[0m \u001b[0mnode\u001b[0m\u001b[0;34m.\u001b[0m\u001b[0mleft\u001b[0m\u001b[0;34m,\u001b[0m \u001b[0;34m*\u001b[0m\u001b[0mnode\u001b[0m\u001b[0;34m.\u001b[0m\u001b[0mcomparators\u001b[0m\u001b[0;34m)\u001b[0m\u001b[0;34m\u001b[0m\u001b[0m\n\u001b[1;32m    702\u001b[0m             \u001b[0mself\u001b[0m\u001b[0;34m.\u001b[0m\u001b[0mvisit\u001b[0m\u001b[0;34m(\u001b[0m\u001b[0mnode\u001b[0m\u001b[0;34m.\u001b[0m\u001b[0mleft\u001b[0m\u001b[0;34m)\u001b[0m\u001b[0;34m\u001b[0m\u001b[0m\n",
      "\u001b[0;31mIndexError\u001b[0m: list index out of range"
     ],
     "output_type": "error"
    }
   ],
   "source": [
    "print(sample_hypothesis.actions)\n",
    "ast_action.actions2code(sample_hypothesis.actions)"
   ]
  },
  {
   "cell_type": "code",
   "execution_count": 162,
   "metadata": {},
   "outputs": [
    {
     "name": "stdout",
     "output_type": "stream",
     "text": [
      "Expr(value=Call(func=Attribute(value=Name(id='os'), attr='system'), args=[Str(s='taskkill /im')], keywords=[]))\nExpr(value=Call(func=Attribute(value=Name(id='os'), attr='savefig'), args=[Str(s='ulimit /im')], keywords=[]))\nExpr(value=Call(func=Name(id='any'), args=[GeneratorExp(elt=Compare(left=Call(func=Name(id='isinstance'), args=[Name(id='x')], keywords=[]), ops=[], comparators=[]), generators=[comprehension(target=Name(id='i'), iter=Call(func=Name(id='range'), args=[Num(n=100), Num(n=9)], keywords=[]), ifs=[])])], keywords=[]))\nExpr(value=Call(func=Attribute(value=Name(id='re'), attr='findall'), args=[Str(s='//*[contains(text(),'), Str(s='\"\\\\1\"')], keywords=[]))\nExpr(value=Call(func=Attribute(value=Str(s=''), attr='decode'), args=[Str(s='Hello')], keywords=[]))\nExpr(value=Call(func=Attribute(value=Name(id='df'), attr='apply'), args=[Str(s='myfile.csv')], keywords=[]))\nExpr(value=Call(func=Attribute(value=Name(id='df'), attr='apply'), args=[Str(s='myfile.csv')], keywords=[]))\n"
     ]
    },
    {
     "name": "stdout",
     "output_type": "stream",
     "text": [
      "Expr(value=Call(func=Attribute(value=Name(id='plt'), attr='system'), args=[Str(s='script2.py')], keywords=[keyword(arg='$1', value=Str(s='./uireplace.pl'))]))\ncopy_logits size torch.Size([8])\ncopy_ind 0\nExpr(value=Call(func=Name(id='concatenate'), args=[Call(func=Attribute(value=Str(s=''), attr='format'), args=[GeneratorExp(elt=Call(func=Name(id='str'), args=[Name(id='a')], keywords=[]), generators=[])], keywords=[])], keywords=[]))\nExpr(value=Call(func=Attribute(value=Name(id='np'), attr='einsum'), args=[List(elts=[Str(s='Peak')])], keywords=[]))\nExpr(value=Call(func=Attribute(value=Name(id='ax'), attr='set_xlabel'), args=[Str(s='TASKKILL screen.png')], keywords=[]))\ncopy_logits size torch.Size([9])\ncopy_ind 2\nExpr(value=Call(func=Attribute(value=Attribute(value=Name(id='datetime'), attr='stdout'), attr='combine'), args=[Str(s='java')], keywords=[]))\n"
     ]
    },
    {
     "name": "stdout",
     "output_type": "stream",
     "text": [
      "Expr(value=Call(func=Attribute(value=Name(id='re'), attr='findall'), args=[Str(s='file'), Str(s='file.gz')], keywords=[]))\nExpr(value=Call(func=Attribute(value=Name(id='re'), attr='findall'), args=[Str(s='My'), Str(s='Current'), Str(s='r')], keywords=[]))\ncopy_logits size torch.Size([9])\ncopy_ind 0\nExpr(value=Call(func=Attribute(value=Name(id='a'), attr='concatenate'), args=[Str(s='a')], keywords=[]))\nExpr(value=Call(func=Attribute(value=Name(id='re'), attr='match'), args=[Str(s='(?=(a.*?a))')], keywords=[keyword(arg='bbox_inches', value=Call(func=Attribute(value=Name(id='re'), attr='focus_get'), args=[], keywords=[]))]))\nExpr(value=Subscript(value=Name(id='df'), slice=Index(value=Str(s='Test'))))\nExpr(value=Call(func=Attribute(value=Name(id='ax'), attr='set_xlabel'), args=[Str(s='Temperature screen.png')], keywords=[]))\n"
     ]
    },
    {
     "name": "stdout",
     "output_type": "stream",
     "text": [
      "Expr(value=Call(func=Attribute(value=Str(s=''), attr='join'), args=[Name(id='s')], keywords=[]))\nExpr(value=Call(func=Attribute(value=Name(id='os'), attr='system'), args=[Str(s='tcsh your_own_script /bin/bash \"echo')], keywords=[]))\nExpr(value=Call(func=Attribute(value=Str(s='0x{0:08X}'), attr='format'), args=[Str(s='.txt')], keywords=[]))\nExpr(value=Call(func=Attribute(value=Name(id='struct'), attr='findall'), args=[Str(s='s'), Str(s='s')], keywords=[]))\nExpr(value=Call(func=Attribute(value=Name(id='re'), attr='search'), args=[Str(s='[a-zA-Z]'), Str(s='')], keywords=[]))\nExpr(value=Call(func=Attribute(value=Name(id='ax'), attr='get'), args=[Str(s='log')], keywords=[]))\nExpr(value=Call(func=Attribute(value=Name(id='logging'), attr='findall'), args=[Str(s='file')], keywords=[]))\nExpr(value=Call(func=Attribute(value=Name(id='subprocess'), attr='call'), args=[Str(s='append')], keywords=[]))"
     ]
    },
    {
     "name": "stdout",
     "output_type": "stream",
     "text": [
      "\nExpr(value=Call(func=Attribute(value=Name(id='requests'), attr='get'), args=[Str(s='Temperature (℃)')], keywords=[keyword(arg='headers', value=Dict(keys=[Str(s='pwd')], values=[]))]))\nExpr(value=Call(func=Attribute(value=Name(id='requests'), attr='get'), args=[Str(s='Temperature (℃)')], keywords=[keyword(arg='headers', value=Dict(keys=[Str(s='pwd')], values=[]))]))\nExpr(value=Call(func=Attribute(value=Name(id='requests'), attr='get'), args=[Str(s='log screen.png')], keywords=[]))\nExpr(value=Call(func=Attribute(value=Name(id='requests'), attr='get'), args=[Str(s='log screen.png')], keywords=[]))\nExpr(value=Call(func=Attribute(value=Name(id='requests'), attr='get'), args=[Str(s='Temperature (℃)')], keywords=[keyword(arg='headers', value=Dict(keys=[Str(s='pwd')], values=[]))]))\nExpr(value=Call(func=Attribute(value=Name(id='ax'), attr='savefig'), args=[Str(s='awk document.body.scrollHeight);')], keywords=[keyword(arg='auth', value=Str(s='%b'))]))\nExpr(value=DictComp(key=Name(id='k'), value=Name(id='v'), generators=[]))\n"
     ]
    },
    {
     "name": "stdout",
     "output_type": "stream",
     "text": [
      "Expr(value=Call(func=Attribute(value=Name(id='pd'), attr='mogrify'), args=[Name(id='arr')], keywords=[keyword(arg='date__range', value=Str(s='^.{254}.*')), keyword(arg='ecolor', value=Str(s='name')), keyword(arg='ecolor', value=Str(s='list')), keyword(arg='color', value=Str(s='list')), keyword(arg='color', value=Str(s='list'))]))\nExpr(value=Call(func=Attribute(value=Name(id='re'), attr='sub'), args=[Str(s='(.)(?=.)')], keywords=[]))\nExpr(value=Call(func=Attribute(value=Attribute(value=Name(id='sys'), attr='datetime'), attr='quote_plus'), args=[Str(s='http://www.google.com/')], keywords=[]))\nExpr(value=Call(func=Attribute(value=Name(id='re'), attr='findall'), args=[Str(s='a'), Str(s='')], keywords=[]))\nExpr(value=Call(func=Attribute(value=Name(id='my_list'), attr='get'), args=[Str(s='-topmost')], keywords=[]))\nExpr(value=Call(func=Attribute(value=Name(id='cursor'), attr='get'), args=[Str(s='INSERT')], keywords=[keyword(arg='auth', value=Dict(keys=[Str(s='Authorization')], values=[]))]))\nExpr(value=Call(func=Attribute(value=Name(id='np'), attr='find'), args=[Str(s='Jun')], keywords=[keyword(arg='dtype', value=Str(s='tight'))]))\nExpr(value=Call(func=Attribute(value=Name(id='re'), attr='split'), args=[Str(s='\\\\([^)]*\\\\)'), Str(s='   ')], keywords=[]))\n"
     ]
    },
    {
     "name": "stdout",
     "output_type": "stream",
     "text": [
      "Expr(value=Call(func=Name(id='dict'), args=[Call(func=Name(id='zip'), args=[Call(func=Name(id='zip'), args=[Name(id='a')], keywords=[])], keywords=[])], keywords=[]))\nExpr(value=Call(func=Name(id='sorted'), args=[Call(func=Name(id='sorted'), args=[Name(id='x')], keywords=[])], keywords=[]))\nExpr(value=Call(func=Attribute(value=Attribute(value=Name(id='sys'), attr='datetime'), attr='urlretrieve'), args=[Str(s='2012-05-29T19:30:03.283Z'), Str(s='rb')], keywords=[]))\nExpr(value=ListComp(elt=Subscript(value=Name(id='x'), slice=Index(value=Str(s=''))), generators=[comprehension(target=Name(id='x'), iter=Name(id='lst'), ifs=[])]))\nExpr(value=Call(func=Attribute(value=Attribute(value=Name(id='os'), attr='path'), attr='getmtime'), args=[Str(s='ls')], keywords=[]))\nExpr(value=Call(func=Name(id='len'), args=[Call(func=Attribute(value=Str(s='  join join join join join'), attr='</primitive>'), args=[Num(n=1)], keywords=[])], keywords=[]))\nExpr(value=Call(func=Attribute(value=Name(id='re'), attr='findall'), args=[Str(s=\"//*[@type='submit']/@value\"), Str(s='hello')], keywords=[]))\ncopy_logits size torch.Size([8])\ncopy_ind 5\n"
     ]
    },
    {
     "name": "stdout",
     "output_type": "stream",
     "text": [
      "Expr(value=Call(func=Name(id='sum'), args=[Call(func=Name(id='list'), args=[Call(func=Name(id='list'), args=[Call(func=Name(id='range'), args=[Num(n=1)], keywords=[])], keywords=[])], keywords=[])], keywords=[]))\nExpr(value=Call(func=Attribute(value=Name(id='re'), attr='findall'), args=[Str(s='^(.+)\\\\n((?:\\\\n.+)+)'), Str(s='Current')], keywords=[]))\nExpr(value=Call(func=Attribute(value=Name(id='re'), attr='sub'), args=[Str(s='^((?:(?!cat).)*cat(?:(?!cat).)*)cat'), Str(s='\\\\1Bull')], keywords=[]))\nExpr(value=Call(func=Attribute(value=Attribute(value=Name(id='datetime'), attr='datetime'), attr='strptime'), args=[Str(s='2012-05-29T19:30:03.283Z'), Str(s='r')], keywords=[]))\nExpr(value=Call(func=Attribute(value=Attribute(value=Name(id='datetime'), attr='datetime'), attr='utcnow'), args=[Str(s='2012-05-29T19:30:03.283Z'), Str(s='/the/dir/')], keywords=[]))\ncopy_logits size torch.Size([9])\ncopy_ind 3\ncopy_logits size torch.Size([9])\ncopy_ind 3\nExpr(value=Call(func=Attribute(value=Attribute(value=Name(id='7'), attr='7'), attr='fromtimestamp'), args=[], keywords=[]))\nExpr(value=Call(func=Name(id='sorted'), args=[Name(id='lst')], keywords=[keyword(arg='key', value=Lambda(args=arguments(args=[arg(arg='x', annotation=None)], vararg=None, kwonlyargs=[], kw_defaults=[], kwarg=None, defaults=[]), body=Subscript(value=Name(id='x'), slice=Index(value=Str(s='count')))))]))\n"
     ]
    },
    {
     "name": "stdout",
     "output_type": "stream",
     "text": [
      "copy_logits size torch.Size([6])\ncopy_ind 0\nExpr(value=Call(func=Name(id='sorted'), args=[Call(func=Name(id='list'), args=[Call(func=Name(id='list'), args=[Call(func=Name(id='list'), args=[Call(func=Name(id='list'), args=[Call(func=Attribute(value=Name(id='x'), attr='sum'), args=[], keywords=[])], keywords=[])], keywords=[])], keywords=[])], keywords=[])], keywords=[]))\nExpr(value=Call(func=Attribute(value=Str(s='{:,}'), attr='format'), args=[Str(s='%.2f')], keywords=[]))\nExpr(value=Call(func=Name(id='dict'), args=[GeneratorExp(elt=Tuple(elts=[Name(id='k'), Name(id='v')]), generators=[comprehension(target=Tuple(elts=[Name(id='k'), Name(id='v')]), iter=Call(func=Name(id='zip'), args=[Call(func=Attribute(value=Name(id='d1'), attr='items'), args=[], keywords=[])], keywords=[]), ifs=[])])], keywords=[]))\nExpr(value=ListComp(elt=Call(func=Attribute(value=Name(id='bigdict'), attr='get'), args=[Compare(left=Name(id='d'), ops=[Eq()], comparators=[Str(s='None')])], keywords=[]), generators=[]))\nExpr(value=Call(func=Name(id='print'), args=[Call(func=Name(id='max'), args=[Call(func=Attribute(value=Name(id='line'), attr='product'), args=[], keywords=[])], keywords=[])], keywords=[]))\nExpr(value=Call(func=Name(id='sorted'), args=[Call(func=Name(id='list'), args=[Call(func=Attribute(value=Name(id='d'), attr='items'), args=[], keywords=[])], keywords=[])], keywords=[]))\n"
     ]
    },
    {
     "name": "stdout",
     "output_type": "stream",
     "text": [
      "Expr(value=Call(func=Attribute(value=Attribute(value=Name(id='os'), attr='path'), attr='dirname'), args=[Name(id='__file__')], keywords=[]))\nExpr(value=Call(func=Attribute(value=Name(id='ax'), attr='get'), args=[Str(s='Temperature screen.png')], keywords=[]))\nExpr(value=Call(func=Attribute(value=Attribute(value=Name(id='request'), attr='request'), attr='urlretrieve'), args=[], keywords=[keyword(arg='/path/to/main_folder', value=Str(s='http://httpbin.org/post'))]))\nExpr(value=Call(func=Name(id='sorted'), args=[Call(func=Name(id='map'), args=[Name(id='data')], keywords=[])], keywords=[]))\ncopy_logits size torch.Size([10])\ncopy_ind 0\nExpr(value=Call(func=Name(id='append'), args=[Call(func=Name(id='zip'), args=[Call(func=Name(id='zip'), args=[Name(id='a')], keywords=[])], keywords=[])], keywords=[]))\nExpr(value=Call(func=Attribute(value=Name(id='soup'), attr='findall'), args=[Str(s='(?=(\\\\w\\\\w))')], keywords=[keyword(arg='href', value=Str(s='crBlock'))]))\nExpr(value=Call(func=Attribute(value=Name(id='df'), attr='to_csv'), args=[Str(s='-')], keywords=[keyword(arg='level', value=Str(s=';'))]))\nExpr(value=Call(func=Attribute(value=Name(id='df'), attr='to_csv'), args=[Str(s='-')], keywords=[]))\n"
     ]
    },
    {
     "name": "stdout",
     "output_type": "stream",
     "text": [
      "Assign(targets=[Name(id='item')], value=Call(func=Attribute(value=Name(id='re'), attr='sub'), args=[Str(s=''), Str(s=''), Str(s='')], keywords=[]))\nExpr(value=Call(func=Attribute(value=Name(id='re'), attr='search'), args=[Str(s='file.gz'), Str(s='rt')], keywords=[]))\ncopy_logits size torch.Size([4])\ncopy_ind 3\ncopy_logits size torch.Size([4])\ncopy_ind 3\nExpr(value=Call(func=Attribute(value=Attribute(value=Name(id='self'), attr='FTP'), attr='append'), args=[], keywords=[keyword(arg='FTP', value=Str(s='append'))]))\nExpr(value=Call(func=Attribute(value=Str(s='{0:.{1}%}'), attr='format'), args=[Str(s='\\u200b')], keywords=[]))\nExpr(value=Call(func=Attribute(value=Attribute(value=Name(id='np'), attr='ma'), attr='filter'), args=[], keywords=[keyword(arg='text__regex', value=Tuple(elts=[Num(n=1), Num(n=3)]))]))\ncopy_logits size torch.Size([15])\ncopy_ind 0\nExpr(value=Call(func=Name(id='print'), args=[Call(func=Name(id='permutations'), args=[Call(func=Name(id='permutations'), args=[Num(n=3)], keywords=[])], keywords=[])], keywords=[]))\nExpr(value=Call(func=Attribute(value=Attribute(value=Name(id='os'), attr='path'), attr='isfile'), args=[Str(s='w')], keywords=[]))\nExpr(value=Call(func=Attribute(value=Attribute(value=Name(id='os'), attr='path'), attr='isfile'), args=[Str(s='w')], keywords=[]))"
     ]
    },
    {
     "name": "stdout",
     "output_type": "stream",
     "text": [
      "\nExpr(value=Call(func=Attribute(value=Name(id='mylist'), attr='dumps'), args=[], keywords=[keyword(arg='key', value=Lambda(args=arguments(args=[arg(arg='x', annotation=None)], vararg=None, kwonlyargs=[], kw_defaults=[], kwarg=None, defaults=[]), body=Call(func=Attribute(value=Name(id='x'), attr='dumps'), args=[Str(s='_')], keywords=[])))]))\nExpr(value=Call(func=Attribute(value=Name(id='ax'), attr='savefig'), args=[Str(s='filename.png')], keywords=[]))\ncopy_logits size torch.Size([17])\ncopy_ind 7\ncopy_logits size torch.Size([17])\ncopy_ind 7\ncopy_logits size torch.Size([17])\ncopy_ind 7\ncopy_logits size torch.Size([17])\ncopy_ind 7\ncopy_logits size torch.Size([17])\ncopy_ind 7\ncopy_logits size torch.Size([17])\ncopy_ind 7\ncopy_logits size torch.Size([17])\ncopy_ind 7\ncopy_logits size torch.Size([17])\ncopy_ind 7\ncopy_logits size torch.Size([17])\ncopy_ind 7\ncopy_logits size torch.Size([17])\ncopy_ind 7\ncopy_logits size torch.Size([17])\ncopy_ind 7\ncopy_logits size torch.Size([17])\ncopy_ind 7\ncopy_logits size torch.Size([17])\ncopy_ind 7\nExpr(value=Call(func=Attribute(value=Name(id='ax'), attr='set_title'), args=[Str(s='SELECT * * * * * * * * * * * * *')], keywords=[]))\nExpr(value=Call(func=Attribute(value=Name(id='df'), attr='sort'), args=[Str(s='Result.csv')], keywords=[]))\ncopy_logits size torch.Size([11])\ncopy_ind 0\nExpr(value=Call(func=Attribute(value=Attribute(value=Name(id='User'), attr='print'), attr='filter'), args=[Str(s='li.next>a')], keywords=[]))\nExpr(value=Subscript(value=Attribute(value=Attribute(value=Name(id='df'), attr='ix'), attr='tolist'), slice=Slice(lower=None, upper=None, step=None)))\nExpr(value=Call(func=Attribute(value=Name(id='ax'), attr='set_xticklabels'), args=[Str(s='window.scrollTo(0, document.body.scrollHeight);')], keywords=[]))\nExpr(value=Call(func=Attribute(value=Name(id='ax'), attr='system'), args=[Str(s='source document.body.scrollHeight);')], keywords=[]))\n"
     ]
    },
    {
     "name": "stdout",
     "output_type": "stream",
     "text": [
      "Expr(value=Call(func=Attribute(value=Name(id='subprocess'), attr='system'), args=[Str(s='TASKKILL')], keywords=[]))\nExpr(value=Call(func=Name(id='zip'), args=[Call(func=Name(id='map'), args=[Name(id='my_list')], keywords=[])], keywords=[]))\nExpr(value=Call(func=Name(id='sorted'), args=[Name(id='lst')], keywords=[keyword(arg='key', value=Lambda(args=arguments(args=[arg(arg='x', annotation=None)], vararg=None, kwonlyargs=[], kw_defaults=[], kwarg=None, defaults=[]), body=Call(func=Name(id='int'), args=[Name(id='x')], keywords=[])))]))\nExpr(value=Call(func=Name(id='sorted'), args=[Call(func=Name(id='map'), args=[Name(id='my_list')], keywords=[])], keywords=[]))\nExpr(value=Call(func=Attribute(value=Name(id='re'), attr='seek'), args=[Str(s='\\\\w+|[^\\\\w\\\\s]'), Str(s='*')], keywords=[]))\nExpr(value=Call(func=Attribute(value=Name(id='soup'), attr='find_all'), args=[Str(s='//*[contains(text(),')], keywords=[keyword(arg='class_', value=Str(s='a'))]))\nExpr(value=Call(func=Attribute(value=Name(id='somestring'), attr='split'), args=[Str(s='\\\\r')], keywords=[]))\n"
     ]
    },
    {
     "name": "stdout",
     "output_type": "stream",
     "text": [
      "Expr(value=Call(func=Attribute(value=Call(func=Attribute(value=Name(id='df'), attr='groupby'), args=[List(elts=[Str(s='col5'), Str(s='')])], keywords=[]), attr='ascending'), args=[], keywords=[]))\nExpr(value=Call(func=Attribute(value=Name(id='re'), attr='findall'), args=[Str(s='\\\\b(this|string)\\\\b'), Str(s='<markup>\\\\1</markup>'), Str(s='unique12345678901234567890.mkv'), Str(s='unique12345678901234567890.mkv')], keywords=[]))\nExpr(value=Call(func=Attribute(value=Name(id='re'), attr='findall'), args=[Str(s='(?:\\\\w+(?:\\\\s+\\\\w+)*,\\\\s)+(?:\\\\w+(?:\\\\s\\\\w+)*)')], keywords=[keyword(arg='href', value=Str(s='width=300px;'))]))\nExpr(value=Call(func=Attribute(value=Name(id='re'), attr='find_all'), args=[Str(s='(?:\\\\w+(?:\\\\s+\\\\w+)*,\\\\s)+(?:\\\\w+(?:\\\\s\\\\w+)*)')], keywords=[]))\nExpr(value=Call(func=Attribute(value=Attribute(value=Name(id='os'), attr='path'), attr='isfile'), args=[Str(s='w'), Str(s='w')], keywords=[]))\nExpr(value=Call(func=Attribute(value=Attribute(value=Name(id='datetime'), attr='datetime'), attr='strptime'), args=[Str(s='2012-05-29T19:30:03.283Z'), Str(s='%H:%M')], keywords=[]))\n"
     ]
    },
    {
     "name": "stdout",
     "output_type": "stream",
     "text": [
      "Expr(value=Call(func=Name(id='min'), args=[Call(func=Name(id='zip'), args=[Call(func=Name(id='zip'), args=[Name(id='my_list')], keywords=[])], keywords=[])], keywords=[keyword(arg='article_count', value=Lambda(args=arguments(args=[arg(arg='x', annotation=None)], vararg=None, kwonlyargs=[], kw_defaults=[], kwarg=None, defaults=[]), body=Subscript(value=Name(id='x'), slice=Index(value=Num(n=1)))))]))\nExpr(value=Call(func=Attribute(value=Str(s='used\\u200b'), attr='replace'), args=[Str(s='\\u200b')], keywords=[]))\nExpr(value=Call(func=Attribute(value=Name(id='re'), attr='findall'), args=[Str(s='\\\\.(?=[^'), Str(s=''), Str(s='sdkjh987978asd098as0980a98sd')], keywords=[]))\nExpr(value=Call(func=Attribute(value=Name(id='ax'), attr='set_title'), args=[Str(s='//*[contains(text(),')], keywords=[keyword(arg='auth', value=Str(s='Python'))]))\nExpr(value=Call(func=Attribute(value=Name(id='ax'), attr='set_title'), args=[Str(s='//*[contains(text(),')], keywords=[keyword(arg='auth', value=Str(s='Python'))]))\nExpr(value=Call(func=Name(id='dict'), args=[Call(func=Name(id='zip'), args=[Call(func=Name(id='zip'), args=[Name(id='L')], keywords=[])], keywords=[])], keywords=[]))\nExpr(value=Call(func=Attribute(value=Name(id='np'), attr='sample'), args=[Str(s='foo')], keywords=[]))\n"
     ]
    },
    {
     "name": "stdout",
     "output_type": "stream",
     "text": [
      "Expr(value=Call(func=Name(id='map'), args=[Call(func=Attribute(value=Str(s='  join join join join'), attr='</primitive>'), args=[Str(s=' '), Name(id='string1')], keywords=[])], keywords=[]))\nExpr(value=Call(func=Attribute(value=Name(id='os'), attr='savefig'), args=[Str(s='graph.png')], keywords=[keyword(arg='shell', value=Str(s='utf-16-le'))]))\nExpr(value=Subscript(value=Attribute(value=Attribute(value=Name(id='df'), attr='loc'), attr='loc'), slice=Index(value=Compare(left=Subscript(value=Subscript(value=Name(id='df'), slice=Index(value=Str(s='columnX'))), slice=Index(value=Str(s='l'))), ops=[], comparators=[]))))\ncopy_logits size torch.Size([11])\ncopy_ind 4\nExpr(value=Call(func=Attribute(value=Name(id='print'), attr='draw_networkx_labels'), args=[Str(s='True')], keywords=[keyword(arg='A\\n', value=Str(s='*'))]))\nExpr(value=Call(func=Attribute(value=Name(id='re'), attr='split'), args=[Str(s='[^\\\\x00-\\\\x7F]+'), Str(s='')], keywords=[]))\nExpr(value=Call(func=Attribute(value=Attribute(value=Name(id='datetime'), attr='glob'), attr='strptime'), args=[Str(s='01-Jan-1995'), Str(s='r')], keywords=[]))\nExpr(value=Call(func=Attribute(value=Attribute(value=Name(id='os'), attr='path'), attr='commonprefix'), args=[Str(s='w')], keywords=[]))"
     ]
    },
    {
     "name": "stdout",
     "output_type": "stream",
     "text": [
      "\nExpr(value=Call(func=Attribute(value=Attribute(value=Name(id='os'), attr='path'), attr='commonprefix'), args=[Str(s='w')], keywords=[]))\nExpr(value=Call(func=Attribute(value=Attribute(value=Name(id='os'), attr='path'), attr='commonprefix'), args=[Str(s='w')], keywords=[]))\nExpr(value=Call(func=Attribute(value=Name(id='re'), attr='findall'), args=[Str(s='\\\\s*,\\\\s*|\\\\s*;\\\\s*'), Str(s='aabcc'), Str(s='sdkjh987978asd098as0980a98sd')], keywords=[]))\nExpr(value=Call(func=Attribute(value=Str(s=''), attr='format'), args=[Str(s='')], keywords=[]))\nExpr(value=Call(func=Attribute(value=Name(id='re'), attr='findall'), args=[Str(s='(?<=\\\\?|!|\\\\.)\\\\s{0,2}(?=[A-Z]|$)'), Str(s='')], keywords=[]))\nExpr(value=Call(func=Attribute(value=Name(id='cursor'), attr='execute'), args=[Str(s='INSERT INTO update')], keywords=[]))\nExpr(value=Call(func=Attribute(value=Name(id='df'), attr='DataFrame'), args=[Str(s='Y')], keywords=[keyword(arg='index', value=Str(s='sample'))]))\n"
     ]
    },
    {
     "name": "stdout",
     "output_type": "stream",
     "text": [
      "Expr(value=Call(func=Attribute(value=Name(id='np'), attr='einsum'), args=[List(elts=[Call(func=Attribute(value=Name(id='np'), attr='iter'), args=[Num(n=1), Num(n=1), Num(n=1), Num(n=1), Num(n=1), Num(n=1), Num(n=1), Num(n=3)], keywords=[])])], keywords=[]))\nExpr(value=Subscript(value=Name(id='df'), slice=Index(value=Call(func=Attribute(value=Subscript(value=Name(id='df'), slice=Index(value=Str(s='foo'))), attr='isin'), args=[], keywords=[]))))\nExpr(value=Call(func=Attribute(value=Attribute(value=Name(id='datetime'), attr='datetime'), attr='strptime'), args=[Str(s='%Y%W%w')], keywords=[]))\ncopy_logits size torch.Size([9])\ncopy_ind 0\nExpr(value=Call(func=Name(id='count'), args=[Call(func=Name(id='enumerate'), args=[Name(id='x')], keywords=[])], keywords=[]))\ncopy_logits size torch.Size([8])\ncopy_ind 0\ncopy_logits size torch.Size([8])\ncopy_ind 0\nExpr(value=Call(func=Name(id='count'), args=[Call(func=Name(id='enumerate'), args=[Call(func=Name(id='count'), args=[Call(func=Name(id='frozenset'), args=[Name(id='l')], keywords=[])], keywords=[])], keywords=[])], keywords=[]))\ncopy_logits size torch.Size([8])\ncopy_ind 0\ncopy_logits size torch.Size([8])\ncopy_ind 0\nExpr(value=Call(func=Name(id='count'), args=[Call(func=Name(id='enumerate'), args=[Call(func=Name(id='count'), args=[Call(func=Name(id='frozenset'), args=[Name(id='l')], keywords=[])], keywords=[])], keywords=[])], keywords=[]))\ncopy_logits size torch.Size([8])\ncopy_ind 0\ncopy_logits size torch.Size([8])\ncopy_ind 0\nExpr(value=Call(func=Name(id='count'), args=[Call(func=Name(id='enumerate'), args=[Call(func=Name(id='count'), args=[Call(func=Name(id='frozenset'), args=[Name(id='l')], keywords=[])], keywords=[])], keywords=[])], keywords=[]))\n"
     ]
    },
    {
     "name": "stdout",
     "output_type": "stream",
     "text": [
      "copy_logits size torch.Size([9])\ncopy_ind 0\nExpr(value=Call(func=Name(id='count'), args=[Call(func=Name(id='enumerate'), args=[Name(id='x')], keywords=[])], keywords=[]))\nExpr(value=Call(func=Attribute(value=Name(id='os'), attr='rename'), args=[Str(s='/bin/bash')], keywords=[]))\ncopy_logits size torch.Size([16])\ncopy_ind 12\nExpr(value=Call(func=Attribute(value=Call(func=Attribute(value=Name(id='np'), attr='get_dummies'), args=[Str(s='pk')], keywords=[]), attr='key'), args=[], keywords=[keyword(arg='cols', value=Str(s='left')), keyword(arg='ascending', value=Str(s='\\t'))]))\nExpr(value=Call(func=Attribute(value=Name(id='d'), attr='get'), args=[Str(s='Date')], keywords=[keyword(arg='number', value=Str(s='name'))]))\nExpr(value=Call(func=Attribute(value=Name(id='d'), attr='update'), args=[Str(s='Date')], keywords=[keyword(arg='index', value=Str(s='name'))]))\nExpr(value=Call(func=Attribute(value=Name(id='os'), attr='listdir'), args=[Str(s='file.gz'), Str(s='file2.txt')], keywords=[]))\n"
     ]
    },
    {
     "name": "stdout",
     "output_type": "stream",
     "text": [
      "Expr(value=Call(func=Attribute(value=Call(func=Attribute(value=Name(id='pd'), attr='concat'), args=[], keywords=[keyword(arg='level', value=List(elts=[Str(s='b')]))]), attr='ascending'), args=[], keywords=[]))\nExpr(value=Call(func=Name(id='list'), args=[GeneratorExp(elt=Tuple(elts=[Name(id='k')]), generators=[])], keywords=[]))\nAssign(targets=[Name(id='user')], value=Call(func=Attribute(value=Name(id='np'), attr='zeros'), args=[Str(s='User')], keywords=[]))\nExpr(value=Call(func=Attribute(value=Name(id='somelist'), attr='sort'), args=[Str(s='div')], keywords=[keyword(arg='style', value=Str(s='width=300px;'))]))\nExpr(value=Call(func=Attribute(value=Name(id='re'), attr='find_all'), args=[Str(s='(?=(\\\\w\\\\w))')], keywords=[keyword(arg='href', value=Str(s='crBlock'))]))\nExpr(value=Call(func=Attribute(value=Call(func=Attribute(value=Name(id='df'), attr='isnull'), args=[Str(s='ID')], keywords=[]), attr='size'), args=[], keywords=[]))\nExpr(value=Call(func=Name(id='map'), args=[Call(func=Name(id='zip'), args=[Name(id='a')], keywords=[])], keywords=[]))\nExpr(value=Call(func=Name(id='map'), args=[Call(func=Name(id='map'), args=[Name(id='s')], keywords=[])], keywords=[]))\n"
     ]
    },
    {
     "name": "stdout",
     "output_type": "stream",
     "text": [
      "Expr(value=Call(func=Attribute(value=Attribute(value=Name(id='self'), attr='request'), attr='get'), args=[], keywords=[]))\nExpr(value=Call(func=Attribute(value=Name(id='os'), attr='system'), args=[Str(s='/bin/bash 123\"; \"echo')], keywords=[]))\nExpr(value=Subscript(value=Attribute(value=Name(id='df'), attr='loc'), slice=Index(value=Str(s='foo'))))\nExpr(value=Call(func=Attribute(value=Call(func=Attribute(value=Name(id='df'), attr='groupby'), args=[Str(s='User')], keywords=[]), attr='agg'), args=[Str(s='Sum')], keywords=[]))\nExpr(value=Subscript(value=Call(func=Attribute(value=Name(id='np'), attr='zeros'), args=[Str(s='my.csv')], keywords=[]), slice=Index(value=Str(s='fixed_key_1'))))\nExpr(value=Subscript(value=Attribute(value=Attribute(value=Name(id='df'), attr='groupby'), attr='isin'), slice=Slice(lower=None, upper=None, step=None)))\nExpr(value=Call(func=Attribute(value=Attribute(value=Name(id='os'), attr='path'), attr='dirname'), args=[Name(id='__file__')], keywords=[]))\ncopy_logits size torch.Size([10])\ncopy_ind 0\n"
     ]
    },
    {
     "name": "stdout",
     "output_type": "stream",
     "text": [
      "Expr(value=Call(func=Attribute(value=Name(id='soup'), attr='insert'), args=[], keywords=[keyword(arg='key', value=Lambda(args=arguments(args=[arg(arg='x', annotation=None)], vararg=None, kwonlyargs=[], kw_defaults=[], kwarg=None, defaults=[]), body=Call(func=Attribute(value=Name(id='re'), attr='sub'), args=[Str(s='.*%')], keywords=[])))]))\nExpr(value=Call(func=Attribute(value=Str(s='longlongTESTstringTEST'), attr='decode'), args=[Str(s='*')], keywords=[]))\nExpr(value=Call(func=Attribute(value=Str(s='test.mp3'), attr='join'), args=[GeneratorExp(elt=Str(s='.mp3'), generators=[])], keywords=[]))\nExpr(value=Call(func=Attribute(value=Str(s='test.mp3'), attr='join'), args=[GeneratorExp(elt=Str(s='.mp3'), generators=[])], keywords=[]))\nExpr(value=Call(func=Attribute(value=Name(id='re'), attr='findall'), args=[Str(s='.{,16}\\\\b'), Str(s='\\\\1')], keywords=[]))\nExpr(value=Call(func=Attribute(value=Name(id='wx'), attr='call'), args=[Str(s='some otherfunc')], keywords=[keyword(arg='dpi', value=Str(s='utf-16-le'))]))\ncopy_logits size torch.Size([7])\ncopy_ind 2\nExpr(value=Call(func=Attribute(value=Attribute(value=Name(id='sys'), attr='scatter'), attr='insert'), args=[Str(s='~user')], keywords=[]))\nExpr(value=Call(func=Attribute(value=Name(id='ax'), attr='retrbinary'), args=[Str(s='a.b.c')], keywords=[]))\n"
     ]
    },
    {
     "name": "stdout",
     "output_type": "stream",
     "text": [
      "Expr(value=Call(func=Attribute(value=Name(id='df'), attr='sort'), args=[], keywords=[keyword(arg='order', value=Lambda(args=arguments(args=[arg(arg='x', annotation=None)], vararg=None, kwonlyargs=[], kw_defaults=[], kwarg=None, defaults=[]), body=Subscript(value=Name(id='trial_dict'), slice=Index(value=Str(s='index')))))]))\nExpr(value=Call(func=Attribute(value=Call(func=Attribute(value=Name(id='df'), attr='groupby'), args=[List(elts=[Str(s='type')])], keywords=[]), attr='agg'), args=[], keywords=[]))\nExpr(value=Subscript(value=Attribute(value=Name(id='df'), attr='loc'), slice=Index(value=Str(s='A'))))\nExpr(value=Call(func=Attribute(value=Name(id='df'), attr='set_index'), args=[Str(s='value')], keywords=[]))\nExpr(value=ListComp(elt=Call(func=Name(id='dict'), args=[Call(func=Name(id='enumerate'), args=[Call(func=Name(id='len'), args=[Name(id='l')], keywords=[])], keywords=[])], keywords=[]), generators=[]))\nExpr(value=Call(func=Attribute(value=Name(id='a'), attr='concatenate'), args=[Str(s='a')], keywords=[]))\ncopy_logits size torch.Size([7])\ncopy_ind 0\nExpr(value=Call(func=Attribute(value=Name(id='a'), attr='zip'), args=[List(elts=[Str(s='b'), Str(s='b'), Str(s='b')])], keywords=[]))\nExpr(value=Call(func=Attribute(value=Name(id='string2'), attr='split'), args=[Str(s='')], keywords=[]))"
     ]
    },
    {
     "name": "stdout",
     "output_type": "stream",
     "text": [
      "\nExpr(value=Call(func=Attribute(value=Name(id='cur'), attr='argwhere'), args=[Str(s='INSERT')], keywords=[keyword(arg='loc', value=Str(s='value'))]))\nExpr(value=Call(func=Attribute(value=Name(id='re'), attr='findall'), args=[Str(s='^(.+)(?:\\\\n|\\\\r\\\\n?)((?:(?:\\\\n|\\\\r\\\\n?).+)+)'), Str(s='')], keywords=[]))\ncopy_logits size torch.Size([9])\ncopy_ind 2\nExpr(value=Call(func=Attribute(value=Name(id='xs'), attr='list'), args=[], keywords=[keyword(arg='key', value=Lambda(args=arguments(args=[arg(arg='x', annotation=None)], vararg=None, kwonlyargs=[], kw_defaults=[], kwarg=None, defaults=[]), body=Call(func=Attribute(value=Name(id='re'), attr='sub'), args=[Str(s='.*%')], keywords=[])))]))\nExpr(value=ListComp(elt=Subscript(value=Name(id='d'), slice=Index(value=Str(s='value'))), generators=[comprehension(target=Name(id='d'), iter=Call(func=Name(id='zip'), args=[Call(func=Name(id='len'), args=[Name(id='l')], keywords=[])], keywords=[]), ifs=[])]))\nExpr(value=Call(func=Attribute(value=Name(id='gzip'), attr='load'), args=[Str(s='dir'), Str(s='file2.txt')], keywords=[]))\n"
     ]
    },
    {
     "name": "stdout",
     "output_type": "stream",
     "text": [
      "Expr(value=Call(func=Name(id='dict'), args=[GeneratorExp(elt=Tuple(elts=[Name(id='k'), Name(id='v')]), generators=[comprehension(target=Tuple(elts=[Name(id='k'), Name(id='v')]), iter=Call(func=Name(id='list'), args=[Call(func=Attribute(value=Name(id='my_dict'), attr='items'), args=[], keywords=[])], keywords=[]), ifs=[])])], keywords=[]))\nExpr(value=Call(func=Attribute(value=Name(id='np'), attr='savez'), args=[Name(id='arr')], keywords=[keyword(arg='date__range', value=List(elts=[Num(n=1), Num(n=20), Num(n=0.2)]))]))\nExpr(value=Subscript(value=Attribute(value=Attribute(value=Name(id='df'), attr='loc'), attr='loc'), slice=Slice(lower=None, upper=None, step=None)))\nExpr(value=Subscript(value=Attribute(value=Attribute(value=Subscript(value=Subscript(value=Subscript(value=Subscript(value=Subscript(value=Subscript(value=Subscript(value=Subscript(value=Name(id='df'), slice=Index(value=Str(s='A'))), slice=Index(value=Str(s='A'))), slice=Index(value=Str(s='sum'))), slice=Index(value=Str(s='sum'))), slice=Index(value=Str(s='sum'))), slice=Index(value=Str(s='sum'))), slice=Index(value=Str(s='mean'))), slice=Index(value=Str(s='mean'))), attr='</primitive>'), attr='</primitive>'), slice=Slice(lower=None, upper=None, step=None)))\nExpr(value=Call(func=Attribute(value=Call(func=Attribute(value=Name(id='df'), attr='groupby'), args=[Str(s='type')], keywords=[]), attr='replace'), args=[Str(s='state')], keywords=[]))\n"
     ]
    },
    {
     "name": "stdout",
     "output_type": "stream",
     "text": [
      "Expr(value=ListComp(elt=Subscript(value=Name(id='x'), slice=Index(value=Num(n=1))), generators=[comprehension(target=Name(id='x'), iter=Name(id='L'), ifs=[])]))\nExpr(value=Call(func=Name(id='print'), args=[Call(func=Name(id='zip'), args=[Call(func=Name(id='zip'), args=[Name(id='my_list')], keywords=[])], keywords=[])], keywords=[]))\nExpr(value=Call(func=Attribute(value=Str(s=''), attr='join'), args=[Str(s='aaabbbccc')], keywords=[]))\nExpr(value=Call(func=Attribute(value=Str(s=''), attr='join'), args=[Str(s='aaabbbccc')], keywords=[]))\nExpr(value=Call(func=Attribute(value=Name(id='re'), attr='sub'), args=[Str(s=''), Str(s=' '), Name(id='s')], keywords=[]))\nExpr(value=Call(func=Attribute(value=Name(id='re'), attr='findall'), args=[Str(s='([a-z])*')], keywords=[]))\nExpr(value=Call(func=Attribute(value=Name(id='np'), attr='sample'), args=[Call(func=Attribute(value=Name(id='np'), attr='array'), args=[], keywords=[])], keywords=[]))\ncopy_logits size torch.Size([4])\ncopy_ind 0\nExpr(value=Call(func=Attribute(value=Name(id='s'), attr='replace'), args=[Str(s='hex')], keywords=[]))\n"
     ]
    },
    {
     "name": "stdout",
     "output_type": "stream",
     "text": [
      "Expr(value=Call(func=Attribute(value=Attribute(value=Name(id='os'), attr='path'), attr='getmtime'), args=[Str(s='/usr/var')], keywords=[]))\nExpr(value=Call(func=Attribute(value=Name(id='re'), attr='findall'), args=[Str(s='\\n\\\\s*\\n'), Str(s=''), Name(id='s')], keywords=[]))\nExpr(value=Call(func=Attribute(value=Name(id='shutil'), attr='open'), args=[Str(s='filename'), Str(s='*')], keywords=[]))\ncopy_logits size torch.Size([17])\ncopy_ind 2\nExpr(value=Call(func=Attribute(value=Name(id='np'), attr='get'), args=[Str(s='INSERT')], keywords=[keyword(arg='auth', value=Str(s='Python'))]))\nExpr(value=Call(func=Attribute(value=Name(id='np'), attr='update'), args=[Name(id='x')], keywords=[]))\nExpr(value=Subscript(value=Attribute(value=Name(id='df'), attr='loc'), slice=Index(value=Str(s='A'))))\n"
     ]
    },
    {
     "name": "stdout",
     "output_type": "stream",
     "text": [
      "Expr(value=Call(func=Attribute(value=Call(func=Attribute(value=Name(id='df'), attr='flatnonzero'), args=[Str(s='Test')], keywords=[]), attr='filter'), args=[Str(s='COUNTY_POP')], keywords=[]))\nExpr(value=Call(func=Attribute(value=Name(id='fig'), attr='find'), args=[Str(s='\\\\$(.*?)\\\\$'), Str(s='$sin')], keywords=[]))\nExpr(value=Call(func=Attribute(value=Name(id='subprocess'), attr='system'), args=[Str(s='TASKKILL -c')], keywords=[]))\nExpr(value=Call(func=Attribute(value=Name(id='ax'), attr='set_yticklabels'), args=[Str(s='INSERT')], keywords=[keyword(arg='auth', value=Str(s='2011-01-01'))]))\nExpr(value=ListComp(elt=Call(func=Name(id='int'), args=[Name(id='x')], keywords=[]), generators=[comprehension(target=Name(id='x'), iter=Call(func=Name(id='range'), args=[Name(id='x')], keywords=[]), ifs=[])]))\nExpr(value=Call(func=Attribute(value=Str(s=''), attr='join'), args=[GeneratorExp(elt=Call(func=Name(id='str'), args=[Name(id='x')], keywords=[]), generators=[])], keywords=[]))\nExpr(value=ListComp(elt=Call(func=Name(id='len'), args=[Name(id='d')], keywords=[]), generators=[comprehension(target=Name(id='d'), iter=Name(id='d'), ifs=[])]))\n"
     ]
    },
    {
     "name": "stdout",
     "output_type": "stream",
     "text": [
      "Expr(value=Call(func=Attribute(value=Name(id='np'), attr='sort'), args=[List(elts=[Str(s='sex'), Str(s='c2')])], keywords=[]))\ncopy_logits size torch.Size([11])\ncopy_ind 0\nExpr(value=Call(func=Attribute(value=Name(id='somelist'), attr='reverse'), args=[], keywords=[keyword(arg='key', value=Lambda(args=arguments(args=[arg(arg='x', annotation=None)], vararg=None, kwonlyargs=[], kw_defaults=[], kwarg=None, defaults=[]), body=Call(func=Attribute(value=Name(id='re'), attr='sub'), args=[Str(s='_')], keywords=[])))]))\ncopy_logits size torch.Size([13])\ncopy_ind 0\nExpr(value=Call(func=Attribute(value=Name(id='somelist'), attr='sort'), args=[], keywords=[keyword(arg='key', value=Lambda(args=arguments(args=[arg(arg='x', annotation=None)], vararg=None, kwonlyargs=[], kw_defaults=[], kwarg=None, defaults=[]), body=Call(func=Attribute(value=Name(id='order'), attr='index'), args=[Str(s='id')], keywords=[])))]))\ncopy_logits size torch.Size([7])\ncopy_ind 0\nExpr(value=Call(func=Attribute(value=Name(id='requests'), attr='click'), args=[], keywords=[keyword(arg='headers', value=Str(s='http://httpbin.org/post'))]))\nExpr(value=Call(func=Attribute(value=Name(id='driver'), attr='find_element_by_css_selector'), args=[Str(s=\"input[onclick*='1\")], keywords=[keyword(arg='flat', value=Str(s='utf-16'))]))\nExpr(value=Call(func=Attribute(value=Name(id='driver'), attr='get'), args=[Str(s='filename.png')], keywords=[keyword(arg='href', value=Str(s='utf-16'))]))\n"
     ]
    },
    {
     "name": "stdout",
     "output_type": "stream",
     "text": [
      "Expr(value=Call(func=Attribute(value=Name(id='ax'), attr='get'), args=[Str(s='https://www.mysite.com/')], keywords=[keyword(arg='auth', value=Str(s='%b'))]))\nExpr(value=Call(func=Attribute(value=Name(id='df'), attr='apply'), args=[Str(s='m')], keywords=[]))\nExpr(value=Call(func=Attribute(value=Name(id='os'), attr='call'), args=[Str(s='grep')], keywords=[keyword(arg='shell', value=Str(s='file2.txt'))]))\nExpr(value=Call(func=Name(id='sorted'), args=[Name(id='l')], keywords=[keyword(arg='key', value=Lambda(args=arguments(args=[arg(arg='x', annotation=None)], vararg=None, kwonlyargs=[], kw_defaults=[], kwarg=None, defaults=[]), body=Tuple(elts=[Call(func=Name(id='len'), args=[Subscript(value=Name(id='x'), slice=Index(value=Num(n=1)))], keywords=[])])))]))\nExpr(value=Call(func=Name(id='map'), args=[Call(func=Attribute(value=Name(id='s'), attr='replace'), args=[Str(s='\\\\d+'), Str(s='')], keywords=[])], keywords=[]))\nExpr(value=Call(func=Attribute(value=Name(id='ast'), attr='find'), args=[Str(s='l+')], keywords=[keyword(arg='dtype', value=Str(s='tight'))]))\n"
     ]
    },
    {
     "name": "stdout",
     "output_type": "stream",
     "text": [
      "Assign(targets=[Name(id='x')], value=Call(func=Name(id='sorted'), args=[Call(func=Name(id='list'), args=[Call(func=Name(id='reversed'), args=[Call(func=Name(id='reversed'), args=[Call(func=Attribute(value=Name(id='x'), attr='logical_not'), args=[], keywords=[])], keywords=[])], keywords=[])], keywords=[])], keywords=[]))\nExpr(value=Call(func=Attribute(value=Name(id='json'), attr='dumps'), args=[Str(s='update')], keywords=[]))\nExpr(value=Call(func=Attribute(value=Name(id='json'), attr='dumps'), args=[Str(s='update')], keywords=[]))\nExpr(value=Call(func=Name(id='dict'), args=[Call(func=Name(id='zip'), args=[Call(func=Name(id='zip'), args=[Name(id='a')], keywords=[])], keywords=[])], keywords=[]))\nExpr(value=Call(func=Attribute(value=Name(id='np'), attr='outer'), args=[Call(func=Attribute(value=Name(id='np'), attr='in1d'), args=[], keywords=[])], keywords=[]))\nExpr(value=Call(func=Attribute(value=Name(id='plt'), attr='findall'), args=[Str(s='\\\\b[A-Z]')], keywords=[keyword(arg='dpi', value=Str(s='value'))]))\nExpr(value=Call(func=Attribute(value=Name(id='re'), attr='replace'), args=[Str(s=''), Str(s=''), Str(s=' '), Str(s=' ')], keywords=[]))\nExpr(value=ListComp(elt=Call(func=Name(id='int'), args=[Name(id='i')], keywords=[]), generators=[comprehension(target=Name(id='i'), iter=Call(func=Name(id='range'), args=[Str(s='\\\\[([^\\\\[\\\\]]+)\\\\]')], keywords=[]), ifs=[])]))"
     ]
    },
    {
     "name": "stdout",
     "output_type": "stream",
     "text": [
      "\nExpr(value=Call(func=Attribute(value=Name(id='re'), attr='split'), args=[Str(s='&')], keywords=[]))\nExpr(value=Call(func=Attribute(value=Str(s=''), attr='replace'), args=[Str(s='Hello')], keywords=[]))\nExpr(value=Call(func=Attribute(value=Subscript(value=Subscript(value=Name(id='df'), slice=Index(value=Str(s='A'))), slice=Index(value=Str(s='A'))), attr='isin'), args=[Str(s='C')], keywords=[]))\nExpr(value=Call(func=Name(id='sorted'), args=[Call(func=Name(id='dict'), args=[Call(func=Attribute(value=Name(id='u'), attr='get'), args=[], keywords=[])], keywords=[])], keywords=[]))\nExpr(value=ListComp(elt=Name(id='k'), generators=[comprehension(target=Name(id='d'), iter=Name(id='d'), ifs=[])]))\nExpr(value=Call(func=Attribute(value=Name(id='df'), attr='update'), args=[], keywords=[keyword(arg='key', value=Lambda(args=arguments(args=[arg(arg='x', annotation=None)], vararg=None, kwonlyargs=[], kw_defaults=[], kwarg=None, defaults=[]), body=Subscript(value=Name(id='x'), slice=Index(value=Str(s='append')))))]))\nExpr(value=Call(func=Attribute(value=Name(id='myString'), attr='encode'), args=[Str(s='\\n\\r'), Str(s='')], keywords=[]))\nExpr(value=Call(func=Name(id='int'), args=[Call(func=Attribute(value=Str(s=''), attr='join'), args=[Name(id='c')], keywords=[])], keywords=[]))"
     ]
    },
    {
     "name": "stdout",
     "output_type": "stream",
     "text": [
      "\nExpr(value=Call(func=Attribute(value=Attribute(value=Name(id='self'), attr='session'), attr='get'), args=[Str(s='string_of_characters_like_these:$#@=?%^Q^$')], keywords=[]))\nExpr(value=Call(func=Attribute(value=Name(id='br'), attr='exit'), args=[Str(s='append')], keywords=[]))\nExpr(value=Call(func=Attribute(value=Name(id='br'), attr='exit'), args=[Str(s='append')], keywords=[]))\nExpr(value=Call(func=Attribute(value=Name(id='l1'), attr='sort'), args=[], keywords=[keyword(arg='key', value=Call(func=Attribute(value=Name(id='operator'), attr='itemgetter'), args=[Str(s='resultType')], keywords=[]))]))\ncopy_logits size torch.Size([6])\ncopy_ind 0\nExpr(value=Call(func=Attribute(value=Name(id='requests'), attr='encode'), args=[Str(s='http://example.com')], keywords=[]))\nExpr(value=Call(func=Attribute(value=Name(id='requests'), attr='get'), args=[Str(s='filename.png')], keywords=[keyword(arg='headers', value=Str(s='Python'))]))\nExpr(value=Call(func=Attribute(value=Name(id='driver'), attr='find_element_by_css_selector'), args=[Str(s=\"//div[@id='a']//a[@class='click']\")], keywords=[]))\nExpr(value=Call(func=Attribute(value=Name(id='os'), attr='write'), args=[Str(s='file.gz')], keywords=[]))\nExpr(value=Call(func=Attribute(value=Name(id='plt'), attr='loadtxt'), args=[Str(s='\\\\d|\\\\d,\\\\d\\\\)')], keywords=[keyword(arg='flat', value=Str(s=','))]))\n"
     ]
    },
    {
     "name": "stdout",
     "output_type": "stream",
     "text": [
      "Expr(value=ListComp(elt=Subscript(value=Name(id='x'), slice=Index(value=Num(n=1))), generators=[comprehension(target=Name(id='x'), iter=Name(id='lst'), ifs=[])]))\nExpr(value=Call(func=Attribute(value=Name(id='np'), attr='fromstring'), args=[Str(s='\\x00\\x00\\x80?\\x00\\x00\\x00@\\x00\\x00@@\\x00\\x00\\x80@')], keywords=[keyword(arg='dtype', value=NameConstant(value='False'))]))\nExpr(value=Call(func=Attribute(value=Name(id='re'), attr='findall'), args=[Str(s='\\\\.(?=[^'), Str(s='*')], keywords=[]))\ncopy_logits size torch.Size([6])\ncopy_ind 1\nExpr(value=Call(func=Attribute(value=Name(id='string2'), attr='any'), args=[Str(s='utf8')], keywords=[]))\nExpr(value=Call(func=Attribute(value=Name(id='np'), attr='where'), args=[Call(func=Attribute(value=Name(id='np'), attr='reshape'), args=[Name(id='arr')], keywords=[])], keywords=[]))\nExpr(value=Call(func=Attribute(value=Name(id='pd'), attr='update'), args=[List(elts=[Str(s='b'), Str(s='b')])], keywords=[]))\nExpr(value=Call(func=Attribute(value=Name(id='os'), attr='system'), args=[Str(s='%Y-%m-%d -c \"echo')], keywords=[]))\nExpr(value=Call(func=Attribute(value=Name(id='subprocess'), attr='system'), args=[Str(s='TASKKILL your_own_script')], keywords=[]))\ncopy_logits size torch.Size([7])\ncopy_ind 5\nExpr(value=Call(func=Attribute(value=Name(id='subprocess'), attr='system'), args=[Str(s='some csv %z')], keywords=[]))\n"
     ]
    },
    {
     "name": "stdout",
     "output_type": "stream",
     "text": [
      "Expr(value=Call(func=Attribute(value=Name(id='df'), attr='fillna'), args=[Str(s='column_name')], keywords=[]))\ncopy_logits size torch.Size([9])\ncopy_ind 2\nExpr(value=Call(func=Attribute(value=Attribute(value=Name(id='datetime'), attr='timestamp'), attr='append'), args=[Str(s='java')], keywords=[]))\nExpr(value=Call(func=Attribute(value=Name(id='ax'), attr='set_xticklabels'), args=[Str(s='https://www.mysite.com/ document.body.scrollHeight);')], keywords=[keyword(arg='auth', value=Str(s='my_bucket'))]))\nExpr(value=Call(func=Attribute(value=Name(id='df'), attr='pivot_table'), args=[Str(s='Cat1')], keywords=[keyword(arg='index', value=Str(s='X'))]))\nExpr(value=Call(func=Attribute(value=Name(id='re'), attr='split'), args=[Str(s='[\\\\W_]+'), Str(s='')], keywords=[]))\nExpr(value=ListComp(elt=Subscript(value=Name(id='row'), slice=Index(value=Str(s='value'))), generators=[comprehension(target=Name(id='x'), iter=Name(id='lst'), ifs=[])]))\nExpr(value=Call(func=Attribute(value=Name(id='foo'), attr='outer'), args=[Str(s='test.csv'), Str(s='')], keywords=[]))\nExpr(value=Call(func=Attribute(value=Attribute(value=Name(id='datetime'), attr='datetime'), attr='fromtimestamp'), args=[Str(s='2012-05-29T19:30:03.283Z'), Str(s='%H:%M')], keywords=[]))\n"
     ]
    },
    {
     "name": "stdout",
     "output_type": "stream",
     "text": [
      "Expr(value=Call(func=Attribute(value=Name(id='d'), attr='update'), args=[Call(func=Attribute(value=Name(id='d'), attr='apply'), args=[], keywords=[])], keywords=[]))\nExpr(value=Call(func=Attribute(value=Attribute(value=Name(id='os'), attr='path'), attr='dirname'), args=[Str(s='file.gz')], keywords=[]))\nExpr(value=Call(func=Attribute(value=Name(id='df'), attr='set_index'), args=[Str(s='Result.csv')], keywords=[keyword(arg='index', value=Str(s='col_name_1'))]))\nExpr(value=Call(func=Name(id='dict'), args=[Call(func=Attribute(value=Str(s=''), attr='format'), args=[GeneratorExp(elt=Call(func=Name(id='str'), args=[Name(id='val')], keywords=[]), generators=[])], keywords=[])], keywords=[]))\nExpr(value=Call(func=Name(id='dict'), args=[Call(func=Attribute(value=Name(id='dic'), attr='get'), args=[], keywords=[])], keywords=[]))\nExpr(value=Call(func=Attribute(value=Call(func=Attribute(value=Name(id='df'), attr='concat'), args=[Str(s='ID')], keywords=[]), attr='head'), args=[], keywords=[]))\ncopy_logits size torch.Size([9])\ncopy_ind 0\nExpr(value=Call(func=Attribute(value=Name(id='np'), attr='print'), args=[], keywords=[keyword(arg='key', value=Str(s='county_ID'))]))\ncopy_logits size torch.Size([6])\ncopy_ind 0\nExpr(value=Call(func=Attribute(value=Name(id='struct'), attr='print'), args=[Str(s='hex')], keywords=[]))\n"
     ]
    },
    {
     "name": "stdout",
     "output_type": "stream",
     "text": [
      "Expr(value=Call(func=Attribute(value=Name(id='re'), attr='findall'), args=[Str(s='start'), Str(s='file2.txt')], keywords=[]))\nExpr(value=Call(func=Attribute(value=Name(id='cursor'), attr='savez'), args=[Str(s='INSERT OR REPLACE VALUES (%s) FROM FROM')], keywords=[]))\nExpr(value=Call(func=Attribute(value=Name(id='re'), attr='findall'), args=[Str(s='(?::|;|=)(?:-)?(?:\\\\)|\\\\(|D|P)'), Str(s='')], keywords=[]))\nExpr(value=Call(func=Attribute(value=Attribute(value=Name(id='datetime'), attr='stdout'), attr='append'), args=[Str(s='/path/to/2014_07_13_test')], keywords=[]))\nExpr(value=Call(func=Name(id='sorted'), args=[Call(func=Name(id='iter'), args=[Call(func=Attribute(value=Name(id='d'), attr='items'), args=[], keywords=[])], keywords=[])], keywords=[keyword(arg='key', value=Lambda(args=arguments(args=[arg(arg='k', annotation=None)], vararg=None, kwonlyargs=[], kw_defaults=[], kwarg=None, defaults=[]), body=Subscript(value=Name(id='k'), slice=Index(value=Str(s='reverse')))))]))\nExpr(value=Call(func=Name(id='sorted'), args=[Name(id='l')], keywords=[keyword(arg='key', value=Lambda(args=arguments(args=[arg(arg='x', annotation=None)], vararg=None, kwonlyargs=[], kw_defaults=[], kwarg=None, defaults=[]), body=Call(func=Name(id='abs'), args=[Subscript(value=Name(id='x'), slice=Index(value=Num(n=1)))], keywords=[])))]))\n"
     ]
    },
    {
     "name": "stdout",
     "output_type": "stream",
     "text": [
      "Expr(value=Call(func=Attribute(value=Name(id='np'), attr='sort'), args=[List(elts=[Str(s='Cat1'), Str(s='City'), Str(s='City')])], keywords=[]))\nExpr(value=ListComp(elt=Call(func=Name(id='sorted'), args=[Name(id='x')], keywords=[]), generators=[comprehension(target=Tuple(elts=[Name(id='x'), Name(id='v')]), iter=Call(func=Name(id='zip'), args=[Name(id='L')], keywords=[]), ifs=[])]))\nExpr(value=Call(func=Attribute(value=Name(id='soup'), attr='findAll'), args=[Str(s='SELECT')], keywords=[keyword(arg='href', value=Str(s='name'))]))\nExpr(value=Call(func=Attribute(value=Name(id='df'), attr='to_csv'), args=[Str(s='c:\\\\data\\\\t.csv')], keywords=[keyword(arg='sep', value=Str(s=';'))]))\nExpr(value=Call(func=Attribute(value=Name(id='s'), attr='strip'), args=[], keywords=[]))\nExpr(value=ListComp(elt=Call(func=Name(id='sum'), args=[Name(id='sublist')], keywords=[]), generators=[comprehension(target=Name(id='sublist'), iter=Name(id='sublist'), ifs=[])]))\nExpr(value=Call(func=Attribute(value=Name(id='ax'), attr='set_xticklabels'), args=[Str(s='Temperature')], keywords=[keyword(arg='verify', value=Str(s='%b'))]))\nExpr(value=Call(func=Attribute(value=Name(id='np'), attr='load'), args=[Str(s='monkey')], keywords=[keyword(arg='nargs', value=Str(s='\\r'))]))\n"
     ]
    },
    {
     "name": "stdout",
     "output_type": "stream",
     "text": [
      "Expr(value=Call(func=Attribute(value=Name(id='np'), attr='load'), args=[Str(s='monkey')], keywords=[keyword(arg='nargs', value=Str(s='\\r'))]))\nExpr(value=Call(func=Attribute(value=Name(id='np'), attr='load'), args=[Str(s='monkey')], keywords=[keyword(arg='nargs', value=Str(s='\\r'))]))\nExpr(value=Call(func=Attribute(value=Name(id='np'), attr='load'), args=[Str(s='monkey')], keywords=[keyword(arg='nargs', value=Str(s='\\r'))]))\nExpr(value=Call(func=Attribute(value=Name(id='np'), attr='load'), args=[Str(s='monkey')], keywords=[keyword(arg='nargs', value=Str(s='\\r'))]))\nExpr(value=Call(func=Attribute(value=Name(id='plt'), attr='info'), args=[Str(s='Aug')], keywords=[]))\nExpr(value=Call(func=Attribute(value=Name(id='plt'), attr='info'), args=[Str(s='Aug')], keywords=[]))\nExpr(value=ListComp(elt=Subscript(value=Name(id='x'), slice=Index(value=Num(n=0))), generators=[comprehension(target=Name(id='x'), iter=Name(id='lst'), ifs=[])]))\nExpr(value=ListComp(elt=Subscript(value=Name(id='sublist'), slice=Index(value=Num(n=1))), generators=[comprehension(target=Name(id='x'), iter=Name(id='sublist'), ifs=[])]))\n"
     ]
    },
    {
     "name": "stdout",
     "output_type": "stream",
     "text": [
      "Expr(value=Call(func=Name(id='list'), args=[Call(func=Name(id='list'), args=[Call(func=Attribute(value=Name(id='dictionary'), attr='items'), args=[], keywords=[])], keywords=[])], keywords=[]))\nExpr(value=Call(func=Attribute(value=Str(s='  join join join join join                                 '), attr='</primitive>'), args=[Str(s=' '), Str(s=' '), Str(s=' '), Str(s=' '), Str(s=' '), Str(s=' ')], keywords=[]))\nExpr(value=Call(func=Attribute(value=Name(id='np'), attr='findall'), args=[Str(s='a')], keywords=[]))\ncopy_logits size torch.Size([14])\ncopy_ind 0\nExpr(value=Call(func=Attribute(value=Name(id='users'), attr='Sort'), args=[], keywords=[keyword(arg='key', value=Lambda(args=arguments(args=[arg(arg='x', annotation=None)], vararg=None, kwonlyargs=[], kw_defaults=[], kwarg=None, defaults=[]), body=Call(func=Attribute(value=Name(id='order'), attr='index'), args=[Num(n=1)], keywords=[])))]))\nExpr(value=Call(func=Attribute(value=Name(id='np'), attr='mean'), args=[Str(s='c:/~/trainSetRel3.txt')], keywords=[keyword(arg='headers', value=NameConstant(value='False'))]))\nExpr(value=Call(func=Name(id='int'), args=[Name(id='x'), Str(s='\\n')], keywords=[]))\nExpr(value=ListComp(elt=Subscript(value=Name(id='element'), slice=Index(value=Num(n=1))), generators=[comprehension(target=Name(id='x'), iter=Name(id='sublist'), ifs=[])]))\nExpr(value=Call(func=Attribute(value=Attribute(value=Name(id='os'), attr='path'), attr='dirname'), args=[Str(s='file.gz')], keywords=[]))\nExpr(value=Call(func=Attribute(value=Name(id='webbrowser'), attr='savefig'), args=[Str(s='/bin/bash'), Str(s='file2.txt')], keywords=[]))\nExpr(value=Call(func=Attribute(value=Name(id='np'), attr='writer'), args=[Str(s='Jun')], keywords=[]))\n"
     ]
    },
    {
     "name": "stdout",
     "output_type": "stream",
     "text": [
      "Expr(value=ListComp(elt=Name(id='x'), generators=[comprehension(target=Name(id='sublist'), iter=Name(id='sublist'), ifs=[Compare(left=Str(s='ar'), ops=[In()], comparators=[Name(id='sublist')])])]))\nExpr(value=Call(func=Attribute(value=Subscript(value=Name(id='df'), slice=Index(value=Str(s='Test'))), attr='apply'), args=[Str(s='Test')], keywords=[]))\nExpr(value=Call(func=Attribute(value=Name(id='ax'), attr='set_xlabel'), args=[Str(s='Temperature')], keywords=[keyword(arg='auth', value=Dict(keys=[Str(s='pwd')], values=[]))]))\nExpr(value=Call(func=Attribute(value=Name(id='ax'), attr='set_xlabel'), args=[Str(s='Temperature')], keywords=[keyword(arg='auth', value=Dict(keys=[Str(s='pwd')], values=[]))]))\nExpr(value=Call(func=Attribute(value=Name(id='json'), attr='dumps'), args=[Str(s='apple')], keywords=[]))\nExpr(value=Call(func=Attribute(value=Str(s='\\\\xc3\\\\x85あ'), attr='format'), args=[Str(s='utf-8')], keywords=[]))\nExpr(value=Call(func=Attribute(value=Name(id='ax'), attr='get'), args=[Str(s='https://www.mysite.com/')], keywords=[keyword(arg='auth', value=Dict(keys=[Str(s='3.5')], values=[]))]))\nExpr(value=Call(func=Attribute(value=Name(id='plt'), attr='set_title'), args=[Str(s='SELECT')], keywords=[keyword(arg='auth', value=Str(s='./uireplace.pl'))]))\n"
     ]
    },
    {
     "name": "stdout",
     "output_type": "stream",
     "text": [
      "Expr(value=Call(func=Attribute(value=Name(id='json'), attr='get'), args=[Str(s='http://httpbin.org/post')], keywords=[]))\nExpr(value=Call(func=Attribute(value=Name(id='d'), attr='update'), args=[], keywords=[keyword(arg='key', value=Lambda(args=arguments(args=[arg(arg='d', annotation=None)], vararg=None, kwonlyargs=[], kw_defaults=[], kwarg=None, defaults=[]), body=Subscript(value=Name(id='d'), slice=Index(value=Str(s='index')))))]))\nExpr(value=Call(func=Name(id='dict'), args=[Call(func=Name(id='list'), args=[Call(func=Attribute(value=Name(id='d'), attr='items'), args=[], keywords=[])], keywords=[])], keywords=[]))\nExpr(value=Call(func=Name(id='dict'), args=[Call(func=Name(id='list'), args=[Call(func=Attribute(value=Name(id='d'), attr='items'), args=[], keywords=[])], keywords=[])], keywords=[]))\nExpr(value=Call(func=Name(id='dict'), args=[Call(func=Name(id='list'), args=[Call(func=Attribute(value=Name(id='d'), attr='items'), args=[], keywords=[])], keywords=[])], keywords=[]))\nExpr(value=Call(func=Attribute(value=Name(id='np'), attr='update'), args=[Name(id='x')], keywords=[keyword(arg='key', value=Lambda(args=arguments(args=[arg(arg='x', annotation=None)], vararg=None, kwonlyargs=[], kw_defaults=[], kwarg=None, defaults=[]), body=Call(func=Attribute(value=Name(id='x'), attr='index'), args=[Name(id='x')], keywords=[])))]))\ncopy_logits size torch.Size([10])\ncopy_ind 4\nExpr(value=Call(func=Attribute(value=Attribute(value=Name(id='urllib'), attr='2'), attr='flush'), args=[Str(s='utf-8')], keywords=[]))\n"
     ]
    }
   ],
   "source": [
    "model.eval()\n",
    "test_loader = P.get_test_loader(test_intent, word2num, batch_size=1)\n",
    "testFile = open('./testl_predict.txt','w')\n",
    "for (sample_sent, sample_sent_txt) in test_loader:\n",
    "    sample_hypothesis = model.parse(sample_sent, sample_sent_txt, act_lst, token_lst, ast_action)\n",
    "    try:\n",
    "        code = ast_action.actions2code(sample_hypothesis.actions)\n",
    "    except:\n",
    "        code = ' '\n",
    "    testFile.write(code+'\\n')\n",
    "testFile.close()"
   ]
  },
  {
   "cell_type": "code",
   "execution_count": 158,
   "metadata": {},
   "outputs": [],
   "source": [
    "testFile.close()"
   ]
  },
  {
   "cell_type": "code",
   "execution_count": null,
   "metadata": {},
   "outputs": [],
   "source": []
  }
 ],
 "metadata": {
  "kernelspec": {
   "display_name": "Python [conda env:Anaconda3]",
   "language": "python",
   "name": "conda-env-Anaconda3-py"
  },
  "language_info": {
   "codemirror_mode": {
    "name": "ipython",
    "version": 3
   },
   "file_extension": ".py",
   "mimetype": "text/x-python",
   "name": "python",
   "nbconvert_exporter": "python",
   "pygments_lexer": "ipython3",
   "version": "3.6.3"
  }
 },
 "nbformat": 4,
 "nbformat_minor": 2
}
