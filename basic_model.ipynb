{
 "cells": [
  {
   "cell_type": "code",
   "execution_count": 1,
   "metadata": {
    "collapsed": true
   },
   "outputs": [],
   "source": [
    "%load_ext autoreload\n",
    "%autoreload 2"
   ]
  },
  {
   "cell_type": "code",
   "execution_count": 172,
   "metadata": {},
   "outputs": [],
   "source": [
    "import json\n",
    "import json_lines\n",
    "import preprocess_temp as P\n",
    "import model.parsers as M"
   ]
  },
  {
   "cell_type": "markdown",
   "metadata": {},
   "source": [
    "### Load Data"
   ]
  },
  {
   "cell_type": "code",
   "execution_count": 7,
   "metadata": {
    "collapsed": true
   },
   "outputs": [],
   "source": [
    "directory = './conala-corpus/'\n",
    "train_file = directory + 'train.json'\n",
    "test_file = directory + 'test.json'\n",
    "\n",
    "with open(train_file) as f:\n",
    "    train_data = json.load(f)\n",
    "    \n",
    "with open(test_file) as f:\n",
    "    test_data = json.load(f)"
   ]
  },
  {
   "cell_type": "code",
   "execution_count": 8,
   "metadata": {
    "collapsed": true
   },
   "outputs": [],
   "source": [
    "mine_file = directory + 'mined.jsonl'\n",
    "mine_data = []\n",
    "with open(mine_file) as f:\n",
    "    mine_data = [line for line in json_lines.reader(f)]"
   ]
  },
  {
   "cell_type": "markdown",
   "metadata": {},
   "source": [
    "### Let's preprocess the data. Everything is in Preprocess.py\n",
    "### Adding mined data"
   ]
  },
  {
   "cell_type": "code",
   "execution_count": 9,
   "metadata": {
    "collapsed": true
   },
   "outputs": [],
   "source": [
    "# intent processing includes lowercase, remove punctuation'?'\n",
    "train_intent, train_codes = P.process_data(train_data)\n",
    "test_intent, test_codes = P.process_data(test_data)"
   ]
  },
  {
   "cell_type": "code",
   "execution_count": 10,
   "metadata": {
    "collapsed": true
   },
   "outputs": [],
   "source": [
    "mine_intent, mine_codes = P.process_data(mine_data, mine=True)"
   ]
  },
  {
   "cell_type": "code",
   "execution_count": 180,
   "metadata": {
    "collapsed": true
   },
   "outputs": [],
   "source": [
    "# this class is used for code2actions and actions2code\n",
    "ast_action = P.Ast_Action()"
   ]
  },
  {
   "cell_type": "code",
   "execution_count": 12,
   "metadata": {
    "collapsed": true
   },
   "outputs": [],
   "source": [
    "train_actions = []\n",
    "\n",
    "for code in train_codes:\n",
    "    train_actions.append(ast_action.code2actions(code))"
   ]
  },
  {
   "cell_type": "code",
   "execution_count": 13,
   "metadata": {
    "collapsed": true,
    "scrolled": true
   },
   "outputs": [],
   "source": [
    "word_lst = P.vocab_list(train_intent, cut_freq=5)\n",
    "act_lst, token_lst = P.action_list(train_actions, cut_freq=5)"
   ]
  },
  {
   "cell_type": "code",
   "execution_count": 14,
   "metadata": {
    "collapsed": true
   },
   "outputs": [],
   "source": [
    "word2num = dict(zip(word_lst, range(0,len(word_lst))))\n",
    "act2num = dict(zip(act_lst, range(0,len(act_lst))))\n",
    "token2num = dict(zip(token_lst, range(0,len(token_lst))))"
   ]
  },
  {
   "cell_type": "code",
   "execution_count": 15,
   "metadata": {
    "collapsed": true
   },
   "outputs": [],
   "source": [
    "train_loader = P.get_train_loader(train_intent, train_actions, word2num, act2num, token2num)"
   ]
  },
  {
   "cell_type": "code",
   "execution_count": 28,
   "metadata": {
    "collapsed": true
   },
   "outputs": [],
   "source": [
    "test_loader = P.get_test_loader(test_intent, word2num, batch_size=1)"
   ]
  },
  {
   "cell_type": "code",
   "execution_count": 17,
   "metadata": {
    "collapsed": true
   },
   "outputs": [],
   "source": [
    "action_index_copy = act2num[P.GenTokenAction('copy')]\n",
    "action_index_gen = act2num[P.GenTokenAction('token')]"
   ]
  },
  {
   "cell_type": "markdown",
   "metadata": {},
   "source": [
    "### Model"
   ]
  },
  {
   "cell_type": "code",
   "execution_count": 18,
   "metadata": {
    "collapsed": true
   },
   "outputs": [],
   "source": [
    "import torch\n",
    "import time"
   ]
  },
  {
   "cell_type": "code",
   "execution_count": 70,
   "metadata": {
    "scrolled": true
   },
   "outputs": [],
   "source": [
    "from collections import namedtuple\n",
    "hyperParamMap = {\n",
    "    #### General configuration ####\n",
    "    'cuda': True,      # Use gpu\n",
    "    'mode': 'train',   # train or test\n",
    "\n",
    "    #### Embedding sizes ####\n",
    "    'embed_size': 128,         # Size of word embeddings\n",
    "    'action_embed_size': 128,  # Size of ApplyRule/GenToken action embeddings\n",
    "    'field_embed_size': 64,    # Embedding size of ASDL fields\n",
    "    'type_embed_size': 64,     # Embeddings ASDL types\n",
    "\n",
    "    #### Decoding sizes ####\n",
    "    'hidden_size': 256,        # Size of LSTM hidden states\n",
    "\n",
    "    #### training schedule details ####\n",
    "    'valid_metric': 'acc',                # Metric used for validation\n",
    "    'valid_every_epoch': 1,               # Perform validation every x epoch\n",
    "    'log_every': 30,                      # Log training statistics every n iterations\n",
    "    'save_to': 'model',                   # Save trained model to\n",
    "    'clip_grad': 5.,                      # Clip gradients\n",
    "    'max_epoch': 10,                      # Maximum number of training epoches\n",
    "    'optimizer': 'Adam',                  # optimizer\n",
    "    'lr': 0.001,                          # Learning rate\n",
    "    'lr_decay': 0.5,                      # decay learning rate if the validation performance drops\n",
    "    'verbose': False,                     # Verbose mode\n",
    "\n",
    "    #### decoding/validation/testing ####\n",
    "    'load_model': None,                   # Load a pre-trained model\n",
    "    'beam_size': 1,                       # Beam size for beam search\n",
    "    'decode_max_time_step': 100,          # Maximum number of time steps used in decoding and sampling\n",
    "    'sample_size': 5,                     # Sample size\n",
    "    'test_file': '',                      # Path to the test file\n",
    "    'save_decode_to': None,               # Save decoding results to file\n",
    "}\n",
    "\n",
    "HyperParams = namedtuple('HyperParams', list(hyperParamMap.keys()), verbose=False)\n",
    "hyperParams = HyperParams(**hyperParamMap)"
   ]
  },
  {
   "cell_type": "code",
   "execution_count": 71,
   "metadata": {
    "collapsed": true
   },
   "outputs": [],
   "source": [
    "model = M.Model(hyperParams, action_size=len(act_lst), token_size=len(token_lst), word_size=len(word_lst), \n",
    "                      action_index_copy=action_index_copy, action_index_gen=action_index_gen)"
   ]
  },
  {
   "cell_type": "code",
   "execution_count": 21,
   "metadata": {
    "collapsed": true
   },
   "outputs": [],
   "source": [
    "optimizer = torch.optim.Adam(model.parameters(), lr = 1e-3)\n",
    "lossFunc = torch.nn.CrossEntropyLoss()"
   ]
  },
  {
   "cell_type": "code",
   "execution_count": 22,
   "metadata": {
    "scrolled": true
   },
   "outputs": [
    {
     "name": "stdout",
     "output_type": "stream",
     "text": [
      "Action loss: 1.7764659366050006\n",
      "Copy loss: 2.4241466522216797\n",
      "Token loss: 4.501692295074463\n",
      "-------------------------------------------------------\n",
      "Action loss: 1.3015571054586172\n",
      "Copy loss: 2.3114724159240723\n",
      "Token loss: 4.114023685455322\n",
      "-------------------------------------------------------\n",
      "Action loss: 1.3431359340564457\n",
      "Copy loss: 2.422819137573242\n",
      "Token loss: 3.7972452640533447\n",
      "-------------------------------------------------------\n",
      "Action loss: 1.1891318483576232\n",
      "Copy loss: 2.785924196243286\n",
      "Token loss: 3.851574182510376\n",
      "-------------------------------------------------------\n",
      "epoch elapsed 130s\n",
      "Action loss: 0.9339700970681257\n",
      "Copy loss: 2.290177583694458\n",
      "Token loss: 3.2537734508514404\n",
      "-------------------------------------------------------\n",
      "Action loss: 0.8002638876686249\n",
      "Copy loss: 2.2067904472351074\n",
      "Token loss: 3.208761215209961\n",
      "-------------------------------------------------------\n",
      "Action loss: 0.7388962956140596\n",
      "Copy loss: 2.517590284347534\n",
      "Token loss: 3.245136022567749\n",
      "-------------------------------------------------------\n",
      "Action loss: 0.7483749191240058\n",
      "Copy loss: 2.0280470848083496\n",
      "Token loss: 3.333911657333374\n",
      "-------------------------------------------------------\n",
      "epoch elapsed 259s\n",
      "Action loss: 0.6364788061795291\n",
      "Copy loss: 1.8512870073318481\n",
      "Token loss: 2.645313262939453\n",
      "-------------------------------------------------------\n",
      "Action loss: 0.5326560672991355\n",
      "Copy loss: 1.9631637334823608\n",
      "Token loss: 2.3689918518066406\n",
      "-------------------------------------------------------\n",
      "Action loss: 0.566074118334778\n",
      "Copy loss: 2.191904306411743\n",
      "Token loss: 3.158633232116699\n",
      "-------------------------------------------------------\n",
      "Action loss: 0.6311941407344943\n",
      "Copy loss: 1.8671902418136597\n",
      "Token loss: 2.497711420059204\n",
      "-------------------------------------------------------\n",
      "epoch elapsed 387s\n",
      "Action loss: 0.434187108347989\n",
      "Copy loss: 1.814901351928711\n",
      "Token loss: 2.654020309448242\n",
      "-------------------------------------------------------\n",
      "Action loss: 0.5898695204510961\n",
      "Copy loss: 2.212895154953003\n",
      "Token loss: 2.766859292984009\n",
      "-------------------------------------------------------\n",
      "Action loss: 0.4695280658725281\n",
      "Copy loss: 1.7635034322738647\n",
      "Token loss: 2.091773509979248\n",
      "-------------------------------------------------------\n",
      "Action loss: 0.6215418082969112\n",
      "Copy loss: 1.640675663948059\n",
      "Token loss: 2.6080594062805176\n",
      "-------------------------------------------------------\n",
      "epoch elapsed 518s\n",
      "Action loss: 0.4265269513638995\n",
      "Copy loss: 2.043325901031494\n",
      "Token loss: 2.378957986831665\n",
      "-------------------------------------------------------\n",
      "Action loss: 0.5771375519179368\n",
      "Copy loss: 2.228217840194702\n",
      "Token loss: 2.5207345485687256\n",
      "-------------------------------------------------------\n",
      "Action loss: 0.6603034833827575\n",
      "Copy loss: 1.4808679819107056\n",
      "Token loss: 2.352501392364502\n",
      "-------------------------------------------------------\n",
      "Action loss: 0.5073868687006937\n",
      "Copy loss: 1.9610369205474854\n",
      "Token loss: 2.7799551486968994\n",
      "-------------------------------------------------------\n",
      "epoch elapsed 648s\n",
      "Action loss: 0.558852305220672\n",
      "Copy loss: 1.7526769638061523\n",
      "Token loss: 2.4709534645080566\n",
      "-------------------------------------------------------\n",
      "Action loss: 0.4973179403845322\n",
      "Copy loss: 1.59684419631958\n",
      "Token loss: 1.8752973079681396\n",
      "-------------------------------------------------------\n",
      "Action loss: 0.3798329847431733\n",
      "Copy loss: 1.8636618852615356\n",
      "Token loss: 1.985282301902771\n",
      "-------------------------------------------------------\n",
      "Action loss: 0.46978003942710916\n",
      "Copy loss: 1.914721965789795\n",
      "Token loss: 1.9685126543045044\n",
      "-------------------------------------------------------\n",
      "epoch elapsed 777s\n",
      "Action loss: 0.47707096399072296\n",
      "Copy loss: 1.6758207082748413\n",
      "Token loss: 1.7796024084091187\n",
      "-------------------------------------------------------\n",
      "Action loss: 0.4012431028417898\n",
      "Copy loss: 1.887706995010376\n",
      "Token loss: 2.1011693477630615\n",
      "-------------------------------------------------------\n",
      "Action loss: 0.46480645040773666\n",
      "Copy loss: 1.9716325998306274\n",
      "Token loss: 2.1322643756866455\n",
      "-------------------------------------------------------\n",
      "Action loss: 0.6037020240088563\n",
      "Copy loss: 1.9857771396636963\n",
      "Token loss: 1.7660648822784424\n",
      "-------------------------------------------------------\n",
      "epoch elapsed 906s\n",
      "Action loss: 0.41869946605023195\n",
      "Copy loss: 2.0576038360595703\n",
      "Token loss: 1.7905242443084717\n",
      "-------------------------------------------------------\n",
      "Action loss: 0.5307045944437854\n",
      "Copy loss: 1.9365801811218262\n",
      "Token loss: 1.9514292478561401\n",
      "-------------------------------------------------------\n",
      "Action loss: 0.40377651616826327\n",
      "Copy loss: 1.7543525695800781\n",
      "Token loss: 2.1205759048461914\n",
      "-------------------------------------------------------\n",
      "Action loss: 0.6874356218860848\n",
      "Copy loss: 2.2261760234832764\n",
      "Token loss: 2.1100597381591797\n",
      "-------------------------------------------------------\n",
      "epoch elapsed 1035s\n",
      "Action loss: 0.5522676755192953\n",
      "Copy loss: 1.7993706464767456\n",
      "Token loss: 1.5132086277008057\n",
      "-------------------------------------------------------\n",
      "Action loss: 0.26501166129982623\n",
      "Copy loss: 1.716706395149231\n",
      "Token loss: 1.5683603286743164\n",
      "-------------------------------------------------------\n",
      "Action loss: 0.4360601291473494\n",
      "Copy loss: 1.5772780179977417\n",
      "Token loss: 1.6334028244018555\n",
      "-------------------------------------------------------\n",
      "Action loss: 0.3318411284722001\n",
      "Copy loss: 1.7944544553756714\n",
      "Token loss: 1.4776972532272339\n",
      "-------------------------------------------------------\n",
      "epoch elapsed 1167s\n",
      "Action loss: 0.394703919879825\n",
      "Copy loss: 1.771930456161499\n",
      "Token loss: 1.8813425302505493\n",
      "-------------------------------------------------------\n",
      "Action loss: 0.3353234394746459\n",
      "Copy loss: 1.7399280071258545\n",
      "Token loss: 1.7416185140609741\n",
      "-------------------------------------------------------\n",
      "Action loss: 0.4402475269369225\n",
      "Copy loss: 1.8627113103866577\n",
      "Token loss: 1.6160774230957031\n",
      "-------------------------------------------------------\n",
      "Action loss: 0.33709771158189994\n",
      "Copy loss: 1.4344797134399414\n",
      "Token loss: 1.915102481842041\n",
      "-------------------------------------------------------\n",
      "epoch elapsed 1302s\n",
      "Action loss: 0.25504545168959425\n",
      "Copy loss: 1.4899049997329712\n",
      "Token loss: 1.5434446334838867\n",
      "-------------------------------------------------------\n",
      "Action loss: 0.3293757200763636\n",
      "Copy loss: 1.7787727117538452\n",
      "Token loss: 1.859653115272522\n",
      "-------------------------------------------------------\n",
      "Action loss: 0.3866282171620036\n",
      "Copy loss: 1.8652559518814087\n",
      "Token loss: 1.4309014081954956\n",
      "-------------------------------------------------------\n",
      "Action loss: 0.4442023499549366\n",
      "Copy loss: 1.5195646286010742\n",
      "Token loss: 1.407322883605957\n",
      "-------------------------------------------------------\n",
      "epoch elapsed 1432s\n",
      "Action loss: 0.22511989632911236\n",
      "Copy loss: 1.6094862222671509\n",
      "Token loss: 1.0617856979370117\n",
      "-------------------------------------------------------\n",
      "Action loss: 0.45527578982047023\n",
      "Copy loss: 1.9320440292358398\n",
      "Token loss: 1.4555937051773071\n",
      "-------------------------------------------------------\n",
      "Action loss: 0.3960451042518308\n",
      "Copy loss: 2.0956435203552246\n",
      "Token loss: 1.938467025756836\n",
      "-------------------------------------------------------\n",
      "Action loss: 0.29464161341177525\n",
      "Copy loss: 1.9045414924621582\n",
      "Token loss: 1.5005216598510742\n",
      "-------------------------------------------------------\n",
      "epoch elapsed 1562s\n"
     ]
    },
    {
     "ename": "KeyboardInterrupt",
     "evalue": "",
     "output_type": "error",
     "traceback": [
      "\u001b[1;31m---------------------------------------------------------------------------\u001b[0m",
      "\u001b[1;31mKeyboardInterrupt\u001b[0m                         Traceback (most recent call last)",
      "\u001b[1;32m<ipython-input-22-7753790f1ad9>\u001b[0m in \u001b[0;36m<module>\u001b[1;34m()\u001b[0m\n\u001b[0;32m     15\u001b[0m \u001b[1;33m\u001b[0m\u001b[0m\n\u001b[0;32m     16\u001b[0m         \u001b[0mtotal_loss\u001b[0m \u001b[1;33m=\u001b[0m \u001b[0mloss1\u001b[0m \u001b[1;33m+\u001b[0m \u001b[0mloss2\u001b[0m\u001b[1;33m.\u001b[0m\u001b[0mdouble\u001b[0m\u001b[1;33m(\u001b[0m\u001b[1;33m)\u001b[0m \u001b[1;33m+\u001b[0m \u001b[0mloss3\u001b[0m\u001b[1;33m.\u001b[0m\u001b[0mdouble\u001b[0m\u001b[1;33m(\u001b[0m\u001b[1;33m)\u001b[0m\u001b[1;33m\u001b[0m\u001b[0m\n\u001b[1;32m---> 17\u001b[1;33m         \u001b[0mtotal_loss\u001b[0m\u001b[1;33m.\u001b[0m\u001b[0mbackward\u001b[0m\u001b[1;33m(\u001b[0m\u001b[1;33m)\u001b[0m\u001b[1;33m\u001b[0m\u001b[0m\n\u001b[0m\u001b[0;32m     18\u001b[0m \u001b[1;33m\u001b[0m\u001b[0m\n\u001b[0;32m     19\u001b[0m         \u001b[1;31m# clip gradient\u001b[0m\u001b[1;33m\u001b[0m\u001b[1;33m\u001b[0m\u001b[0m\n",
      "\u001b[1;32m~\\Anaconda3\\lib\\site-packages\\torch\\tensor.py\u001b[0m in \u001b[0;36mbackward\u001b[1;34m(self, gradient, retain_graph, create_graph)\u001b[0m\n\u001b[0;32m     91\u001b[0m                 \u001b[0mproducts\u001b[0m\u001b[1;33m.\u001b[0m \u001b[0mDefaults\u001b[0m \u001b[0mto\u001b[0m\u001b[0;31m \u001b[0m\u001b[0;31m`\u001b[0m\u001b[0;31m`\u001b[0m\u001b[1;32mFalse\u001b[0m\u001b[0;31m`\u001b[0m\u001b[0;31m`\u001b[0m\u001b[1;33m.\u001b[0m\u001b[1;33m\u001b[0m\u001b[0m\n\u001b[0;32m     92\u001b[0m         \"\"\"\n\u001b[1;32m---> 93\u001b[1;33m         \u001b[0mtorch\u001b[0m\u001b[1;33m.\u001b[0m\u001b[0mautograd\u001b[0m\u001b[1;33m.\u001b[0m\u001b[0mbackward\u001b[0m\u001b[1;33m(\u001b[0m\u001b[0mself\u001b[0m\u001b[1;33m,\u001b[0m \u001b[0mgradient\u001b[0m\u001b[1;33m,\u001b[0m \u001b[0mretain_graph\u001b[0m\u001b[1;33m,\u001b[0m \u001b[0mcreate_graph\u001b[0m\u001b[1;33m)\u001b[0m\u001b[1;33m\u001b[0m\u001b[0m\n\u001b[0m\u001b[0;32m     94\u001b[0m \u001b[1;33m\u001b[0m\u001b[0m\n\u001b[0;32m     95\u001b[0m     \u001b[1;32mdef\u001b[0m \u001b[0mregister_hook\u001b[0m\u001b[1;33m(\u001b[0m\u001b[0mself\u001b[0m\u001b[1;33m,\u001b[0m \u001b[0mhook\u001b[0m\u001b[1;33m)\u001b[0m\u001b[1;33m:\u001b[0m\u001b[1;33m\u001b[0m\u001b[0m\n",
      "\u001b[1;32m~\\Anaconda3\\lib\\site-packages\\torch\\autograd\\__init__.py\u001b[0m in \u001b[0;36mbackward\u001b[1;34m(tensors, grad_tensors, retain_graph, create_graph, grad_variables)\u001b[0m\n\u001b[0;32m     88\u001b[0m     Variable._execution_engine.run_backward(\n\u001b[0;32m     89\u001b[0m         \u001b[0mtensors\u001b[0m\u001b[1;33m,\u001b[0m \u001b[0mgrad_tensors\u001b[0m\u001b[1;33m,\u001b[0m \u001b[0mretain_graph\u001b[0m\u001b[1;33m,\u001b[0m \u001b[0mcreate_graph\u001b[0m\u001b[1;33m,\u001b[0m\u001b[1;33m\u001b[0m\u001b[0m\n\u001b[1;32m---> 90\u001b[1;33m         allow_unreachable=True)  # allow_unreachable flag\n\u001b[0m\u001b[0;32m     91\u001b[0m \u001b[1;33m\u001b[0m\u001b[0m\n\u001b[0;32m     92\u001b[0m \u001b[1;33m\u001b[0m\u001b[0m\n",
      "\u001b[1;31mKeyboardInterrupt\u001b[0m: "
     ]
    }
   ],
   "source": [
    "epoch_begin = time.time()\n",
    "for e in range(20):\n",
    "    for batch_ind, x in enumerate(train_loader):\n",
    "        optimizer.zero_grad()\n",
    "\n",
    "        (action_logits, action_labels), (copy_logits, copy_labels), (token_logits, token_labels) = model(x)\n",
    "\n",
    "        loss1 = lossFunc(action_logits, action_labels)\n",
    "        loss2 = torch.DoubleTensor([0.0])\n",
    "        if len(copy_logits) > 0:\n",
    "            loss2 = lossFunc(copy_logits, copy_labels)\n",
    "        loss3 = torch.DoubleTensor([0.0])\n",
    "        if len(token_logits) > 0:\n",
    "            loss3 = lossFunc(token_logits, token_labels)\n",
    "\n",
    "        total_loss = loss1 + loss2.double() + loss3.double()\n",
    "        total_loss.backward()\n",
    "\n",
    "        # clip gradient\n",
    "        if hyperParams.clip_grad > 0.:\n",
    "            grad_norm = torch.nn.utils.clip_grad_norm_(model.parameters(), hyperParams.clip_grad)\n",
    "\n",
    "        optimizer.step()\n",
    "\n",
    "        if batch_ind % hyperParams.log_every == hyperParams.log_every - 1:\n",
    "            print(\"Action loss: {}\".format(loss1.data))\n",
    "            print(\"Copy loss: {}\".format(loss2.data))\n",
    "            print(\"Token loss: {}\".format(loss3.data))\n",
    "            print('-------------------------------------------------------')\n",
    "            report_loss = report_examples = 0.\n",
    "\n",
    "    print('epoch elapsed %ds' % (time.time() - epoch_begin))"
   ]
  },
  {
   "cell_type": "code",
   "execution_count": 24,
   "metadata": {},
   "outputs": [],
   "source": [
    "torch.save((model).state_dict(), 'Parameters/frist.t7')"
   ]
  },
  {
   "cell_type": "code",
   "execution_count": 173,
   "metadata": {
    "collapsed": true
   },
   "outputs": [],
   "source": [
    "model.load_state_dict(torch.load('Parameters/frist.t7'))"
   ]
  },
  {
   "cell_type": "code",
   "execution_count": 210,
   "metadata": {},
   "outputs": [],
   "source": [
    "sample_sent, sample_sent_txt = next(iter(test_loader))"
   ]
  },
  {
   "cell_type": "code",
   "execution_count": 207,
   "metadata": {},
   "outputs": [],
   "source": [
    "sample_hypothesis = model.parse(sample_sent, sample_sent_txt, act_lst, token_lst, ast_action)"
   ]
  },
  {
   "cell_type": "code",
   "execution_count": 204,
   "metadata": {},
   "outputs": [
    {
     "data": {
      "text/plain": [
       "\"os.system(\\n    '<UNK> <UNK> <UNK> <UNK> <UNK> <UNK> <UNK> <UNK> <UNK> <UNK> <UNK> <UNK> <UNK>'\\n    )\""
      ]
     },
     "execution_count": 204,
     "metadata": {},
     "output_type": "execute_result"
    }
   ],
   "source": [
    "ast_action.actions2code(sample_hypothesis.actions)"
   ]
  },
  {
   "cell_type": "code",
   "execution_count": 208,
   "metadata": {},
   "outputs": [
    {
     "data": {
      "text/plain": [
       "[['send',\n",
       "  'a',\n",
       "  'signal',\n",
       "  '`signal.SIGUSR1`',\n",
       "  'to',\n",
       "  'the',\n",
       "  'current',\n",
       "  'process']]"
      ]
     },
     "execution_count": 208,
     "metadata": {},
     "output_type": "execute_result"
    }
   ],
   "source": [
    "sample_sent_txt"
   ]
  },
  {
   "cell_type": "code",
   "execution_count": null,
   "metadata": {
    "collapsed": true
   },
   "outputs": [],
   "source": []
  }
 ],
 "metadata": {
  "kernelspec": {
   "display_name": "Python [conda env:Anaconda3]",
   "language": "python",
   "name": "conda-env-Anaconda3-py"
  },
  "language_info": {
   "codemirror_mode": {
    "name": "ipython",
    "version": 3
   },
   "file_extension": ".py",
   "mimetype": "text/x-python",
   "name": "python",
   "nbconvert_exporter": "python",
   "pygments_lexer": "ipython3",
   "version": "3.6.3"
  }
 },
 "nbformat": 4,
 "nbformat_minor": 2
}
