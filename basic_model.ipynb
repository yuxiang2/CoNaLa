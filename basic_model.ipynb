{
 "cells": [
  {
   "cell_type": "code",
   "execution_count": 1,
   "metadata": {
    "collapsed": true
   },
   "outputs": [],
   "source": [
    "%load_ext autoreload\n",
    "%autoreload 2"
   ]
  },
  {
   "cell_type": "code",
   "execution_count": 2,
   "metadata": {},
   "outputs": [],
   "source": [
    "import json\n",
    "import json_lines\n",
    "import preprocess_temp as P\n",
    "import model.parsers as M"
   ]
  },
  {
   "cell_type": "markdown",
   "metadata": {},
   "source": [
    "### Load Data"
   ]
  },
  {
   "cell_type": "code",
   "execution_count": 3,
   "metadata": {
    "collapsed": true
   },
   "outputs": [],
   "source": [
    "directory = './conala-corpus/'\n",
    "train_file = directory + 'train.json'\n",
    "test_file = directory + 'test.json'\n",
    "\n",
    "with open(train_file) as f:\n",
    "    train_data = json.load(f)\n",
    "    \n",
    "with open(test_file) as f:\n",
    "    test_data = json.load(f)"
   ]
  },
  {
   "cell_type": "code",
   "execution_count": 4,
   "metadata": {
    "collapsed": true
   },
   "outputs": [],
   "source": [
    "mine_file = directory + 'mined.jsonl'\n",
    "mine_data = []\n",
    "with open(mine_file) as f:\n",
    "    mine_data = [line for line in json_lines.reader(f)]"
   ]
  },
  {
   "cell_type": "markdown",
   "metadata": {},
   "source": [
    "### Let's preprocess the data. Everything is in Preprocess.py\n",
    "### Adding mined data"
   ]
  },
  {
   "cell_type": "code",
   "execution_count": 5,
   "metadata": {},
   "outputs": [
    {
     "data": {
      "text/plain": [
       "{'id': '34705205_34705233_0',\n 'intent': 'Sort a nested list by two elements',\n 'parent_answer_post_id': 34705233,\n 'prob': 0.8690001442846342,\n 'question_id': 34705205,\n 'snippet': 'sorted(l, key=lambda x: (-int(x[1]), x[0]))'}"
      ]
     },
     "execution_count": 5,
     "metadata": {},
     "output_type": "execute_result"
    }
   ],
   "source": [
    "mine_data[0]"
   ]
  },
  {
   "cell_type": "code",
   "execution_count": 6,
   "metadata": {
    "collapsed": true
   },
   "outputs": [],
   "source": [
    "# intent processing includes lowercase, remove punctuation'?'\n",
    "train_intent, train_codes = P.process_data(train_data)\n",
    "test_intent, test_codes = P.process_data(test_data)"
   ]
  },
  {
   "cell_type": "code",
   "execution_count": 7,
   "metadata": {
    "collapsed": true
   },
   "outputs": [],
   "source": [
    "mine_intent, mine_codes = P.process_data(mine_data, mine=True)"
   ]
  },
  {
   "cell_type": "code",
   "execution_count": 8,
   "metadata": {
    "collapsed": true
   },
   "outputs": [],
   "source": [
    "# this class is used for code2actions and actions2code\n",
    "ast_action = P.Ast_Action()"
   ]
  },
  {
   "cell_type": "code",
   "execution_count": 9,
   "metadata": {
    "collapsed": true
   },
   "outputs": [],
   "source": [
    "train_actions = []\n",
    "\n",
    "for code in train_codes:\n",
    "    train_actions.append(ast_action.code2actions(code))"
   ]
  },
  {
   "cell_type": "code",
   "execution_count": 10,
   "metadata": {
    "collapsed": true,
    "scrolled": true
   },
   "outputs": [],
   "source": [
    "word_lst = P.vocab_list(train_intent, cut_freq=2)\n",
    "act_lst, token_lst = P.action_list(train_actions, cut_freq=0)"
   ]
  },
  {
   "cell_type": "code",
   "execution_count": 11,
   "metadata": {
    "collapsed": true
   },
   "outputs": [],
   "source": [
    "word2num = dict(zip(word_lst, range(0,len(word_lst))))\n",
    "act2num = dict(zip(act_lst, range(0,len(act_lst))))\n",
    "token2num = dict(zip(token_lst, range(0,len(token_lst))))"
   ]
  },
  {
   "cell_type": "code",
   "execution_count": 12,
   "metadata": {
    "collapsed": true
   },
   "outputs": [],
   "source": [
    "train_loader = P.get_train_loader(train_intent, train_actions, word2num, act2num, token2num, batch_size=48)"
   ]
  },
  {
   "cell_type": "code",
   "execution_count": 13,
   "metadata": {
    "collapsed": true
   },
   "outputs": [],
   "source": [
    "test_loader = P.get_test_loader(test_intent, word2num, batch_size=1)"
   ]
  },
  {
   "cell_type": "code",
   "execution_count": 14,
   "metadata": {
    "collapsed": true
   },
   "outputs": [],
   "source": [
    "action_index_copy = act2num[P.GenTokenAction('copy')]\n",
    "action_index_gen = act2num[P.GenTokenAction('token')]"
   ]
  },
  {
   "cell_type": "markdown",
   "metadata": {},
   "source": [
    "### Model"
   ]
  },
  {
   "cell_type": "code",
   "execution_count": 15,
   "metadata": {
    "collapsed": true
   },
   "outputs": [],
   "source": [
    "import torch\n",
    "import time"
   ]
  },
  {
   "cell_type": "code",
   "execution_count": 16,
   "metadata": {
    "scrolled": true
   },
   "outputs": [],
   "source": [
    "from collections import namedtuple\n",
    "hyperParamMap = {\n",
    "    #### General configuration ####\n",
    "    'cuda': True,      # Use gpu\n",
    "    'mode': 'train',   # train or test\n",
    "\n",
    "    #### Embedding sizes ####\n",
    "    'embed_size': 128,         # Size of word embeddings\n",
    "    'action_embed_size': 128,  # Size of ApplyRule/GenToken action embeddings\n",
    "    'field_embed_size': 64,    # Embedding size of ASDL fields\n",
    "    'type_embed_size': 64,     # Embeddings ASDL types\n",
    "\n",
    "    #### Decoding sizes ####\n",
    "    'hidden_size': 256,        # Size of LSTM hidden states\n",
    "    'beam_size': 5,\n",
    "    \n",
    "    #### training schedule details ####\n",
    "    'valid_metric': 'acc',                # Metric used for validation\n",
    "    'valid_every_epoch': 1,               # Perform validation every x epoch\n",
    "    'log_every': 10,                      # Log training statistics every n iterations\n",
    "    'save_to': 'model',                   # Save trained model to\n",
    "    'clip_grad': 5.,                      # Clip gradients\n",
    "    'max_epoch': 10,                      # Maximum number of training epoches\n",
    "    'optimizer': 'Adam',                  # optimizer\n",
    "    'lr': 0.001,                          # Learning rate\n",
    "    'lr_decay': 0.5,                      # decay learning rate if the validation performance drops\n",
    "    'verbose': False,                     # Verbose mode\n",
    "\n",
    "    #### decoding/validation/testing ####\n",
    "    'load_model': None,                   # Load a pre-trained model\n",
    "    'beam_size': 1,                       # Beam size for beam search\n",
    "    'decode_max_time_step': 100,          # Maximum number of time steps used in decoding and sampling\n",
    "    'sample_size': 5,                     # Sample size\n",
    "    'test_file': '',                      # Path to the test file\n",
    "    'save_decode_to': None,               # Save decoding results to file\n",
    "}\n",
    "\n",
    "HyperParams = namedtuple('HyperParams', list(hyperParamMap.keys()), verbose=False)\n",
    "hyperParams = HyperParams(**hyperParamMap)"
   ]
  },
  {
   "cell_type": "code",
   "execution_count": 17,
   "metadata": {
    "collapsed": true
   },
   "outputs": [],
   "source": [
    "model = M.Model(hyperParams, action_size=len(act_lst), token_size=len(token_lst), word_size=len(word_lst), \n",
    "                      action_index_copy=action_index_copy, action_index_gen=action_index_gen)"
   ]
  },
  {
   "cell_type": "code",
   "execution_count": 18,
   "metadata": {
    "collapsed": true
   },
   "outputs": [],
   "source": [
    "optimizer = torch.optim.Adam(model.parameters(), lr = 0.0008)\n",
    "lossFunc = torch.nn.CrossEntropyLoss()"
   ]
  },
  {
   "cell_type": "code",
   "execution_count": 30,
   "metadata": {
    "scrolled": true,
    "collapsed": false
   },
   "outputs": [
    {
     "name": "stdout",
     "output_type": "stream",
     "text": [
      "--------------------------epoch 0 batch 9-----------------------------\nAction loss: 1.50036199387705\nCopy loss: 1.8467381000518799\nToken loss: 3.1456639766693115\n"
     ]
    },
    {
     "name": "stdout",
     "output_type": "stream",
     "text": [
      "--------------------------epoch 0 batch 19-----------------------------\nAction loss: 1.0444523776391839\nCopy loss: 1.9628452062606812\nToken loss: 3.1182303428649902\n"
     ]
    },
    {
     "name": "stdout",
     "output_type": "stream",
     "text": [
      "--------------------------epoch 0 batch 29-----------------------------\nAction loss: 0.8577129307601006\nCopy loss: 1.737626314163208\nToken loss: 2.6550490856170654\n"
     ]
    },
    {
     "name": "stdout",
     "output_type": "stream",
     "text": [
      "--------------------------epoch 0 batch 39-----------------------------\nAction loss: 1.0485215867465225\nCopy loss: 1.6723734140396118\nToken loss: 2.976733922958374\n"
     ]
    },
    {
     "name": "stdout",
     "output_type": "stream",
     "text": [
      "--------------------------epoch 0 batch 49-----------------------------\nAction loss: 0.7515159954857923\nCopy loss: 1.8979887962341309\nToken loss: 3.025411367416382\nepoch elapsed 109s\n"
     ]
    },
    {
     "name": "stdout",
     "output_type": "stream",
     "text": [
      "--------------------------epoch 1 batch 9-----------------------------\nAction loss: 0.7700021305794841\nCopy loss: 1.653409481048584\nToken loss: 2.5650599002838135\n"
     ]
    },
    {
     "name": "stdout",
     "output_type": "stream",
     "text": [
      "--------------------------epoch 1 batch 19-----------------------------\nAction loss: 0.7175001984243015\nCopy loss: 1.8029518127441406\nToken loss: 2.1947243213653564\n"
     ]
    },
    {
     "name": "stdout",
     "output_type": "stream",
     "text": [
      "--------------------------epoch 1 batch 29-----------------------------\nAction loss: 0.5263454519633638\nCopy loss: 1.8797129392623901\nToken loss: 2.3118479251861572\n"
     ]
    },
    {
     "name": "stdout",
     "output_type": "stream",
     "text": [
      "--------------------------epoch 1 batch 39-----------------------------\nAction loss: 0.5524520697309085\nCopy loss: 1.7950688600540161\nToken loss: 2.1842243671417236\n"
     ]
    },
    {
     "name": "stdout",
     "output_type": "stream",
     "text": [
      "--------------------------epoch 1 batch 49-----------------------------\nAction loss: 0.7171900400127569\nCopy loss: 1.652376413345337\nToken loss: 2.362408399581909\nepoch elapsed 220s\n"
     ]
    },
    {
     "name": "stdout",
     "output_type": "stream",
     "text": [
      "--------------------------epoch 2 batch 9-----------------------------\nAction loss: 0.6642855079460821\nCopy loss: 1.999790906906128\nToken loss: 2.2830824851989746\n"
     ]
    },
    {
     "name": "stdout",
     "output_type": "stream",
     "text": [
      "--------------------------epoch 2 batch 19-----------------------------\nAction loss: 0.5700137709561016\nCopy loss: 1.6311795711517334\nToken loss: 1.9421099424362183\n"
     ]
    },
    {
     "name": "stdout",
     "output_type": "stream",
     "text": [
      "--------------------------epoch 2 batch 29-----------------------------\nAction loss: 0.7064265576324178\nCopy loss: 1.8828259706497192\nToken loss: 1.9626307487487793\n"
     ]
    },
    {
     "name": "stdout",
     "output_type": "stream",
     "text": [
      "--------------------------epoch 2 batch 39-----------------------------\nAction loss: 0.7243966406092415\nCopy loss: 1.886945366859436\nToken loss: 2.099710464477539\n"
     ]
    },
    {
     "name": "stdout",
     "output_type": "stream",
     "text": [
      "--------------------------epoch 2 batch 49-----------------------------\nAction loss: 0.5806872135878138\nCopy loss: 1.7080799341201782\nToken loss: 1.717559814453125\nepoch elapsed 329s\n"
     ]
    },
    {
     "name": "stdout",
     "output_type": "stream",
     "text": [
      "--------------------------epoch 3 batch 9-----------------------------\nAction loss: 0.5203034431949338\nCopy loss: 1.9791858196258545\nToken loss: 1.8475409746170044\n"
     ]
    },
    {
     "name": "stdout",
     "output_type": "stream",
     "text": [
      "--------------------------epoch 3 batch 19-----------------------------\nAction loss: 0.6579105984644791\nCopy loss: 1.7333481311798096\nToken loss: 1.6888489723205566\n"
     ]
    },
    {
     "name": "stdout",
     "output_type": "stream",
     "text": [
      "--------------------------epoch 3 batch 29-----------------------------\nAction loss: 0.5792926479354329\nCopy loss: 1.5967553853988647\nToken loss: 1.689185380935669\n"
     ]
    },
    {
     "name": "stdout",
     "output_type": "stream",
     "text": [
      "--------------------------epoch 3 batch 39-----------------------------\nAction loss: 0.6706192528132491\nCopy loss: 1.7725468873977661\nToken loss: 2.0128355026245117\n"
     ]
    },
    {
     "name": "stdout",
     "output_type": "stream",
     "text": [
      "--------------------------epoch 3 batch 49-----------------------------\nAction loss: 0.5443874418566484\nCopy loss: 1.648914098739624\nToken loss: 2.1709280014038086\nepoch elapsed 437s\n"
     ]
    },
    {
     "ename": "KeyboardInterrupt",
     "evalue": "",
     "traceback": [
      "\u001b[0;31m---------------------------------------------------------------------------\u001b[0m",
      "\u001b[0;31mKeyboardInterrupt\u001b[0m                         Traceback (most recent call last)",
      "\u001b[0;32m<ipython-input-30-8b0e753788a2>\u001b[0m in \u001b[0;36m<module>\u001b[0;34m()\u001b[0m\n\u001b[1;32m     16\u001b[0m \u001b[0;34m\u001b[0m\u001b[0m\n\u001b[1;32m     17\u001b[0m         \u001b[0mtotal_loss\u001b[0m \u001b[0;34m=\u001b[0m \u001b[0mloss1\u001b[0m \u001b[0;34m+\u001b[0m \u001b[0mloss2\u001b[0m\u001b[0;34m.\u001b[0m\u001b[0mdouble\u001b[0m\u001b[0;34m(\u001b[0m\u001b[0;34m)\u001b[0m \u001b[0;34m+\u001b[0m \u001b[0mloss3\u001b[0m\u001b[0;34m.\u001b[0m\u001b[0mdouble\u001b[0m\u001b[0;34m(\u001b[0m\u001b[0;34m)\u001b[0m\u001b[0;34m\u001b[0m\u001b[0m\n\u001b[0;32m---> 18\u001b[0;31m         \u001b[0mtotal_loss\u001b[0m\u001b[0;34m.\u001b[0m\u001b[0mbackward\u001b[0m\u001b[0;34m(\u001b[0m\u001b[0;34m)\u001b[0m\u001b[0;34m\u001b[0m\u001b[0m\n\u001b[0m\u001b[1;32m     19\u001b[0m \u001b[0;34m\u001b[0m\u001b[0m\n\u001b[1;32m     20\u001b[0m         \u001b[0;31m# clip gradient\u001b[0m\u001b[0;34m\u001b[0m\u001b[0;34m\u001b[0m\u001b[0m\n",
      "\u001b[0;32m/anaconda3/lib/python3.6/site-packages/torch/tensor.py\u001b[0m in \u001b[0;36mbackward\u001b[0;34m(self, gradient, retain_graph, create_graph)\u001b[0m\n\u001b[1;32m    100\u001b[0m                 \u001b[0mproducts\u001b[0m\u001b[0;34m.\u001b[0m \u001b[0mDefaults\u001b[0m \u001b[0mto\u001b[0m\u001b[0;31m \u001b[0m\u001b[0;31m`\u001b[0m\u001b[0;31m`\u001b[0m\u001b[0;32mFalse\u001b[0m\u001b[0;31m`\u001b[0m\u001b[0;31m`\u001b[0m\u001b[0;34m.\u001b[0m\u001b[0;34m\u001b[0m\u001b[0m\n\u001b[1;32m    101\u001b[0m         \"\"\"\n\u001b[0;32m--> 102\u001b[0;31m         \u001b[0mtorch\u001b[0m\u001b[0;34m.\u001b[0m\u001b[0mautograd\u001b[0m\u001b[0;34m.\u001b[0m\u001b[0mbackward\u001b[0m\u001b[0;34m(\u001b[0m\u001b[0mself\u001b[0m\u001b[0;34m,\u001b[0m \u001b[0mgradient\u001b[0m\u001b[0;34m,\u001b[0m \u001b[0mretain_graph\u001b[0m\u001b[0;34m,\u001b[0m \u001b[0mcreate_graph\u001b[0m\u001b[0;34m)\u001b[0m\u001b[0;34m\u001b[0m\u001b[0m\n\u001b[0m\u001b[1;32m    103\u001b[0m \u001b[0;34m\u001b[0m\u001b[0m\n\u001b[1;32m    104\u001b[0m     \u001b[0;32mdef\u001b[0m \u001b[0mregister_hook\u001b[0m\u001b[0;34m(\u001b[0m\u001b[0mself\u001b[0m\u001b[0;34m,\u001b[0m \u001b[0mhook\u001b[0m\u001b[0;34m)\u001b[0m\u001b[0;34m:\u001b[0m\u001b[0;34m\u001b[0m\u001b[0m\n",
      "\u001b[0;32m/anaconda3/lib/python3.6/site-packages/torch/autograd/__init__.py\u001b[0m in \u001b[0;36mbackward\u001b[0;34m(tensors, grad_tensors, retain_graph, create_graph, grad_variables)\u001b[0m\n\u001b[1;32m     88\u001b[0m     Variable._execution_engine.run_backward(\n\u001b[1;32m     89\u001b[0m         \u001b[0mtensors\u001b[0m\u001b[0;34m,\u001b[0m \u001b[0mgrad_tensors\u001b[0m\u001b[0;34m,\u001b[0m \u001b[0mretain_graph\u001b[0m\u001b[0;34m,\u001b[0m \u001b[0mcreate_graph\u001b[0m\u001b[0;34m,\u001b[0m\u001b[0;34m\u001b[0m\u001b[0m\n\u001b[0;32m---> 90\u001b[0;31m         allow_unreachable=True)  # allow_unreachable flag\n\u001b[0m\u001b[1;32m     91\u001b[0m \u001b[0;34m\u001b[0m\u001b[0m\n\u001b[1;32m     92\u001b[0m \u001b[0;34m\u001b[0m\u001b[0m\n",
      "\u001b[0;31mKeyboardInterrupt\u001b[0m: "
     ],
     "output_type": "error"
    }
   ],
   "source": [
    "model.train()\n",
    "epoch_begin = time.time()\n",
    "for e in range(20):\n",
    "    for batch_ind, x in enumerate(train_loader):\n",
    "        optimizer.zero_grad()\n",
    "\n",
    "        (action_logits, action_labels), (copy_logits, copy_labels), (token_logits, token_labels) = model(x)\n",
    "\n",
    "        loss1 = lossFunc(action_logits, action_labels)\n",
    "        loss2 = torch.DoubleTensor([0.0])\n",
    "        if len(copy_logits) > 0:\n",
    "            loss2 = lossFunc(copy_logits, copy_labels)\n",
    "        loss3 = torch.DoubleTensor([0.0])\n",
    "        if len(token_logits) > 0:\n",
    "            loss3 = lossFunc(token_logits, token_labels)\n",
    "\n",
    "        total_loss = loss1 + loss2.double() + loss3.double()\n",
    "        total_loss.backward()\n",
    "\n",
    "        # clip gradient\n",
    "        if hyperParams.clip_grad > 0.:\n",
    "            grad_norm = torch.nn.utils.clip_grad_norm_(model.parameters(), hyperParams.clip_grad)\n",
    "\n",
    "        optimizer.step()\n",
    "\n",
    "        if batch_ind % hyperParams.log_every == hyperParams.log_every - 1:\n",
    "            print('--------------------------epoch {} batch {}-----------------------------'.format(e, batch_ind))\n",
    "            print(\"Action loss: {}\".format(loss1.data))\n",
    "            print(\"Copy loss: {}\".format(loss2.data))\n",
    "            print(\"Token loss: {}\".format(loss3.data))\n",
    "            report_loss = report_examples = 0.\n",
    "\n",
    "    print('epoch elapsed %ds' % (time.time() - epoch_begin))"
   ]
  },
  {
   "cell_type": "code",
   "execution_count": 31,
   "metadata": {},
   "outputs": [],
   "source": [
    "torch.save((model).state_dict(), 'Parameters/cut_2_0_v3.t7')"
   ]
  },
  {
   "cell_type": "code",
   "execution_count": 29,
   "metadata": {
    "collapsed": true
   },
   "outputs": [],
   "source": [
    "model.load_state_dict(torch.load('Parameters/cut_2_0_v2.t7'))"
   ]
  },
  {
   "cell_type": "code",
   "execution_count": 36,
   "metadata": {
    "collapsed": true
   },
   "outputs": [
    {
     "name": "stdout",
     "output_type": "stream",
     "text": [
      "[tensor([1291,    3, 1411, 1411,    8,   19,  252, 1070])]\n[['send', 'a', 'signal', '`signal.SIGUSR1`', 'to', 'the', 'current', 'process']]\n"
     ]
    },
    {
     "data": {
      "text/plain": [
       "\"os.system('%Y-%m-%d -c')\""
      ]
     },
     "execution_count": 36,
     "metadata": {},
     "output_type": "execute_result"
    }
   ],
   "source": [
    "sample_sent, sample_sent_txt = next(iter(test_loader))\n",
    "print(sample_sent)\n",
    "print(sample_sent_txt)\n",
    "sample_hypothesis = model.parse(sample_sent, sample_sent_txt, act_lst, token_lst, ast_action, decode_method='greedy')\n",
    "ast_action.actions2code(sample_hypothesis.actions)"
   ]
  },
  {
   "cell_type": "code",
   "execution_count": 161,
   "metadata": {
    "collapsed": true
   },
   "outputs": [
    {
     "name": "stdout",
     "output_type": "stream",
     "text": [
      "[ApplyRule[stmt -> Expr(expr value)], ApplyRule[expr -> Call(expr func, expr* args, keyword* keywords)], ApplyRule[expr -> Name(identifier id)], GenToken[any], ApplyRule[expr -> GeneratorExp(expr elt, comprehension* generators)], ApplyRule[expr -> Compare(expr left, cmpop* ops, expr* comparators)], ApplyRule[expr -> Call(expr func, expr* args, keyword* keywords)], ApplyRule[expr -> Name(identifier id)], GenToken[isinstance], ApplyRule[expr -> Name(identifier id)], GenToken[x], Reduce, Reduce, Reduce, Reduce, ApplyRule[comprehension -> comprehension(expr target, expr iter, expr* ifs)], ApplyRule[expr -> Name(identifier id)], GenToken[i], ApplyRule[expr -> Call(expr func, expr* args, keyword* keywords)], ApplyRule[expr -> Name(identifier id)], GenToken[range], ApplyRule[expr -> Num(object n)], GenToken[100], ApplyRule[expr -> Num(object n)], GenToken[9], Reduce, Reduce, Reduce, Reduce, Reduce, Reduce]\nExpr(value=Call(func=Name(id='any'), args=[GeneratorExp(elt=Compare(left=Call(func=Name(id='isinstance'), args=[Name(id='x')], keywords=[]), ops=[], comparators=[]), generators=[comprehension(target=Name(id='i'), iter=Call(func=Name(id='range'), args=[Num(n=100), Num(n=9)], keywords=[]), ifs=[])])], keywords=[]))\n"
     ]
    },
    {
     "ename": "IndexError",
     "evalue": "list index out of range",
     "traceback": [
      "\u001b[0;31m---------------------------------------------------------------------------\u001b[0m",
      "\u001b[0;31mIndexError\u001b[0m                                Traceback (most recent call last)",
      "\u001b[0;32m<ipython-input-161-d202aa85a4c3>\u001b[0m in \u001b[0;36m<module>\u001b[0;34m()\u001b[0m\n\u001b[1;32m      1\u001b[0m \u001b[0mprint\u001b[0m\u001b[0;34m(\u001b[0m\u001b[0msample_hypothesis\u001b[0m\u001b[0;34m.\u001b[0m\u001b[0mactions\u001b[0m\u001b[0;34m)\u001b[0m\u001b[0;34m\u001b[0m\u001b[0m\n\u001b[0;32m----> 2\u001b[0;31m \u001b[0mast_action\u001b[0m\u001b[0;34m.\u001b[0m\u001b[0mactions2code\u001b[0m\u001b[0;34m(\u001b[0m\u001b[0msample_hypothesis\u001b[0m\u001b[0;34m.\u001b[0m\u001b[0mactions\u001b[0m\u001b[0;34m)\u001b[0m\u001b[0;34m\u001b[0m\u001b[0m\n\u001b[0m",
      "\u001b[0;32m~/Desktop/MSIN/11747-nnNLP/codeGenerator/CoNaLa/preprocess_temp.py\u001b[0m in \u001b[0;36mactions2code\u001b[0;34m(self, actions)\u001b[0m\n\u001b[1;32m    121\u001b[0m         \u001b[0mast_from_actions\u001b[0m \u001b[0;34m=\u001b[0m \u001b[0masdl_ast_to_python_ast\u001b[0m\u001b[0;34m(\u001b[0m\u001b[0mhypothesis\u001b[0m\u001b[0;34m.\u001b[0m\u001b[0mtree\u001b[0m\u001b[0;34m,\u001b[0m \u001b[0mgrammar\u001b[0m\u001b[0;34m)\u001b[0m\u001b[0;34m\u001b[0m\u001b[0m\n\u001b[1;32m    122\u001b[0m         \u001b[0mprint\u001b[0m\u001b[0;34m(\u001b[0m\u001b[0mast\u001b[0m\u001b[0;34m.\u001b[0m\u001b[0mdump\u001b[0m\u001b[0;34m(\u001b[0m\u001b[0mast_from_actions\u001b[0m\u001b[0;34m)\u001b[0m\u001b[0;34m)\u001b[0m\u001b[0;34m\u001b[0m\u001b[0m\n\u001b[0;32m--> 123\u001b[0;31m         \u001b[0;32mreturn\u001b[0m \u001b[0mastor\u001b[0m\u001b[0;34m.\u001b[0m\u001b[0mto_source\u001b[0m\u001b[0;34m(\u001b[0m\u001b[0mast_from_actions\u001b[0m\u001b[0;34m)\u001b[0m\u001b[0;34m.\u001b[0m\u001b[0mstrip\u001b[0m\u001b[0;34m(\u001b[0m\u001b[0;34m)\u001b[0m\u001b[0;34m\u001b[0m\u001b[0m\n\u001b[0m\u001b[1;32m    124\u001b[0m \u001b[0;34m\u001b[0m\u001b[0m\n\u001b[1;32m    125\u001b[0m     \u001b[0;32mdef\u001b[0m \u001b[0mis_valid_action\u001b[0m\u001b[0;34m(\u001b[0m\u001b[0mself\u001b[0m\u001b[0;34m,\u001b[0m \u001b[0mhypothesis\u001b[0m\u001b[0;34m,\u001b[0m \u001b[0maction\u001b[0m\u001b[0;34m)\u001b[0m\u001b[0;34m:\u001b[0m\u001b[0;34m\u001b[0m\u001b[0m\n",
      "\u001b[0;32m/anaconda3/lib/python3.6/site-packages/astor/code_gen.py\u001b[0m in \u001b[0;36mto_source\u001b[0;34m(node, indent_with, add_line_information, pretty_string, pretty_source)\u001b[0m\n\u001b[1;32m     50\u001b[0m     generator = SourceGenerator(indent_with, add_line_information,\n\u001b[1;32m     51\u001b[0m                                 pretty_string)\n\u001b[0;32m---> 52\u001b[0;31m     \u001b[0mgenerator\u001b[0m\u001b[0;34m.\u001b[0m\u001b[0mvisit\u001b[0m\u001b[0;34m(\u001b[0m\u001b[0mnode\u001b[0m\u001b[0;34m)\u001b[0m\u001b[0;34m\u001b[0m\u001b[0m\n\u001b[0m\u001b[1;32m     53\u001b[0m     \u001b[0mgenerator\u001b[0m\u001b[0;34m.\u001b[0m\u001b[0mresult\u001b[0m\u001b[0;34m.\u001b[0m\u001b[0mappend\u001b[0m\u001b[0;34m(\u001b[0m\u001b[0;34m'\\n'\u001b[0m\u001b[0;34m)\u001b[0m\u001b[0;34m\u001b[0m\u001b[0m\n\u001b[1;32m     54\u001b[0m     \u001b[0;32mif\u001b[0m \u001b[0mset\u001b[0m\u001b[0;34m(\u001b[0m\u001b[0mgenerator\u001b[0m\u001b[0;34m.\u001b[0m\u001b[0mresult\u001b[0m\u001b[0;34m[\u001b[0m\u001b[0;36m0\u001b[0m\u001b[0;34m]\u001b[0m\u001b[0;34m)\u001b[0m \u001b[0;34m==\u001b[0m \u001b[0mset\u001b[0m\u001b[0;34m(\u001b[0m\u001b[0;34m'\\n'\u001b[0m\u001b[0;34m)\u001b[0m\u001b[0;34m:\u001b[0m\u001b[0;34m\u001b[0m\u001b[0m\n",
      "\u001b[0;32m/anaconda3/lib/python3.6/site-packages/astor/node_util.py\u001b[0m in \u001b[0;36mvisit\u001b[0;34m(self, node, abort)\u001b[0m\n\u001b[1;32m    141\u001b[0m         \u001b[0mmethod\u001b[0m \u001b[0;34m=\u001b[0m \u001b[0;34m'visit_'\u001b[0m \u001b[0;34m+\u001b[0m \u001b[0mnode\u001b[0m\u001b[0;34m.\u001b[0m\u001b[0m__class__\u001b[0m\u001b[0;34m.\u001b[0m\u001b[0m__name__\u001b[0m\u001b[0;34m\u001b[0m\u001b[0m\n\u001b[1;32m    142\u001b[0m         \u001b[0mvisitor\u001b[0m \u001b[0;34m=\u001b[0m \u001b[0mgetattr\u001b[0m\u001b[0;34m(\u001b[0m\u001b[0mself\u001b[0m\u001b[0;34m,\u001b[0m \u001b[0mmethod\u001b[0m\u001b[0;34m,\u001b[0m \u001b[0mabort\u001b[0m\u001b[0;34m)\u001b[0m\u001b[0;34m\u001b[0m\u001b[0m\n\u001b[0;32m--> 143\u001b[0;31m         \u001b[0;32mreturn\u001b[0m \u001b[0mvisitor\u001b[0m\u001b[0;34m(\u001b[0m\u001b[0mnode\u001b[0m\u001b[0;34m)\u001b[0m\u001b[0;34m\u001b[0m\u001b[0m\n\u001b[0m\u001b[1;32m    144\u001b[0m \u001b[0;34m\u001b[0m\u001b[0m\n\u001b[1;32m    145\u001b[0m \u001b[0;34m\u001b[0m\u001b[0m\n",
      "\u001b[0;32m/anaconda3/lib/python3.6/site-packages/astor/code_gen.py\u001b[0m in \u001b[0;36mvisit_Expr\u001b[0;34m(self, node)\u001b[0m\n\u001b[1;32m    308\u001b[0m         \u001b[0mset_precedence\u001b[0m\u001b[0;34m(\u001b[0m\u001b[0mnode\u001b[0m\u001b[0;34m,\u001b[0m \u001b[0mnode\u001b[0m\u001b[0;34m.\u001b[0m\u001b[0mvalue\u001b[0m\u001b[0;34m)\u001b[0m\u001b[0;34m\u001b[0m\u001b[0m\n\u001b[1;32m    309\u001b[0m         \u001b[0mself\u001b[0m\u001b[0;34m.\u001b[0m\u001b[0mstatement\u001b[0m\u001b[0;34m(\u001b[0m\u001b[0mnode\u001b[0m\u001b[0;34m)\u001b[0m\u001b[0;34m\u001b[0m\u001b[0m\n\u001b[0;32m--> 310\u001b[0;31m         \u001b[0mself\u001b[0m\u001b[0;34m.\u001b[0m\u001b[0mgeneric_visit\u001b[0m\u001b[0;34m(\u001b[0m\u001b[0mnode\u001b[0m\u001b[0;34m)\u001b[0m\u001b[0;34m\u001b[0m\u001b[0m\n\u001b[0m\u001b[1;32m    311\u001b[0m \u001b[0;34m\u001b[0m\u001b[0m\n\u001b[1;32m    312\u001b[0m     \u001b[0;32mdef\u001b[0m \u001b[0mvisit_FunctionDef\u001b[0m\u001b[0;34m(\u001b[0m\u001b[0mself\u001b[0m\u001b[0;34m,\u001b[0m \u001b[0mnode\u001b[0m\u001b[0;34m,\u001b[0m \u001b[0mis_async\u001b[0m\u001b[0;34m=\u001b[0m\u001b[0;32mFalse\u001b[0m\u001b[0;34m)\u001b[0m\u001b[0;34m:\u001b[0m\u001b[0;34m\u001b[0m\u001b[0m\n",
      "\u001b[0;32m/anaconda3/lib/python3.6/ast.py\u001b[0m in \u001b[0;36mgeneric_visit\u001b[0;34m(self, node)\u001b[0m\n\u001b[1;32m    261\u001b[0m                         \u001b[0mself\u001b[0m\u001b[0;34m.\u001b[0m\u001b[0mvisit\u001b[0m\u001b[0;34m(\u001b[0m\u001b[0mitem\u001b[0m\u001b[0;34m)\u001b[0m\u001b[0;34m\u001b[0m\u001b[0m\n\u001b[1;32m    262\u001b[0m             \u001b[0;32melif\u001b[0m \u001b[0misinstance\u001b[0m\u001b[0;34m(\u001b[0m\u001b[0mvalue\u001b[0m\u001b[0;34m,\u001b[0m \u001b[0mAST\u001b[0m\u001b[0;34m)\u001b[0m\u001b[0;34m:\u001b[0m\u001b[0;34m\u001b[0m\u001b[0m\n\u001b[0;32m--> 263\u001b[0;31m                 \u001b[0mself\u001b[0m\u001b[0;34m.\u001b[0m\u001b[0mvisit\u001b[0m\u001b[0;34m(\u001b[0m\u001b[0mvalue\u001b[0m\u001b[0;34m)\u001b[0m\u001b[0;34m\u001b[0m\u001b[0m\n\u001b[0m\u001b[1;32m    264\u001b[0m \u001b[0;34m\u001b[0m\u001b[0m\n\u001b[1;32m    265\u001b[0m \u001b[0;34m\u001b[0m\u001b[0m\n",
      "\u001b[0;32m/anaconda3/lib/python3.6/site-packages/astor/node_util.py\u001b[0m in \u001b[0;36mvisit\u001b[0;34m(self, node, abort)\u001b[0m\n\u001b[1;32m    141\u001b[0m         \u001b[0mmethod\u001b[0m \u001b[0;34m=\u001b[0m \u001b[0;34m'visit_'\u001b[0m \u001b[0;34m+\u001b[0m \u001b[0mnode\u001b[0m\u001b[0;34m.\u001b[0m\u001b[0m__class__\u001b[0m\u001b[0;34m.\u001b[0m\u001b[0m__name__\u001b[0m\u001b[0;34m\u001b[0m\u001b[0m\n\u001b[1;32m    142\u001b[0m         \u001b[0mvisitor\u001b[0m \u001b[0;34m=\u001b[0m \u001b[0mgetattr\u001b[0m\u001b[0;34m(\u001b[0m\u001b[0mself\u001b[0m\u001b[0;34m,\u001b[0m \u001b[0mmethod\u001b[0m\u001b[0;34m,\u001b[0m \u001b[0mabort\u001b[0m\u001b[0;34m)\u001b[0m\u001b[0;34m\u001b[0m\u001b[0m\n\u001b[0;32m--> 143\u001b[0;31m         \u001b[0;32mreturn\u001b[0m \u001b[0mvisitor\u001b[0m\u001b[0;34m(\u001b[0m\u001b[0mnode\u001b[0m\u001b[0;34m)\u001b[0m\u001b[0;34m\u001b[0m\u001b[0m\n\u001b[0m\u001b[1;32m    144\u001b[0m \u001b[0;34m\u001b[0m\u001b[0m\n\u001b[1;32m    145\u001b[0m \u001b[0;34m\u001b[0m\u001b[0m\n",
      "\u001b[0;32m/anaconda3/lib/python3.6/site-packages/astor/code_gen.py\u001b[0m in \u001b[0;36mvisit_Call\u001b[0;34m(self, node, len)\u001b[0m\n\u001b[1;32m    515\u001b[0m         \u001b[0mwrite\u001b[0m\u001b[0;34m(\u001b[0m\u001b[0;34m'('\u001b[0m\u001b[0;34m)\u001b[0m\u001b[0;34m\u001b[0m\u001b[0m\n\u001b[1;32m    516\u001b[0m         \u001b[0;32mfor\u001b[0m \u001b[0marg\u001b[0m \u001b[0;32min\u001b[0m \u001b[0margs\u001b[0m\u001b[0;34m:\u001b[0m\u001b[0;34m\u001b[0m\u001b[0m\n\u001b[0;32m--> 517\u001b[0;31m             \u001b[0mwrite\u001b[0m\u001b[0;34m(\u001b[0m\u001b[0mwrite_comma\u001b[0m\u001b[0;34m,\u001b[0m \u001b[0marg\u001b[0m\u001b[0;34m)\u001b[0m\u001b[0;34m\u001b[0m\u001b[0m\n\u001b[0m\u001b[1;32m    518\u001b[0m \u001b[0;34m\u001b[0m\u001b[0m\n\u001b[1;32m    519\u001b[0m         \u001b[0mset_precedence\u001b[0m\u001b[0;34m(\u001b[0m\u001b[0mPrecedence\u001b[0m\u001b[0;34m.\u001b[0m\u001b[0mComma\u001b[0m\u001b[0;34m,\u001b[0m \u001b[0;34m*\u001b[0m\u001b[0;34m(\u001b[0m\u001b[0mx\u001b[0m\u001b[0;34m.\u001b[0m\u001b[0mvalue\u001b[0m \u001b[0;32mfor\u001b[0m \u001b[0mx\u001b[0m \u001b[0;32min\u001b[0m \u001b[0mkeywords\u001b[0m\u001b[0;34m)\u001b[0m\u001b[0;34m)\u001b[0m\u001b[0;34m\u001b[0m\u001b[0m\n",
      "\u001b[0;32m/anaconda3/lib/python3.6/site-packages/astor/code_gen.py\u001b[0m in \u001b[0;36mwrite\u001b[0;34m(*params)\u001b[0m\n\u001b[1;32m    166\u001b[0m             \u001b[0;32mfor\u001b[0m \u001b[0mitem\u001b[0m \u001b[0;32min\u001b[0m \u001b[0mparams\u001b[0m\u001b[0;34m:\u001b[0m\u001b[0;34m\u001b[0m\u001b[0m\n\u001b[1;32m    167\u001b[0m                 \u001b[0;32mif\u001b[0m \u001b[0misinstance\u001b[0m\u001b[0;34m(\u001b[0m\u001b[0mitem\u001b[0m\u001b[0;34m,\u001b[0m \u001b[0mAST\u001b[0m\u001b[0;34m)\u001b[0m\u001b[0;34m:\u001b[0m\u001b[0;34m\u001b[0m\u001b[0m\n\u001b[0;32m--> 168\u001b[0;31m                     \u001b[0mvisit\u001b[0m\u001b[0;34m(\u001b[0m\u001b[0mitem\u001b[0m\u001b[0;34m)\u001b[0m\u001b[0;34m\u001b[0m\u001b[0m\n\u001b[0m\u001b[1;32m    169\u001b[0m                 \u001b[0;32melif\u001b[0m \u001b[0mcallable\u001b[0m\u001b[0;34m(\u001b[0m\u001b[0mitem\u001b[0m\u001b[0;34m)\u001b[0m\u001b[0;34m:\u001b[0m\u001b[0;34m\u001b[0m\u001b[0m\n\u001b[1;32m    170\u001b[0m                     \u001b[0mitem\u001b[0m\u001b[0;34m(\u001b[0m\u001b[0;34m)\u001b[0m\u001b[0;34m\u001b[0m\u001b[0m\n",
      "\u001b[0;32m/anaconda3/lib/python3.6/site-packages/astor/node_util.py\u001b[0m in \u001b[0;36mvisit\u001b[0;34m(self, node, abort)\u001b[0m\n\u001b[1;32m    141\u001b[0m         \u001b[0mmethod\u001b[0m \u001b[0;34m=\u001b[0m \u001b[0;34m'visit_'\u001b[0m \u001b[0;34m+\u001b[0m \u001b[0mnode\u001b[0m\u001b[0;34m.\u001b[0m\u001b[0m__class__\u001b[0m\u001b[0;34m.\u001b[0m\u001b[0m__name__\u001b[0m\u001b[0;34m\u001b[0m\u001b[0m\n\u001b[1;32m    142\u001b[0m         \u001b[0mvisitor\u001b[0m \u001b[0;34m=\u001b[0m \u001b[0mgetattr\u001b[0m\u001b[0;34m(\u001b[0m\u001b[0mself\u001b[0m\u001b[0;34m,\u001b[0m \u001b[0mmethod\u001b[0m\u001b[0;34m,\u001b[0m \u001b[0mabort\u001b[0m\u001b[0;34m)\u001b[0m\u001b[0;34m\u001b[0m\u001b[0m\n\u001b[0;32m--> 143\u001b[0;31m         \u001b[0;32mreturn\u001b[0m \u001b[0mvisitor\u001b[0m\u001b[0;34m(\u001b[0m\u001b[0mnode\u001b[0m\u001b[0;34m)\u001b[0m\u001b[0;34m\u001b[0m\u001b[0m\n\u001b[0m\u001b[1;32m    144\u001b[0m \u001b[0;34m\u001b[0m\u001b[0m\n\u001b[1;32m    145\u001b[0m \u001b[0;34m\u001b[0m\u001b[0m\n",
      "\u001b[0;32m/anaconda3/lib/python3.6/site-packages/astor/code_gen.py\u001b[0m in \u001b[0;36mvisit_GeneratorExp\u001b[0;34m(self, node)\u001b[0m\n\u001b[1;32m    775\u001b[0m                 \u001b[0mdelimiters\u001b[0m\u001b[0;34m.\u001b[0m\u001b[0mdiscard\u001b[0m \u001b[0;34m=\u001b[0m \u001b[0;32mTrue\u001b[0m\u001b[0;34m\u001b[0m\u001b[0m\n\u001b[1;32m    776\u001b[0m             \u001b[0mset_precedence\u001b[0m\u001b[0;34m(\u001b[0m\u001b[0mPrecedence\u001b[0m\u001b[0;34m.\u001b[0m\u001b[0mComma\u001b[0m\u001b[0;34m,\u001b[0m \u001b[0mnode\u001b[0m\u001b[0;34m.\u001b[0m\u001b[0melt\u001b[0m\u001b[0;34m)\u001b[0m\u001b[0;34m\u001b[0m\u001b[0m\n\u001b[0;32m--> 777\u001b[0;31m             \u001b[0mself\u001b[0m\u001b[0;34m.\u001b[0m\u001b[0mwrite\u001b[0m\u001b[0;34m(\u001b[0m\u001b[0mnode\u001b[0m\u001b[0;34m.\u001b[0m\u001b[0melt\u001b[0m\u001b[0;34m,\u001b[0m \u001b[0;34m*\u001b[0m\u001b[0mnode\u001b[0m\u001b[0;34m.\u001b[0m\u001b[0mgenerators\u001b[0m\u001b[0;34m)\u001b[0m\u001b[0;34m\u001b[0m\u001b[0m\n\u001b[0m\u001b[1;32m    778\u001b[0m \u001b[0;34m\u001b[0m\u001b[0m\n\u001b[1;32m    779\u001b[0m     \u001b[0;32mdef\u001b[0m \u001b[0mvisit_SetComp\u001b[0m\u001b[0;34m(\u001b[0m\u001b[0mself\u001b[0m\u001b[0;34m,\u001b[0m \u001b[0mnode\u001b[0m\u001b[0;34m)\u001b[0m\u001b[0;34m:\u001b[0m\u001b[0;34m\u001b[0m\u001b[0m\n",
      "\u001b[0;32m/anaconda3/lib/python3.6/site-packages/astor/code_gen.py\u001b[0m in \u001b[0;36mwrite\u001b[0;34m(*params)\u001b[0m\n\u001b[1;32m    166\u001b[0m             \u001b[0;32mfor\u001b[0m \u001b[0mitem\u001b[0m \u001b[0;32min\u001b[0m \u001b[0mparams\u001b[0m\u001b[0;34m:\u001b[0m\u001b[0;34m\u001b[0m\u001b[0m\n\u001b[1;32m    167\u001b[0m                 \u001b[0;32mif\u001b[0m \u001b[0misinstance\u001b[0m\u001b[0;34m(\u001b[0m\u001b[0mitem\u001b[0m\u001b[0;34m,\u001b[0m \u001b[0mAST\u001b[0m\u001b[0;34m)\u001b[0m\u001b[0;34m:\u001b[0m\u001b[0;34m\u001b[0m\u001b[0m\n\u001b[0;32m--> 168\u001b[0;31m                     \u001b[0mvisit\u001b[0m\u001b[0;34m(\u001b[0m\u001b[0mitem\u001b[0m\u001b[0;34m)\u001b[0m\u001b[0;34m\u001b[0m\u001b[0m\n\u001b[0m\u001b[1;32m    169\u001b[0m                 \u001b[0;32melif\u001b[0m \u001b[0mcallable\u001b[0m\u001b[0;34m(\u001b[0m\u001b[0mitem\u001b[0m\u001b[0;34m)\u001b[0m\u001b[0;34m:\u001b[0m\u001b[0;34m\u001b[0m\u001b[0m\n\u001b[1;32m    170\u001b[0m                     \u001b[0mitem\u001b[0m\u001b[0;34m(\u001b[0m\u001b[0;34m)\u001b[0m\u001b[0;34m\u001b[0m\u001b[0m\n",
      "\u001b[0;32m/anaconda3/lib/python3.6/site-packages/astor/node_util.py\u001b[0m in \u001b[0;36mvisit\u001b[0;34m(self, node, abort)\u001b[0m\n\u001b[1;32m    141\u001b[0m         \u001b[0mmethod\u001b[0m \u001b[0;34m=\u001b[0m \u001b[0;34m'visit_'\u001b[0m \u001b[0;34m+\u001b[0m \u001b[0mnode\u001b[0m\u001b[0;34m.\u001b[0m\u001b[0m__class__\u001b[0m\u001b[0;34m.\u001b[0m\u001b[0m__name__\u001b[0m\u001b[0;34m\u001b[0m\u001b[0m\n\u001b[1;32m    142\u001b[0m         \u001b[0mvisitor\u001b[0m \u001b[0;34m=\u001b[0m \u001b[0mgetattr\u001b[0m\u001b[0;34m(\u001b[0m\u001b[0mself\u001b[0m\u001b[0;34m,\u001b[0m \u001b[0mmethod\u001b[0m\u001b[0;34m,\u001b[0m \u001b[0mabort\u001b[0m\u001b[0;34m)\u001b[0m\u001b[0;34m\u001b[0m\u001b[0m\n\u001b[0;32m--> 143\u001b[0;31m         \u001b[0;32mreturn\u001b[0m \u001b[0mvisitor\u001b[0m\u001b[0;34m(\u001b[0m\u001b[0mnode\u001b[0m\u001b[0;34m)\u001b[0m\u001b[0;34m\u001b[0m\u001b[0m\n\u001b[0m\u001b[1;32m    144\u001b[0m \u001b[0;34m\u001b[0m\u001b[0m\n\u001b[1;32m    145\u001b[0m \u001b[0;34m\u001b[0m\u001b[0m\n",
      "\u001b[0;32m/anaconda3/lib/python3.6/site-packages/astor/code_gen.py\u001b[0m in \u001b[0;36mvisit_Compare\u001b[0;34m(self, node)\u001b[0m\n\u001b[1;32m    698\u001b[0m \u001b[0;34m\u001b[0m\u001b[0m\n\u001b[1;32m    699\u001b[0m     \u001b[0;32mdef\u001b[0m \u001b[0mvisit_Compare\u001b[0m\u001b[0;34m(\u001b[0m\u001b[0mself\u001b[0m\u001b[0;34m,\u001b[0m \u001b[0mnode\u001b[0m\u001b[0;34m)\u001b[0m\u001b[0;34m:\u001b[0m\u001b[0;34m\u001b[0m\u001b[0m\n\u001b[0;32m--> 700\u001b[0;31m         \u001b[0;32mwith\u001b[0m \u001b[0mself\u001b[0m\u001b[0;34m.\u001b[0m\u001b[0mdelimit\u001b[0m\u001b[0;34m(\u001b[0m\u001b[0mnode\u001b[0m\u001b[0;34m,\u001b[0m \u001b[0mnode\u001b[0m\u001b[0;34m.\u001b[0m\u001b[0mops\u001b[0m\u001b[0;34m[\u001b[0m\u001b[0;36m0\u001b[0m\u001b[0;34m]\u001b[0m\u001b[0;34m)\u001b[0m \u001b[0;32mas\u001b[0m \u001b[0mdelimiters\u001b[0m\u001b[0;34m:\u001b[0m\u001b[0;34m\u001b[0m\u001b[0m\n\u001b[0m\u001b[1;32m    701\u001b[0m             \u001b[0mset_precedence\u001b[0m\u001b[0;34m(\u001b[0m\u001b[0mdelimiters\u001b[0m\u001b[0;34m.\u001b[0m\u001b[0mp\u001b[0m \u001b[0;34m+\u001b[0m \u001b[0;36m1\u001b[0m\u001b[0;34m,\u001b[0m \u001b[0mnode\u001b[0m\u001b[0;34m.\u001b[0m\u001b[0mleft\u001b[0m\u001b[0;34m,\u001b[0m \u001b[0;34m*\u001b[0m\u001b[0mnode\u001b[0m\u001b[0;34m.\u001b[0m\u001b[0mcomparators\u001b[0m\u001b[0;34m)\u001b[0m\u001b[0;34m\u001b[0m\u001b[0m\n\u001b[1;32m    702\u001b[0m             \u001b[0mself\u001b[0m\u001b[0;34m.\u001b[0m\u001b[0mvisit\u001b[0m\u001b[0;34m(\u001b[0m\u001b[0mnode\u001b[0m\u001b[0;34m.\u001b[0m\u001b[0mleft\u001b[0m\u001b[0;34m)\u001b[0m\u001b[0;34m\u001b[0m\u001b[0m\n",
      "\u001b[0;31mIndexError\u001b[0m: list index out of range"
     ],
     "output_type": "error"
    }
   ],
   "source": [
    "print(sample_hypothesis.actions)\n",
    "ast_action.actions2code(sample_hypothesis.actions)"
   ]
  },
  {
   "cell_type": "code",
   "execution_count": 25,
   "metadata": {},
   "outputs": [],
   "source": [
    "ground_truth = []\n",
    "for e in test_data:\n",
    "    ground_truth.append(e['snippet'])\n",
    "# print(ground_truth)"
   ]
  },
  {
   "cell_type": "code",
   "execution_count": 38,
   "metadata": {
    "collapsed": true
   },
   "outputs": [
    {
     "name": "stdout",
     "output_type": "stream",
     "text": [
      "----------------------answer 1, this one cost 0.0313870906829834s, total cost 0.034013986587524414s\nmy code:    os.system('%Y-%m-%d -c')\nground truth:    os.kill(os.getpid(), signal.SIGUSR1)\nbleu socre 0.34823528327578546\n----------------------answer 2, this one cost 0.025599956512451172s, total cost 0.06061291694641113s\nmy code:    webbrowser.listdir('log', 'libs')\nground truth:    bytes.fromhex('4a4b4c').decode('utf-8')\nbleu socre 0.37621186824601177\n----------------------answer 3, this one cost 0.017236948013305664s, total cost 0.0785069465637207s\nmy code:    map(lst)\nground truth:    all(x == myList[0] for x in myList)\nbleu socre 0.04186576731652839\n----------------------answer 4, this one cost 0.04041790962219238s, total cost 0.1196129322052002s\nmy code:    re.findall('filename.png', 'D:\\\\testdir', '', 'title')\nground truth:    print('%*s : %*s' % (20, 'Python', 20, 'Very Good'))\nbleu socre 0.5191064695319341\n----------------------answer 5, this one cost 0.021172285079956055s, total cost 0.14161109924316406s\nmy code:    re.replace('')\nground truth:    d.decode('cp1251').encode('utf8')\nbleu socre 0.22276713869943024\n----------------------answer 6, this one cost 0.032688140869140625s, total cost 0.17490792274475098s\nmy code:    dict(list(d.values()))\nground truth:    res = {k: v for k, v in list(kwargs.items()) if v is not None}\nbleu socre 0.10284209050639244\n----------------------answer 7, this one cost 0.03995490074157715s, total cost 0.21592187881469727s\nmy code:    dict(list(d.values()))\nground truth:    res = dict((k, v) for k, v in kwargs.items() if v is not None)\nbleu socre 0.17295909048804695\n"
     ]
    },
    {
     "name": "stderr",
     "output_type": "stream",
     "text": [
      "/anaconda3/lib/python3.6/site-packages/nltk/translate/bleu_score.py:490: UserWarning: \nCorpus/Sentence contains 0 counts of 3-gram overlaps.\nBLEU scores might be undesirable; use SmoothingFunction().\n  warnings.warn(_msg)\n/anaconda3/lib/python3.6/site-packages/nltk/translate/bleu_score.py:490: UserWarning: \nCorpus/Sentence contains 0 counts of 2-gram overlaps.\nBLEU scores might be undesirable; use SmoothingFunction().\n  warnings.warn(_msg)\n/anaconda3/lib/python3.6/site-packages/nltk/translate/bleu_score.py:490: UserWarning: \nCorpus/Sentence contains 0 counts of 4-gram overlaps.\nBLEU scores might be undesirable; use SmoothingFunction().\n  warnings.warn(_msg)\n"
     ]
    },
    {
     "name": "stdout",
     "output_type": "stream",
     "text": [
      "----------------------answer 8, this one cost 0.07846307754516602s, total cost 0.29548096656799316s\nmy code:    subprocess.set_title('script2.py', '$%s', 'neededArgumetGoHere', '+20')\nground truth:    subprocess.check_output('ps -ef | grep something | wc -l', shell=True)\nbleu socre 0.408248290463863\n----------------------answer 9, this one cost 0.049948930740356445s, total cost 0.3466529846191406s\nmy code:    a.concatenate('b')\nground truth:    \"\"\"\"\"\".join(['a', 'b', 'c'])\nbleu socre 0.06928592765229934\n----------------------answer 10, this one cost 0.03168296813964844s, total cost 0.3792989253997803s\nmy code:    np.einsum('ij,kj->jik', 'b')\nground truth:    pd.Series(list(set(s1).intersection(set(s2))))\nbleu socre 0.5432852079582625\n----------------------answer 11, this one cost 0.027704715728759766s, total cost 0.4080348014831543s\nmy code:    ax.set_xlabel('Temperature')\nground truth:    client.send('HTTP/1.0 200 OK\\r\\n')\nbleu socre 0.186245115152549\n----------------------answer 12, this one cost 0.0378270149230957s, total cost 0.4468669891357422s\nmy code:    plt.parse('a', '')\nground truth:    then = datetime.datetime.strptime(when, '%Y-%m-%d').date()\nbleu socre 0.16095657003405622\n----------------------answer 13, this one cost 0.03702211380004883s, total cost 0.4848449230194092s\nmy code:    re.findall('{http://www.w3.org/2002/07/owl#}Class', '3.1415', '')\nground truth:    inputString.split('\\n')\nbleu socre 0.30277029197532096\n"
     ]
    },
    {
     "name": "stdout",
     "output_type": "stream",
     "text": [
      "----------------------answer 14, this one cost 0.06520891189575195s, total cost 0.5516018867492676s\nmy code:    re.findall('filename.png', '*', 'this')\nground truth:    ' a \\n b \\r\\n c '.split('\\n')\nbleu socre 0.43749609513070276\n----------------------answer 15, this one cost 0.040075063705444336s, total cost 0.593019962310791s\nmy code:    concatenate(concatenate(zip(b)))\nground truth:    \"\"\":\"\"\".join(str(x) for x in b)\nbleu socre 0.1973862244299071\n----------------------answer 16, this one cost 0.03248095512390137s, total cost 0.6264278888702393s\nmy code:    re.findall('_(?:for|or|and)_', 'sad_pandas_and_happy_cats_for_people', 'Python'\n    )\nground truth:    Entry.objects.filter()[:1].get()\nbleu socre 0.6930977286178778\n----------------------answer 17, this one cost 0.028824806213378906s, total cost 0.6562888622283936s\nmy code:    sorted(zip(arr))\nground truth:    a.sum(axis=1)\nbleu socre 0.6337834876616586\n----------------------answer 18, this one cost 0.018526077270507812s, total cost 0.6756880283355713s\nmy code:    dparser.urldefrag('monkey')\nground truth:    warnings.simplefilter('always')\nbleu socre 0.6500593260343691\n----------------------answer 19, this one cost 0.027037858963012695s, total cost 0.7034969329833984s\nmy code:    items(set(a))\nground truth:    print(' '.join(map(str, l)))\nbleu socre 0.17716018473884654\n----------------------answer 20, this one cost 0.03531289100646973s, total cost 0.7394809722900391s\nmy code:    subprocess.system('grep -c', 'rt', 'some.file')\nground truth:    subprocess.call(['python.exe', 'hello.py', 'htmlfilename.htm'])\nbleu socre 0.3039925331025443\n"
     ]
    },
    {
     "name": "stdout",
     "output_type": "stream",
     "text": [
      "----------------------answer 21, this one cost 0.03899502754211426s, total cost 0.7797119617462158s\nmy code:    re.findall(\"//a[starts-with(text(),'some\", 'http://example.org/#comments', '')\nground truth:    time.strptime('30/03/09 16:31:32.123', '%d/%m/%y %H:%M:%S.%f')\nbleu socre 0.1670910486608537\n----------------------answer 22, this one cost 0.033843040466308594s, total cost 0.8148839473724365s\nmy code:    s.import_module('11B', 'a.b')\nground truth:    my_float = float(my_string.replace(',', ''))\nbleu socre 0.3016006458695292\n----------------------answer 23, this one cost 0.042076826095581055s, total cost 0.8578839302062988s\nmy code:    .findall('11B', '')\nground truth:    float('123,456.908'.replace(',', ''))\nbleu socre 0.17185045819660794\n----------------------answer 24, this one cost 0.022456884384155273s, total cost 0.8812918663024902s\nmy code:    plt.info('log')\nground truth:    sys.path.append('/path/to/whatever')\nbleu socre 0.2709850435615371\n----------------------answer 25, this one cost 0.03767991065979004s, total cost 0.9199929237365723s\nmy code:    re.findall('#(\\\\w+)', '\\\\\\\\\\\\g<0>')\nground truth:    re.split('(\\\\W+)', 'Words, words, words.')\nbleu socre 0.22117856823621687\n----------------------answer 26, this one cost 0.025578975677490234s, total cost 0.9466907978057861s\nmy code:    os.system('%Y-%m-%d')\nground truth:    file = open('Output.txt', 'a')\nbleu socre 0.46713797772820004\n"
     ]
    },
    {
     "name": "stdout",
     "output_type": "stream",
     "text": [
      "----------------------answer 27, this one cost 0.03757500648498535s, total cost 0.9851598739624023s\nmy code:    soup.find_all('#(\\\\w+)', 'person.name', 'width=300px;')\nground truth:    urllib.request.urlretrieve('http://www.example.com/songs/mp3.mp3', 'mp3.mp3')\nbleu socre 0.1904370312416458\n----------------------answer 28, this one cost 0.04432797431945801s, total cost 1.030513048171997s\nmy code:    soup.find_elements_by_xpath('\\\\d|\\\\d,\\\\d\\\\)', 'name', 'â')\nground truth:    u = urllib.request.urlopen(url)\nf = open(file_name, 'wb')\nmeta = u.info()\nfile_size = int(meta.getheaders('Content-Length')[0])\nprint(('Downloading: %s Bytes: %s' % (file_name, file_size)))\nfile_size_dl = 0\nblock_sz = 8192\nwhile True:\n    buffer = u.read(block_sz)\n    if (not buffer):\n        break\n    file_size_dl += len(buffer)\n    f.write(buffer)\n    status = ('%10d  [%3.2f%%]' % (file_size_dl, ((file_size_dl * 100.0) / file_size)))\n    status = (status + (chr(8) * (len(status) + 1)))\n    print(status, end=' ')\nf.close()\nbleu socre 0.003620824056891468\n----------------------answer 29, this one cost 0.03302407264709473s, total cost 1.065403938293457s\nmy code:    app.get('log', 'surrogatepass')\nground truth:    response = urllib.request.urlopen('http://www.example.com/')\nhtml = response.read()\nbleu socre 0.13829204792054148\n----------------------answer 30, this one cost 0.028474092483520508s, total cost 1.0951519012451172s\nmy code:    plt.parse('\\\\W+', 'Words,')\nground truth:    r = requests.get(url)\nbleu socre 0.6580370064762462\n----------------------answer 31, this one cost 0.034947872161865234s, total cost 1.1310458183288574s\nmy code:    soup.findall('#(\\\\w+)', 'person.name', 'name')\nground truth:    response = requests.get(url, stream=True)\nwith open('10MB', 'wb') as handle:\n    for data in tqdm(response.iter_content()):\n        handle.write(data)\nbleu socre 0.1089702134155707\n----------------------answer 32, this one cost 0.042189836502075195s, total cost 1.1742849349975586s\nmy code:    ax.set_title('window.scrollTo(0,', '$%s', '3.5')\nground truth:    parser.add_argument('--version', action='version', version='%(prog)s 2.0')\nbleu socre 0.4991208963766459\n----------------------answer 33, this one cost 0.020060062408447266s, total cost 1.1953959465026855s\nmy code:    d = d.items()\nground truth:    {i: d[i] for i in d if i != 'c'}\nbleu socre 0.14571389846110752\n"
     ]
    },
    {
     "name": "stdout",
     "output_type": "stream",
     "text": [
      "----------------------answer 34, this one cost 0.0734090805053711s, total cost 1.2695949077606201s\nmy code:    cur.execute('INSERT INTO REPLACE master.table1', 'SELECT', 'my_column', 'n/a')\nground truth:    pd.merge(split_df, csv_df, on=['key'], suffixes=('_left', '_right'))\nbleu socre 0.22037181488375948\n----------------------answer 35, this one cost 0.02881479263305664s, total cost 1.2993948459625244s\nmy code:    re.translate('', '')\nground truth:    s.split(' ', 4)\nbleu socre 0.2907153684841096\n----------------------answer 36, this one cost 0.03087306022644043s, total cost 1.3308758735656738s\nmy code:    sys.exit('.button .c_button .s_button')\nground truth:    input('Enter your input:')\nbleu socre 0.4758733096412523\n----------------------answer 37, this one cost 0.027107715606689453s, total cost 1.3590548038482666s\nmy code:    re.call('grep', 'aaa')\nground truth:    app.run(debug=True)\nbleu socre 0.7071067811865476\n----------------------answer 38, this one cost 0.023499727249145508s, total cost 1.3834776878356934s\nmy code:    json.load('\\n')\nground truth:    pickle.dump(mylist, open('save.txt', 'wb'))\nbleu socre 0.20096362295675757\n----------------------answer 39, this one cost 0.035101890563964844s, total cost 1.4197678565979004s\nmy code:    plt.set_clim('...j,...j->...', 0, 0)\nground truth:    scipy.tensordot(P, T, axes=[1, 1]).swapaxes(0, 1)\nbleu socre 0.33980884896942454\n----------------------answer 40, this one cost 0.025646686553955078s, total cost 1.4463608264923096s\nmy code:    print(range(arr))\nground truth:    numpy.zeros((3, 3, 3))\nbleu socre 0.2719520463054227\n"
     ]
    },
    {
     "name": "stdout",
     "output_type": "stream",
     "text": [
      "----------------------answer 41, this one cost 0.02879929542541504s, total cost 1.4758620262145996s\nmy code:    re.sub('', '')\nground truth:    \"\"\" \"\"\".join(content.split(' ')[:-1])\nbleu socre 0.15905982648701386\n----------------------answer 42, this one cost 0.021530866622924805s, total cost 1.4982879161834717s\nmy code:    np.shape(a)\nground truth:    x = np.asarray(x).reshape(1, -1)[(0), :]\nbleu socre 0.035541328075953935\n----------------------answer 43, this one cost 0.03362894058227539s, total cost 1.532801866531372s\nmy code:    zip(zip(zip(l)))\nground truth:    sum(sum(i) if isinstance(i, list) else i for i in L)\nbleu socre 0.3237750138999811\n----------------------answer 44, this one cost 0.025489330291748047s, total cost 1.5592930316925049s\nmy code:    time.unpack('monkey')\nground truth:    struct.unpack('!f', '470FC614'.decode('hex'))[0]\nbleu socre 0.06304938218861472\n----------------------answer 45, this one cost 0.03185081481933594s, total cost 1.5919837951660156s\nmy code:    dict(dict_test, v)\nground truth:    my_dict.update((x, y * 2) for x, y in list(my_dict.items()))\nbleu socre 0.03543860693196404\n----------------------answer 46, this one cost 0.016497135162353516s, total cost 1.6092889308929443s\nmy code:    os.path.dirname()\nground truth:    subprocess.call('sleep.sh', shell=True)\nbleu socre 0.31984974287337115\n"
     ]
    },
    {
     "name": "stdout",
     "output_type": "stream",
     "text": [
      "----------------------answer 47, this one cost 0.3019247055053711s, total cost 1.9121417999267578s\nmy code:    map(s.</primitive>('=', 'b', 'd', 'd', 'd', 'd', 'd', 'd', 'd', 'd', 'd',\n    'd', 'd', 'd', 'd', 'd', 'd', 'd', 'd', 'd', 'd', 'd', 'd', 'd', 'd',\n    'd', 'd', 'd', 'd', 'd', 'd', 'd', 'd', 'd', 'd', 'd', 'd', 'd', 'd',\n    'd', 'd', 'd', 'd', 'd', 'd', 'd', 'd', 's', 's', 's', 's', 's', 's',\n    's', 's', 's', 's', 's', 's', 's', 's', 's', 's', None))\nground truth:    \"\"\",\"\"\".join(l)\nbleu socre 0.03238114916553964\n----------------------answer 48, this one cost 0.027102947235107422s, total cost 1.94138503074646s\nmy code:    map(itertools.product(0))\nground truth:    myList = ','.join(map(str, myList))\nbleu socre 0.2626773630904577\n----------------------answer 49, this one cost 0.021450281143188477s, total cost 1.9634671211242676s\nmy code:    np.sample(arr)\nground truth:    list(reversed(list(range(10))))\nbleu socre 0.23661528215726477\n----------------------answer 50, this one cost 0.02811884880065918s, total cost 1.9921729564666748s\nmy code:    re.__class__('^([^A]*)AA([^A]|AA)*$', 'sad_pandas_and_happy_cats_for_people')\nground truth:    print('lamp, bag, mirror'.replace('bag,', ''))\nbleu socre 0.20130088157694537\n----------------------answer 51, this one cost 0.02882099151611328s, total cost 2.022162914276123s\nmy code:    print(set(a))\nground truth:    \"\"\".\"\"\".join(s.split('.')[::-1])\nbleu socre 0.0664482042402897\n----------------------answer 52, this one cost 0.04877018928527832s, total cost 2.0719680786132812s\nmy code:    re.savefig('filename.png', '\"\\\\1\"', '-l', '.', '.', '.')\nground truth:    datetime.datetime.fromtimestamp(s).strftime('%Y-%m-%d %H:%M:%S.%f')\nbleu socre 0.35069646313246183\n----------------------answer 53, this one cost 0.02550792694091797s, total cost 2.0986108779907227s\nmy code:    datetime.datetime.strptime('%Y-%m-%d')\nground truth:    time.strftime('%Y-%m-%d %H:%M:%S', time.gmtime(1236472051807 / 1000.0))\nbleu socre 0.21809620638912752\n"
     ]
    },
    {
     "name": "stdout",
     "output_type": "stream",
     "text": [
      "----------------------answer 54, this one cost 0.025097131729125977s, total cost 2.1245689392089844s\nmy code:    7.7('test.csv')\nground truth:    (datetime.datetime.now() - datetime.timedelta(days=7)).date()\nbleu socre 0.25327313309213834\n----------------------answer 55, this one cost 0.02890491485595703s, total cost 2.1545848846435547s\nmy code:    sum(zip(x))\nground truth:    print(sum(row[column] for row in data))\nbleu socre 0.256976373216606\n----------------------answer 56, this one cost 0.020940065383911133s, total cost 2.176292896270752s\nmy code:    np.columns(axis=1)\nground truth:    [sum(row[i] for row in array) for i in range(len(array[0]))]\nbleu socre 0.07452850641949799\n----------------------answer 57, this one cost 0.03240227699279785s, total cost 2.2094080448150635s\nmy code:    re.findall('{http://www.w3.org/2002/07/owl#}Class', '\\\\\\\\\\\\g<0>')\nground truth:    base64.b64encode(bytes('your string', 'utf-8'))\nbleu socre 0.1554264804148821\n----------------------answer 58, this one cost 0.0318913459777832s, total cost 2.2423040866851807s\nmy code:    dict(iter(d))\nground truth:    dict((k, [d[k] for d in dicts]) for k in dicts[0])\nbleu socre 0.05420137695229982\n----------------------answer 59, this one cost 0.042166948318481445s, total cost 2.2852728366851807s\nmy code:    dict(zip(d))\nground truth:    {k: [d[k] for d in dicts] for k in dicts[0]}\nbleu socre 0.08320252881017333\n----------------------answer 60, this one cost 0.027853012084960938s, total cost 2.313764810562134s\nmy code:    print(set(x))\nground truth:    request.args['myParam']\nbleu socre 0\n"
     ]
    },
    {
     "name": "stdout",
     "output_type": "stream",
     "text": [
      "----------------------answer 61, this one cost 0.03623175621032715s, total cost 2.3505287170410156s\nmy code:    dict(list(list(list(d))))\nground truth:    [k for k, v in list(Counter(mylist).items()) if v > 1]\nbleu socre 0.2536168948316807\n----------------------answer 62, this one cost 0.026453018188476562s, total cost 2.377814769744873s\nmy code:    os.path.path('/usr/var')\nground truth:    sys.path.insert(1, os.path.join(os.path.dirname(__file__), 'apps'))\nbleu socre 0.08488330657773378\n----------------------answer 63, this one cost 0.025172948837280273s, total cost 2.403693914413452s\nmy code:    re.call('somedirectory', 'libs')\nground truth:    sys.path.append(os.path.join(os.path.dirname(__file__), 'subdir'))\nbleu socre 0.17099166183515635\n----------------------answer 64, this one cost 0.026060819625854492s, total cost 2.430487871170044s\nmy code:    np.dumps(mask)\nground truth:    db.execute(\"INSERT INTO present VALUES('test2', ?, 10)\", (None,))\nbleu socre 0.03543860693196404\n----------------------answer 65, this one cost 0.0317540168762207s, total cost 2.463024854660034s\nmy code:    scatter(range(range(range(array))))\nground truth:    [image for menuitem in list_of_menuitems for image in menuitem]\nbleu socre 0\n----------------------answer 66, this one cost 0.02337789535522461s, total cost 2.48726487159729s\nmy code:    numpy.concatenate(a)\nground truth:    a.extend(b)\nbleu socre 0.9036020036098448\n----------------------answer 67, this one cost 0.02523493766784668s, total cost 2.513155937194824s\nmy code:    [i for i in x]\nground truth:    a.extend(list(b))\nbleu socre 0\n----------------------answer 68, this one cost 0.027936935424804688s, total cost 2.542026996612549s\nmy code:    df.set_index.groupby('mycsv.csv')\nground truth:    np.savetxt('c:\\\\data\\\\np.txt', df.values, fmt='%d')\nbleu socre 0.172127403835423\n"
     ]
    },
    {
     "name": "stdout",
     "output_type": "stream",
     "text": [
      "----------------------answer 69, this one cost 0.0312650203704834s, total cost 2.5742437839508057s\nmy code:    df.to_csv('-', 'mycsv.csv')\nground truth:    df.to_csv('c:\\\\data\\\\pandas.txt', header=None, index=None, sep=' ', mode='a')\nbleu socre 0.07443885930338141\n----------------------answer 70, this one cost 0.04252815246582031s, total cost 2.617771863937378s\nmy code:    print(s.split('=', ',', ','))\nground truth:    print(x.rpartition('-')[0])\nbleu socre 0.5146906560381768\n----------------------answer 71, this one cost 0.03417706489562988s, total cost 2.6531519889831543s\nmy code:    re.sub('\\\\bis\\\\b', '*')\nground truth:    print(x.rsplit('-', 1)[0])\nbleu socre 0.4583034067124109\n----------------------answer 72, this one cost 0.0198819637298584s, total cost 2.6738739013671875s\nmy code:    ax.strftime('%B')\nground truth:    ftp.storlines('STOR ' + filename, open(filename, 'r'))\nbleu socre 0.20096362295675757\n----------------------answer 73, this one cost 0.03184628486633301s, total cost 2.706411123275757s\nmy code:    re.compile('my_script.sh', '*')\nground truth:    browser.execute_script(\"document.getElementById('XYZ').value+='1'\")\nbleu socre 0.24818799467965943\n----------------------answer 74, this one cost 0.033364057540893555s, total cost 2.740638017654419s\nmy code:    min(Matrix(arr))\nground truth:    np.maximum([2, 3, 4], [1, 5, 2])\nbleu socre 0.11413953369418132\n----------------------answer 75, this one cost 0.03350996971130371s, total cost 2.7748899459838867s"
     ]
    },
    {
     "name": "stdout",
     "output_type": "stream",
     "text": [
      "\nmy code:    print(zip(zip(student_tuples)))\nground truth:    print(l[3:] + l[:3])\nbleu socre 0.2864190457979541\n----------------------answer 76, this one cost 0.015281915664672852s, total cost 2.790855884552002s\nmy code:    if some_string:\nground truth:    for fn in os.listdir('.'):\n    if os.path.isfile(fn):\n        pass\nbleu socre 0.0011499544527522635\n----------------------answer 77, this one cost 0.0219571590423584s, total cost 2.8136630058288574s\nmy code:    os.load('\\n')\nground truth:    for (root, dirs, filenames) in os.walk(source):\n    for f in filenames:\n        pass\nbleu socre 0.11451638292388283\n----------------------answer 78, this one cost 0.0776360034942627s, total cost 2.892117977142334s\nmy code:    sorted(list(list(itemgetter(itemgetter(itemgetter(tuple(tuple(tuple(tuple(\n    mylist))))))))))\nground truth:    [int(1000 * random.random()) for i in range(10000)]\nbleu socre 0.2834112434083198\n----------------------answer 79, this one cost 0.029692888259887695s, total cost 2.9226839542388916s\nmy code:    plt.find_element_by_xpath('...j,...j->...', 'utf-16')\nground truth:    datetime.datetime.now().strftime('%H:%M:%S.%f')\nbleu socre 0.3885489302768435\n----------------------answer 80, this one cost 0.045531272888183594s, total cost 2.9691951274871826s\nmy code:    subprocess.set_title('source', './uireplace.pl', './uireplace.pl', '+20', '+20'\n    )\nground truth:    db.GqlQuery('SELECT * FROM Schedule WHERE station = $1', foo.key())\nbleu socre 0.33422104647455636\n"
     ]
    },
    {
     "name": "stdout",
     "output_type": "stream",
     "text": [
      "----------------------answer 81, this one cost 0.03800606727600098s, total cost 3.0081748962402344s\nmy code:    df.read_csv('a', '', '', '')\nground truth:    df.b.str.contains('^f')\nbleu socre 0.5071960939456881\n----------------------answer 82, this one cost 0.036096811294555664s, total cost 3.045106887817383s\nmy code:    quadmesh.set_clim('...j,...j->...', 'name', '?')\nground truth:    print('\\n'.join('\\t'.join(str(col) for col in row) for row in tab))\nbleu socre 0.349695178786111\n----------------------answer 83, this one cost 0.031222105026245117s, total cost 3.0775740146636963s\nmy code:    df.concat(df.groupby())\nground truth:    df.set_index(list('BC')).drop(tuples, errors='ignore').reset_index()\nbleu socre 0.14032111445484918\n----------------------answer 84, this one cost 0.03883814811706543s, total cost 3.117237091064453s\nmy code:    soup.find_all('test.sh', 'utf-16', 'utf-16')\nground truth:    \"\"\"({:d} goals, ${:d})\"\"\".format(self.goals, self.penalties)\nbleu socre 0.5973988402512919\n----------------------answer 85, this one cost 0.030508041381835938s, total cost 3.148522138595581s\nmy code:    ax.call('2009/05/13', './uireplace.pl', '3.5')\nground truth:    \"\"\"({} goals, ${})\"\"\".format(self.goals, self.penalties)\nbleu socre 0.3760603093086394\n----------------------answer 86, this one cost 0.020688772201538086s, total cost 3.170203924179077s\nmy code:    subprocess.system('%Y-%m-%d')\nground truth:    \"\"\"({0.goals} goals, ${0.penalties})\"\"\".format(self)\nbleu socre 0.3649531077756623\n----------------------answer 87, this one cost 0.032114267349243164s, total cost 3.2032320499420166s\nmy code:    map(zip(zip(L)))\nground truth:    [int(''.join(str(d) for d in x)) for x in L]\nbleu socre 0.14392328271175742\n"
     ]
    },
    {
     "name": "stdout",
     "output_type": "stream",
     "text": [
      "----------------------answer 88, this one cost 0.038465023040771484s, total cost 3.2425239086151123s\nmy code:    [map(i, i) for i in l]\nground truth:    [''.join(str(d) for d in x) for x in L]\nbleu socre 0.23706349081113634\n----------------------answer 89, this one cost 0.05191493034362793s, total cost 3.295308828353882s\nmy code:    map(zip(zip(zip(L))))\nground truth:    L = [int(''.join([str(y) for y in x])) for x in L]\nbleu socre 0.15678034315258924\n----------------------answer 90, this one cost 0.047609806060791016s, total cost 3.3439698219299316s\nmy code:    re.sub('file.txt', '*', 'w', '1')\nground truth:    myfile.write('\\n'.join(lines))\nbleu socre 0.3375804740497263\n----------------------answer 91, this one cost 0.032002925872802734s, total cost 3.3769919872283936s\nmy code:    writer.writerow('3M', '2')\nground truth:    [x for x in ['AAT', 'XAC', 'ANT', 'TTA'] if 'X' not in x and 'N' not in x]\nbleu socre 0.0367346872369689\n----------------------answer 92, this one cost 0.030956745147705078s, total cost 3.408876895904541s\nmy code:    re.sub('', '')\nground truth:    text = re.sub('\\\\b(\\\\w+)( \\\\1\\\\b)+', '\\\\1', text)\nbleu socre 0.0456001709169146\n"
     ]
    },
    {
     "name": "stdout",
     "output_type": "stream",
     "text": [
      "----------------------answer 93, this one cost 0.03913283348083496s, total cost 3.4490137100219727s\nmy code:    df.set_option('Date', 'b', '', '')\nground truth:    df.astype(bool).sum(axis=1)\nbleu socre 0.3381307292971254\n"
     ]
    },
    {
     "name": "stdout",
     "output_type": "stream",
     "text": [
      "----------------------answer 94, this one cost 0.3120996952056885s, total cost 3.7623188495635986s\nmy code:    re.findall('Test(.*)print', '', '', '', '', '', '', '', '.', '.', '.', '.',\n    '.', '.', '.', '.', '.', '.', '.', '.', '.', '.', '.', '.', '.', '.',\n    '.', '.', '.', '.', '.', '.', '.', '.', '.', '.', '.', '.', '.', '.',\n    '.', '.', '.', '.', '.', '.', '.', '.', '.', '.', '.', '.', '.', '.',\n    '.', '.', '.', '.', '.', '.', '.', '.', '.', '.', None)\nground truth:    re.search('(?<!Distillr)\\\\\\\\AcroTray\\\\.exe', 'C:\\\\SomeDir\\\\AcroTray.exe')\nbleu socre 0.04159370730915099\n----------------------answer 95, this one cost 0.03365826606750488s, total cost 3.7984111309051514s\nmy code:    soup.find_all('[', '', '')\nground truth:    \"\"\"QH QD JC KD JS\"\"\".split()\nbleu socre 0.5221307185746091\n----------------------answer 96, this one cost 0.030588865280151367s, total cost 3.829676866531372s\nmy code:    re.findall('\\\\*+', '*', '*')\nground truth:    print(re.search('>.*<', line).group(0))\nbleu socre 0.4632666908476205\n----------------------answer 97, this one cost 0.023494720458984375s, total cost 3.854038715362549s\nmy code:    os.open('file.txt')\nground truth:    open(filename, 'w').close()\nbleu socre 0.49473859088183875\n----------------------answer 98, this one cost 0.027962923049926758s, total cost 3.882845878601074s\nmy code:    os.exit(\"//div[@id='a']//a[@class='click']\", '-jar')\nground truth:    datetime.datetime.strptime(string_date, '%Y-%m-%d %H:%M:%S.%f')\nbleu socre 0.33422104647455636\n----------------------answer 99, this one cost 0.030021190643310547s, total cost 3.9143450260162354s\nmy code:    [x for x in x]\nground truth:    [index for index, item in enumerate(thelist) if item[0] == '332']\nbleu socre 0.10200218036070394\n----------------------answer 100, this one cost 0.029629945755004883s, total cost 3.944814920425415s\nmy code:    re.sub('\\\\*\\\\*+', '*')\nground truth:    re.sub('[^\\\\sa-zA-Z0-9]', '', text).lower().strip()\nbleu socre 0.13441479776629314\n"
     ]
    },
    {
     "name": "stdout",
     "output_type": "stream",
     "text": [
      "----------------------answer 101, this one cost 0.03369927406311035s, total cost 3.9795260429382324s\nmy code:    re.findall('(?:\\\\w+(?:\\\\s+\\\\w+)*,\\\\s)+(?:\\\\w+(?:\\\\s\\\\w+)*)', '*')\nground truth:    re.sub('(?!\\\\s)[\\\\W_]', '', text).lower().strip()\nbleu socre 0.12342434672334954\n----------------------answer 102, this one cost 0.040438175201416016s, total cost 4.021223068237305s\nmy code:    cur.date_range('1/1/2014', 'name', 'name')\nground truth:    plt.plot(x, y, label='H\\u2082O')\nbleu socre 0.36840762547436395\n----------------------answer 103, this one cost 0.03917717933654785s, total cost 4.0612781047821045s\nmy code:    cur.date_range('1/1/2014', 'name', 'name')\nground truth:    plt.plot(x, y, label='$H_2O$')\nbleu socre 0.36840762547436395\n----------------------answer 104, this one cost 0.028735876083374023s, total cost 4.090827703475952s\nmy code:    dict(dicts)\nground truth:    [x for x in mylist if len(x) == 3]\nbleu socre 0.053756709323557396\n----------------------answer 105, this one cost 0.03778481483459473s, total cost 4.12926983833313s\nmy code:    print(range(range(range(x))))\nground truth:    lst = [Object() for _ in range(100)]\nbleu socre 0.3917906646317953\n----------------------answer 106, this one cost 0.026459217071533203s, total cost 4.15664005279541s\nmy code:    100(set(x))\nground truth:    lst = [Object() for i in range(100)]\nbleu socre 0.338199926733156\n"
     ]
    },
    {
     "name": "stdout",
     "output_type": "stream",
     "text": [
      "----------------------answer 107, this one cost 0.03658771514892578s, total cost 4.193984746932983s\nmy code:    driver.find_element_by_xpath('//*[contains(text(),', 'hi.json', '3.5')\nground truth:    self.driver.find_element_by_css_selector('.someclass a').get_attribute('href')\nbleu socre 0.45886678012586496\n----------------------answer 108, this one cost 0.061944007873535156s, total cost 4.256947040557861s\nmy code:    df.df.value_counts('my.csv', 'A', 'Male', 'Male')\nground truth:    df1.merge(df2, on='Date_Time')\nbleu socre 0.322888846243622\n----------------------answer 109, this one cost 0.0383608341217041s, total cost 4.29640793800354s\nmy code:    logging.call('(ddd)', 'aaa', '')\nground truth:    'first string is: %s, second one is: %s' % (str1, 'geo.tif')\nbleu socre 0.3168122941845665\n----------------------answer 110, this one cost 0.026545047760009766s, total cost 4.32398796081543s\nmy code:    .translate('')\nground truth:    [x.strip() for x in '2.MATCHES $$TEXT$$ STRING'.split('$$TEXT$$')]\nbleu socre 0.009971877423139049\n----------------------answer 111, this one cost 0.03024601936340332s, total cost 4.355196952819824s\nmy code:    re.findall('^([^A]*)AA([^A]|AA)*$', '*')\nground truth:    if (not os.path.exists(directory)):\n    os.makedirs(directory)\nbleu socre 0.6950150297221263\n----------------------answer 112, this one cost 0.028892993927001953s, total cost 4.385032892227173s\nmy code:    re.findall('^([^A]*)AA([^A]|AA)*$', 'sad_pandas_and_happy_cats_for_people')\nground truth:    try:\n    os.makedirs(path)\nexcept OSError:\n    if (not os.path.isdir(path)):\n        raise\nbleu socre 0.6950150297221263\n"
     ]
    },
    {
     "name": "stdout",
     "output_type": "stream",
     "text": [
      "----------------------answer 113, this one cost 0.03360605239868164s, total cost 4.419512987136841s\nmy code:    re.findall('^([^A]*)AA([^A]|AA)*$', 'sad_pandas_and_happy_cats_for_people')\nground truth:    distutils.dir_util.mkpath(path)\nbleu socre 0.5623413251903491\n----------------------answer 114, this one cost 0.031131267547607422s, total cost 4.451560020446777s\nmy code:    re.findall('^([^A]*)AA([^A]|AA)*$', 'sad_pandas_and_happy_cats_for_people')\nground truth:    try:\n    os.makedirs(path)\nexcept OSError as exception:\n    if (exception.errno != errno.EEXIST):\n        raise\nbleu socre 0.6389431042462724\n----------------------answer 115, this one cost 0.03249406814575195s, total cost 4.485102891921997s\nmy code:    re.sub('\\\\*\\\\*+', '')\nground truth:    re.sub('\\\\bH3\\\\b', 'H1', text)\nbleu socre 0.4020760403449254\n----------------------answer 116, this one cost 0.033978939056396484s, total cost 4.519960880279541s\nmy code:    re.sub('', '')\nground truth:    re.sub('\\\\D', '', 'aas30dsa20')\nbleu socre 0.39013196550229545\n----------------------answer 117, this one cost 0.030347108840942383s, total cost 4.55095100402832s\nmy code:    calendar.monthrange('2008', 2)\nground truth:    \"\"\"\"\"\".join([x for x in 'aas30dsa20' if x.isdigit()])\nbleu socre 0.18762935180380186\n----------------------answer 118, this one cost 0.023726940155029297s, total cost 4.575362920761108s\nmy code:    ax.strftime('INSERT \\\\times -0400')\nground truth:    print(soup.find('name').string)\nbleu socre 0.5031747626530138\n----------------------answer 119, this one cost 0.018930912017822266s, total cost 4.594958782196045s\nmy code:    dict(dicts)\nground truth:    records = dict((record['_id'], record) for record in cursor)\nbleu socre 0.016629557573005865\n----------------------answer 120, this one cost 0.026668071746826172s, total cost 4.622375011444092s"
     ]
    },
    {
     "name": "stdout",
     "output_type": "stream",
     "text": [
      "\nmy code:    calendar.monthrange('2008', 2)\nground truth:    np.concatenate((A, B))\nbleu socre 0.7952707287670506\n----------------------answer 121, this one cost 0.027642250061035156s, total cost 4.651123046875s\nmy code:    df.concat(df.groupby())\nground truth:    np.vstack((A, B))\nbleu socre 0.4854917717073234\n----------------------answer 122, this one cost 0.02533721923828125s, total cost 4.67724609375s\nmy code:    os.chdir('some_command')\nground truth:    os.stat(filepath).st_size\nbleu socre 0.5169731539571706\n----------------------answer 123, this one cost 0.023836851119995117s, total cost 4.701878786087036s\nmy code:    max(max(l))\nground truth:    l.count('a')\nbleu socre 0.7013967267997694\n----------------------answer 124, this one cost 0.015579938888549805s, total cost 4.718028783798218s\nmy code:    count(l)\nground truth:    Counter(l)\nbleu socre 0.7071067811865476\n----------------------answer 125, this one cost 0.01743316650390625s, total cost 4.7363200187683105s\nmy code:    count(l)\nground truth:    [[x, l.count(x)] for x in set(l)]\nbleu socre 0.019775988185165957\n----------------------answer 126, this one cost 0.017858028411865234s, total cost 4.75485897064209s\nmy code:    count(l)\nground truth:    dict(((x, l.count(x)) for x in set(l)))\nbleu socre 0.00934151536607388\n----------------------answer 127, this one cost 0.02217578887939453s, total cost 4.777896881103516s\nmy code:    max(max(l))\nground truth:    l.count('b')\nbleu socre 0.7013967267997694\n----------------------answer 128, this one cost 0.01906418800354004s, total cost 4.79751992225647s\nmy code:    os.system('/bin/bash -c')\nground truth:    shutil.copy(srcfile, dstdir)\nbleu socre 0.6930977286178778\n"
     ]
    },
    {
     "name": "stdout",
     "output_type": "stream",
     "text": [
      "----------------------answer 129, this one cost 0.0419921875s, total cost 4.8402979373931885s\nmy code:    data.count_nonzero('Date', 'C', 'B', 'B', '6')\nground truth:    max(k for k, v in x.items() if v != 0)\nbleu socre 0.6389431042462724\n----------------------answer 130, this one cost 0.030872106552124023s, total cost 4.872244119644165s\nmy code:    dict(zip(d))\nground truth:    (k for k, v in x.items() if v != 0)\nbleu socre 0.18062494612011476\n----------------------answer 131, this one cost 0.023478031158447266s, total cost 4.896608114242554s\nmy code:    [k for x in v]\nground truth:    max(k for k, v in x.items() if v != 0)\nbleu socre 0.10578530739037528\n----------------------answer 132, this one cost 0.019537925720214844s, total cost 4.91711688041687s\nmy code:    os.listdir('somedirectory')\nground truth:    file.seek(0)\nbleu socre 0.7825422900366437\n----------------------answer 133, this one cost 0.04706096649169922s, total cost 4.964762926101685s\nmy code:    df.concat('a', 'b', 'b', 'b', 'b')\nground truth:    df['c'] = np.where(df['a'].isnull, df['b'], df['a'])\nbleu socre 0.2112302040878568\n----------------------answer 134, this one cost 0.01773691177368164s, total cost 4.9832940101623535s\nmy code:    d = d.items()\nground truth:    del d['ele']\nbleu socre 0.6147881529512643\n----------------------answer 135, this one cost 0.030884742736816406s, total cost 5.015180826187134s\nmy code:    df.merge('Cat1', '192.168.0.58', 'three')\nground truth:    MyModel.objects.update(timestamp=F('timestamp') + timedelta(days=36524.25))\nbleu socre 0.36404036423775604\n----------------------answer 136, this one cost 0.02887701988220215s, total cost 5.044942855834961s"
     ]
    },
    {
     "name": "stdout",
     "output_type": "stream",
     "text": [
      "\nmy code:    merge(range(range(x)))\nground truth:    ['it'] + ['was'] + ['annoying']\nbleu socre 0\n----------------------answer 137, this one cost 0.02561211585998535s, total cost 5.071190118789673s\nmy code:    numpy.apply_along_axis('a')\nground truth:    str(int(x) + 1).zfill(len(x))\nbleu socre 0.2540542852726497\n----------------------answer 138, this one cost 0.025881052017211914s, total cost 5.097835063934326s\nmy code:    df.drop(df.square())\nground truth:    all(df.index[:-1] <= df.index[1:])\nbleu socre 0.14628187563941414\n----------------------answer 139, this one cost 0.015811920166015625s, total cost 5.114308834075928s\nmy code:    map(lst)\nground truth:    list(t)\nbleu socre 0.8408964152537145\n----------------------answer 140, this one cost 0.02816295623779297s, total cost 5.143239974975586s\nmy code:    map(set(set(set(L))))\nground truth:    tuple(l)\nbleu socre 0.6262844962765469\n----------------------answer 141, this one cost 0.01590704917907715s, total cost 5.159740924835205s\nmy code:    len(x)\nground truth:    level1 = map(list, level1)\nbleu socre 0.30934850332660563\n----------------------answer 142, this one cost 0.033759117126464844s, total cost 5.194149017333984s\nmy code:    os.system('grep -c', '$1', 'your_template.html')\nground truth:    pprint.pprint(dataobject, logFile)\nbleu socre 0.6606328636027614\n----------------------answer 143, this one cost 0.01840686798095703s, total cost 5.213536739349365s\nmy code:    np.einsum('ijk,ikl->ijl')\nground truth:    df.loc[df['BoolCol']]\nbleu socre 0.6930977286178778\n----------------------answer 144, this one cost 0.028883934020996094s, total cost 5.243078947067261s\nmy code:    np.einsum('Date')\nground truth:    df.iloc[np.flatnonzero(df['BoolCol'])]\nbleu socre 0.18574174173997463\n"
     ]
    },
    {
     "name": "stdout",
     "output_type": "stream",
     "text": [
      "----------------------answer 145, this one cost 0.04179120063781738s, total cost 5.2854790687561035s\nmy code:    min(arr(range(arr)))\nground truth:    df[df['BoolCol'] == True].index.tolist()\nbleu socre 0.2718895182490884\n----------------------answer 146, this one cost 0.036484718322753906s, total cost 5.32272481918335s\nmy code:    df.groupby.groupby('column_name', 'A', 'True')\nground truth:    df[df['BoolCol']].index.tolist()\nbleu socre 0.7896895367562644\n----------------------answer 147, this one cost 0.02534198760986328s, total cost 5.348763942718506s\nmy code:    os.path.commonprefix(os.path)\nground truth:    os.chdir(owd)\nbleu socre 0.4591497693322865\n----------------------answer 148, this one cost 0.024738788604736328s, total cost 5.374091863632202s\nmy code:    re.findall('[', '')\nground truth:    c.execute(\"INSERT INTO test VALUES (?, 'bar')\", (testfield,))\nbleu socre 0.24669680495707502\n----------------------answer 149, this one cost 0.02643609046936035s, total cost 5.401194095611572s\nmy code:    re.findall('{http://www.w3.org/2002/07/owl#}Class', '\\\\\\\\\\\\g<0>')\nground truth:    \"\"\"\\\\x89\\\\n\"\"\".decode('string_escape')\nbleu socre 0.17796237395371306\n----------------------answer 150, this one cost 0.025082111358642578s, total cost 5.427520036697388s\nmy code:    re.findall('.{20}(.mkv)', '')\nground truth:    raw_string.decode('string_escape')\nbleu socre 0.4251768826212766\n----------------------answer 151, this one cost 0.024268150329589844s, total cost 5.452677965164185s\nmy code:    re.findall('.{20}(.mkv)', '')\nground truth:    raw_byte_string.decode('unicode_escape')\nbleu socre 0.4251768826212766\n----------------------answer 152, this one cost 0.024802207946777344s, total cost 5.478155136108398s\nmy code:    re.findall('s', '\\\\1')\nground truth:    [m.group(0) for m in re.finditer('(\\\\d)\\\\1*', s)]\nbleu socre 0.13644637354710684\n"
     ]
    },
    {
     "name": "stdout",
     "output_type": "stream",
     "text": [
      "----------------------answer 153, this one cost 0.04003190994262695s, total cost 5.5190269947052s\nmy code:    plt.find_elements_by_xpath(\"//*[contains(text(), 'My Button')] Button')]\",\n    'â', 'â')\nground truth:    plt.scatter(np.random.randn(100), np.random.randn(100), facecolors='none')\nbleu socre 0.4170507291634131\n----------------------answer 154, this one cost 0.02100372314453125s, total cost 5.541195869445801s\nmy code:    os.system('somedirectory')\nground truth:    plt.plot(np.random.randn(100), np.random.randn(100), 'o', mfc='none')\nbleu socre 0.027215232485694168\n----------------------answer 155, this one cost 0.02408885955810547s, total cost 5.566476821899414s\nmy code:    parser.mktime(\"//div[@id='a']//a[@class='click']\")\nground truth:    soup.find('div', id='main-content').decompose()\nbleu socre 0.2066736214472914\n----------------------answer 156, this one cost 0.02724313735961914s, total cost 5.59450888633728s\nmy code:    df.merge('Cat1', '192.168.0.58', 'length')\nground truth:    df[df['ids'].str.contains('ball')]\nbleu socre 0.44428088917702807\n----------------------answer 157, this one cost 0.03466916084289551s, total cost 5.6301751136779785s\nmy code:    df.fillna('dummy', axis=1)\nground truth:    df.reset_index(level=0, inplace=True)\nbleu socre 0.4617366309441026\n----------------------answer 158, this one cost 0.030635833740234375s, total cost 5.661466836929321s\nmy code:    pd.set_index('ratio', 'weekday', 'A')\nground truth:    df['index1'] = df.index\nbleu socre 0.6580370064762462\n----------------------answer 159, this one cost 0.023862123489379883s, total cost 5.685987949371338s\nmy code:    df.drop(df.groupby())\nground truth:    df.reset_index(level=['tick', 'obs'])\nbleu socre 0.251986736119447\n----------------------answer 160, this one cost 0.02147197723388672s, total cost 5.708131790161133s\nmy code:    [i for i in i]\nground truth:    [x[::-1] for x in b]\nbleu socre 0.3689674670049219\n"
     ]
    },
    {
     "name": "stdout",
     "output_type": "stream",
     "text": [
      "----------------------answer 161, this one cost 0.028045654296875s, total cost 5.736803770065308s\nmy code:    a.concatenate(a)\nground truth:    np.array([zip(x, y) for x, y in zip(a, b)])\nbleu socre 0.0300850846946367\n----------------------answer 162, this one cost 0.019624948501586914s, total cost 5.757324934005737s\nmy code:    a.concatenate(a)\nground truth:    np.array(zip(a.ravel(), b.ravel()), dtype='i4,i4').reshape(a.shape)\nbleu socre 0.007145162398882999\n----------------------answer 163, this one cost 0.031180858612060547s, total cost 5.78925895690918s\nmy code:    int(set(s.split('aaabcabccd')))\nground truth:    \"\"\",\"\"\".join([str(i) for i in list_of_ints])\nbleu socre 0.510029457493824\n----------------------answer 164, this one cost 0.03255820274353027s, total cost 5.822782039642334s\nmy code:    ax.set_title('$%s \\\\times 10^{%s}$ 10^{%s}$ 10^{%s}$')\nground truth:    requests.post(url, data=DATA, headers=HEADERS_DICT, auth=(username, password))\nbleu socre 0.5450176720923848\n----------------------answer 165, this one cost 0.026124000549316406s, total cost 5.849853038787842s\nmy code:    re.findall('\\\\$([^$]*)\\\\$', '\\\\1')\nground truth:    'abcd}def}'.rfind('}')\nbleu socre 0.3830925177304675\n----------------------answer 166, this one cost 0.03340601921081543s, total cost 5.884368896484375s\nmy code:    list(zip(zip(range(x))))\nground truth:    print([item for item in [1, 2, 3]])\nbleu socre 0.4972214518340529\n----------------------answer 167, this one cost 0.0272676944732666s, total cost 5.912311792373657s\nmy code:    [i for i in v]\nground truth:    [(x['x'], x['y']) for x in d]\nbleu socre 0.11766614466708529\n----------------------answer 168, this one cost 0.024847745895385742s, total cost 5.937952756881714s"
     ]
    },
    {
     "name": "stdout",
     "output_type": "stream",
     "text": [
      "\nmy code:    re.compile('\\\\bis\\\\b', '20M10000N80M')\nground truth:    print(os.path.splitext(os.path.basename('hemanth.txt'))[0])\nbleu socre 0.2735167328317251\n----------------------answer 169, this one cost 0.054595947265625s, total cost 5.993959903717041s\nmy code:    sorted(zip(iter(iter(zip(zip(b))))))\nground truth:    dict(x[i:i + 2] for i in range(0, len(x), 2))\nbleu socre 0.2653906757172882\n----------------------answer 170, this one cost 0.038970232009887695s, total cost 6.033728122711182s\nmy code:    plt.savez('INSERT vmin', 'CHAR_LENGTH(text)', '2011-01-01')\nground truth:    values = sum([['A', 'B', 'C'], ['D', 'E', 'F'], ['G', 'H', 'I']], [])\nbleu socre 0.09249127472220416\n----------------------answer 171, this one cost 0.03189706802368164s, total cost 6.066535949707031s\nmy code:    df.concat('col1', 'Credit_exp', 'B')\nground truth:    df = df[(df['closing_price'] >= 99) & (df['closing_price'] <= 101)]\nbleu socre 0.38417018160925775\n----------------------answer 172, this one cost 0.027849912643432617s, total cost 6.095308780670166s\nmy code:    df.date_range('1/1/2014', 'Credit_exp')\nground truth:    df.replace({'\\n': '<br>'}, regex=True)\nbleu socre 0.32195175092870987\n----------------------answer 173, this one cost 0.031972646713256836s, total cost 6.12799072265625s\nmy code:    df.date_range('col', '1', '\\\\(.*\\\\)')\nground truth:    df.replace({'\\n': '<br>'}, regex=True)\nbleu socre 0.44588192733265836\n"
     ]
    },
    {
     "name": "stdout",
     "output_type": "stream",
     "text": [
      "----------------------answer 174, this one cost 0.029642105102539062s, total cost 6.158382892608643s\nmy code:    my_list.setdefault('1', 'b')\nground truth:    [(x + y) for x, y in zip(word, word[1:])]\nbleu socre 0.3302232277439296\n----------------------answer 175, this one cost 0.031381845474243164s, total cost 6.190572738647461s\nmy code:    [i for i in i]\nground truth:    list(map(lambda x, y: x + y, word[:-1], word[1:]))\nbleu socre 0.04198958787098444\n----------------------answer 176, this one cost 0.02740311622619629s, total cost 6.21881890296936s\nmy code:    url(s.isdigit('utf8'))\nground truth:    print(re.findall('(https?://[^\\\\s]+)', myString))\nbleu socre 0.14420514640203838\n----------------------answer 177, this one cost 0.02618694305419922s, total cost 6.245804786682129s\nmy code:    url(s.isdigit('utf8'))\nground truth:    print(re.search('(?P<url>https?://[^\\\\s]+)', myString).group('url'))\nbleu socre 0.03187537328291331\n----------------------answer 178, this one cost 0.05325889587402344s, total cost 6.300072908401489s\nmy code:    re.sub('', '', '', '', '')\nground truth:    re.sub('[^A-Za-z0-9]+', '', mystring)\nbleu socre 0.3144809253417624\n----------------------answer 179, this one cost 0.03618311882019043s, total cost 6.337088108062744s\nmy code:    fh1.find_elements_by_xpath('div[id$=_answer]', 'ã', 'name', 'e')\nground truth:    pd.date_range('2016-01-01', freq='WOM-2FRI', periods=13)\nbleu socre 0.463502386414385\n"
     ]
    },
    {
     "name": "stdout",
     "output_type": "stream",
     "text": [
      "----------------------answer 180, this one cost 0.03217315673828125s, total cost 6.370290994644165s\nmy code:    print(range(range(x)))\nground truth:    matrix = [[a, b], [c, d], [e, f]]\nbleu socre 0\n----------------------answer 181, this one cost 0.018121004104614258s, total cost 6.389408826828003s\nmy code:    numpy.remove('test.csv')\nground truth:    mystring.replace(' ', '_')\nbleu socre 0.5224081268759071\n----------------------answer 182, this one cost 0.023248910903930664s, total cost 6.413517951965332s\nmy code:    os.chdir('ls')\nground truth:    os.path.abspath('mydir/myfile.txt')\nbleu socre 0.3556724758671222\n----------------------answer 183, this one cost 0.023382902145385742s, total cost 6.437786817550659s\nmy code:    str.sub('unicode_escape', '')\nground truth:    \"\"\" \"\"\".join(my_string.split())\nbleu socre 0.34914117774368114\n----------------------answer 184, this one cost 0.025441884994506836s, total cost 6.464138984680176s\nmy code:    re.sub('(\\\\bget\\\\b)', '*')\nground truth:    os.path.splitext(filename)[0]\nbleu socre 0.6303647413359293\n----------------------answer 185, this one cost 0.02813100814819336s, total cost 6.493145942687988s\nmy code:    zip(zip(l))\nground truth:    [sum(l[:i]) for i, _ in enumerate(l)]\nbleu socre 0.08412795850119022\n----------------------answer 186, this one cost 0.028159141540527344s, total cost 6.522227048873901s\nmy code:    fig.set_clim('(?=(a.*?a))', '0')\nground truth:    \"\"\"Docs/src/Scripts/temp\"\"\".replace('/', '/\\x00/').split('\\x00')\nbleu socre 0.14548446416228275\n----------------------answer 187, this one cost 0.022448301315307617s, total cost 6.545792102813721s\nmy code:    np.sqrt(np.isnull())\nground truth:    np.random.shuffle(np.transpose(r))\nbleu socre 0.34014651514316574\n"
     ]
    },
    {
     "name": "stdout",
     "output_type": "stream",
     "text": [
      "----------------------answer 188, this one cost 0.037767887115478516s, total cost 6.584262847900391s\nmy code:    df.merge('filename.csv', 'saleid', 'A')\nground truth:    df['D'] = df['B']\nbleu socre 0.7259795291154771\n----------------------answer 189, this one cost 0.04037785530090332s, total cost 6.6254658699035645s\nmy code:    pd.merge('filename.csv', 'weekday', 'Destination', 'B')\nground truth:    list(data['A']['B'].values())[0]['maindata'][0]['Info']\nbleu socre 0.13084192300696135\n----------------------answer 190, this one cost 0.025991201400756836s, total cost 6.652374029159546s\nmy code:    re.findall('_(?:for|or|and)_', 'sad_pandas_and_happy_cats_for_people')\nground truth:    all(predicate(x) for x in string)\nbleu socre 0.6904573083274563\n----------------------answer 191, this one cost 0.021111011505126953s, total cost 6.674362897872925s\nmy code:    os.listdir('%l:%M%p')\nground truth:    os.statvfs('/').f_files - os.statvfs('/').f_ffree\nbleu socre 0.34013634321625613\n----------------------answer 192, this one cost 0.036325931549072266s, total cost 6.711605787277222s\nmy code:    csvwriter.xticks(\"{'muffin'\", 'tom', '?')\nground truth:    cursor.fetchone()[0]\nbleu socre 0.6303647413359293\n----------------------answer 193, this one cost 0.022747278213500977s, total cost 6.73518705368042s\nmy code:    map(set(x))\nground truth:    user_list = [int(number) for number in user_input.split(',')]\nbleu socre 0.1565797739350948\n----------------------answer 194, this one cost 0.024799108505249023s, total cost 6.760828018188477s\nmy code:    \"\"\"\"\"\".join(x, s)\nground truth:    [int(s) for s in user.split(',')]\nbleu socre 0.33834852617193917\n"
     ]
    },
    {
     "name": "stdout",
     "output_type": "stream",
     "text": [
      "----------------------answer 195, this one cost 0.031545162200927734s, total cost 6.7933189868927s\nmy code:    list(list(list(list(x))))\nground truth:    sorted(list, key=lambda x: (x[0], -x[1]))\nbleu socre 0.2916564371179841\n----------------------answer 196, this one cost 0.04110097885131836s, total cost 6.835097789764404s\nmy code:    somelist.sort(key=lambda x: 0)\nground truth:    ut.sort(key=cmpfun, reverse=True)\nbleu socre 0.33529572102686117\n----------------------answer 197, this one cost 0.0293576717376709s, total cost 6.865355730056763s\nmy code:    sorted(sorted(itertools.itemgetter()))\nground truth:    ut.sort(key=lambda x: x.count, reverse=True)\nbleu socre 0.4188362313263686\n----------------------answer 198, this one cost 0.04673004150390625s, total cost 6.91288685798645s\nmy code:    sorted(list(list(zip(zip(zip(my_list))))))\nground truth:    ut.sort(key=lambda x: x.count, reverse=True)\nbleu socre 0.5695988432761473\n----------------------answer 199, this one cost 0.0318598747253418s, total cost 6.945632696151733s\nmy code:    logging.call('%m/%d/%Y', 'person.name', 'app_name')\nground truth:    driver.find_element_by_partial_link_text('Send').click()\nbleu socre 0.3760603093086393\n----------------------answer 200, this one cost 0.02737712860107422s, total cost 6.9740149974823s\nmy code:    ax.call('%m/%d/%Y', 'person.name', '%Y-%m-%d')\nground truth:    driver.findElement(By.linkText('Send InMail')).click()\nbleu socre 0.33164037188800605\n"
     ]
    },
    {
     "name": "stdout",
     "output_type": "stream",
     "text": [
      "----------------------answer 201, this one cost 0.029394149780273438s, total cost 7.004256010055542s\nmy code:    ax.find_element_by_xpath('%m/%d/%Y', 'person.name', '3.5')\nground truth:    driver.find_element_by_link_text('Send InMail').click()\nbleu socre 0.3615855225145535\n----------------------answer 202, this one cost 0.031227827072143555s, total cost 7.036271810531616s\nmy code:    re.findall('{http://www.w3.org/2002/07/owl#}Class', '.txt')\nground truth:    'ME' + str(i)\nbleu socre 0.5993418090318328\n----------------------answer 203, this one cost 0.024738788604736328s, total cost 7.061943769454956s\nmy code:    df.groupby('column_name', axis='A')\nground truth:    df.sort_values(['System_num', 'Dis'])\nbleu socre 0.5607900239988007\n----------------------answer 204, this one cost 0.037806034088134766s, total cost 7.100411891937256s\nmy code:    os.Popen('grep', 'grep', 'your_template.html')\nground truth:    open('outfile', 'w').write('#test firstline\\n' + open('infile').read())\nbleu socre 0.14145497288781378\n----------------------answer 205, this one cost 0.0569307804107666s, total cost 7.1583287715911865s\nmy code:    sorted(sorted(sorted(itemgetter(zip(zip(zip(itemgetter(L))))))))\nground truth:    l.sort(key=lambda t: len(t[1]), reverse=True)\nbleu socre 0.6324555320336759\n----------------------answer 206, this one cost 0.027393102645874023s, total cost 7.186450004577637s\nmy code:    s.split('s', '', ',')\nground truth:    re.findall('\\\\b(\\\\w+)d\\\\b', s)\nbleu socre 0.3186445002375616\n"
     ]
    },
    {
     "name": "stdout",
     "output_type": "stream",
     "text": [
      "----------------------answer 207, this one cost 0.022890090942382812s, total cost 7.210251808166504s\nmy code:    re.findall('[^0-9a-zA-Z]+', 'BDE')\nground truth:    bool(re.search('ba[rzd]', 'foobarrrr'))\nbleu socre 0.26822436109275993\n----------------------answer 208, this one cost 0.03262805938720703s, total cost 7.244025945663452s\nmy code:    sorted(list(list(range(x))))\nground truth:    list(set(t))\nbleu socre 0.5031747626530138\n----------------------answer 209, this one cost 0.03216099739074707s, total cost 7.27679181098938s\nmy code:    list(np.choice())\nground truth:    list(set(source_list))\nbleu socre 0.6500593260343691\n----------------------answer 210, this one cost 0.02338099479675293s, total cost 7.301109075546265s\nmy code:    list(np.choice())\nground truth:    list(OrderedDict.fromkeys('abracadabra'))\nbleu socre 0.41266825715677186\n----------------------answer 211, this one cost 0.02272200584411621s, total cost 7.324757099151611s\nmy code:    a.shape(a)\nground truth:    numpy.array(a).reshape(-1).tolist()\nbleu socre 0.09597387912920985\n----------------------answer 212, this one cost 0.0208132266998291s, total cost 7.346221923828125s\nmy code:    np.concat(a)\nground truth:    numpy.array(a)[0].tolist()\nbleu socre 0.1582341759519314\n----------------------answer 213, this one cost 0.0359501838684082s, total cost 7.38277792930603s\nmy code:    ax.find_elements_by_xpath('SELECT', '\"\\\\1\"', 'name')\nground truth:    print(soup.find(text='Address:').findNext('td').contents[0])\nbleu socre 0.30873299151240485\n----------------------answer 214, this one cost 0.029424190521240234s, total cost 7.413012981414795s"
     ]
    },
    {
     "name": "stdout",
     "output_type": "stream",
     "text": [
      "\nmy code:    s.split('=', s, s)\nground truth:    \"\"\" \"\"\".join([('%d@%d' % t) for t in l])\nbleu socre 0.12639529734152025\n----------------------answer 215, this one cost 0.032386064529418945s, total cost 7.44610595703125s\nmy code:    writer.split('0', '')\nground truth:    \"\"\" \"\"\".join([('%d@%d' % (t[0], t[1])) for t in l])\nbleu socre 0.05983505919756101\n----------------------answer 216, this one cost 0.036926984786987305s, total cost 7.48375391960144s\nmy code:    re.sub('\\\\*\\\\*+', '*', 'tight')\nground truth:    driver.execute_script('return document.documentElement.outerHTML;')\nbleu socre 0.3835654723565782\n----------------------answer 217, this one cost 0.028708696365356445s, total cost 7.513199806213379s\nmy code:    re.sub('^(.+)\\\\n((?:\\\\n.+)+)', '')\nground truth:    [i for i in teststr if re.search('\\\\d+[xX]', i)]\nbleu socre 0.463057779297097\n----------------------answer 218, this one cost 0.03775787353515625s, total cost 7.5519797801971436s\nmy code:    df.loc('BrandName', 'A')\nground truth:    df['A'][(df['B'] > 50) & (df['C'] == 900)]\nbleu socre 0.08403827348829321\n----------------------answer 219, this one cost 0.03972005844116211s, total cost 7.592550039291382s\nmy code:    sorted(list(list(operator.items())))\nground truth:    sorted(o.items())\nbleu socre 0.30576902884505114\n----------------------answer 220, this one cost 0.02615070343017578s, total cost 7.619457721710205s\nmy code:    dict(list(d.keys()))\nground truth:    sorted(d)\nbleu socre 0.4063798282013443\n"
     ]
    },
    {
     "name": "stdout",
     "output_type": "stream",
     "text": [
      "----------------------answer 221, this one cost 0.05048799514770508s, total cost 7.670567989349365s\nmy code:    sorted(iter(list(list(list(list(list(v)))))))\nground truth:    sorted(d.items())\nbleu socre 0.3835654723565782\n----------------------answer 222, this one cost 0.019898176193237305s, total cost 7.691386938095093s\nmy code:    s.replace('')\nground truth:    int('1')\nbleu socre 0.6606328636027614\n----------------------answer 223, this one cost 0.01786208152770996s, total cost 7.710140943527222s\nmy code:    map(s)\nground truth:    int()\nbleu socre 0.8408964152537145\n----------------------answer 224, this one cost 0.03440713882446289s, total cost 7.745235919952393s\nmy code:    map(set(set(range(i))))\nground truth:    T2 = [map(int, x) for x in T1]\nbleu socre 0.3448195623085273\n----------------------answer 225, this one cost 0.02227306365966797s, total cost 7.768449783325195s\nmy code:    ax.strftime('%Y-%m-%d', '%Y/%m/%d')\nground truth:    subprocess.call(['./test.sh'])\nbleu socre 0.6930977286178778\n----------------------answer 226, this one cost 0.023218870162963867s, total cost 7.792396783828735s\nmy code:    ax.strftime('%Y-%m-%d', '%Y/%m/%d')\nground truth:    subprocess.call(['notepad'])\nbleu socre 0.6622152291011697\n----------------------answer 227, this one cost 0.02932596206665039s, total cost 7.822499990463257s\nmy code:    sorted(list(x.groupby()))\nground truth:    [val for pair in zip(l1, l2) for val in pair]\nbleu socre 0.41447920373102765\n----------------------answer 228, this one cost 0.02173781394958496s, total cost 7.844890832901001s\nmy code:    re.findall('\\n', '')\nground truth:    encoded = base64.b64encode('data to be encoded')\nbleu socre 0.48268667553243755\n"
     ]
    },
    {
     "name": "stdout",
     "output_type": "stream",
     "text": [
      "----------------------answer 229, this one cost 0.028416872024536133s, total cost 7.874114751815796s\nmy code:    re.set_yticklabels('//*[contains(text(),', 'ã', 'â')\nground truth:    encoded = 'data to be encoded'.encode('ascii')\nbleu socre 0.39083567284115034\n----------------------answer 230, this one cost 0.02667403221130371s, total cost 7.902107000350952s\nmy code:    pd.merge('c:/~/trainSetRel3.txt', 'year')\nground truth:    lol = list(csv.reader(open('text.txt', 'rb'), delimiter='\\t'))\nbleu socre 0.15286612583324402\n----------------------answer 231, this one cost 0.019262313842773438s, total cost 7.922410011291504s\nmy code:    time.inet_ntoa('(1,2,3,4)')\nground truth:    getattr(my_object, my_str)\nbleu socre 0.6580370064762462\n----------------------answer 232, this one cost 0.03172874450683594s, total cost 7.954991817474365s\nmy code:    list(zip(zip(b)))\nground truth:    print(dict(zip(LD[0], zip(*[list(d.values()) for d in LD]))))\nbleu socre 0.06895645943659799\n----------------------answer 233, this one cost 0.027537107467651367s, total cost 7.983388900756836s\nmy code:    [x for x in j]\nground truth:    sum([pair[0] for pair in list_of_pairs])\nbleu socre 0.3689674670049219\n"
     ]
    },
    {
     "name": "stdout",
     "output_type": "stream",
     "text": [
      "----------------------answer 234, this one cost 0.2574620246887207s, total cost 8.241474866867065s\nmy code:    print(s.split('', '', '', '', '', '', '', '', '', '', '', '', '', '', '',\n    '', '', '', '', '', '', '', '', '', '', '', '', '', '', '', '', '', '',\n    '', '', '', '', '', '', '', '', '', '', '', '', '', '', '', '', '', '',\n    '', '', '', '', '', '', '', '', '', '', '', '', None))\nground truth:    d = ast.literal_eval(\"{'code1':1,'code2':1}\")\nbleu socre 0.1504785663115985\n----------------------answer 235, this one cost 0.03641915321350098s, total cost 8.279592990875244s\nmy code:    re.findall('\\\\w+|[^\\\\w\\\\s]', '.avi', '')\nground truth:    [word for word in mystring.split() if word.startswith('$')]\nbleu socre 0.3746631570740833\n----------------------answer 236, this one cost 0.017802000045776367s, total cost 8.298327922821045s\nmy code:    os.setlocale('cls')\nground truth:    text = re.sub('^https?:\\\\/\\\\/.*[\\\\r\\\\n]*', '', text, flags=re.MULTILINE)\nbleu socre 0.008835492376211725\n----------------------answer 237, this one cost 0.024162769317626953s, total cost 8.323384761810303s\nmy code:    np.einsum(arr)\nground truth:    np.where(np.in1d(A, [1, 3, 4]).reshape(A.shape), A, 0)\nbleu socre 0.011067684145058461\n----------------------answer 238, this one cost 0.02175307273864746s, total cost 8.345791101455688s\nmy code:    a.sort(x)\nground truth:    np.mean(a, axis=1)\nbleu socre 0.4639247374454443\n----------------------answer 239, this one cost 0.018063068389892578s, total cost 8.36460280418396s\nmy code:    os.system('chapter3')\nground truth:    subprocess.call(['/usr/bin/Rscript', '--vanilla', '/pathto/MyrScript.r'])\nbleu socre 0.05016182963672538\n----------------------answer 240, this one cost 0.02120184898376465s, total cost 8.386684894561768s\nmy code:    subprocess.system('%Y-%m-%d', '587')\nground truth:    subprocess.call('/usr/bin/Rscript --vanilla /pathto/MyrScript.r', shell=True)\nbleu socre 0.34791534185181006\n----------------------answer 241, this one cost 0.01967000961303711s, total cost 8.40711784362793s\nmy code:    os.path.now(path)\nground truth:    writer.writeheader()\nbleu socre 0.7825422900366437\n----------------------answer 242, this one cost 0.02550506591796875s, total cost 8.433372020721436s\nmy code:    df.apply('A', axis='B')\nground truth:    df.fillna(df.mean(axis=1), axis=1)\nbleu socre 0.2527426658095659\n"
     ]
    },
    {
     "name": "stdout",
     "output_type": "stream",
     "text": [
      "----------------------answer 243, this one cost 0.026711702346801758s, total cost 8.46083378791809s\nmy code:    ax.strftime('%m/%d/%Y', '%Y-%m-%d')\nground truth:    time.strftime('%Y-%m-%d %H:%M:%S', time.localtime(1347517370))\nbleu socre 0.40165972840774916\n----------------------answer 244, this one cost 0.031445980072021484s, total cost 8.49335503578186s\nmy code:    requests.call('INSERT', './uireplace.pl', './uireplace.pl')\nground truth:    super(Derived, cls).do(a)\nbleu socre 0.6389431042462724\n----------------------answer 245, this one cost 0.037909746170043945s, total cost 8.532096862792969s\nmy code:    df.groupby(np.groupby())\nground truth:    a[np.where((a[:, (0)] == 0) * (a[:, (1)] == 1))]\nbleu socre 0.0496019190668624\n----------------------answer 246, this one cost 0.02828693389892578s, total cost 8.561263799667358s\nmy code:    .sub('', '')\nground truth:    re.split(' +', 'hello world sample text')\nbleu socre 0.2577212362154778\n----------------------answer 247, this one cost 0.020046710968017578s, total cost 8.581963777542114s\nmy code:    length(set(x))\nground truth:    len(max(words, key=len))\nbleu socre 0.31371436090802907\n----------------------answer 248, this one cost 0.028490066528320312s, total cost 8.611057043075562s\nmy code:    print(max(a_list))\nground truth:    result[0]['from_user']\nbleu socre 0\n----------------------answer 249, this one cost 0.020586013793945312s, total cost 8.632386922836304s\nmy code:    os.load('aa!')\nground truth:    [line.split() for line in open('File.txt')]\nbleu socre 0.22458068077762677\n----------------------answer 250, this one cost 0.02515125274658203s, total cost 8.658496141433716s\nmy code:    sorted(list(d.items()))\nground truth:    res = dict((v, k) for k, v in a.items())\nbleu socre 0.17410536860094986\n"
     ]
    },
    {
     "name": "stdout",
     "output_type": "stream",
     "text": [
      "----------------------answer 251, this one cost 0.022595882415771484s, total cost 8.681742906570435s\nmy code:    os.system('path')\nground truth:    new_file = open('path/to/FILE_NAME.ext', 'w')\nbleu socre 0.1378368071450871\n----------------------answer 252, this one cost 0.03568005561828613s, total cost 8.71821403503418s\nmy code:    df.merge('ij,kj->jik', 'A', **1)\nground truth:    df.groupby(['col1', 'col2'])['col3'].nunique().reset_index()\nbleu socre 0.18124084591412512\n----------------------answer 253, this one cost 0.03311419486999512s, total cost 8.752593040466309s\nmy code:    s.chain('aaabcabccd').key()\nground truth:    any(key.startswith('EMP$$') for key in dict1)\nbleu socre 0.3889828721665204\n----------------------answer 254, this one cost 0.0401148796081543s, total cost 8.7934889793396s\nmy code:    list(list(list(list(data))))\nground truth:    [value for key, value in list(dict1.items()) if key.startswith('EMP$$')]\nbleu socre 0.18644429956962724\n----------------------answer 255, this one cost 0.04255509376525879s, total cost 8.836732864379883s\nmy code:    df.concat('A', 'A', 'B')\nground truth:    pd.DataFrame({'email': sf.index, 'list': sf.values})\nbleu socre 0.2758772260415138\n----------------------answer 256, this one cost 0.026115894317626953s, total cost 8.863598823547363s\nmy code:    print(print(d.items()))\nground truth:    print('\\t'.join(map(str, list)))\nbleu socre 0.2286947066405119\n----------------------answer 257, this one cost 0.01770806312561035s, total cost 8.8819580078125s\n"
     ]
    },
    {
     "name": "stdout",
     "output_type": "stream",
     "text": [
      "my code:    plt.parse('test')\nground truth:    print('\\xd0\\xbf\\xd1\\x80\\xd0\\xb8'.encode('raw_unicode_escape'))\nbleu socre 0.0879759630094629\n----------------------answer 258, this one cost 0.026857852935791016s, total cost 8.90961480140686s\nmy code:    re.findall('((?:A|B|C)D)', 'BDE')\nground truth:    'Sopet\\xc3\\xb3n'.encode('latin-1').decode('utf-8')\nbleu socre 0.3981216171736194\n----------------------answer 259, this one cost 0.028462648391723633s, total cost 8.939095735549927s\nmy code:    cur.read_csv('INSERT INTO table date__range')\nground truth:    image = image.resize((x, y), Image.ANTIALIAS)\nbleu socre 0.45869664086091444\n----------------------answer 260, this one cost 0.027396202087402344s, total cost 8.967327117919922s\nmy code:    re.findall('11B', '')\nground truth:    re.findall('n(?<=[^n]n)n+(?=[^n])(?i)', s)\nbleu socre 0.051558614067030537\n----------------------answer 261, this one cost 0.022082090377807617s, total cost 8.990267038345337s\nmy code:    ax.strftime('%B')\nground truth:    print('{0:.0f}%'.format(1.0 / 3 * 100))\nbleu socre 0.11340585949376225\n----------------------answer 262, this one cost 0.028924226760864258s, total cost 9.019862174987793s\nmy code:    sorted(list(d.items()))\nground truth:    mylist.sort(key=lambda x: x['title'])\nbleu socre 0.45869664086091444\n----------------------answer 263, this one cost 0.033358097076416016s, total cost 9.05388593673706s\nmy code:    sorted(zip(zip(d.items())))\nground truth:    l.sort(key=lambda x: x['title'])\nbleu socre 0.5898019932366151\n----------------------answer 264, this one cost 0.03665304183959961s, total cost 9.091547966003418s\nmy code:    sorted(list(list(d.items())))\nground truth:    l.sort(key=lambda x: (x['title'], x['title_url'], x['id']))\nbleu socre 0.1125501386903223\n"
     ]
    },
    {
     "name": "stdout",
     "output_type": "stream",
     "text": [
      "----------------------answer 265, this one cost 0.05555415153503418s, total cost 9.147968053817749s\nmy code:    sorted(zip(zip(zip(zip(zip(zip(l1)))))))\nground truth:    heapq.nlargest(10, range(len(l1)), key=lambda i: abs(l1[i] - l2[i]))\nbleu socre 0.0903275328574846\n----------------------answer 266, this one cost 0.03642535209655762s, total cost 9.185269117355347s\nmy code:    soup.findAll('meta', 'name', 'name', 'name')\nground truth:    soup.find_all('span', {'class': 'starGryB sp'})\nbleu socre 0.5294392838566988\n----------------------answer 267, this one cost 0.031916141510009766s, total cost 9.218050956726074s\nmy code:    df.concat('display.max_columns', 'b', '')\nground truth:    df.to_sql('test', engine, schema='a_schema')\nbleu socre 0.6192596340984008\n----------------------answer 268, this one cost 0.018929243087768555s, total cost 9.237672090530396s\nmy code:    s.strip('')\nground truth:    brackets = re.sub('[^(){}[\\\\]]', '', s)\nbleu socre 0.05587605674570628\n----------------------answer 269, this one cost 0.017049074172973633s, total cost 9.255429983139038s\nmy code:    map(a)\nground truth:    list(dict((x[0], x) for x in L).values())\nbleu socre 0.00934151536607388\n----------------------answer 270, this one cost 0.02588486671447754s, total cost 9.282187700271606s\nmy code:    subprocess.rmtree('HTTP/1.0', 'r')\nground truth:    [line.rstrip('\\n') for line in file]\nbleu socre 0.45180100180492244\n----------------------answer 271, this one cost 0.022899866104125977s, total cost 9.30584192276001s\nmy code:    np.sample('\\x00\\x00\\x80?\\x00\\x00\\x00@\\x00\\x00@@\\x00\\x00\\x80@')\nground truth:    [i for (i, x) in enumerate(testlist) if (x == 1)]\nbleu socre 0.4924790605054523\n----------------------answer 272, this one cost 0.019802093505859375s, total cost 9.326737880706787s\nmy code:    np.sample('\\x00\\x00\\x80?\\x00\\x00\\x00@\\x00\\x00@@\\x00\\x00\\x80@')\nground truth:    [i for (i, x) in enumerate(testlist) if (x == 1)]\nbleu socre 0.4924790605054523\n----------------------answer 273, this one cost 0.02043318748474121s, total cost 9.347975015640259s\nmy code:   "
     ]
    },
    {
     "name": "stdout",
     "output_type": "stream",
     "text": [
      " np.sample('\\x00\\x00\\x80?\\x00\\x00\\x00@\\x00\\x00@@\\x00\\x00\\x80@')\nground truth:    for i in [i for (i, x) in enumerate(testlist) if (x == 1)]:\n    pass\nbleu socre 0.4924790605054523\n----------------------answer 274, this one cost 0.02237987518310547s, total cost 9.371328830718994s\nmy code:    np.sample('\\x00\\x00\\x80?\\x00\\x00\\x00@\\x00\\x00@@\\x00\\x00\\x80@')\nground truth:    for i in (i for (i, x) in enumerate(testlist) if (x == 1)):\n    pass\nbleu socre 0.4924790605054523\n----------------------answer 275, this one cost 0.020054101943969727s, total cost 9.392498016357422s\nmy code:    np.sample('\\x00\\x00\\x80?\\x00\\x00\\x00@\\x00\\x00@@\\x00\\x00\\x80@')\nground truth:    gen = (i for (i, x) in enumerate(testlist) if (x == 1))\nfor i in gen:\n    pass\nbleu socre 0.4924790605054523\n----------------------answer 276, this one cost 0.025604963302612305s, total cost 9.419062852859497s\nmy code:    print(set(x))\nground truth:    print(testlist.index(element))\nbleu socre 0.5249325939883762\n----------------------answer 277, this one cost 0.024918079376220703s, total cost 9.444876909255981s\nmy code:    print(set(x))\nground truth:    try:\n    print(testlist.index(element))\nexcept ValueError:\n    pass\nbleu socre 0.1931119093291195\n----------------------answer 278, this one cost 0.028212308883666992s, total cost 9.474091053009033s\nmy code:    [i for i in j]\nground truth:    max(lis, key=lambda item: item[1])[0]\nbleu socre 0.17521137606757647\n----------------------answer 279, this one cost 0.02733898162841797s, total cost 9.502158880233765s\nmy code:    [x for x in y]\nground truth:    max(lis, key=itemgetter(1))[0]\nbleu socre 0.26896050220204015\n----------------------answer 280, this one cost 0.0494840145111084s, total cost 9.552367925643921s\nmy code:    len(list(list(range(range(range(range(x)))))))\nground truth:    time.sleep(1)\nbleu socre 0.5491004867761125\n"
     ]
    },
    {
     "name": "stdout",
     "output_type": "stream",
     "text": [
      "----------------------answer 281, this one cost 0.02629709243774414s, total cost 9.579460859298706s\nmy code:    map(set(s.chain()))\nground truth:    \"\"\", \"\"\".join('(' + ', '.join(i) + ')' for i in L)\nbleu socre 0.14497730020639232\n----------------------answer 282, this one cost 0.030898332595825195s, total cost 9.611755132675171s\nmy code:    soup.find_all('[', '', '')\nground truth:    b = models.CharField(max_length=7, default='0000000', editable=False)\nbleu socre 0.2686021113084151\n----------------------answer 283, this one cost 0.03872513771057129s, total cost 9.651461839675903s\nmy code:    sorted(list(list(cityPopulation.items())))\nground truth:    sorted(list5, lambda x: (degree(x), x))\nbleu socre 0.47536173522195396\n----------------------answer 284, this one cost 0.03701615333557129s, total cost 9.68944501876831s\nmy code:    len(list(range(range(x))))\nground truth:    sorted(list5, key=lambda vertex: (degree(vertex), vertex))\nbleu socre 0.30145349531069676\n----------------------answer 285, this one cost 0.027688980102539062s, total cost 9.717823028564453s\nmy code:    sorted(set(range(list2d)))\nground truth:    (n for n in [1, 2, 3, 5])\nbleu socre 0.4056114983537769\n----------------------answer 286, this one cost 0.0259857177734375s, total cost 9.744609832763672s\nmy code:    min(arr(arr))\nground truth:    newlist = [v for i, v in enumerate(oldlist) if i not in removelist]\nbleu socre 0.13166737060325825\n----------------------answer 287, this one cost 0.022211074829101562s, total cost 9.76777982711792s\nmy code:    os.system('path')\nground truth:    f = open('yourfile.txt', 'w')\nbleu socre 0.3070662829160023\n"
     ]
    },
    {
     "name": "stdout",
     "output_type": "stream",
     "text": [
      "----------------------answer 288, this one cost 0.018977880477905273s, total cost 9.787390947341919s\nmy code:    socket.sample('a.b.c')\nground truth:    getattr(obj, 'attr')\nbleu socre 0.41722614486115056\n----------------------answer 289, this one cost 0.024471044540405273s, total cost 9.812910795211792s\nmy code:    print(max(x))\nground truth:    from functools import reduce\nreduce(lambda a, b: a + b, (('aa',), ('bb',), ('cc',)))\nbleu socre 0.006628244820011379\n----------------------answer 290, this one cost 0.02004098892211914s, total cost 9.833932876586914s\nmy code:    print(myArray)\nground truth:    map(lambda a: a[0], (('aa',), ('bb',), ('cc',)))\nbleu socre 0.0029408027726886155\n----------------------answer 291, this one cost 0.03404808044433594s, total cost 9.868787050247192s\nmy code:    pd.date_range('1/1/2014', '6,7)', 'name')\nground truth:    df['range'].replace(',', '-', inplace=True)\nbleu socre 0.3259889346257788\n----------------------answer 292, this one cost 0.0362696647644043s, total cost 9.905986785888672s\nmy code:    cursor.execute('INSERT INTO table VALUES +0900')\nground truth:    zip(*[('a', 1), ('b', 2), ('c', 3), ('d', 4)])\nbleu socre 0.06316251583344183\n----------------------answer 293, this one cost 0.028047800064086914s, total cost 9.93500280380249s\nmy code:    cursor.execute('INSERT INTO table VALUES +0900')\nground truth:    zip(*[('a', 1), ('b', 2), ('c', 3), ('d', 4)])\nbleu socre 0.06316251583344183\n----------------------answer 294, this one cost 0.04579806327819824s, total cost 9.981703996658325s\nmy code:    sorted(list(range(range(range(range(range(array)))))))\nground truth:    result = ([a for (a, b) in original], [b for (a, b) in original])\nbleu socre 0.5757432447510906\n"
     ]
    },
    {
     "name": "stdout",
     "output_type": "stream",
     "text": [
      "----------------------answer 295, this one cost 0.03347301483154297s, total cost 10.015920877456665s\nmy code:    list(range(range(range(x))))\nground truth:    result = ((a for (a, b) in original), (b for (a, b) in original))\nbleu socre 0.1621024569561631\n----------------------answer 296, this one cost 0.029128313064575195s, total cost 10.04596209526062s\nmy code:    cursor.execute('INSERT INTO 10^{%s}$ 10^{%s}$')\nground truth:    zip(*[('a', 1), ('b', 2), ('c', 3), ('d', 4), ('e',)])\nbleu socre 0.11965962136255368\n----------------------answer 297, this one cost 0.03533625602722168s, total cost 10.082133054733276s\nmy code:    cursor.execute('INSERT INTO REPLACE date__range date__range 10^{%s}$')\nground truth:    map(None, *[('a', 1), ('b', 2), ('c', 3), ('d', 4), ('e',)])\nbleu socre 0.07940596992647717\n----------------------answer 298, this one cost 0.03207802772521973s, total cost 10.115203857421875s\nmy code:    encode(map(d.chain('\\t')))\nground truth:    json.dumps(Decimal('3.9'))\nbleu socre 0.29615165360116247\n----------------------answer 299, this one cost 0.026034832000732422s, total cost 10.142170906066895s\nmy code:    dict(list(d.items()))\nground truth:    d['mynewkey'] = 'mynewvalue'\nbleu socre 0.5491004867761125\n----------------------answer 300, this one cost 0.03782796859741211s, total cost 10.180629968643188s\nmy code:    sorted(list(list(d.items())))\nground truth:    data.update({'a': 1, })\nbleu socre 0.6803749333171202\n----------------------answer 301, this one cost 0.0314328670501709s, total cost 10.212731838226318s\nmy code:    sorted(list(list(d.items())))\nground truth:    data.update(dict(a=1))\nbleu socre 0.4071220775553065\n"
     ]
    },
    {
     "name": "stdout",
     "output_type": "stream",
     "text": [
      "----------------------answer 302, this one cost 0.03488278388977051s, total cost 10.248257875442505s\nmy code:    sorted(list(list(d.items())))\nground truth:    data.update(a=1)\nbleu socre 0.6803749333171202\n----------------------answer 303, this one cost 0.039010047912597656s, total cost 10.288042068481445s\nmy code:    pd.concat('item3', 'd', 'd', 'd')\nground truth:    max([max(i) for i in matrix])\nbleu socre 0.5623413251903491\n----------------------answer 304, this one cost 0.026394128799438477s, total cost 10.315114974975586s\nmy code:    re.sub('\\\\[[^\\\\]]*\\\\]|\\\\([^\\\\)]*\\\\)|\"[^\"]*\"|\\\\S+', '')\nground truth:    answer = str(round(answer, 2))\nbleu socre 0.5623413251903491\n----------------------answer 305, this one cost 0.02128314971923828s, total cost 10.337411880493164s\nmy code:    re.sub('(.)(?=.)')\nground truth:    ip = re.findall('[0-9]+(?:\\\\.[0-9]+){3}', s)\nbleu socre 0.18963578029817815\n----------------------answer 306, this one cost 0.03186297416687012s, total cost 10.370298862457275s\nmy code:    df.fillna([[[[]]]])\nground truth:    df.groupby('A').filter(lambda x: len(x) > 1)\nbleu socre 0.21625975444722914\n----------------------answer 307, this one cost 0.02387714385986328s, total cost 10.394837141036987s\nmy code:    plt.find_element_by_xpath('https://kennethreitz.com',\n    'http://example.org/#comments')\nground truth:    [x for x in myfile.splitlines() if x != '']\nbleu socre 0.6559965570884768\n----------------------answer 308, this one cost 0.03536677360534668s, total cost 10.431023836135864s\nmy code:    map(set(item.split('aaabcabccd')))\nground truth:    lst = map(int, open('filename.txt').readlines())\nbleu socre 0.47906228180261784\n"
     ]
    },
    {
     "name": "stdout",
     "output_type": "stream",
     "text": [
      "----------------------answer 309, this one cost 0.024564027786254883s, total cost 10.45644497871399s\nmy code:    subprocess.call('(ddd)', 'file.gz')\nground truth:    plt.colorbar(mappable=mappable, cax=ax3)\nbleu socre 0.7071067811865476\n----------------------answer 310, this one cost 0.04108166694641113s, total cost 10.49828577041626s\nmy code:    df.sqrt(arr, axis=lambda x: 1)\nground truth:    Counter(' '.join(df['text']).split()).most_common(100)\nbleu socre 0.31955764617094445\n----------------------answer 311, this one cost 0.018521785736083984s, total cost 10.517655849456787s\nmy code:    re.setdefaultencoding('0xdeadbeef')\nground truth:    re.findall('(.+?):(.+?)\\\\b ?', text)\nbleu socre 0.09207873430756394\n----------------------answer 312, this one cost 0.03478598594665527s, total cost 10.55323600769043s\nmy code:    print(map(itertools.product('0')))\nground truth:    list(itertools.combinations((1, 2, 3), 2))\nbleu socre 0.26132234616622885\n----------------------answer 313, this one cost 0.025096893310546875s, total cost 10.57918381690979s\nmy code:    plt.find_elements_by_xpath('(?=(a.*?a))', '6,7)')\nground truth:    datetime.now(pytz.utc)\nbleu socre 0.6324555320336759\n----------------------answer 314, this one cost 0.025806188583374023s, total cost 10.605732917785645s\nmy code:    [i for i in i]\nground truth:    list2 = [x for x in list1 if x != []]\nbleu socre 0.2772706733377036\n----------------------answer 315, this one cost 0.0320279598236084s, total cost 10.638386011123657s\nmy code:    map(iter(itertools.split()))\nground truth:    list2 = [x for x in list1 if x]\nbleu socre 0\n"
     ]
    },
    {
     "name": "stdout",
     "output_type": "stream",
     "text": [
      "----------------------answer 316, this one cost 0.027512788772583008s, total cost 10.666817903518677s\nmy code:    next(list(d.items()))\nground truth:    return HttpResponse(data, mimetype='application/json')\nbleu socre 0.4971247413297251\n----------------------answer 317, this one cost 0.04455304145812988s, total cost 10.712118864059448s\nmy code:    re.findall('Test(.*)print', '<markup>\\\\1</markup>', 'this', 'this', 'this',\n    'this')\nground truth:    re.findall('(.*?)\\\\[.*?\\\\]', example_str)\nbleu socre 0.13514113623406132\n----------------------answer 318, this one cost 0.042740821838378906s, total cost 10.755931854248047s\nmy code:    re.findall('(?m)^[^\\\\S\\\\n]+', '*', '', '', '*')\nground truth:    re.findall('(.*?)(?:\\\\[.*?\\\\]|$)', example_str)\nbleu socre 0.1951881683240154\n----------------------answer 319, this one cost 0.05534791946411133s, total cost 10.812254905700684s\nmy code:    soup.findAll('div[id$=_answer]', 'name', 'name', 'name', 'name')\nground truth:    re.findall('\\\\(.+?\\\\)|\\\\w', '(zyx)bc')\nbleu socre 0.18559542135951204\n----------------------answer 320, this one cost 0.021310091018676758s, total cost 10.83437705039978s\nmy code:    re.findall('((?:A|B|C)D)', 'BDE')\nground truth:    re.findall('\\\\((.*?)\\\\)|(\\\\w)', '(zyx)bc')\nbleu socre 0.23022045525623847\n----------------------answer 321, this one cost 0.03355884552001953s, total cost 10.868992805480957s"
     ]
    },
    {
     "name": "stdout",
     "output_type": "stream",
     "text": [
      "\nmy code:    re.findall('filename.png', 'D:\\\\testdir', '')\nground truth:    re.findall('\\\\(.*?\\\\)|\\\\w', '(zyx)bc')\nbleu socre 0.2073136246072047\n----------------------answer 322, this one cost 0.023860931396484375s, total cost 10.893637895584106s\nmy code:    re.findall('<I')\nground truth:    elements = ['%{0}%'.format(element) for element in elements]\nbleu socre 0.2543182385684449\n----------------------answer 323, this one cost 0.026216983795166016s, total cost 10.920825958251953s\nmy code:    subprocess.system('zsh', 'rt')\nground truth:    subprocess.Popen(['background-process', 'arguments'])\nbleu socre 0.27097712514412386\n----------------------answer 324, this one cost 0.03770184516906738s, total cost 10.959191799163818s\nmy code:    dict(zip(list(list(data))))\nground truth:    [mydict[x] for x in mykeys]\nbleu socre 0\n----------------------answer 325, this one cost 0.03508186340332031s, total cost 10.994903802871704s\nmy code:    print(list(d.values('name')))\nground truth:    dict([('Name', 'Joe'), ('Age', 22)])\nbleu socre 0.30749911719882217\n----------------------answer 326, this one cost 0.03346395492553711s, total cost 11.02919888496399s\nmy code:    average(zip(zip(zip(x))))\nground truth:    data.reshape(-1, j).mean(axis=1).reshape(data.shape[0], -1)\nbleu socre 0.24073303385626693\n----------------------answer 327, this one cost 0.023878097534179688s, total cost 11.053940057754517s\nmy code:    re.sub('unicode_escape', '')\nground truth:    print(s.encode('unicode-escape').replace('\"', '\\\\\"'))\nbleu socre 0.1363464861613133\n----------------------answer 328, this one cost 0.025694847106933594s, total cost 11.080450773239136s\nmy code:    s.findall('\\\\')\nground truth:    re.split('(\\\\W+)', s)\nbleu socre 0.35250657096759425\n"
     ]
    },
    {
     "name": "stdout",
     "output_type": "stream",
     "text": [
      "----------------------answer 329, this one cost 0.025593996047973633s, total cost 11.10697889328003s\nmy code:    soup.read_csv('INSERT', './uireplace.pl')\nground truth:    df.plot(kind='barh', stacked=True)\nbleu socre 0.3976353643835253\n----------------------answer 330, this one cost 0.03519773483276367s, total cost 11.143067836761475s\nmy code:    dict(list(list(list(LoD))))\nground truth:    {i[1]: i[0] for i in list(myDictionary.items())}\nbleu socre 0.25456157140750535\n----------------------answer 331, this one cost 0.030556917190551758s, total cost 11.174584865570068s\nmy code:    fig.writerow('(?=(a.*?a))')\nground truth:    [i for i, j in enumerate(myList) if 'how' in j.lower() or 'what' in j.lower()]\nbleu socre 0.3752060266200605\n----------------------answer 332, this one cost 0.020023107528686523s, total cost 11.195573091506958s\nmy code:    os.exit('attr_name')\nground truth:    isinstance(obj, str)\nbleu socre 0.7071067811865476\n----------------------answer 333, this one cost 0.021533966064453125s, total cost 11.217702865600586s\nmy code:    os.exit('\\n')\nground truth:    isinstance(o, str)\nbleu socre 0.6865890479690392\n----------------------answer 334, this one cost 0.02024388313293457s, total cost 11.238659858703613s\nmy code:    os.exit('\\n')\nground truth:    (type(o) is str)\nbleu socre 0.6865890479690392\n----------------------answer 335, this one cost 0.029196977615356445s, total cost 11.268740892410278s\nmy code:    os.exit('\\n')\nground truth:    isinstance(o, str)\nbleu socre 0.6865890479690392\n----------------------answer 336, this one cost 0.018775224685668945s, total cost 11.288222074508667s\nmy code:    time.exit('\\n')\nground truth:    isinstance(obj_to_test, str)\nbleu socre 0.6865890479690392\n"
     ]
    },
    {
     "name": "stdout",
     "output_type": "stream",
     "text": [
      "----------------------answer 337, this one cost 0.02897787094116211s, total cost 11.318536043167114s\nmy code:    sorted(list(x.items()))\nground truth:    list2.extend(list1)\nbleu socre 0.7226568811456053\n----------------------answer 338, this one cost 0.027225017547607422s, total cost 11.346510887145996s\nmy code:    print(list(d.items()))\nground truth:    list1.extend(mylog)\nbleu socre 0.7226568811456053\n----------------------answer 339, this one cost 0.018631935119628906s, total cost 11.365729808807373s\nmy code:    a.append('b')\nground truth:    c.extend(a)\nbleu socre 0.8408964152537145\n----------------------answer 340, this one cost 0.05224800109863281s, total cost 11.418740034103394s\nmy code:    append(list(list(list(range(range(range(l)))))))\nground truth:    for line in mylog:\n    list1.append(line)\nbleu socre 0.28387021048806443\n----------------------answer 341, this one cost 0.0301668643951416s, total cost 11.449832916259766s\nmy code:    [x for x in a if a]\nground truth:    b.append((a[0][0], a[0][2]))\nbleu socre 0.19259283177702952\n----------------------answer 342, this one cost 0.020409107208251953s, total cost 11.471083164215088s\nmy code:    plt.find_all('[')\nground truth:    app.config['SECRET_KEY'] = 'Your_secret_string'\nbleu socre 0.31356006812336346\n----------------------answer 343, this one cost 0.02644824981689453s, total cost 11.498162031173706s\nmy code:    np.sqrt([arr])\nground truth:    pd.DataFrame(out.tolist(), columns=['out-1', 'out-2'], index=out.index)\nbleu socre 0.03906607220137613\n----------------------answer 344, this one cost 0.022346973419189453s, total cost 11.521570920944214s"
     ]
    },
    {
     "name": "stdout",
     "output_type": "stream",
     "text": [
      "\nmy code:    np.einsum(LIST)\nground truth:    [x for x in range(len(stocks_list)) if stocks_list[x] == 'MSFT']\nbleu socre 0.04469085405803316\n----------------------answer 345, this one cost 0.03766179084777832s, total cost 11.560068845748901s\nmy code:    soup.call('(ddd)', 'aaa', '✓')\nground truth:    ax.set_xticklabels(labels, rotation=45)\nbleu socre 0.6865890479690392\n----------------------answer 346, this one cost 0.018821001052856445s, total cost 11.580009937286377s\nmy code:    .('')\nground truth:    re.sub('[^\\\\w]', ' ', s)\nbleu socre 0.062456385668499745\n----------------------answer 347, this one cost 0.029791831970214844s, total cost 11.610718965530396s\nmy code:    os.path.isfile(os.path, '/etc/password.txt')\nground truth:    os.path.basename(os.path.dirname(os.path.realpath(__file__)))\nbleu socre 0.2288699337434303\n----------------------answer 348, this one cost 0.03835105895996094s, total cost 11.65009093284607s\nmy code:    re.sub('\\\\((\\\\w+)\\\\)', '*', '')\nground truth:    print(re.findall(\"'\\\\\\\\[0-7]{1,3}'\", str))\nbleu socre 0.27868530878407455\n----------------------answer 349, this one cost 0.0334470272064209s, total cost 11.684550046920776s\nmy code:    re.findall('\\\\b[A-Z]', '', '')\nground truth:    re.split('[ ](?=[A-Z]+\\\\b)', input)\nbleu socre 0.2552672036703069\n----------------------answer 350, this one cost 0.025599956512451172s, total cost 11.711143016815186s\nmy code:    re.findall('(?<=[\\\\.\\\\?!])', 'sad_pandas_and_happy_cats_for_people')\nground truth:    re.split('[ ](?=[A-Z])', input)\nbleu socre 0.1564740794312831\n----------------------answer 351, this one cost 0.034361839294433594s, total cost 11.746360778808594s\nmy code:    plt.call('window.scrollTo(0,', './uireplace.pl', '3.5')\nground truth:    r = requests.post(url, files=files, headers=headers, data=data)\nbleu socre 0.6803749333171202\n"
     ]
    },
    {
     "name": "stdout",
     "output_type": "stream",
     "text": [
      "----------------------answer 352, this one cost 0.022663116455078125s, total cost 11.769938945770264s\nmy code:    os.chdir('chapter3')\nground truth:    open('filename', 'wb').write(bytes_)\nbleu socre 0.2709850435615371\n----------------------answer 353, this one cost 0.026267290115356445s, total cost 11.796977996826172s\nmy code:    zip(zip(list_of_tuples))\nground truth:    [dct[k] for k in lst]\nbleu socre 0\n----------------------answer 354, this one cost 0.030642986297607422s, total cost 11.828182935714722s\nmy code:    pd.set_option('a', '')\nground truth:    x.set_index('name').index.get_duplicates()\nbleu socre 0.418030412918096\n----------------------answer 355, this one cost 0.019228219985961914s, total cost 11.84821105003357s\nmy code:    float.float('\\n')\nground truth:    round(1.923328437452, 3)\nbleu socre 0.7598356856515925\n----------------------answer 356, this one cost 0.038098812103271484s, total cost 11.887302875518799s\nmy code:    sorted(sorted(x.itemgetter()))\nground truth:    sorted(li, key=lambda x: datetime.strptime(x[1], '%d/%m/%Y'), reverse=True)\nbleu socre 0.07380971990979744\n----------------------answer 357, this one cost 0.030683040618896484s, total cost 11.91893196105957s\nmy code:    requests.call('test.sh', './uireplace.pl', 'width=300px;')\nground truth:    ax.set_rlabel_position(135)\nbleu socre 0.5885661912765424\n----------------------answer 358, this one cost 0.024694204330444336s, total cost 11.944512128829956s\nmy code:    os.datetime.now('echo')\nground truth:    os.path.isabs(my_path)\nbleu socre 0.4854917717073234\n----------------------answer 359, this one cost 0.01573491096496582s, total cost 11.96085786819458s\nmy code:    dict(d)\nground truth:    len(list(yourdict.keys()))\nbleu socre 0.14612588611198102\n"
     ]
    },
    {
     "name": "stdout",
     "output_type": "stream",
     "text": [
      "----------------------answer 360, this one cost 0.04271101951599121s, total cost 12.004360914230347s\nmy code:    dict(list(list(list(LoD))))\nground truth:    len(set(open(yourdictfile).read().split()))\nbleu socre 0.21985315354767074\n----------------------answer 361, this one cost 0.03571319580078125s, total cost 12.040768146514893s\nmy code:    df.dataframe('25', 'b', 'True', 'True')\nground truth:    df.groupby('id').first()\nbleu socre 0.46652210562094854\n----------------------answer 362, this one cost 0.04102802276611328s, total cost 12.082501888275146s\nmy code:    np.sqrt(np.groupby('A'))\nground truth:    pd.concat([df[0].apply(pd.Series), df[1]], axis=1)\nbleu socre 0.28076969147982145\n----------------------answer 363, this one cost 0.018344879150390625s, total cost 12.101809978485107s\nmy code:    .('')\nground truth:    re.findall('src=\"js/([^\"]*\\\\bjquery\\\\b[^\"]*)\"', data)\nbleu socre 0.0031095203432872755\n----------------------answer 364, this one cost 0.03292703628540039s, total cost 12.135437965393066s\nmy code:    writer.add_subplot('...j,...j->...', '^.{254}.*', '?')\nground truth:    sum(int(float(item)) for item in [_f for _f in ['', '3.4', '', '', '1.0'] if _f])\nbleu socre 0.18049941527663052\n----------------------answer 365, this one cost 0.029178857803344727s, total cost 12.165762901306152s\nmy code:    re.draw_networkx_labels('(ddd)', 'aaa', '✓')\nground truth:    subprocess.Popen(['c:\\\\Program Files\\\\VMware\\\\VMware Server\\\\vmware-cmd.bat'])\nbleu socre 0.3940235608042131\n----------------------answer 366, this one cost 0.027866125106811523s, total cost 12.19438910484314s\nmy code:    re.implicitly_wait('[', 'http://example.org/#comments')\nground truth:    q.put((-n, n))\nbleu socre 0.6606328636027614\n"
     ]
    },
    {
     "name": "stdout",
     "output_type": "stream",
     "text": [
      "----------------------answer 367, this one cost 0.03162813186645508s, total cost 12.226737976074219s\nmy code:    df.loc('filename.csv', 'saleid')\nground truth:    df['group'].plot(kind='bar', color=['r', 'g', 'b', 'r', 'g', 'b', 'r'])\nbleu socre 0.028530595195408414\n----------------------answer 368, this one cost 0.03597211837768555s, total cost 12.26402997970581s\nmy code:    re.findall('(?m)^[^\\\\S\\\\n]+', '*')\nground truth:    re.findall('([a-fA-F\\\\d]{32})', data)\nbleu socre 0.2392702601822198\n----------------------answer 369, this one cost 0.0175321102142334s, total cost 12.282366037368774s\nmy code:    map(i)\nground truth:    len(my_list)\nbleu socre 0.8408964152537145\n----------------------answer 370, this one cost 0.015762805938720703s, total cost 12.298916816711426s\nmy code:    map(l)\nground truth:    len(l)\nbleu socre 0.7071067811865476\n----------------------answer 371, this one cost 0.015159130096435547s, total cost 12.314842939376831s\nmy code:    length(l)\nground truth:    len(s)\nbleu socre 0.8408964152537145\n----------------------answer 372, this one cost 0.01826190948486328s, total cost 12.33391284942627s\nmy code:    time.sleep('test.csv')\nground truth:    len(my_tuple)\nbleu socre 0.668740304976422\n----------------------answer 373, this one cost 0.02059316635131836s, total cost 12.35508108139038s\nmy code:    sys.remove('\\n')\nground truth:    len(my_string)\nbleu socre 0.6865890479690392\n----------------------answer 374, this one cost 0.02086186408996582s, total cost 12.376704692840576s\nmy code:    re.sub('[\\\\')\nground truth:    \"\"\"\\\\a\"\"\".decode('string_escape')\nbleu socre 0.38143233557173845\n"
     ]
    },
    {
     "name": "stdout",
     "output_type": "stream",
     "text": [
      "----------------------answer 375, this one cost 0.26694512367248535s, total cost 12.64460301399231s\nmy code:    dict(d.iter('b', 'b', 'b', 'b', 'b', 'b', 'd', 'd', 'd', 'd', 'd', 'd', 'd',\n    ',', ',', ',', ',', ',', ',', ',', ',', ',', ',', ',', ',', ',', ',',\n    ',', ',', ',', ',', ',', ',', ',', ',', ',', ',', ',', ',', ',', ',',\n    ',', ',', ',', ',', ',', ',', ',', ',', ',', ',', ',', ',', ',', ',',\n    ',', ',', ','))\nground truth:    \"\"\"obama\"\"\".replace('a', '%temp%').replace('b', 'a').replace('%temp%', 'b')\nbleu socre 0.04533577199191902\n----------------------answer 376, this one cost 0.020357131958007812s, total cost 12.667760848999023s\nmy code:    os.system('chapter3')\nground truth:    shutil.rmtree('/folder_name')\nbleu socre 0.5736753417215604\n----------------------answer 377, this one cost 0.03388190269470215s, total cost 12.702469825744629s\nmy code:    pd.pivot_table('col', 'Credit_exp', 'y')\nground truth:    data['weekday'] = data['my_dt'].apply(lambda x: x.weekday())\nbleu socre 0.46339769398263847\n----------------------answer 378, this one cost 0.03389716148376465s, total cost 12.737354040145874s\nmy code:    np.sort(key=lambda x: x[0])\nground truth:    sorted(x, key=x.get, reverse=True)\nbleu socre 0.4428500142691474\n----------------------answer 379, this one cost 0.03380894660949707s, total cost 12.771838903427124s\nmy code:    np.sort(key=lambda x: x[0])\nground truth:    sorted(list(x.items()), key=lambda pair: pair[1], reverse=True)\nbleu socre 0.1409980030398809\n----------------------answer 380, this one cost 0.03574967384338379s, total cost 12.80841875076294s\nmy code:    a.append(key=lambda x: x[x])\nground truth:    np.vstack((a, b))\nbleu socre 0.7311104457090247\n----------------------answer 381, this one cost 0.02510690689086914s, total cost 12.83438491821289s\nmy code:    a.concatenate(x.isnan())\nground truth:    print(concatenate((a, b), axis=0))\nbleu socre 0.3665113625996641\n"
     ]
    },
    {
     "name": "stdout",
     "output_type": "stream",
     "text": [
      "----------------------answer 382, this one cost 0.028781890869140625s, total cost 12.863809823989868s\nmy code:    a.concatenate(x.isnan())\nground truth:    print(concatenate((a, b), axis=1))\nbleu socre 0.3665113625996641\n----------------------answer 383, this one cost 0.02957296371459961s, total cost 12.894245862960815s\nmy code:    a.concatenate(x.isnan())\nground truth:    c = np.r_[(a[None, :], b[None, :])]\nbleu socre 0.23953094040783438\n----------------------answer 384, this one cost 0.028604984283447266s, total cost 12.923776865005493s\nmy code:    a.concatenate(x.isnan())\nground truth:    np.array((a, b))\nbleu socre 0.5081327481546147\n----------------------answer 385, this one cost 0.027390003204345703s, total cost 12.952012777328491s\nmy code:    ax.get('INSERT', 'Current realm=\"test\"')\nground truth:    print(socket.getaddrinfo('google.com', 80))\nbleu socre 0.4583034067124109\n----------------------answer 386, this one cost 0.028268098831176758s, total cost 12.981245040893555s\nmy code:    df.fillna('column_name', how='False')\nground truth:    df.xs('sat', level='day', drop_level=False)\nbleu socre 0.5269400210306475\n----------------------answer 387, this one cost 0.018934011459350586s, total cost 13.001128911972046s\nmy code:    time.exit('log')\nground truth:    return HttpResponse('Unauthorized', status=401)\nbleu socre 0.31356006812336346\n----------------------answer 388, this one cost 0.026286840438842773s, total cost 13.02823781967163s\nmy code:    os.listdir('/home/username/www/')\nground truth:    Flask(__name__, template_folder='wherever')\nbleu socre 0.38503228868787126\n----------------------answer 389, this one cost 0.034219980239868164s, total cost 13.063338041305542s\nmy code:   "
     ]
    },
    {
     "name": "stdout",
     "output_type": "stream",
     "text": [
      " ax.strftime('INSERT otherfunc -0400 1:33PM', '%Y/%m/%d')\nground truth:    session.execute('INSERT INTO t1 (SELECT * FROM t2)')\nbleu socre 0.19004145843928572\n----------------------answer 390, this one cost 0.04921698570251465s, total cost 13.11362099647522s\nmy code:    sorted(Matrix(arr(np.arange())))\nground truth:    c2.sort(key=lambda row: row[2])\nbleu socre 0.6803749333171202\n----------------------answer 391, this one cost 0.04249000549316406s, total cost 13.157184839248657s\nmy code:    list(zip(zip(itertools.itemgetter())))\nground truth:    c2.sort(key=lambda row: (row[2], row[1], row[0]))\nbleu socre 0.17277155459005733\n----------------------answer 392, this one cost 0.039467811584472656s, total cost 13.197621822357178s\nmy code:    list(zip(zip(itertools.itemgetter())))\nground truth:    c2.sort(key=lambda row: (row[2], row[1]))\nbleu socre 0.24693202228319797\n----------------------answer 393, this one cost 0.03710603713989258s, total cost 13.235879898071289s\nmy code:    subprocess.call('grep /im', 'file2.txt', 'app_name')\nground truth:    matplotlib.rc('font', **{'sans-serif': 'Arial', 'family': 'sans-serif'})\nbleu socre 0.15542556491683732\n----------------------answer 394, this one cost 0.039534807205200195s, total cost 13.27640676498413s\nmy code:    df.to_csv('column_name', 'ffill')\nground truth:    df['date'].apply(lambda x: x.toordinal())\nbleu socre 0.510029457493824\n----------------------answer 395, this one cost 0.02664494514465332s, total cost 13.303950786590576s\nmy code:    re.compile('^(.+)\\\\n((?:\\\\n.+)+)', '*')\nground truth:    element.get_attribute('innerHTML')\nbleu socre 0.32201734343516736\n"
     ]
    },
    {
     "name": "stdout",
     "output_type": "stream",
     "text": [
      "----------------------answer 396, this one cost 0.030582904815673828s, total cost 13.335731983184814s\nmy code:    df.sample('ijk,ikl->ijl')\nground truth:    df.index.get_loc('bob')\nbleu socre 0.5828233954152654\n----------------------answer 397, this one cost 0.034474849700927734s, total cost 13.370982885360718s\nmy code:    os.system('window.scrollTo(0,', '$1', 'neededArgumetGoHere')\nground truth:    os.system('gnome-terminal -e \\'bash -c \"sudo apt-get update; exec bash\"\\'')\nbleu socre 0.1551688261163234\n----------------------answer 398, this one cost 0.03890085220336914s, total cost 13.410974979400635s\nmy code:    pd.set_index('Apple', 'American', 'class', 'section', 'section')\nground truth:    my_dict.update({'third_key': 1})\nbleu socre 0.6756000774035172\n----------------------answer 399, this one cost 0.028384923934936523s, total cost 13.440327882766724s\nmy code:    len(range(range(x)))\nground truth:    my_list = []\nbleu socre 0\n----------------------answer 400, this one cost 0.03642106056213379s, total cost 13.477393865585327s\nmy code:    sorted(range(range(range(my_list))))\nground truth:    my_list.append(12)\nbleu socre 0.6930977286178778\n----------------------answer 401, this one cost 0.027163982391357422s, total cost 13.505137920379639s\nmy code:    parser.info('monkey', 'http://example.org/#comments')\nground truth:    myList.insert(0, 'wuggah')\nbleu socre 0.41113361690051975\n----------------------answer 402, this one cost 0.019659042358398438s, total cost 13.525723934173584s\nmy code:    os.strip('\\n')\nground truth:    \"\"\"\\\\xF3\\\\xBE\\\\x80\\\\x80\"\"\".replace('\\\\x', '').decode('hex')\nbleu socre 0.015508229493677389\n"
     ]
    },
    {
     "name": "stdout",
     "output_type": "stream",
     "text": [
      "----------------------answer 403, this one cost 0.029137849807739258s, total cost 13.555728912353516s\nmy code:    df.fillna('A', axis='A')\nground truth:    df[df.columns[-1]]\nbleu socre 0.3237722713145643\n----------------------answer 404, this one cost 0.036856889724731445s, total cost 13.59345293045044s\nmy code:    df.groupby('column_name', level='A')\nground truth:    df.loc[df['Letters'] == 'C', 'Letters'].values[0]\nbleu socre 0.2746651663986587\n----------------------answer 405, this one cost 0.02841496467590332s, total cost 13.622708082199097s\nmy code:    max(zip(lst))\nground truth:    np.column_stack(([1, 2, 3], [4, 5, 6]))\nbleu socre 0.06517358975955635\n----------------------answer 406, this one cost 0.0164182186126709s, total cost 13.640034914016724s\nmy code:    len(pop)\nground truth:    type(i)\nbleu socre 0.8408964152537145\n----------------------answer 407, this one cost 0.018168926239013672s, total cost 13.658960819244385s\nmy code:    os.unpack('\\n')\nground truth:    type(v)\nbleu socre 0.6865890479690392\n----------------------answer 408, this one cost 0.02084803581237793s, total cost 13.680681943893433s\nmy code:    os.unpack('\\n')\nground truth:    type(v)\nbleu socre 0.6865890479690392\n----------------------answer 409, this one cost 0.02055811882019043s, total cost 13.701809883117676s\nmy code:    os.unpack('\\n')\nground truth:    type(v)\nbleu socre 0.6865890479690392\n----------------------answer 410, this one cost 0.018800020217895508s, total cost 13.721293926239014s\nmy code:    os.unpack('\\n')\nground truth:    type(v)\nbleu socre 0.6865890479690392\n----------------------answer 411, this one cost 0.02068495750427246s, total cost 13.74286699295044s\nmy code:    my_string.translate('\\n')\nground truth:    print(type(variable_name))\nbleu socre 0.6865890479690392\n"
     ]
    },
    {
     "name": "stdout",
     "output_type": "stream",
     "text": [
      "----------------------answer 412, this one cost 0.03780508041381836s, total cost 13.781512022018433s\nmy code:    map(set(range(range(i))))\nground truth:    next(itertools.islice(range(10), 5, 5 + 1))\nbleu socre 0.22640664209760566\n----------------------answer 413, this one cost 0.028683900833129883s, total cost 13.810893774032593s\nmy code:    os.Popen('file.txt', 'file2.txt')\nground truth:    print('\"{}\"'.format(word))\nbleu socre 0.4132584091896901\n----------------------answer 414, this one cost 0.030773162841796875s, total cost 13.842638969421387s\nmy code:    numpy.join('a', '')\nground truth:    \"\"\" \"\"\".join(list)\nbleu socre 0.39458812555917666\n----------------------answer 415, this one cost 0.028995037078857422s, total cost 13.872651100158691s\nmy code:    sorted(list(x.items()))\nground truth:    y = [[] for n in range(2)]\nbleu socre 0.5444358245099123\n----------------------answer 416, this one cost 0.02316427230834961s, total cost 13.89656400680542s\nmy code:    plt.parse('test.csv')\nground truth:    data = [line.strip() for line in open('C:/name/MyDocuments/numbers', 'r')]\nbleu socre 0.07813586220751259\n----------------------answer 417, this one cost 0.033718109130859375s, total cost 13.931236982345581s\nmy code:    re.set_yticklabels('//*[contains(text(),', 'MyStringHere', 'â')\nground truth:    \"\"\"\"\"\".join([char for char in 'it is icy' if char != 'i'])\nbleu socre 0.7517511102031796\n----------------------answer 418, this one cost 0.03283190727233887s, total cost 13.964895009994507s\nmy code:    re.findall('_(?:for|or|and)_', 'MyStringHere', 'â')\nground truth:    re.sub('i', '', 'it is icy')\nbleu socre 0.3040559696901293\n"
     ]
    },
    {
     "name": "stdout",
     "output_type": "stream",
     "text": [
      "----------------------answer 419, this one cost 0.025474071502685547s, total cost 13.9912850856781s\nmy code:    re.findall('//*[contains(text(),', 'ã')\nground truth:    \"\"\"it is icy\"\"\".replace('i', '')\nbleu socre 0.2516441111691874\n----------------------answer 420, this one cost 0.03506898880004883s, total cost 14.027277946472168s\nmy code:    re.findall('.{20}(.mkv)', '\\\\1')\nground truth:    \"\"\"\"\"\".join([char for char in 'it is icy' if char != 'i'])\nbleu socre 0.2574526462394603\n----------------------answer 421, this one cost 0.03354597091674805s, total cost 14.061839818954468s\nmy code:    df.groupby('column_name', 'ffill', axis='True')\nground truth:    df.dropna(subset=[1])\nbleu socre 0.3575297164449809\n----------------------answer 422, this one cost 0.03296184539794922s, total cost 14.09548282623291s\nmy code:    csvwriter.writerow('name', 'name', '2')\nground truth:    [x for x in myList if x.n == 30]\nbleu socre 0.5\n----------------------answer 423, this one cost 0.021795034408569336s, total cost 14.118108987808228s\nmy code:    re.findall('11B')\nground truth:    nums = [int(x) for x in intstringlist]\nbleu socre 0.42888194248035344\n----------------------answer 424, this one cost 0.03397011756896973s, total cost 14.152821063995361s\nmy code:    list(s.chain('\\\\'))\nground truth:    map(int, eval(input('Enter the unfriendly numbers: ')))\nbleu socre 0.20726568331396503\n----------------------answer 425, this one cost 0.018171310424804688s, total cost 14.172008037567139s\nmy code:    sys.setlocale('utf8')\nground truth:    sys.stdout.write('.')\nbleu socre 0.5864047763647025\n"
     ]
    },
    {
     "name": "stdout",
     "output_type": "stream",
     "text": [
      "----------------------answer 426, this one cost 0.041640281677246094s, total cost 14.214378118515015s\nmy code:    cur.find_elements_by_xpath('grade', 'name', 'name', 'name')\nground truth:    int(round(2.51 * 100))\nbleu socre 0.6223329772884784\n----------------------answer 427, this one cost 0.027646780014038086s, total cost 14.242944717407227s\nmy code:    os.chdir('chapter3')\nground truth:    os.chdir('/mydir')\nfor file in glob.glob('*.txt'):\n    pass\nbleu socre 0.08047084086794415\n----------------------answer 428, this one cost 0.030768871307373047s, total cost 14.274670839309692s\nmy code:    os.chdir('chapter3')\nground truth:    for file in os.listdir('/mydir'):\n    if file.endswith('.txt'):\n        pass\nbleu socre 0.08992808503711662\n----------------------answer 429, this one cost 0.022850990295410156s, total cost 14.298337936401367s\nmy code:    os.chdir('chapter3')\nground truth:    for (root, dirs, files) in os.walk('/mydir'):\n    for file in files:\n        if file.endswith('.txt'):\n            pass\nbleu socre 0.02273738067227944\n----------------------answer 430, this one cost 0.02460312843322754s, total cost 14.323848962783813s\nmy code:    df.drop('-', axis='True')\nground truth:    df.plot(legend=False)\nbleu socre 0.4071220775553065\n----------------------answer 431, this one cost 0.020111083984375s, total cost 14.344741821289062s\nmy code:    json.sample(\"//*[@type='submit']/@value\")\nground truth:    for i in range(256):\n    for j in range(256):\n        ip = ('192.168.%d.%d' % (i, j))\n        print(ip)\nbleu socre 0.1333864449285439\n----------------------answer 432, this one cost 0.021671772003173828s, total cost 14.367393732070923s\nmy code:    json.sample(\"//*[@type='submit']/@value\")\nground truth:    for (i, j) in product(list(range(256)), list(range(256))):\n    pass\nbleu socre 0.41746352657471425\n----------------------answer 433, this one cost 0.020379304885864258s, total cost 14.388811111450195s\nmy code:    json.sample(\"//*[@type='submit']/@value\")\nground truth:    generator = iter_iprange('192.168.1.1', '192.168.255.255', step=1)\nbleu socre 0.2661922130420669\n----------------------answer 434, this one cost 0.027006149291992188s, total cost 14.416867971420288s"
     ]
    },
    {
     "name": "stdout",
     "output_type": "stream",
     "text": [
      "\nmy code:    [x for i in x if x]\nground truth:    sum(1 << i for i, b in enumerate(x) if b)\nbleu socre 0.18884908940114511\n----------------------answer 435, this one cost 0.040040016174316406s, total cost 14.457617998123169s\nmy code:    re.findall('script2.py', 'D:\\\\testdir', 'name')\nground truth:    target.write('%r\\n%r\\n%r\\n' % (line1, line2, line3))\nbleu socre 0.29764380110850647\n----------------------answer 436, this one cost 0.02259206771850586s, total cost 14.481245040893555s\nmy code:    print(zip(i))\nground truth:    [y for x in data for y in (x if isinstance(x, list) else [x])]\nbleu socre 0.07665232238523889\n----------------------answer 437, this one cost 0.028187274932861328s, total cost 14.510347127914429s\nmy code:    re.findall('filename.png', '/r', 'app_name')\nground truth:    print('foo\\nbar'.encode('string_escape'))\nbleu socre 0.4498062466836449\n----------------------answer 438, this one cost 0.07552790641784668s, total cost 14.586678743362427s\nmy code:    s.lstrip('s', '', 's', 's', 's', 's', 's', 's', 's', 's', 's', 's', 's',\n    's', 's', 's')\nground truth:    \"\"\"\"\"\".join(s.rsplit(',', 1))\nbleu socre 0.1307485248763189\n----------------------answer 439, this one cost 0.02919602394104004s, total cost 14.616994857788086s\nmy code:    zip(zip(lst))\nground truth:    (x[1:] + x[:-1]) / 2\nbleu socre 0.20211771013895866\n----------------------answer 440, this one cost 0.02571702003479004s, total cost 14.643329858779907s\nmy code:    min(zip(x))\nground truth:    x[:-1] + (x[1:] - x[:-1]) / 2\nbleu socre 0.05257688954135167\n"
     ]
    },
    {
     "name": "stdout",
     "output_type": "stream",
     "text": [
      "----------------------answer 441, this one cost 0.03347492218017578s, total cost 14.677446842193604s\nmy code:    parser.info('date=%s', 'banana')\nground truth:    arr = numpy.fromiter(codecs.open('new.txt', encoding='utf-8'), dtype='<U2')\nbleu socre 0.1927905332307213\n----------------------answer 442, this one cost 0.03337597846984863s, total cost 14.711662769317627s\nmy code:    sorted(sorted(x.itemgetter()))\nground truth:    l = sorted(l, key=itemgetter('time'), reverse=True)\nbleu socre 0.27771325449175005\n----------------------answer 443, this one cost 0.03436589241027832s, total cost 14.746839761734009s\nmy code:    sorted(list(d.items()))\nground truth:    l = sorted(l, key=lambda a: a['time'], reverse=True)\nbleu socre 0.14949878410205727\n----------------------answer 444, this one cost 0.026182889938354492s, total cost 14.773818969726562s\nmy code:    df.to_csv('column_name', 'ffill')\nground truth:    df.loc[df[0].str.contains('(Hel|Just)')]\nbleu socre 0.26409645716799635\n----------------------answer 445, this one cost 0.031174898147583008s, total cost 14.805685758590698s\nmy code:    re.findall('property', '', '')\nground truth:    re.search('\\\\[(.*)\\\\]', your_string).group(1)\nbleu socre 0.28531633222020736\n----------------------answer 446, this one cost 0.03866696357727051s, total cost 14.845191955566406s\nmy code:    plt.mktime('...j,...j->...', 'WWW-Authenticate', '12')\nground truth:    [d.strftime('%Y%m%d') for d in pandas.date_range('20130226', '20130302')]\nbleu socre 0.2009754142529576\n"
     ]
    },
    {
     "name": "stdout",
     "output_type": "stream",
     "text": [
      "----------------------answer 447, this one cost 0.041043758392333984s, total cost 14.887365818023682s\nmy code:    cur.mogrify(\"{'muffin'\", 'name', 'name', 'name')\nground truth:    \"\"\"The big brown fox is brown\"\"\".count('brown')\nbleu socre 0.5053483543335474\n"
     ]
    },
    {
     "name": "stdout",
     "output_type": "stream",
     "text": [
      "----------------------answer 448, this one cost 0.27587318420410156s, total cost 15.164151906967163s\nmy code:    pd.get('True', '*', 'True', 'True', 'True', 'True', 'True', 'True', 'True',\n    'True', 'True', 'True', 'True', 'True', 'True', 'True', 'True', 'True',\n    'True', 'True', 'True', 'True', 'True', 'True', 'True', 'True', 'True',\n    'True', 'True', 'True', 'True', 'True', 'True', 'True', 'True', 'True',\n    'True', 'True', 'True', 'True', 'True', 'True', 'True', 'True', 'True',\n    'True', 'True', 'True', 'True', 'True', 'True', 'True', 'True', 'True',\n    'True', 'True', 'True', 'True', 'True', 'True', 'True', 'True', 'True',\n    'True', None)\nground truth:    json.loads(request.body)\nbleu socre 0.32711841319461554\n----------------------answer 449, this one cost 0.03139305114746094s, total cost 15.197201013565063s\nmy code:    driver.find_element_by_xpath('window.scrollTo(0,', 'person.name', '3.5')\nground truth:    urllib.request.urlretrieve(url, file_name)\nbleu socre 0.6622152291011697\n----------------------answer 450, this one cost 0.020598888397216797s, total cost 15.218563795089722s\nmy code:    re.sub('utf-8')\nground truth:    text.split()\nbleu socre 0.7400828044922853\n----------------------answer 451, this one cost 0.01781487464904785s, total cost 15.23713994026184s\nmy code:    re.findall('[^a-zA-Z0-9-_*.]')\nground truth:    text.split(',')\nbleu socre 0.3835654723565782\n----------------------answer 452, this one cost 0.03697776794433594s, total cost 15.27483081817627s\nmy code:    int(s.isdigit(''))\nground truth:    line.split()\nbleu socre 0.7400828044922853\n----------------------answer 453, this one cost 0.03640389442443848s, total cost 15.311968803405762s\nmy code:    re.sub('\\\\b(?:b+a)+b+\\\\b', '', '')\nground truth:    [re.sub('(?<!\\\\d)\\\\.(?!\\\\d)', ' ', i) for i in s]\nbleu socre 0.2373646930971005\n----------------------answer 454, this one cost 0.027988195419311523s, total cost 15.340831995010376s\nmy code:    sorted(sorted(operator.attrgetter()))\nground truth:    sorted(list_of_strings, key=lambda s: s.split(',')[1])\nbleu socre 0.19470471829469507\n"
     ]
    },
    {
     "name": "stdout",
     "output_type": "stream",
     "text": [
      "----------------------answer 455, this one cost 0.03235888481140137s, total cost 15.373871803283691s\nmy code:    ax.execute('INSERT', '192.168.0.58', '3.5')\nground truth:    subprocess.check_call('vasp | tee tee_output', shell=True)\nbleu socre 0.3839817133079349\n----------------------answer 456, this one cost 0.02953815460205078s, total cost 15.404242992401123s\nmy code:    map(int(map(x)))\nground truth:    [element for element in lst if isinstance(element, int)]\nbleu socre 0.4960923395774537\n----------------------answer 457, this one cost 0.03103804588317871s, total cost 15.436280965805054s\nmy code:    print(range(range(x)))\nground truth:    [element for element in lst if not isinstance(element, str)]\nbleu socre 0.4056114983537769\n----------------------answer 458, this one cost 0.06734418869018555s, total cost 15.504512071609497s\nmy code:    sorted(iter(iter(list(zip(zip(zip(zip(zip(v)))))))))\nground truth:    newlist = sorted(list_to_be_sorted, key=lambda k: k['name'])\nbleu socre 0.25098621243978964\n----------------------answer 459, this one cost 0.038194894790649414s, total cost 15.54360294342041s\nmy code:    sorted(list(d.items()))\nground truth:    newlist = sorted(l, key=itemgetter('name'), reverse=True)\nbleu socre 0.22312272097628047\n"
     ]
    },
    {
     "name": "stdout",
     "output_type": "stream",
     "text": [
      "----------------------answer 460, this one cost 0.07101225852966309s, total cost 15.615369081497192s\nmy code:    dict(zip(zip(list(zip(zip(zip(zip(zip(v)))))))))\nground truth:    list_of_dicts.sort(key=operator.itemgetter('name'))\nbleu socre 0.26970223719007375\n----------------------answer 461, this one cost 0.07493400573730469s, total cost 15.691130876541138s\nmy code:    dict(zip(zip(list(zip(zip(zip(zip(zip(v)))))))))\nground truth:    list_of_dicts.sort(key=operator.itemgetter('age'))\nbleu socre 0.26970223719007375\n----------------------answer 462, this one cost 0.031796932220458984s, total cost 15.7239089012146s\nmy code:    df.fillna('A', how='A')\nground truth:    df.groupby('prots').sum().sort('scores', ascending=False)\nbleu socre 0.3600044267435011\n----------------------answer 463, this one cost 0.026471853256225586s, total cost 15.751088857650757s\nmy code:    mydic.create_text([x])\nground truth:    \"\"\",\"\"\".join(trans['category'])\nbleu socre 0.17746560835694375\n----------------------answer 464, this one cost 0.025088071823120117s, total cost 15.776825904846191s\nmy code:    np.set_clim('...j,...j->...', 0)\nground truth:    \"\"\"\"\"\".join(['A', 'B', 'C', 'D'])\nbleu socre 0.34274008854796023\n----------------------answer 465, this one cost 0.02544879913330078s, total cost 15.8031907081604s\nmy code:    ax.headers('%B', 'Greys_r')\nground truth:    json.load(urllib.request.urlopen('url'))\nbleu socre 0.43142401352131887\n"
     ]
    },
    {
     "name": "stdout",
     "output_type": "stream",
     "text": [
      "----------------------answer 466, this one cost 0.03261089324951172s, total cost 15.83645486831665s\nmy code:    calendar.writerows('property', 0)\nground truth:    [x for x in sents if not x.startswith('@$\\t') and not x.startswith('#')]\nbleu socre 0.06570416643305552\n----------------------answer 467, this one cost 0.029220104217529297s, total cost 15.86686897277832s\nmy code:    int(set(range(i)))\nground truth:    Entry.objects.filter(pub_date__contains='08:00')\nbleu socre 0.4482700320176827\n----------------------answer 468, this one cost 0.034796953201293945s, total cost 15.902431011199951s\nmy code:    sorted(sorted(operator.items()))\nground truth:    list.sort(key=lambda item: (item['points'], item['time']))\nbleu socre 0.1293170825812159\n----------------------answer 469, this one cost 0.024409055709838867s, total cost 15.927579879760742s\nmy code:    logging.read_csv('INSERT', '')\nground truth:    (t - datetime.datetime(1970, 1, 1)).total_seconds()\nbleu socre 0.41095816241285266\n----------------------answer 470, this one cost 0.037837982177734375s, total cost 15.96620488166809s\nmy code:    plt.findall('//*[contains(text(),', '\"\\\\1\"', 'title')\nground truth:    re.sub('(\\\\_a)?\\\\.([^\\\\.]*)$', '_suff.\\\\2', 'long.file.name.jpg')\nbleu socre 0.19520238067940832\n----------------------answer 471, this one cost 0.01840996742248535s, total cost 15.985513925552368s\nmy code:    con.exit('log')\nground truth:    import imp\nimp.reload(module)\nbleu socre 0.7825422900366437\n----------------------answer 472, this one cost 0.022732257843017578s, total cost 16.008958101272583s\nmy code:    re.sub('')\nground truth:    struct.unpack('H', struct.pack('h', number))\nbleu socre 0.10578530739037528\n----------------------answer 473, this one cost 0.02031707763671875s, total cost 16.030086040496826s\nmy code:    np.sqrt(arr)\nground truth:    numlist = [float(x) for x in numlist]\nbleu socre 0.27952792741962756\n"
     ]
    },
    {
     "name": "stdout",
     "output_type": "stream",
     "text": [
      "----------------------answer 474, this one cost 0.03076314926147461s, total cost 16.061962127685547s\nmy code:    ax.execute('INSERT INTO table +0900')\nground truth:    df.to_csv(filename, index=False)\nbleu socre 0.7071067811865476\n----------------------answer 475, this one cost 0.03206205368041992s, total cost 16.09471893310547s\nmy code:    ax.find_element_by_xpath('INSERT', 'Basic')\nground truth:    json_data = json.loads(unescaped)\nbleu socre 0.7071067811865476\n----------------------answer 476, this one cost 0.054662227630615234s, total cost 16.15027904510498s\nmy code:    s.split('s', '', '', '', ',', ',', ',', ',')\nground truth:    [chr(i) for i in range(127)]\nbleu socre 0.49616830003403634\n----------------------answer 477, this one cost 0.024213075637817383s, total cost 16.17548704147339s\nmy code:    re.compile('chapter3', 'BDE')\nground truth:    newFile.write(struct.pack('5B', *newFileBytes))\nbleu socre 0.30641737018051174\n----------------------answer 478, this one cost 0.03513383865356445s, total cost 16.211452960968018s\nmy code:    re.sub('\\\\*\\\\*+', '', '')\nground truth:    re.sub('^[A-Z0-9]*(?![a-z])', '', string)\nbleu socre 0.22756062713015324\n----------------------answer 479, this one cost 0.01919412612915039s, total cost 16.23153805732727s\nmy code:    dict(d)\nground truth:    list(dict.keys())[-1]\nbleu socre 0.1259436721879507\n----------------------answer 480, this one cost 0.020030975341796875s, total cost 16.25225305557251s\nmy code:    subprocess.system('HTTP/1.0')\nground truth:    print('hi there', file=f)\nbleu socre 0.41722614486115056\n"
     ]
    },
    {
     "name": "stdout",
     "output_type": "stream",
     "text": [
      "----------------------answer 481, this one cost 0.03186202049255371s, total cost 16.28509283065796s\nmy code:    os.system('%Y-%m-%d -c')\nground truth:    f = open('myfile', 'w')\nf.write('hi there\\n')\nf.close()\nbleu socre 0.2292681346193333\n----------------------answer 482, this one cost 0.02463388442993164s, total cost 16.31064796447754s\nmy code:    os.system('words.txt')\nground truth:    with open('somefile.txt', 'a') as the_file:\n    the_file.write('Hello\\n')\nbleu socre 0.08965720846107784\n----------------------answer 483, this one cost 0.0212862491607666s, total cost 16.332874059677124s\nmy code:    s.rfind().&\nground truth:    s.encode('iso-8859-15')\nbleu socre 0.2719520463054227\n----------------------answer 484, this one cost 0.02698802947998047s, total cost 16.360591888427734s\nmy code:    plt.find_elements_by_xpath(\"//*[contains(text(), 'My Button')]\")\nground truth:    AuthorizedEmail.objects.filter(group=group).order_by('-added')[0]\nbleu socre 0.4342906676853412\n----------------------answer 485, this one cost 0.029006004333496094s, total cost 16.390522956848145s\nmy code:    re.findall('\\\\d+(?=[^[]+$)', '*')\nground truth:    re.findall('Test([0-9.]*[0-9]+)', text)\nbleu socre 0.22934769499188126\n----------------------answer 486, this one cost 0.02820897102355957s, total cost 16.419683933258057s\nmy code:    re.compile('_(?:for|or|and)_', 'sad_pandas_and_happy_cats_for_people')\nground truth:    re.findall('Test([\\\\d.]*\\\\d+)', text)\nbleu socre 0.46982896642765776\n----------------------answer 487, this one cost 0.019742965698242188s, total cost 16.440497875213623s\nmy code:    datetime.call('some_command')\nground truth:    os.system('powershell.exe', 'script.ps1')\nbleu socre 0.23914346158980815\n----------------------answer 488, this one cost 0.031223058700561523s, total cost 16.472527980804443s\nmy code:    sorted(zip(operator.itemgetter()))\nground truth:    b.sort(key=lambda x: x[1][2])\nbleu socre 0.4188362313263686\n"
     ]
    },
    {
     "name": "stdout",
     "output_type": "stream",
     "text": [
      "----------------------answer 489, this one cost 0.029705286026000977s, total cost 16.503178119659424s\nmy code:    writer.writerow('...j,...j->...', 0)\nground truth:    list(cf.get_range().get_keys())\nbleu socre 0.645777692487244\n----------------------answer 490, this one cost 0.023797035217285156s, total cost 16.527695894241333s\nmy code:    datetime.strftime('%B')\nground truth:    datetime.datetime.now()\nbleu socre 0.48549177170732344\n----------------------answer 491, this one cost 0.030673742294311523s, total cost 16.55910086631775s\nmy code:    [i for i in i]\nground truth:    next(i for i, x in enumerate(lst) if not isinstance(x, bool) and x == 1)\nbleu socre 0.0292697063277546\n----------------------answer 492, this one cost 0.023020029067993164s, total cost 16.583109855651855s\nmy code:    a.a('a')\nground truth:    a[:] = [(x - 13) for x in a]\nbleu socre 0.30934850332660563\n----------------------answer 493, this one cost 0.03533220291137695s, total cost 16.619271993637085s\nmy code:    os.Popen('grep -c', 'neededArgumetGoHere', 'stdout')\nground truth:    random.choice(os.listdir('C:\\\\'))\nbleu socre 0.45499414040480374\n----------------------answer 494, this one cost 0.021795034408569336s, total cost 16.64226794242859s\nmy code:    np.concatenate(a)\nground truth:    max(x.min(), x.max(), key=abs)\nbleu socre 0.11380295453101374\n"
     ]
    },
    {
     "name": "stdout",
     "output_type": "stream",
     "text": [
      "----------------------answer 495, this one cost 0.27468323707580566s, total cost 16.91757607460022s\nmy code:    None.()\nground truth:    re.findall('\"(http.*?)\"', s, re.MULTILINE | re.DOTALL)\nbleu socre 0.0048833661205058675\n----------------------answer 496, this one cost 0.032440185546875s, total cost 16.95079207420349s\nmy code:    re.sub('#(\\\\w+)', '<markup>\\\\1</markup>', 'this')\nground truth:    re.findall('http://[^t][^s\"]+\\\\.html', document)\nbleu socre 0.4766389972493081\n----------------------answer 497, this one cost 0.03391098976135254s, total cost 16.985734939575195s\nmy code:    re.sub(',', '', '', '')\nground truth:    mystring.replace(' ', '! !').split('!')\nbleu socre 0.1818483989940587\n----------------------answer 498, this one cost 0.02161383628845215s, total cost 17.008195877075195s\nmy code:    os.Popen('file.txt', 'file2.txt')\nground truth:    open(path, 'r')\nbleu socre 0.45180100180492244\n----------------------answer 499, this one cost 0.02698206901550293s, total cost 17.0360209941864s\nmy code:    sum(zip(zip(x)))\nground truth:    [[sum(item) for item in zip(*items)] for items in zip(*data)]\nbleu socre 0.18250217265318708\n----------------------answer 500, this one cost 0.020586013793945312s, total cost 17.057408809661865s\nmy code:    a.('a')\nground truth:    a[:, (np.newaxis)]\nbleu socre 0.5663883102178477\n[\"os.system('%Y-%m-%d -c')\", \"webbrowser.listdir('log', 'libs')\", 'map(lst)', \"re.findall('filename.png', 'D:\\\\\\\\testdir', '', 'title')\", \"re.replace('')\", 'dict(list(d.values()))', 'dict(list(d.values()))', \"subprocess.set_title('script2.py', '$%s', 'neededArgumetGoHere', '+20')\", \"a.concatenate('b')\", \"np.einsum('ij,kj->jik', 'b')\", \"ax.set_xlabel('Temperature')\", \"plt.parse('a', '')\", \"re.findall('{http://www.w3.org/2002/07/owl#}Class', '3.1415', '')\", \"re.findall('filename.png', '*', 'this')\", 'concatenate(concatenate(zip(b)))', \"re.findall('_(?:for|or|and)_', 'sad_pandas_and_happy_cats_for_people', 'Python'\\n    )\", 'sorted(zip(arr))', \"dparser.urldefrag('monkey')\", 'items(set(a))', \"subprocess.system('grep -c', 'rt', 'some.file')\", 're.findall(\"//a[starts-with(text(),\\'some\", \\'http://example.org/#comments\\', \\'\\')', \"s.import_module('11B', 'a.b')\", \".findall('11B', '')\", \"plt.info('log')\", \"re.findall('#(\\\\\\\\w+)', '\\\\\\\\\\\\\\\\\\\\\\\\g<0>')\", \"os.system('%Y-%m-%d')\", \"soup.find_all('#(\\\\\\\\w+)', 'person.name', 'width=300px;')\", \"soup.find_elements_by_xpath('\\\\\\\\d|\\\\\\\\d,\\\\\\\\d\\\\\\\\)', 'name', 'â')\", \"app.get('log', 'surrogatepass')\", \"plt.parse('\\\\\\\\W+', 'Words,')\", \"soup.findall('#(\\\\\\\\w+)', 'person.name', 'name')\", \"ax.set_title('window.scrollTo(0,', '$%s', '3.5')\", 'd = d.items()', \"cur.execute('INSERT INTO REPLACE master.table1', 'SELECT', 'my_column', 'n/a')\", \"re.translate('', '')\", \"sys.exit('.button .c_button .s_button')\", \"re.call('grep', 'aaa')\", \"json.load('\\\\n')\", \"plt.set_clim('...j,...j->...', 0, 0)\", 'print(range(arr))', \"re.sub('', '')\", 'np.shape(a)', 'zip(zip(zip(l)))', \"time.unpack('monkey')\", 'dict(dict_test, v)', 'os.path.dirname()', \"map(s.</primitive>('=', 'b', 'd', 'd', 'd', 'd', 'd', 'd', 'd', 'd', 'd',\\n    'd', 'd', 'd', 'd', 'd', 'd', 'd', 'd', 'd', 'd', 'd', 'd', 'd', 'd',\\n    'd', 'd', 'd', 'd', 'd', 'd', 'd', 'd', 'd', 'd', 'd', 'd', 'd', 'd',\\n    'd', 'd', 'd', 'd', 'd', 'd', 'd', 'd', 's', 's', 's', 's', 's', 's',\\n    's', 's', 's', 's', 's', 's', 's', 's', 's', 's', None))\", 'map(itertools.product(0))', 'np.sample(arr)', \"re.__class__('^([^A]*)AA([^A]|AA)*$', 'sad_pandas_and_happy_cats_for_people')\", 'print(set(a))', 're.savefig(\\'filename.png\\', \\'\"\\\\\\\\1\"\\', \\'-l\\', \\'.\\', \\'.\\', \\'.\\')', \"datetime.datetime.strptime('%Y-%m-%d')\", \"7.7('test.csv')\", 'sum(zip(x))', 'np.columns(axis=1)', \"re.findall('{http://www.w3.org/2002/07/owl#}Class', '\\\\\\\\\\\\\\\\\\\\\\\\g<0>')\", 'dict(iter(d))', 'dict(zip(d))', 'print(set(x))', 'dict(list(list(list(d))))', \"os.path.path('/usr/var')\", \"re.call('somedirectory', 'libs')\", 'np.dumps(mask)', 'scatter(range(range(range(array))))', 'numpy.concatenate(a)', '[i for i in x]', \"df.set_index.groupby('mycsv.csv')\", \"df.to_csv('-', 'mycsv.csv')\", \"print(s.split('=', ',', ','))\", \"re.sub('\\\\\\\\bis\\\\\\\\b', '*')\", \"ax.strftime('%B')\", \"re.compile('my_script.sh', '*')\", 'min(Matrix(arr))', 'print(zip(zip(student_tuples)))', 'if some_string:', \"os.load('\\\\n')\", 'sorted(list(list(itemgetter(itemgetter(itemgetter(tuple(tuple(tuple(tuple(\\n    mylist))))))))))', \"plt.find_element_by_xpath('...j,...j->...', 'utf-16')\", \"subprocess.set_title('source', './uireplace.pl', './uireplace.pl', '+20', '+20'\\n    )\", \"df.read_csv('a', '', '', '')\", \"quadmesh.set_clim('...j,...j->...', 'name', '?')\", 'df.concat(df.groupby())', \"soup.find_all('test.sh', 'utf-16', 'utf-16')\", \"ax.call('2009/05/13', './uireplace.pl', '3.5')\", \"subprocess.system('%Y-%m-%d')\", 'map(zip(zip(L)))', '[map(i, i) for i in l]', 'map(zip(zip(zip(L))))', \"re.sub('file.txt', '*', 'w', '1')\", \"writer.writerow('3M', '2')\", \"re.sub('', '')\", \"df.set_option('Date', 'b', '', '')\", \"re.findall('Test(.*)print', '', '', '', '', '', '', '', '.', '.', '.', '.',\\n    '.', '.', '.', '.', '.', '.', '.', '.', '.', '.', '.', '.', '.', '.',\\n    '.', '.', '.', '.', '.', '.', '.', '.', '.', '.', '.', '.', '.', '.',\\n    '.', '.', '.', '.', '.', '.', '.', '.', '.', '.', '.', '.', '.', '.',\\n    '.', '.', '.', '.', '.', '.', '.', '.', '.', '.', None)\", \"soup.find_all('[', '', '')\", \"re.findall('\\\\\\\\*+', '*', '*')\", \"os.open('file.txt')\", 'os.exit(\"//div[@id=\\'a\\']//a[@class=\\'click\\']\", \\'-jar\\')', '[x for x in x]', \"re.sub('\\\\\\\\*\\\\\\\\*+', '*')\", \"re.findall('(?:\\\\\\\\w+(?:\\\\\\\\s+\\\\\\\\w+)*,\\\\\\\\s)+(?:\\\\\\\\w+(?:\\\\\\\\s\\\\\\\\w+)*)', '*')\", \"cur.date_range('1/1/2014', 'name', 'name')\", \"cur.date_range('1/1/2014', 'name', 'name')\", 'dict(dicts)', 'print(range(range(range(x))))', '100(set(x))', \"driver.find_element_by_xpath('//*[contains(text(),', 'hi.json', '3.5')\", \"df.df.value_counts('my.csv', 'A', 'Male', 'Male')\", \"logging.call('(ddd)', 'aaa', '')\", \".translate('')\", \"re.findall('^([^A]*)AA([^A]|AA)*$', '*')\", \"re.findall('^([^A]*)AA([^A]|AA)*$', 'sad_pandas_and_happy_cats_for_people')\", \"re.findall('^([^A]*)AA([^A]|AA)*$', 'sad_pandas_and_happy_cats_for_people')\", \"re.findall('^([^A]*)AA([^A]|AA)*$', 'sad_pandas_and_happy_cats_for_people')\", \"re.sub('\\\\\\\\*\\\\\\\\*+', '')\", \"re.sub('', '')\", \"calendar.monthrange('2008', 2)\", \"ax.strftime('INSERT \\\\\\\\times -0400')\", 'dict(dicts)', \"calendar.monthrange('2008', 2)\", 'df.concat(df.groupby())', \"os.chdir('some_command')\", 'max(max(l))', 'count(l)', 'count(l)', 'count(l)', 'max(max(l))', \"os.system('/bin/bash -c')\", \"data.count_nonzero('Date', 'C', 'B', 'B', '6')\", 'dict(zip(d))', '[k for x in v]', \"os.listdir('somedirectory')\", \"df.concat('a', 'b', 'b', 'b', 'b')\", 'd = d.items()', \"df.merge('Cat1', '192.168.0.58', 'three')\", 'merge(range(range(x)))', \"numpy.apply_along_axis('a')\", 'df.drop(df.square())', 'map(lst)', 'map(set(set(set(L))))', 'len(x)', \"os.system('grep -c', '$1', 'your_template.html')\", \"np.einsum('ijk,ikl->ijl')\", \"np.einsum('Date')\", 'min(arr(range(arr)))', \"df.groupby.groupby('column_name', 'A', 'True')\", 'os.path.commonprefix(os.path)', \"re.findall('[', '')\", \"re.findall('{http://www.w3.org/2002/07/owl#}Class', '\\\\\\\\\\\\\\\\\\\\\\\\g<0>')\", \"re.findall('.{20}(.mkv)', '')\", \"re.findall('.{20}(.mkv)', '')\", \"re.findall('s', '\\\\\\\\1')\", 'plt.find_elements_by_xpath(\"//*[contains(text(), \\'My Button\\')] Button\\')]\",\\n    \\'â\\', \\'â\\')', \"os.system('somedirectory')\", 'parser.mktime(\"//div[@id=\\'a\\']//a[@class=\\'click\\']\")', \"df.merge('Cat1', '192.168.0.58', 'length')\", \"df.fillna('dummy', axis=1)\", \"pd.set_index('ratio', 'weekday', 'A')\", 'df.drop(df.groupby())', '[i for i in i]', 'a.concatenate(a)', 'a.concatenate(a)', \"int(set(s.split('aaabcabccd')))\", \"ax.set_title('$%s \\\\\\\\times 10^{%s}$ 10^{%s}$ 10^{%s}$')\", \"re.findall('\\\\\\\\$([^$]*)\\\\\\\\$', '\\\\\\\\1')\", 'list(zip(zip(range(x))))', '[i for i in v]', \"re.compile('\\\\\\\\bis\\\\\\\\b', '20M10000N80M')\", 'sorted(zip(iter(iter(zip(zip(b))))))', \"plt.savez('INSERT vmin', 'CHAR_LENGTH(text)', '2011-01-01')\", \"df.concat('col1', 'Credit_exp', 'B')\", \"df.date_range('1/1/2014', 'Credit_exp')\", \"df.date_range('col', '1', '\\\\\\\\(.*\\\\\\\\)')\", \"my_list.setdefault('1', 'b')\", '[i for i in i]', \"url(s.isdigit('utf8'))\", \"url(s.isdigit('utf8'))\", \"re.sub('', '', '', '', '')\", \"fh1.find_elements_by_xpath('div[id$=_answer]', 'ã', 'name', 'e')\", 'print(range(range(x)))', \"numpy.remove('test.csv')\", \"os.chdir('ls')\", \"str.sub('unicode_escape', '')\", \"re.sub('(\\\\\\\\bget\\\\\\\\b)', '*')\", 'zip(zip(l))', \"fig.set_clim('(?=(a.*?a))', '0')\", 'np.sqrt(np.isnull())', \"df.merge('filename.csv', 'saleid', 'A')\", \"pd.merge('filename.csv', 'weekday', 'Destination', 'B')\", \"re.findall('_(?:for|or|and)_', 'sad_pandas_and_happy_cats_for_people')\", \"os.listdir('%l:%M%p')\", 'csvwriter.xticks(\"{\\'muffin\\'\", \\'tom\\', \\'?\\')', 'map(set(x))', '\"\"\"\"\"\".join(x, s)', 'list(list(list(list(x))))', 'somelist.sort(key=lambda x: 0)', 'sorted(sorted(itertools.itemgetter()))', 'sorted(list(list(zip(zip(zip(my_list))))))', \"logging.call('%m/%d/%Y', 'person.name', 'app_name')\", \"ax.call('%m/%d/%Y', 'person.name', '%Y-%m-%d')\", \"ax.find_element_by_xpath('%m/%d/%Y', 'person.name', '3.5')\", \"re.findall('{http://www.w3.org/2002/07/owl#}Class', '.txt')\", \"df.groupby('column_name', axis='A')\", \"os.Popen('grep', 'grep', 'your_template.html')\", 'sorted(sorted(sorted(itemgetter(zip(zip(zip(itemgetter(L))))))))', \"s.split('s', '', ',')\", \"re.findall('[^0-9a-zA-Z]+', 'BDE')\", 'sorted(list(list(range(x))))', 'list(np.choice())', 'list(np.choice())', 'a.shape(a)', 'np.concat(a)', 'ax.find_elements_by_xpath(\\'SELECT\\', \\'\"\\\\\\\\1\"\\', \\'name\\')', \"s.split('=', s, s)\", \"writer.split('0', '')\", \"re.sub('\\\\\\\\*\\\\\\\\*+', '*', 'tight')\", \"re.sub('^(.+)\\\\\\\\n((?:\\\\\\\\n.+)+)', '')\", \"df.loc('BrandName', 'A')\", 'sorted(list(list(operator.items())))', 'dict(list(d.keys()))', 'sorted(iter(list(list(list(list(list(v)))))))', \"s.replace('')\", 'map(s)', 'map(set(set(range(i))))', \"ax.strftime('%Y-%m-%d', '%Y/%m/%d')\", \"ax.strftime('%Y-%m-%d', '%Y/%m/%d')\", 'sorted(list(x.groupby()))', \"re.findall('\\\\n', '')\", \"re.set_yticklabels('//*[contains(text(),', 'ã', 'â')\", \"pd.merge('c:/~/trainSetRel3.txt', 'year')\", \"time.inet_ntoa('(1,2,3,4)')\", 'list(zip(zip(b)))', '[x for x in j]', \"print(s.split('', '', '', '', '', '', '', '', '', '', '', '', '', '', '',\\n    '', '', '', '', '', '', '', '', '', '', '', '', '', '', '', '', '', '',\\n    '', '', '', '', '', '', '', '', '', '', '', '', '', '', '', '', '', '',\\n    '', '', '', '', '', '', '', '', '', '', '', '', None))\", \"re.findall('\\\\\\\\w+|[^\\\\\\\\w\\\\\\\\s]', '.avi', '')\", \"os.setlocale('cls')\", 'np.einsum(arr)', 'a.sort(x)', \"os.system('chapter3')\", \"subprocess.system('%Y-%m-%d', '587')\", 'os.path.now(path)', \"df.apply('A', axis='B')\", \"ax.strftime('%m/%d/%Y', '%Y-%m-%d')\", \"requests.call('INSERT', './uireplace.pl', './uireplace.pl')\", 'df.groupby(np.groupby())', \".sub('', '')\", 'length(set(x))', 'print(max(a_list))', \"os.load('aa!')\", 'sorted(list(d.items()))', \"os.system('path')\", \"df.merge('ij,kj->jik', 'A', **1)\", \"s.chain('aaabcabccd').key()\", 'list(list(list(list(data))))', \"df.concat('A', 'A', 'B')\", 'print(print(d.items()))', \"plt.parse('test')\", \"re.findall('((?:A|B|C)D)', 'BDE')\", \"cur.read_csv('INSERT INTO table date__range')\", \"re.findall('11B', '')\", \"ax.strftime('%B')\", 'sorted(list(d.items()))', 'sorted(zip(zip(d.items())))', 'sorted(list(list(d.items())))', 'sorted(zip(zip(zip(zip(zip(zip(l1)))))))', \"soup.findAll('meta', 'name', 'name', 'name')\", \"df.concat('display.max_columns', 'b', '')\", \"s.strip('')\", 'map(a)', \"subprocess.rmtree('HTTP/1.0', 'r')\", \"np.sample('\\\\x00\\\\x00\\\\x80?\\\\x00\\\\x00\\\\x00@\\\\x00\\\\x00@@\\\\x00\\\\x00\\\\x80@')\", \"np.sample('\\\\x00\\\\x00\\\\x80?\\\\x00\\\\x00\\\\x00@\\\\x00\\\\x00@@\\\\x00\\\\x00\\\\x80@')\", \"np.sample('\\\\x00\\\\x00\\\\x80?\\\\x00\\\\x00\\\\x00@\\\\x00\\\\x00@@\\\\x00\\\\x00\\\\x80@')\", \"np.sample('\\\\x00\\\\x00\\\\x80?\\\\x00\\\\x00\\\\x00@\\\\x00\\\\x00@@\\\\x00\\\\x00\\\\x80@')\", \"np.sample('\\\\x00\\\\x00\\\\x80?\\\\x00\\\\x00\\\\x00@\\\\x00\\\\x00@@\\\\x00\\\\x00\\\\x80@')\", 'print(set(x))', 'print(set(x))', '[i for i in j]', '[x for x in y]', 'len(list(list(range(range(range(range(x)))))))', 'map(set(s.chain()))', \"soup.find_all('[', '', '')\", 'sorted(list(list(cityPopulation.items())))', 'len(list(range(range(x))))', 'sorted(set(range(list2d)))', 'min(arr(arr))', \"os.system('path')\", \"socket.sample('a.b.c')\", 'print(max(x))', 'print(myArray)', \"pd.date_range('1/1/2014', '6,7)', 'name')\", \"cursor.execute('INSERT INTO table VALUES +0900')\", \"cursor.execute('INSERT INTO table VALUES +0900')\", 'sorted(list(range(range(range(range(range(array)))))))', 'list(range(range(range(x))))', \"cursor.execute('INSERT INTO 10^{%s}$ 10^{%s}$')\", \"cursor.execute('INSERT INTO REPLACE date__range date__range 10^{%s}$')\", \"encode(map(d.chain('\\\\t')))\", 'dict(list(d.items()))', 'sorted(list(list(d.items())))', 'sorted(list(list(d.items())))', 'sorted(list(list(d.items())))', \"pd.concat('item3', 'd', 'd', 'd')\", 're.sub(\\'\\\\\\\\[[^\\\\\\\\]]*\\\\\\\\]|\\\\\\\\([^\\\\\\\\)]*\\\\\\\\)|\"[^\"]*\"|\\\\\\\\S+\\', \\'\\')', \"re.sub('(.)(?=.)')\", 'df.fillna([[[[]]]])', \"plt.find_element_by_xpath('https://kennethreitz.com',\\n    'http://example.org/#comments')\", \"map(set(item.split('aaabcabccd')))\", \"subprocess.call('(ddd)', 'file.gz')\", 'df.sqrt(arr, axis=lambda x: 1)', \"re.setdefaultencoding('0xdeadbeef')\", \"print(map(itertools.product('0')))\", \"plt.find_elements_by_xpath('(?=(a.*?a))', '6,7)')\", '[i for i in i]', 'map(iter(itertools.split()))', 'next(list(d.items()))', \"re.findall('Test(.*)print', '<markup>\\\\\\\\1</markup>', 'this', 'this', 'this',\\n    'this')\", \"re.findall('(?m)^[^\\\\\\\\S\\\\\\\\n]+', '*', '', '', '*')\", \"soup.findAll('div[id$=_answer]', 'name', 'name', 'name', 'name')\", \"re.findall('((?:A|B|C)D)', 'BDE')\", \"re.findall('filename.png', 'D:\\\\\\\\testdir', '')\", \"re.findall('<I')\", \"subprocess.system('zsh', 'rt')\", 'dict(zip(list(list(data))))', \"print(list(d.values('name')))\", 'average(zip(zip(zip(x))))', \"re.sub('unicode_escape', '')\", \"s.findall('\\\\\\\\')\", \"soup.read_csv('INSERT', './uireplace.pl')\", 'dict(list(list(list(LoD))))', \"fig.writerow('(?=(a.*?a))')\", \"os.exit('attr_name')\", \"os.exit('\\\\n')\", \"os.exit('\\\\n')\", \"os.exit('\\\\n')\", \"time.exit('\\\\n')\", 'sorted(list(x.items()))', 'print(list(d.items()))', \"a.append('b')\", 'append(list(list(list(range(range(range(l)))))))', '[x for x in a if a]', \"plt.find_all('[')\", 'np.sqrt([arr])', 'np.einsum(LIST)', \"soup.call('(ddd)', 'aaa', '✓')\", \".('')\", \"os.path.isfile(os.path, '/etc/password.txt')\", \"re.sub('\\\\\\\\((\\\\\\\\w+)\\\\\\\\)', '*', '')\", \"re.findall('\\\\\\\\b[A-Z]', '', '')\", \"re.findall('(?<=[\\\\\\\\.\\\\\\\\?!])', 'sad_pandas_and_happy_cats_for_people')\", \"plt.call('window.scrollTo(0,', './uireplace.pl', '3.5')\", \"os.chdir('chapter3')\", 'zip(zip(list_of_tuples))', \"pd.set_option('a', '')\", \"float.float('\\\\n')\", 'sorted(sorted(x.itemgetter()))', \"requests.call('test.sh', './uireplace.pl', 'width=300px;')\", \"os.datetime.now('echo')\", 'dict(d)', 'dict(list(list(list(LoD))))', \"df.dataframe('25', 'b', 'True', 'True')\", \"np.sqrt(np.groupby('A'))\", \".('')\", \"writer.add_subplot('...j,...j->...', '^.{254}.*', '?')\", \"re.draw_networkx_labels('(ddd)', 'aaa', '✓')\", \"re.implicitly_wait('[', 'http://example.org/#comments')\", \"df.loc('filename.csv', 'saleid')\", \"re.findall('(?m)^[^\\\\\\\\S\\\\\\\\n]+', '*')\", 'map(i)', 'map(l)', 'length(l)', \"time.sleep('test.csv')\", \"sys.remove('\\\\n')\", \"re.sub('[\\\\\\\\')\", \"dict(d.iter('b', 'b', 'b', 'b', 'b', 'b', 'd', 'd', 'd', 'd', 'd', 'd', 'd',\\n    ',', ',', ',', ',', ',', ',', ',', ',', ',', ',', ',', ',', ',', ',',\\n    ',', ',', ',', ',', ',', ',', ',', ',', ',', ',', ',', ',', ',', ',',\\n    ',', ',', ',', ',', ',', ',', ',', ',', ',', ',', ',', ',', ',', ',',\\n    ',', ',', ','))\", \"os.system('chapter3')\", \"pd.pivot_table('col', 'Credit_exp', 'y')\", 'np.sort(key=lambda x: x[0])', 'np.sort(key=lambda x: x[0])', 'a.append(key=lambda x: x[x])', 'a.concatenate(x.isnan())', 'a.concatenate(x.isnan())', 'a.concatenate(x.isnan())', 'a.concatenate(x.isnan())', 'ax.get(\\'INSERT\\', \\'Current realm=\"test\"\\')', \"df.fillna('column_name', how='False')\", \"time.exit('log')\", \"os.listdir('/home/username/www/')\", \"ax.strftime('INSERT otherfunc -0400 1:33PM', '%Y/%m/%d')\", 'sorted(Matrix(arr(np.arange())))', 'list(zip(zip(itertools.itemgetter())))', 'list(zip(zip(itertools.itemgetter())))', \"subprocess.call('grep /im', 'file2.txt', 'app_name')\", \"df.to_csv('column_name', 'ffill')\", \"re.compile('^(.+)\\\\\\\\n((?:\\\\\\\\n.+)+)', '*')\", \"df.sample('ijk,ikl->ijl')\", \"os.system('window.scrollTo(0,', '$1', 'neededArgumetGoHere')\", \"pd.set_index('Apple', 'American', 'class', 'section', 'section')\", 'len(range(range(x)))', 'sorted(range(range(range(my_list))))', \"parser.info('monkey', 'http://example.org/#comments')\", \"os.strip('\\\\n')\", \"df.fillna('A', axis='A')\", \"df.groupby('column_name', level='A')\", 'max(zip(lst))', 'len(pop)', \"os.unpack('\\\\n')\", \"os.unpack('\\\\n')\", \"os.unpack('\\\\n')\", \"os.unpack('\\\\n')\", \"my_string.translate('\\\\n')\", 'map(set(range(range(i))))', \"os.Popen('file.txt', 'file2.txt')\", \"numpy.join('a', '')\", 'sorted(list(x.items()))', \"plt.parse('test.csv')\", \"re.set_yticklabels('//*[contains(text(),', 'MyStringHere', 'â')\", \"re.findall('_(?:for|or|and)_', 'MyStringHere', 'â')\", \"re.findall('//*[contains(text(),', 'ã')\", \"re.findall('.{20}(.mkv)', '\\\\\\\\1')\", \"df.groupby('column_name', 'ffill', axis='True')\", \"csvwriter.writerow('name', 'name', '2')\", \"re.findall('11B')\", \"list(s.chain('\\\\\\\\'))\", \"sys.setlocale('utf8')\", \"cur.find_elements_by_xpath('grade', 'name', 'name', 'name')\", \"os.chdir('chapter3')\", \"os.chdir('chapter3')\", \"os.chdir('chapter3')\", \"df.drop('-', axis='True')\", 'json.sample(\"//*[@type=\\'submit\\']/@value\")', 'json.sample(\"//*[@type=\\'submit\\']/@value\")', 'json.sample(\"//*[@type=\\'submit\\']/@value\")', '[x for i in x if x]', \"re.findall('script2.py', 'D:\\\\\\\\testdir', 'name')\", 'print(zip(i))', \"re.findall('filename.png', '/r', 'app_name')\", \"s.lstrip('s', '', 's', 's', 's', 's', 's', 's', 's', 's', 's', 's', 's',\\n    's', 's', 's')\", 'zip(zip(lst))', 'min(zip(x))', \"parser.info('date=%s', 'banana')\", 'sorted(sorted(x.itemgetter()))', 'sorted(list(d.items()))', \"df.to_csv('column_name', 'ffill')\", \"re.findall('property', '', '')\", \"plt.mktime('...j,...j->...', 'WWW-Authenticate', '12')\", 'cur.mogrify(\"{\\'muffin\\'\", \\'name\\', \\'name\\', \\'name\\')', \"pd.get('True', '*', 'True', 'True', 'True', 'True', 'True', 'True', 'True',\\n    'True', 'True', 'True', 'True', 'True', 'True', 'True', 'True', 'True',\\n    'True', 'True', 'True', 'True', 'True', 'True', 'True', 'True', 'True',\\n    'True', 'True', 'True', 'True', 'True', 'True', 'True', 'True', 'True',\\n    'True', 'True', 'True', 'True', 'True', 'True', 'True', 'True', 'True',\\n    'True', 'True', 'True', 'True', 'True', 'True', 'True', 'True', 'True',\\n    'True', 'True', 'True', 'True', 'True', 'True', 'True', 'True', 'True',\\n    'True', None)\", \"driver.find_element_by_xpath('window.scrollTo(0,', 'person.name', '3.5')\", \"re.sub('utf-8')\", \"re.findall('[^a-zA-Z0-9-_*.]')\", \"int(s.isdigit(''))\", \"re.sub('\\\\\\\\b(?:b+a)+b+\\\\\\\\b', '', '')\", 'sorted(sorted(operator.attrgetter()))', \"ax.execute('INSERT', '192.168.0.58', '3.5')\", 'map(int(map(x)))', 'print(range(range(x)))', 'sorted(iter(iter(list(zip(zip(zip(zip(zip(v)))))))))', 'sorted(list(d.items()))', 'dict(zip(zip(list(zip(zip(zip(zip(zip(v)))))))))', 'dict(zip(zip(list(zip(zip(zip(zip(zip(v)))))))))', \"df.fillna('A', how='A')\", 'mydic.create_text([x])', \"np.set_clim('...j,...j->...', 0)\", \"ax.headers('%B', 'Greys_r')\", \"calendar.writerows('property', 0)\", 'int(set(range(i)))', 'sorted(sorted(operator.items()))', \"logging.read_csv('INSERT', '')\", 'plt.findall(\\'//*[contains(text(),\\', \\'\"\\\\\\\\1\"\\', \\'title\\')', \"con.exit('log')\", \"re.sub('')\", 'np.sqrt(arr)', \"ax.execute('INSERT INTO table +0900')\", \"ax.find_element_by_xpath('INSERT', 'Basic')\", \"s.split('s', '', '', '', ',', ',', ',', ',')\", \"re.compile('chapter3', 'BDE')\", \"re.sub('\\\\\\\\*\\\\\\\\*+', '', '')\", 'dict(d)', \"subprocess.system('HTTP/1.0')\", \"os.system('%Y-%m-%d -c')\", \"os.system('words.txt')\", 's.rfind().&', 'plt.find_elements_by_xpath(\"//*[contains(text(), \\'My Button\\')]\")', \"re.findall('\\\\\\\\d+(?=[^[]+$)', '*')\", \"re.compile('_(?:for|or|and)_', 'sad_pandas_and_happy_cats_for_people')\", \"datetime.call('some_command')\", 'sorted(zip(operator.itemgetter()))', \"writer.writerow('...j,...j->...', 0)\", \"datetime.strftime('%B')\", '[i for i in i]', \"a.a('a')\", \"os.Popen('grep -c', 'neededArgumetGoHere', 'stdout')\", 'np.concatenate(a)', 'None.()', \"re.sub('#(\\\\\\\\w+)', '<markup>\\\\\\\\1</markup>', 'this')\", \"re.sub(',', '', '', '')\", \"os.Popen('file.txt', 'file2.txt')\", 'sum(zip(zip(x)))', \"a.('a')\"]\n"
     ]
    }
   ],
   "source": [
    "import json\n",
    "\n",
    "ground_truth = []\n",
    "for e in test_data:\n",
    "    ground_truth.append(e['snippet'])\n",
    "\n",
    "# model.eval()\n",
    "cnt = 1\n",
    "code_list = []\n",
    "import time\n",
    "import dataset.util as U\n",
    "# import dataset.bleu_score as bleu\n",
    "# import nltk.translate as bleu\n",
    "from nltk.translate.bleu_score import sentence_bleu, SmoothingFunction\n",
    "t0 = time.time()\n",
    "test_loader = P.get_test_loader(test_intent, word2num, batch_size=1)\n",
    "for ind, (sample_sent, sample_sent_txt) in enumerate(test_loader):\n",
    "    t1 = time.time()\n",
    "    sample_hypothesis = model.parse(sample_sent, sample_sent_txt, act_lst, token_lst, ast_action, decode_method='greedy')\n",
    "    try:\n",
    "        code = ast_action.actions2code(sample_hypothesis.actions)\n",
    "    except:\n",
    "        code = ' '\n",
    "    code_list.append(code)\n",
    "    t2 = time.time()\n",
    "    print('----------------------answer {}, this one cost {}s, total cost {}s'.format(cnt, t2 - t1, t2 - t0))\n",
    "    print('my code:   ', code)\n",
    "    print('ground truth:   ', ground_truth[ind])\n",
    "    code_token_list = U.tokenize_for_bleu_eval(code)\n",
    "    target_token_list = U.tokenize_for_bleu_eval(ground_truth[ind])\n",
    "\n",
    "    # First argument should be list of list of words from ground truth (in our case only one ground truth)\n",
    "    # Second argument should be our prediction, and it's a list of word\n",
    "    bleu = sentence_bleu([target_token_list],\n",
    "                             code_token_list)\n",
    "    print('bleu socre {}'.format(bleu))\n",
    "    cnt = cnt + 1\n",
    "print(code_list)\n",
    "with open('./answer.txt', 'w') as outfile:\n",
    "    json.dump(code_list, outfile, indent=1)\n"
   ]
  },
  {
   "cell_type": "code",
   "execution_count": null,
   "metadata": {},
   "outputs": [],
   "source": [
    ""
   ]
  },
  {
   "cell_type": "code",
   "execution_count": 40,
   "metadata": {},
   "outputs": [],
   "source": [
    "outfile.close()"
   ]
  },
  {
   "cell_type": "code",
   "execution_count": 42,
   "metadata": {},
   "outputs": [
    {
     "data": {
      "text/plain": [
       "[\"os.system('%Y-%m-%d -c')\",\n \"webbrowser.listdir('log', 'libs')\",\n 'map(lst)',\n \"re.findall('filename.png', 'D:\\\\\\\\testdir', '', 'title')\",\n \"re.replace('')\",\n 'dict(list(d.values()))',\n 'dict(list(d.values()))',\n \"subprocess.set_title('script2.py', '$%s', 'neededArgumetGoHere', '+20')\",\n \"a.concatenate('b')\",\n \"np.einsum('ij,kj->jik', 'b')\",\n \"ax.set_xlabel('Temperature')\",\n \"plt.parse('a', '')\",\n \"re.findall('{http://www.w3.org/2002/07/owl#}Class', '3.1415', '')\",\n \"re.findall('filename.png', '*', 'this')\",\n 'concatenate(concatenate(zip(b)))',\n \"re.findall('_(?:for|or|and)_', 'sad_pandas_and_happy_cats_for_people', 'Python'\\n    )\",\n 'sorted(zip(arr))',\n \"dparser.urldefrag('monkey')\",\n 'items(set(a))',\n \"subprocess.system('grep -c', 'rt', 'some.file')\",\n 're.findall(\"//a[starts-with(text(),\\'some\", \\'http://example.org/#comments\\', \\'\\')',\n \"s.import_module('11B', 'a.b')\",\n \".findall('11B', '')\",\n \"plt.info('log')\",\n \"re.findall('#(\\\\\\\\w+)', '\\\\\\\\\\\\\\\\\\\\\\\\g<0>')\",\n \"os.system('%Y-%m-%d')\",\n \"soup.find_all('#(\\\\\\\\w+)', 'person.name', 'width=300px;')\",\n \"soup.find_elements_by_xpath('\\\\\\\\d|\\\\\\\\d,\\\\\\\\d\\\\\\\\)', 'name', 'â')\",\n \"app.get('log', 'surrogatepass')\",\n \"plt.parse('\\\\\\\\W+', 'Words,')\",\n \"soup.findall('#(\\\\\\\\w+)', 'person.name', 'name')\",\n \"ax.set_title('window.scrollTo(0,', '$%s', '3.5')\",\n 'd = d.items()',\n \"cur.execute('INSERT INTO REPLACE master.table1', 'SELECT', 'my_column', 'n/a')\",\n \"re.translate('', '')\",\n \"sys.exit('.button .c_button .s_button')\",\n \"re.call('grep', 'aaa')\",\n \"json.load('\\\\n')\",\n \"plt.set_clim('...j,...j->...', 0, 0)\",\n 'print(range(arr))',\n \"re.sub('', '')\",\n 'np.shape(a)',\n 'zip(zip(zip(l)))',\n \"time.unpack('monkey')\",\n 'dict(dict_test, v)',\n 'os.path.dirname()',\n \"map(s.</primitive>('=', 'b', 'd', 'd', 'd', 'd', 'd', 'd', 'd', 'd', 'd',\\n    'd', 'd', 'd', 'd', 'd', 'd', 'd', 'd', 'd', 'd', 'd', 'd', 'd', 'd',\\n    'd', 'd', 'd', 'd', 'd', 'd', 'd', 'd', 'd', 'd', 'd', 'd', 'd', 'd',\\n    'd', 'd', 'd', 'd', 'd', 'd', 'd', 'd', 's', 's', 's', 's', 's', 's',\\n    's', 's', 's', 's', 's', 's', 's', 's', 's', 's', None))\",\n 'map(itertools.product(0))',\n 'np.sample(arr)',\n \"re.__class__('^([^A]*)AA([^A]|AA)*$', 'sad_pandas_and_happy_cats_for_people')\",\n 'print(set(a))',\n 're.savefig(\\'filename.png\\', \\'\"\\\\\\\\1\"\\', \\'-l\\', \\'.\\', \\'.\\', \\'.\\')',\n \"datetime.datetime.strptime('%Y-%m-%d')\",\n \"7.7('test.csv')\",\n 'sum(zip(x))',\n 'np.columns(axis=1)',\n \"re.findall('{http://www.w3.org/2002/07/owl#}Class', '\\\\\\\\\\\\\\\\\\\\\\\\g<0>')\",\n 'dict(iter(d))',\n 'dict(zip(d))',\n 'print(set(x))',\n 'dict(list(list(list(d))))',\n \"os.path.path('/usr/var')\",\n \"re.call('somedirectory', 'libs')\",\n 'np.dumps(mask)',\n 'scatter(range(range(range(array))))',\n 'numpy.concatenate(a)',\n '[i for i in x]',\n \"df.set_index.groupby('mycsv.csv')\",\n \"df.to_csv('-', 'mycsv.csv')\",\n \"print(s.split('=', ',', ','))\",\n \"re.sub('\\\\\\\\bis\\\\\\\\b', '*')\",\n \"ax.strftime('%B')\",\n \"re.compile('my_script.sh', '*')\",\n 'min(Matrix(arr))',\n 'print(zip(zip(student_tuples)))',\n 'if some_string:',\n \"os.load('\\\\n')\",\n 'sorted(list(list(itemgetter(itemgetter(itemgetter(tuple(tuple(tuple(tuple(\\n    mylist))))))))))',\n \"plt.find_element_by_xpath('...j,...j->...', 'utf-16')\",\n \"subprocess.set_title('source', './uireplace.pl', './uireplace.pl', '+20', '+20'\\n    )\",\n \"df.read_csv('a', '', '', '')\",\n \"quadmesh.set_clim('...j,...j->...', 'name', '?')\",\n 'df.concat(df.groupby())',\n \"soup.find_all('test.sh', 'utf-16', 'utf-16')\",\n \"ax.call('2009/05/13', './uireplace.pl', '3.5')\",\n \"subprocess.system('%Y-%m-%d')\",\n 'map(zip(zip(L)))',\n '[map(i, i) for i in l]',\n 'map(zip(zip(zip(L))))',\n \"re.sub('file.txt', '*', 'w', '1')\",\n \"writer.writerow('3M', '2')\",\n \"re.sub('', '')\",\n \"df.set_option('Date', 'b', '', '')\",\n \"re.findall('Test(.*)print', '', '', '', '', '', '', '', '.', '.', '.', '.',\\n    '.', '.', '.', '.', '.', '.', '.', '.', '.', '.', '.', '.', '.', '.',\\n    '.', '.', '.', '.', '.', '.', '.', '.', '.', '.', '.', '.', '.', '.',\\n    '.', '.', '.', '.', '.', '.', '.', '.', '.', '.', '.', '.', '.', '.',\\n    '.', '.', '.', '.', '.', '.', '.', '.', '.', '.', None)\",\n \"soup.find_all('[', '', '')\",\n \"re.findall('\\\\\\\\*+', '*', '*')\",\n \"os.open('file.txt')\",\n 'os.exit(\"//div[@id=\\'a\\']//a[@class=\\'click\\']\", \\'-jar\\')',\n '[x for x in x]',\n \"re.sub('\\\\\\\\*\\\\\\\\*+', '*')\",\n \"re.findall('(?:\\\\\\\\w+(?:\\\\\\\\s+\\\\\\\\w+)*,\\\\\\\\s)+(?:\\\\\\\\w+(?:\\\\\\\\s\\\\\\\\w+)*)', '*')\",\n \"cur.date_range('1/1/2014', 'name', 'name')\",\n \"cur.date_range('1/1/2014', 'name', 'name')\",\n 'dict(dicts)',\n 'print(range(range(range(x))))',\n '100(set(x))',\n \"driver.find_element_by_xpath('//*[contains(text(),', 'hi.json', '3.5')\",\n \"df.df.value_counts('my.csv', 'A', 'Male', 'Male')\",\n \"logging.call('(ddd)', 'aaa', '')\",\n \".translate('')\",\n \"re.findall('^([^A]*)AA([^A]|AA)*$', '*')\",\n \"re.findall('^([^A]*)AA([^A]|AA)*$', 'sad_pandas_and_happy_cats_for_people')\",\n \"re.findall('^([^A]*)AA([^A]|AA)*$', 'sad_pandas_and_happy_cats_for_people')\",\n \"re.findall('^([^A]*)AA([^A]|AA)*$', 'sad_pandas_and_happy_cats_for_people')\",\n \"re.sub('\\\\\\\\*\\\\\\\\*+', '')\",\n \"re.sub('', '')\",\n \"calendar.monthrange('2008', 2)\",\n \"ax.strftime('INSERT \\\\\\\\times -0400')\",\n 'dict(dicts)',\n \"calendar.monthrange('2008', 2)\",\n 'df.concat(df.groupby())',\n \"os.chdir('some_command')\",\n 'max(max(l))',\n 'count(l)',\n 'count(l)',\n 'count(l)',\n 'max(max(l))',\n \"os.system('/bin/bash -c')\",\n \"data.count_nonzero('Date', 'C', 'B', 'B', '6')\",\n 'dict(zip(d))',\n '[k for x in v]',\n \"os.listdir('somedirectory')\",\n \"df.concat('a', 'b', 'b', 'b', 'b')\",\n 'd = d.items()',\n \"df.merge('Cat1', '192.168.0.58', 'three')\",\n 'merge(range(range(x)))',\n \"numpy.apply_along_axis('a')\",\n 'df.drop(df.square())',\n 'map(lst)',\n 'map(set(set(set(L))))',\n 'len(x)',\n \"os.system('grep -c', '$1', 'your_template.html')\",\n \"np.einsum('ijk,ikl->ijl')\",\n \"np.einsum('Date')\",\n 'min(arr(range(arr)))',\n \"df.groupby.groupby('column_name', 'A', 'True')\",\n 'os.path.commonprefix(os.path)',\n \"re.findall('[', '')\",\n \"re.findall('{http://www.w3.org/2002/07/owl#}Class', '\\\\\\\\\\\\\\\\\\\\\\\\g<0>')\",\n \"re.findall('.{20}(.mkv)', '')\",\n \"re.findall('.{20}(.mkv)', '')\",\n \"re.findall('s', '\\\\\\\\1')\",\n 'plt.find_elements_by_xpath(\"//*[contains(text(), \\'My Button\\')] Button\\')]\",\\n    \\'â\\', \\'â\\')',\n \"os.system('somedirectory')\",\n 'parser.mktime(\"//div[@id=\\'a\\']//a[@class=\\'click\\']\")',\n \"df.merge('Cat1', '192.168.0.58', 'length')\",\n \"df.fillna('dummy', axis=1)\",\n \"pd.set_index('ratio', 'weekday', 'A')\",\n 'df.drop(df.groupby())',\n '[i for i in i]',\n 'a.concatenate(a)',\n 'a.concatenate(a)',\n \"int(set(s.split('aaabcabccd')))\",\n \"ax.set_title('$%s \\\\\\\\times 10^{%s}$ 10^{%s}$ 10^{%s}$')\",\n \"re.findall('\\\\\\\\$([^$]*)\\\\\\\\$', '\\\\\\\\1')\",\n 'list(zip(zip(range(x))))',\n '[i for i in v]',\n \"re.compile('\\\\\\\\bis\\\\\\\\b', '20M10000N80M')\",\n 'sorted(zip(iter(iter(zip(zip(b))))))',\n \"plt.savez('INSERT vmin', 'CHAR_LENGTH(text)', '2011-01-01')\",\n \"df.concat('col1', 'Credit_exp', 'B')\",\n \"df.date_range('1/1/2014', 'Credit_exp')\",\n \"df.date_range('col', '1', '\\\\\\\\(.*\\\\\\\\)')\",\n \"my_list.setdefault('1', 'b')\",\n '[i for i in i]',\n \"url(s.isdigit('utf8'))\",\n \"url(s.isdigit('utf8'))\",\n \"re.sub('', '', '', '', '')\",\n \"fh1.find_elements_by_xpath('div[id$=_answer]', 'ã', 'name', 'e')\",\n 'print(range(range(x)))',\n \"numpy.remove('test.csv')\",\n \"os.chdir('ls')\",\n \"str.sub('unicode_escape', '')\",\n \"re.sub('(\\\\\\\\bget\\\\\\\\b)', '*')\",\n 'zip(zip(l))',\n \"fig.set_clim('(?=(a.*?a))', '0')\",\n 'np.sqrt(np.isnull())',\n \"df.merge('filename.csv', 'saleid', 'A')\",\n \"pd.merge('filename.csv', 'weekday', 'Destination', 'B')\",\n \"re.findall('_(?:for|or|and)_', 'sad_pandas_and_happy_cats_for_people')\",\n \"os.listdir('%l:%M%p')\",\n 'csvwriter.xticks(\"{\\'muffin\\'\", \\'tom\\', \\'?\\')',\n 'map(set(x))',\n '\"\"\"\"\"\".join(x, s)',\n 'list(list(list(list(x))))',\n 'somelist.sort(key=lambda x: 0)',\n 'sorted(sorted(itertools.itemgetter()))',\n 'sorted(list(list(zip(zip(zip(my_list))))))',\n \"logging.call('%m/%d/%Y', 'person.name', 'app_name')\",\n \"ax.call('%m/%d/%Y', 'person.name', '%Y-%m-%d')\",\n \"ax.find_element_by_xpath('%m/%d/%Y', 'person.name', '3.5')\",\n \"re.findall('{http://www.w3.org/2002/07/owl#}Class', '.txt')\",\n \"df.groupby('column_name', axis='A')\",\n \"os.Popen('grep', 'grep', 'your_template.html')\",\n 'sorted(sorted(sorted(itemgetter(zip(zip(zip(itemgetter(L))))))))',\n \"s.split('s', '', ',')\",\n \"re.findall('[^0-9a-zA-Z]+', 'BDE')\",\n 'sorted(list(list(range(x))))',\n 'list(np.choice())',\n 'list(np.choice())',\n 'a.shape(a)',\n 'np.concat(a)',\n 'ax.find_elements_by_xpath(\\'SELECT\\', \\'\"\\\\\\\\1\"\\', \\'name\\')',\n \"s.split('=', s, s)\",\n \"writer.split('0', '')\",\n \"re.sub('\\\\\\\\*\\\\\\\\*+', '*', 'tight')\",\n \"re.sub('^(.+)\\\\\\\\n((?:\\\\\\\\n.+)+)', '')\",\n \"df.loc('BrandName', 'A')\",\n 'sorted(list(list(operator.items())))',\n 'dict(list(d.keys()))',\n 'sorted(iter(list(list(list(list(list(v)))))))',\n \"s.replace('')\",\n 'map(s)',\n 'map(set(set(range(i))))',\n \"ax.strftime('%Y-%m-%d', '%Y/%m/%d')\",\n \"ax.strftime('%Y-%m-%d', '%Y/%m/%d')\",\n 'sorted(list(x.groupby()))',\n \"re.findall('\\\\n', '')\",\n \"re.set_yticklabels('//*[contains(text(),', 'ã', 'â')\",\n \"pd.merge('c:/~/trainSetRel3.txt', 'year')\",\n \"time.inet_ntoa('(1,2,3,4)')\",\n 'list(zip(zip(b)))',\n '[x for x in j]',\n \"print(s.split('', '', '', '', '', '', '', '', '', '', '', '', '', '', '',\\n    '', '', '', '', '', '', '', '', '', '', '', '', '', '', '', '', '', '',\\n    '', '', '', '', '', '', '', '', '', '', '', '', '', '', '', '', '', '',\\n    '', '', '', '', '', '', '', '', '', '', '', '', None))\",\n \"re.findall('\\\\\\\\w+|[^\\\\\\\\w\\\\\\\\s]', '.avi', '')\",\n \"os.setlocale('cls')\",\n 'np.einsum(arr)',\n 'a.sort(x)',\n \"os.system('chapter3')\",\n \"subprocess.system('%Y-%m-%d', '587')\",\n 'os.path.now(path)',\n \"df.apply('A', axis='B')\",\n \"ax.strftime('%m/%d/%Y', '%Y-%m-%d')\",\n \"requests.call('INSERT', './uireplace.pl', './uireplace.pl')\",\n 'df.groupby(np.groupby())',\n \".sub('', '')\",\n 'length(set(x))',\n 'print(max(a_list))',\n \"os.load('aa!')\",\n 'sorted(list(d.items()))',\n \"os.system('path')\",\n \"df.merge('ij,kj->jik', 'A', **1)\",\n \"s.chain('aaabcabccd').key()\",\n 'list(list(list(list(data))))',\n \"df.concat('A', 'A', 'B')\",\n 'print(print(d.items()))',\n \"plt.parse('test')\",\n \"re.findall('((?:A|B|C)D)', 'BDE')\",\n \"cur.read_csv('INSERT INTO table date__range')\",\n \"re.findall('11B', '')\",\n \"ax.strftime('%B')\",\n 'sorted(list(d.items()))',\n 'sorted(zip(zip(d.items())))',\n 'sorted(list(list(d.items())))',\n 'sorted(zip(zip(zip(zip(zip(zip(l1)))))))',\n \"soup.findAll('meta', 'name', 'name', 'name')\",\n \"df.concat('display.max_columns', 'b', '')\",\n \"s.strip('')\",\n 'map(a)',\n \"subprocess.rmtree('HTTP/1.0', 'r')\",\n \"np.sample('\\\\x00\\\\x00\\\\x80?\\\\x00\\\\x00\\\\x00@\\\\x00\\\\x00@@\\\\x00\\\\x00\\\\x80@')\",\n \"np.sample('\\\\x00\\\\x00\\\\x80?\\\\x00\\\\x00\\\\x00@\\\\x00\\\\x00@@\\\\x00\\\\x00\\\\x80@')\",\n \"np.sample('\\\\x00\\\\x00\\\\x80?\\\\x00\\\\x00\\\\x00@\\\\x00\\\\x00@@\\\\x00\\\\x00\\\\x80@')\",\n \"np.sample('\\\\x00\\\\x00\\\\x80?\\\\x00\\\\x00\\\\x00@\\\\x00\\\\x00@@\\\\x00\\\\x00\\\\x80@')\",\n \"np.sample('\\\\x00\\\\x00\\\\x80?\\\\x00\\\\x00\\\\x00@\\\\x00\\\\x00@@\\\\x00\\\\x00\\\\x80@')\",\n 'print(set(x))',\n 'print(set(x))',\n '[i for i in j]',\n '[x for x in y]',\n 'len(list(list(range(range(range(range(x)))))))',\n 'map(set(s.chain()))',\n \"soup.find_all('[', '', '')\",\n 'sorted(list(list(cityPopulation.items())))',\n 'len(list(range(range(x))))',\n 'sorted(set(range(list2d)))',\n 'min(arr(arr))',\n \"os.system('path')\",\n \"socket.sample('a.b.c')\",\n 'print(max(x))',\n 'print(myArray)',\n \"pd.date_range('1/1/2014', '6,7)', 'name')\",\n \"cursor.execute('INSERT INTO table VALUES +0900')\",\n \"cursor.execute('INSERT INTO table VALUES +0900')\",\n 'sorted(list(range(range(range(range(range(array)))))))',\n 'list(range(range(range(x))))',\n \"cursor.execute('INSERT INTO 10^{%s}$ 10^{%s}$')\",\n \"cursor.execute('INSERT INTO REPLACE date__range date__range 10^{%s}$')\",\n \"encode(map(d.chain('\\\\t')))\",\n 'dict(list(d.items()))',\n 'sorted(list(list(d.items())))',\n 'sorted(list(list(d.items())))',\n 'sorted(list(list(d.items())))',\n \"pd.concat('item3', 'd', 'd', 'd')\",\n 're.sub(\\'\\\\\\\\[[^\\\\\\\\]]*\\\\\\\\]|\\\\\\\\([^\\\\\\\\)]*\\\\\\\\)|\"[^\"]*\"|\\\\\\\\S+\\', \\'\\')',\n \"re.sub('(.)(?=.)')\",\n 'df.fillna([[[[]]]])',\n \"plt.find_element_by_xpath('https://kennethreitz.com',\\n    'http://example.org/#comments')\",\n \"map(set(item.split('aaabcabccd')))\",\n \"subprocess.call('(ddd)', 'file.gz')\",\n 'df.sqrt(arr, axis=lambda x: 1)',\n \"re.setdefaultencoding('0xdeadbeef')\",\n \"print(map(itertools.product('0')))\",\n \"plt.find_elements_by_xpath('(?=(a.*?a))', '6,7)')\",\n '[i for i in i]',\n 'map(iter(itertools.split()))',\n 'next(list(d.items()))',\n \"re.findall('Test(.*)print', '<markup>\\\\\\\\1</markup>', 'this', 'this', 'this',\\n    'this')\",\n \"re.findall('(?m)^[^\\\\\\\\S\\\\\\\\n]+', '*', '', '', '*')\",\n \"soup.findAll('div[id$=_answer]', 'name', 'name', 'name', 'name')\",\n \"re.findall('((?:A|B|C)D)', 'BDE')\",\n \"re.findall('filename.png', 'D:\\\\\\\\testdir', '')\",\n \"re.findall('<I')\",\n \"subprocess.system('zsh', 'rt')\",\n 'dict(zip(list(list(data))))',\n \"print(list(d.values('name')))\",\n 'average(zip(zip(zip(x))))',\n \"re.sub('unicode_escape', '')\",\n \"s.findall('\\\\\\\\')\",\n \"soup.read_csv('INSERT', './uireplace.pl')\",\n 'dict(list(list(list(LoD))))',\n \"fig.writerow('(?=(a.*?a))')\",\n \"os.exit('attr_name')\",\n \"os.exit('\\\\n')\",\n \"os.exit('\\\\n')\",\n \"os.exit('\\\\n')\",\n \"time.exit('\\\\n')\",\n 'sorted(list(x.items()))',\n 'print(list(d.items()))',\n \"a.append('b')\",\n 'append(list(list(list(range(range(range(l)))))))',\n '[x for x in a if a]',\n \"plt.find_all('[')\",\n 'np.sqrt([arr])',\n 'np.einsum(LIST)',\n \"soup.call('(ddd)', 'aaa', '✓')\",\n \".('')\",\n \"os.path.isfile(os.path, '/etc/password.txt')\",\n \"re.sub('\\\\\\\\((\\\\\\\\w+)\\\\\\\\)', '*', '')\",\n \"re.findall('\\\\\\\\b[A-Z]', '', '')\",\n \"re.findall('(?<=[\\\\\\\\.\\\\\\\\?!])', 'sad_pandas_and_happy_cats_for_people')\",\n \"plt.call('window.scrollTo(0,', './uireplace.pl', '3.5')\",\n \"os.chdir('chapter3')\",\n 'zip(zip(list_of_tuples))',\n \"pd.set_option('a', '')\",\n \"float.float('\\\\n')\",\n 'sorted(sorted(x.itemgetter()))',\n \"requests.call('test.sh', './uireplace.pl', 'width=300px;')\",\n \"os.datetime.now('echo')\",\n 'dict(d)',\n 'dict(list(list(list(LoD))))',\n \"df.dataframe('25', 'b', 'True', 'True')\",\n \"np.sqrt(np.groupby('A'))\",\n \".('')\",\n \"writer.add_subplot('...j,...j->...', '^.{254}.*', '?')\",\n \"re.draw_networkx_labels('(ddd)', 'aaa', '✓')\",\n \"re.implicitly_wait('[', 'http://example.org/#comments')\",\n \"df.loc('filename.csv', 'saleid')\",\n \"re.findall('(?m)^[^\\\\\\\\S\\\\\\\\n]+', '*')\",\n 'map(i)',\n 'map(l)',\n 'length(l)',\n \"time.sleep('test.csv')\",\n \"sys.remove('\\\\n')\",\n \"re.sub('[\\\\\\\\')\",\n \"dict(d.iter('b', 'b', 'b', 'b', 'b', 'b', 'd', 'd', 'd', 'd', 'd', 'd', 'd',\\n    ',', ',', ',', ',', ',', ',', ',', ',', ',', ',', ',', ',', ',', ',',\\n    ',', ',', ',', ',', ',', ',', ',', ',', ',', ',', ',', ',', ',', ',',\\n    ',', ',', ',', ',', ',', ',', ',', ',', ',', ',', ',', ',', ',', ',',\\n    ',', ',', ','))\",\n \"os.system('chapter3')\",\n \"pd.pivot_table('col', 'Credit_exp', 'y')\",\n 'np.sort(key=lambda x: x[0])',\n 'np.sort(key=lambda x: x[0])',\n 'a.append(key=lambda x: x[x])',\n 'a.concatenate(x.isnan())',\n 'a.concatenate(x.isnan())',\n 'a.concatenate(x.isnan())',\n 'a.concatenate(x.isnan())',\n 'ax.get(\\'INSERT\\', \\'Current realm=\"test\"\\')',\n \"df.fillna('column_name', how='False')\",\n \"time.exit('log')\",\n \"os.listdir('/home/username/www/')\",\n \"ax.strftime('INSERT otherfunc -0400 1:33PM', '%Y/%m/%d')\",\n 'sorted(Matrix(arr(np.arange())))',\n 'list(zip(zip(itertools.itemgetter())))',\n 'list(zip(zip(itertools.itemgetter())))',\n \"subprocess.call('grep /im', 'file2.txt', 'app_name')\",\n \"df.to_csv('column_name', 'ffill')\",\n \"re.compile('^(.+)\\\\\\\\n((?:\\\\\\\\n.+)+)', '*')\",\n \"df.sample('ijk,ikl->ijl')\",\n \"os.system('window.scrollTo(0,', '$1', 'neededArgumetGoHere')\",\n \"pd.set_index('Apple', 'American', 'class', 'section', 'section')\",\n 'len(range(range(x)))',\n 'sorted(range(range(range(my_list))))',\n \"parser.info('monkey', 'http://example.org/#comments')\",\n \"os.strip('\\\\n')\",\n \"df.fillna('A', axis='A')\",\n \"df.groupby('column_name', level='A')\",\n 'max(zip(lst))',\n 'len(pop)',\n \"os.unpack('\\\\n')\",\n \"os.unpack('\\\\n')\",\n \"os.unpack('\\\\n')\",\n \"os.unpack('\\\\n')\",\n \"my_string.translate('\\\\n')\",\n 'map(set(range(range(i))))',\n \"os.Popen('file.txt', 'file2.txt')\",\n \"numpy.join('a', '')\",\n 'sorted(list(x.items()))',\n \"plt.parse('test.csv')\",\n \"re.set_yticklabels('//*[contains(text(),', 'MyStringHere', 'â')\",\n \"re.findall('_(?:for|or|and)_', 'MyStringHere', 'â')\",\n \"re.findall('//*[contains(text(),', 'ã')\",\n \"re.findall('.{20}(.mkv)', '\\\\\\\\1')\",\n \"df.groupby('column_name', 'ffill', axis='True')\",\n \"csvwriter.writerow('name', 'name', '2')\",\n \"re.findall('11B')\",\n \"list(s.chain('\\\\\\\\'))\",\n \"sys.setlocale('utf8')\",\n \"cur.find_elements_by_xpath('grade', 'name', 'name', 'name')\",\n \"os.chdir('chapter3')\",\n \"os.chdir('chapter3')\",\n \"os.chdir('chapter3')\",\n \"df.drop('-', axis='True')\",\n 'json.sample(\"//*[@type=\\'submit\\']/@value\")',\n 'json.sample(\"//*[@type=\\'submit\\']/@value\")',\n 'json.sample(\"//*[@type=\\'submit\\']/@value\")',\n '[x for i in x if x]',\n \"re.findall('script2.py', 'D:\\\\\\\\testdir', 'name')\",\n 'print(zip(i))',\n \"re.findall('filename.png', '/r', 'app_name')\",\n \"s.lstrip('s', '', 's', 's', 's', 's', 's', 's', 's', 's', 's', 's', 's',\\n    's', 's', 's')\",\n 'zip(zip(lst))',\n 'min(zip(x))',\n \"parser.info('date=%s', 'banana')\",\n 'sorted(sorted(x.itemgetter()))',\n 'sorted(list(d.items()))',\n \"df.to_csv('column_name', 'ffill')\",\n \"re.findall('property', '', '')\",\n \"plt.mktime('...j,...j->...', 'WWW-Authenticate', '12')\",\n 'cur.mogrify(\"{\\'muffin\\'\", \\'name\\', \\'name\\', \\'name\\')',\n \"pd.get('True', '*', 'True', 'True', 'True', 'True', 'True', 'True', 'True',\\n    'True', 'True', 'True', 'True', 'True', 'True', 'True', 'True', 'True',\\n    'True', 'True', 'True', 'True', 'True', 'True', 'True', 'True', 'True',\\n    'True', 'True', 'True', 'True', 'True', 'True', 'True', 'True', 'True',\\n    'True', 'True', 'True', 'True', 'True', 'True', 'True', 'True', 'True',\\n    'True', 'True', 'True', 'True', 'True', 'True', 'True', 'True', 'True',\\n    'True', 'True', 'True', 'True', 'True', 'True', 'True', 'True', 'True',\\n    'True', None)\",\n \"driver.find_element_by_xpath('window.scrollTo(0,', 'person.name', '3.5')\",\n \"re.sub('utf-8')\",\n \"re.findall('[^a-zA-Z0-9-_*.]')\",\n \"int(s.isdigit(''))\",\n \"re.sub('\\\\\\\\b(?:b+a)+b+\\\\\\\\b', '', '')\",\n 'sorted(sorted(operator.attrgetter()))',\n \"ax.execute('INSERT', '192.168.0.58', '3.5')\",\n 'map(int(map(x)))',\n 'print(range(range(x)))',\n 'sorted(iter(iter(list(zip(zip(zip(zip(zip(v)))))))))',\n 'sorted(list(d.items()))',\n 'dict(zip(zip(list(zip(zip(zip(zip(zip(v)))))))))',\n 'dict(zip(zip(list(zip(zip(zip(zip(zip(v)))))))))',\n \"df.fillna('A', how='A')\",\n 'mydic.create_text([x])',\n \"np.set_clim('...j,...j->...', 0)\",\n \"ax.headers('%B', 'Greys_r')\",\n \"calendar.writerows('property', 0)\",\n 'int(set(range(i)))',\n 'sorted(sorted(operator.items()))',\n \"logging.read_csv('INSERT', '')\",\n 'plt.findall(\\'//*[contains(text(),\\', \\'\"\\\\\\\\1\"\\', \\'title\\')',\n \"con.exit('log')\",\n \"re.sub('')\",\n 'np.sqrt(arr)',\n \"ax.execute('INSERT INTO table +0900')\",\n \"ax.find_element_by_xpath('INSERT', 'Basic')\",\n \"s.split('s', '', '', '', ',', ',', ',', ',')\",\n \"re.compile('chapter3', 'BDE')\",\n \"re.sub('\\\\\\\\*\\\\\\\\*+', '', '')\",\n 'dict(d)',\n \"subprocess.system('HTTP/1.0')\",\n \"os.system('%Y-%m-%d -c')\",\n \"os.system('words.txt')\",\n 's.rfind().&',\n 'plt.find_elements_by_xpath(\"//*[contains(text(), \\'My Button\\')]\")',\n \"re.findall('\\\\\\\\d+(?=[^[]+$)', '*')\",\n \"re.compile('_(?:for|or|and)_', 'sad_pandas_and_happy_cats_for_people')\",\n \"datetime.call('some_command')\",\n 'sorted(zip(operator.itemgetter()))',\n \"writer.writerow('...j,...j->...', 0)\",\n \"datetime.strftime('%B')\",\n '[i for i in i]',\n \"a.a('a')\",\n \"os.Popen('grep -c', 'neededArgumetGoHere', 'stdout')\",\n 'np.concatenate(a)',\n 'None.()',\n \"re.sub('#(\\\\\\\\w+)', '<markup>\\\\\\\\1</markup>', 'this')\",\n \"re.sub(',', '', '', '')\",\n \"os.Popen('file.txt', 'file2.txt')\",\n 'sum(zip(zip(x)))',\n \"a.('a')\"]"
      ]
     },
     "execution_count": 42,
     "metadata": {},
     "output_type": "execute_result"
    }
   ],
   "source": [
    "code_list"
   ]
  },
  {
   "cell_type": "code",
   "execution_count": null,
   "metadata": {},
   "outputs": [],
   "source": []
  }
 ],
 "metadata": {
  "kernelspec": {
   "display_name": "Python [conda env:Anaconda3]",
   "language": "python",
   "name": "conda-env-Anaconda3-py"
  },
  "language_info": {
   "codemirror_mode": {
    "name": "ipython",
    "version": 3
   },
   "file_extension": ".py",
   "mimetype": "text/x-python",
   "name": "python",
   "nbconvert_exporter": "python",
   "pygments_lexer": "ipython3",
   "version": "3.6.3"
  }
 },
 "nbformat": 4,
 "nbformat_minor": 2
}
