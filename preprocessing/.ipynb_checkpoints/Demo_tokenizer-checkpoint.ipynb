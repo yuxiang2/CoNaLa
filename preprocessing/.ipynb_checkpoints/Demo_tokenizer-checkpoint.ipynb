{
 "cells": [
  {
   "cell_type": "code",
   "execution_count": 1,
   "metadata": {},
   "outputs": [],
   "source": [
    "%load_ext autoreload\n",
    "%autoreload 2"
   ]
  },
  {
   "cell_type": "code",
   "execution_count": 2,
   "metadata": {
    "collapsed": true
   },
   "outputs": [],
   "source": [
    "from tokenizer import tokenize_intent, tokenize_code, canonicalize_code"
   ]
  },
  {
   "cell_type": "code",
   "execution_count": 3,
   "metadata": {},
   "outputs": [
    {
     "name": "stdout",
     "output_type": "stream",
     "text": [
      "['assign', 'int_0', 'and', 'float_0', 'to', 'var_0', 'and', 'var_1']\n",
      "{'var_0': 'a', 'var_1': 'b', 'int_0': '12', 'float_0': '3.4'}\n"
     ]
    }
   ],
   "source": [
    "intent = \"assign 12 and 3.4 to `a` and `b`\"\n",
    "intent_tokens, slot_map = tokenize_intent(intent)\n",
    "print(intent_tokens)\n",
    "print(slot_map)"
   ]
  },
  {
   "cell_type": "code",
   "execution_count": 5,
   "metadata": {},
   "outputs": [
    {
     "name": "stdout",
     "output_type": "stream",
     "text": [
      "['var_0', ',', 'var_1', '=', 'int_0', ',', 'float_0']\n"
     ]
    }
   ],
   "source": [
    "code = \"\"\"a,b=12,3.4\"\"\"\n",
    "code_tokens = tokenize_code(code, slot_map)\n",
    "print(code_tokens)"
   ]
  },
  {
   "cell_type": "code",
   "execution_count": 6,
   "metadata": {
    "collapsed": true
   },
   "outputs": [],
   "source": [
    "def sub_slotmap(tokens, slot_map):\n",
    "    # replace slot maps\n",
    "    for i in range(len(tokens)):\n",
    "        if tokens[i] in slot_map:\n",
    "            value = slot_map[tokens[i]]\n",
    "            tokens[i] = value\n",
    "\n",
    "        elif len(tokens[i]) > 2 and tokens[i][1:-1] in slot_map:\n",
    "            value = slot_map[tokens[i][1:-1]]\n",
    "            quote = tokens[i][0]\n",
    "            tokens[i] = quote + value + quote\n",
    "\n",
    "        elif len(tokens[i]) > 6 and tokens[i][3:-3] in slot_map:\n",
    "            value = slot_map[tokens[i][3:-3]]\n",
    "            quote = tokens[i][0:3]\n",
    "            tokens[i] = quote + value + quote\n",
    "            \n",
    "    return ' '.join(tokens)"
   ]
  },
  {
   "cell_type": "code",
   "execution_count": 7,
   "metadata": {},
   "outputs": [
    {
     "data": {
      "text/plain": [
       "'a , b = 12 , 3.4'"
      ]
     },
     "execution_count": 7,
     "metadata": {},
     "output_type": "execute_result"
    }
   ],
   "source": [
    "sub_slotmap(code_tokens, slot_map)"
   ]
  },
  {
   "cell_type": "code",
   "execution_count": null,
   "metadata": {
    "collapsed": true
   },
   "outputs": [],
   "source": []
  }
 ],
 "metadata": {
  "kernelspec": {
   "display_name": "Python [conda env:Anaconda3]",
   "language": "python",
   "name": "conda-env-Anaconda3-py"
  },
  "language_info": {
   "codemirror_mode": {
    "name": "ipython",
    "version": 3
   },
   "file_extension": ".py",
   "mimetype": "text/x-python",
   "name": "python",
   "nbconvert_exporter": "python",
   "pygments_lexer": "ipython3",
   "version": "3.6.3"
  }
 },
 "nbformat": 4,
 "nbformat_minor": 2
}
