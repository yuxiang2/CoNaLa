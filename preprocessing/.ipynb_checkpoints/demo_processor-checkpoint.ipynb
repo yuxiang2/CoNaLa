{
 "cells": [
  {
   "cell_type": "code",
   "execution_count": 2,
   "metadata": {
    "collapsed": true
   },
   "outputs": [],
   "source": [
    "%load_ext autoreload\n",
    "%autoreload 2"
   ]
  },
  {
   "cell_type": "code",
   "execution_count": 24,
   "metadata": {
    "collapsed": true
   },
   "outputs": [],
   "source": [
    "from processor import Code_Intent_Pairs, sub_slotmap"
   ]
  },
  {
   "cell_type": "markdown",
   "metadata": {},
   "source": [
    "#### Define Object"
   ]
  },
  {
   "cell_type": "code",
   "execution_count": 25,
   "metadata": {
    "collapsed": true
   },
   "outputs": [],
   "source": [
    "code_intent_pair = Code_Intent_Pairs()"
   ]
  },
  {
   "cell_type": "markdown",
   "metadata": {},
   "source": [
    "#### Load Dictionary"
   ]
  },
  {
   "cell_type": "code",
   "execution_count": 26,
   "metadata": {
    "collapsed": true
   },
   "outputs": [],
   "source": [
    "code_intent_pair.load_dict()\n",
    "# or use \n",
    "# code_intent_pair.get_dict_from_raw()"
   ]
  },
  {
   "cell_type": "code",
   "execution_count": 27,
   "metadata": {},
   "outputs": [
    {
     "name": "stdout",
     "output_type": "stream",
     "text": [
      "['concatenate', 'elements', 'of', 'a', 'list', 'str_0', 'multiple', 'integers', 'to', 'single']\n"
     ]
    }
   ],
   "source": [
    "word_list = code_intent_pair.num2word\n",
    "print(word_list[:10])"
   ]
  },
  {
   "cell_type": "code",
   "execution_count": 28,
   "metadata": {},
   "outputs": [
    {
     "name": "stdout",
     "output_type": "stream",
     "text": [
      "[0, 1, 2, 3, 4, 5, 6, 7, 8, 9]\n"
     ]
    }
   ],
   "source": [
    "word2num = code_intent_pair.word2num\n",
    "print([word2num[word] for word in word_list[:10]])"
   ]
  },
  {
   "cell_type": "code",
   "execution_count": 29,
   "metadata": {},
   "outputs": [
    {
     "name": "stdout",
     "output_type": "stream",
     "text": [
      "['sum', '(', 'd', '*', '10', '**', 'i', 'for', ',', 'in']\n"
     ]
    }
   ],
   "source": [
    "code_token_list = code_intent_pair.num2code\n",
    "print(code_token_list[:10])"
   ]
  },
  {
   "cell_type": "code",
   "execution_count": 30,
   "metadata": {},
   "outputs": [
    {
     "name": "stdout",
     "output_type": "stream",
     "text": [
      "[0, 1, 2, 3, 4, 5, 6, 7, 8, 9]\n"
     ]
    }
   ],
   "source": [
    "code2num = code_intent_pair.code2num\n",
    "print([code2num[token] for token in code_token_list[:10]])"
   ]
  },
  {
   "cell_type": "markdown",
   "metadata": {},
   "source": [
    "#### Load Entries"
   ]
  },
  {
   "cell_type": "code",
   "execution_count": 31,
   "metadata": {},
   "outputs": [],
   "source": [
    "train_path = '../processed_corpus/train.json'\n",
    "entries = code_intent_pair.load_entries(train_path)\n",
    "# or use \n",
    "# entries = code_intent_pair.load_raw_data(train_path)"
   ]
  },
  {
   "cell_type": "code",
   "execution_count": 33,
   "metadata": {},
   "outputs": [],
   "source": [
    "entry_last = entries[-1]\n",
    "intent = entry_last['intent']\n",
    "code = entry_last['code']\n",
    "slot_map = entry_last['slot_map']\n",
    "intent_indx = entry_last['intent_indx']\n",
    "code_indx_copy = entry_last['code_indx_copy']\n",
    "code_indx_nocopy = entry_last['code_indx_nocopy']"
   ]
  },
  {
   "cell_type": "code",
   "execution_count": 34,
   "metadata": {},
   "outputs": [
    {
     "name": "stdout",
     "output_type": "stream",
     "text": [
      "['parse', 'string', 'var_0', 'into', 'a', 'datetime', 'object', 'using', 'format', 'pattern', 'str_0']\n",
      "['dateobj', '=', 'datetime', '.', 'datetime', '.', 'strptime', '(', 'var_0', ',', \"'str_0'\", ')', '.', 'date', '(', ')']\n",
      "{'var_0': {'value': 'datestr', 'quote': '`', 'type': 'var'}, 'str_0': {'value': '%Y-%m-%d', 'quote': \"'\", 'type': 'str'}}\n"
     ]
    }
   ],
   "source": [
    "print(intent)\n",
    "print(code)\n",
    "print(slot_map)"
   ]
  },
  {
   "cell_type": "code",
   "execution_count": 35,
   "metadata": {},
   "outputs": [
    {
     "name": "stdout",
     "output_type": "stream",
     "text": [
      "[73, 14, 26, 12, 3, 13, 15, 109, 16, 54, 5]\n",
      "[524, 19, 27, 22, 27, 22, 28, 1, 34, 8, 29, 17, 22, 139, 1, 17]\n",
      "[524, 19, 27, 22, 27, 22, 28, 1, 34, 8, 29, 17, 22, 139, 1, 17]\n"
     ]
    }
   ],
   "source": [
    "print(intent_indx)\n",
    "print(code_indx_copy)\n",
    "print(code_indx_nocopy)"
   ]
  },
  {
   "cell_type": "markdown",
   "metadata": {},
   "source": [
    "#### Other Useful Functions"
   ]
  },
  {
   "cell_type": "code",
   "execution_count": 37,
   "metadata": {},
   "outputs": [
    {
     "name": "stdout",
     "output_type": "stream",
     "text": [
      "['parse', 'string', 'var_0', 'into', 'a', 'datetime', 'object', 'using', 'format', 'pattern', 'str_0']\n"
     ]
    }
   ],
   "source": [
    "restored_intent = code_intent_pair.idx2intent(intent_indx)\n",
    "print(restored_intent)"
   ]
  },
  {
   "cell_type": "code",
   "execution_count": 40,
   "metadata": {},
   "outputs": [
    {
     "name": "stdout",
     "output_type": "stream",
     "text": [
      "['<unk>', '=', 'datetime', '.', 'datetime', '.', 'strptime', '(', 'var_0', ',', \"'str_0'\", ')', '.', 'date', '(', ')']\n"
     ]
    }
   ],
   "source": [
    "restored_code_no_map = code_intent_pair.idx2code(code_indx_copy, intent)\n",
    "print(restored_code_no_map)"
   ]
  },
  {
   "cell_type": "code",
   "execution_count": 44,
   "metadata": {},
   "outputs": [
    {
     "name": "stdout",
     "output_type": "stream",
     "text": [
      "<unk> = datetime . datetime . strptime ( datestr , 'str_0' ) . date ( )\n",
      "dateobj = datetime . datetime . strptime ( var_0 , 'str_0' ) . date ( )\n"
     ]
    }
   ],
   "source": [
    "restored_code = sub_slotmap(restored_code_no_map, slot_map)\n",
    "print(restored_code)\n",
    "print(' '.join(code))"
   ]
  },
  {
   "cell_type": "code",
   "execution_count": 45,
   "metadata": {},
   "outputs": [
    {
     "data": {
      "text/plain": [
       "{'str_0': {'quote': \"'\", 'type': 'str', 'value': '%Y-%m-%d'},\n",
       " 'var_0': {'quote': '`', 'type': 'var', 'value': 'datestr'}}"
      ]
     },
     "execution_count": 45,
     "metadata": {},
     "output_type": "execute_result"
    }
   ],
   "source": [
    "slot_map"
   ]
  },
  {
   "cell_type": "code",
   "execution_count": null,
   "metadata": {
    "collapsed": true
   },
   "outputs": [],
   "source": []
  }
 ],
 "metadata": {
  "kernelspec": {
   "display_name": "Python [conda env:Anaconda3]",
   "language": "python",
   "name": "conda-env-Anaconda3-py"
  },
  "language_info": {
   "codemirror_mode": {
    "name": "ipython",
    "version": 3
   },
   "file_extension": ".py",
   "mimetype": "text/x-python",
   "name": "python",
   "nbconvert_exporter": "python",
   "pygments_lexer": "ipython3",
   "version": "3.6.3"
  }
 },
 "nbformat": 4,
 "nbformat_minor": 2
}
