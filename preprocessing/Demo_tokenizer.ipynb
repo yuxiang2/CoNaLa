{
 "cells": [
  {
   "cell_type": "code",
   "execution_count": 1,
   "metadata": {
    "collapsed": true
   },
   "outputs": [],
   "source": [
    "%load_ext autoreload\n",
    "%autoreload 2"
   ]
  },
  {
   "cell_type": "code",
   "execution_count": 2,
   "metadata": {
    "collapsed": true
   },
   "outputs": [],
   "source": [
    "from tokenizer import tokenize_intent, tokenize_code, canonicalize_code"
   ]
  },
  {
   "cell_type": "code",
   "execution_count": 16,
   "metadata": {},
   "outputs": [
    {
     "name": "stdout",
     "output_type": "stream",
     "text": [
      "['convert', 'a', 'DateTime', 'string', 'back', 'to', 'a', 'DateTime', 'object', 'of', 'format', 'str_0']\n",
      "{'str_0': {'value': '%Y-%m-%d %H:%M:%S.%f', 'quote': \"'\", 'type': 'str'}}\n"
     ]
    }
   ],
   "source": [
    "intent = \"convert a DateTime string back to a DateTime object of format '%Y-%m-%d %H:%M:%S.%f'\"\n",
    "intent_tokens, slot_map = tokenize_intent(intent)\n",
    "print(intent_tokens)\n",
    "print(slot_map)"
   ]
  },
  {
   "cell_type": "code",
   "execution_count": 17,
   "metadata": {},
   "outputs": [
    {
     "name": "stdout",
     "output_type": "stream",
     "text": [
      "['datetime', '.', 'strptime', '(', \"'2010-11-13 10:33:54.227806'\", ',', \"'str_0'\", ')']\n",
      "['datetime', '.', 'strptime', '(', \"'2010-11-13 10:33:54.227806'\", ',', \"'%Y-%m-%d %H:%M:%S.%f'\", ')']\n"
     ]
    }
   ],
   "source": [
    "code = \"\"\"datetime.strptime('2010-11-13 10:33:54.227806', '%Y-%m-%d %H:%M:%S.%f')\"\"\"\n",
    "code_tokens = tokenize_code(code, slot_map)\n",
    "print(code_tokens)\n",
    "code_tokens = tokenize_code(code)\n",
    "print(code_tokens)"
   ]
  },
  {
   "cell_type": "code",
   "execution_count": null,
   "metadata": {
    "collapsed": true
   },
   "outputs": [],
   "source": []
  }
 ],
 "metadata": {
  "kernelspec": {
   "display_name": "Python [conda env:Anaconda3]",
   "language": "python",
   "name": "conda-env-Anaconda3-py"
  },
  "language_info": {
   "codemirror_mode": {
    "name": "ipython",
    "version": 3
   },
   "file_extension": ".py",
   "mimetype": "text/x-python",
   "name": "python",
   "nbconvert_exporter": "python",
   "pygments_lexer": "ipython3",
   "version": "3.6.3"
  }
 },
 "nbformat": 4,
 "nbformat_minor": 2
}
