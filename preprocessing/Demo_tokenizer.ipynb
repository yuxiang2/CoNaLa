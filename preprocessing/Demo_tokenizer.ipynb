{
 "cells": [
  {
   "cell_type": "code",
   "execution_count": 7,
   "metadata": {},
   "outputs": [
    {
     "name": "stdout",
     "output_type": "stream",
     "text": [
      "The autoreload extension is already loaded. To reload it, use:\n",
      "  %reload_ext autoreload\n"
     ]
    }
   ],
   "source": [
    "%load_ext autoreload\n",
    "%autoreload 2"
   ]
  },
  {
   "cell_type": "code",
   "execution_count": 8,
   "metadata": {
    "collapsed": true
   },
   "outputs": [],
   "source": [
    "from tokenizer import tokenize_intent, tokenize_code, canonicalize_code"
   ]
  },
  {
   "cell_type": "code",
   "execution_count": 12,
   "metadata": {},
   "outputs": [
    {
     "name": "stdout",
     "output_type": "stream",
     "text": [
      "['sum', 'all', 'elements', 'of', 'two-dimensions', 'list', 'str_0', ']']\n",
      "{'str_0': {'value': '[[1, 2, 3, 4], [2, 4, 5, 6]]', 'quote': '`', 'type': 'str'}}\n"
     ]
    }
   ],
   "source": [
    "intent = \"sum all elements of two-dimensions list `[[1, 2, 3, 4], [2, 4, 5, 6]]`]\"\n",
    "intent_tokens, slot_map = tokenize_intent(intent)\n",
    "print(intent_tokens)\n",
    "print(slot_map)"
   ]
  },
  {
   "cell_type": "code",
   "execution_count": 13,
   "metadata": {},
   "outputs": [
    {
     "name": "stdout",
     "output_type": "stream",
     "text": [
      "['sum', '(', '[', 'sum', '(', 'x', ')', 'for', 'x', 'in', '[', 'str_0', ']', ']', ')']\n",
      "['sum', '(', '[', 'sum', '(', 'x', ')', 'for', 'x', 'in', '[', '[', '1', ',', '2', ',', '3', ',', '4', ']', ',', '[', '2', ',', '4', ',', '5', ',', '6', ']', ']', ']', ')']\n"
     ]
    }
   ],
   "source": [
    "code = \"\"\"sum([sum(x) for x in [[1, 2, 3, 4], [2, 4, 5, 6]]])\"\"\"\n",
    "code_tokens = tokenize_code(code, slot_map)\n",
    "print(code_tokens)\n",
    "code_tokens = tokenize_code(code)\n",
    "print(code_tokens)"
   ]
  },
  {
   "cell_type": "code",
   "execution_count": null,
   "metadata": {
    "collapsed": true
   },
   "outputs": [],
   "source": []
  }
 ],
 "metadata": {
  "kernelspec": {
   "display_name": "Python [conda env:Anaconda3]",
   "language": "python",
   "name": "conda-env-Anaconda3-py"
  },
  "language_info": {
   "codemirror_mode": {
    "name": "ipython",
    "version": 3
   },
   "file_extension": ".py",
   "mimetype": "text/x-python",
   "name": "python",
   "nbconvert_exporter": "python",
   "pygments_lexer": "ipython3",
   "version": "3.6.3"
  }
 },
 "nbformat": 4,
 "nbformat_minor": 2
}
