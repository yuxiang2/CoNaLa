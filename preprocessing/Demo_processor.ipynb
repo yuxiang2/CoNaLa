{
 "cells": [
  {
   "cell_type": "code",
   "execution_count": 1,
   "metadata": {},
   "outputs": [],
   "source": [
    "%load_ext autoreload\n",
    "%autoreload 2"
   ]
  },
  {
   "cell_type": "code",
   "execution_count": 17,
   "metadata": {},
   "outputs": [],
   "source": [
    "from processor import Code_Intent_Pairs, sub_slotmap"
   ]
  },
  {
   "cell_type": "markdown",
   "metadata": {},
   "source": [
    "#### Define Object"
   ]
  },
  {
   "cell_type": "code",
   "execution_count": 18,
   "metadata": {
    "collapsed": true
   },
   "outputs": [],
   "source": [
    "code_intent_pair = Code_Intent_Pairs()"
   ]
  },
  {
   "cell_type": "markdown",
   "metadata": {},
   "source": [
    "#### Load Dictionary"
   ]
  },
  {
   "cell_type": "code",
   "execution_count": 23,
   "metadata": {
    "collapsed": true
   },
   "outputs": [],
   "source": [
    "code_intent_pair.load_dict()\n",
    "# or use \n",
    "# code_intent_pair.get_dict_from_raw()"
   ]
  },
  {
   "cell_type": "code",
   "execution_count": 24,
   "metadata": {},
   "outputs": [
    {
     "name": "stdout",
     "output_type": "stream",
     "text": [
      "526\n"
     ]
    }
   ],
   "source": [
    "special_symbols = code_intent_pair.get_special_symbols()\n",
    "code_pad = special_symbols['code_pad']\n",
    "code_sos = special_symbols['code_sos']\n",
    "code_eos = special_symbols['code_eos']\n",
    "word_pad = special_symbols['word_pad']\n",
    "word_sos = special_symbols['word_sos']\n",
    "word_eos = special_symbols['word_eos']\n",
    "print(code_eos)"
   ]
  },
  {
   "cell_type": "markdown",
   "metadata": {},
   "source": [
    "#### Load Entries"
   ]
  },
  {
   "cell_type": "code",
   "execution_count": 35,
   "metadata": {
    "collapsed": true
   },
   "outputs": [],
   "source": [
    "train_path = '../corpus/train.json'\n",
    "# entries = code_intent_pair.load_entries(train_path)\n",
    "# or use \n",
    "entries = code_intent_pair.load_raw_data(train_path)"
   ]
  },
  {
   "cell_type": "code",
   "execution_count": 38,
   "metadata": {
    "collapsed": true
   },
   "outputs": [],
   "source": [
    "train_path = '../processed_corpus/train.json'\n",
    "code_intent_pair.store_entries(train_path)"
   ]
  },
  {
   "cell_type": "code",
   "execution_count": 39,
   "metadata": {
    "collapsed": true
   },
   "outputs": [],
   "source": [
    "entry_last = entries[15]\n",
    "intent = entry_last['intent']\n",
    "code = entry_last['code']\n",
    "slot_map = entry_last['slot_map']\n",
    "intent_indx = entry_last['intent_indx']\n",
    "code_indx_copy = entry_last['code_indx_copy']\n",
    "code_indx_nocopy = entry_last['code_indx_nocopy']"
   ]
  },
  {
   "cell_type": "code",
   "execution_count": 40,
   "metadata": {},
   "outputs": [
    {
     "name": "stdout",
     "output_type": "stream",
     "text": [
      "['convert', 'a', 'datetime', 'object', 'var_0', 'into', 'readable', 'format', 'str_0']\n",
      "['var_0', '.', 'strftime', '(', \"'str_0'\", ')']\n",
      "{'var_0': {'value': 'my_datetime', 'quote': '`', 'type': 'var'}, 'str_0': {'value': '%B %d, %Y', 'quote': '`', 'type': 'str'}}\n"
     ]
    }
   ],
   "source": [
    "print(intent)\n",
    "print(code)\n",
    "print(slot_map)"
   ]
  },
  {
   "cell_type": "code",
   "execution_count": 41,
   "metadata": {},
   "outputs": [
    {
     "name": "stdout",
     "output_type": "stream",
     "text": [
      "[10, 3, 12, 14, 25, 11, 433, 15, 5]\n",
      "[34, 22, 65, 1, 29, 17]\n",
      "[34, 22, 65, 1, 29, 17]\n"
     ]
    }
   ],
   "source": [
    "print(intent_indx)\n",
    "print(code_indx_copy)\n",
    "print(code_indx_nocopy)"
   ]
  },
  {
   "cell_type": "code",
   "execution_count": 42,
   "metadata": {
    "collapsed": true
   },
   "outputs": [],
   "source": [
    "test_path = '../corpus/test.json'\n",
    "entries = code_intent_pair.load_raw_data(test_path)"
   ]
  },
  {
   "cell_type": "code",
   "execution_count": 44,
   "metadata": {},
   "outputs": [],
   "source": [
    "test_path = '../processed_corpus/valid.json'\n",
    "code_intent_pair.store_entries(test_path)"
   ]
  },
  {
   "cell_type": "code",
   "execution_count": 46,
   "metadata": {
    "scrolled": false
   },
   "outputs": [],
   "source": [
    "test_path = '../corpus/test.json'\n",
    "entries = code_intent_pair.load_raw_test_data(test_path)"
   ]
  },
  {
   "cell_type": "code",
   "execution_count": 47,
   "metadata": {
    "collapsed": true
   },
   "outputs": [],
   "source": [
    "test_path = '../processed_corpus/test.json'\n",
    "code_intent_pair.store_entries(test_path)"
   ]
  },
  {
   "cell_type": "markdown",
   "metadata": {},
   "source": [
    "#### Useful Decoding Functions"
   ]
  },
  {
   "cell_type": "code",
   "execution_count": 17,
   "metadata": {},
   "outputs": [
    {
     "name": "stdout",
     "output_type": "stream",
     "text": [
      "['convert', 'a', 'datetime', 'object', 'var_0', 'into', '<unk>', 'format', 'str_0']\n"
     ]
    }
   ],
   "source": [
    "restored_intent = code_intent_pair.idx2intent(intent_indx)\n",
    "print(restored_intent)"
   ]
  },
  {
   "cell_type": "code",
   "execution_count": 18,
   "metadata": {
    "scrolled": true
   },
   "outputs": [
    {
     "name": "stdout",
     "output_type": "stream",
     "text": [
      "['var_0', '.', 'strftime', '(', \"'str_0'\", ')']\n"
     ]
    }
   ],
   "source": [
    "restored_code_no_map = code_intent_pair.idx2code(code_indx_copy, intent)\n",
    "print(restored_code_no_map)"
   ]
  },
  {
   "cell_type": "code",
   "execution_count": 19,
   "metadata": {},
   "outputs": [
    {
     "name": "stdout",
     "output_type": "stream",
     "text": [
      "my_datetime.strftime('%B %d, %Y')\n"
     ]
    }
   ],
   "source": [
    "restored_code = sub_slotmap(restored_code_no_map, slot_map)\n",
    "print(restored_code)"
   ]
  },
  {
   "cell_type": "markdown",
   "metadata": {},
   "source": [
    "#### Code_Language_Model"
   ]
  },
  {
   "cell_type": "code",
   "execution_count": 26,
   "metadata": {
    "collapsed": true
   },
   "outputs": [],
   "source": [
    "from processor import Code"
   ]
  },
  {
   "cell_type": "code",
   "execution_count": 27,
   "metadata": {
    "collapsed": true
   },
   "outputs": [],
   "source": [
    "code = Code()\n",
    "code.load_dict()"
   ]
  },
  {
   "cell_type": "code",
   "execution_count": 28,
   "metadata": {},
   "outputs": [
    {
     "name": "stdout",
     "output_type": "stream",
     "text": [
      "527\n",
      "525\n",
      "526\n"
     ]
    }
   ],
   "source": [
    "special_symbols = code.get_special_symbols()\n",
    "print(special_symbols['pad'])\n",
    "print(special_symbols['sos'])\n",
    "print(special_symbols['eos'])"
   ]
  },
  {
   "cell_type": "code",
   "execution_count": 30,
   "metadata": {},
   "outputs": [
    {
     "name": "stdout",
     "output_type": "stream",
     "text": [
      "[310, 22, 524, 8, 310, 22, 524, 19, 310, 22, 524, 1, 310, 22, 524, 8, 135, 17, 161]\n"
     ]
    }
   ],
   "source": [
    "code_path = '../language_model_corpus/test.txt'\n",
    "codes_indx = code.load_data(code_path)\n",
    "print(codes_indx[0])"
   ]
  },
  {
   "cell_type": "code",
   "execution_count": 31,
   "metadata": {},
   "outputs": [
    {
     "name": "stdout",
     "output_type": "stream",
     "text": [
      "[525, 525, 525, 310, 22, 524, 8, 310, 22, 524, 19, 310, 22, 524, 1, 310, 22, 524, 8, 135, 17, 161, 526, 526, 526]\n"
     ]
    }
   ],
   "source": [
    "code.pad(pad_length = 3)\n",
    "print(codes_indx[0])"
   ]
  },
  {
   "cell_type": "code",
   "execution_count": null,
   "metadata": {
    "collapsed": true
   },
   "outputs": [],
   "source": []
  }
 ],
 "metadata": {
  "kernelspec": {
   "display_name": "Python [conda env:Anaconda3]",
   "language": "python",
   "name": "conda-env-Anaconda3-py"
  },
  "language_info": {
   "codemirror_mode": {
    "name": "ipython",
    "version": 3
   },
   "file_extension": ".py",
   "mimetype": "text/x-python",
   "name": "python",
   "nbconvert_exporter": "python",
   "pygments_lexer": "ipython3",
   "version": "3.6.3"
  }
 },
 "nbformat": 4,
 "nbformat_minor": 2
}
