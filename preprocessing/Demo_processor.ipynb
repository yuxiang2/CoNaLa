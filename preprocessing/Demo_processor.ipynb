{
 "cells": [
  {
   "cell_type": "code",
   "execution_count": 1,
   "metadata": {},
   "outputs": [],
   "source": [
    "%load_ext autoreload\n",
    "%autoreload 2"
   ]
  },
  {
   "cell_type": "code",
   "execution_count": 2,
   "metadata": {},
   "outputs": [],
   "source": [
    "from processor import Code_Intent_Pairs, sub_slotmap"
   ]
  },
  {
   "cell_type": "markdown",
   "metadata": {},
   "source": [
    "#### Define Object"
   ]
  },
  {
   "cell_type": "code",
   "execution_count": 3,
   "metadata": {},
   "outputs": [],
   "source": [
    "code_intent_pair = Code_Intent_Pairs()"
   ]
  },
  {
   "cell_type": "markdown",
   "metadata": {},
   "source": [
    "#### Load Dictionary"
   ]
  },
  {
   "cell_type": "code",
   "execution_count": 4,
   "metadata": {},
   "outputs": [],
   "source": [
    "code_intent_pair.load_dict()\n",
    "# or use \n",
    "# code_intent_pair.get_dict_from_raw()"
   ]
  },
  {
   "cell_type": "code",
   "execution_count": 5,
   "metadata": {},
   "outputs": [
    {
     "name": "stdout",
     "output_type": "stream",
     "text": [
      "467\n"
     ]
    }
   ],
   "source": [
    "special_symbols = code_intent_pair.get_special_symbols()\n",
    "code_pad = special_symbols['code_pad']\n",
    "code_sos = special_symbols['code_sos']\n",
    "code_eos = special_symbols['code_eos']\n",
    "word_pad = special_symbols['word_pad']\n",
    "word_sos = special_symbols['word_sos']\n",
    "word_eos = special_symbols['word_eos']\n",
    "print(code_eos)"
   ]
  },
  {
   "cell_type": "markdown",
   "metadata": {},
   "source": [
    "#### Load Entries"
   ]
  },
  {
   "cell_type": "code",
   "execution_count": 6,
   "metadata": {},
   "outputs": [],
   "source": [
    "train_path = '../processed_corpus/train.json'\n",
    "entries = code_intent_pair.load_entries(train_path)\n",
    "# or use \n",
    "# entries = code_intent_pair.load_raw_data(train_path)"
   ]
  },
  {
   "cell_type": "code",
   "execution_count": 7,
   "metadata": {},
   "outputs": [],
   "source": [
    "entry_last = entries[15]\n",
    "intent = entry_last['intent']\n",
    "code = entry_last['code']\n",
    "slot_map = entry_last['slot_map']\n",
    "intent_indx = entry_last['intent_indx']\n",
    "code_indx_copy = entry_last['code_indx_copy']\n",
    "code_indx_nocopy = entry_last['code_indx_nocopy']"
   ]
  },
  {
   "cell_type": "code",
   "execution_count": 8,
   "metadata": {},
   "outputs": [
    {
     "name": "stdout",
     "output_type": "stream",
     "text": [
      "['convert', 'a', 'datetime', 'object', 'var_0', 'into', 'readable', 'format', 'str_0']\n",
      "['var_0', '.', 'strftime', '(', \"'str_0'\", ')']\n",
      "{'var_0': {'value': 'my_datetime', 'quote': '`', 'type': 'var'}, 'str_0': {'value': '%B %d, %Y', 'quote': '`', 'type': 'str'}}\n"
     ]
    }
   ],
   "source": [
    "print(intent)\n",
    "print(code)\n",
    "print(slot_map)"
   ]
  },
  {
   "cell_type": "code",
   "execution_count": 9,
   "metadata": {},
   "outputs": [
    {
     "name": "stdout",
     "output_type": "stream",
     "text": [
      "[11, 3, 13, 15, 26, 12, 465, 16, 5]\n",
      "[34, 22, 65, 1, 29, 17]\n",
      "[34, 22, 65, 1, 29, 17]\n"
     ]
    }
   ],
   "source": [
    "print(intent_indx)\n",
    "print(code_indx_copy)\n",
    "print(code_indx_nocopy)"
   ]
  },
  {
   "cell_type": "code",
   "execution_count": 10,
   "metadata": {},
   "outputs": [],
   "source": [
    "code_intent_pair.pad(pad_code=True, pad_intent=False)"
   ]
  },
  {
   "cell_type": "code",
   "execution_count": 11,
   "metadata": {},
   "outputs": [
    {
     "name": "stdout",
     "output_type": "stream",
     "text": [
      "[11, 3, 13, 15, 26, 12, 465, 16, 5]\n",
      "[525, 34, 22, 65, 1, 29, 17, 526]\n",
      "[525, 34, 22, 65, 1, 29, 17, 526]\n"
     ]
    }
   ],
   "source": [
    "entry_last = entries[15]\n",
    "intent_indx = entry_last['intent_indx']\n",
    "code_indx_copy = entry_last['code_indx_copy']\n",
    "code_indx_nocopy = entry_last['code_indx_nocopy']\n",
    "print(intent_indx)\n",
    "print(code_indx_copy)\n",
    "print(code_indx_nocopy)"
   ]
  },
  {
   "cell_type": "markdown",
   "metadata": {},
   "source": [
    "#### Useful Decoding Functions"
   ]
  },
  {
   "cell_type": "code",
   "execution_count": 17,
   "metadata": {},
   "outputs": [
    {
     "name": "stdout",
     "output_type": "stream",
     "text": [
      "['convert', 'a', 'datetime', 'object', 'var_0', 'into', '<unk>', 'format', 'str_0']\n"
     ]
    }
   ],
   "source": [
    "restored_intent = code_intent_pair.idx2intent(intent_indx)\n",
    "print(restored_intent)"
   ]
  },
  {
   "cell_type": "code",
   "execution_count": 18,
   "metadata": {
    "scrolled": true
   },
   "outputs": [
    {
     "name": "stdout",
     "output_type": "stream",
     "text": [
      "['var_0', '.', 'strftime', '(', \"'str_0'\", ')']\n"
     ]
    }
   ],
   "source": [
    "restored_code_no_map = code_intent_pair.idx2code(code_indx_copy, intent)\n",
    "print(restored_code_no_map)"
   ]
  },
  {
   "cell_type": "code",
   "execution_count": 19,
   "metadata": {},
   "outputs": [
    {
     "name": "stdout",
     "output_type": "stream",
     "text": [
      "my_datetime.strftime('%B %d, %Y')\n"
     ]
    }
   ],
   "source": [
    "restored_code = sub_slotmap(restored_code_no_map, slot_map)\n",
    "print(restored_code)"
   ]
  },
  {
   "cell_type": "code",
   "execution_count": null,
   "metadata": {},
   "outputs": [],
   "source": []
  }
 ],
 "metadata": {
  "kernelspec": {
   "display_name": "Environment (conda_pytorch_p36)",
   "language": "python",
   "name": "conda_pytorch_p36"
  },
  "language_info": {
   "codemirror_mode": {
    "name": "ipython",
    "version": 3
   },
   "file_extension": ".py",
   "mimetype": "text/x-python",
   "name": "python",
   "nbconvert_exporter": "python",
   "pygments_lexer": "ipython3",
   "version": "3.6.7"
  }
 },
 "nbformat": 4,
 "nbformat_minor": 2
}
